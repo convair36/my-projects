{
 "cells": [
  {
   "cell_type": "markdown",
   "metadata": {},
   "source": [
    "<br><img width=\"480\" src=\"https://yt3.ggpht.com/ytc/AKedOLR4nocA0gcnB83XTYz1jpnL2aHJIFj5vbCNlJ4L=s900-c-k-c0x00ffffff-no-rj\">\n",
    "<hr style=\"border: 10px solid green;\" />\n",
    "\n",
    "## <span style=\"color:green\">Финальный комментарий<span>\n",
    "Спасибо за проделанную работу🤝\n",
    "\n",
    "Александр, спасибо за доработки и комментарии, всё принято👌\n",
    "    \n",
    "По поводу офорления `markdown` - есть только [гайд](https://guides.hexlet.io/markdown/) по самому `markdown`? + ниже по `Latex`, в большинстве случаев этого достаточно. А html- красота - это полагаю уже надо читать по `HTML\\CSS`\n",
    "    \n",
    "Желаю дальнейших успехов🖐\n",
    "\n",
    "Поздравляю, проект принят👍"
   ]
  },
  {
   "cell_type": "markdown",
   "metadata": {},
   "source": [
    "<div class=\"alert alert-info\">\n",
    "    <H1>Комментарий студента V1 </H1>\n",
    "    \n",
    "Спасибо за проверку и предложенные альтернативные варианты решения задач по куммулитивным выборкам!\n",
    "    <p></p>\n",
    "\n",
    " - Интересным вижу использование метода LaTex. Ну если вернее - почти год обучаюсь на курсах, а до сих пор толкового гайда по методам заполнения ячеек Markdown в юпитере (html... и прочие функции) не нашел! Может знаешь какой - нибудь толковый ресурс?\n",
    "    <p></p>\n",
    "    \n",
    " - С желтыми комментариями я согласен - предложенные варианты сделают работу нагляднее.\n",
    "    <p></p>\n",
    " \n",
    " - Про процентные пункты - косяк признаю. А ведь на это обращали внимание... 😃\n",
    "    <p></p>\n",
    "    \n",
    " - Гипотезы я добавил. Вписал их под каждым пунктом (5.8-5.11). Я в выводах предпологал что они есть, подумал что тут они не озвучиваются ( во всяком случае в теории я не увиидел, что там их прям обозначали). Но так логичнее!\n",
    "\n",
    "</div>"
   ]
  },
  {
   "cell_type": "markdown",
   "metadata": {},
   "source": [
    "<hr style=\"border: 2px solid green;\" />\n",
    "\n",
    "## Комментарий ревьювера\n",
    "\n",
    "Александр, привет! \n",
    "\n",
    "🤚Меня зовут, Олег Юрьев, я буду проверять твой проект. Если не против, я буду обращаться к тебе на _ТЫ_ . Если это неприемлемо, обязательно напиши мне в комментариях - мы перейдем на _ВЫ_ .\n",
    "\n",
    "🤝Спасибо, что сдал проект вовремя. Тобой проделана большая работа, молодец! \n",
    "\n",
    "✏️В этой тетрадке ты найдешь мои комментарии.\n",
    "\n",
    "Комментарии будут выделены:\n",
    "\n",
    "<div style=\"border-radius: 15px; box-shadow: 4px 4px 4px; border: solid green 2px; padding: 20px\"> <b>Отличная работа ✅</b><br>\n",
    "    Безупречная работа</div>       \n",
    "<br>\n",
    "<div style=\"border-radius: 15px; box-shadow: 4px 4px 4px; border: solid orange 2px; padding: 20px\"> <b>Что можно улучшить ⚠️</b><br>\n",
    "    Ничего дорабатывать не надо, данные пункты работают нормально, но есть способы улучшить. Несколько таких комментариев допустимы, но более - придется некоторые доработать. Большое кол-во мелких замечаний и помарок сказываются на общем впечатлении от работы.</div>   \n",
    "<br>\n",
    "<div style=\"border-radius: 15px; box-shadow: 4px 4px 4px; border: solid red 2px; padding: 20px\"> <b>Что необходимо доработать ⛔️</b><br>\n",
    "    Такие пункты необходимо исправить в первую очередь, чтобы я смог принять проект.</div>\n",
    " \n",
    "Не удаляй комментарии, так будем следить за динамикой 📈\n",
    "   \n",
    "Давай будем в диалоге - основные цели в диалоге:\n",
    "- обмен опытом (да я тоже учусь у студентов👨‍🎓)\n",
    "- выполнить проект еще лучше\n",
    "- помочь тебе стать аналитиком\n",
    "\n",
    "Поэтому чтобы мне проще было проверять повторно, а тебе контролировать процесс ревью, оставляй свои комментарии и выделяй их. \n",
    "    \n",
    "<div class=\"alert alert-info\" style=\"border:solid blue 2px; padding: 20px\"> <b>Комментарий студента:</b> Например, вот так.</div>\n",
    "   \n",
    "Поехали! :)\n",
    "\n",
    "<hr style=\"border: 2px solid green;\" />"
   ]
  },
  {
   "cell_type": "markdown",
   "metadata": {},
   "source": [
    "<div class=\"alert alert-info\">\n",
    "    <H1>Комментарий студента (до первого ревью) </H1>\n",
    "    \n",
    "Привет я Саша Мельников! студент группы da 1+. Присылаю свою работу по a/b тестированию. Несколько затянул со сроками - долго проверяли прошлую работу, поэтому поотстал с этим. Вообще тема показалась \"замудренной\" в части построения куммулитивных значений(много строк кода). Так что мне будет очень интересно, в том числе по твоим комментариям, осваивать эту тему! \n",
    "</div>"
   ]
  },
  {
   "cell_type": "markdown",
   "metadata": {},
   "source": [
    "## Описание данных"
   ]
  },
  {
   "cell_type": "markdown",
   "metadata": {},
   "source": [
    "**Данные для первой части:**\n",
    "\n",
    "Файл /datasets/hypothesis.csv.\n",
    "\n",
    "    Hypothesis — краткое описание гипотезы;\n",
    "    Reach — охват пользователей по 10-балльной шкале;\n",
    "    Impact — влияние на пользователей по 10-балльной шкале;\n",
    "    Confidence — уверенность в гипотезе по 10-балльной шкале;\n",
    "    Efforts — затраты ресурсов на проверку гипотезы по 10-балльной шкале. Чем больше значение Efforts, тем дороже проверка гипотезы.\n",
    "    \n",
    "**Данные для второй части:**\n",
    "\n",
    "Файл /datasets/orders.csv. Скачать датасет\n",
    "\n",
    "    transactionId — идентификатор заказа;\n",
    "    visitorId — идентификатор пользователя, совершившего заказ;\n",
    "    date — дата, когда был совершён заказ;\n",
    "    revenue — выручка заказа;\n",
    "    group — группа A/B-теста, в которую попал заказ.\n",
    "\n",
    "Файл /datasets/visitors.csv. Скачать датасет\n",
    "\n",
    "    date — дата;\n",
    "    group — группа A/B-теста;\n",
    "    visitors — количество пользователей в указанную дату в указанной группе A/B-теста"
   ]
  },
  {
   "cell_type": "markdown",
   "metadata": {},
   "source": [
    "### Описание проекта\n",
    "\n",
    "Контекст\n",
    "Вы — аналитик крупного интернет-магазина. Вместе с отделом маркетинга вы подготовили список гипотез для увеличения выручки.\n",
    "\n",
    "Приоритизируйте гипотезы, запустите A/B-тест и проанализируйте результаты.\n",
    "\n",
    "**Часть 1.** Приоритизация гипотез.\n",
    "\n",
    "В файле /datasets/hypothesis.csv 9 гипотез по увеличению выручки интернет-магазина с указанными параметрами Reach, Impact, Confidence, Effort.\n",
    "Задача\n",
    "\n",
    "    1) Примените фреймворк ICE для приоритизации гипотез. Отсортируйте их \n",
    "    по убыванию приоритета.\n",
    "    2) Примените фреймворк RICE для приоритизации гипотез. Отсортируйте их по убыванию приоритета.\n",
    "    3) Укажите, как изменилась приоритизация гипотез при применении\n",
    "    RICE вместо ICE. Объясните, почему так произошло.\n",
    "\n",
    "**Часть 2.** Анализ A/B-теста\n",
    "\n",
    "Вы провели A/B-тест и получили результаты, которые описаны\n",
    "в файлах /datasets/orders.csv и /datasets/visitors.csv.\n",
    "\n",
    "**Задача**\n",
    "\n",
    "Проанализируйте A/B-тест:\n",
    "\n",
    "    1) Постройте график кумулятивной выручки по группам. Сделайте выводы\n",
    "    и предположения.\n",
    "    \n",
    "    2) Постройте график кумулятивного среднего чека по группам. Сделайте выводы \n",
    "    и предположения.\n",
    "    \n",
    "    3) Постройте график относительного изменения кумулятивного среднего чека группы B к группе A. Сделайте выводы и предположения.\n",
    "    \n",
    "    4) Постройте график кумулятивной конверсии по группам. Сделайте \n",
    "    выводы и предположения.\n",
    "    \n",
    "    5) Постройте график относительного изменения кумулятивной конверсии группы B к группе A. Сделайте выводы и предположения.\n",
    "    \n",
    "    6) Постройте точечный график количества заказов по пользователям. Сделайте выводы и предположения.\n",
    "    \n",
    "    7) Посчитайте 95-й и 99-й перцентили количества заказов на пользователя.\n",
    "    Выберите границу для определения аномальных пользователей.\n",
    "    \n",
    "    8) Постройте точечный график стоимостей заказов. Сделайте выводы и предположения.\n",
    "    \n",
    "    9) Посчитайте 95-й и 99-й перцентили стоимости заказов. Выберите\n",
    "    границу для определения аномальных заказов.\n",
    "    \n",
    "    10) Посчитайте статистическую значимость различий в конверсии между группами\n",
    "    по «сырым» данным. Сделайте выводы и предположения.\n",
    "    \n",
    "    11) Посчитайте статистическую значимость различий в среднем чеке заказа \n",
    "    между группами по «сырым» данным. Сделайте выводы и предположения.\n",
    "    \n",
    "    12) Посчитайте статистическую значимость различий в конверсии между группами\n",
    "    по «очищенным» данным. Сделайте выводы и предположения.\n",
    "    \n",
    "    13) Посчитайте статистическую значимость различий в среднем чеке заказа между\n",
    "    группами по «очищенным» данным. Сделайте выводы и предположения.\n",
    "    \n",
    "    14) Примите решение по результатам теста и объясните его. Варианты решений: \n",
    "    1. Остановить тест, зафиксировать победу одной из групп. \n",
    "    2. Остановить тест, зафиксировать отсутствие различий между группами. \n",
    "    3. Продолжить тест."
   ]
  },
  {
   "cell_type": "markdown",
   "metadata": {},
   "source": [
    "## Загрузка данных и подготовка их к анализу"
   ]
  },
  {
   "cell_type": "markdown",
   "metadata": {},
   "source": [
    "Импортируем все необходимые для работы библиотеки:"
   ]
  },
  {
   "cell_type": "code",
   "execution_count": 1,
   "metadata": {},
   "outputs": [],
   "source": [
    "import pandas  as pd\n",
    "pd.set_option('max_colwidth', 100)# df hypothesis со столбцом с названием гипотез\n",
    "#- длинный, поэтому принудительно удлинен.\n",
    "\n",
    "import numpy as np\n",
    "import math as math\n",
    "from scipy import stats as st\n",
    "from matplotlib import pyplot  as plt\n",
    "from matplotlib.pyplot import figure\n",
    "\n",
    "import warnings\n",
    "warnings.filterwarnings(\"ignore\")"
   ]
  },
  {
   "cell_type": "markdown",
   "metadata": {},
   "source": [
    "Загрузим исходные данные в 3 новых df (`hypothesis`, `orders`, `visitors`):"
   ]
  },
  {
   "cell_type": "code",
   "execution_count": 2,
   "metadata": {},
   "outputs": [],
   "source": [
    "hypothesis = pd.read_csv('https://code.s3.yandex.net/datasets/hypothesis.csv')\n",
    "orders = pd.read_csv('https://code.s3.yandex.net/datasets/orders.csv')\n",
    "visitors = pd.read_csv('https://code.s3.yandex.net/datasets/visitors.csv')"
   ]
  },
  {
   "cell_type": "code",
   "execution_count": 3,
   "metadata": {
    "scrolled": true
   },
   "outputs": [
    {
     "name": "stdout",
     "output_type": "stream",
     "text": [
      "<class 'pandas.core.frame.DataFrame'>\n",
      "RangeIndex: 9 entries, 0 to 8\n",
      "Data columns (total 5 columns):\n",
      "Hypothesis    9 non-null object\n",
      "Reach         9 non-null int64\n",
      "Impact        9 non-null int64\n",
      "Confidence    9 non-null int64\n",
      "Efforts       9 non-null int64\n",
      "dtypes: int64(4), object(1)\n",
      "memory usage: 488.0+ bytes\n"
     ]
    }
   ],
   "source": [
    "hypothesis.info()"
   ]
  },
  {
   "cell_type": "code",
   "execution_count": 4,
   "metadata": {
    "scrolled": true
   },
   "outputs": [
    {
     "name": "stdout",
     "output_type": "stream",
     "text": [
      "<class 'pandas.core.frame.DataFrame'>\n",
      "RangeIndex: 1197 entries, 0 to 1196\n",
      "Data columns (total 5 columns):\n",
      "transactionId    1197 non-null int64\n",
      "visitorId        1197 non-null int64\n",
      "date             1197 non-null object\n",
      "revenue          1197 non-null int64\n",
      "group            1197 non-null object\n",
      "dtypes: int64(3), object(2)\n",
      "memory usage: 46.9+ KB\n"
     ]
    }
   ],
   "source": [
    "orders.info()"
   ]
  },
  {
   "cell_type": "code",
   "execution_count": 5,
   "metadata": {
    "scrolled": false
   },
   "outputs": [
    {
     "name": "stdout",
     "output_type": "stream",
     "text": [
      "<class 'pandas.core.frame.DataFrame'>\n",
      "RangeIndex: 62 entries, 0 to 61\n",
      "Data columns (total 3 columns):\n",
      "date        62 non-null object\n",
      "group       62 non-null object\n",
      "visitors    62 non-null int64\n",
      "dtypes: int64(1), object(2)\n",
      "memory usage: 1.6+ KB\n"
     ]
    }
   ],
   "source": [
    "visitors.info()"
   ]
  },
  {
   "cell_type": "markdown",
   "metadata": {},
   "source": [
    "Пропусков в данных нет, остается проверить наличие дубликатов, и столбцы с датами изменить на формат `datetime`"
   ]
  },
  {
   "cell_type": "code",
   "execution_count": 6,
   "metadata": {},
   "outputs": [],
   "source": [
    "orders['date'] = pd.to_datetime(orders['date'])\n",
    "visitors['date'] = pd.to_datetime(visitors['date'])"
   ]
  },
  {
   "cell_type": "markdown",
   "metadata": {},
   "source": [
    "Теперь дубликаты:"
   ]
  },
  {
   "cell_type": "code",
   "execution_count": 7,
   "metadata": {},
   "outputs": [
    {
     "data": {
      "text/html": [
       "<div>\n",
       "<style scoped>\n",
       "    .dataframe tbody tr th:only-of-type {\n",
       "        vertical-align: middle;\n",
       "    }\n",
       "\n",
       "    .dataframe tbody tr th {\n",
       "        vertical-align: top;\n",
       "    }\n",
       "\n",
       "    .dataframe thead th {\n",
       "        text-align: right;\n",
       "    }\n",
       "</style>\n",
       "<table border=\"1\" class=\"dataframe\">\n",
       "  <thead>\n",
       "    <tr style=\"text-align: right;\">\n",
       "      <th></th>\n",
       "      <th>transactionId</th>\n",
       "      <th>visitorId</th>\n",
       "      <th>date</th>\n",
       "      <th>revenue</th>\n",
       "      <th>group</th>\n",
       "    </tr>\n",
       "  </thead>\n",
       "  <tbody>\n",
       "    <tr>\n",
       "      <td>0</td>\n",
       "      <td>3667963787</td>\n",
       "      <td>3312258926</td>\n",
       "      <td>2019-08-15</td>\n",
       "      <td>1650</td>\n",
       "      <td>B</td>\n",
       "    </tr>\n",
       "    <tr>\n",
       "      <td>1</td>\n",
       "      <td>2804400009</td>\n",
       "      <td>3642806036</td>\n",
       "      <td>2019-08-15</td>\n",
       "      <td>730</td>\n",
       "      <td>B</td>\n",
       "    </tr>\n",
       "    <tr>\n",
       "      <td>2</td>\n",
       "      <td>2961555356</td>\n",
       "      <td>4069496402</td>\n",
       "      <td>2019-08-15</td>\n",
       "      <td>400</td>\n",
       "      <td>A</td>\n",
       "    </tr>\n",
       "    <tr>\n",
       "      <td>3</td>\n",
       "      <td>3797467345</td>\n",
       "      <td>1196621759</td>\n",
       "      <td>2019-08-15</td>\n",
       "      <td>9759</td>\n",
       "      <td>B</td>\n",
       "    </tr>\n",
       "    <tr>\n",
       "      <td>4</td>\n",
       "      <td>2282983706</td>\n",
       "      <td>2322279887</td>\n",
       "      <td>2019-08-15</td>\n",
       "      <td>2308</td>\n",
       "      <td>B</td>\n",
       "    </tr>\n",
       "    <tr>\n",
       "      <td>...</td>\n",
       "      <td>...</td>\n",
       "      <td>...</td>\n",
       "      <td>...</td>\n",
       "      <td>...</td>\n",
       "      <td>...</td>\n",
       "    </tr>\n",
       "    <tr>\n",
       "      <td>1192</td>\n",
       "      <td>2662137336</td>\n",
       "      <td>3733762160</td>\n",
       "      <td>2019-08-14</td>\n",
       "      <td>6490</td>\n",
       "      <td>B</td>\n",
       "    </tr>\n",
       "    <tr>\n",
       "      <td>1193</td>\n",
       "      <td>2203539145</td>\n",
       "      <td>370388673</td>\n",
       "      <td>2019-08-14</td>\n",
       "      <td>3190</td>\n",
       "      <td>A</td>\n",
       "    </tr>\n",
       "    <tr>\n",
       "      <td>1194</td>\n",
       "      <td>1807773912</td>\n",
       "      <td>573423106</td>\n",
       "      <td>2019-08-14</td>\n",
       "      <td>10550</td>\n",
       "      <td>A</td>\n",
       "    </tr>\n",
       "    <tr>\n",
       "      <td>1195</td>\n",
       "      <td>1947021204</td>\n",
       "      <td>1614305549</td>\n",
       "      <td>2019-08-14</td>\n",
       "      <td>100</td>\n",
       "      <td>A</td>\n",
       "    </tr>\n",
       "    <tr>\n",
       "      <td>1196</td>\n",
       "      <td>3936777065</td>\n",
       "      <td>2108080724</td>\n",
       "      <td>2019-08-15</td>\n",
       "      <td>202740</td>\n",
       "      <td>B</td>\n",
       "    </tr>\n",
       "  </tbody>\n",
       "</table>\n",
       "<p>1197 rows × 5 columns</p>\n",
       "</div>"
      ],
      "text/plain": [
       "      transactionId   visitorId       date  revenue group\n",
       "0        3667963787  3312258926 2019-08-15     1650     B\n",
       "1        2804400009  3642806036 2019-08-15      730     B\n",
       "2        2961555356  4069496402 2019-08-15      400     A\n",
       "3        3797467345  1196621759 2019-08-15     9759     B\n",
       "4        2282983706  2322279887 2019-08-15     2308     B\n",
       "...             ...         ...        ...      ...   ...\n",
       "1192     2662137336  3733762160 2019-08-14     6490     B\n",
       "1193     2203539145   370388673 2019-08-14     3190     A\n",
       "1194     1807773912   573423106 2019-08-14    10550     A\n",
       "1195     1947021204  1614305549 2019-08-14      100     A\n",
       "1196     3936777065  2108080724 2019-08-15   202740     B\n",
       "\n",
       "[1197 rows x 5 columns]"
      ]
     },
     "execution_count": 7,
     "metadata": {},
     "output_type": "execute_result"
    }
   ],
   "source": [
    "orders"
   ]
  },
  {
   "cell_type": "code",
   "execution_count": 8,
   "metadata": {},
   "outputs": [
    {
     "data": {
      "text/plain": [
       "0"
      ]
     },
     "execution_count": 8,
     "metadata": {},
     "output_type": "execute_result"
    }
   ],
   "source": [
    "orders.duplicated().sum()"
   ]
  },
  {
   "cell_type": "markdown",
   "metadata": {},
   "source": [
    "Дубликатов нет, однако исходя из специфики задания - требуется, чтобы каждая выборка пользователей была уникальная. Вероятны попадания некольких пользователй в две группы одновременно - следует таких пользователей убрать, что то другое сделать не получится."
   ]
  },
  {
   "cell_type": "code",
   "execution_count": 9,
   "metadata": {},
   "outputs": [],
   "source": [
    "a = orders['visitorId'].loc[orders['group'] =='A']\n",
    "b = orders['visitorId'].loc[orders['group'] =='B']\n",
    "c = np.intersect1d(a.values,b.values)"
   ]
  },
  {
   "cell_type": "code",
   "execution_count": 10,
   "metadata": {},
   "outputs": [
    {
     "data": {
      "text/plain": [
       "0      8300375\n",
       "1    199603092\n",
       "2    232979603\n",
       "3    237748145\n",
       "4    276558944\n",
       "dtype: int64"
      ]
     },
     "execution_count": 10,
     "metadata": {},
     "output_type": "execute_result"
    }
   ],
   "source": [
    "cp = pd.Series(c)\n",
    "cc =pd.Series(c).count()\n",
    "cp.head(5)"
   ]
  },
  {
   "cell_type": "code",
   "execution_count": 11,
   "metadata": {
    "scrolled": true
   },
   "outputs": [
    {
     "data": {
      "text/plain": [
       "58"
      ]
     },
     "execution_count": 11,
     "metadata": {},
     "output_type": "execute_result"
    }
   ],
   "source": [
    "cc"
   ]
  },
  {
   "cell_type": "markdown",
   "metadata": {},
   "source": [
    "Есть 58 пользователей одновременно попавших в 2 группы. Проверим:"
   ]
  },
  {
   "cell_type": "code",
   "execution_count": 12,
   "metadata": {
    "scrolled": true
   },
   "outputs": [
    {
     "data": {
      "text/html": [
       "<div>\n",
       "<style scoped>\n",
       "    .dataframe tbody tr th:only-of-type {\n",
       "        vertical-align: middle;\n",
       "    }\n",
       "\n",
       "    .dataframe tbody tr th {\n",
       "        vertical-align: top;\n",
       "    }\n",
       "\n",
       "    .dataframe thead th {\n",
       "        text-align: right;\n",
       "    }\n",
       "</style>\n",
       "<table border=\"1\" class=\"dataframe\">\n",
       "  <thead>\n",
       "    <tr style=\"text-align: right;\">\n",
       "      <th></th>\n",
       "      <th>transactionId</th>\n",
       "      <th>visitorId</th>\n",
       "      <th>date</th>\n",
       "      <th>revenue</th>\n",
       "      <th>group</th>\n",
       "    </tr>\n",
       "  </thead>\n",
       "  <tbody>\n",
       "    <tr>\n",
       "      <td>85</td>\n",
       "      <td>1701653566</td>\n",
       "      <td>276558944</td>\n",
       "      <td>2019-08-22</td>\n",
       "      <td>12350</td>\n",
       "      <td>B</td>\n",
       "    </tr>\n",
       "    <tr>\n",
       "      <td>1093</td>\n",
       "      <td>3894437543</td>\n",
       "      <td>276558944</td>\n",
       "      <td>2019-08-12</td>\n",
       "      <td>5050</td>\n",
       "      <td>A</td>\n",
       "    </tr>\n",
       "  </tbody>\n",
       "</table>\n",
       "</div>"
      ],
      "text/plain": [
       "      transactionId  visitorId       date  revenue group\n",
       "85       1701653566  276558944 2019-08-22    12350     B\n",
       "1093     3894437543  276558944 2019-08-12     5050     A"
      ]
     },
     "execution_count": 12,
     "metadata": {},
     "output_type": "execute_result"
    }
   ],
   "source": [
    "orders.loc[orders['visitorId'] == 276558944]"
   ]
  },
  {
   "cell_type": "markdown",
   "metadata": {},
   "source": [
    "Действительно. Удалим таких пользователей:"
   ]
  },
  {
   "cell_type": "code",
   "execution_count": 13,
   "metadata": {},
   "outputs": [],
   "source": [
    "orders = orders.loc[~orders['visitorId'].isin(cp)]"
   ]
  },
  {
   "cell_type": "code",
   "execution_count": 14,
   "metadata": {
    "scrolled": false
   },
   "outputs": [
    {
     "data": {
      "text/html": [
       "<div>\n",
       "<style scoped>\n",
       "    .dataframe tbody tr th:only-of-type {\n",
       "        vertical-align: middle;\n",
       "    }\n",
       "\n",
       "    .dataframe tbody tr th {\n",
       "        vertical-align: top;\n",
       "    }\n",
       "\n",
       "    .dataframe thead th {\n",
       "        text-align: right;\n",
       "    }\n",
       "</style>\n",
       "<table border=\"1\" class=\"dataframe\">\n",
       "  <thead>\n",
       "    <tr style=\"text-align: right;\">\n",
       "      <th></th>\n",
       "      <th>transactionId</th>\n",
       "      <th>visitorId</th>\n",
       "      <th>date</th>\n",
       "      <th>revenue</th>\n",
       "      <th>group</th>\n",
       "    </tr>\n",
       "  </thead>\n",
       "  <tbody>\n",
       "    <tr>\n",
       "      <td>0</td>\n",
       "      <td>3667963787</td>\n",
       "      <td>3312258926</td>\n",
       "      <td>2019-08-15</td>\n",
       "      <td>1650</td>\n",
       "      <td>B</td>\n",
       "    </tr>\n",
       "    <tr>\n",
       "      <td>1</td>\n",
       "      <td>2804400009</td>\n",
       "      <td>3642806036</td>\n",
       "      <td>2019-08-15</td>\n",
       "      <td>730</td>\n",
       "      <td>B</td>\n",
       "    </tr>\n",
       "    <tr>\n",
       "      <td>3</td>\n",
       "      <td>3797467345</td>\n",
       "      <td>1196621759</td>\n",
       "      <td>2019-08-15</td>\n",
       "      <td>9759</td>\n",
       "      <td>B</td>\n",
       "    </tr>\n",
       "    <tr>\n",
       "      <td>4</td>\n",
       "      <td>2282983706</td>\n",
       "      <td>2322279887</td>\n",
       "      <td>2019-08-15</td>\n",
       "      <td>2308</td>\n",
       "      <td>B</td>\n",
       "    </tr>\n",
       "    <tr>\n",
       "      <td>5</td>\n",
       "      <td>182168103</td>\n",
       "      <td>935554773</td>\n",
       "      <td>2019-08-15</td>\n",
       "      <td>2210</td>\n",
       "      <td>B</td>\n",
       "    </tr>\n",
       "    <tr>\n",
       "      <td>...</td>\n",
       "      <td>...</td>\n",
       "      <td>...</td>\n",
       "      <td>...</td>\n",
       "      <td>...</td>\n",
       "      <td>...</td>\n",
       "    </tr>\n",
       "    <tr>\n",
       "      <td>1191</td>\n",
       "      <td>3592955527</td>\n",
       "      <td>608641596</td>\n",
       "      <td>2019-08-14</td>\n",
       "      <td>16490</td>\n",
       "      <td>B</td>\n",
       "    </tr>\n",
       "    <tr>\n",
       "      <td>1192</td>\n",
       "      <td>2662137336</td>\n",
       "      <td>3733762160</td>\n",
       "      <td>2019-08-14</td>\n",
       "      <td>6490</td>\n",
       "      <td>B</td>\n",
       "    </tr>\n",
       "    <tr>\n",
       "      <td>1193</td>\n",
       "      <td>2203539145</td>\n",
       "      <td>370388673</td>\n",
       "      <td>2019-08-14</td>\n",
       "      <td>3190</td>\n",
       "      <td>A</td>\n",
       "    </tr>\n",
       "    <tr>\n",
       "      <td>1194</td>\n",
       "      <td>1807773912</td>\n",
       "      <td>573423106</td>\n",
       "      <td>2019-08-14</td>\n",
       "      <td>10550</td>\n",
       "      <td>A</td>\n",
       "    </tr>\n",
       "    <tr>\n",
       "      <td>1196</td>\n",
       "      <td>3936777065</td>\n",
       "      <td>2108080724</td>\n",
       "      <td>2019-08-15</td>\n",
       "      <td>202740</td>\n",
       "      <td>B</td>\n",
       "    </tr>\n",
       "  </tbody>\n",
       "</table>\n",
       "<p>1016 rows × 5 columns</p>\n",
       "</div>"
      ],
      "text/plain": [
       "      transactionId   visitorId       date  revenue group\n",
       "0        3667963787  3312258926 2019-08-15     1650     B\n",
       "1        2804400009  3642806036 2019-08-15      730     B\n",
       "3        3797467345  1196621759 2019-08-15     9759     B\n",
       "4        2282983706  2322279887 2019-08-15     2308     B\n",
       "5         182168103   935554773 2019-08-15     2210     B\n",
       "...             ...         ...        ...      ...   ...\n",
       "1191     3592955527   608641596 2019-08-14    16490     B\n",
       "1192     2662137336  3733762160 2019-08-14     6490     B\n",
       "1193     2203539145   370388673 2019-08-14     3190     A\n",
       "1194     1807773912   573423106 2019-08-14    10550     A\n",
       "1196     3936777065  2108080724 2019-08-15   202740     B\n",
       "\n",
       "[1016 rows x 5 columns]"
      ]
     },
     "execution_count": 14,
     "metadata": {},
     "output_type": "execute_result"
    }
   ],
   "source": [
    "orders"
   ]
  },
  {
   "cell_type": "markdown",
   "metadata": {},
   "source": [
    "стало 1016 записей (было 1197). При условии что было 58 поаторений ( 116 записей итого минимум). Кто - то из пользователей появлялся больше двух раз. Но ничего не сделаешь.\n",
    "\n",
    "Проверим еще раз, что повторений не осталось:"
   ]
  },
  {
   "cell_type": "code",
   "execution_count": 15,
   "metadata": {},
   "outputs": [],
   "source": [
    "a = orders['visitorId'].loc[orders['group'] =='A']\n",
    "b = orders['visitorId'].loc[orders['group'] =='B']\n",
    "c = np.intersect1d(a.values,b.values)"
   ]
  },
  {
   "cell_type": "code",
   "execution_count": 16,
   "metadata": {},
   "outputs": [
    {
     "data": {
      "text/plain": [
       "0"
      ]
     },
     "execution_count": 16,
     "metadata": {},
     "output_type": "execute_result"
    }
   ],
   "source": [
    "cp = pd.Series(c)\n",
    "cc =pd.Series(c).count()\n",
    "cc"
   ]
  },
  {
   "cell_type": "markdown",
   "metadata": {},
   "source": [
    "Отлично повторений больше нет!\n",
    "Посмотрим далее на df `visitors`:"
   ]
  },
  {
   "cell_type": "code",
   "execution_count": 17,
   "metadata": {
    "scrolled": true
   },
   "outputs": [
    {
     "data": {
      "text/plain": [
       "0"
      ]
     },
     "execution_count": 17,
     "metadata": {},
     "output_type": "execute_result"
    }
   ],
   "source": [
    "visitors.duplicated().sum()"
   ]
  },
  {
   "cell_type": "code",
   "execution_count": 18,
   "metadata": {},
   "outputs": [
    {
     "data": {
      "text/html": [
       "<div>\n",
       "<style scoped>\n",
       "    .dataframe tbody tr th:only-of-type {\n",
       "        vertical-align: middle;\n",
       "    }\n",
       "\n",
       "    .dataframe tbody tr th {\n",
       "        vertical-align: top;\n",
       "    }\n",
       "\n",
       "    .dataframe thead th {\n",
       "        text-align: right;\n",
       "    }\n",
       "</style>\n",
       "<table border=\"1\" class=\"dataframe\">\n",
       "  <thead>\n",
       "    <tr style=\"text-align: right;\">\n",
       "      <th></th>\n",
       "      <th>date</th>\n",
       "      <th>group</th>\n",
       "      <th>visitors</th>\n",
       "    </tr>\n",
       "  </thead>\n",
       "  <tbody>\n",
       "    <tr>\n",
       "      <td>0</td>\n",
       "      <td>2019-08-01</td>\n",
       "      <td>A</td>\n",
       "      <td>719</td>\n",
       "    </tr>\n",
       "    <tr>\n",
       "      <td>1</td>\n",
       "      <td>2019-08-02</td>\n",
       "      <td>A</td>\n",
       "      <td>619</td>\n",
       "    </tr>\n",
       "    <tr>\n",
       "      <td>2</td>\n",
       "      <td>2019-08-03</td>\n",
       "      <td>A</td>\n",
       "      <td>507</td>\n",
       "    </tr>\n",
       "    <tr>\n",
       "      <td>3</td>\n",
       "      <td>2019-08-04</td>\n",
       "      <td>A</td>\n",
       "      <td>717</td>\n",
       "    </tr>\n",
       "    <tr>\n",
       "      <td>4</td>\n",
       "      <td>2019-08-05</td>\n",
       "      <td>A</td>\n",
       "      <td>756</td>\n",
       "    </tr>\n",
       "    <tr>\n",
       "      <td>...</td>\n",
       "      <td>...</td>\n",
       "      <td>...</td>\n",
       "      <td>...</td>\n",
       "    </tr>\n",
       "    <tr>\n",
       "      <td>57</td>\n",
       "      <td>2019-08-27</td>\n",
       "      <td>B</td>\n",
       "      <td>720</td>\n",
       "    </tr>\n",
       "    <tr>\n",
       "      <td>58</td>\n",
       "      <td>2019-08-28</td>\n",
       "      <td>B</td>\n",
       "      <td>654</td>\n",
       "    </tr>\n",
       "    <tr>\n",
       "      <td>59</td>\n",
       "      <td>2019-08-29</td>\n",
       "      <td>B</td>\n",
       "      <td>531</td>\n",
       "    </tr>\n",
       "    <tr>\n",
       "      <td>60</td>\n",
       "      <td>2019-08-30</td>\n",
       "      <td>B</td>\n",
       "      <td>490</td>\n",
       "    </tr>\n",
       "    <tr>\n",
       "      <td>61</td>\n",
       "      <td>2019-08-31</td>\n",
       "      <td>B</td>\n",
       "      <td>718</td>\n",
       "    </tr>\n",
       "  </tbody>\n",
       "</table>\n",
       "<p>62 rows × 3 columns</p>\n",
       "</div>"
      ],
      "text/plain": [
       "         date group  visitors\n",
       "0  2019-08-01     A       719\n",
       "1  2019-08-02     A       619\n",
       "2  2019-08-03     A       507\n",
       "3  2019-08-04     A       717\n",
       "4  2019-08-05     A       756\n",
       "..        ...   ...       ...\n",
       "57 2019-08-27     B       720\n",
       "58 2019-08-28     B       654\n",
       "59 2019-08-29     B       531\n",
       "60 2019-08-30     B       490\n",
       "61 2019-08-31     B       718\n",
       "\n",
       "[62 rows x 3 columns]"
      ]
     },
     "execution_count": 18,
     "metadata": {},
     "output_type": "execute_result"
    }
   ],
   "source": [
    "visitors"
   ]
  },
  {
   "cell_type": "markdown",
   "metadata": {},
   "source": [
    "<div style=\"border-radius: 15px; box-shadow: 4px 4px 4px; border: solid green 2px; padding: 20px\"> <b>Отличная работа - ✅</b><br>\n",
    "Молодец, что проверил пересечение пользователей👍 Есть небольшой нюанс - тк удалить таких пользователей можно только из заказов, а таблица визитов уже агрегирована по дням, то возникает логичный вопрос, насколько такое действие оправдано. Моё решение было бы таким: проверить, оставить пользователей как есть , но обязательно написать это красными буквами в общем выводе</div> <br>"
   ]
  },
  {
   "cell_type": "markdown",
   "metadata": {},
   "source": [
    "Так же отсутствуют - замечательно.\n",
    "\n",
    "Посмотрим содержимое df `hypothesis`: "
   ]
  },
  {
   "cell_type": "code",
   "execution_count": 19,
   "metadata": {
    "scrolled": true
   },
   "outputs": [
    {
     "data": {
      "text/html": [
       "<div>\n",
       "<style scoped>\n",
       "    .dataframe tbody tr th:only-of-type {\n",
       "        vertical-align: middle;\n",
       "    }\n",
       "\n",
       "    .dataframe tbody tr th {\n",
       "        vertical-align: top;\n",
       "    }\n",
       "\n",
       "    .dataframe thead th {\n",
       "        text-align: right;\n",
       "    }\n",
       "</style>\n",
       "<table border=\"1\" class=\"dataframe\">\n",
       "  <thead>\n",
       "    <tr style=\"text-align: right;\">\n",
       "      <th></th>\n",
       "      <th>Hypothesis</th>\n",
       "      <th>Reach</th>\n",
       "      <th>Impact</th>\n",
       "      <th>Confidence</th>\n",
       "      <th>Efforts</th>\n",
       "    </tr>\n",
       "  </thead>\n",
       "  <tbody>\n",
       "    <tr>\n",
       "      <td>0</td>\n",
       "      <td>Добавить два новых канала привлечения трафика, что позволит привлекать на 30% больше пользователей</td>\n",
       "      <td>3</td>\n",
       "      <td>10</td>\n",
       "      <td>8</td>\n",
       "      <td>6</td>\n",
       "    </tr>\n",
       "    <tr>\n",
       "      <td>1</td>\n",
       "      <td>Запустить собственную службу доставки, что сократит срок доставки заказов</td>\n",
       "      <td>2</td>\n",
       "      <td>5</td>\n",
       "      <td>4</td>\n",
       "      <td>10</td>\n",
       "    </tr>\n",
       "    <tr>\n",
       "      <td>2</td>\n",
       "      <td>Добавить блоки рекомендаций товаров на сайт интернет магазина, чтобы повысить конверсию и средни...</td>\n",
       "      <td>8</td>\n",
       "      <td>3</td>\n",
       "      <td>7</td>\n",
       "      <td>3</td>\n",
       "    </tr>\n",
       "    <tr>\n",
       "      <td>3</td>\n",
       "      <td>Изменить структура категорий, что увеличит конверсию, т.к. пользователи быстрее найдут нужный товар</td>\n",
       "      <td>8</td>\n",
       "      <td>3</td>\n",
       "      <td>3</td>\n",
       "      <td>8</td>\n",
       "    </tr>\n",
       "    <tr>\n",
       "      <td>4</td>\n",
       "      <td>Изменить цвет фона главной страницы, чтобы увеличить вовлеченность пользователей</td>\n",
       "      <td>3</td>\n",
       "      <td>1</td>\n",
       "      <td>1</td>\n",
       "      <td>1</td>\n",
       "    </tr>\n",
       "    <tr>\n",
       "      <td>5</td>\n",
       "      <td>Добавить страницу отзывов клиентов о магазине, что позволит увеличить количество заказов</td>\n",
       "      <td>3</td>\n",
       "      <td>2</td>\n",
       "      <td>2</td>\n",
       "      <td>3</td>\n",
       "    </tr>\n",
       "    <tr>\n",
       "      <td>6</td>\n",
       "      <td>Показать на главной странице баннеры с актуальными акциями и распродажами, чтобы увеличить конве...</td>\n",
       "      <td>5</td>\n",
       "      <td>3</td>\n",
       "      <td>8</td>\n",
       "      <td>3</td>\n",
       "    </tr>\n",
       "    <tr>\n",
       "      <td>7</td>\n",
       "      <td>Добавить форму подписки на все основные страницы, чтобы собрать базу клиентов для email-рассылок</td>\n",
       "      <td>10</td>\n",
       "      <td>7</td>\n",
       "      <td>8</td>\n",
       "      <td>5</td>\n",
       "    </tr>\n",
       "    <tr>\n",
       "      <td>8</td>\n",
       "      <td>Запустить акцию, дающую скидку на товар в день рождения</td>\n",
       "      <td>1</td>\n",
       "      <td>9</td>\n",
       "      <td>9</td>\n",
       "      <td>5</td>\n",
       "    </tr>\n",
       "  </tbody>\n",
       "</table>\n",
       "</div>"
      ],
      "text/plain": [
       "                                                                                            Hypothesis  \\\n",
       "0   Добавить два новых канала привлечения трафика, что позволит привлекать на 30% больше пользователей   \n",
       "1                            Запустить собственную службу доставки, что сократит срок доставки заказов   \n",
       "2  Добавить блоки рекомендаций товаров на сайт интернет магазина, чтобы повысить конверсию и средни...   \n",
       "3  Изменить структура категорий, что увеличит конверсию, т.к. пользователи быстрее найдут нужный товар   \n",
       "4                     Изменить цвет фона главной страницы, чтобы увеличить вовлеченность пользователей   \n",
       "5             Добавить страницу отзывов клиентов о магазине, что позволит увеличить количество заказов   \n",
       "6  Показать на главной странице баннеры с актуальными акциями и распродажами, чтобы увеличить конве...   \n",
       "7     Добавить форму подписки на все основные страницы, чтобы собрать базу клиентов для email-рассылок   \n",
       "8                                              Запустить акцию, дающую скидку на товар в день рождения   \n",
       "\n",
       "   Reach  Impact  Confidence  Efforts  \n",
       "0      3      10           8        6  \n",
       "1      2       5           4       10  \n",
       "2      8       3           7        3  \n",
       "3      8       3           3        8  \n",
       "4      3       1           1        1  \n",
       "5      3       2           2        3  \n",
       "6      5       3           8        3  \n",
       "7     10       7           8        5  \n",
       "8      1       9           9        5  "
      ]
     },
     "execution_count": 19,
     "metadata": {},
     "output_type": "execute_result"
    }
   ],
   "source": [
    "hypothesis"
   ]
  },
  {
   "cell_type": "markdown",
   "metadata": {},
   "source": [
    "Дубликотов здесь тоже нет."
   ]
  },
  {
   "cell_type": "markdown",
   "metadata": {},
   "source": [
    "**Вывод:** Отличные данные, манипуляций по предобработке делать не пришлось!"
   ]
  },
  {
   "cell_type": "markdown",
   "metadata": {},
   "source": [
    "## Приоритизация гипотез"
   ]
  },
  {
   "cell_type": "markdown",
   "metadata": {},
   "source": [
    "Переходим к первой части исследования: \"Приотеризация гипотез\".\n",
    "\n",
    "Параметры `Reach`, `Impact`, `Confidence`, `Efforts` заполненны - значит можем сразу считать фреймворки `ICE` и `RICE`:"
   ]
  },
  {
   "cell_type": "code",
   "execution_count": 20,
   "metadata": {},
   "outputs": [],
   "source": [
    "hypothesis['ICE'] = hypothesis['Impact']*hypothesis['Confidence']/hypothesis['Efforts']\n",
    "hypothesis['RICE'] = hypothesis['ICE']*hypothesis['Reach']"
   ]
  },
  {
   "cell_type": "markdown",
   "metadata": {},
   "source": [
    "Посмотрим на приотеризацию по `ICE`:"
   ]
  },
  {
   "cell_type": "code",
   "execution_count": 21,
   "metadata": {
    "scrolled": false
   },
   "outputs": [
    {
     "data": {
      "text/html": [
       "<div>\n",
       "<style scoped>\n",
       "    .dataframe tbody tr th:only-of-type {\n",
       "        vertical-align: middle;\n",
       "    }\n",
       "\n",
       "    .dataframe tbody tr th {\n",
       "        vertical-align: top;\n",
       "    }\n",
       "\n",
       "    .dataframe thead th {\n",
       "        text-align: right;\n",
       "    }\n",
       "</style>\n",
       "<table border=\"1\" class=\"dataframe\">\n",
       "  <thead>\n",
       "    <tr style=\"text-align: right;\">\n",
       "      <th></th>\n",
       "      <th>Hypothesis</th>\n",
       "      <th>ICE</th>\n",
       "    </tr>\n",
       "  </thead>\n",
       "  <tbody>\n",
       "    <tr>\n",
       "      <td>8</td>\n",
       "      <td>Запустить акцию, дающую скидку на товар в день рождения</td>\n",
       "      <td>16.200000</td>\n",
       "    </tr>\n",
       "    <tr>\n",
       "      <td>0</td>\n",
       "      <td>Добавить два новых канала привлечения трафика, что позволит привлекать на 30% больше пользователей</td>\n",
       "      <td>13.333333</td>\n",
       "    </tr>\n",
       "    <tr>\n",
       "      <td>7</td>\n",
       "      <td>Добавить форму подписки на все основные страницы, чтобы собрать базу клиентов для email-рассылок</td>\n",
       "      <td>11.200000</td>\n",
       "    </tr>\n",
       "    <tr>\n",
       "      <td>6</td>\n",
       "      <td>Показать на главной странице баннеры с актуальными акциями и распродажами, чтобы увеличить конве...</td>\n",
       "      <td>8.000000</td>\n",
       "    </tr>\n",
       "    <tr>\n",
       "      <td>2</td>\n",
       "      <td>Добавить блоки рекомендаций товаров на сайт интернет магазина, чтобы повысить конверсию и средни...</td>\n",
       "      <td>7.000000</td>\n",
       "    </tr>\n",
       "    <tr>\n",
       "      <td>1</td>\n",
       "      <td>Запустить собственную службу доставки, что сократит срок доставки заказов</td>\n",
       "      <td>2.000000</td>\n",
       "    </tr>\n",
       "    <tr>\n",
       "      <td>5</td>\n",
       "      <td>Добавить страницу отзывов клиентов о магазине, что позволит увеличить количество заказов</td>\n",
       "      <td>1.333333</td>\n",
       "    </tr>\n",
       "    <tr>\n",
       "      <td>3</td>\n",
       "      <td>Изменить структура категорий, что увеличит конверсию, т.к. пользователи быстрее найдут нужный товар</td>\n",
       "      <td>1.125000</td>\n",
       "    </tr>\n",
       "    <tr>\n",
       "      <td>4</td>\n",
       "      <td>Изменить цвет фона главной страницы, чтобы увеличить вовлеченность пользователей</td>\n",
       "      <td>1.000000</td>\n",
       "    </tr>\n",
       "  </tbody>\n",
       "</table>\n",
       "</div>"
      ],
      "text/plain": [
       "                                                                                            Hypothesis  \\\n",
       "8                                              Запустить акцию, дающую скидку на товар в день рождения   \n",
       "0   Добавить два новых канала привлечения трафика, что позволит привлекать на 30% больше пользователей   \n",
       "7     Добавить форму подписки на все основные страницы, чтобы собрать базу клиентов для email-рассылок   \n",
       "6  Показать на главной странице баннеры с актуальными акциями и распродажами, чтобы увеличить конве...   \n",
       "2  Добавить блоки рекомендаций товаров на сайт интернет магазина, чтобы повысить конверсию и средни...   \n",
       "1                            Запустить собственную службу доставки, что сократит срок доставки заказов   \n",
       "5             Добавить страницу отзывов клиентов о магазине, что позволит увеличить количество заказов   \n",
       "3  Изменить структура категорий, что увеличит конверсию, т.к. пользователи быстрее найдут нужный товар   \n",
       "4                     Изменить цвет фона главной страницы, чтобы увеличить вовлеченность пользователей   \n",
       "\n",
       "         ICE  \n",
       "8  16.200000  \n",
       "0  13.333333  \n",
       "7  11.200000  \n",
       "6   8.000000  \n",
       "2   7.000000  \n",
       "1   2.000000  \n",
       "5   1.333333  \n",
       "3   1.125000  \n",
       "4   1.000000  "
      ]
     },
     "execution_count": 21,
     "metadata": {},
     "output_type": "execute_result"
    }
   ],
   "source": [
    "hypothesis[['Hypothesis','ICE']].sort_values(by ='ICE', ascending=False)"
   ]
  },
  {
   "cell_type": "markdown",
   "metadata": {},
   "source": [
    "На первом месте - 8я (9я) гипотеза 'Запустить акцию, дающую скидку на товар в день рождения'. \n",
    "\n",
    "На втором - 0я (первая) 'Добавить два новых канала привлечения трафика, что позволит привлекать на 30% больше пользователей'\n",
    "\n",
    "На третьем - 7я (восьмая) 'Добавить форму подписки на все основные страницы, чтобы собрать базу клиентов для email-рассылок'\n",
    "\n",
    "На четветом - 6я (седьмая) 'Показать на главной странице баннеры с актуальными акциями и распродажами, чтобы увеличить конверсию'"
   ]
  },
  {
   "cell_type": "markdown",
   "metadata": {},
   "source": [
    "Теперь по `RICE`:"
   ]
  },
  {
   "cell_type": "code",
   "execution_count": 22,
   "metadata": {
    "scrolled": true
   },
   "outputs": [
    {
     "data": {
      "text/html": [
       "<div>\n",
       "<style scoped>\n",
       "    .dataframe tbody tr th:only-of-type {\n",
       "        vertical-align: middle;\n",
       "    }\n",
       "\n",
       "    .dataframe tbody tr th {\n",
       "        vertical-align: top;\n",
       "    }\n",
       "\n",
       "    .dataframe thead th {\n",
       "        text-align: right;\n",
       "    }\n",
       "</style>\n",
       "<table border=\"1\" class=\"dataframe\">\n",
       "  <thead>\n",
       "    <tr style=\"text-align: right;\">\n",
       "      <th></th>\n",
       "      <th>Hypothesis</th>\n",
       "      <th>RICE</th>\n",
       "    </tr>\n",
       "  </thead>\n",
       "  <tbody>\n",
       "    <tr>\n",
       "      <td>7</td>\n",
       "      <td>Добавить форму подписки на все основные страницы, чтобы собрать базу клиентов для email-рассылок</td>\n",
       "      <td>112.0</td>\n",
       "    </tr>\n",
       "    <tr>\n",
       "      <td>2</td>\n",
       "      <td>Добавить блоки рекомендаций товаров на сайт интернет магазина, чтобы повысить конверсию и средни...</td>\n",
       "      <td>56.0</td>\n",
       "    </tr>\n",
       "    <tr>\n",
       "      <td>0</td>\n",
       "      <td>Добавить два новых канала привлечения трафика, что позволит привлекать на 30% больше пользователей</td>\n",
       "      <td>40.0</td>\n",
       "    </tr>\n",
       "    <tr>\n",
       "      <td>6</td>\n",
       "      <td>Показать на главной странице баннеры с актуальными акциями и распродажами, чтобы увеличить конве...</td>\n",
       "      <td>40.0</td>\n",
       "    </tr>\n",
       "    <tr>\n",
       "      <td>8</td>\n",
       "      <td>Запустить акцию, дающую скидку на товар в день рождения</td>\n",
       "      <td>16.2</td>\n",
       "    </tr>\n",
       "    <tr>\n",
       "      <td>3</td>\n",
       "      <td>Изменить структура категорий, что увеличит конверсию, т.к. пользователи быстрее найдут нужный товар</td>\n",
       "      <td>9.0</td>\n",
       "    </tr>\n",
       "    <tr>\n",
       "      <td>1</td>\n",
       "      <td>Запустить собственную службу доставки, что сократит срок доставки заказов</td>\n",
       "      <td>4.0</td>\n",
       "    </tr>\n",
       "    <tr>\n",
       "      <td>5</td>\n",
       "      <td>Добавить страницу отзывов клиентов о магазине, что позволит увеличить количество заказов</td>\n",
       "      <td>4.0</td>\n",
       "    </tr>\n",
       "    <tr>\n",
       "      <td>4</td>\n",
       "      <td>Изменить цвет фона главной страницы, чтобы увеличить вовлеченность пользователей</td>\n",
       "      <td>3.0</td>\n",
       "    </tr>\n",
       "  </tbody>\n",
       "</table>\n",
       "</div>"
      ],
      "text/plain": [
       "                                                                                            Hypothesis  \\\n",
       "7     Добавить форму подписки на все основные страницы, чтобы собрать базу клиентов для email-рассылок   \n",
       "2  Добавить блоки рекомендаций товаров на сайт интернет магазина, чтобы повысить конверсию и средни...   \n",
       "0   Добавить два новых канала привлечения трафика, что позволит привлекать на 30% больше пользователей   \n",
       "6  Показать на главной странице баннеры с актуальными акциями и распродажами, чтобы увеличить конве...   \n",
       "8                                              Запустить акцию, дающую скидку на товар в день рождения   \n",
       "3  Изменить структура категорий, что увеличит конверсию, т.к. пользователи быстрее найдут нужный товар   \n",
       "1                            Запустить собственную службу доставки, что сократит срок доставки заказов   \n",
       "5             Добавить страницу отзывов клиентов о магазине, что позволит увеличить количество заказов   \n",
       "4                     Изменить цвет фона главной страницы, чтобы увеличить вовлеченность пользователей   \n",
       "\n",
       "    RICE  \n",
       "7  112.0  \n",
       "2   56.0  \n",
       "0   40.0  \n",
       "6   40.0  \n",
       "8   16.2  \n",
       "3    9.0  \n",
       "1    4.0  \n",
       "5    4.0  \n",
       "4    3.0  "
      ]
     },
     "execution_count": 22,
     "metadata": {},
     "output_type": "execute_result"
    }
   ],
   "source": [
    "hypothesis[['Hypothesis','RICE']].sort_values(by ='RICE', ascending=False)"
   ]
  },
  {
   "cell_type": "markdown",
   "metadata": {},
   "source": [
    "На первом - 7я (восьмая) 'Добавить форму подписки на все основные страницы, чтобы собрать базу клиентов для email-рассылок'\n",
    "\n",
    "На втором - 2я (третья) 'Добавить блоки рекомендаций товаров на сайт интернет магазина, чтобы повысить конверсию и средние'\n",
    "\n",
    "На третьем месте - 0я (первая) 'Добавить два новых канала привлечения трафика, что позволит привлекать на 30% больше пользователей'  и \n",
    "\n",
    "'Показать на главной странице баннеры с актуальными акциями и распродажами, чтобы увеличить конверсию'"
   ]
  },
  {
   "cell_type": "code",
   "execution_count": 23,
   "metadata": {},
   "outputs": [
    {
     "data": {
      "text/html": [
       "<div>\n",
       "<style scoped>\n",
       "    .dataframe tbody tr th:only-of-type {\n",
       "        vertical-align: middle;\n",
       "    }\n",
       "\n",
       "    .dataframe tbody tr th {\n",
       "        vertical-align: top;\n",
       "    }\n",
       "\n",
       "    .dataframe thead th {\n",
       "        text-align: right;\n",
       "    }\n",
       "</style>\n",
       "<table border=\"1\" class=\"dataframe\">\n",
       "  <thead>\n",
       "    <tr style=\"text-align: right;\">\n",
       "      <th></th>\n",
       "      <th>Hypothesis</th>\n",
       "      <th>Reach</th>\n",
       "      <th>Impact</th>\n",
       "      <th>Confidence</th>\n",
       "      <th>Efforts</th>\n",
       "      <th>ICE</th>\n",
       "      <th>RICE</th>\n",
       "    </tr>\n",
       "  </thead>\n",
       "  <tbody>\n",
       "    <tr>\n",
       "      <td>0</td>\n",
       "      <td>Добавить два новых канала привлечения трафика, что позволит привлекать на 30% больше пользователей</td>\n",
       "      <td>3</td>\n",
       "      <td>10</td>\n",
       "      <td>8</td>\n",
       "      <td>6</td>\n",
       "      <td>13.333333</td>\n",
       "      <td>40.0</td>\n",
       "    </tr>\n",
       "    <tr>\n",
       "      <td>1</td>\n",
       "      <td>Запустить собственную службу доставки, что сократит срок доставки заказов</td>\n",
       "      <td>2</td>\n",
       "      <td>5</td>\n",
       "      <td>4</td>\n",
       "      <td>10</td>\n",
       "      <td>2.000000</td>\n",
       "      <td>4.0</td>\n",
       "    </tr>\n",
       "    <tr>\n",
       "      <td>2</td>\n",
       "      <td>Добавить блоки рекомендаций товаров на сайт интернет магазина, чтобы повысить конверсию и средни...</td>\n",
       "      <td>8</td>\n",
       "      <td>3</td>\n",
       "      <td>7</td>\n",
       "      <td>3</td>\n",
       "      <td>7.000000</td>\n",
       "      <td>56.0</td>\n",
       "    </tr>\n",
       "    <tr>\n",
       "      <td>3</td>\n",
       "      <td>Изменить структура категорий, что увеличит конверсию, т.к. пользователи быстрее найдут нужный товар</td>\n",
       "      <td>8</td>\n",
       "      <td>3</td>\n",
       "      <td>3</td>\n",
       "      <td>8</td>\n",
       "      <td>1.125000</td>\n",
       "      <td>9.0</td>\n",
       "    </tr>\n",
       "    <tr>\n",
       "      <td>4</td>\n",
       "      <td>Изменить цвет фона главной страницы, чтобы увеличить вовлеченность пользователей</td>\n",
       "      <td>3</td>\n",
       "      <td>1</td>\n",
       "      <td>1</td>\n",
       "      <td>1</td>\n",
       "      <td>1.000000</td>\n",
       "      <td>3.0</td>\n",
       "    </tr>\n",
       "    <tr>\n",
       "      <td>5</td>\n",
       "      <td>Добавить страницу отзывов клиентов о магазине, что позволит увеличить количество заказов</td>\n",
       "      <td>3</td>\n",
       "      <td>2</td>\n",
       "      <td>2</td>\n",
       "      <td>3</td>\n",
       "      <td>1.333333</td>\n",
       "      <td>4.0</td>\n",
       "    </tr>\n",
       "    <tr>\n",
       "      <td>6</td>\n",
       "      <td>Показать на главной странице баннеры с актуальными акциями и распродажами, чтобы увеличить конве...</td>\n",
       "      <td>5</td>\n",
       "      <td>3</td>\n",
       "      <td>8</td>\n",
       "      <td>3</td>\n",
       "      <td>8.000000</td>\n",
       "      <td>40.0</td>\n",
       "    </tr>\n",
       "    <tr>\n",
       "      <td>7</td>\n",
       "      <td>Добавить форму подписки на все основные страницы, чтобы собрать базу клиентов для email-рассылок</td>\n",
       "      <td>10</td>\n",
       "      <td>7</td>\n",
       "      <td>8</td>\n",
       "      <td>5</td>\n",
       "      <td>11.200000</td>\n",
       "      <td>112.0</td>\n",
       "    </tr>\n",
       "    <tr>\n",
       "      <td>8</td>\n",
       "      <td>Запустить акцию, дающую скидку на товар в день рождения</td>\n",
       "      <td>1</td>\n",
       "      <td>9</td>\n",
       "      <td>9</td>\n",
       "      <td>5</td>\n",
       "      <td>16.200000</td>\n",
       "      <td>16.2</td>\n",
       "    </tr>\n",
       "  </tbody>\n",
       "</table>\n",
       "</div>"
      ],
      "text/plain": [
       "                                                                                            Hypothesis  \\\n",
       "0   Добавить два новых канала привлечения трафика, что позволит привлекать на 30% больше пользователей   \n",
       "1                            Запустить собственную службу доставки, что сократит срок доставки заказов   \n",
       "2  Добавить блоки рекомендаций товаров на сайт интернет магазина, чтобы повысить конверсию и средни...   \n",
       "3  Изменить структура категорий, что увеличит конверсию, т.к. пользователи быстрее найдут нужный товар   \n",
       "4                     Изменить цвет фона главной страницы, чтобы увеличить вовлеченность пользователей   \n",
       "5             Добавить страницу отзывов клиентов о магазине, что позволит увеличить количество заказов   \n",
       "6  Показать на главной странице баннеры с актуальными акциями и распродажами, чтобы увеличить конве...   \n",
       "7     Добавить форму подписки на все основные страницы, чтобы собрать базу клиентов для email-рассылок   \n",
       "8                                              Запустить акцию, дающую скидку на товар в день рождения   \n",
       "\n",
       "   Reach  Impact  Confidence  Efforts        ICE   RICE  \n",
       "0      3      10           8        6  13.333333   40.0  \n",
       "1      2       5           4       10   2.000000    4.0  \n",
       "2      8       3           7        3   7.000000   56.0  \n",
       "3      8       3           3        8   1.125000    9.0  \n",
       "4      3       1           1        1   1.000000    3.0  \n",
       "5      3       2           2        3   1.333333    4.0  \n",
       "6      5       3           8        3   8.000000   40.0  \n",
       "7     10       7           8        5  11.200000  112.0  \n",
       "8      1       9           9        5  16.200000   16.2  "
      ]
     },
     "execution_count": 23,
     "metadata": {},
     "output_type": "execute_result"
    }
   ],
   "source": [
    "hypothesis"
   ]
  },
  {
   "cell_type": "markdown",
   "metadata": {},
   "source": [
    "Все приорететные гипотезы (первые 4) фреймоворка ICE  такие же, как и у RICE. \n",
    "\n",
    "Однако 7 (8я) 'Добавить форму подписки на все основные страницы, чтобы собрать базу клиентов для email-рассылок' поменялись с 8ой (девятой) 'Запустить акцию, дающую скидку на товар в день рождения'.\n",
    "\n",
    "Это связано с тем что в первом случае параметр Reach имеет максимальное значение 10, что в фреймворке `RICE` подняло его до первого места.\n",
    "\n",
    "Во втором случае значение Reach имеет минмальное значение 1 , то есть минимальное количесто пользователей попадает под влияние.\n",
    "\n",
    "Вполне ожидаемый результат - день рождения раз в год 8(девятая), и именников в один конкретный день будет небольшое количество, соответственно влияние минимально. Для формы подписки на основных страницах влияние максимально - через эти страницы проходит весь поток пользователей. Однако возникает вопрос, а сколько из пользователей действительно подпишутся? \n"
   ]
  },
  {
   "cell_type": "markdown",
   "metadata": {},
   "source": [
    "**Вывод:** стоит уделить внимание следующим гпотезам:\n",
    "\n",
    "  - 8я (9я) гипотеза 'Запустить акцию, дающую скидку на товар в день рождения'.\n",
    "\n",
    "  - 0я (первая) 'Добавить два новых канала привлечения трафика, что позволит привлекать на 30% больше пользователей'\n",
    "\n",
    "  - 7я (восьмая) 'Добавить форму подписки на все основные страницы, чтобы собрать базу клиентов для email-рассылок'\n",
    "\n",
    "  - 6я (седьмая) 'Показать на главной странице баннеры с актуальными акциями и распродажами, чтобы увеличить конверсию'\n"
   ]
  },
  {
   "cell_type": "markdown",
   "metadata": {},
   "source": [
    "<div style=\"border-radius: 15px; box-shadow: 4px 4px 4px; border: solid green 2px; padding: 20px\"> <b>Отличная работа</b><br>\n",
    "Супер, приоритезация выполнена отлично!</div> <br>\n",
    "<div style=\"border-radius: 15px; box-shadow: 4px 4px 4px; border: solid orange 2px; padding: 20px\"> <b>Что можно улучшить</b><br>\n",
    "<ul>\n",
    "   <li>в качестве визуализации изменения приоритетов можно использовать <a href=\"https://datayoga.ru/tpost/zh3s62fori-sloupgraf\">slope graph</a>\n",
    "    <li> В отчёте есть формулы для расчёта приоритезации, почему бы их не оформить, для этого есть микропакет для вёрстки `LaTex` - <a href=\"https://www.youtube.com/watch?v=vSc25kdgecg\">Использование LaTex в Jupyter Notebook</a>\n",
    "<br><a href=\"https://www.overleaf.com/static/latex/learn/free-online-introduction-to-latex-part-1.pdf\">LaTex for beginners</a>. Вот так будут выглядеть формулы:👇\n",
    "</ul></div> <br>\n",
    "\n",
    "$$ICE = \\frac{Impact * Confidence}{Efforts}$$\n",
    "\n",
    "$$RICE = \\frac{Rearch * Impact * Confidence}{Efforts}$$\n",
    "<hr style=\"border: 2px solid orange;\" />"
   ]
  },
  {
   "cell_type": "markdown",
   "metadata": {},
   "source": [
    "## Анализ A/B-теста"
   ]
  },
  {
   "cell_type": "markdown",
   "metadata": {},
   "source": [
    "В данном разделе будем овечать на вопросы 2 части задании ( непосредственно анализ A/B теста):\n",
    "\n",
    "1) Постройте график кумулятивной выручки по группам. Сделайте выводы\n",
    "и предположения.\n",
    "\n",
    "2) Постройте график кумулятивного среднего чека по группам. Сделайте выводы \n",
    "и предположения.\n",
    "\n",
    "3) Постройте график относительного изменения кумулятивного среднего чека группы B к группе A. Сделайте выводы и предположения.\n",
    "\n",
    "4) Постройте график кумулятивной конверсии по группам. Сделайте \n",
    "выводы и предположения.\n",
    "\n",
    "5) Постройте график относительного изменения кумулятивной конверсии группы B к группе A. Сделайте выводы и предположения.\n",
    "\n",
    "6) Постройте точечный график количества заказов по пользователям. Сделайте выводы и предположения.\n",
    "\n",
    "7) Посчитайте 95-й и 99-й перцентили количества заказов на пользователя.\n",
    "Выберите границу для определения аномальных пользователей.\n",
    "\n",
    "8) Постройте точечный график стоимостей заказов. Сделайте выводы и предположения.\n",
    "\n",
    "9) Посчитайте 95-й и 99-й перцентили стоимости заказов. Выберите\n",
    "границу для определения аномальных заказов.\n",
    "\n",
    "10) Посчитайте статистическую значимость различий в конверсии между группами\n",
    "по «сырым» данным. Сделайте выводы и предположения.\n",
    "\n",
    "11) Посчитайте статистическую значимость различий в среднем чеке заказа \n",
    "между группами по «сырым» данным. Сделайте выводы и предположения.\n",
    "\n",
    "12) Посчитайте статистическую значимость различий в конверсии между группами\n",
    "по «очищенным» данным. Сделайте выводы и предположения.\n",
    "\n",
    "13) Посчитайте статистическую значимость различий в среднем чеке заказа между\n",
    "группами по «очищенным» данным. Сделайте выводы и предположения.\n",
    "\n",
    "14) Примите решение по результатам теста и объясните его. Варианты решений: \n",
    "1. Остановить тест, зафиксировать победу одной из групп. \n",
    "2. Остановить тест, зафиксировать отсутствие различий между группами. \n",
    "3. Продолжить тест.\n"
   ]
  },
  {
   "cell_type": "markdown",
   "metadata": {},
   "source": [
    "### Кумулятивная выручка по группам"
   ]
  },
  {
   "cell_type": "markdown",
   "metadata": {},
   "source": [
    "Создадим промежуточный df, в котором зафиксируем уникальные комбинации дат и групп:"
   ]
  },
  {
   "cell_type": "code",
   "execution_count": 24,
   "metadata": {},
   "outputs": [],
   "source": [
    "datesGroups = orders[['date', 'group']].drop_duplicates()"
   ]
  },
  {
   "cell_type": "code",
   "execution_count": 25,
   "metadata": {
    "scrolled": true
   },
   "outputs": [
    {
     "data": {
      "text/html": [
       "<div>\n",
       "<style scoped>\n",
       "    .dataframe tbody tr th:only-of-type {\n",
       "        vertical-align: middle;\n",
       "    }\n",
       "\n",
       "    .dataframe tbody tr th {\n",
       "        vertical-align: top;\n",
       "    }\n",
       "\n",
       "    .dataframe thead th {\n",
       "        text-align: right;\n",
       "    }\n",
       "</style>\n",
       "<table border=\"1\" class=\"dataframe\">\n",
       "  <thead>\n",
       "    <tr style=\"text-align: right;\">\n",
       "      <th></th>\n",
       "      <th>date</th>\n",
       "      <th>group</th>\n",
       "    </tr>\n",
       "  </thead>\n",
       "  <tbody>\n",
       "    <tr>\n",
       "      <td>229</td>\n",
       "      <td>2019-08-18</td>\n",
       "      <td>A</td>\n",
       "    </tr>\n",
       "    <tr>\n",
       "      <td>173</td>\n",
       "      <td>2019-08-02</td>\n",
       "      <td>B</td>\n",
       "    </tr>\n",
       "    <tr>\n",
       "      <td>66</td>\n",
       "      <td>2019-08-01</td>\n",
       "      <td>B</td>\n",
       "    </tr>\n",
       "    <tr>\n",
       "      <td>86</td>\n",
       "      <td>2019-08-22</td>\n",
       "      <td>A</td>\n",
       "    </tr>\n",
       "    <tr>\n",
       "      <td>532</td>\n",
       "      <td>2019-08-29</td>\n",
       "      <td>A</td>\n",
       "    </tr>\n",
       "  </tbody>\n",
       "</table>\n",
       "</div>"
      ],
      "text/plain": [
       "          date group\n",
       "229 2019-08-18     A\n",
       "173 2019-08-02     B\n",
       "66  2019-08-01     B\n",
       "86  2019-08-22     A\n",
       "532 2019-08-29     A"
      ]
     },
     "execution_count": 25,
     "metadata": {},
     "output_type": "execute_result"
    }
   ],
   "source": [
    "datesGroups.sample(5)"
   ]
  },
  {
   "cell_type": "markdown",
   "metadata": {},
   "source": [
    "Нас интересует кумулятивная выручка ( с накоплением ),в этом поможет функция **np.logical_and()** (логическое и) -  будем сравнивать даты.\n",
    "\n",
    "Далее для каждой пары дата-группа будем считать количество ункальных:\n",
    "\n",
    " - платежей;\n",
    " - пользователей (купивших);\n",
    " - сумма заказов.\n",
    " \n",
    "Так как считаем кумулятивные значения - будет осуществляться накопление."
   ]
  },
  {
   "cell_type": "code",
   "execution_count": 26,
   "metadata": {},
   "outputs": [],
   "source": [
    "ordersAggregated = datesGroups.apply(\n",
    "    lambda x: orders[np.logical_and(orders['date'] <= x['date'], \n",
    "                                    orders['group'] == x['group'])]\n",
    "    .agg({'date' : 'max', \n",
    "          'group' : 'max', \n",
    "          'transactionId' : 'nunique', \n",
    "          'visitorId' : 'nunique', \n",
    "          'revenue' : 'sum'}\n",
    "), axis=1).sort_values(by=['date','group']) "
   ]
  },
  {
   "cell_type": "code",
   "execution_count": 27,
   "metadata": {
    "scrolled": true
   },
   "outputs": [
    {
     "data": {
      "text/html": [
       "<div>\n",
       "<style scoped>\n",
       "    .dataframe tbody tr th:only-of-type {\n",
       "        vertical-align: middle;\n",
       "    }\n",
       "\n",
       "    .dataframe tbody tr th {\n",
       "        vertical-align: top;\n",
       "    }\n",
       "\n",
       "    .dataframe thead th {\n",
       "        text-align: right;\n",
       "    }\n",
       "</style>\n",
       "<table border=\"1\" class=\"dataframe\">\n",
       "  <thead>\n",
       "    <tr style=\"text-align: right;\">\n",
       "      <th></th>\n",
       "      <th>date</th>\n",
       "      <th>group</th>\n",
       "      <th>transactionId</th>\n",
       "      <th>visitorId</th>\n",
       "      <th>revenue</th>\n",
       "    </tr>\n",
       "  </thead>\n",
       "  <tbody>\n",
       "    <tr>\n",
       "      <td>55</td>\n",
       "      <td>2019-08-01</td>\n",
       "      <td>A</td>\n",
       "      <td>23</td>\n",
       "      <td>19</td>\n",
       "      <td>142779</td>\n",
       "    </tr>\n",
       "    <tr>\n",
       "      <td>66</td>\n",
       "      <td>2019-08-01</td>\n",
       "      <td>B</td>\n",
       "      <td>17</td>\n",
       "      <td>17</td>\n",
       "      <td>59758</td>\n",
       "    </tr>\n",
       "    <tr>\n",
       "      <td>175</td>\n",
       "      <td>2019-08-02</td>\n",
       "      <td>A</td>\n",
       "      <td>42</td>\n",
       "      <td>36</td>\n",
       "      <td>234381</td>\n",
       "    </tr>\n",
       "    <tr>\n",
       "      <td>173</td>\n",
       "      <td>2019-08-02</td>\n",
       "      <td>B</td>\n",
       "      <td>40</td>\n",
       "      <td>39</td>\n",
       "      <td>221801</td>\n",
       "    </tr>\n",
       "    <tr>\n",
       "      <td>291</td>\n",
       "      <td>2019-08-03</td>\n",
       "      <td>A</td>\n",
       "      <td>66</td>\n",
       "      <td>60</td>\n",
       "      <td>346854</td>\n",
       "    </tr>\n",
       "    <tr>\n",
       "      <td>383</td>\n",
       "      <td>2019-08-03</td>\n",
       "      <td>B</td>\n",
       "      <td>54</td>\n",
       "      <td>53</td>\n",
       "      <td>288850</td>\n",
       "    </tr>\n",
       "  </tbody>\n",
       "</table>\n",
       "</div>"
      ],
      "text/plain": [
       "          date group  transactionId  visitorId  revenue\n",
       "55  2019-08-01     A             23         19   142779\n",
       "66  2019-08-01     B             17         17    59758\n",
       "175 2019-08-02     A             42         36   234381\n",
       "173 2019-08-02     B             40         39   221801\n",
       "291 2019-08-03     A             66         60   346854\n",
       "383 2019-08-03     B             54         53   288850"
      ]
     },
     "execution_count": 27,
     "metadata": {},
     "output_type": "execute_result"
    }
   ],
   "source": [
    "ordersAggregated.head(6)"
   ]
  },
  {
   "cell_type": "markdown",
   "metadata": {},
   "source": [
    "Таким же методом посчитаем и количество визитов:"
   ]
  },
  {
   "cell_type": "code",
   "execution_count": 28,
   "metadata": {},
   "outputs": [],
   "source": [
    "visitorsAggregated = datesGroups.apply(\n",
    "    lambda x: visitors[np.logical_and(visitors['date'] <= x['date'],\n",
    "    visitors['group'] == x['group'])].agg(\n",
    "        {'date' : 'max', \n",
    "         'group' : 'max', \n",
    "         'visitors' : 'sum'}\n",
    "), axis=1).sort_values(by=['date','group'])"
   ]
  },
  {
   "cell_type": "code",
   "execution_count": 29,
   "metadata": {
    "scrolled": false
   },
   "outputs": [
    {
     "data": {
      "text/html": [
       "<div>\n",
       "<style scoped>\n",
       "    .dataframe tbody tr th:only-of-type {\n",
       "        vertical-align: middle;\n",
       "    }\n",
       "\n",
       "    .dataframe tbody tr th {\n",
       "        vertical-align: top;\n",
       "    }\n",
       "\n",
       "    .dataframe thead th {\n",
       "        text-align: right;\n",
       "    }\n",
       "</style>\n",
       "<table border=\"1\" class=\"dataframe\">\n",
       "  <thead>\n",
       "    <tr style=\"text-align: right;\">\n",
       "      <th></th>\n",
       "      <th>date</th>\n",
       "      <th>group</th>\n",
       "      <th>visitors</th>\n",
       "    </tr>\n",
       "  </thead>\n",
       "  <tbody>\n",
       "    <tr>\n",
       "      <td>55</td>\n",
       "      <td>2019-08-01</td>\n",
       "      <td>A</td>\n",
       "      <td>719</td>\n",
       "    </tr>\n",
       "    <tr>\n",
       "      <td>66</td>\n",
       "      <td>2019-08-01</td>\n",
       "      <td>B</td>\n",
       "      <td>713</td>\n",
       "    </tr>\n",
       "    <tr>\n",
       "      <td>175</td>\n",
       "      <td>2019-08-02</td>\n",
       "      <td>A</td>\n",
       "      <td>1338</td>\n",
       "    </tr>\n",
       "    <tr>\n",
       "      <td>173</td>\n",
       "      <td>2019-08-02</td>\n",
       "      <td>B</td>\n",
       "      <td>1294</td>\n",
       "    </tr>\n",
       "    <tr>\n",
       "      <td>291</td>\n",
       "      <td>2019-08-03</td>\n",
       "      <td>A</td>\n",
       "      <td>1845</td>\n",
       "    </tr>\n",
       "    <tr>\n",
       "      <td>...</td>\n",
       "      <td>...</td>\n",
       "      <td>...</td>\n",
       "      <td>...</td>\n",
       "    </tr>\n",
       "    <tr>\n",
       "      <td>533</td>\n",
       "      <td>2019-08-29</td>\n",
       "      <td>B</td>\n",
       "      <td>17708</td>\n",
       "    </tr>\n",
       "    <tr>\n",
       "      <td>757</td>\n",
       "      <td>2019-08-30</td>\n",
       "      <td>A</td>\n",
       "      <td>18037</td>\n",
       "    </tr>\n",
       "    <tr>\n",
       "      <td>690</td>\n",
       "      <td>2019-08-30</td>\n",
       "      <td>B</td>\n",
       "      <td>18198</td>\n",
       "    </tr>\n",
       "    <tr>\n",
       "      <td>958</td>\n",
       "      <td>2019-08-31</td>\n",
       "      <td>A</td>\n",
       "      <td>18736</td>\n",
       "    </tr>\n",
       "    <tr>\n",
       "      <td>930</td>\n",
       "      <td>2019-08-31</td>\n",
       "      <td>B</td>\n",
       "      <td>18916</td>\n",
       "    </tr>\n",
       "  </tbody>\n",
       "</table>\n",
       "<p>62 rows × 3 columns</p>\n",
       "</div>"
      ],
      "text/plain": [
       "          date group  visitors\n",
       "55  2019-08-01     A       719\n",
       "66  2019-08-01     B       713\n",
       "175 2019-08-02     A      1338\n",
       "173 2019-08-02     B      1294\n",
       "291 2019-08-03     A      1845\n",
       "..         ...   ...       ...\n",
       "533 2019-08-29     B     17708\n",
       "757 2019-08-30     A     18037\n",
       "690 2019-08-30     B     18198\n",
       "958 2019-08-31     A     18736\n",
       "930 2019-08-31     B     18916\n",
       "\n",
       "[62 rows x 3 columns]"
      ]
     },
     "execution_count": 29,
     "metadata": {},
     "output_type": "execute_result"
    }
   ],
   "source": [
    "visitorsAggregated"
   ]
  },
  {
   "cell_type": "markdown",
   "metadata": {},
   "source": [
    "Объеденим два промежуточных df в итоговый `cumulativeData`."
   ]
  },
  {
   "cell_type": "code",
   "execution_count": 30,
   "metadata": {},
   "outputs": [],
   "source": [
    "cumulativeData = ordersAggregated.merge(\n",
    "    visitorsAggregated,\n",
    "    left_on=['date', 'group'], \n",
    "    right_on=['date', 'group']\n",
    ")\n",
    "cumulativeData.columns = ['date', \n",
    "                          'group', \n",
    "                          'orders', \n",
    "                          'buyers', \n",
    "                          'revenue', \n",
    "                          'visitors']"
   ]
  },
  {
   "cell_type": "code",
   "execution_count": 31,
   "metadata": {
    "scrolled": true
   },
   "outputs": [
    {
     "data": {
      "text/html": [
       "<div>\n",
       "<style scoped>\n",
       "    .dataframe tbody tr th:only-of-type {\n",
       "        vertical-align: middle;\n",
       "    }\n",
       "\n",
       "    .dataframe tbody tr th {\n",
       "        vertical-align: top;\n",
       "    }\n",
       "\n",
       "    .dataframe thead th {\n",
       "        text-align: right;\n",
       "    }\n",
       "</style>\n",
       "<table border=\"1\" class=\"dataframe\">\n",
       "  <thead>\n",
       "    <tr style=\"text-align: right;\">\n",
       "      <th></th>\n",
       "      <th>date</th>\n",
       "      <th>group</th>\n",
       "      <th>orders</th>\n",
       "      <th>buyers</th>\n",
       "      <th>revenue</th>\n",
       "      <th>visitors</th>\n",
       "    </tr>\n",
       "  </thead>\n",
       "  <tbody>\n",
       "    <tr>\n",
       "      <td>15</td>\n",
       "      <td>2019-08-08</td>\n",
       "      <td>B</td>\n",
       "      <td>157</td>\n",
       "      <td>154</td>\n",
       "      <td>1059795</td>\n",
       "      <td>5298</td>\n",
       "    </tr>\n",
       "    <tr>\n",
       "      <td>49</td>\n",
       "      <td>2019-08-25</td>\n",
       "      <td>B</td>\n",
       "      <td>440</td>\n",
       "      <td>424</td>\n",
       "      <td>4294526</td>\n",
       "      <td>15127</td>\n",
       "    </tr>\n",
       "    <tr>\n",
       "      <td>11</td>\n",
       "      <td>2019-08-06</td>\n",
       "      <td>B</td>\n",
       "      <td>112</td>\n",
       "      <td>109</td>\n",
       "      <td>690490</td>\n",
       "      <td>3935</td>\n",
       "    </tr>\n",
       "    <tr>\n",
       "      <td>23</td>\n",
       "      <td>2019-08-12</td>\n",
       "      <td>B</td>\n",
       "      <td>229</td>\n",
       "      <td>225</td>\n",
       "      <td>1425237</td>\n",
       "      <td>7541</td>\n",
       "    </tr>\n",
       "    <tr>\n",
       "      <td>61</td>\n",
       "      <td>2019-08-31</td>\n",
       "      <td>B</td>\n",
       "      <td>548</td>\n",
       "      <td>528</td>\n",
       "      <td>5068972</td>\n",
       "      <td>18916</td>\n",
       "    </tr>\n",
       "  </tbody>\n",
       "</table>\n",
       "</div>"
      ],
      "text/plain": [
       "         date group  orders  buyers  revenue  visitors\n",
       "15 2019-08-08     B     157     154  1059795      5298\n",
       "49 2019-08-25     B     440     424  4294526     15127\n",
       "11 2019-08-06     B     112     109   690490      3935\n",
       "23 2019-08-12     B     229     225  1425237      7541\n",
       "61 2019-08-31     B     548     528  5068972     18916"
      ]
     },
     "execution_count": 31,
     "metadata": {},
     "output_type": "execute_result"
    }
   ],
   "source": [
    "cumulativeData.sample(5)"
   ]
  },
  {
   "cell_type": "markdown",
   "metadata": {},
   "source": [
    "Строим итоговый график:"
   ]
  },
  {
   "cell_type": "code",
   "execution_count": 32,
   "metadata": {
    "scrolled": false
   },
   "outputs": [
    {
     "data": {
      "text/plain": [
       "<matplotlib.legend.Legend at 0x7fb8c1c91d90>"
      ]
     },
     "execution_count": 32,
     "metadata": {},
     "output_type": "execute_result"
    },
    {
     "data": {
      "image/png": "[encoded data removed]",
      "text/plain": [
       "<Figure size 560x400 with 1 Axes>"
      ]
     },
     "metadata": {
      "needs_background": "light"
     },
     "output_type": "display_data"
    }
   ],
   "source": [
    "figure(figsize=(7, 5), dpi=80)\n",
    "plt.xticks(rotation=45)\n",
    "plt.xlabel('Дата', color ='blue',fontsize =12, labelpad = 15)\n",
    "plt.ylabel('Кумулятивная выручка', color ='blue',fontsize =12, labelpad = 15)\n",
    "plt.title('График кумулятивной выручки по группам', color ='red', fontsize =16, pad = 25)\n",
    "\n",
    "# датафрейм с кумулятивным количеством заказов и кумулятивной выручкой\n",
    "#по дням в группе A\n",
    "cumulativeRevenueA = cumulativeData[cumulativeData['group']=='A']\n",
    "[['date','revenue', 'orders']]\n",
    "\n",
    "# датафрейм с кумулятивным количеством заказов и кумулятивной выручкой\n",
    "#по дням в группе B\n",
    "cumulativeRevenueB = cumulativeData[cumulativeData['group']=='B']\n",
    "[['date','revenue', 'orders']]\n",
    "\n",
    "# Строим график выручки группы А\n",
    "plt.plot(cumulativeRevenueA['date'], cumulativeRevenueA['revenue'], label='A')\n",
    "\n",
    "# Строим график выручки группы B\n",
    "plt.plot(cumulativeRevenueB['date'], cumulativeRevenueB['revenue'], label='B')\n",
    "\n",
    "plt.legend()"
   ]
  },
  {
   "cell_type": "markdown",
   "metadata": {},
   "source": [
    "**Вывод:** Изначально накопление для 2х групп шлоодиннаково, однако после 17 августа произошел резкий скачок у группы B. Это говорит о том, что была осуществлена крупная покупка (большое количество покупок) - это выброс. Пока что однозначно говорить, что группа B дает лучший результат - нельзя. "
   ]
  },
  {
   "cell_type": "markdown",
   "metadata": {},
   "source": [
    "### Кумулятивный средний чек"
   ]
  },
  {
   "cell_type": "markdown",
   "metadata": {},
   "source": [
    "Построим графики для среднего кумулятивного чека: "
   ]
  },
  {
   "cell_type": "code",
   "execution_count": 33,
   "metadata": {
    "scrolled": false
   },
   "outputs": [
    {
     "data": {
      "text/plain": [
       "<matplotlib.legend.Legend at 0x7fb8c1ca9390>"
      ]
     },
     "execution_count": 33,
     "metadata": {},
     "output_type": "execute_result"
    },
    {
     "data": {
      "image/png": "[encoded data removed]",
      "text/plain": [
       "<Figure size 560x400 with 1 Axes>"
      ]
     },
     "metadata": {
      "needs_background": "light"
     },
     "output_type": "display_data"
    }
   ],
   "source": [
    "figure(figsize=(7, 5), dpi=80)\n",
    "plt.xticks(rotation=45)\n",
    "plt.xlabel('Дата', color ='blue', fontsize =12, labelpad = 15)\n",
    "plt.ylabel('Кумулятивный средний чек', color ='blue',fontsize =12, labelpad = 15)\n",
    "plt.title('График кумулятивного среднего чека по группам', color ='red', fontsize =16, pad = 25)\n",
    "\n",
    "plt.plot(\n",
    "    cumulativeRevenueA['date'],\n",
    "    cumulativeRevenueA['revenue']/cumulativeRevenueA['orders'],\n",
    "    label='A'\n",
    ")\n",
    "\n",
    "plt.plot(\n",
    "    cumulativeRevenueB['date'],\n",
    "    cumulativeRevenueB['revenue']/cumulativeRevenueB['orders'],\n",
    "    label='B'\n",
    ")\n",
    "\n",
    "\n",
    "plt.legend() "
   ]
  },
  {
   "cell_type": "markdown",
   "metadata": {},
   "source": [
    "**Вывод:** Динамика в целом та же. Однако до резкого скачка 17 августа группа B показывала немного лучший результат, однако ничего выдающегося. Одназначно сказать, какая группа дала лучшие показатели пока нрельзя. "
   ]
  },
  {
   "cell_type": "markdown",
   "metadata": {},
   "source": [
    "### Относительное изменение кумулятивного среднего чека группы B к группе A"
   ]
  },
  {
   "cell_type": "code",
   "execution_count": 34,
   "metadata": {
    "scrolled": false
   },
   "outputs": [
    {
     "data": {
      "text/plain": [
       "<matplotlib.lines.Line2D at 0x7fb8c1544c10>"
      ]
     },
     "execution_count": 34,
     "metadata": {},
     "output_type": "execute_result"
    },
    {
     "data": {
      "image/png": "[encoded data removed]",
      "text/plain": [
       "<Figure size 540x420 with 1 Axes>"
      ]
     },
     "metadata": {
      "needs_background": "light"
     },
     "output_type": "display_data"
    }
   ],
   "source": [
    "figure(figsize=(9,7), dpi=60)\n",
    "plt.xticks(rotation=45)\n",
    "plt.xlabel('Дата', color ='blue', fontsize =11, labelpad = 15)\n",
    "plt.ylabel('Относительное измененение кумулятивного среднего чека', color ='blue',fontsize =11, labelpad = 15)\n",
    "plt.title('Относительного изменения кумулятивного среднего чека по группам', \n",
    "          color ='red', \n",
    "          fontsize =14, \n",
    "          pad = 25)\n",
    "\n",
    "mergedCumulativeRevenue = cumulativeRevenueA.merge(cumulativeRevenueB, \n",
    "                                                   left_on='date', \n",
    "                                                   right_on='date',\n",
    "                                                   how='left', \n",
    "                                                   suffixes=['A', 'B'])\n",
    "\n",
    "# cтроим отношение средних чеков\n",
    "plt.plot(mergedCumulativeRevenue['date'],\n",
    "         (mergedCumulativeRevenue['revenueB']/\n",
    "          mergedCumulativeRevenue['ordersB'])/\n",
    "         (mergedCumulativeRevenue['revenueA']/\n",
    "          mergedCumulativeRevenue['ordersA'])-1)\n",
    "\n",
    "# добавляем ось X\n",
    "plt.axhline(y=0, color='black', linestyle='--') "
   ]
  },
  {
   "cell_type": "markdown",
   "metadata": {},
   "source": [
    "**Вывод:** Данный график показывает, что все - таки группа B давала больший кумулятивный среднний чек, однако все так же наблюдается неравномерность."
   ]
  },
  {
   "cell_type": "markdown",
   "metadata": {},
   "source": [
    "### Кумулятивная конверсия группы B к группе A"
   ]
  },
  {
   "cell_type": "markdown",
   "metadata": {},
   "source": [
    "Построим график кумулятивной конверсии группы B к группе A:"
   ]
  },
  {
   "cell_type": "code",
   "execution_count": 35,
   "metadata": {
    "scrolled": false
   },
   "outputs": [
    {
     "data": {
      "text/plain": [
       "['2019-08-01', '2019-08-31', 0, 0.05]"
      ]
     },
     "execution_count": 35,
     "metadata": {},
     "output_type": "execute_result"
    },
    {
     "data": {
      "image/png": "[encoded data removed]",
      "text/plain": [
       "<Figure size 560x400 with 1 Axes>"
      ]
     },
     "metadata": {
      "needs_background": "light"
     },
     "output_type": "display_data"
    }
   ],
   "source": [
    "figure(figsize=(7,5), dpi=80)\n",
    "plt.xticks(rotation=45)\n",
    "plt.xlabel('Дата', color ='blue', fontsize =11, labelpad = 15)\n",
    "plt.ylabel('Кумулятивная конверсия', color ='blue',fontsize =11, labelpad = 15)\n",
    "plt.title('Кумулятивная конверсия группы B к группе A', \n",
    "          color ='red', \n",
    "          fontsize =14, \n",
    "          pad = 25)\n",
    "\n",
    "# считаем кумулятивную конверсию\n",
    "cumulativeData['conversion'] = cumulativeData['orders']/cumulativeData['visitors']\n",
    "\n",
    "# отделяем данные по группе A\n",
    "cumulativeDataA = cumulativeData[cumulativeData['group']=='A']\n",
    "\n",
    "# отделяем данные по группе B\n",
    "cumulativeDataB = cumulativeData[cumulativeData['group']=='B']\n",
    "\n",
    "# строим графики\n",
    "plt.plot(cumulativeDataA['date'], cumulativeDataA['conversion'], label='A')\n",
    "plt.plot(cumulativeDataB['date'], cumulativeDataB['conversion'], label='B')\n",
    "plt.legend()\n",
    "\n",
    "# задаем масштаб осей\n",
    "plt.axis([\"2019-08-01\", '2019-08-31', 0, 0.05]) "
   ]
  },
  {
   "cell_type": "markdown",
   "metadata": {},
   "source": [
    "**Вывод:** Графики стабильные и установившиеся . Группа B стабильно лучше конвертируются на 5% - неплохой результат!"
   ]
  },
  {
   "cell_type": "markdown",
   "metadata": {},
   "source": [
    "### Относительное изменение кумулятивной конверсии группы B к группе A."
   ]
  },
  {
   "cell_type": "markdown",
   "metadata": {},
   "source": [
    "Построим относительное изменение кумулятивной конверсии группы B к группе A."
   ]
  },
  {
   "cell_type": "code",
   "execution_count": 36,
   "metadata": {
    "scrolled": false
   },
   "outputs": [
    {
     "data": {
      "text/plain": [
       "['2019-08-01', '2019-08-31', -0.3, 0.3]"
      ]
     },
     "execution_count": 36,
     "metadata": {},
     "output_type": "execute_result"
    },
    {
     "data": {
      "image/png": "[encoded data removed]",
      "text/plain": [
       "<Figure size 560x400 with 1 Axes>"
      ]
     },
     "metadata": {
      "needs_background": "light"
     },
     "output_type": "display_data"
    }
   ],
   "source": [
    "figure(figsize=(7,5), dpi=80)\n",
    "plt.xticks(rotation=45)\n",
    "plt.xlabel('Дата', color ='blue', fontsize =10, labelpad = 15)\n",
    "plt.ylabel('Относительное изменение кумулятивной конверсии', color ='blue',fontsize =10, \n",
    "           labelpad = 15)\n",
    "plt.title('Относительное изменение кумулятивной конверсии группы B к группе A.', \n",
    "          color ='red', \n",
    "          fontsize =12, \n",
    "          pad = 25)\n",
    "\n",
    "mergedCumulativeConversions = cumulativeDataA[['date','conversion']].merge(\n",
    "    cumulativeDataB[['date','conversion']], \n",
    "    left_on='date', \n",
    "    right_on='date', \n",
    "    how='left', \n",
    "    suffixes=['A', 'B']\n",
    ")\n",
    "\n",
    "plt.plot(mergedCumulativeConversions['date'],\n",
    "         mergedCumulativeConversions['conversionB']/\n",
    "         mergedCumulativeConversions['conversionA']-1, \n",
    "         label=\"Относительный прирост конверсии группы B относительно группы A\"\n",
    ")\n",
    "\n",
    "\n",
    "plt.axhline(y=0, color='black', linestyle='--')\n",
    "plt.axhline(y=-0.165, color='grey', linestyle='--')\n",
    "plt.axis([\"2019-08-01\", '2019-08-31', -0.3, 0.3]) "
   ]
  },
  {
   "cell_type": "markdown",
   "metadata": {},
   "source": [
    "**Вывод:** Изначально группа B конвертировалась хуже, однако за неделю относительная кумулятивная конверсия группы быстра вышла на 20%. Отличный результат.\n",
    "\n",
    "Про конверсию можно сказать, что она установилась и она стабильно лучше у группы B!"
   ]
  },
  {
   "cell_type": "markdown",
   "metadata": {},
   "source": [
    "<div style=\"border-radius: 15px; box-shadow: 4px 4px 4px; border: solid green 2px; padding: 20px\"> <b>Отличная работа - ✅</b><br>\n",
    "Раздел кумулятивных метрик выполнен отлично: данные подготовлены, графики построены и проанализирована динамика, аномалии не скрылись от тебя, молодец!</div> <br>"
   ]
  },
  {
   "cell_type": "markdown",
   "metadata": {},
   "source": [
    "### Количество заказов по пользователям"
   ]
  },
  {
   "cell_type": "markdown",
   "metadata": {},
   "source": [
    "Посмотрим на точечный график количества заказов по пользователям:"
   ]
  },
  {
   "cell_type": "code",
   "execution_count": 37,
   "metadata": {},
   "outputs": [],
   "source": [
    "ordersByUsers = (\n",
    "    orders.groupby('visitorId', as_index=False)\n",
    "    .agg({'transactionId': pd.Series.nunique})\n",
    ")\n",
    "\n",
    "ordersByUsers.columns = ['userId', 'orders']"
   ]
  },
  {
   "cell_type": "code",
   "execution_count": 38,
   "metadata": {
    "scrolled": false
   },
   "outputs": [
    {
     "data": {
      "text/plain": [
       "<matplotlib.collections.PathCollection at 0x7fb8ca0bbc90>"
      ]
     },
     "execution_count": 38,
     "metadata": {},
     "output_type": "execute_result"
    },
    {
     "data": {
      "image/png": "[encoded data removed]",
      "text/plain": [
       "<Figure size 560x400 with 1 Axes>"
      ]
     },
     "metadata": {
      "needs_background": "light"
     },
     "output_type": "display_data"
    }
   ],
   "source": [
    "x_values = pd.Series(range(0,len(ordersByUsers)))\n",
    "\n",
    "figure(figsize=(7,5), dpi=80)\n",
    "plt.ylabel('Количество заказов', color ='blue',fontsize =14, \n",
    "           labelpad = 15)\n",
    "plt.title('Количество заказов по пользователям', \n",
    "          color ='red', \n",
    "          fontsize =18, \n",
    "          pad = 25)\n",
    "\n",
    "plt.scatter(x_values, ordersByUsers['orders']) "
   ]
  },
  {
   "cell_type": "markdown",
   "metadata": {},
   "source": [
    "**Вывод:** Видим что подавляющая часть пользователей делала 1 заказ. Есть небольшое количество пользователей с 2 мя. И еденицы с 3мя. Что бы считать, что примем за выбромсы - посмотрим на перцентили."
   ]
  },
  {
   "cell_type": "markdown",
   "metadata": {},
   "source": [
    "#### 95-й и 99-й перцентили количества заказов на пользователя."
   ]
  },
  {
   "cell_type": "code",
   "execution_count": 39,
   "metadata": {
    "scrolled": true
   },
   "outputs": [
    {
     "name": "stdout",
     "output_type": "stream",
     "text": [
      "[1. 1. 2.]\n"
     ]
    }
   ],
   "source": [
    "print(np.percentile(ordersByUsers['orders'], [90, 95, 99])) "
   ]
  },
  {
   "cell_type": "markdown",
   "metadata": {},
   "source": [
    "**Вывод:** 99% сделали 2 заказа, а 95%  - 1 заказ. Далее при расчете **\"очищенных\"** данных примем 2 заказа, т.е. отбросим 1 %."
   ]
  },
  {
   "cell_type": "markdown",
   "metadata": {},
   "source": [
    "### Стоимость заказов"
   ]
  },
  {
   "cell_type": "markdown",
   "metadata": {},
   "source": [
    "Аналогично со стоимостью заказов:"
   ]
  },
  {
   "cell_type": "code",
   "execution_count": 40,
   "metadata": {
    "scrolled": false
   },
   "outputs": [
    {
     "data": {
      "text/plain": [
       "<matplotlib.collections.PathCollection at 0x7fb8c1450350>"
      ]
     },
     "execution_count": 40,
     "metadata": {},
     "output_type": "execute_result"
    },
    {
     "data": {
      "image/png": "[encoded data removed]",
      "text/plain": [
       "<Figure size 490x350 with 1 Axes>"
      ]
     },
     "metadata": {
      "needs_background": "light"
     },
     "output_type": "display_data"
    }
   ],
   "source": [
    "x_values = pd.Series(range(0,len(orders['revenue'])))\n",
    "\n",
    "figure(figsize=(7,5), dpi=70)\n",
    "plt.ylabel('Сумма заказа', color ='blue',fontsize =14, \n",
    "           labelpad = 15)\n",
    "plt.title('Стоимость заказов', \n",
    "          color ='red', \n",
    "          fontsize =18, \n",
    "          pad = 25)\n",
    "\n",
    "plt.scatter(x_values, orders['revenue']) "
   ]
  },
  {
   "cell_type": "markdown",
   "metadata": {},
   "source": [
    "**Вывод:** По графику видно, что подавляющее большинство пользователей уложилось в 50000. Однако есть один с покупкой порядка 1 3000 000 - **вероятно именно эта покупка** сместила графики среднего кумулятивного чека и кумулятивной выручки. для группы B. "
   ]
  },
  {
   "cell_type": "code",
   "execution_count": 41,
   "metadata": {},
   "outputs": [
    {
     "data": {
      "text/html": [
       "<div>\n",
       "<style scoped>\n",
       "    .dataframe tbody tr th:only-of-type {\n",
       "        vertical-align: middle;\n",
       "    }\n",
       "\n",
       "    .dataframe tbody tr th {\n",
       "        vertical-align: top;\n",
       "    }\n",
       "\n",
       "    .dataframe thead th {\n",
       "        text-align: right;\n",
       "    }\n",
       "</style>\n",
       "<table border=\"1\" class=\"dataframe\">\n",
       "  <thead>\n",
       "    <tr style=\"text-align: right;\">\n",
       "      <th></th>\n",
       "      <th>transactionId</th>\n",
       "      <th>visitorId</th>\n",
       "      <th>date</th>\n",
       "      <th>revenue</th>\n",
       "      <th>group</th>\n",
       "    </tr>\n",
       "  </thead>\n",
       "  <tbody>\n",
       "    <tr>\n",
       "      <td>425</td>\n",
       "      <td>590470918</td>\n",
       "      <td>1920142716</td>\n",
       "      <td>2019-08-19</td>\n",
       "      <td>1294500</td>\n",
       "      <td>B</td>\n",
       "    </tr>\n",
       "  </tbody>\n",
       "</table>\n",
       "</div>"
      ],
      "text/plain": [
       "     transactionId   visitorId       date  revenue group\n",
       "425      590470918  1920142716 2019-08-19  1294500     B"
      ]
     },
     "execution_count": 41,
     "metadata": {},
     "output_type": "execute_result"
    }
   ],
   "source": [
    "orders.loc[orders['revenue'] == orders['revenue'].max() ]"
   ]
  },
  {
   "cell_type": "markdown",
   "metadata": {},
   "source": [
    "Как и ожидалось!"
   ]
  },
  {
   "cell_type": "markdown",
   "metadata": {},
   "source": [
    "#### 95-й и 99-й перцентили стоимости заказов"
   ]
  },
  {
   "cell_type": "markdown",
   "metadata": {},
   "source": [
    "Посмотрим не перцентили для стоимости заказов:"
   ]
  },
  {
   "cell_type": "code",
   "execution_count": 42,
   "metadata": {
    "scrolled": false
   },
   "outputs": [
    {
     "name": "stdout",
     "output_type": "stream",
     "text": [
      "[17990. 26785. 53904.]\n"
     ]
    }
   ],
   "source": [
    "print(np.percentile(orders['revenue'], [90, 95, 99])) "
   ]
  },
  {
   "cell_type": "markdown",
   "metadata": {},
   "source": [
    "**Вывод:** 53904 руб. для 99% - слишком большая разница с 26785 (95%). Прмем 27000, то есть уберем 5% заказов. Допустимо."
   ]
  },
  {
   "cell_type": "markdown",
   "metadata": {},
   "source": [
    "<div style=\"border-radius: 15px; box-shadow: 4px 4px 4px; border: solid green 2px; padding: 20px\"> <b>Отличная работа - ✅</b><br>\n",
    "Класс, границы аномалий выбраны корректно!\n",
    "<br>\n",
    "<img src=http://storage.yandexcloud.net/public-bucket-6/outliers_1.png></div> <br>"
   ]
  },
  {
   "cell_type": "markdown",
   "metadata": {},
   "source": [
    "### Подсчет статистической значимость различий в конверсии между группами по «сырым» данным."
   ]
  },
  {
   "cell_type": "markdown",
   "metadata": {},
   "source": [
    "Для интерпритации результатов статистического анализа нужно сформировать нулевую (Н0) гипотезу и альтернативную.\n",
    "\n",
    "Для данного пункта они будут звучать так:\n",
    "\n",
    " - (H0) Конверсия между группами A и B ( по сырым данным) не отличается \n",
    " \n",
    " - (H1) Конверсия между группами A и B ( по сырым данным) отличается "
   ]
  },
  {
   "cell_type": "markdown",
   "metadata": {},
   "source": [
    "<div style=\"border-radius: 15px; box-shadow: 4px 4px 4px; border: solid green 2px; padding: 20px\"> <b>Отличная работа </b><br>\n",
    "Гипотезы сформулированы верно ✅</div> <br>"
   ]
  },
  {
   "cell_type": "markdown",
   "metadata": {},
   "source": [
    "Посчитаем статисчтическую значимость тестов для конверсии. Выполним ряд маннпуляций:"
   ]
  },
  {
   "cell_type": "code",
   "execution_count": 43,
   "metadata": {
    "scrolled": true
   },
   "outputs": [],
   "source": [
    "visitorsADaily = visitors[visitors['group'] == 'A'][['date', 'visitors']]\n",
    "visitorsADaily.columns = ['date', 'visitorsPerDateA']\n",
    "\n",
    "# Сформируем df visitorsADaily (количество посещений в день (визиты))\n",
    "\n",
    "visitorsACummulative = visitorsADaily.apply(\n",
    "    lambda x: visitorsADaily[visitorsADaily['date'] <= x['date']].agg(\n",
    "        {'date': 'max', \n",
    "         'visitorsPerDateA': 'sum'}\n",
    "    ),\n",
    "    axis=1,\n",
    ")\n",
    "visitorsACummulative.columns = ['date', 'visitorsCummulativeA']\n",
    "\n",
    "# Сформируем df visitorsACummulative (накопление пользователей (визитов) с накоплением для группы A)\n",
    "\n",
    "visitorsBDaily = visitors[visitors['group'] == 'B'][['date', 'visitors']]\n",
    "visitorsBDaily.columns = ['date', 'visitorsPerDateB']\n",
    "\n",
    "# Сформируем df visitorsBDaily (количество посещений в день (визиты)))\n",
    "\n",
    "visitorsBCummulative = visitorsBDaily.apply(\n",
    "    lambda x: visitorsBDaily[visitorsBDaily['date'] <= x['date']].agg(\n",
    "        {'date': 'max', 'visitorsPerDateB': 'sum'}\n",
    "    ),\n",
    "    axis=1,\n",
    ")\n",
    "visitorsBCummulative.columns = ['date', 'visitorsCummulativeB']\n",
    "\n",
    "# Сформируем df visitorsACummulative (накопление пользователей (визитов) с накоплением для группы B)"
   ]
  },
  {
   "cell_type": "code",
   "execution_count": 44,
   "metadata": {},
   "outputs": [],
   "source": [
    "ordersADaily = (\n",
    "    orders[orders['group'] == 'A'][['date', 'transactionId', 'visitorId', 'revenue']]\n",
    "    .groupby('date', as_index=False)\n",
    "    .agg({'transactionId': pd.Series.nunique, 'revenue': 'sum'})\n",
    ")\n",
    "ordersADaily.columns = ['date', 'ordersPerDateA', 'revenuePerDateA']\n",
    "\n",
    "# Сформируем df ordersADaily (сумма заказов и количество уникальных пользователей (заказы) для группы A)\n",
    "\n",
    "ordersACummulative = ordersADaily.apply(\n",
    "    lambda x: ordersADaily[ordersADaily['date'] <= x['date']].agg(\n",
    "        {'date': 'max', 'ordersPerDateA': 'sum', 'revenuePerDateA': 'sum'}\n",
    "    ),\n",
    "    axis=1,\n",
    ").sort_values(by=['date'])\n",
    "ordersACummulative.columns = [\n",
    "    'date',\n",
    "    'ordersCummulativeA',\n",
    "    'revenueCummulativeA',\n",
    "]\n",
    "\n",
    "# Сформируем df ordersACummulative (накопление количества заказов и сумма за день (заказы) с накоплением для группы А)\n",
    "\n",
    "\n",
    "ordersBDaily = (\n",
    "    orders[orders['group'] == 'B'][['date', 'transactionId', 'visitorId', 'revenue']]\n",
    "    .groupby('date', as_index=False)\n",
    "    .agg({'transactionId': pd.Series.nunique, 'revenue': 'sum'})\n",
    ")\n",
    "ordersBDaily.columns = ['date', 'ordersPerDateB', 'revenuePerDateB']\n",
    "\n",
    "\n",
    "# Сформируем df ordersADaily (сумма заказов и количество уникальных пользователей (заказы) для группы B)\n",
    "\n",
    "\n",
    "ordersBCummulative = ordersBDaily.apply(\n",
    "    lambda x: ordersBDaily[ordersBDaily['date'] <= x['date']].agg(\n",
    "        {'date': 'max', 'ordersPerDateB': 'sum', 'revenuePerDateB': 'sum'}\n",
    "    ),\n",
    "    axis=1,\n",
    ").sort_values(by=['date'])\n",
    "ordersBCummulative.columns = [\n",
    "    'date',\n",
    "    'ordersCummulativeB',\n",
    "    'revenueCummulativeB',\n",
    "]\n",
    "\n",
    "\n",
    "# Сформируем df ordersACummulative (накопление количества заказов и сумма за день (заказы) с накоплением для группы B)"
   ]
  },
  {
   "cell_type": "code",
   "execution_count": 45,
   "metadata": {},
   "outputs": [
    {
     "name": "stdout",
     "output_type": "stream",
     "text": [
      "        date  ordersPerDateA  revenuePerDateA  ordersPerDateB  \\\n",
      "0 2019-08-01              23           142779              17   \n",
      "1 2019-08-02              19            91602              23   \n",
      "2 2019-08-03              24           112473              14   \n",
      "3 2019-08-04              11            41176              14   \n",
      "4 2019-08-05              22            86383              21   \n",
      "\n",
      "   revenuePerDateB  ordersCummulativeA  revenueCummulativeA  \\\n",
      "0            59758                  23               142779   \n",
      "1           162043                  42               234381   \n",
      "2            67049                  66               346854   \n",
      "3            96890                  77               388030   \n",
      "4            89908                  99               474413   \n",
      "\n",
      "   ordersCummulativeB  revenueCummulativeB  visitorsPerDateA  \\\n",
      "0                  17                59758               719   \n",
      "1                  40               221801               619   \n",
      "2                  54               288850               507   \n",
      "3                  68               385740               717   \n",
      "4                  89               475648               756   \n",
      "\n",
      "   visitorsPerDateB  visitorsCummulativeA  visitorsCummulativeB  \n",
      "0               713                   719                   713  \n",
      "1               581                  1338                  1294  \n",
      "2               509                  1845                  1803  \n",
      "3               770                  2562                  2573  \n",
      "4               707                  3318                  3280  \n"
     ]
    }
   ],
   "source": [
    "data = (\n",
    "    ordersADaily.merge(\n",
    "        ordersBDaily, left_on='date', right_on='date', how='left'\n",
    "    )\n",
    "    .merge(ordersACummulative, left_on='date', right_on='date', how='left')\n",
    "    .merge(ordersBCummulative, left_on='date', right_on='date', how='left')\n",
    "    .merge(visitorsADaily, left_on='date', right_on='date', how='left')\n",
    "    .merge(visitorsBDaily, left_on='date', right_on='date', how='left')\n",
    "    .merge(visitorsACummulative, left_on='date', right_on='date', how='left')\n",
    "    .merge(visitorsBCummulative, left_on='date', right_on='date', how='left')\n",
    ")\n",
    "\n",
    "# Сформируем df data , объеденив все df из этого раздела\n",
    "\n",
    "print(data.head(5)) "
   ]
  },
  {
   "cell_type": "code",
   "execution_count": 46,
   "metadata": {
    "scrolled": true
   },
   "outputs": [],
   "source": [
    "ordersByUsersA = (\n",
    "    orders[orders['group'] == 'A']\n",
    "    .groupby('visitorId', as_index=False)\n",
    "    .agg({'transactionId': pd.Series.nunique})\n",
    ")\n",
    "ordersByUsersA.columns = ['userId', 'orders']\n",
    "\n",
    "# формируем df ordersByUsersA , где будет храниться информация об пользователях(из группы A) и количестве\n",
    "# их заказов за все время\n",
    "\n",
    "ordersByUsersB = (\n",
    "    orders[orders['group'] == 'B']\n",
    "    .groupby('visitorId', as_index=False)\n",
    "    .agg({'transactionId': pd.Series.nunique})\n",
    ")\n",
    "ordersByUsersB.columns = ['userId', 'orders']\n",
    "\n",
    "# формируем df ordersByUsersA , где будет храниться информация об пользователях(из группы B) и количестве\n",
    "# их заказов за все время\n",
    "\n",
    "sampleA = pd.concat(\n",
    "    [\n",
    "        ordersByUsersA['orders'],\n",
    "        pd.Series(\n",
    "            0,\n",
    "            index=np.arange(\n",
    "                data['visitorsPerDateA'].sum() - len(ordersByUsersA['orders'])\n",
    "            ),\n",
    "            name='orders',\n",
    "        ),\n",
    "    ],\n",
    "    axis=0,\n",
    ")\n",
    "\n",
    "# формируем df sampleA , где будет храниться информация об: \"заказал ли пользователь что-то\"(из группы A) \n",
    "\n",
    "sampleB = pd.concat(\n",
    "    [\n",
    "        ordersByUsersB['orders'],\n",
    "        pd.Series(\n",
    "            0,\n",
    "            index=np.arange(\n",
    "                data['visitorsPerDateB'].sum() - len(ordersByUsersB['orders'])\n",
    "            ),\n",
    "            name='orders',\n",
    "        ),\n",
    "    ],\n",
    "    axis=0,\n",
    ")\n",
    "\n",
    "# формируем df sampleA , где будет храниться информация об: \"заказал ли пользователь что-то\"(из группы B) \n"
   ]
  },
  {
   "cell_type": "code",
   "execution_count": 47,
   "metadata": {},
   "outputs": [
    {
     "name": "stdout",
     "output_type": "stream",
     "text": [
      "0.006\n",
      "0.160\n"
     ]
    }
   ],
   "source": [
    "# Проведем тест на статистическую значимость между группами по параметру \"конверсия\"\n",
    "\n",
    "print(\"{0:.3f}\".format(st.mannwhitneyu(sampleA, sampleB)[1]))\n",
    "\n",
    "print(\"{0:.3f}\".format(sampleB.mean() / sampleA.mean() - 1))"
   ]
  },
  {
   "cell_type": "markdown",
   "metadata": {},
   "source": [
    "**Вывод:** p_vlaue = 0.006 < 0.05 (alpha) - значит можем утверждать что статистическая значимость между выборками - есть. Группа B конвертируется лучше на 16%, чем группа A. Отличный результат!  "
   ]
  },
  {
   "cell_type": "markdown",
   "metadata": {},
   "source": [
    "### Cтатистическая значимость различий в среднем чеке заказа (по сырым данным)"
   ]
  },
  {
   "cell_type": "markdown",
   "metadata": {},
   "source": [
    "Для данного пункта гипотезы будут звучать так:\n",
    "\n",
    " - (H0) Средний чек в группах A и B ( по сырым данным) не отличается \n",
    " \n",
    " - (H1) Средний чек в группах A и B ( по сырым данным) отличается "
   ]
  },
  {
   "cell_type": "markdown",
   "metadata": {},
   "source": [
    "<div style=\"border-radius: 15px; box-shadow: 4px 4px 4px; border: solid green 2px; padding: 20px\"> <b>Отличная работа </b><br>\n",
    "Гипотезы сформулированы верно ✅</div> <br>"
   ]
  },
  {
   "cell_type": "code",
   "execution_count": 48,
   "metadata": {
    "scrolled": true
   },
   "outputs": [
    {
     "name": "stdout",
     "output_type": "stream",
     "text": [
      "0.415\n",
      "0.287\n"
     ]
    }
   ],
   "source": [
    "# Проведем тест на статистическую значимость между группами по параметру \"средний чек\"\n",
    "\n",
    "print('{0:.3f}'.format(st.mannwhitneyu(\n",
    "    orders[orders['group']=='A']['revenue'],\n",
    "    orders[orders['group']=='B']['revenue'])[1])\n",
    ")\n",
    "print('{0:.3f}'.format(\n",
    "    orders[orders['group']=='B']['revenue'].mean()/orders[orders['group']=='A']\n",
    "    ['revenue'].mean()-1)) "
   ]
  },
  {
   "cell_type": "markdown",
   "metadata": {},
   "source": [
    "**Вывод:** p_vlaue = 0.415 > 0.05 (alpha) - нулевую гипотезу (статистической значимости по среднему чеку между группами A и B) не отвергаем. ОДнако в группе B средний чек больше на 28,7%. Однако не забываем что был один кратно отличающийся  от всех заказов в группе B. "
   ]
  },
  {
   "cell_type": "markdown",
   "metadata": {},
   "source": [
    "### Статистическая значимость различий в конверсии между группами по «очищенным» данным."
   ]
  },
  {
   "cell_type": "markdown",
   "metadata": {},
   "source": [
    "Для данного пункта они будут звучать так:\n",
    "\n",
    " - (H0) Конверсия между группами A и B ( по очищенным данным) не отличается \n",
    " \n",
    " - (H1) Конверсия между группами A и B ( по очищенным данным) отличаетс"
   ]
  },
  {
   "cell_type": "markdown",
   "metadata": {},
   "source": [
    "Найдем всех пользователей с сильно отличающимися характеристиками (больше 2х заказов и сумма заказа больше 28000)"
   ]
  },
  {
   "cell_type": "code",
   "execution_count": 49,
   "metadata": {
    "scrolled": false
   },
   "outputs": [
    {
     "name": "stdout",
     "output_type": "stream",
     "text": [
      "568     113298937\n",
      "1099    148427295\n",
      "928     204675465\n",
      "33      249864742\n",
      "684     358944393\n",
      "dtype: int64\n",
      "(58,)\n"
     ]
    }
   ],
   "source": [
    "usersWithManyOrders = pd.concat(\n",
    "    [\n",
    "        ordersByUsersA[ordersByUsersA['orders'] > 2]['userId'],\n",
    "        ordersByUsersB[ordersByUsersB['orders'] > 2]['userId'],\n",
    "    ],\n",
    "    axis=0,\n",
    ")\n",
    "usersWithExpensiveOrders = orders[orders['revenue'] > 27000]['visitorId']\n",
    "abnormalUsers = (\n",
    "    pd.concat([usersWithManyOrders, usersWithExpensiveOrders], axis=0)\n",
    "    .drop_duplicates()\n",
    "    .sort_values()\n",
    ")\n",
    "\n",
    "print(abnormalUsers.head(5))\n",
    "print(abnormalUsers.shape) "
   ]
  },
  {
   "cell_type": "markdown",
   "metadata": {},
   "source": [
    "Таких оказалось 58"
   ]
  },
  {
   "cell_type": "markdown",
   "metadata": {},
   "source": [
    "Исключим пользователей которые входят в df `abnormalUsers`и сформируем отфильтрованные df `sampleAFiltered` и `sampleBFiltered`"
   ]
  },
  {
   "cell_type": "code",
   "execution_count": 50,
   "metadata": {},
   "outputs": [],
   "source": [
    "sampleAFiltered = pd.concat(\n",
    "    [\n",
    "        ordersByUsersA[\n",
    "            np.logical_not(ordersByUsersA['userId'].isin(abnormalUsers))\n",
    "        ]['orders'],\n",
    "        pd.Series(\n",
    "            0,\n",
    "            index=np.arange(\n",
    "                data['visitorsPerDateA'].sum() - len(ordersByUsersA['orders'])\n",
    "            ),\n",
    "            name='orders',\n",
    "        ),\n",
    "    ],\n",
    "    axis=0,\n",
    ")\n",
    "\n",
    "sampleBFiltered = pd.concat(\n",
    "    [\n",
    "        ordersByUsersB[\n",
    "            np.logical_not(ordersByUsersB['userId'].isin(abnormalUsers))\n",
    "        ]['orders'],\n",
    "        pd.Series(\n",
    "            0,\n",
    "            index=np.arange(\n",
    "                data['visitorsPerDateB'].sum() - len(ordersByUsersB['orders'])\n",
    "            ),\n",
    "            name='orders',\n",
    "        ),\n",
    "    ],\n",
    "    axis=0,\n",
    ") "
   ]
  },
  {
   "cell_type": "code",
   "execution_count": 51,
   "metadata": {
    "scrolled": true
   },
   "outputs": [
    {
     "name": "stdout",
     "output_type": "stream",
     "text": [
      "0.006\n",
      "0.182\n"
     ]
    }
   ],
   "source": [
    "print('{0:.3f}'.format(st.mannwhitneyu(sampleAFiltered, sampleBFiltered)[1]))\n",
    "print('{0:.3f}'.format(sampleBFiltered.mean()/sampleAFiltered.mean()-1))"
   ]
  },
  {
   "cell_type": "markdown",
   "metadata": {},
   "source": [
    "**Вывод:** p_vlaue = 0.006 ( не изменился) < 0.05 (alpha) - значит можем утверждать что статистическая значимость между выборками - есть.Конвертируемость группы B выросла на 2,2 %, что повысило итоговую конверсию группы B относительно группы A до\n",
    "\n",
    "**18,2%. Отличный результат!**  \n"
   ]
  },
  {
   "cell_type": "markdown",
   "metadata": {},
   "source": [
    "<div style=\"border-radius: 15px; box-shadow: 4px 4px 4px; border: solid orange 2px; padding: 20px\"> <b>Что можно улучшить - ⚠️</b><br>\n",
    "Когда две величины измеряются в процентах (16% и 18.2%), то разницу между ними принято называть в процетных пунктах, то есть 2.2% пп. Потому что 16% больше на 2.2% - это 16.352% -  такая арифметика 😉</div> <br>"
   ]
  },
  {
   "cell_type": "code",
   "execution_count": 52,
   "metadata": {},
   "outputs": [
    {
     "data": {
      "text/plain": [
       "16.352"
      ]
     },
     "execution_count": 52,
     "metadata": {},
     "output_type": "execute_result"
    }
   ],
   "source": [
    "# КОД РЕВЬЮВЕРА\n",
    "16 * 1.022"
   ]
  },
  {
   "cell_type": "markdown",
   "metadata": {},
   "source": [
    "<hr style=\"border: 2px solid orange;\" />"
   ]
  },
  {
   "cell_type": "markdown",
   "metadata": {},
   "source": [
    "### статистическая значимость различий в среднем чеке заказа между группами по «очищенным» данным."
   ]
  },
  {
   "cell_type": "markdown",
   "metadata": {},
   "source": [
    "Для данного пункта гипотезы будут звучать так:\n",
    "\n",
    " - (H0) Средний чек в группах A и B ( по очищенным данным) не отличается \n",
    " \n",
    " - (H1) Средний чек в группах A и B ( по очищенным данным) отличается "
   ]
  },
  {
   "cell_type": "markdown",
   "metadata": {},
   "source": [
    "Аналогично 4.10  уберем выбивающиеся данные и посмотрим на стат. значимость для среднего чека между группами "
   ]
  },
  {
   "cell_type": "code",
   "execution_count": 53,
   "metadata": {},
   "outputs": [
    {
     "name": "stdout",
     "output_type": "stream",
     "text": [
      "0.323\n",
      "-0.048\n"
     ]
    }
   ],
   "source": [
    "print(\n",
    "    '{0:.3f}'.format(\n",
    "        st.mannwhitneyu(\n",
    "            orders[\n",
    "                np.logical_and(\n",
    "                    orders['group'] == 'A',\n",
    "                    np.logical_not(orders['visitorId'].isin(abnormalUsers)),\n",
    "                )\n",
    "            ]['revenue'],\n",
    "            orders[\n",
    "                np.logical_and(\n",
    "                    orders['group'] == 'B',\n",
    "                    np.logical_not(orders['visitorId'].isin(abnormalUsers)),\n",
    "                )\n",
    "            ]['revenue'],\n",
    "        )[1]\n",
    "    )\n",
    ")\n",
    "\n",
    "print(\n",
    "    \"{0:.3f}\".format(\n",
    "        orders[\n",
    "            np.logical_and(\n",
    "                orders['group'] == 'B',\n",
    "                np.logical_not(orders['visitorId'].isin(abnormalUsers)),\n",
    "            )\n",
    "        ]['revenue'].mean()\n",
    "        / orders[\n",
    "            np.logical_and(\n",
    "                orders['group'] == 'A',\n",
    "                np.logical_not(orders['visitorId'].isin(abnormalUsers)),\n",
    "            )\n",
    "        ]['revenue'].mean()\n",
    "        - 1\n",
    "    )\n",
    ") "
   ]
  },
  {
   "cell_type": "markdown",
   "metadata": {},
   "source": [
    "**Вывод:** p_vlaue уменьшился 0.323, однако этого все равно недостаточно для того чтобы отвергнуть нулевую гипотезу. Разница между суммами средних чеков стала 4,8% в пользу группы A - изменение на 32%. Выброс очень сильно влиял на этот показатель."
   ]
  },
  {
   "cell_type": "markdown",
   "metadata": {},
   "source": [
    "<div style=\"border-radius: 15px; box-shadow: 4px 4px 4px; border: solid green 2px; padding: 20px\"> <b>Отличная работа - ✅</b><br>\n",
    "Проверки выполнены верно, результаты интерпретированы корректно!</div> <br>\n",
    "<div style=\"border-radius: 15px; box-shadow: 4px 4px 4px; border: solid red 2px; padding: 20px\"> <b>Что необходимо доработать - ⛔️</b><br>\n",
    "Попрошу тебя сформулировать гипотезы - <b>нулевую и альтернативную</b></div><br>"
   ]
  },
  {
   "cell_type": "markdown",
   "metadata": {},
   "source": [
    "## Общие выводы об исследовании"
   ]
  },
  {
   "cell_type": "markdown",
   "metadata": {},
   "source": [
    "**Не известно** (по условию задания) какая **цель ставилась для A/B тестирования и что менялось между группами**, однако, судя по результатам,ставили задачу повысить **конверсию**, этого получилось добиться . \n",
    "\n",
    "Группа B конвертировалась **лучше на 18.2%**, при условии что статистическая значимость между группами есть. Тест **удался** - можно его **останавливать**.\n",
    "\n",
    "Если же ставилась задача повысить средний чек, то **значимого результата нет** группы показывают близкие средние чеки. Тест **не удался**( во всяком случае поставленная задача не реализовалась) явного лидера нет - можно его **останавливать**, так как в целом графики стабилизировались , изменений в дальнейшем не ожидается."
   ]
  },
  {
   "cell_type": "markdown",
   "metadata": {},
   "source": [
    "<hr style=\"border: 2px solid green;\" />\n",
    "\n",
    "## Общий комментарий\n",
    "Спасибо за проделанную работу🤝\n",
    "\n",
    "Александр, работа выполнена очень хорошо: ты отлично справился с проверкой АВ теста, оставлось сформулировать гипотезы🧐\n",
    "\n",
    "Что касается расчета кумулятивных метрик - согласен, выбранный метод не очень прозрачный, поэтому мне больше импонирует разделение по группам и расчет без использования <code>groupby\\apply</code> и нескольких логических условий. Когда у тебя таблица по 1 группе, ты можешь выполнять расчет кумулятивной суммы без дополнительных условий, для примера, ниже рассчитаю кумулятивную конверсию для гр А.\n",
    "\n",
    "Исправляй и отправляй на проверку🛠"
   ]
  },
  {
   "cell_type": "code",
   "execution_count": 54,
   "metadata": {},
   "outputs": [
    {
     "data": {
      "text/html": [
       "<div>\n",
       "<style scoped>\n",
       "    .dataframe tbody tr th:only-of-type {\n",
       "        vertical-align: middle;\n",
       "    }\n",
       "\n",
       "    .dataframe tbody tr th {\n",
       "        vertical-align: top;\n",
       "    }\n",
       "\n",
       "    .dataframe thead th {\n",
       "        text-align: right;\n",
       "    }\n",
       "</style>\n",
       "<table border=\"1\" class=\"dataframe\">\n",
       "  <thead>\n",
       "    <tr style=\"text-align: right;\">\n",
       "      <th></th>\n",
       "      <th>date</th>\n",
       "      <th>group</th>\n",
       "      <th>visitors</th>\n",
       "    </tr>\n",
       "  </thead>\n",
       "  <tbody>\n",
       "    <tr>\n",
       "      <td>0</td>\n",
       "      <td>2019-08-01</td>\n",
       "      <td>A</td>\n",
       "      <td>719</td>\n",
       "    </tr>\n",
       "    <tr>\n",
       "      <td>1</td>\n",
       "      <td>2019-08-02</td>\n",
       "      <td>A</td>\n",
       "      <td>619</td>\n",
       "    </tr>\n",
       "    <tr>\n",
       "      <td>2</td>\n",
       "      <td>2019-08-03</td>\n",
       "      <td>A</td>\n",
       "      <td>507</td>\n",
       "    </tr>\n",
       "    <tr>\n",
       "      <td>3</td>\n",
       "      <td>2019-08-04</td>\n",
       "      <td>A</td>\n",
       "      <td>717</td>\n",
       "    </tr>\n",
       "    <tr>\n",
       "      <td>4</td>\n",
       "      <td>2019-08-05</td>\n",
       "      <td>A</td>\n",
       "      <td>756</td>\n",
       "    </tr>\n",
       "  </tbody>\n",
       "</table>\n",
       "</div>"
      ],
      "text/plain": [
       "        date group  visitors\n",
       "0 2019-08-01     A       719\n",
       "1 2019-08-02     A       619\n",
       "2 2019-08-03     A       507\n",
       "3 2019-08-04     A       717\n",
       "4 2019-08-05     A       756"
      ]
     },
     "execution_count": 54,
     "metadata": {},
     "output_type": "execute_result"
    }
   ],
   "source": [
    "# КОД РЕВЬЮВЕРА\n",
    "v_gr_a = visitors.query(\"group=='A'\").sort_values(by='date')\n",
    "v_gr_a.head(5)"
   ]
  },
  {
   "cell_type": "code",
   "execution_count": 55,
   "metadata": {},
   "outputs": [
    {
     "data": {
      "text/html": [
       "<div>\n",
       "<style scoped>\n",
       "    .dataframe tbody tr th:only-of-type {\n",
       "        vertical-align: middle;\n",
       "    }\n",
       "\n",
       "    .dataframe tbody tr th {\n",
       "        vertical-align: top;\n",
       "    }\n",
       "\n",
       "    .dataframe thead th {\n",
       "        text-align: right;\n",
       "    }\n",
       "</style>\n",
       "<table border=\"1\" class=\"dataframe\">\n",
       "  <thead>\n",
       "    <tr style=\"text-align: right;\">\n",
       "      <th></th>\n",
       "      <th>date</th>\n",
       "      <th>cnt_buyers</th>\n",
       "      <th>cnt_orders</th>\n",
       "      <th>revenue</th>\n",
       "    </tr>\n",
       "  </thead>\n",
       "  <tbody>\n",
       "    <tr>\n",
       "      <td>0</td>\n",
       "      <td>2019-08-01</td>\n",
       "      <td>19</td>\n",
       "      <td>23</td>\n",
       "      <td>142779</td>\n",
       "    </tr>\n",
       "    <tr>\n",
       "      <td>1</td>\n",
       "      <td>2019-08-02</td>\n",
       "      <td>18</td>\n",
       "      <td>19</td>\n",
       "      <td>91602</td>\n",
       "    </tr>\n",
       "    <tr>\n",
       "      <td>2</td>\n",
       "      <td>2019-08-03</td>\n",
       "      <td>24</td>\n",
       "      <td>24</td>\n",
       "      <td>112473</td>\n",
       "    </tr>\n",
       "    <tr>\n",
       "      <td>3</td>\n",
       "      <td>2019-08-04</td>\n",
       "      <td>11</td>\n",
       "      <td>11</td>\n",
       "      <td>41176</td>\n",
       "    </tr>\n",
       "    <tr>\n",
       "      <td>4</td>\n",
       "      <td>2019-08-05</td>\n",
       "      <td>22</td>\n",
       "      <td>22</td>\n",
       "      <td>86383</td>\n",
       "    </tr>\n",
       "  </tbody>\n",
       "</table>\n",
       "</div>"
      ],
      "text/plain": [
       "        date  cnt_buyers  cnt_orders  revenue\n",
       "0 2019-08-01          19          23   142779\n",
       "1 2019-08-02          18          19    91602\n",
       "2 2019-08-03          24          24   112473\n",
       "3 2019-08-04          11          11    41176\n",
       "4 2019-08-05          22          22    86383"
      ]
     },
     "execution_count": 55,
     "metadata": {},
     "output_type": "execute_result"
    }
   ],
   "source": [
    "# КОД РЕВЬЮВЕРА\n",
    "# агрегируем по дням, рассчитываем, кол-во уникальных покупателей, кол-во покупок и выручку\n",
    "o_gr_a = orders\\\n",
    "    .query(\"group=='A'\")\\\n",
    "    .groupby('date', as_index=False)\\\n",
    "    .agg({'visitorId': 'nunique', 'transactionId': 'count', 'revenue': 'sum'})\\\n",
    "    .rename(columns={'visitorId': 'cnt_buyers', 'transactionId': 'cnt_orders'})\n",
    "o_gr_a.head()"
   ]
  },
  {
   "cell_type": "code",
   "execution_count": 56,
   "metadata": {},
   "outputs": [
    {
     "data": {
      "text/html": [
       "<div>\n",
       "<style scoped>\n",
       "    .dataframe tbody tr th:only-of-type {\n",
       "        vertical-align: middle;\n",
       "    }\n",
       "\n",
       "    .dataframe tbody tr th {\n",
       "        vertical-align: top;\n",
       "    }\n",
       "\n",
       "    .dataframe thead th {\n",
       "        text-align: right;\n",
       "    }\n",
       "</style>\n",
       "<table border=\"1\" class=\"dataframe\">\n",
       "  <thead>\n",
       "    <tr style=\"text-align: right;\">\n",
       "      <th></th>\n",
       "      <th>date</th>\n",
       "      <th>group</th>\n",
       "      <th>visitors</th>\n",
       "      <th>cnt_buyers</th>\n",
       "      <th>cnt_orders</th>\n",
       "      <th>revenue</th>\n",
       "      <th>cum_visitors</th>\n",
       "      <th>cum_buyers</th>\n",
       "      <th>cum_orders</th>\n",
       "      <th>cum_revenue</th>\n",
       "      <th>cum_cr</th>\n",
       "      <th>cum_aov</th>\n",
       "    </tr>\n",
       "  </thead>\n",
       "  <tbody>\n",
       "    <tr>\n",
       "      <td>0</td>\n",
       "      <td>2019-08-01</td>\n",
       "      <td>A</td>\n",
       "      <td>719</td>\n",
       "      <td>19</td>\n",
       "      <td>23</td>\n",
       "      <td>142779</td>\n",
       "      <td>719</td>\n",
       "      <td>19</td>\n",
       "      <td>23</td>\n",
       "      <td>142779</td>\n",
       "      <td>0.026426</td>\n",
       "      <td>6207.782609</td>\n",
       "    </tr>\n",
       "    <tr>\n",
       "      <td>1</td>\n",
       "      <td>2019-08-02</td>\n",
       "      <td>A</td>\n",
       "      <td>619</td>\n",
       "      <td>18</td>\n",
       "      <td>19</td>\n",
       "      <td>91602</td>\n",
       "      <td>1338</td>\n",
       "      <td>37</td>\n",
       "      <td>42</td>\n",
       "      <td>234381</td>\n",
       "      <td>0.027653</td>\n",
       "      <td>5580.500000</td>\n",
       "    </tr>\n",
       "    <tr>\n",
       "      <td>2</td>\n",
       "      <td>2019-08-03</td>\n",
       "      <td>A</td>\n",
       "      <td>507</td>\n",
       "      <td>24</td>\n",
       "      <td>24</td>\n",
       "      <td>112473</td>\n",
       "      <td>1845</td>\n",
       "      <td>61</td>\n",
       "      <td>66</td>\n",
       "      <td>346854</td>\n",
       "      <td>0.033062</td>\n",
       "      <td>5255.363636</td>\n",
       "    </tr>\n",
       "    <tr>\n",
       "      <td>3</td>\n",
       "      <td>2019-08-04</td>\n",
       "      <td>A</td>\n",
       "      <td>717</td>\n",
       "      <td>11</td>\n",
       "      <td>11</td>\n",
       "      <td>41176</td>\n",
       "      <td>2562</td>\n",
       "      <td>72</td>\n",
       "      <td>77</td>\n",
       "      <td>388030</td>\n",
       "      <td>0.028103</td>\n",
       "      <td>5039.350649</td>\n",
       "    </tr>\n",
       "    <tr>\n",
       "      <td>4</td>\n",
       "      <td>2019-08-05</td>\n",
       "      <td>A</td>\n",
       "      <td>756</td>\n",
       "      <td>22</td>\n",
       "      <td>22</td>\n",
       "      <td>86383</td>\n",
       "      <td>3318</td>\n",
       "      <td>94</td>\n",
       "      <td>99</td>\n",
       "      <td>474413</td>\n",
       "      <td>0.028330</td>\n",
       "      <td>4792.050505</td>\n",
       "    </tr>\n",
       "  </tbody>\n",
       "</table>\n",
       "</div>"
      ],
      "text/plain": [
       "        date group  visitors  cnt_buyers  cnt_orders  revenue  cum_visitors  \\\n",
       "0 2019-08-01     A       719          19          23   142779           719   \n",
       "1 2019-08-02     A       619          18          19    91602          1338   \n",
       "2 2019-08-03     A       507          24          24   112473          1845   \n",
       "3 2019-08-04     A       717          11          11    41176          2562   \n",
       "4 2019-08-05     A       756          22          22    86383          3318   \n",
       "\n",
       "   cum_buyers  cum_orders  cum_revenue    cum_cr      cum_aov  \n",
       "0          19          23       142779  0.026426  6207.782609  \n",
       "1          37          42       234381  0.027653  5580.500000  \n",
       "2          61          66       346854  0.033062  5255.363636  \n",
       "3          72          77       388030  0.028103  5039.350649  \n",
       "4          94          99       474413  0.028330  4792.050505  "
      ]
     },
     "execution_count": 56,
     "metadata": {},
     "output_type": "execute_result"
    }
   ],
   "source": [
    "# КОД РЕВЬЮВЕРА\n",
    "# объединяем таблицы по дате и рассчитывае все необходимые величины\n",
    "# все величины кумулятивные, хитростей в расчете нет, просто используется метод assign\n",
    "# всё тоже самое можно выполнить и простым присвоением df['cum_revenue'] = df['revenue'].cumsum()\n",
    "df_cum_total = v_gr_a.merge(o_gr_a, on='date')\\\n",
    "    .assign(cum_visitors=lambda row: row['visitors'].cumsum(),\n",
    "           cum_buyers=lambda row: row['cnt_buyers'].cumsum(),\n",
    "            cum_orders=lambda row: row['cnt_orders'].cumsum(),\n",
    "           cum_revenue=lambda row: row['revenue'].cumsum(),\n",
    "           cum_cr=lambda row: row['cum_buyers'] / row['cum_visitors'],\n",
    "           cum_aov=lambda row: row['cum_revenue'] / row['cum_orders'])\n",
    "df_cum_total.head()"
   ]
  },
  {
   "cell_type": "code",
   "execution_count": 57,
   "metadata": {},
   "outputs": [
    {
     "data": {
      "image/png": "[encoded data removed]",
      "text/plain": [
       "<Figure size 864x720 with 2 Axes>"
      ]
     },
     "metadata": {
      "needs_background": "light"
     },
     "output_type": "display_data"
    }
   ],
   "source": [
    "# КОД РЕВЬЮВЕРА\n",
    "# визуализируем\n",
    "fig, axes = plt.subplots(nrows=2, figsize=(12, 10))\n",
    "plt.subplots_adjust(hspace=0.5)\n",
    "\n",
    "# кум. конверсия\n",
    "ax = axes[0]\n",
    "df_cum_total.plot(x='date', y='cum_cr', marker='o', ms=5, ax=ax)\n",
    "ax.set_title(\"Динамика кумулятивной конверсии\")\n",
    "ax.grid(color='grey', alpha=0.5, lw=0.5);\n",
    "\n",
    "# кум. средний чек\n",
    "ax = axes[1]\n",
    "df_cum_total.plot(x='date', y='cum_aov', marker='o', ms=5, ax=ax)\n",
    "ax.set_title(\"Динамика кумулятивного среднего чека\")\n",
    "ax.grid(color='grey', alpha=0.5, lw=0.5);"
   ]
  },
  {
   "cell_type": "markdown",
   "metadata": {},
   "source": [
    "<hr style=\"border: 2px solid green;\" />"
   ]
  }
 ],
 "metadata": {
  "ExecuteTimeLog": [
   {
    "duration": 1087,
    "start_time": "2022-02-15T16:39:27.463Z"
   },
   {
    "duration": 83,
    "start_time": "2022-02-15T16:40:41.421Z"
   },
   {
    "duration": 293,
    "start_time": "2022-02-15T16:41:39.936Z"
   },
   {
    "duration": 205,
    "start_time": "2022-02-15T16:42:24.455Z"
   },
   {
    "duration": 14,
    "start_time": "2022-02-15T16:43:38.380Z"
   },
   {
    "duration": 11,
    "start_time": "2022-02-15T16:43:52.987Z"
   },
   {
    "duration": 8,
    "start_time": "2022-02-15T16:44:07.532Z"
   },
   {
    "duration": 4,
    "start_time": "2022-02-15T16:44:32.146Z"
   },
   {
    "duration": 11,
    "start_time": "2022-02-15T16:44:45.643Z"
   },
   {
    "duration": 6,
    "start_time": "2022-02-15T16:46:37.406Z"
   },
   {
    "duration": 6,
    "start_time": "2022-02-15T16:46:43.605Z"
   },
   {
    "duration": 6,
    "start_time": "2022-02-15T16:46:50.588Z"
   },
   {
    "duration": 2553,
    "start_time": "2022-02-15T16:50:53.588Z"
   },
   {
    "duration": 2502,
    "start_time": "2022-02-15T16:51:28.546Z"
   },
   {
    "duration": 2403,
    "start_time": "2022-02-15T16:51:46.512Z"
   },
   {
    "duration": 4,
    "start_time": "2022-02-15T16:52:32.152Z"
   },
   {
    "duration": 11,
    "start_time": "2022-02-15T16:53:12.285Z"
   },
   {
    "duration": 6,
    "start_time": "2022-02-15T16:53:17.614Z"
   },
   {
    "duration": 5,
    "start_time": "2022-02-15T16:53:32.909Z"
   },
   {
    "duration": 8,
    "start_time": "2022-02-15T16:54:25.500Z"
   },
   {
    "duration": 7,
    "start_time": "2022-02-15T16:54:56.033Z"
   },
   {
    "duration": 6,
    "start_time": "2022-02-15T16:55:08.944Z"
   },
   {
    "duration": 7,
    "start_time": "2022-02-15T16:58:03.466Z"
   },
   {
    "duration": 5,
    "start_time": "2022-02-15T16:58:30.482Z"
   },
   {
    "duration": 5,
    "start_time": "2022-02-15T16:59:43.389Z"
   },
   {
    "duration": 5,
    "start_time": "2022-02-15T16:59:57.645Z"
   },
   {
    "duration": 2,
    "start_time": "2022-02-15T17:04:29.441Z"
   },
   {
    "duration": 7,
    "start_time": "2022-02-15T17:04:35.674Z"
   },
   {
    "duration": 540,
    "start_time": "2022-02-15T17:06:04.742Z"
   },
   {
    "duration": 4,
    "start_time": "2022-02-15T17:06:24.053Z"
   },
   {
    "duration": 7,
    "start_time": "2022-02-15T17:06:33.420Z"
   },
   {
    "duration": 77,
    "start_time": "2022-02-15T17:09:53.025Z"
   },
   {
    "duration": 8,
    "start_time": "2022-02-15T17:09:54.247Z"
   },
   {
    "duration": 3,
    "start_time": "2022-02-15T17:10:17.444Z"
   },
   {
    "duration": 7,
    "start_time": "2022-02-15T17:10:18.837Z"
   },
   {
    "duration": 4,
    "start_time": "2022-02-15T17:11:56.290Z"
   },
   {
    "duration": 10,
    "start_time": "2022-02-15T17:11:57.323Z"
   },
   {
    "duration": 6,
    "start_time": "2022-02-15T17:12:33.695Z"
   },
   {
    "duration": 9,
    "start_time": "2022-02-15T17:13:04.515Z"
   },
   {
    "duration": 8,
    "start_time": "2022-02-15T17:13:44.213Z"
   },
   {
    "duration": 9,
    "start_time": "2022-02-15T17:13:54.554Z"
   },
   {
    "duration": 386,
    "start_time": "2022-02-15T17:15:40.054Z"
   },
   {
    "duration": 3,
    "start_time": "2022-02-15T17:18:09.915Z"
   },
   {
    "duration": 8,
    "start_time": "2022-02-15T17:18:11.011Z"
   },
   {
    "duration": 4,
    "start_time": "2022-02-15T17:18:30.368Z"
   },
   {
    "duration": 10,
    "start_time": "2022-02-15T17:18:30.792Z"
   },
   {
    "duration": 9,
    "start_time": "2022-02-15T17:18:38.120Z"
   },
   {
    "duration": 3,
    "start_time": "2022-02-15T17:18:49.211Z"
   },
   {
    "duration": 9,
    "start_time": "2022-02-15T17:18:49.656Z"
   },
   {
    "duration": 4,
    "start_time": "2022-02-15T17:19:03.238Z"
   },
   {
    "duration": 8,
    "start_time": "2022-02-15T17:19:03.823Z"
   },
   {
    "duration": 3,
    "start_time": "2022-02-15T17:19:04.789Z"
   },
   {
    "duration": 9,
    "start_time": "2022-02-15T17:19:05.248Z"
   },
   {
    "duration": 2,
    "start_time": "2022-02-15T17:19:42.061Z"
   },
   {
    "duration": 8,
    "start_time": "2022-02-15T17:19:42.769Z"
   },
   {
    "duration": 9,
    "start_time": "2022-02-15T17:19:46.289Z"
   },
   {
    "duration": 4,
    "start_time": "2022-02-15T17:20:15.052Z"
   },
   {
    "duration": 2107,
    "start_time": "2022-02-15T17:20:24.937Z"
   },
   {
    "duration": 168,
    "start_time": "2022-02-15T17:20:27.046Z"
   },
   {
    "duration": 7,
    "start_time": "2022-02-15T17:20:27.216Z"
   },
   {
    "duration": 12,
    "start_time": "2022-02-15T17:20:27.225Z"
   },
   {
    "duration": 6,
    "start_time": "2022-02-15T17:20:27.239Z"
   },
   {
    "duration": 6,
    "start_time": "2022-02-15T17:20:27.247Z"
   },
   {
    "duration": 8,
    "start_time": "2022-02-15T17:20:27.254Z"
   },
   {
    "duration": 7,
    "start_time": "2022-02-15T17:20:27.264Z"
   },
   {
    "duration": 12,
    "start_time": "2022-02-15T17:20:27.274Z"
   },
   {
    "duration": 10,
    "start_time": "2022-02-15T17:20:27.288Z"
   },
   {
    "duration": 9,
    "start_time": "2022-02-15T17:20:27.300Z"
   },
   {
    "duration": 29,
    "start_time": "2022-02-15T17:20:27.310Z"
   },
   {
    "duration": 6,
    "start_time": "2022-02-15T17:20:27.340Z"
   },
   {
    "duration": 10,
    "start_time": "2022-02-15T17:20:27.348Z"
   },
   {
    "duration": 12,
    "start_time": "2022-02-15T17:20:27.360Z"
   },
   {
    "duration": 437,
    "start_time": "2022-02-15T17:21:21.443Z"
   },
   {
    "duration": 8,
    "start_time": "2022-02-15T17:21:33.467Z"
   },
   {
    "duration": 6,
    "start_time": "2022-02-15T17:27:44.817Z"
   },
   {
    "duration": 173,
    "start_time": "2022-02-15T17:27:44.825Z"
   },
   {
    "duration": 6,
    "start_time": "2022-02-15T17:27:44.999Z"
   },
   {
    "duration": 22,
    "start_time": "2022-02-15T17:27:45.006Z"
   },
   {
    "duration": 7,
    "start_time": "2022-02-15T17:27:45.030Z"
   },
   {
    "duration": 9,
    "start_time": "2022-02-15T17:27:45.039Z"
   },
   {
    "duration": 12,
    "start_time": "2022-02-15T17:27:45.051Z"
   },
   {
    "duration": 8,
    "start_time": "2022-02-15T17:27:45.065Z"
   },
   {
    "duration": 9,
    "start_time": "2022-02-15T17:27:45.074Z"
   },
   {
    "duration": 10,
    "start_time": "2022-02-15T17:27:45.085Z"
   },
   {
    "duration": 10,
    "start_time": "2022-02-15T17:27:45.097Z"
   },
   {
    "duration": 14,
    "start_time": "2022-02-15T17:27:45.109Z"
   },
   {
    "duration": 9,
    "start_time": "2022-02-15T17:27:45.125Z"
   },
   {
    "duration": 15,
    "start_time": "2022-02-15T17:27:45.136Z"
   },
   {
    "duration": 10,
    "start_time": "2022-02-15T17:27:45.153Z"
   },
   {
    "duration": 9,
    "start_time": "2022-02-15T17:27:45.165Z"
   },
   {
    "duration": 338,
    "start_time": "2022-02-16T15:16:14.922Z"
   },
   {
    "duration": 1259,
    "start_time": "2022-02-16T15:16:22.748Z"
   },
   {
    "duration": 326,
    "start_time": "2022-02-16T15:16:24.010Z"
   },
   {
    "duration": 10,
    "start_time": "2022-02-16T15:16:24.339Z"
   },
   {
    "duration": 16,
    "start_time": "2022-02-16T15:16:24.351Z"
   },
   {
    "duration": 16,
    "start_time": "2022-02-16T15:16:24.369Z"
   },
   {
    "duration": 11,
    "start_time": "2022-02-16T15:16:24.387Z"
   },
   {
    "duration": 61,
    "start_time": "2022-02-16T15:16:24.400Z"
   },
   {
    "duration": 12,
    "start_time": "2022-02-16T15:16:24.463Z"
   },
   {
    "duration": 11,
    "start_time": "2022-02-16T15:16:24.478Z"
   },
   {
    "duration": 15,
    "start_time": "2022-02-16T15:16:24.491Z"
   },
   {
    "duration": 9,
    "start_time": "2022-02-16T15:16:24.508Z"
   },
   {
    "duration": 12,
    "start_time": "2022-02-16T15:16:24.519Z"
   },
   {
    "duration": 17,
    "start_time": "2022-02-16T15:16:24.534Z"
   },
   {
    "duration": 13,
    "start_time": "2022-02-16T15:16:24.553Z"
   },
   {
    "duration": 18,
    "start_time": "2022-02-16T15:16:24.568Z"
   },
   {
    "duration": 28,
    "start_time": "2022-02-16T15:16:24.588Z"
   },
   {
    "duration": 18,
    "start_time": "2022-02-16T15:16:24.619Z"
   },
   {
    "duration": 12,
    "start_time": "2022-02-16T15:16:43.672Z"
   },
   {
    "duration": 8,
    "start_time": "2022-02-16T15:17:52.092Z"
   },
   {
    "duration": 11,
    "start_time": "2022-02-16T15:18:01.893Z"
   },
   {
    "duration": 6390,
    "start_time": "2022-02-16T15:18:53.778Z"
   },
   {
    "duration": 10,
    "start_time": "2022-02-16T15:21:33.096Z"
   },
   {
    "duration": 205,
    "start_time": "2022-02-16T15:21:33.965Z"
   },
   {
    "duration": 13,
    "start_time": "2022-02-16T15:22:08.817Z"
   },
   {
    "duration": 249,
    "start_time": "2022-02-16T15:23:43.511Z"
   },
   {
    "duration": 16,
    "start_time": "2022-02-16T15:24:00.229Z"
   },
   {
    "duration": 8,
    "start_time": "2022-02-16T15:24:49.468Z"
   },
   {
    "duration": 13,
    "start_time": "2022-02-16T15:25:01.220Z"
   },
   {
    "duration": 17,
    "start_time": "2022-02-16T15:25:09.947Z"
   },
   {
    "duration": 245,
    "start_time": "2022-02-16T15:25:33.274Z"
   },
   {
    "duration": 260,
    "start_time": "2022-02-16T15:26:16.891Z"
   },
   {
    "duration": 1307,
    "start_time": "2022-02-16T15:26:30.079Z"
   },
   {
    "duration": 136,
    "start_time": "2022-02-16T15:26:31.389Z"
   },
   {
    "duration": 9,
    "start_time": "2022-02-16T15:26:31.531Z"
   },
   {
    "duration": 33,
    "start_time": "2022-02-16T15:26:31.542Z"
   },
   {
    "duration": 15,
    "start_time": "2022-02-16T15:26:31.579Z"
   },
   {
    "duration": 35,
    "start_time": "2022-02-16T15:26:31.597Z"
   },
   {
    "duration": 20,
    "start_time": "2022-02-16T15:26:31.637Z"
   },
   {
    "duration": 28,
    "start_time": "2022-02-16T15:26:31.660Z"
   },
   {
    "duration": 37,
    "start_time": "2022-02-16T15:26:31.693Z"
   },
   {
    "duration": 23,
    "start_time": "2022-02-16T15:26:31.733Z"
   },
   {
    "duration": 16,
    "start_time": "2022-02-16T15:26:31.758Z"
   },
   {
    "duration": 36,
    "start_time": "2022-02-16T15:26:31.776Z"
   },
   {
    "duration": 21,
    "start_time": "2022-02-16T15:26:31.815Z"
   },
   {
    "duration": 25,
    "start_time": "2022-02-16T15:26:31.838Z"
   },
   {
    "duration": 41,
    "start_time": "2022-02-16T15:26:31.866Z"
   },
   {
    "duration": 65,
    "start_time": "2022-02-16T15:26:31.908Z"
   },
   {
    "duration": 22,
    "start_time": "2022-02-16T15:26:31.975Z"
   },
   {
    "duration": 35,
    "start_time": "2022-02-16T15:26:31.999Z"
   },
   {
    "duration": 14,
    "start_time": "2022-02-16T15:26:32.037Z"
   },
   {
    "duration": 28,
    "start_time": "2022-02-16T15:26:32.054Z"
   },
   {
    "duration": 230,
    "start_time": "2022-02-16T15:26:32.084Z"
   },
   {
    "duration": 12,
    "start_time": "2022-02-16T15:26:32.317Z"
   },
   {
    "duration": 192,
    "start_time": "2022-02-16T15:26:32.331Z"
   },
   {
    "duration": 28,
    "start_time": "2022-02-16T15:26:32.525Z"
   },
   {
    "duration": 365,
    "start_time": "2022-02-16T15:26:32.555Z"
   },
   {
    "duration": 307,
    "start_time": "2022-02-16T15:26:32.615Z"
   },
   {
    "duration": 9,
    "start_time": "2022-02-16T15:27:01.800Z"
   },
   {
    "duration": 15,
    "start_time": "2022-02-16T15:27:02.519Z"
   },
   {
    "duration": 228,
    "start_time": "2022-02-16T15:28:48.458Z"
   },
   {
    "duration": 319,
    "start_time": "2022-02-16T15:29:55.858Z"
   },
   {
    "duration": 402,
    "start_time": "2022-02-16T15:30:37.127Z"
   },
   {
    "duration": 221,
    "start_time": "2022-02-16T15:31:07.606Z"
   },
   {
    "duration": 219,
    "start_time": "2022-02-16T15:32:16.295Z"
   },
   {
    "duration": 11,
    "start_time": "2022-02-16T15:33:27.434Z"
   },
   {
    "duration": 295,
    "start_time": "2022-02-16T15:33:39.215Z"
   },
   {
    "duration": 278,
    "start_time": "2022-02-16T15:33:49.039Z"
   },
   {
    "duration": 282,
    "start_time": "2022-02-16T15:33:54.764Z"
   },
   {
    "duration": 207,
    "start_time": "2022-02-16T15:34:00.242Z"
   },
   {
    "duration": 335,
    "start_time": "2022-02-16T15:34:24.759Z"
   },
   {
    "duration": 373,
    "start_time": "2022-02-16T15:35:07.499Z"
   },
   {
    "duration": 362,
    "start_time": "2022-02-16T15:35:24.707Z"
   },
   {
    "duration": 15,
    "start_time": "2022-02-16T17:19:19.868Z"
   },
   {
    "duration": 4,
    "start_time": "2022-02-16T17:19:37.627Z"
   },
   {
    "duration": 5,
    "start_time": "2022-02-16T17:19:46.835Z"
   },
   {
    "duration": 321,
    "start_time": "2022-02-16T17:20:12.721Z"
   },
   {
    "duration": 282,
    "start_time": "2022-02-16T17:24:07.056Z"
   },
   {
    "duration": 5941,
    "start_time": "2022-02-16T17:24:20.351Z"
   },
   {
    "duration": 6514,
    "start_time": "2022-02-16T17:24:49.182Z"
   },
   {
    "duration": 123,
    "start_time": "2022-02-16T17:26:21.059Z"
   },
   {
    "duration": 279,
    "start_time": "2022-02-16T17:28:25.254Z"
   },
   {
    "duration": 4,
    "start_time": "2022-02-16T17:29:32.368Z"
   },
   {
    "duration": 353,
    "start_time": "2022-02-16T17:33:07.482Z"
   },
   {
    "duration": 5,
    "start_time": "2022-02-16T17:33:08.754Z"
   },
   {
    "duration": 1087,
    "start_time": "2022-02-17T17:01:24.985Z"
   },
   {
    "duration": 305,
    "start_time": "2022-02-17T17:01:26.074Z"
   },
   {
    "duration": 6,
    "start_time": "2022-02-17T17:01:26.381Z"
   },
   {
    "duration": 19,
    "start_time": "2022-02-17T17:01:26.389Z"
   },
   {
    "duration": 11,
    "start_time": "2022-02-17T17:01:26.409Z"
   },
   {
    "duration": 9,
    "start_time": "2022-02-17T17:01:26.422Z"
   },
   {
    "duration": 9,
    "start_time": "2022-02-17T17:01:26.433Z"
   },
   {
    "duration": 10,
    "start_time": "2022-02-17T17:01:26.445Z"
   },
   {
    "duration": 8,
    "start_time": "2022-02-17T17:01:26.457Z"
   },
   {
    "duration": 11,
    "start_time": "2022-02-17T17:01:26.467Z"
   },
   {
    "duration": 6,
    "start_time": "2022-02-17T17:01:26.479Z"
   },
   {
    "duration": 13,
    "start_time": "2022-02-17T17:01:26.486Z"
   },
   {
    "duration": 8,
    "start_time": "2022-02-17T17:01:26.501Z"
   },
   {
    "duration": 27,
    "start_time": "2022-02-17T17:01:26.510Z"
   },
   {
    "duration": 10,
    "start_time": "2022-02-17T17:01:26.538Z"
   },
   {
    "duration": 8,
    "start_time": "2022-02-17T17:01:26.550Z"
   },
   {
    "duration": 11,
    "start_time": "2022-02-17T17:01:26.560Z"
   },
   {
    "duration": 9,
    "start_time": "2022-02-17T17:01:26.573Z"
   },
   {
    "duration": 6,
    "start_time": "2022-02-17T17:01:26.585Z"
   },
   {
    "duration": 42,
    "start_time": "2022-02-17T17:01:26.593Z"
   },
   {
    "duration": 195,
    "start_time": "2022-02-17T17:01:26.637Z"
   },
   {
    "duration": 12,
    "start_time": "2022-02-17T17:01:26.833Z"
   },
   {
    "duration": 170,
    "start_time": "2022-02-17T17:01:26.848Z"
   },
   {
    "duration": 19,
    "start_time": "2022-02-17T17:01:27.020Z"
   },
   {
    "duration": 8,
    "start_time": "2022-02-17T17:01:27.040Z"
   },
   {
    "duration": 15,
    "start_time": "2022-02-17T17:01:27.049Z"
   },
   {
    "duration": 222,
    "start_time": "2022-02-17T17:01:27.066Z"
   },
   {
    "duration": 187,
    "start_time": "2022-02-17T17:01:27.290Z"
   },
   {
    "duration": 272,
    "start_time": "2022-02-17T17:01:27.479Z"
   },
   {
    "duration": 179,
    "start_time": "2022-02-17T17:01:27.753Z"
   },
   {
    "duration": 311,
    "start_time": "2022-02-17T17:01:27.934Z"
   },
   {
    "duration": 110,
    "start_time": "2022-02-17T17:01:28.247Z"
   },
   {
    "duration": 283,
    "start_time": "2022-02-17T17:01:28.359Z"
   },
   {
    "duration": 4,
    "start_time": "2022-02-17T17:01:28.644Z"
   },
   {
    "duration": 384,
    "start_time": "2022-02-17T17:01:28.649Z"
   },
   {
    "duration": 4,
    "start_time": "2022-02-17T17:01:29.035Z"
   },
   {
    "duration": 270,
    "start_time": "2022-02-17T17:01:29.040Z"
   },
   {
    "duration": 12,
    "start_time": "2022-02-17T17:03:58.078Z"
   },
   {
    "duration": 14,
    "start_time": "2022-02-17T17:06:51.542Z"
   },
   {
    "duration": 304,
    "start_time": "2022-02-17T17:09:42.969Z"
   },
   {
    "duration": 178,
    "start_time": "2022-02-17T17:10:22.911Z"
   },
   {
    "duration": 10,
    "start_time": "2022-02-17T17:10:26.374Z"
   },
   {
    "duration": 13,
    "start_time": "2022-02-17T17:11:10.996Z"
   },
   {
    "duration": 4448,
    "start_time": "2022-02-17T17:12:46.157Z"
   },
   {
    "duration": 391,
    "start_time": "2022-02-17T17:14:22.270Z"
   },
   {
    "duration": 272,
    "start_time": "2022-02-17T17:16:45.110Z"
   },
   {
    "duration": 187,
    "start_time": "2022-02-17T17:22:48.551Z"
   },
   {
    "duration": 111,
    "start_time": "2022-02-17T17:23:52.887Z"
   },
   {
    "duration": 7,
    "start_time": "2022-02-17T17:25:28.456Z"
   },
   {
    "duration": 7,
    "start_time": "2022-02-17T17:25:47.662Z"
   },
   {
    "duration": 8,
    "start_time": "2022-02-17T17:26:18.856Z"
   },
   {
    "duration": 176,
    "start_time": "2022-02-17T17:26:32.109Z"
   },
   {
    "duration": 6,
    "start_time": "2022-02-17T17:26:34.551Z"
   },
   {
    "duration": 5,
    "start_time": "2022-02-17T17:26:35.095Z"
   },
   {
    "duration": 181,
    "start_time": "2022-02-17T17:27:03.465Z"
   },
   {
    "duration": 114,
    "start_time": "2022-02-17T17:27:22.247Z"
   },
   {
    "duration": 6,
    "start_time": "2022-02-17T17:27:22.709Z"
   },
   {
    "duration": 5,
    "start_time": "2022-02-17T17:27:23.776Z"
   },
   {
    "duration": 318,
    "start_time": "2022-02-17T17:27:55.948Z"
   },
   {
    "duration": 4,
    "start_time": "2022-02-17T17:29:50.287Z"
   },
   {
    "duration": 124,
    "start_time": "2022-02-17T17:30:07.287Z"
   },
   {
    "duration": 9,
    "start_time": "2022-02-17T17:31:13.028Z"
   },
   {
    "duration": 4284,
    "start_time": "2022-02-17T17:32:12.383Z"
   },
   {
    "duration": 4193,
    "start_time": "2022-02-17T17:32:47.322Z"
   },
   {
    "duration": 8,
    "start_time": "2022-02-17T17:33:19.253Z"
   },
   {
    "duration": 4579,
    "start_time": "2022-02-17T17:33:34.447Z"
   },
   {
    "duration": 4218,
    "start_time": "2022-02-17T17:34:51.468Z"
   },
   {
    "duration": 65,
    "start_time": "2022-02-17T17:35:49.009Z"
   },
   {
    "duration": 5,
    "start_time": "2022-02-17T17:36:24.815Z"
   },
   {
    "duration": 7,
    "start_time": "2022-02-17T17:36:47.822Z"
   },
   {
    "duration": 4518,
    "start_time": "2022-02-17T17:37:01.493Z"
   },
   {
    "duration": 11,
    "start_time": "2022-02-17T17:55:56.490Z"
   },
   {
    "duration": 6,
    "start_time": "2022-02-17T17:56:13.086Z"
   },
   {
    "duration": 8,
    "start_time": "2022-02-17T17:56:33.772Z"
   },
   {
    "duration": 10,
    "start_time": "2022-02-17T17:56:56.043Z"
   },
   {
    "duration": 9,
    "start_time": "2022-02-17T17:57:24.394Z"
   },
   {
    "duration": 7,
    "start_time": "2022-02-17T17:57:39.786Z"
   },
   {
    "duration": 4381,
    "start_time": "2022-02-17T17:58:07.224Z"
   },
   {
    "duration": 7,
    "start_time": "2022-02-17T17:58:19.928Z"
   },
   {
    "duration": 15,
    "start_time": "2022-02-17T17:59:17.229Z"
   },
   {
    "duration": 1471,
    "start_time": "2022-02-19T13:19:50.424Z"
   },
   {
    "duration": 354,
    "start_time": "2022-02-19T13:19:51.898Z"
   },
   {
    "duration": 11,
    "start_time": "2022-02-19T13:19:52.255Z"
   },
   {
    "duration": 17,
    "start_time": "2022-02-19T13:19:52.269Z"
   },
   {
    "duration": 8,
    "start_time": "2022-02-19T13:19:52.289Z"
   },
   {
    "duration": 10,
    "start_time": "2022-02-19T13:19:52.299Z"
   },
   {
    "duration": 12,
    "start_time": "2022-02-19T13:19:52.312Z"
   },
   {
    "duration": 16,
    "start_time": "2022-02-19T13:19:52.327Z"
   },
   {
    "duration": 10,
    "start_time": "2022-02-19T13:19:52.349Z"
   },
   {
    "duration": 10,
    "start_time": "2022-02-19T13:19:52.362Z"
   },
   {
    "duration": 40,
    "start_time": "2022-02-19T13:19:52.374Z"
   },
   {
    "duration": 12,
    "start_time": "2022-02-19T13:19:52.416Z"
   },
   {
    "duration": 13,
    "start_time": "2022-02-19T13:19:52.430Z"
   },
   {
    "duration": 64,
    "start_time": "2022-02-19T13:19:52.446Z"
   },
   {
    "duration": 19,
    "start_time": "2022-02-19T13:19:52.514Z"
   },
   {
    "duration": 75,
    "start_time": "2022-02-19T13:19:52.536Z"
   },
   {
    "duration": 27,
    "start_time": "2022-02-19T13:19:52.614Z"
   },
   {
    "duration": 16,
    "start_time": "2022-02-19T13:19:52.644Z"
   },
   {
    "duration": 9,
    "start_time": "2022-02-19T13:19:52.711Z"
   },
   {
    "duration": 19,
    "start_time": "2022-02-19T13:19:52.722Z"
   },
   {
    "duration": 444,
    "start_time": "2022-02-19T13:19:52.744Z"
   },
   {
    "duration": 24,
    "start_time": "2022-02-19T13:19:53.190Z"
   },
   {
    "duration": 296,
    "start_time": "2022-02-19T13:19:53.217Z"
   },
   {
    "duration": 16,
    "start_time": "2022-02-19T13:19:53.516Z"
   },
   {
    "duration": 12,
    "start_time": "2022-02-19T13:19:53.534Z"
   },
   {
    "duration": 18,
    "start_time": "2022-02-19T13:19:53.548Z"
   },
   {
    "duration": 393,
    "start_time": "2022-02-19T13:19:53.572Z"
   },
   {
    "duration": 368,
    "start_time": "2022-02-19T13:19:53.969Z"
   },
   {
    "duration": 420,
    "start_time": "2022-02-19T13:19:54.340Z"
   },
   {
    "duration": 333,
    "start_time": "2022-02-19T13:19:54.762Z"
   },
   {
    "duration": 449,
    "start_time": "2022-02-19T13:19:55.097Z"
   },
   {
    "duration": 224,
    "start_time": "2022-02-19T13:19:55.549Z"
   },
   {
    "duration": 435,
    "start_time": "2022-02-19T13:19:55.776Z"
   },
   {
    "duration": 7,
    "start_time": "2022-02-19T13:19:56.213Z"
   },
   {
    "duration": 395,
    "start_time": "2022-02-19T13:19:56.223Z"
   },
   {
    "duration": 6,
    "start_time": "2022-02-19T13:19:56.622Z"
   },
   {
    "duration": 20,
    "start_time": "2022-02-19T13:19:56.631Z"
   },
   {
    "duration": 492,
    "start_time": "2022-02-19T13:19:56.653Z"
   },
   {
    "duration": 233,
    "start_time": "2022-02-19T13:19:57.148Z"
   },
   {
    "duration": 10,
    "start_time": "2022-02-19T13:19:57.384Z"
   },
   {
    "duration": 239,
    "start_time": "2022-02-19T13:19:57.412Z"
   },
   {
    "duration": 782,
    "start_time": "2022-02-19T13:19:57.654Z"
   },
   {
    "duration": 79,
    "start_time": "2022-02-19T13:19:58.361Z"
   },
   {
    "duration": 80,
    "start_time": "2022-02-19T13:19:58.362Z"
   },
   {
    "duration": -312,
    "start_time": "2022-02-19T13:19:58.756Z"
   },
   {
    "duration": -317,
    "start_time": "2022-02-19T13:19:58.763Z"
   },
   {
    "duration": -318,
    "start_time": "2022-02-19T13:19:58.766Z"
   },
   {
    "duration": 15,
    "start_time": "2022-02-19T13:20:09.024Z"
   },
   {
    "duration": 11,
    "start_time": "2022-02-19T13:20:10.519Z"
   },
   {
    "duration": 16,
    "start_time": "2022-02-19T13:20:10.786Z"
   },
   {
    "duration": 11,
    "start_time": "2022-02-19T13:20:12.331Z"
   },
   {
    "duration": 10,
    "start_time": "2022-02-19T13:20:15.592Z"
   },
   {
    "duration": 3068,
    "start_time": "2022-02-19T13:20:15.604Z"
   },
   {
    "duration": 26,
    "start_time": "2022-02-19T13:20:28.457Z"
   },
   {
    "duration": 6,
    "start_time": "2022-02-19T13:37:58.005Z"
   },
   {
    "duration": 5,
    "start_time": "2022-02-19T13:38:09.967Z"
   },
   {
    "duration": 15,
    "start_time": "2022-02-19T13:45:57.907Z"
   },
   {
    "duration": 13,
    "start_time": "2022-02-19T14:05:46.899Z"
   },
   {
    "duration": 14,
    "start_time": "2022-02-19T14:05:47.931Z"
   },
   {
    "duration": 6,
    "start_time": "2022-02-19T14:05:56.746Z"
   },
   {
    "duration": 13,
    "start_time": "2022-02-19T14:05:57.732Z"
   },
   {
    "duration": 14,
    "start_time": "2022-02-19T14:05:59.322Z"
   },
   {
    "duration": 15,
    "start_time": "2022-02-19T14:06:01.392Z"
   },
   {
    "duration": 17,
    "start_time": "2022-02-19T14:38:26.089Z"
   },
   {
    "duration": 403,
    "start_time": "2022-02-19T14:39:05.831Z"
   },
   {
    "duration": 22,
    "start_time": "2022-02-19T14:39:54.367Z"
   },
   {
    "duration": 741,
    "start_time": "2022-02-19T14:40:08.509Z"
   },
   {
    "duration": 12,
    "start_time": "2022-02-19T14:40:22.837Z"
   },
   {
    "duration": 474,
    "start_time": "2022-02-19T14:40:48.476Z"
   },
   {
    "duration": 11,
    "start_time": "2022-02-19T14:41:01.732Z"
   },
   {
    "duration": 8,
    "start_time": "2022-02-19T14:41:44.576Z"
   },
   {
    "duration": 13,
    "start_time": "2022-02-19T14:41:55.449Z"
   },
   {
    "duration": 15,
    "start_time": "2022-02-19T14:42:11.345Z"
   },
   {
    "duration": 23,
    "start_time": "2022-02-19T14:42:18.256Z"
   },
   {
    "duration": 12,
    "start_time": "2022-02-19T14:42:48.743Z"
   },
   {
    "duration": 13,
    "start_time": "2022-02-19T14:42:54.850Z"
   },
   {
    "duration": 18,
    "start_time": "2022-02-19T14:43:24.781Z"
   },
   {
    "duration": 9,
    "start_time": "2022-02-19T14:43:33.509Z"
   },
   {
    "duration": 5,
    "start_time": "2022-02-19T14:43:40.342Z"
   },
   {
    "duration": 5,
    "start_time": "2022-02-19T14:43:46.479Z"
   },
   {
    "duration": 6,
    "start_time": "2022-02-19T14:44:03.348Z"
   },
   {
    "duration": 381,
    "start_time": "2022-02-19T14:45:14.361Z"
   },
   {
    "duration": 5,
    "start_time": "2022-02-19T14:45:32.416Z"
   },
   {
    "duration": 10,
    "start_time": "2022-02-19T14:45:46.624Z"
   },
   {
    "duration": 11,
    "start_time": "2022-02-19T14:45:53.091Z"
   },
   {
    "duration": 6,
    "start_time": "2022-02-19T14:46:12.425Z"
   },
   {
    "duration": 6,
    "start_time": "2022-02-19T14:46:16.686Z"
   },
   {
    "duration": 9,
    "start_time": "2022-02-19T14:46:29.958Z"
   },
   {
    "duration": 9,
    "start_time": "2022-02-19T14:46:37.166Z"
   },
   {
    "duration": 5,
    "start_time": "2022-02-19T14:46:58.719Z"
   },
   {
    "duration": 130,
    "start_time": "2022-02-19T14:47:08.891Z"
   },
   {
    "duration": 8,
    "start_time": "2022-02-19T14:47:13.203Z"
   },
   {
    "duration": 6,
    "start_time": "2022-02-19T14:47:17.797Z"
   },
   {
    "duration": 5,
    "start_time": "2022-02-19T14:47:32.604Z"
   },
   {
    "duration": 6,
    "start_time": "2022-02-19T14:47:38.435Z"
   },
   {
    "duration": 122,
    "start_time": "2022-02-19T14:47:46.076Z"
   },
   {
    "duration": 8,
    "start_time": "2022-02-19T14:47:50.386Z"
   },
   {
    "duration": 5,
    "start_time": "2022-02-19T14:48:13.147Z"
   },
   {
    "duration": 6,
    "start_time": "2022-02-19T14:48:32.961Z"
   },
   {
    "duration": 5,
    "start_time": "2022-02-19T14:48:40.240Z"
   },
   {
    "duration": 6,
    "start_time": "2022-02-19T14:48:43.418Z"
   },
   {
    "duration": 6,
    "start_time": "2022-02-19T14:49:01.240Z"
   },
   {
    "duration": 5,
    "start_time": "2022-02-19T14:49:17.718Z"
   },
   {
    "duration": 5,
    "start_time": "2022-02-19T14:49:26.375Z"
   },
   {
    "duration": 5,
    "start_time": "2022-02-19T14:49:41.959Z"
   },
   {
    "duration": 6,
    "start_time": "2022-02-19T14:49:48.942Z"
   },
   {
    "duration": 5,
    "start_time": "2022-02-19T14:49:53.605Z"
   },
   {
    "duration": 7,
    "start_time": "2022-02-19T14:50:17.389Z"
   },
   {
    "duration": 5,
    "start_time": "2022-02-19T16:38:48.309Z"
   },
   {
    "duration": 6,
    "start_time": "2022-02-19T16:39:03.592Z"
   },
   {
    "duration": 3,
    "start_time": "2022-02-19T16:39:13.244Z"
   },
   {
    "duration": 6,
    "start_time": "2022-02-19T16:39:13.669Z"
   },
   {
    "duration": 330,
    "start_time": "2022-02-19T16:40:03.937Z"
   },
   {
    "duration": 18,
    "start_time": "2022-02-19T16:40:04.858Z"
   },
   {
    "duration": 453,
    "start_time": "2022-02-19T16:40:17.514Z"
   },
   {
    "duration": 333,
    "start_time": "2022-02-19T16:40:36.072Z"
   },
   {
    "duration": 384,
    "start_time": "2022-02-19T16:40:47.906Z"
   },
   {
    "duration": 313,
    "start_time": "2022-02-19T16:41:10.485Z"
   },
   {
    "duration": 318,
    "start_time": "2022-02-19T16:41:13.486Z"
   },
   {
    "duration": 133,
    "start_time": "2022-02-19T16:41:15.783Z"
   },
   {
    "duration": 145,
    "start_time": "2022-02-19T16:41:25.677Z"
   },
   {
    "duration": 132,
    "start_time": "2022-02-19T16:41:33.254Z"
   },
   {
    "duration": 301,
    "start_time": "2022-02-19T16:41:41.380Z"
   },
   {
    "duration": 372,
    "start_time": "2022-02-19T16:42:51.323Z"
   },
   {
    "duration": 263,
    "start_time": "2022-02-19T16:42:59.362Z"
   },
   {
    "duration": 274,
    "start_time": "2022-02-19T16:43:13.893Z"
   },
   {
    "duration": 11,
    "start_time": "2022-02-19T16:44:54.902Z"
   },
   {
    "duration": 10,
    "start_time": "2022-02-19T16:45:10.619Z"
   },
   {
    "duration": 14,
    "start_time": "2022-02-19T16:46:35.273Z"
   },
   {
    "duration": 1333,
    "start_time": "2022-02-19T16:46:48.658Z"
   },
   {
    "duration": 200,
    "start_time": "2022-02-19T16:46:49.993Z"
   },
   {
    "duration": 10,
    "start_time": "2022-02-19T16:46:50.196Z"
   },
   {
    "duration": 20,
    "start_time": "2022-02-19T16:46:50.209Z"
   },
   {
    "duration": 9,
    "start_time": "2022-02-19T16:46:50.231Z"
   },
   {
    "duration": 9,
    "start_time": "2022-02-19T16:46:50.243Z"
   },
   {
    "duration": 14,
    "start_time": "2022-02-19T16:46:50.255Z"
   },
   {
    "duration": 7,
    "start_time": "2022-02-19T16:46:50.273Z"
   },
   {
    "duration": 37,
    "start_time": "2022-02-19T16:46:50.284Z"
   },
   {
    "duration": 10,
    "start_time": "2022-02-19T16:46:50.324Z"
   },
   {
    "duration": 15,
    "start_time": "2022-02-19T16:46:50.337Z"
   },
   {
    "duration": 15,
    "start_time": "2022-02-19T16:46:50.355Z"
   },
   {
    "duration": 17,
    "start_time": "2022-02-19T16:46:50.410Z"
   },
   {
    "duration": 501,
    "start_time": "2022-02-19T16:46:50.429Z"
   },
   {
    "duration": -402,
    "start_time": "2022-02-19T16:46:51.336Z"
   },
   {
    "duration": -404,
    "start_time": "2022-02-19T16:46:51.339Z"
   },
   {
    "duration": -405,
    "start_time": "2022-02-19T16:46:51.341Z"
   },
   {
    "duration": -406,
    "start_time": "2022-02-19T16:46:51.344Z"
   },
   {
    "duration": -410,
    "start_time": "2022-02-19T16:46:51.349Z"
   },
   {
    "duration": -409,
    "start_time": "2022-02-19T16:46:51.350Z"
   },
   {
    "duration": -410,
    "start_time": "2022-02-19T16:46:51.353Z"
   },
   {
    "duration": -409,
    "start_time": "2022-02-19T16:46:51.354Z"
   },
   {
    "duration": -411,
    "start_time": "2022-02-19T16:46:51.357Z"
   },
   {
    "duration": -411,
    "start_time": "2022-02-19T16:46:51.359Z"
   },
   {
    "duration": -415,
    "start_time": "2022-02-19T16:46:51.365Z"
   },
   {
    "duration": -414,
    "start_time": "2022-02-19T16:46:51.366Z"
   },
   {
    "duration": -416,
    "start_time": "2022-02-19T16:46:51.369Z"
   },
   {
    "duration": -416,
    "start_time": "2022-02-19T16:46:51.370Z"
   },
   {
    "duration": -416,
    "start_time": "2022-02-19T16:46:51.372Z"
   },
   {
    "duration": -417,
    "start_time": "2022-02-19T16:46:51.374Z"
   },
   {
    "duration": -453,
    "start_time": "2022-02-19T16:46:51.412Z"
   },
   {
    "duration": -456,
    "start_time": "2022-02-19T16:46:51.416Z"
   },
   {
    "duration": -455,
    "start_time": "2022-02-19T16:46:51.417Z"
   },
   {
    "duration": -457,
    "start_time": "2022-02-19T16:46:51.420Z"
   },
   {
    "duration": -458,
    "start_time": "2022-02-19T16:46:51.422Z"
   },
   {
    "duration": -459,
    "start_time": "2022-02-19T16:46:51.425Z"
   },
   {
    "duration": -460,
    "start_time": "2022-02-19T16:46:51.427Z"
   },
   {
    "duration": -460,
    "start_time": "2022-02-19T16:46:51.429Z"
   },
   {
    "duration": -461,
    "start_time": "2022-02-19T16:46:51.431Z"
   },
   {
    "duration": -462,
    "start_time": "2022-02-19T16:46:51.434Z"
   },
   {
    "duration": -463,
    "start_time": "2022-02-19T16:46:51.436Z"
   },
   {
    "duration": 379,
    "start_time": "2022-02-19T16:47:16.282Z"
   },
   {
    "duration": 12,
    "start_time": "2022-02-19T16:50:44.455Z"
   },
   {
    "duration": 9,
    "start_time": "2022-02-19T16:53:55.279Z"
   },
   {
    "duration": 446,
    "start_time": "2022-02-19T16:53:55.455Z"
   },
   {
    "duration": 16,
    "start_time": "2022-02-19T16:53:55.983Z"
   },
   {
    "duration": 16,
    "start_time": "2022-02-19T16:53:56.529Z"
   },
   {
    "duration": 295,
    "start_time": "2022-02-19T16:53:56.887Z"
   },
   {
    "duration": 16,
    "start_time": "2022-02-19T16:53:57.472Z"
   },
   {
    "duration": 10,
    "start_time": "2022-02-19T16:53:58.199Z"
   },
   {
    "duration": 20,
    "start_time": "2022-02-19T16:53:58.424Z"
   },
   {
    "duration": 322,
    "start_time": "2022-02-19T16:53:58.680Z"
   },
   {
    "duration": 312,
    "start_time": "2022-02-19T16:53:59.209Z"
   },
   {
    "duration": 1623,
    "start_time": "2022-02-19T16:54:27.433Z"
   },
   {
    "duration": 233,
    "start_time": "2022-02-19T16:54:29.064Z"
   },
   {
    "duration": 11,
    "start_time": "2022-02-19T16:54:29.300Z"
   },
   {
    "duration": 13,
    "start_time": "2022-02-19T16:54:29.313Z"
   },
   {
    "duration": 13,
    "start_time": "2022-02-19T16:54:29.329Z"
   },
   {
    "duration": 13,
    "start_time": "2022-02-19T16:54:29.345Z"
   },
   {
    "duration": 50,
    "start_time": "2022-02-19T16:54:29.363Z"
   },
   {
    "duration": 12,
    "start_time": "2022-02-19T16:54:29.419Z"
   },
   {
    "duration": 20,
    "start_time": "2022-02-19T16:54:29.434Z"
   },
   {
    "duration": 55,
    "start_time": "2022-02-19T16:54:29.456Z"
   },
   {
    "duration": 20,
    "start_time": "2022-02-19T16:54:29.513Z"
   },
   {
    "duration": 18,
    "start_time": "2022-02-19T16:54:29.535Z"
   },
   {
    "duration": 15,
    "start_time": "2022-02-19T16:54:29.612Z"
   },
   {
    "duration": 7,
    "start_time": "2022-02-19T16:54:29.629Z"
   },
   {
    "duration": 725,
    "start_time": "2022-02-19T16:54:29.639Z"
   },
   {
    "duration": 13,
    "start_time": "2022-02-19T16:54:30.367Z"
   },
   {
    "duration": 43,
    "start_time": "2022-02-19T16:54:30.382Z"
   },
   {
    "duration": 295,
    "start_time": "2022-02-19T16:54:30.428Z"
   },
   {
    "duration": 15,
    "start_time": "2022-02-19T16:54:30.726Z"
   },
   {
    "duration": 13,
    "start_time": "2022-02-19T16:54:30.744Z"
   },
   {
    "duration": 52,
    "start_time": "2022-02-19T16:54:30.760Z"
   },
   {
    "duration": 348,
    "start_time": "2022-02-19T16:54:30.817Z"
   },
   {
    "duration": 382,
    "start_time": "2022-02-19T16:54:31.168Z"
   },
   {
    "duration": 485,
    "start_time": "2022-02-19T16:54:31.553Z"
   },
   {
    "duration": 325,
    "start_time": "2022-02-19T16:54:32.040Z"
   },
   {
    "duration": 881,
    "start_time": "2022-02-19T16:54:32.368Z"
   },
   {
    "duration": 475,
    "start_time": "2022-02-19T16:54:33.252Z"
   },
   {
    "duration": 437,
    "start_time": "2022-02-19T16:54:33.730Z"
   },
   {
    "duration": 5,
    "start_time": "2022-02-19T16:54:34.170Z"
   },
   {
    "duration": 441,
    "start_time": "2022-02-19T16:54:34.177Z"
   },
   {
    "duration": 5,
    "start_time": "2022-02-19T16:54:34.620Z"
   },
   {
    "duration": 19,
    "start_time": "2022-02-19T16:54:34.627Z"
   },
   {
    "duration": 487,
    "start_time": "2022-02-19T16:54:34.648Z"
   },
   {
    "duration": 226,
    "start_time": "2022-02-19T16:54:35.138Z"
   },
   {
    "duration": 8,
    "start_time": "2022-02-19T16:54:35.366Z"
   },
   {
    "duration": 291,
    "start_time": "2022-02-19T16:54:35.376Z"
   },
   {
    "duration": 13,
    "start_time": "2022-02-19T16:54:35.669Z"
   },
   {
    "duration": 31,
    "start_time": "2022-02-19T16:54:35.685Z"
   },
   {
    "duration": 15,
    "start_time": "2022-02-19T16:54:35.718Z"
   },
   {
    "duration": 14,
    "start_time": "2022-02-19T16:54:35.735Z"
   },
   {
    "duration": 12,
    "start_time": "2022-02-19T16:54:35.751Z"
   },
   {
    "duration": 64,
    "start_time": "2022-02-19T16:54:35.766Z"
   },
   {
    "duration": 10,
    "start_time": "2022-02-19T16:59:49.478Z"
   },
   {
    "duration": 464,
    "start_time": "2022-02-19T17:02:43.818Z"
   },
   {
    "duration": 738,
    "start_time": "2022-02-19T17:02:57.393Z"
   },
   {
    "duration": 342,
    "start_time": "2022-02-19T17:07:19.614Z"
   },
   {
    "duration": 388,
    "start_time": "2022-02-19T17:08:10.931Z"
   },
   {
    "duration": 547,
    "start_time": "2022-02-19T17:08:19.235Z"
   },
   {
    "duration": 347,
    "start_time": "2022-02-19T17:08:29.131Z"
   },
   {
    "duration": 331,
    "start_time": "2022-02-19T17:08:49.918Z"
   },
   {
    "duration": 372,
    "start_time": "2022-02-19T17:08:58.484Z"
   },
   {
    "duration": 353,
    "start_time": "2022-02-19T17:09:01.826Z"
   },
   {
    "duration": 320,
    "start_time": "2022-02-19T17:09:08.155Z"
   },
   {
    "duration": 418,
    "start_time": "2022-02-19T17:09:14.372Z"
   },
   {
    "duration": 388,
    "start_time": "2022-02-19T17:09:24.825Z"
   },
   {
    "duration": 431,
    "start_time": "2022-02-19T17:09:33.641Z"
   },
   {
    "duration": 343,
    "start_time": "2022-02-19T17:09:39.681Z"
   },
   {
    "duration": 330,
    "start_time": "2022-02-19T17:09:46.183Z"
   },
   {
    "duration": 353,
    "start_time": "2022-02-19T17:09:53.395Z"
   },
   {
    "duration": 344,
    "start_time": "2022-02-19T17:09:58.543Z"
   },
   {
    "duration": 940,
    "start_time": "2022-02-19T17:10:23.550Z"
   },
   {
    "duration": 361,
    "start_time": "2022-02-19T17:10:38.422Z"
   },
   {
    "duration": 378,
    "start_time": "2022-02-19T17:10:52.197Z"
   },
   {
    "duration": 337,
    "start_time": "2022-02-19T17:11:17.124Z"
   },
   {
    "duration": 358,
    "start_time": "2022-02-19T17:13:49.316Z"
   },
   {
    "duration": 357,
    "start_time": "2022-02-19T17:13:59.853Z"
   },
   {
    "duration": 358,
    "start_time": "2022-02-19T17:14:51.418Z"
   },
   {
    "duration": 377,
    "start_time": "2022-02-19T17:15:01.195Z"
   },
   {
    "duration": 366,
    "start_time": "2022-02-19T17:15:07.400Z"
   },
   {
    "duration": 463,
    "start_time": "2022-02-19T17:19:19.599Z"
   },
   {
    "duration": 1203,
    "start_time": "2022-02-19T17:19:27.648Z"
   },
   {
    "duration": 359,
    "start_time": "2022-02-19T17:19:38.798Z"
   },
   {
    "duration": 412,
    "start_time": "2022-02-19T17:19:51.559Z"
   },
   {
    "duration": 384,
    "start_time": "2022-02-19T17:19:57.830Z"
   },
   {
    "duration": 361,
    "start_time": "2022-02-19T17:20:03.902Z"
   },
   {
    "duration": 376,
    "start_time": "2022-02-19T17:20:09.420Z"
   },
   {
    "duration": 385,
    "start_time": "2022-02-19T17:21:04.345Z"
   },
   {
    "duration": 582,
    "start_time": "2022-02-19T17:21:19.810Z"
   },
   {
    "duration": 709,
    "start_time": "2022-02-19T17:21:40.434Z"
   },
   {
    "duration": 665,
    "start_time": "2022-02-19T17:21:57.264Z"
   },
   {
    "duration": 764,
    "start_time": "2022-02-19T17:22:08.995Z"
   },
   {
    "duration": 415,
    "start_time": "2022-02-19T17:22:54.471Z"
   },
   {
    "duration": 786,
    "start_time": "2022-02-19T17:23:40.443Z"
   },
   {
    "duration": 765,
    "start_time": "2022-02-19T17:25:32.505Z"
   },
   {
    "duration": 412,
    "start_time": "2022-02-19T17:26:04.718Z"
   },
   {
    "duration": 412,
    "start_time": "2022-02-19T17:26:44.805Z"
   },
   {
    "duration": 393,
    "start_time": "2022-02-19T17:26:51.778Z"
   },
   {
    "duration": 451,
    "start_time": "2022-02-19T17:26:57.325Z"
   },
   {
    "duration": 528,
    "start_time": "2022-02-19T17:27:36.867Z"
   },
   {
    "duration": 399,
    "start_time": "2022-02-19T17:28:08.391Z"
   },
   {
    "duration": 378,
    "start_time": "2022-02-19T17:28:47.215Z"
   },
   {
    "duration": 122,
    "start_time": "2022-02-19T17:29:01.856Z"
   },
   {
    "duration": 407,
    "start_time": "2022-02-19T17:29:08.631Z"
   },
   {
    "duration": 394,
    "start_time": "2022-02-19T17:29:14.710Z"
   },
   {
    "duration": 399,
    "start_time": "2022-02-19T17:29:21.318Z"
   },
   {
    "duration": 569,
    "start_time": "2022-02-19T17:29:43.502Z"
   },
   {
    "duration": 410,
    "start_time": "2022-02-19T17:30:20.172Z"
   },
   {
    "duration": 404,
    "start_time": "2022-02-19T17:30:55.025Z"
   },
   {
    "duration": 414,
    "start_time": "2022-02-19T17:31:04.121Z"
   },
   {
    "duration": 387,
    "start_time": "2022-02-19T17:31:19.834Z"
   },
   {
    "duration": 386,
    "start_time": "2022-02-19T17:32:03.096Z"
   },
   {
    "duration": 386,
    "start_time": "2022-02-19T17:32:13.567Z"
   },
   {
    "duration": 505,
    "start_time": "2022-02-19T17:32:41.638Z"
   },
   {
    "duration": 378,
    "start_time": "2022-02-19T17:34:38.938Z"
   },
   {
    "duration": 630,
    "start_time": "2022-02-19T17:36:10.086Z"
   },
   {
    "duration": 214,
    "start_time": "2022-02-19T17:36:33.339Z"
   },
   {
    "duration": 125,
    "start_time": "2022-02-19T17:36:47.603Z"
   },
   {
    "duration": 606,
    "start_time": "2022-02-19T17:36:59.481Z"
   },
   {
    "duration": 748,
    "start_time": "2022-02-19T17:37:10.667Z"
   },
   {
    "duration": 789,
    "start_time": "2022-02-19T17:37:33.483Z"
   },
   {
    "duration": 694,
    "start_time": "2022-02-19T17:37:39.963Z"
   },
   {
    "duration": 791,
    "start_time": "2022-02-19T17:38:03.690Z"
   },
   {
    "duration": 685,
    "start_time": "2022-02-19T17:38:40.272Z"
   },
   {
    "duration": 586,
    "start_time": "2022-02-19T17:38:49.072Z"
   },
   {
    "duration": 666,
    "start_time": "2022-02-19T17:39:07.623Z"
   },
   {
    "duration": 550,
    "start_time": "2022-02-19T17:39:31.230Z"
   },
   {
    "duration": 493,
    "start_time": "2022-02-19T17:40:05.277Z"
   },
   {
    "duration": 495,
    "start_time": "2022-02-19T17:40:12.053Z"
   },
   {
    "duration": 371,
    "start_time": "2022-02-19T17:47:26.620Z"
   },
   {
    "duration": 452,
    "start_time": "2022-02-19T17:47:35.490Z"
   },
   {
    "duration": 551,
    "start_time": "2022-02-19T17:48:18.672Z"
   },
   {
    "duration": 365,
    "start_time": "2022-02-19T17:48:29.633Z"
   },
   {
    "duration": 469,
    "start_time": "2022-02-19T17:53:02.518Z"
   },
   {
    "duration": 558,
    "start_time": "2022-02-19T17:53:56.755Z"
   },
   {
    "duration": 510,
    "start_time": "2022-02-19T17:54:24.232Z"
   },
   {
    "duration": 478,
    "start_time": "2022-02-19T17:54:35.615Z"
   },
   {
    "duration": 460,
    "start_time": "2022-02-19T17:54:46.223Z"
   },
   {
    "duration": 1354,
    "start_time": "2022-02-19T18:02:50.648Z"
   },
   {
    "duration": 303,
    "start_time": "2022-02-19T18:02:52.009Z"
   },
   {
    "duration": 10,
    "start_time": "2022-02-19T18:02:52.315Z"
   },
   {
    "duration": 9,
    "start_time": "2022-02-19T18:02:52.328Z"
   },
   {
    "duration": 9,
    "start_time": "2022-02-19T18:02:52.340Z"
   },
   {
    "duration": 9,
    "start_time": "2022-02-19T18:02:52.351Z"
   },
   {
    "duration": 55,
    "start_time": "2022-02-19T18:02:52.363Z"
   },
   {
    "duration": 7,
    "start_time": "2022-02-19T18:02:52.420Z"
   },
   {
    "duration": 14,
    "start_time": "2022-02-19T18:02:52.430Z"
   },
   {
    "duration": 7,
    "start_time": "2022-02-19T18:02:52.447Z"
   },
   {
    "duration": 56,
    "start_time": "2022-02-19T18:02:52.456Z"
   },
   {
    "duration": 14,
    "start_time": "2022-02-19T18:02:52.515Z"
   },
   {
    "duration": 16,
    "start_time": "2022-02-19T18:02:52.532Z"
   },
   {
    "duration": 8,
    "start_time": "2022-02-19T18:02:52.550Z"
   },
   {
    "duration": 367,
    "start_time": "2022-02-19T18:02:52.560Z"
   },
   {
    "duration": 15,
    "start_time": "2022-02-19T18:02:52.930Z"
   },
   {
    "duration": 288,
    "start_time": "2022-02-19T18:02:52.947Z"
   },
   {
    "duration": 15,
    "start_time": "2022-02-19T18:02:53.238Z"
   },
   {
    "duration": 10,
    "start_time": "2022-02-19T18:02:53.255Z"
   },
   {
    "duration": 49,
    "start_time": "2022-02-19T18:02:53.268Z"
   },
   {
    "duration": 424,
    "start_time": "2022-02-19T18:02:53.319Z"
   },
   {
    "duration": 409,
    "start_time": "2022-02-19T18:02:53.746Z"
   },
   {
    "duration": 561,
    "start_time": "2022-02-19T18:02:54.158Z"
   },
   {
    "duration": 393,
    "start_time": "2022-02-19T18:02:54.722Z"
   },
   {
    "duration": 473,
    "start_time": "2022-02-19T18:02:55.118Z"
   },
   {
    "duration": 252,
    "start_time": "2022-02-19T18:02:55.594Z"
   },
   {
    "duration": 377,
    "start_time": "2022-02-19T18:02:55.851Z"
   },
   {
    "duration": 6,
    "start_time": "2022-02-19T18:02:56.231Z"
   },
   {
    "duration": 383,
    "start_time": "2022-02-19T18:02:56.239Z"
   },
   {
    "duration": 6,
    "start_time": "2022-02-19T18:02:56.625Z"
   },
   {
    "duration": 492,
    "start_time": "2022-02-19T18:02:56.633Z"
   },
   {
    "duration": 239,
    "start_time": "2022-02-19T18:02:57.128Z"
   },
   {
    "duration": 256,
    "start_time": "2022-02-19T18:02:57.370Z"
   },
   {
    "duration": 13,
    "start_time": "2022-02-19T18:02:57.629Z"
   },
   {
    "duration": 11,
    "start_time": "2022-02-19T18:02:57.645Z"
   },
   {
    "duration": 14,
    "start_time": "2022-02-19T18:02:57.659Z"
   },
   {
    "duration": 12,
    "start_time": "2022-02-19T18:02:57.711Z"
   },
   {
    "duration": 19,
    "start_time": "2022-02-19T18:02:57.725Z"
   },
   {
    "duration": 19,
    "start_time": "2022-02-19T18:02:57.746Z"
   },
   {
    "duration": 256,
    "start_time": "2022-02-19T18:03:29.845Z"
   },
   {
    "duration": 16,
    "start_time": "2022-02-19T18:04:05.247Z"
   },
   {
    "duration": 16,
    "start_time": "2022-02-19T18:04:28.261Z"
   },
   {
    "duration": 15,
    "start_time": "2022-02-19T18:08:41.572Z"
   },
   {
    "duration": 13,
    "start_time": "2022-02-19T18:08:41.796Z"
   },
   {
    "duration": 11,
    "start_time": "2022-02-19T18:08:42.235Z"
   },
   {
    "duration": 23,
    "start_time": "2022-02-19T18:08:44.148Z"
   },
   {
    "duration": 456,
    "start_time": "2022-02-19T18:10:35.703Z"
   },
   {
    "duration": 1410,
    "start_time": "2022-02-19T18:10:45.466Z"
   },
   {
    "duration": 192,
    "start_time": "2022-02-19T18:10:46.879Z"
   },
   {
    "duration": 9,
    "start_time": "2022-02-19T18:10:47.074Z"
   },
   {
    "duration": 11,
    "start_time": "2022-02-19T18:10:47.086Z"
   },
   {
    "duration": 11,
    "start_time": "2022-02-19T18:10:47.099Z"
   },
   {
    "duration": 9,
    "start_time": "2022-02-19T18:10:47.112Z"
   },
   {
    "duration": 13,
    "start_time": "2022-02-19T18:10:47.124Z"
   },
   {
    "duration": 7,
    "start_time": "2022-02-19T18:10:47.141Z"
   },
   {
    "duration": 13,
    "start_time": "2022-02-19T18:10:47.151Z"
   },
   {
    "duration": 44,
    "start_time": "2022-02-19T18:10:47.167Z"
   },
   {
    "duration": 14,
    "start_time": "2022-02-19T18:10:47.213Z"
   },
   {
    "duration": 13,
    "start_time": "2022-02-19T18:10:47.229Z"
   },
   {
    "duration": 13,
    "start_time": "2022-02-19T18:10:47.245Z"
   },
   {
    "duration": 10,
    "start_time": "2022-02-19T18:10:47.261Z"
   },
   {
    "duration": 464,
    "start_time": "2022-02-19T18:10:47.312Z"
   },
   {
    "duration": 21,
    "start_time": "2022-02-19T18:10:47.779Z"
   },
   {
    "duration": 393,
    "start_time": "2022-02-19T18:10:47.803Z"
   },
   {
    "duration": 25,
    "start_time": "2022-02-19T18:10:48.200Z"
   },
   {
    "duration": 16,
    "start_time": "2022-02-19T18:10:48.228Z"
   },
   {
    "duration": 25,
    "start_time": "2022-02-19T18:10:48.247Z"
   },
   {
    "duration": 606,
    "start_time": "2022-02-19T18:10:48.274Z"
   },
   {
    "duration": 465,
    "start_time": "2022-02-19T18:10:48.883Z"
   },
   {
    "duration": 559,
    "start_time": "2022-02-19T18:10:49.355Z"
   },
   {
    "duration": 456,
    "start_time": "2022-02-19T18:10:49.917Z"
   },
   {
    "duration": 526,
    "start_time": "2022-02-19T18:10:50.376Z"
   },
   {
    "duration": 331,
    "start_time": "2022-02-19T18:10:50.909Z"
   },
   {
    "duration": 381,
    "start_time": "2022-02-19T18:10:51.243Z"
   },
   {
    "duration": 6,
    "start_time": "2022-02-19T18:10:51.626Z"
   },
   {
    "duration": 405,
    "start_time": "2022-02-19T18:10:51.634Z"
   },
   {
    "duration": 5,
    "start_time": "2022-02-19T18:10:52.042Z"
   },
   {
    "duration": 486,
    "start_time": "2022-02-19T18:10:52.050Z"
   },
   {
    "duration": 260,
    "start_time": "2022-02-19T18:10:52.539Z"
   },
   {
    "duration": 24,
    "start_time": "2022-02-19T18:10:52.801Z"
   },
   {
    "duration": 15,
    "start_time": "2022-02-19T18:10:52.827Z"
   },
   {
    "duration": 17,
    "start_time": "2022-02-19T18:10:52.844Z"
   },
   {
    "duration": 49,
    "start_time": "2022-02-19T18:10:52.864Z"
   },
   {
    "duration": 21,
    "start_time": "2022-02-19T18:10:52.916Z"
   },
   {
    "duration": 16,
    "start_time": "2022-02-19T18:11:45.220Z"
   },
   {
    "duration": 556,
    "start_time": "2022-02-19T18:13:01.666Z"
   },
   {
    "duration": 347,
    "start_time": "2022-02-19T18:13:15.467Z"
   },
   {
    "duration": 9,
    "start_time": "2022-02-19T18:13:19.841Z"
   },
   {
    "duration": 434,
    "start_time": "2022-02-19T18:13:20.385Z"
   },
   {
    "duration": 11,
    "start_time": "2022-02-19T18:13:26.943Z"
   },
   {
    "duration": 10,
    "start_time": "2022-02-19T18:13:36.817Z"
   },
   {
    "duration": 354,
    "start_time": "2022-02-19T18:22:43.074Z"
   },
   {
    "duration": 17,
    "start_time": "2022-02-19T18:22:43.474Z"
   },
   {
    "duration": 13,
    "start_time": "2022-02-19T18:28:07.549Z"
   },
   {
    "duration": 14,
    "start_time": "2022-02-19T18:37:55.364Z"
   },
   {
    "duration": 9,
    "start_time": "2022-02-19T18:38:04.437Z"
   },
   {
    "duration": 15,
    "start_time": "2022-02-19T18:38:04.779Z"
   },
   {
    "duration": 462,
    "start_time": "2022-02-19T18:38:44.196Z"
   },
   {
    "duration": 15,
    "start_time": "2022-02-19T18:40:33.615Z"
   },
   {
    "duration": 18,
    "start_time": "2022-02-19T18:40:51.972Z"
   },
   {
    "duration": 19,
    "start_time": "2022-02-19T18:42:28.546Z"
   },
   {
    "duration": 13,
    "start_time": "2022-02-19T18:43:03.913Z"
   },
   {
    "duration": 12,
    "start_time": "2022-02-19T18:44:06.670Z"
   },
   {
    "duration": 14,
    "start_time": "2022-02-19T18:44:17.109Z"
   },
   {
    "duration": 363,
    "start_time": "2022-02-19T18:44:42.284Z"
   },
   {
    "duration": 470,
    "start_time": "2022-02-19T18:44:53.107Z"
   },
   {
    "duration": 16,
    "start_time": "2022-02-19T18:45:05.339Z"
   },
   {
    "duration": 408,
    "start_time": "2022-02-19T18:45:30.244Z"
   },
   {
    "duration": 12517,
    "start_time": "2022-02-19T18:45:36.824Z"
   },
   {
    "duration": 368,
    "start_time": "2022-02-19T18:45:58.090Z"
   },
   {
    "duration": 361,
    "start_time": "2022-02-19T18:46:10.168Z"
   },
   {
    "duration": 20,
    "start_time": "2022-02-19T18:46:23.711Z"
   },
   {
    "duration": 9,
    "start_time": "2022-02-19T18:46:44.280Z"
   },
   {
    "duration": 16,
    "start_time": "2022-02-19T18:47:01.760Z"
   },
   {
    "duration": 9,
    "start_time": "2022-02-19T18:47:15.750Z"
   },
   {
    "duration": 5,
    "start_time": "2022-02-19T18:47:33.757Z"
   },
   {
    "duration": 521,
    "start_time": "2022-02-19T18:48:06.137Z"
   },
   {
    "duration": 122,
    "start_time": "2022-02-19T18:50:11.981Z"
   },
   {
    "duration": 6,
    "start_time": "2022-02-19T18:50:20.767Z"
   },
   {
    "duration": 135,
    "start_time": "2022-02-19T18:50:21.149Z"
   },
   {
    "duration": 6,
    "start_time": "2022-02-19T18:50:34.984Z"
   },
   {
    "duration": 520,
    "start_time": "2022-02-19T18:50:41.620Z"
   },
   {
    "duration": 133,
    "start_time": "2022-02-19T18:50:51.322Z"
   },
   {
    "duration": 9,
    "start_time": "2022-02-19T18:50:54.881Z"
   },
   {
    "duration": 5,
    "start_time": "2022-02-19T18:51:04.228Z"
   },
   {
    "duration": 422,
    "start_time": "2022-02-19T18:51:15.084Z"
   },
   {
    "duration": 8,
    "start_time": "2022-02-19T18:51:49.073Z"
   },
   {
    "duration": 8,
    "start_time": "2022-02-19T18:52:03.354Z"
   },
   {
    "duration": 8,
    "start_time": "2022-02-19T18:52:49.726Z"
   },
   {
    "duration": 8492,
    "start_time": "2022-02-19T18:52:55.792Z"
   },
   {
    "duration": 382,
    "start_time": "2022-02-19T18:53:09.710Z"
   },
   {
    "duration": 5,
    "start_time": "2022-02-19T18:53:16.950Z"
   },
   {
    "duration": 8,
    "start_time": "2022-02-19T18:53:21.438Z"
   },
   {
    "duration": 8,
    "start_time": "2022-02-19T18:53:27.279Z"
   },
   {
    "duration": 16,
    "start_time": "2022-02-19T18:53:38.406Z"
   },
   {
    "duration": 8,
    "start_time": "2022-02-19T18:54:36.395Z"
   },
   {
    "duration": 10,
    "start_time": "2022-02-19T18:54:40.811Z"
   },
   {
    "duration": 368,
    "start_time": "2022-02-19T19:00:11.327Z"
   },
   {
    "duration": 7,
    "start_time": "2022-02-19T19:00:29.341Z"
   },
   {
    "duration": 15,
    "start_time": "2022-02-19T19:00:33.595Z"
   },
   {
    "duration": 145,
    "start_time": "2022-02-19T19:01:05.549Z"
   },
   {
    "duration": 407,
    "start_time": "2022-02-19T19:01:15.172Z"
   },
   {
    "duration": 127,
    "start_time": "2022-02-19T19:01:44.145Z"
   },
   {
    "duration": 361,
    "start_time": "2022-02-19T19:01:56.321Z"
   },
   {
    "duration": 427,
    "start_time": "2022-02-19T19:02:08.649Z"
   },
   {
    "duration": 379,
    "start_time": "2022-02-19T19:02:31.599Z"
   },
   {
    "duration": 6,
    "start_time": "2022-02-19T19:02:38.376Z"
   },
   {
    "duration": 12,
    "start_time": "2022-02-19T19:02:43.397Z"
   },
   {
    "duration": 1536,
    "start_time": "2022-02-19T19:02:52.032Z"
   },
   {
    "duration": 577,
    "start_time": "2022-02-19T19:03:06.718Z"
   },
   {
    "duration": 7,
    "start_time": "2022-02-19T19:04:24.989Z"
   },
   {
    "duration": 516,
    "start_time": "2022-02-19T19:04:31.940Z"
   },
   {
    "duration": 576,
    "start_time": "2022-02-19T19:06:32.749Z"
   },
   {
    "duration": 9,
    "start_time": "2022-02-19T19:06:39.055Z"
   },
   {
    "duration": 6,
    "start_time": "2022-02-19T19:06:55.870Z"
   },
   {
    "duration": 17,
    "start_time": "2022-02-19T19:07:06.348Z"
   },
   {
    "duration": 9,
    "start_time": "2022-02-19T19:09:28.878Z"
   },
   {
    "duration": 6,
    "start_time": "2022-02-19T19:09:38.941Z"
   },
   {
    "duration": 5,
    "start_time": "2022-02-19T19:10:06.686Z"
   },
   {
    "duration": 17,
    "start_time": "2022-02-19T19:11:50.400Z"
   },
   {
    "duration": 22,
    "start_time": "2022-02-19T19:12:44.965Z"
   },
   {
    "duration": 8,
    "start_time": "2022-02-19T19:12:53.805Z"
   },
   {
    "duration": 18,
    "start_time": "2022-02-19T19:12:54.238Z"
   },
   {
    "duration": 7,
    "start_time": "2022-02-19T19:13:14.334Z"
   },
   {
    "duration": 8,
    "start_time": "2022-02-19T19:13:14.532Z"
   },
   {
    "duration": 5,
    "start_time": "2022-02-19T19:13:14.732Z"
   },
   {
    "duration": 11,
    "start_time": "2022-02-19T19:13:14.916Z"
   },
   {
    "duration": 7,
    "start_time": "2022-02-19T19:13:15.954Z"
   },
   {
    "duration": 28,
    "start_time": "2022-02-19T19:13:16.932Z"
   },
   {
    "duration": 8,
    "start_time": "2022-02-19T19:13:28.836Z"
   },
   {
    "duration": 9,
    "start_time": "2022-02-19T19:13:45.724Z"
   },
   {
    "duration": 8,
    "start_time": "2022-02-19T19:13:50.283Z"
   },
   {
    "duration": 6,
    "start_time": "2022-02-19T19:14:00.611Z"
   },
   {
    "duration": 10,
    "start_time": "2022-02-19T19:17:43.538Z"
   },
   {
    "duration": 19,
    "start_time": "2022-02-19T19:17:44.098Z"
   },
   {
    "duration": 9,
    "start_time": "2022-02-19T19:17:44.642Z"
   },
   {
    "duration": 7,
    "start_time": "2022-02-19T19:17:47.042Z"
   },
   {
    "duration": 1557,
    "start_time": "2022-02-19T19:18:00.656Z"
   },
   {
    "duration": 1399,
    "start_time": "2022-02-19T19:18:02.216Z"
   },
   {
    "duration": 10,
    "start_time": "2022-02-19T19:18:03.618Z"
   },
   {
    "duration": 14,
    "start_time": "2022-02-19T19:18:03.631Z"
   },
   {
    "duration": 15,
    "start_time": "2022-02-19T19:18:03.648Z"
   },
   {
    "duration": 14,
    "start_time": "2022-02-19T19:18:03.666Z"
   },
   {
    "duration": 46,
    "start_time": "2022-02-19T19:18:03.682Z"
   },
   {
    "duration": 10,
    "start_time": "2022-02-19T19:18:03.731Z"
   },
   {
    "duration": 8,
    "start_time": "2022-02-19T19:18:03.745Z"
   },
   {
    "duration": 10,
    "start_time": "2022-02-19T19:18:03.755Z"
   },
   {
    "duration": 45,
    "start_time": "2022-02-19T19:18:03.767Z"
   },
   {
    "duration": 17,
    "start_time": "2022-02-19T19:18:03.815Z"
   },
   {
    "duration": 11,
    "start_time": "2022-02-19T19:18:03.834Z"
   },
   {
    "duration": 20,
    "start_time": "2022-02-19T19:18:03.848Z"
   },
   {
    "duration": 41,
    "start_time": "2022-02-19T19:18:03.871Z"
   },
   {
    "duration": 15,
    "start_time": "2022-02-19T19:18:03.915Z"
   },
   {
    "duration": 14,
    "start_time": "2022-02-19T19:18:03.933Z"
   },
   {
    "duration": 20,
    "start_time": "2022-02-19T19:18:03.950Z"
   },
   {
    "duration": 39,
    "start_time": "2022-02-19T19:18:03.973Z"
   },
   {
    "duration": 27,
    "start_time": "2022-02-19T19:18:04.015Z"
   },
   {
    "duration": 18,
    "start_time": "2022-02-19T19:18:04.044Z"
   },
   {
    "duration": 15,
    "start_time": "2022-02-19T19:18:04.064Z"
   },
   {
    "duration": 41,
    "start_time": "2022-02-19T19:18:04.086Z"
   },
   {
    "duration": 12,
    "start_time": "2022-02-19T19:18:04.130Z"
   },
   {
    "duration": 14,
    "start_time": "2022-02-19T19:18:04.145Z"
   },
   {
    "duration": 398,
    "start_time": "2022-02-19T19:18:04.162Z"
   },
   {
    "duration": 15,
    "start_time": "2022-02-19T19:18:04.563Z"
   },
   {
    "duration": 310,
    "start_time": "2022-02-19T19:18:04.581Z"
   },
   {
    "duration": 26,
    "start_time": "2022-02-19T19:18:04.893Z"
   },
   {
    "duration": 12,
    "start_time": "2022-02-19T19:18:04.921Z"
   },
   {
    "duration": 17,
    "start_time": "2022-02-19T19:18:04.936Z"
   },
   {
    "duration": 423,
    "start_time": "2022-02-19T19:18:04.956Z"
   },
   {
    "duration": 406,
    "start_time": "2022-02-19T19:18:05.381Z"
   },
   {
    "duration": 1314,
    "start_time": "2022-02-19T19:18:05.790Z"
   },
   {
    "duration": 389,
    "start_time": "2022-02-19T19:18:07.107Z"
   },
   {
    "duration": 490,
    "start_time": "2022-02-19T19:18:07.498Z"
   },
   {
    "duration": 211,
    "start_time": "2022-02-19T19:18:07.990Z"
   },
   {
    "duration": 413,
    "start_time": "2022-02-19T19:18:08.204Z"
   },
   {
    "duration": 6,
    "start_time": "2022-02-19T19:18:08.619Z"
   },
   {
    "duration": 435,
    "start_time": "2022-02-19T19:18:08.628Z"
   },
   {
    "duration": 5,
    "start_time": "2022-02-19T19:18:09.066Z"
   },
   {
    "duration": 526,
    "start_time": "2022-02-19T19:18:09.074Z"
   },
   {
    "duration": 224,
    "start_time": "2022-02-19T19:18:09.603Z"
   },
   {
    "duration": 16,
    "start_time": "2022-02-19T19:18:09.829Z"
   },
   {
    "duration": 14,
    "start_time": "2022-02-19T19:18:09.848Z"
   },
   {
    "duration": 49,
    "start_time": "2022-02-19T19:18:09.864Z"
   },
   {
    "duration": 16,
    "start_time": "2022-02-19T19:18:09.917Z"
   },
   {
    "duration": 24,
    "start_time": "2022-02-19T19:18:09.936Z"
   },
   {
    "duration": 6,
    "start_time": "2022-02-19T19:19:04.927Z"
   },
   {
    "duration": 125,
    "start_time": "2022-02-19T19:19:46.286Z"
   },
   {
    "duration": 132,
    "start_time": "2022-02-19T19:20:01.158Z"
   },
   {
    "duration": 13,
    "start_time": "2022-02-19T19:20:36.324Z"
   },
   {
    "duration": 511,
    "start_time": "2022-02-19T19:21:05.698Z"
   },
   {
    "duration": 19,
    "start_time": "2022-02-19T19:21:18.043Z"
   },
   {
    "duration": 7,
    "start_time": "2022-02-19T19:21:23.992Z"
   },
   {
    "duration": 379,
    "start_time": "2022-02-19T19:21:31.823Z"
   },
   {
    "duration": 10,
    "start_time": "2022-02-19T19:21:41.512Z"
   },
   {
    "duration": 15,
    "start_time": "2022-02-19T19:21:46.928Z"
   },
   {
    "duration": 129,
    "start_time": "2022-02-19T19:21:50.280Z"
   },
   {
    "duration": 14,
    "start_time": "2022-02-19T19:21:55.463Z"
   },
   {
    "duration": 124,
    "start_time": "2022-02-19T19:23:02.607Z"
   },
   {
    "duration": 15,
    "start_time": "2022-02-19T19:24:05.539Z"
   },
   {
    "duration": 8,
    "start_time": "2022-02-19T19:24:12.644Z"
   },
   {
    "duration": 11,
    "start_time": "2022-02-19T19:24:18.137Z"
   },
   {
    "duration": 126,
    "start_time": "2022-02-19T19:24:47.274Z"
   },
   {
    "duration": 392,
    "start_time": "2022-02-19T19:25:18.287Z"
   },
   {
    "duration": 416,
    "start_time": "2022-02-19T19:25:37.264Z"
   },
   {
    "duration": 4,
    "start_time": "2022-02-19T19:25:43.000Z"
   },
   {
    "duration": 7,
    "start_time": "2022-02-19T19:25:45.965Z"
   },
   {
    "duration": 17,
    "start_time": "2022-02-19T19:25:53.813Z"
   },
   {
    "duration": 9,
    "start_time": "2022-02-19T19:26:13.968Z"
   },
   {
    "duration": 10,
    "start_time": "2022-02-19T19:26:26.308Z"
   },
   {
    "duration": 14,
    "start_time": "2022-02-19T19:26:49.051Z"
   },
   {
    "duration": 11,
    "start_time": "2022-02-19T19:27:30.819Z"
   },
   {
    "duration": 396,
    "start_time": "2022-02-19T19:27:36.738Z"
   },
   {
    "duration": 367,
    "start_time": "2022-02-19T19:27:43.474Z"
   },
   {
    "duration": 410,
    "start_time": "2022-02-19T19:28:00.778Z"
   },
   {
    "duration": 162,
    "start_time": "2022-02-19T19:28:17.578Z"
   },
   {
    "duration": 24,
    "start_time": "2022-02-19T19:28:19.661Z"
   },
   {
    "duration": 394,
    "start_time": "2022-02-19T19:28:28.839Z"
   },
   {
    "duration": 687,
    "start_time": "2022-02-19T19:28:49.185Z"
   },
   {
    "duration": 379,
    "start_time": "2022-02-19T19:28:53.312Z"
   },
   {
    "duration": 9,
    "start_time": "2022-02-19T19:29:00.163Z"
   },
   {
    "duration": 12,
    "start_time": "2022-02-19T19:29:14.000Z"
   },
   {
    "duration": 524,
    "start_time": "2022-02-19T19:29:30.861Z"
   },
   {
    "duration": 10,
    "start_time": "2022-02-19T19:29:37.190Z"
   },
   {
    "duration": 8,
    "start_time": "2022-02-19T19:31:29.233Z"
   },
   {
    "duration": 565,
    "start_time": "2022-02-19T19:36:26.101Z"
   },
   {
    "duration": 481,
    "start_time": "2022-02-19T19:36:31.532Z"
   },
   {
    "duration": 449,
    "start_time": "2022-02-19T19:36:38.126Z"
   },
   {
    "duration": 15,
    "start_time": "2022-02-19T19:41:30.009Z"
   },
   {
    "duration": 11,
    "start_time": "2022-02-19T19:41:30.688Z"
   },
   {
    "duration": 11,
    "start_time": "2022-02-19T19:41:31.600Z"
   },
   {
    "duration": 22,
    "start_time": "2022-02-19T19:41:35.614Z"
   },
   {
    "duration": 23,
    "start_time": "2022-02-19T19:54:46.118Z"
   },
   {
    "duration": 197,
    "start_time": "2022-02-19T20:13:50.399Z"
   },
   {
    "duration": 566,
    "start_time": "2022-02-19T20:15:38.756Z"
   },
   {
    "duration": 512,
    "start_time": "2022-02-19T20:15:46.068Z"
   },
   {
    "duration": 489,
    "start_time": "2022-02-19T20:18:57.221Z"
   },
   {
    "duration": 430,
    "start_time": "2022-02-19T20:19:08.996Z"
   },
   {
    "duration": 473,
    "start_time": "2022-02-19T20:19:19.107Z"
   },
   {
    "duration": 487,
    "start_time": "2022-02-19T20:19:48.218Z"
   },
   {
    "duration": 461,
    "start_time": "2022-02-19T20:19:55.018Z"
   },
   {
    "duration": 470,
    "start_time": "2022-02-19T20:19:59.106Z"
   },
   {
    "duration": 456,
    "start_time": "2022-02-19T20:20:14.625Z"
   },
   {
    "duration": 474,
    "start_time": "2022-02-19T20:20:21.913Z"
   },
   {
    "duration": 583,
    "start_time": "2022-02-19T20:20:26.296Z"
   },
   {
    "duration": 604,
    "start_time": "2022-02-19T20:28:31.396Z"
   },
   {
    "duration": 556,
    "start_time": "2022-02-19T20:29:14.987Z"
   },
   {
    "duration": 445,
    "start_time": "2022-02-19T20:29:40.594Z"
   },
   {
    "duration": 20,
    "start_time": "2022-02-19T20:34:07.991Z"
   },
   {
    "duration": 8,
    "start_time": "2022-02-19T20:34:20.326Z"
   },
   {
    "duration": 57,
    "start_time": "2022-02-19T20:34:44.812Z"
   },
   {
    "duration": 24212,
    "start_time": "2022-02-19T20:34:54.980Z"
   },
   {
    "duration": 21,
    "start_time": "2022-02-19T20:35:21.060Z"
   },
   {
    "duration": 15,
    "start_time": "2022-02-19T20:35:55.520Z"
   },
   {
    "duration": 183,
    "start_time": "2022-02-19T20:44:03.533Z"
   },
   {
    "duration": 268,
    "start_time": "2022-02-19T20:44:17.071Z"
   },
   {
    "duration": 228,
    "start_time": "2022-02-19T20:45:01.892Z"
   },
   {
    "duration": 46,
    "start_time": "2022-02-19T20:45:15.556Z"
   },
   {
    "duration": 134,
    "start_time": "2022-02-19T20:45:52.067Z"
   },
   {
    "duration": 13,
    "start_time": "2022-02-19T20:46:33.552Z"
   },
   {
    "duration": 46,
    "start_time": "2022-02-19T20:47:02.071Z"
   },
   {
    "duration": 2614,
    "start_time": "2022-02-19T20:48:45.623Z"
   },
   {
    "duration": 359,
    "start_time": "2022-02-19T20:48:48.240Z"
   },
   {
    "duration": 10,
    "start_time": "2022-02-19T20:48:48.606Z"
   },
   {
    "duration": 1329,
    "start_time": "2022-02-19T20:48:48.618Z"
   },
   {
    "duration": 9,
    "start_time": "2022-02-19T20:48:49.951Z"
   },
   {
    "duration": 9,
    "start_time": "2022-02-19T20:48:49.963Z"
   },
   {
    "duration": 25,
    "start_time": "2022-02-19T20:48:49.976Z"
   },
   {
    "duration": 11,
    "start_time": "2022-02-19T20:48:50.004Z"
   },
   {
    "duration": 8,
    "start_time": "2022-02-19T20:48:50.017Z"
   },
   {
    "duration": 9,
    "start_time": "2022-02-19T20:48:50.028Z"
   },
   {
    "duration": 7,
    "start_time": "2022-02-19T20:48:50.040Z"
   },
   {
    "duration": 62,
    "start_time": "2022-02-19T20:48:50.050Z"
   },
   {
    "duration": 9,
    "start_time": "2022-02-19T20:48:50.116Z"
   },
   {
    "duration": 18,
    "start_time": "2022-02-19T20:48:50.128Z"
   },
   {
    "duration": 7,
    "start_time": "2022-02-19T20:48:50.149Z"
   },
   {
    "duration": 10,
    "start_time": "2022-02-19T20:48:50.158Z"
   },
   {
    "duration": 43,
    "start_time": "2022-02-19T20:48:50.171Z"
   },
   {
    "duration": 24,
    "start_time": "2022-02-19T20:48:50.217Z"
   },
   {
    "duration": 24,
    "start_time": "2022-02-19T20:48:50.244Z"
   },
   {
    "duration": 13,
    "start_time": "2022-02-19T20:48:50.270Z"
   },
   {
    "duration": 34,
    "start_time": "2022-02-19T20:48:50.286Z"
   },
   {
    "duration": 20,
    "start_time": "2022-02-19T20:48:50.330Z"
   },
   {
    "duration": 16,
    "start_time": "2022-02-19T20:48:50.354Z"
   },
   {
    "duration": 43,
    "start_time": "2022-02-19T20:48:50.373Z"
   },
   {
    "duration": 23,
    "start_time": "2022-02-19T20:48:50.418Z"
   },
   {
    "duration": 345,
    "start_time": "2022-02-19T20:48:50.444Z"
   },
   {
    "duration": 22,
    "start_time": "2022-02-19T20:48:50.792Z"
   },
   {
    "duration": 316,
    "start_time": "2022-02-19T20:48:50.817Z"
   },
   {
    "duration": 25,
    "start_time": "2022-02-19T20:48:51.136Z"
   },
   {
    "duration": 18,
    "start_time": "2022-02-19T20:48:51.164Z"
   },
   {
    "duration": 38,
    "start_time": "2022-02-19T20:48:51.186Z"
   },
   {
    "duration": 505,
    "start_time": "2022-02-19T20:48:51.227Z"
   },
   {
    "duration": 525,
    "start_time": "2022-02-19T20:48:51.735Z"
   },
   {
    "duration": 544,
    "start_time": "2022-02-19T20:48:52.263Z"
   },
   {
    "duration": 407,
    "start_time": "2022-02-19T20:48:52.811Z"
   },
   {
    "duration": 548,
    "start_time": "2022-02-19T20:48:53.222Z"
   },
   {
    "duration": 221,
    "start_time": "2022-02-19T20:48:53.772Z"
   },
   {
    "duration": 612,
    "start_time": "2022-02-19T20:48:53.996Z"
   },
   {
    "duration": 7,
    "start_time": "2022-02-19T20:48:54.611Z"
   },
   {
    "duration": 425,
    "start_time": "2022-02-19T20:48:54.621Z"
   },
   {
    "duration": 18,
    "start_time": "2022-02-19T20:48:55.048Z"
   },
   {
    "duration": 13,
    "start_time": "2022-02-19T20:48:55.068Z"
   },
   {
    "duration": 217,
    "start_time": "2022-02-19T20:48:55.083Z"
   },
   {
    "duration": 273,
    "start_time": "2022-02-19T20:48:55.303Z"
   },
   {
    "duration": 53,
    "start_time": "2022-02-19T20:48:55.579Z"
   },
   {
    "duration": 315,
    "start_time": "2022-02-19T20:48:55.635Z"
   },
   {
    "duration": 14,
    "start_time": "2022-02-19T20:48:55.955Z"
   },
   {
    "duration": 13,
    "start_time": "2022-02-19T20:48:55.972Z"
   },
   {
    "duration": 15,
    "start_time": "2022-02-19T20:48:56.011Z"
   },
   {
    "duration": 12,
    "start_time": "2022-02-19T20:48:56.030Z"
   },
   {
    "duration": 21,
    "start_time": "2022-02-19T20:48:56.045Z"
   },
   {
    "duration": 15,
    "start_time": "2022-02-19T20:57:01.039Z"
   },
   {
    "duration": 18,
    "start_time": "2022-02-19T20:58:58.416Z"
   },
   {
    "duration": 222,
    "start_time": "2022-02-19T20:59:54.460Z"
   },
   {
    "duration": 20,
    "start_time": "2022-02-19T21:02:08.458Z"
   },
   {
    "duration": 292,
    "start_time": "2022-02-19T21:06:30.008Z"
   },
   {
    "duration": 44,
    "start_time": "2022-02-19T21:07:46.140Z"
   },
   {
    "duration": 11,
    "start_time": "2022-02-19T21:08:23.923Z"
   },
   {
    "duration": 7,
    "start_time": "2022-02-19T21:14:04.645Z"
   },
   {
    "duration": 119,
    "start_time": "2022-02-19T21:14:38.975Z"
   },
   {
    "duration": 7,
    "start_time": "2022-02-19T21:14:48.434Z"
   },
   {
    "duration": 7,
    "start_time": "2022-02-19T21:15:27.575Z"
   },
   {
    "duration": 11,
    "start_time": "2022-02-19T21:15:41.919Z"
   },
   {
    "duration": 7,
    "start_time": "2022-02-19T21:16:51.725Z"
   },
   {
    "duration": 7,
    "start_time": "2022-02-19T21:17:09.051Z"
   },
   {
    "duration": 9,
    "start_time": "2022-02-19T21:18:14.241Z"
   },
   {
    "duration": 206,
    "start_time": "2022-02-19T21:22:50.295Z"
   },
   {
    "duration": 244,
    "start_time": "2022-02-19T21:23:10.094Z"
   },
   {
    "duration": 205,
    "start_time": "2022-02-19T21:23:18.206Z"
   },
   {
    "duration": 9,
    "start_time": "2022-02-19T21:23:30.441Z"
   },
   {
    "duration": 10,
    "start_time": "2022-02-19T21:25:37.845Z"
   },
   {
    "duration": 14,
    "start_time": "2022-02-19T21:33:22.204Z"
   },
   {
    "duration": 14,
    "start_time": "2022-02-19T21:40:55.371Z"
   },
   {
    "duration": 1404,
    "start_time": "2022-02-19T22:20:39.429Z"
   },
   {
    "duration": 345,
    "start_time": "2022-02-19T22:20:40.836Z"
   },
   {
    "duration": 11,
    "start_time": "2022-02-19T22:20:41.186Z"
   },
   {
    "duration": 10,
    "start_time": "2022-02-19T22:20:41.200Z"
   },
   {
    "duration": 9,
    "start_time": "2022-02-19T22:20:41.213Z"
   },
   {
    "duration": 13,
    "start_time": "2022-02-19T22:20:41.224Z"
   },
   {
    "duration": 33,
    "start_time": "2022-02-19T22:20:41.241Z"
   },
   {
    "duration": 38,
    "start_time": "2022-02-19T22:20:41.280Z"
   },
   {
    "duration": 7,
    "start_time": "2022-02-19T22:20:41.322Z"
   },
   {
    "duration": 14,
    "start_time": "2022-02-19T22:20:41.332Z"
   },
   {
    "duration": 9,
    "start_time": "2022-02-19T22:20:41.349Z"
   },
   {
    "duration": 53,
    "start_time": "2022-02-19T22:20:41.361Z"
   },
   {
    "duration": 5,
    "start_time": "2022-02-19T22:20:41.417Z"
   },
   {
    "duration": 19,
    "start_time": "2022-02-19T22:20:41.425Z"
   },
   {
    "duration": 9,
    "start_time": "2022-02-19T22:20:41.446Z"
   },
   {
    "duration": 12,
    "start_time": "2022-02-19T22:20:41.457Z"
   },
   {
    "duration": 42,
    "start_time": "2022-02-19T22:20:41.471Z"
   },
   {
    "duration": 15,
    "start_time": "2022-02-19T22:20:41.516Z"
   },
   {
    "duration": 11,
    "start_time": "2022-02-19T22:20:41.533Z"
   },
   {
    "duration": 16,
    "start_time": "2022-02-19T22:20:41.548Z"
   },
   {
    "duration": 49,
    "start_time": "2022-02-19T22:20:41.567Z"
   },
   {
    "duration": 14,
    "start_time": "2022-02-19T22:20:41.619Z"
   },
   {
    "duration": 13,
    "start_time": "2022-02-19T22:20:41.642Z"
   },
   {
    "duration": 9,
    "start_time": "2022-02-19T22:20:41.660Z"
   },
   {
    "duration": 11,
    "start_time": "2022-02-19T22:20:41.712Z"
   },
   {
    "duration": 359,
    "start_time": "2022-02-19T22:20:41.725Z"
   },
   {
    "duration": 12,
    "start_time": "2022-02-19T22:20:42.086Z"
   },
   {
    "duration": 299,
    "start_time": "2022-02-19T22:20:42.100Z"
   },
   {
    "duration": 23,
    "start_time": "2022-02-19T22:20:42.401Z"
   },
   {
    "duration": 13,
    "start_time": "2022-02-19T22:20:42.427Z"
   },
   {
    "duration": 16,
    "start_time": "2022-02-19T22:20:42.443Z"
   },
   {
    "duration": 448,
    "start_time": "2022-02-19T22:20:42.462Z"
   },
   {
    "duration": 603,
    "start_time": "2022-02-19T22:20:42.913Z"
   },
   {
    "duration": 470,
    "start_time": "2022-02-19T22:20:43.518Z"
   },
   {
    "duration": 399,
    "start_time": "2022-02-19T22:20:43.992Z"
   },
   {
    "duration": 508,
    "start_time": "2022-02-19T22:20:44.393Z"
   },
   {
    "duration": 215,
    "start_time": "2022-02-19T22:20:44.911Z"
   },
   {
    "duration": 498,
    "start_time": "2022-02-19T22:20:45.129Z"
   },
   {
    "duration": 6,
    "start_time": "2022-02-19T22:20:45.631Z"
   },
   {
    "duration": 429,
    "start_time": "2022-02-19T22:20:45.640Z"
   },
   {
    "duration": 13,
    "start_time": "2022-02-19T22:20:46.073Z"
   },
   {
    "duration": 23,
    "start_time": "2022-02-19T22:20:46.089Z"
   },
   {
    "duration": 221,
    "start_time": "2022-02-19T22:20:46.114Z"
   },
   {
    "duration": 243,
    "start_time": "2022-02-19T22:20:46.338Z"
   },
   {
    "duration": 53,
    "start_time": "2022-02-19T22:20:46.583Z"
   },
   {
    "duration": 281,
    "start_time": "2022-02-19T22:20:46.639Z"
   },
   {
    "duration": 11,
    "start_time": "2022-02-19T22:20:46.923Z"
   },
   {
    "duration": 14,
    "start_time": "2022-02-19T22:20:46.937Z"
   },
   {
    "duration": 15,
    "start_time": "2022-02-19T22:20:46.953Z"
   },
   {
    "duration": 53,
    "start_time": "2022-02-19T22:20:46.971Z"
   },
   {
    "duration": 13,
    "start_time": "2022-02-19T22:20:47.027Z"
   },
   {
    "duration": 29,
    "start_time": "2022-02-19T22:20:47.042Z"
   },
   {
    "duration": 1180,
    "start_time": "2022-02-20T04:52:33.420Z"
   },
   {
    "duration": 289,
    "start_time": "2022-02-20T04:52:34.602Z"
   },
   {
    "duration": 9,
    "start_time": "2022-02-20T04:52:34.893Z"
   },
   {
    "duration": 16,
    "start_time": "2022-02-20T04:52:34.904Z"
   },
   {
    "duration": 28,
    "start_time": "2022-02-20T04:52:34.922Z"
   },
   {
    "duration": 26,
    "start_time": "2022-02-20T04:52:34.953Z"
   },
   {
    "duration": 29,
    "start_time": "2022-02-20T04:52:34.981Z"
   },
   {
    "duration": 10,
    "start_time": "2022-02-20T04:52:35.014Z"
   },
   {
    "duration": 11,
    "start_time": "2022-02-20T04:52:35.027Z"
   },
   {
    "duration": 24,
    "start_time": "2022-02-20T04:52:35.040Z"
   },
   {
    "duration": 16,
    "start_time": "2022-02-20T04:52:35.067Z"
   },
   {
    "duration": 24,
    "start_time": "2022-02-20T04:52:35.086Z"
   },
   {
    "duration": 14,
    "start_time": "2022-02-20T04:52:35.112Z"
   },
   {
    "duration": 38,
    "start_time": "2022-02-20T04:52:35.128Z"
   },
   {
    "duration": 16,
    "start_time": "2022-02-20T04:52:35.168Z"
   },
   {
    "duration": 22,
    "start_time": "2022-02-20T04:52:35.186Z"
   },
   {
    "duration": 25,
    "start_time": "2022-02-20T04:52:35.210Z"
   },
   {
    "duration": 27,
    "start_time": "2022-02-20T04:52:35.237Z"
   },
   {
    "duration": 27,
    "start_time": "2022-02-20T04:52:35.265Z"
   },
   {
    "duration": 14,
    "start_time": "2022-02-20T04:52:35.294Z"
   },
   {
    "duration": 22,
    "start_time": "2022-02-20T04:52:35.310Z"
   },
   {
    "duration": 24,
    "start_time": "2022-02-20T04:52:35.334Z"
   },
   {
    "duration": 11,
    "start_time": "2022-02-20T04:52:35.363Z"
   },
   {
    "duration": 19,
    "start_time": "2022-02-20T04:52:35.376Z"
   },
   {
    "duration": 22,
    "start_time": "2022-02-20T04:52:35.397Z"
   },
   {
    "duration": 218,
    "start_time": "2022-02-20T04:52:35.421Z"
   },
   {
    "duration": 10,
    "start_time": "2022-02-20T04:52:35.641Z"
   },
   {
    "duration": 185,
    "start_time": "2022-02-20T04:52:35.653Z"
   },
   {
    "duration": 12,
    "start_time": "2022-02-20T04:52:35.840Z"
   },
   {
    "duration": 11,
    "start_time": "2022-02-20T04:52:35.853Z"
   },
   {
    "duration": 19,
    "start_time": "2022-02-20T04:52:35.866Z"
   },
   {
    "duration": 295,
    "start_time": "2022-02-20T04:52:35.887Z"
   },
   {
    "duration": 289,
    "start_time": "2022-02-20T04:52:36.184Z"
   },
   {
    "duration": 383,
    "start_time": "2022-02-20T04:52:36.476Z"
   },
   {
    "duration": 264,
    "start_time": "2022-02-20T04:52:36.861Z"
   },
   {
    "duration": 357,
    "start_time": "2022-02-20T04:52:37.127Z"
   },
   {
    "duration": 110,
    "start_time": "2022-02-20T04:52:37.486Z"
   },
   {
    "duration": 388,
    "start_time": "2022-02-20T04:52:37.598Z"
   },
   {
    "duration": 4,
    "start_time": "2022-02-20T04:52:37.988Z"
   },
   {
    "duration": 340,
    "start_time": "2022-02-20T04:52:37.994Z"
   },
   {
    "duration": 10,
    "start_time": "2022-02-20T04:52:38.336Z"
   },
   {
    "duration": 9,
    "start_time": "2022-02-20T04:52:38.349Z"
   },
   {
    "duration": 147,
    "start_time": "2022-02-20T04:52:38.360Z"
   },
   {
    "duration": 162,
    "start_time": "2022-02-20T04:52:38.510Z"
   },
   {
    "duration": 46,
    "start_time": "2022-02-20T04:52:38.674Z"
   },
   {
    "duration": 135,
    "start_time": "2022-02-20T04:52:38.721Z"
   },
   {
    "duration": 10,
    "start_time": "2022-02-20T04:52:38.858Z"
   },
   {
    "duration": 11,
    "start_time": "2022-02-20T04:52:38.870Z"
   },
   {
    "duration": 34,
    "start_time": "2022-02-20T04:52:38.883Z"
   },
   {
    "duration": 22,
    "start_time": "2022-02-20T04:52:38.919Z"
   },
   {
    "duration": 18,
    "start_time": "2022-02-20T04:52:38.944Z"
   },
   {
    "duration": 16,
    "start_time": "2022-02-20T04:52:38.964Z"
   },
   {
    "duration": 4,
    "start_time": "2022-02-20T05:03:02.503Z"
   },
   {
    "duration": 12,
    "start_time": "2022-02-20T05:09:00.372Z"
   },
   {
    "duration": 6,
    "start_time": "2022-02-20T05:09:33.837Z"
   },
   {
    "duration": 14,
    "start_time": "2022-02-20T05:09:38.236Z"
   },
   {
    "duration": 21,
    "start_time": "2022-02-20T05:10:21.167Z"
   },
   {
    "duration": 21,
    "start_time": "2022-02-20T05:11:29.828Z"
   },
   {
    "duration": 14,
    "start_time": "2022-02-20T05:11:43.220Z"
   },
   {
    "duration": 12,
    "start_time": "2022-02-20T05:11:48.948Z"
   },
   {
    "duration": 19,
    "start_time": "2022-02-20T05:11:52.835Z"
   },
   {
    "duration": 16,
    "start_time": "2022-02-20T05:12:08.929Z"
   },
   {
    "duration": 15,
    "start_time": "2022-02-20T05:14:06.722Z"
   },
   {
    "duration": 18,
    "start_time": "2022-02-20T05:14:28.306Z"
   },
   {
    "duration": 27,
    "start_time": "2022-02-20T05:15:35.839Z"
   },
   {
    "duration": 25,
    "start_time": "2022-02-20T05:16:00.134Z"
   },
   {
    "duration": 617,
    "start_time": "2022-02-20T05:19:41.518Z"
   },
   {
    "duration": 884,
    "start_time": "2022-02-20T05:20:10.425Z"
   },
   {
    "duration": 792,
    "start_time": "2022-02-20T05:20:15.677Z"
   },
   {
    "duration": 489,
    "start_time": "2022-02-20T05:20:18.420Z"
   },
   {
    "duration": 483,
    "start_time": "2022-02-20T05:20:46.256Z"
   },
   {
    "duration": 509,
    "start_time": "2022-02-20T05:21:17.112Z"
   },
   {
    "duration": 667,
    "start_time": "2022-02-20T05:21:22.125Z"
   },
   {
    "duration": 600,
    "start_time": "2022-02-20T05:23:47.274Z"
   },
   {
    "duration": 650,
    "start_time": "2022-02-20T05:24:01.784Z"
   },
   {
    "duration": 200,
    "start_time": "2022-02-20T08:20:24.613Z"
   },
   {
    "duration": 329,
    "start_time": "2022-02-20T08:21:48.489Z"
   },
   {
    "duration": 1035,
    "start_time": "2022-02-20T08:21:57.744Z"
   },
   {
    "duration": 379,
    "start_time": "2022-02-20T08:21:58.781Z"
   },
   {
    "duration": 7,
    "start_time": "2022-02-20T08:21:59.162Z"
   },
   {
    "duration": 14,
    "start_time": "2022-02-20T08:21:59.171Z"
   },
   {
    "duration": 15,
    "start_time": "2022-02-20T08:21:59.187Z"
   },
   {
    "duration": 17,
    "start_time": "2022-02-20T08:21:59.203Z"
   },
   {
    "duration": 30,
    "start_time": "2022-02-20T08:21:59.221Z"
   },
   {
    "duration": 15,
    "start_time": "2022-02-20T08:21:59.252Z"
   },
   {
    "duration": 12,
    "start_time": "2022-02-20T08:21:59.269Z"
   },
   {
    "duration": 19,
    "start_time": "2022-02-20T08:21:59.283Z"
   },
   {
    "duration": 15,
    "start_time": "2022-02-20T08:21:59.303Z"
   },
   {
    "duration": 33,
    "start_time": "2022-02-20T08:21:59.319Z"
   },
   {
    "duration": 22,
    "start_time": "2022-02-20T08:21:59.354Z"
   },
   {
    "duration": 21,
    "start_time": "2022-02-20T08:21:59.377Z"
   },
   {
    "duration": 14,
    "start_time": "2022-02-20T08:21:59.400Z"
   },
   {
    "duration": 15,
    "start_time": "2022-02-20T08:21:59.415Z"
   },
   {
    "duration": 11,
    "start_time": "2022-02-20T08:21:59.432Z"
   },
   {
    "duration": 22,
    "start_time": "2022-02-20T08:21:59.444Z"
   },
   {
    "duration": 13,
    "start_time": "2022-02-20T08:21:59.467Z"
   },
   {
    "duration": 18,
    "start_time": "2022-02-20T08:21:59.482Z"
   },
   {
    "duration": 17,
    "start_time": "2022-02-20T08:21:59.501Z"
   },
   {
    "duration": 24,
    "start_time": "2022-02-20T08:21:59.519Z"
   },
   {
    "duration": 23,
    "start_time": "2022-02-20T08:21:59.544Z"
   },
   {
    "duration": 211,
    "start_time": "2022-02-20T08:21:59.569Z"
   },
   {
    "duration": 649,
    "start_time": "2022-02-20T08:21:59.782Z"
   },
   {
    "duration": 1749,
    "start_time": "2022-02-20T08:21:58.685Z"
   },
   {
    "duration": 1746,
    "start_time": "2022-02-20T08:21:58.689Z"
   },
   {
    "duration": 1741,
    "start_time": "2022-02-20T08:21:58.695Z"
   },
   {
    "duration": 1738,
    "start_time": "2022-02-20T08:21:58.699Z"
   },
   {
    "duration": 1733,
    "start_time": "2022-02-20T08:21:58.704Z"
   },
   {
    "duration": 1728,
    "start_time": "2022-02-20T08:21:58.710Z"
   },
   {
    "duration": 1725,
    "start_time": "2022-02-20T08:21:58.714Z"
   },
   {
    "duration": 1721,
    "start_time": "2022-02-20T08:21:58.719Z"
   },
   {
    "duration": 1717,
    "start_time": "2022-02-20T08:21:58.724Z"
   },
   {
    "duration": 1713,
    "start_time": "2022-02-20T08:21:58.729Z"
   },
   {
    "duration": 1709,
    "start_time": "2022-02-20T08:21:58.733Z"
   },
   {
    "duration": 1706,
    "start_time": "2022-02-20T08:21:58.737Z"
   },
   {
    "duration": 1701,
    "start_time": "2022-02-20T08:21:58.743Z"
   },
   {
    "duration": 1698,
    "start_time": "2022-02-20T08:21:58.747Z"
   },
   {
    "duration": 1696,
    "start_time": "2022-02-20T08:21:58.750Z"
   },
   {
    "duration": 1692,
    "start_time": "2022-02-20T08:21:58.755Z"
   },
   {
    "duration": 1688,
    "start_time": "2022-02-20T08:21:58.760Z"
   },
   {
    "duration": 1684,
    "start_time": "2022-02-20T08:21:58.765Z"
   },
   {
    "duration": 1681,
    "start_time": "2022-02-20T08:21:58.769Z"
   },
   {
    "duration": 1676,
    "start_time": "2022-02-20T08:21:58.775Z"
   },
   {
    "duration": 1672,
    "start_time": "2022-02-20T08:21:58.780Z"
   },
   {
    "duration": 1669,
    "start_time": "2022-02-20T08:21:58.784Z"
   },
   {
    "duration": 1666,
    "start_time": "2022-02-20T08:21:58.788Z"
   },
   {
    "duration": 1661,
    "start_time": "2022-02-20T08:21:58.794Z"
   },
   {
    "duration": 1658,
    "start_time": "2022-02-20T08:21:58.798Z"
   },
   {
    "duration": 1656,
    "start_time": "2022-02-20T08:21:58.801Z"
   },
   {
    "duration": 1652,
    "start_time": "2022-02-20T08:21:58.806Z"
   },
   {
    "duration": 1647,
    "start_time": "2022-02-20T08:21:58.811Z"
   },
   {
    "duration": 1644,
    "start_time": "2022-02-20T08:21:58.816Z"
   },
   {
    "duration": 1642,
    "start_time": "2022-02-20T08:21:58.819Z"
   },
   {
    "duration": 1639,
    "start_time": "2022-02-20T08:21:58.824Z"
   },
   {
    "duration": 1635,
    "start_time": "2022-02-20T08:21:58.829Z"
   },
   {
    "duration": 1631,
    "start_time": "2022-02-20T08:21:58.834Z"
   },
   {
    "duration": 1628,
    "start_time": "2022-02-20T08:21:58.838Z"
   },
   {
    "duration": 1060,
    "start_time": "2022-02-20T08:23:56.401Z"
   },
   {
    "duration": 1204,
    "start_time": "2022-02-20T08:23:57.463Z"
   },
   {
    "duration": 7,
    "start_time": "2022-02-20T08:23:58.670Z"
   },
   {
    "duration": 6,
    "start_time": "2022-02-20T08:23:58.678Z"
   },
   {
    "duration": 6,
    "start_time": "2022-02-20T08:23:58.686Z"
   },
   {
    "duration": 8,
    "start_time": "2022-02-20T08:23:58.693Z"
   },
   {
    "duration": 13,
    "start_time": "2022-02-20T08:23:58.702Z"
   },
   {
    "duration": 5,
    "start_time": "2022-02-20T08:23:58.718Z"
   },
   {
    "duration": 6,
    "start_time": "2022-02-20T08:23:58.725Z"
   },
   {
    "duration": 9,
    "start_time": "2022-02-20T08:23:58.732Z"
   },
   {
    "duration": 9,
    "start_time": "2022-02-20T08:23:58.742Z"
   },
   {
    "duration": 13,
    "start_time": "2022-02-20T08:23:58.752Z"
   },
   {
    "duration": 8,
    "start_time": "2022-02-20T08:23:58.766Z"
   },
   {
    "duration": 17,
    "start_time": "2022-02-20T08:23:58.775Z"
   },
   {
    "duration": 7,
    "start_time": "2022-02-20T08:23:58.793Z"
   },
   {
    "duration": 10,
    "start_time": "2022-02-20T08:23:58.801Z"
   },
   {
    "duration": 11,
    "start_time": "2022-02-20T08:23:58.812Z"
   },
   {
    "duration": 14,
    "start_time": "2022-02-20T08:23:58.824Z"
   },
   {
    "duration": 11,
    "start_time": "2022-02-20T08:23:58.840Z"
   },
   {
    "duration": 10,
    "start_time": "2022-02-20T08:23:58.852Z"
   },
   {
    "duration": 9,
    "start_time": "2022-02-20T08:23:58.864Z"
   },
   {
    "duration": 9,
    "start_time": "2022-02-20T08:23:58.874Z"
   },
   {
    "duration": 10,
    "start_time": "2022-02-20T08:23:58.887Z"
   },
   {
    "duration": 9,
    "start_time": "2022-02-20T08:23:58.899Z"
   },
   {
    "duration": 27,
    "start_time": "2022-02-20T08:23:58.910Z"
   },
   {
    "duration": 181,
    "start_time": "2022-02-20T08:23:58.939Z"
   },
   {
    "duration": 13,
    "start_time": "2022-02-20T08:23:59.122Z"
   },
   {
    "duration": 147,
    "start_time": "2022-02-20T08:23:59.136Z"
   },
   {
    "duration": 9,
    "start_time": "2022-02-20T08:23:59.284Z"
   },
   {
    "duration": 6,
    "start_time": "2022-02-20T08:23:59.294Z"
   },
   {
    "duration": 10,
    "start_time": "2022-02-20T08:23:59.302Z"
   },
   {
    "duration": 240,
    "start_time": "2022-02-20T08:23:59.313Z"
   },
   {
    "duration": 231,
    "start_time": "2022-02-20T08:23:59.554Z"
   },
   {
    "duration": 330,
    "start_time": "2022-02-20T08:23:59.787Z"
   },
   {
    "duration": 219,
    "start_time": "2022-02-20T08:24:00.118Z"
   },
   {
    "duration": 329,
    "start_time": "2022-02-20T08:24:00.339Z"
   },
   {
    "duration": 122,
    "start_time": "2022-02-20T08:24:00.669Z"
   },
   {
    "duration": 294,
    "start_time": "2022-02-20T08:24:00.792Z"
   },
   {
    "duration": 4,
    "start_time": "2022-02-20T08:24:01.087Z"
   },
   {
    "duration": 285,
    "start_time": "2022-02-20T08:24:01.092Z"
   },
   {
    "duration": 8,
    "start_time": "2022-02-20T08:24:01.378Z"
   },
   {
    "duration": 4,
    "start_time": "2022-02-20T08:24:01.388Z"
   },
   {
    "duration": 116,
    "start_time": "2022-02-20T08:24:01.393Z"
   },
   {
    "duration": 137,
    "start_time": "2022-02-20T08:24:01.511Z"
   },
   {
    "duration": 26,
    "start_time": "2022-02-20T08:24:01.650Z"
   },
   {
    "duration": 115,
    "start_time": "2022-02-20T08:24:01.678Z"
   },
   {
    "duration": 9,
    "start_time": "2022-02-20T08:24:01.795Z"
   },
   {
    "duration": 10,
    "start_time": "2022-02-20T08:24:01.805Z"
   },
   {
    "duration": 22,
    "start_time": "2022-02-20T08:24:01.816Z"
   },
   {
    "duration": 9,
    "start_time": "2022-02-20T08:24:01.839Z"
   },
   {
    "duration": 7,
    "start_time": "2022-02-20T08:24:01.850Z"
   },
   {
    "duration": 4,
    "start_time": "2022-02-20T08:24:01.858Z"
   },
   {
    "duration": 14,
    "start_time": "2022-02-20T08:24:01.864Z"
   },
   {
    "duration": 10,
    "start_time": "2022-02-20T08:24:01.879Z"
   },
   {
    "duration": 55,
    "start_time": "2022-02-20T08:24:01.890Z"
   },
   {
    "duration": 18,
    "start_time": "2022-02-20T08:24:01.947Z"
   },
   {
    "duration": 570,
    "start_time": "2022-02-20T08:24:01.966Z"
   },
   {
    "duration": 1155,
    "start_time": "2022-02-21T03:08:37.868Z"
   },
   {
    "duration": 250,
    "start_time": "2022-02-21T03:08:39.026Z"
   },
   {
    "duration": 8,
    "start_time": "2022-02-21T03:08:39.279Z"
   },
   {
    "duration": 37,
    "start_time": "2022-02-21T03:08:39.289Z"
   },
   {
    "duration": 18,
    "start_time": "2022-02-21T03:08:39.329Z"
   },
   {
    "duration": 21,
    "start_time": "2022-02-21T03:08:39.349Z"
   },
   {
    "duration": 48,
    "start_time": "2022-02-21T03:08:39.373Z"
   },
   {
    "duration": 7,
    "start_time": "2022-02-21T03:08:39.425Z"
   },
   {
    "duration": 8,
    "start_time": "2022-02-21T03:08:39.434Z"
   },
   {
    "duration": 10,
    "start_time": "2022-02-21T03:08:39.444Z"
   },
   {
    "duration": 14,
    "start_time": "2022-02-21T03:08:39.456Z"
   },
   {
    "duration": 12,
    "start_time": "2022-02-21T03:08:39.472Z"
   },
   {
    "duration": 22,
    "start_time": "2022-02-21T03:08:39.486Z"
   },
   {
    "duration": 18,
    "start_time": "2022-02-21T03:08:39.510Z"
   },
   {
    "duration": 23,
    "start_time": "2022-02-21T03:08:39.530Z"
   },
   {
    "duration": 8,
    "start_time": "2022-02-21T03:08:39.556Z"
   },
   {
    "duration": 8,
    "start_time": "2022-02-21T03:08:39.566Z"
   },
   {
    "duration": 16,
    "start_time": "2022-02-21T03:08:39.576Z"
   },
   {
    "duration": 19,
    "start_time": "2022-02-21T03:08:39.595Z"
   },
   {
    "duration": 12,
    "start_time": "2022-02-21T03:08:39.616Z"
   },
   {
    "duration": 13,
    "start_time": "2022-02-21T03:08:39.630Z"
   },
   {
    "duration": 13,
    "start_time": "2022-02-21T03:08:39.646Z"
   },
   {
    "duration": 44,
    "start_time": "2022-02-21T03:08:39.663Z"
   },
   {
    "duration": 6,
    "start_time": "2022-02-21T03:08:39.710Z"
   },
   {
    "duration": 17,
    "start_time": "2022-02-21T03:08:39.718Z"
   },
   {
    "duration": 234,
    "start_time": "2022-02-21T03:08:39.737Z"
   },
   {
    "duration": 10,
    "start_time": "2022-02-21T03:08:39.973Z"
   },
   {
    "duration": 200,
    "start_time": "2022-02-21T03:08:39.984Z"
   },
   {
    "duration": 11,
    "start_time": "2022-02-21T03:08:40.186Z"
   },
   {
    "duration": 7,
    "start_time": "2022-02-21T03:08:40.208Z"
   },
   {
    "duration": 17,
    "start_time": "2022-02-21T03:08:40.217Z"
   },
   {
    "duration": 301,
    "start_time": "2022-02-21T03:08:40.236Z"
   },
   {
    "duration": 290,
    "start_time": "2022-02-21T03:08:40.539Z"
   },
   {
    "duration": 365,
    "start_time": "2022-02-21T03:08:40.831Z"
   },
   {
    "duration": 270,
    "start_time": "2022-02-21T03:08:41.198Z"
   },
   {
    "duration": 415,
    "start_time": "2022-02-21T03:08:41.469Z"
   },
   {
    "duration": 139,
    "start_time": "2022-02-21T03:08:41.885Z"
   },
   {
    "duration": 366,
    "start_time": "2022-02-21T03:08:42.026Z"
   },
   {
    "duration": 4,
    "start_time": "2022-02-21T03:08:42.393Z"
   },
   {
    "duration": 363,
    "start_time": "2022-02-21T03:08:42.399Z"
   },
   {
    "duration": 10,
    "start_time": "2022-02-21T03:08:42.764Z"
   },
   {
    "duration": 22,
    "start_time": "2022-02-21T03:08:42.776Z"
   },
   {
    "duration": 159,
    "start_time": "2022-02-21T03:08:42.800Z"
   },
   {
    "duration": 183,
    "start_time": "2022-02-21T03:08:42.961Z"
   },
   {
    "duration": 31,
    "start_time": "2022-02-21T03:08:43.146Z"
   },
   {
    "duration": 140,
    "start_time": "2022-02-21T03:08:43.180Z"
   },
   {
    "duration": 9,
    "start_time": "2022-02-21T03:08:43.322Z"
   },
   {
    "duration": 26,
    "start_time": "2022-02-21T03:08:43.333Z"
   },
   {
    "duration": 25,
    "start_time": "2022-02-21T03:08:43.361Z"
   },
   {
    "duration": 42,
    "start_time": "2022-02-21T03:08:43.388Z"
   },
   {
    "duration": 13,
    "start_time": "2022-02-21T03:08:43.432Z"
   },
   {
    "duration": 4,
    "start_time": "2022-02-21T03:08:43.447Z"
   },
   {
    "duration": 36,
    "start_time": "2022-02-21T03:08:43.452Z"
   },
   {
    "duration": 40,
    "start_time": "2022-02-21T03:08:43.490Z"
   },
   {
    "duration": 24,
    "start_time": "2022-02-21T03:08:43.532Z"
   },
   {
    "duration": 27,
    "start_time": "2022-02-21T03:08:43.558Z"
   },
   {
    "duration": 709,
    "start_time": "2022-02-21T03:08:43.586Z"
   }
  ],
  "kernelspec": {
   "display_name": "Python 3 (ipykernel)",
   "language": "python",
   "name": "python3"
  },
  "language_info": {
   "codemirror_mode": {
    "name": "ipython",
    "version": 3
   },
   "file_extension": ".py",
   "mimetype": "text/x-python",
   "name": "python",
   "nbconvert_exporter": "python",
   "pygments_lexer": "ipython3",
   "version": "3.9.5"
  },
  "toc": {
   "base_numbering": 1,
   "nav_menu": {},
   "number_sections": true,
   "sideBar": true,
   "skip_h1_title": true,
   "title_cell": "Table of Contents",
   "title_sidebar": "Contents",
   "toc_cell": false,
   "toc_position": {
    "height": "calc(100% - 180px)",
    "left": "10px",
    "top": "150px",
    "width": "165px"
   },
   "toc_section_display": true,
   "toc_window_display": false
  }
 },
 "nbformat": 4,
 "nbformat_minor": 2
}
