{
 "cells": [
  {
   "cell_type": "markdown",
   "metadata": {},
   "source": [
    "<div class = \"alert alert-info\">\n",
    "<h1>Комментарий студента (до первого ревью)</h1> \n",
    "    <h1></h1>    \n",
    "Привет я Александр Мельников, я студент группы 1да+. Присылаю свою работу на проверку. Хочу сказать, что тема выызвала затруднения ( не столько по подсчетам, сколько на понимание). Вероятно что то упустил на момент исследования. С удовольствием почитал бы грамотные комментарии по этой тематике!** \n",
    "</div>"
   ]
  },
  {
   "cell_type": "markdown",
   "metadata": {},
   "source": [
    "#### Александр, привет! \n",
    "\n",
    "Меня зовут Максим Попов, и я буду проверять твой проект. Давай будем общаться на «ты». Но если тебе комфортнее на «вы», обязательно сообщи мне об этом. \n",
    "По ходу тетрадки ты найдешь комментарии к проекту, они будут в отдельных ячейках Markdown с заголовком «Комментарий ревьюера». Постарайся учесть эти комментарии для дальнейших проектов.\n",
    "\n",
    "---\n",
    "\n",
    "Я буду отмечать комментарии цветом и примечанием. В конце заголовка комментаaрия будет указан номер итерации проверки. Пожалуйста, не удаляй и не правь мои комментарии\n",
    "\n",
    "Критично - требует исправления, влияет на удачное выполнение проекта\n",
    "\n",
    "Рекомендация - комментарий является рекомендацией или советом. Mожешь учесть их при выполнении будущих заданий. На твое усмотрение\n",
    "\n",
    "Отлично - Так отмечены удачные решения и подходы, на которые стоит опираться в будущих проектах\n",
    "\n",
    "<div class=\"alert alert-block alert-danger\">\n",
    "    \n",
    "\n",
    "### Комментарий от ревьюера\n",
    "Критично\n",
    "\n",
    "Такой комментарий нужно исправить обязательно, он критически влияет на удачное выполнение проекта.\n",
    "</div>\n",
    "    \n",
    "---\n",
    "\n",
    "<div class=\"alert alert-block alert-warning\">\n",
    "    \n",
    "\n",
    "### Комментарий от ревьюера\n",
    "Рекомендация\n",
    "\n",
    "Такой комментарий является рекомендацией или советом. Mожешь учесть их при выполнении будущих заданий. На твое усмотрение. \n",
    "</div>\n",
    "\n",
    "---\n",
    "\n",
    "<div class=\"alert alert-block alert-success\">\n",
    "    \n",
    "\n",
    "### Комментарий от ревьюера\n",
    "Отлично\n",
    "    \n",
    "Так отмечены удачные решения и подходы, на которые стоит опираться в будущих проектах\n",
    "</div>"
   ]
  },
  {
   "cell_type": "markdown",
   "metadata": {},
   "source": [
    "<div class=\"alert alert-block alert-success\">\n",
    "    \n",
    "    \n",
    "### Комментарий от ревьюера v_1\n",
    "    \n",
    "Александр, у тебя отличная работа, но следующие моменты надо исправить\n",
    "    \n",
    "1. Проверка данных на ошибки\n",
    "2. Потеря данных при джойне\n",
    "3. Подготовка данных к статистическим тестам\n",
    "4. Интерпретация статистических тестов\n",
    "    \n",
    "Подробные комментарии по ходу работы\n",
    "    \n",
    "Желтые комментарии-рекомендации на твое усмотрение.\n",
    "    \n",
    "Если есть вопросы ко мне, можешь оставить их в отдельном комментарии\n",
    "    \n",
    "Если чувствуешь, что не уверен в понимании статистики, напиши об этом, посоветую отличный материал для изучения\n",
    "</div>"
   ]
  },
  {
   "cell_type": "markdown",
   "metadata": {},
   "source": [
    "<div class=\"alert alert-block alert-success\">\n",
    "    \n",
    "=\n",
    "### Комментарий от ревьюера v_2\n",
    "    \n",
    "Александр, привет!\n",
    "    \n",
    "Ты отлично справился с критичными комментариями, супер!\n",
    "    \n",
    "Остался один момент с джойнами, он очень важен. Подробный комментарий в работе.\n",
    "</div>"
   ]
  },
  {
   "cell_type": "markdown",
   "metadata": {},
   "source": [
    "<div class=\"alert alert-block alert-success\">\n",
    " \n",
    "    \n",
    "### Комментарий от ревьюера v_3\n",
    "    \n",
    "Александр, привет!\n",
    "    \n",
    "Отлично, все критичные комментарии отработаны!\n",
    "    \n",
    "У тебя получился отличный проект, успеха в дальнейшем обучении!\n",
    "</div>"
   ]
  },
  {
   "cell_type": "markdown",
   "metadata": {},
   "source": [
    "# Описание проекта\n",
    "\n",
    "Вы аналитик компании «Мегалайн» — федерального оператора сотовой связи. Клиентам предлагают два тарифных плана: «Смарт» и «Ультра». Чтобы скорректировать рекламный бюджет, коммерческий департамент хочет понять, какой тариф приносит больше денег.\n",
    "\n",
    "\n",
    "Вам предстоит сделать предварительный анализ тарифов на небольшой выборке клиентов. В вашем распоряжении данные 500 пользователей «Мегалайна»: кто они, откуда, каким тарифом пользуются, сколько звонков и сообщений каждый отправил за 2018 год. Нужно проанализировать поведение клиентов и сделать вывод — какой тариф лучше."
   ]
  },
  {
   "cell_type": "markdown",
   "metadata": {},
   "source": [
    "### Описание тарифов\n",
    "Тариф «Смарт»:\n",
    " - Ежемесячная плата: 550 рублей\n",
    " - Включено 500 минут разговора, 50 сообщений и 15 Гб интернет-трафика.\n",
    " - Стоимость услуг сверх тарифного пакета: 1. минута разговора: 3 рубля («Мегалайн» всегда округляет вверх значения минут и мегабайтов. Если пользователь проговорил всего 1 секунду, в тарифе засчитывается целая минута); 2. сообщение: 3 рубля; 3. 1 Гб интернет-трафика: 200 рублей.\n",
    " \n",
    "Тариф «Ультра»:\n",
    " - Ежемесячная плата: 1950 рублей\n",
    " - Включено 3000 минут разговора, 1000 сообщений и 30 Гб интернет-трафика\n",
    " - Стоимость услуг сверх тарифного пакета: 1. минута разговора: 1 рубль; 2. сообщение: 1 рубль; 3. 1 Гб интернет-трафика: 150 рублей."
   ]
  },
  {
   "cell_type": "markdown",
   "metadata": {},
   "source": [
    "### Подготовьте данные\n",
    " - Приведите данные к нужным типам;\n",
    " - Найдите и исправьте ошибки в данных, если они есть.\n",
    " - Поясните, какие ошибки вы нашли и как их исправили. В данных вы найдёте звонки с нулевой продолжительностью. Это не ошибка: нулями обозначены пропущенные звонки, поэтому их не нужно удалять.\n",
    " \n",
    "### Посчитайте для каждого пользователя:\n",
    " - количество сделанных звонков и израсходованных минут разговора по месяцам;\n",
    " - количество отправленных сообщений по месяцам;\n",
    " - объем израсходованного интернет-трафика по месяцам;\n",
    " - помесячную выручку с каждого пользователя (вычтите бесплатный лимит из суммарного количества звонков, сообщений и интернет-трафика; остаток умножьте на значение из тарифного плана; прибавьте абонентскую плату, соответствующую тарифному плану).\n",
    " \n",
    "### Проанализируйте данные\n",
    " - Опишите поведение клиентов оператора, исходя из выборки.\n",
    " - Сколько минут разговора, сколько сообщений и какой объём интернет-трафика требуется пользователям каждого тарифа в месяц?  \n",
    " - Посчитайте среднее количество, дисперсию и стандартное отклонение. Постройте гистограммы. Опишите распределения.\n",
    " \n",
    "### Проверьте гипотезы\n",
    " - средняя выручка пользователей тарифов «Ультра» и «Смарт» различаются;\n",
    " - средняя выручка пользователей из Москвы отличается от выручки пользователей из других регионов.\n",
    " \n",
    "Пороговое значение alpha задайте самостоятельно.\n",
    "Поясните:\n",
    " - как вы формулировали нулевую и альтернативную гипотезы;\n",
    " - какой критерий использовали для проверки гипотез и почему.\n",
    "\n",
    "### Напишите общий вывод"
   ]
  },
  {
   "cell_type": "markdown",
   "metadata": {},
   "source": [
    "# Описание данных\n",
    "\n",
    "Таблица users (информация о пользователях):\n",
    "\n",
    "    user_id — уникальный идентификатор пользователя\n",
    "    first_name — имя пользователя\n",
    "    last_name — фамилия пользователя\n",
    "    age — возраст пользователя (годы)\n",
    "    reg_date — дата подключения тарифа (день, месяц, год)\n",
    "    churn_date — дата прекращения пользования тарифом (если значение пропущено, то тариф ещё действовал на момент выгрузки данных)\n",
    "    city — город проживания пользователя\n",
    "    tarif — название тарифного плана\n",
    "    \n",
    "Таблица calls (информация о звонках):\n",
    "\n",
    "    id — уникальный номер звонка\n",
    "    call_date — дата звонка\n",
    "    duration — длительность звонка в минутах\n",
    "    user_id — идентификатор пользователя, сделавшего звонок\n",
    "    \n",
    "Таблица messages (информация о сообщениях):\n",
    "\n",
    "    id — уникальный номер сообщения\n",
    "    message_date — дата сообщения\n",
    "    user_id — идентификатор пользователя, отправившего сообщение\n",
    "    \n",
    "Таблица internet (информация об интернет-сессиях):\n",
    "\n",
    "    id — уникальный номер сессии\n",
    "    mb_used — объём потраченного за сессию интернет-трафика (в мегабайтах)\n",
    "    session_date — дата интернет-сессии\n",
    "    user_id — идентификатор пользователя\n",
    "    Таблица tariffs (информация о тарифах):\n",
    "    tariff_name — название тарифа\n",
    "    rub_monthly_fee — ежемесячная абонентская плата в рублях\n",
    "    minutes_included — количество минут разговора в месяц, включённых в абонентскую плату\n",
    "    messages_included — количество сообщений в месяц, включённых в абонентскую плату\n",
    "    mb_per_month_included — объём интернет-трафика, включённого в абонентскую плату (в мегабайтах)\n",
    "    rub_per_minute — стоимость минуты разговора сверх тарифного пакета (например, если в тарифе 100 минут разговора в месяц, то со 101 минуты будет взиматься плата)\n",
    "    rub_per_message — стоимость отправки сообщения сверх тарифного пакета\n",
    "    rub_per_gb — стоимость дополнительного гигабайта интернет-трафика сверх тарифного пакета (1 гигабайт = 1024 мегабайта)"
   ]
  },
  {
   "cell_type": "markdown",
   "metadata": {},
   "source": [
    "\n",
    "<div class=\"alert alert-block alert-success\">\n",
    "    \n",
    "\n",
    "### Комментарий от ревьюера v_1\n",
    "Отлично\n",
    "    \n",
    "Молодец, что в начале проекте знакомишь с ним, так работа приобретает структуру и лучше воспринимается.\n",
    "</div>"
   ]
  },
  {
   "cell_type": "markdown",
   "metadata": {},
   "source": [
    "## Загрузка данных и подготовка их к анализу"
   ]
  },
  {
   "cell_type": "code",
   "execution_count": 1,
   "metadata": {},
   "outputs": [],
   "source": [
    "import pandas  as pd\n",
    "import numpy as np\n",
    "import math as math\n",
    "from scipy import stats as st\n",
    "from matplotlib import pyplot  as plt\n",
    "from matplotlib.pyplot import figure\n",
    "import seaborn as sns\n",
    "\n",
    "import warnings\n",
    "warnings.filterwarnings(\"ignore\")"
   ]
  },
  {
   "cell_type": "markdown",
   "metadata": {},
   "source": [
    "<div class=\"alert alert-block alert-success\">\n",
    "    \n",
    "\n",
    "### Комментарий от ревьюера v_1\n",
    "Отлично\n",
    "    \n",
    "Отлично, библиотеки импортированы в начале тетрадки, в отдельной ячейке.\n",
    "</div>"
   ]
  },
  {
   "cell_type": "markdown",
   "metadata": {},
   "source": [
    "Создадим 5 df (calls, internet, messages, users, tarif ) на основании данных предоставленных для анализа"
   ]
  },
  {
   "cell_type": "code",
   "execution_count": 2,
   "metadata": {},
   "outputs": [],
   "source": [
    "calls = pd.read_csv('https://code.s3.yandex.net/datasets/calls.csv')\n",
    "internet = pd.read_csv('https://code.s3.yandex.net/datasets/internet.csv')\n",
    "messages = pd.read_csv('https://code.s3.yandex.net/datasets/messages.csv')\n",
    "users = pd.read_csv('https://code.s3.yandex.net/datasets/users.csv')\n",
    "tarif = pd.read_csv('https://code.s3.yandex.net/datasets/tariffs.csv')"
   ]
  },
  {
   "cell_type": "markdown",
   "metadata": {},
   "source": [
    "Посмотрим на типы данных внутри этих df:"
   ]
  },
  {
   "cell_type": "code",
   "execution_count": 3,
   "metadata": {},
   "outputs": [
    {
     "name": "stdout",
     "output_type": "stream",
     "text": [
      "<class 'pandas.core.frame.DataFrame'>\n",
      "RangeIndex: 202607 entries, 0 to 202606\n",
      "Data columns (total 4 columns):\n",
      "id           202607 non-null object\n",
      "call_date    202607 non-null object\n",
      "duration     202607 non-null float64\n",
      "user_id      202607 non-null int64\n",
      "dtypes: float64(1), int64(1), object(2)\n",
      "memory usage: 6.2+ MB\n"
     ]
    }
   ],
   "source": [
    "calls.info()"
   ]
  },
  {
   "cell_type": "code",
   "execution_count": 4,
   "metadata": {},
   "outputs": [
    {
     "name": "stdout",
     "output_type": "stream",
     "text": [
      "<class 'pandas.core.frame.DataFrame'>\n",
      "RangeIndex: 149396 entries, 0 to 149395\n",
      "Data columns (total 5 columns):\n",
      "Unnamed: 0      149396 non-null int64\n",
      "id              149396 non-null object\n",
      "mb_used         149396 non-null float64\n",
      "session_date    149396 non-null object\n",
      "user_id         149396 non-null int64\n",
      "dtypes: float64(1), int64(2), object(2)\n",
      "memory usage: 5.7+ MB\n"
     ]
    }
   ],
   "source": [
    "internet.info()"
   ]
  },
  {
   "cell_type": "code",
   "execution_count": 5,
   "metadata": {},
   "outputs": [
    {
     "name": "stdout",
     "output_type": "stream",
     "text": [
      "<class 'pandas.core.frame.DataFrame'>\n",
      "RangeIndex: 123036 entries, 0 to 123035\n",
      "Data columns (total 3 columns):\n",
      "id              123036 non-null object\n",
      "message_date    123036 non-null object\n",
      "user_id         123036 non-null int64\n",
      "dtypes: int64(1), object(2)\n",
      "memory usage: 2.8+ MB\n"
     ]
    }
   ],
   "source": [
    "messages.info()"
   ]
  },
  {
   "cell_type": "code",
   "execution_count": 6,
   "metadata": {
    "scrolled": true
   },
   "outputs": [
    {
     "name": "stdout",
     "output_type": "stream",
     "text": [
      "<class 'pandas.core.frame.DataFrame'>\n",
      "RangeIndex: 500 entries, 0 to 499\n",
      "Data columns (total 8 columns):\n",
      "user_id       500 non-null int64\n",
      "age           500 non-null int64\n",
      "churn_date    38 non-null object\n",
      "city          500 non-null object\n",
      "first_name    500 non-null object\n",
      "last_name     500 non-null object\n",
      "reg_date      500 non-null object\n",
      "tariff        500 non-null object\n",
      "dtypes: int64(2), object(6)\n",
      "memory usage: 31.4+ KB\n"
     ]
    }
   ],
   "source": [
    "users.info()"
   ]
  },
  {
   "cell_type": "code",
   "execution_count": 7,
   "metadata": {
    "scrolled": true
   },
   "outputs": [
    {
     "name": "stdout",
     "output_type": "stream",
     "text": [
      "<class 'pandas.core.frame.DataFrame'>\n",
      "RangeIndex: 2 entries, 0 to 1\n",
      "Data columns (total 8 columns):\n",
      "messages_included        2 non-null int64\n",
      "mb_per_month_included    2 non-null int64\n",
      "minutes_included         2 non-null int64\n",
      "rub_monthly_fee          2 non-null int64\n",
      "rub_per_gb               2 non-null int64\n",
      "rub_per_message          2 non-null int64\n",
      "rub_per_minute           2 non-null int64\n",
      "tariff_name              2 non-null object\n",
      "dtypes: int64(7), object(1)\n",
      "memory usage: 256.0+ bytes\n"
     ]
    }
   ],
   "source": [
    "tarif.info()"
   ]
  },
  {
   "cell_type": "markdown",
   "metadata": {},
   "source": [
    "Первично обнаружено что в df `users` есть не соответсвтие в столбце `churn_date` (дата прекращения пользования тарифом). Однако судя по описанию это значит, что тариф ещё действовал на момент выгрузки данных (из исходных данных). Поэтому это не те пропуски которые могут нас интересовать. В остальных df очевидных попусков нет.\n",
    "\n",
    "Все даты которые обнаружены, являются типом `object`. Стоит привести их к `datetime`. Вынесем их:\n",
    "\n",
    " - call_date (calls)\n",
    " - reg_date (users)\n",
    " - churn_date (users)\n",
    " - message_date (messages)\n",
    " - session_date (internet)"
   ]
  },
  {
   "cell_type": "markdown",
   "metadata": {},
   "source": [
    "\n",
    "<div class=\"alert alert-block alert-success\">\n",
    "    \n",
    "\n",
    "### Комментарий от ревьюера v_1\n",
    "Отлично\n",
    "    \n",
    "Отлично данные загружены, можем приступать к предобработке\n",
    "\n",
    "</div>"
   ]
  },
  {
   "cell_type": "markdown",
   "metadata": {},
   "source": [
    "## Предобработка данных"
   ]
  },
  {
   "cell_type": "markdown",
   "metadata": {},
   "source": [
    "Как было отмечено даты приведем к формату даты , а также выделим месяцы в каждом из df:"
   ]
  },
  {
   "cell_type": "code",
   "execution_count": 8,
   "metadata": {
    "scrolled": false
   },
   "outputs": [],
   "source": [
    "users = (users.assign(reg_date = pd.to_datetime(users['reg_date'], errors='coerce'),\n",
    "                      churn_date = pd.to_datetime(users['churn_date'], errors='coerce')))\n",
    "\n",
    "messages = (messages.assign(message_date = pd.to_datetime(messages['message_date'], errors='coerce'),\n",
    "                            month = pd.DatetimeIndex(messages['message_date']).month))\n",
    "\n",
    "internet = (internet.assign(session_date = pd.to_datetime(internet['session_date'], errors='coerce'),\n",
    "                            month = pd.DatetimeIndex(internet['session_date']).month))\n",
    "\n",
    "\n",
    "calls = (calls.assign(call_date = pd.to_datetime(calls['call_date'], errors='coerce'),\n",
    "                       month = pd.DatetimeIndex(calls['call_date']).month))                     "
   ]
  },
  {
   "cell_type": "markdown",
   "metadata": {},
   "source": [
    "<div class=\"alert alert-block alert-success\">\n",
    "  \n",
    "### Комментарий от ревьюера v_1\n",
    "Отлично\n",
    "    \n",
    "Отлично, теперь данные хранятся в праильном виде 👍🏻\n",
    "</div>  \n"
   ]
  },
  {
   "cell_type": "markdown",
   "metadata": {},
   "source": [
    "Дальнейший подход будет заключаться в том, что мы объеденим все 5 df в один в котором будет содержаться интересующая нас информация:\n",
    "\n",
    "1) `user_id` и `month` ( нужны для формирования промежуточных данных. По ним будет осуществляться группировка);\n",
    "\n",
    "2) `tarif` - название тарифа (smart или ultra);\n",
    "\n",
    "3) `sms_count` - количество отправленных смс в месяц;\n",
    "\n",
    "4) `duration_calls` - общая продолжительность звонков в месяц;\n",
    "\n",
    "5) `calls_count` - количество звонков ( в звонках интересуют минуты а не их количество , но для статистики можно и составить);\n",
    "\n",
    "6) `gb_used` - потраченное количество интернет траффика в ГБ ( округленных до ближайшего целого вверх);\n",
    "\n",
    "7) `city` - город проживания. Нужен для статистического аналиаз;\n",
    "\n",
    "8) Столбцы с расчетами платы за лимиты сверх тарифов:\n",
    "\n",
    "а) `revenue_internet` (за интернет);\n",
    "       \n",
    "б) `revenue_calls` ( за звонки );\n",
    "       \n",
    "в) `revenue_sms` (за смс);\n",
    "       \n",
    "г) `revenue` - итоговые траты.\n",
    "       \n",
    "Очевидных пропусков на момент рассмотрения исходных данных не было обнаружено. Проблем с неточностью написания здесь быть не может ( во всяком случае заполнить их чем - то не предоставляется возможным) . Стоит провести окончательную проверку на пропуски после формирования окончательного df. Он будет называться `total`"
   ]
  },
  {
   "cell_type": "markdown",
   "metadata": {},
   "source": [
    "Как было заявлено, оператор округляет каждый звонок до ближайшей целой минуту (вверх). Эту надо сделать на данном этапе , потому что в итоговой таблице будет считаться общая продолжительность в минутах за весь месяц ( потеряется много не округленных минут). "
   ]
  },
  {
   "cell_type": "code",
   "execution_count": 9,
   "metadata": {},
   "outputs": [],
   "source": [
    "calls['duration_stat'] = calls['duration'].apply(lambda x: math.ceil(x))"
   ]
  },
  {
   "cell_type": "markdown",
   "metadata": {},
   "source": [
    "<div class=\"alert alert-block alert-success\">\n",
    "    \n",
    "\n",
    "### Комментарий от ревьюера v_1\n",
    "Отлично\n",
    "    \n",
    "Молодец, что не упускаешь этого\n",
    "</div>"
   ]
  },
  {
   "cell_type": "code",
   "execution_count": 10,
   "metadata": {
    "scrolled": false
   },
   "outputs": [
    {
     "data": {
      "text/html": [
       "<div>\n",
       "<style scoped>\n",
       "    .dataframe tbody tr th:only-of-type {\n",
       "        vertical-align: middle;\n",
       "    }\n",
       "\n",
       "    .dataframe tbody tr th {\n",
       "        vertical-align: top;\n",
       "    }\n",
       "\n",
       "    .dataframe thead th {\n",
       "        text-align: right;\n",
       "    }\n",
       "</style>\n",
       "<table border=\"1\" class=\"dataframe\">\n",
       "  <thead>\n",
       "    <tr style=\"text-align: right;\">\n",
       "      <th></th>\n",
       "      <th>id</th>\n",
       "      <th>call_date</th>\n",
       "      <th>duration</th>\n",
       "      <th>user_id</th>\n",
       "      <th>month</th>\n",
       "      <th>duration_stat</th>\n",
       "    </tr>\n",
       "  </thead>\n",
       "  <tbody>\n",
       "    <tr>\n",
       "      <td>0</td>\n",
       "      <td>1000_0</td>\n",
       "      <td>2018-07-25</td>\n",
       "      <td>0.00</td>\n",
       "      <td>1000</td>\n",
       "      <td>7</td>\n",
       "      <td>0</td>\n",
       "    </tr>\n",
       "    <tr>\n",
       "      <td>1</td>\n",
       "      <td>1000_1</td>\n",
       "      <td>2018-08-17</td>\n",
       "      <td>0.00</td>\n",
       "      <td>1000</td>\n",
       "      <td>8</td>\n",
       "      <td>0</td>\n",
       "    </tr>\n",
       "    <tr>\n",
       "      <td>2</td>\n",
       "      <td>1000_2</td>\n",
       "      <td>2018-06-11</td>\n",
       "      <td>2.85</td>\n",
       "      <td>1000</td>\n",
       "      <td>6</td>\n",
       "      <td>3</td>\n",
       "    </tr>\n",
       "    <tr>\n",
       "      <td>3</td>\n",
       "      <td>1000_3</td>\n",
       "      <td>2018-09-21</td>\n",
       "      <td>13.80</td>\n",
       "      <td>1000</td>\n",
       "      <td>9</td>\n",
       "      <td>14</td>\n",
       "    </tr>\n",
       "    <tr>\n",
       "      <td>4</td>\n",
       "      <td>1000_4</td>\n",
       "      <td>2018-12-15</td>\n",
       "      <td>5.18</td>\n",
       "      <td>1000</td>\n",
       "      <td>12</td>\n",
       "      <td>6</td>\n",
       "    </tr>\n",
       "    <tr>\n",
       "      <td>...</td>\n",
       "      <td>...</td>\n",
       "      <td>...</td>\n",
       "      <td>...</td>\n",
       "      <td>...</td>\n",
       "      <td>...</td>\n",
       "      <td>...</td>\n",
       "    </tr>\n",
       "    <tr>\n",
       "      <td>202602</td>\n",
       "      <td>1499_215</td>\n",
       "      <td>2018-12-26</td>\n",
       "      <td>0.76</td>\n",
       "      <td>1499</td>\n",
       "      <td>12</td>\n",
       "      <td>1</td>\n",
       "    </tr>\n",
       "    <tr>\n",
       "      <td>202603</td>\n",
       "      <td>1499_216</td>\n",
       "      <td>2018-10-18</td>\n",
       "      <td>18.83</td>\n",
       "      <td>1499</td>\n",
       "      <td>10</td>\n",
       "      <td>19</td>\n",
       "    </tr>\n",
       "    <tr>\n",
       "      <td>202604</td>\n",
       "      <td>1499_217</td>\n",
       "      <td>2018-11-10</td>\n",
       "      <td>10.81</td>\n",
       "      <td>1499</td>\n",
       "      <td>11</td>\n",
       "      <td>11</td>\n",
       "    </tr>\n",
       "    <tr>\n",
       "      <td>202605</td>\n",
       "      <td>1499_218</td>\n",
       "      <td>2018-10-06</td>\n",
       "      <td>4.27</td>\n",
       "      <td>1499</td>\n",
       "      <td>10</td>\n",
       "      <td>5</td>\n",
       "    </tr>\n",
       "    <tr>\n",
       "      <td>202606</td>\n",
       "      <td>1499_219</td>\n",
       "      <td>2018-12-14</td>\n",
       "      <td>19.62</td>\n",
       "      <td>1499</td>\n",
       "      <td>12</td>\n",
       "      <td>20</td>\n",
       "    </tr>\n",
       "  </tbody>\n",
       "</table>\n",
       "<p>202607 rows × 6 columns</p>\n",
       "</div>"
      ],
      "text/plain": [
       "              id  call_date  duration  user_id  month  duration_stat\n",
       "0         1000_0 2018-07-25      0.00     1000      7              0\n",
       "1         1000_1 2018-08-17      0.00     1000      8              0\n",
       "2         1000_2 2018-06-11      2.85     1000      6              3\n",
       "3         1000_3 2018-09-21     13.80     1000      9             14\n",
       "4         1000_4 2018-12-15      5.18     1000     12              6\n",
       "...          ...        ...       ...      ...    ...            ...\n",
       "202602  1499_215 2018-12-26      0.76     1499     12              1\n",
       "202603  1499_216 2018-10-18     18.83     1499     10             19\n",
       "202604  1499_217 2018-11-10     10.81     1499     11             11\n",
       "202605  1499_218 2018-10-06      4.27     1499     10              5\n",
       "202606  1499_219 2018-12-14     19.62     1499     12             20\n",
       "\n",
       "[202607 rows x 6 columns]"
      ]
     },
     "execution_count": 10,
     "metadata": {},
     "output_type": "execute_result"
    }
   ],
   "source": [
    "calls"
   ]
  },
  {
   "cell_type": "markdown",
   "metadata": {},
   "source": [
    "Объеденим таблицы `users` и `internet` и сгруппируем по id пользователей и номеру месяца, посчитав общее количество траффика."
   ]
  },
  {
   "cell_type": "code",
   "execution_count": 11,
   "metadata": {
    "scrolled": true
   },
   "outputs": [],
   "source": [
    "prom_1 = users.merge(internet, on='user_id',how='outer').groupby(['user_id','month','tariff','city'])['mb_used']\\\n",
    ".sum().reset_index()"
   ]
  },
  {
   "cell_type": "code",
   "execution_count": 12,
   "metadata": {
    "scrolled": true
   },
   "outputs": [
    {
     "data": {
      "text/html": [
       "<div>\n",
       "<style scoped>\n",
       "    .dataframe tbody tr th:only-of-type {\n",
       "        vertical-align: middle;\n",
       "    }\n",
       "\n",
       "    .dataframe tbody tr th {\n",
       "        vertical-align: top;\n",
       "    }\n",
       "\n",
       "    .dataframe thead th {\n",
       "        text-align: right;\n",
       "    }\n",
       "</style>\n",
       "<table border=\"1\" class=\"dataframe\">\n",
       "  <thead>\n",
       "    <tr style=\"text-align: right;\">\n",
       "      <th></th>\n",
       "      <th>user_id</th>\n",
       "      <th>month</th>\n",
       "      <th>tariff</th>\n",
       "      <th>city</th>\n",
       "      <th>mb_used</th>\n",
       "    </tr>\n",
       "  </thead>\n",
       "  <tbody>\n",
       "    <tr>\n",
       "      <td>0</td>\n",
       "      <td>1000</td>\n",
       "      <td>5.0</td>\n",
       "      <td>ultra</td>\n",
       "      <td>Краснодар</td>\n",
       "      <td>2253.49</td>\n",
       "    </tr>\n",
       "    <tr>\n",
       "      <td>1</td>\n",
       "      <td>1000</td>\n",
       "      <td>6.0</td>\n",
       "      <td>ultra</td>\n",
       "      <td>Краснодар</td>\n",
       "      <td>23233.77</td>\n",
       "    </tr>\n",
       "    <tr>\n",
       "      <td>2</td>\n",
       "      <td>1000</td>\n",
       "      <td>7.0</td>\n",
       "      <td>ultra</td>\n",
       "      <td>Краснодар</td>\n",
       "      <td>14003.64</td>\n",
       "    </tr>\n",
       "    <tr>\n",
       "      <td>3</td>\n",
       "      <td>1000</td>\n",
       "      <td>8.0</td>\n",
       "      <td>ultra</td>\n",
       "      <td>Краснодар</td>\n",
       "      <td>14055.93</td>\n",
       "    </tr>\n",
       "    <tr>\n",
       "      <td>4</td>\n",
       "      <td>1000</td>\n",
       "      <td>9.0</td>\n",
       "      <td>ultra</td>\n",
       "      <td>Краснодар</td>\n",
       "      <td>14568.91</td>\n",
       "    </tr>\n",
       "    <tr>\n",
       "      <td>...</td>\n",
       "      <td>...</td>\n",
       "      <td>...</td>\n",
       "      <td>...</td>\n",
       "      <td>...</td>\n",
       "      <td>...</td>\n",
       "    </tr>\n",
       "    <tr>\n",
       "      <td>3198</td>\n",
       "      <td>1498</td>\n",
       "      <td>10.0</td>\n",
       "      <td>smart</td>\n",
       "      <td>Владикавказ</td>\n",
       "      <td>20579.36</td>\n",
       "    </tr>\n",
       "    <tr>\n",
       "      <td>3199</td>\n",
       "      <td>1499</td>\n",
       "      <td>9.0</td>\n",
       "      <td>smart</td>\n",
       "      <td>Пермь</td>\n",
       "      <td>1845.75</td>\n",
       "    </tr>\n",
       "    <tr>\n",
       "      <td>3200</td>\n",
       "      <td>1499</td>\n",
       "      <td>10.0</td>\n",
       "      <td>smart</td>\n",
       "      <td>Пермь</td>\n",
       "      <td>17788.51</td>\n",
       "    </tr>\n",
       "    <tr>\n",
       "      <td>3201</td>\n",
       "      <td>1499</td>\n",
       "      <td>11.0</td>\n",
       "      <td>smart</td>\n",
       "      <td>Пермь</td>\n",
       "      <td>17963.31</td>\n",
       "    </tr>\n",
       "    <tr>\n",
       "      <td>3202</td>\n",
       "      <td>1499</td>\n",
       "      <td>12.0</td>\n",
       "      <td>smart</td>\n",
       "      <td>Пермь</td>\n",
       "      <td>13055.58</td>\n",
       "    </tr>\n",
       "  </tbody>\n",
       "</table>\n",
       "<p>3203 rows × 5 columns</p>\n",
       "</div>"
      ],
      "text/plain": [
       "      user_id  month tariff         city   mb_used\n",
       "0        1000    5.0  ultra    Краснодар   2253.49\n",
       "1        1000    6.0  ultra    Краснодар  23233.77\n",
       "2        1000    7.0  ultra    Краснодар  14003.64\n",
       "3        1000    8.0  ultra    Краснодар  14055.93\n",
       "4        1000    9.0  ultra    Краснодар  14568.91\n",
       "...       ...    ...    ...          ...       ...\n",
       "3198     1498   10.0  smart  Владикавказ  20579.36\n",
       "3199     1499    9.0  smart        Пермь   1845.75\n",
       "3200     1499   10.0  smart        Пермь  17788.51\n",
       "3201     1499   11.0  smart        Пермь  17963.31\n",
       "3202     1499   12.0  smart        Пермь  13055.58\n",
       "\n",
       "[3203 rows x 5 columns]"
      ]
     },
     "execution_count": 12,
     "metadata": {},
     "output_type": "execute_result"
    }
   ],
   "source": [
    "prom_1"
   ]
  },
  {
   "cell_type": "markdown",
   "metadata": {},
   "source": [
    "Аналогично поступим с таблицей `messages`, посчитав количество смс:"
   ]
  },
  {
   "cell_type": "code",
   "execution_count": 13,
   "metadata": {},
   "outputs": [],
   "source": [
    "prom_2 = users.merge(messages, on='user_id',how='outer').groupby(['user_id','month'])['id'].count().reset_index()"
   ]
  },
  {
   "cell_type": "code",
   "execution_count": 14,
   "metadata": {},
   "outputs": [],
   "source": [
    "prom_2 = prom_2.rename(columns = {'id': 'sms_count'})"
   ]
  },
  {
   "cell_type": "code",
   "execution_count": 15,
   "metadata": {
    "scrolled": true
   },
   "outputs": [
    {
     "data": {
      "text/html": [
       "<div>\n",
       "<style scoped>\n",
       "    .dataframe tbody tr th:only-of-type {\n",
       "        vertical-align: middle;\n",
       "    }\n",
       "\n",
       "    .dataframe tbody tr th {\n",
       "        vertical-align: top;\n",
       "    }\n",
       "\n",
       "    .dataframe thead th {\n",
       "        text-align: right;\n",
       "    }\n",
       "</style>\n",
       "<table border=\"1\" class=\"dataframe\">\n",
       "  <thead>\n",
       "    <tr style=\"text-align: right;\">\n",
       "      <th></th>\n",
       "      <th>user_id</th>\n",
       "      <th>month</th>\n",
       "      <th>sms_count</th>\n",
       "    </tr>\n",
       "  </thead>\n",
       "  <tbody>\n",
       "    <tr>\n",
       "      <td>0</td>\n",
       "      <td>1000</td>\n",
       "      <td>5.0</td>\n",
       "      <td>22</td>\n",
       "    </tr>\n",
       "    <tr>\n",
       "      <td>1</td>\n",
       "      <td>1000</td>\n",
       "      <td>6.0</td>\n",
       "      <td>60</td>\n",
       "    </tr>\n",
       "    <tr>\n",
       "      <td>2</td>\n",
       "      <td>1000</td>\n",
       "      <td>7.0</td>\n",
       "      <td>75</td>\n",
       "    </tr>\n",
       "    <tr>\n",
       "      <td>3</td>\n",
       "      <td>1000</td>\n",
       "      <td>8.0</td>\n",
       "      <td>81</td>\n",
       "    </tr>\n",
       "    <tr>\n",
       "      <td>4</td>\n",
       "      <td>1000</td>\n",
       "      <td>9.0</td>\n",
       "      <td>57</td>\n",
       "    </tr>\n",
       "    <tr>\n",
       "      <td>...</td>\n",
       "      <td>...</td>\n",
       "      <td>...</td>\n",
       "      <td>...</td>\n",
       "    </tr>\n",
       "    <tr>\n",
       "      <td>2712</td>\n",
       "      <td>1498</td>\n",
       "      <td>10.0</td>\n",
       "      <td>42</td>\n",
       "    </tr>\n",
       "    <tr>\n",
       "      <td>2713</td>\n",
       "      <td>1499</td>\n",
       "      <td>9.0</td>\n",
       "      <td>11</td>\n",
       "    </tr>\n",
       "    <tr>\n",
       "      <td>2714</td>\n",
       "      <td>1499</td>\n",
       "      <td>10.0</td>\n",
       "      <td>48</td>\n",
       "    </tr>\n",
       "    <tr>\n",
       "      <td>2715</td>\n",
       "      <td>1499</td>\n",
       "      <td>11.0</td>\n",
       "      <td>59</td>\n",
       "    </tr>\n",
       "    <tr>\n",
       "      <td>2716</td>\n",
       "      <td>1499</td>\n",
       "      <td>12.0</td>\n",
       "      <td>66</td>\n",
       "    </tr>\n",
       "  </tbody>\n",
       "</table>\n",
       "<p>2717 rows × 3 columns</p>\n",
       "</div>"
      ],
      "text/plain": [
       "      user_id  month  sms_count\n",
       "0        1000    5.0         22\n",
       "1        1000    6.0         60\n",
       "2        1000    7.0         75\n",
       "3        1000    8.0         81\n",
       "4        1000    9.0         57\n",
       "...       ...    ...        ...\n",
       "2712     1498   10.0         42\n",
       "2713     1499    9.0         11\n",
       "2714     1499   10.0         48\n",
       "2715     1499   11.0         59\n",
       "2716     1499   12.0         66\n",
       "\n",
       "[2717 rows x 3 columns]"
      ]
     },
     "execution_count": 15,
     "metadata": {},
     "output_type": "execute_result"
    }
   ],
   "source": [
    "prom_2"
   ]
  },
  {
   "cell_type": "markdown",
   "metadata": {},
   "source": [
    "и `calls`"
   ]
  },
  {
   "cell_type": "code",
   "execution_count": 16,
   "metadata": {},
   "outputs": [],
   "source": [
    "prom_3 = users.merge(calls, on='user_id',how='outer').\\\n",
    "groupby(['user_id','month']).agg({'duration_stat':sum, 'id':'count'}).reset_index()"
   ]
  },
  {
   "cell_type": "code",
   "execution_count": 17,
   "metadata": {
    "scrolled": true
   },
   "outputs": [
    {
     "data": {
      "text/html": [
       "<div>\n",
       "<style scoped>\n",
       "    .dataframe tbody tr th:only-of-type {\n",
       "        vertical-align: middle;\n",
       "    }\n",
       "\n",
       "    .dataframe tbody tr th {\n",
       "        vertical-align: top;\n",
       "    }\n",
       "\n",
       "    .dataframe thead th {\n",
       "        text-align: right;\n",
       "    }\n",
       "</style>\n",
       "<table border=\"1\" class=\"dataframe\">\n",
       "  <thead>\n",
       "    <tr style=\"text-align: right;\">\n",
       "      <th></th>\n",
       "      <th>user_id</th>\n",
       "      <th>month</th>\n",
       "      <th>duration_stat</th>\n",
       "      <th>id</th>\n",
       "    </tr>\n",
       "  </thead>\n",
       "  <tbody>\n",
       "    <tr>\n",
       "      <td>0</td>\n",
       "      <td>1000</td>\n",
       "      <td>5.0</td>\n",
       "      <td>159.0</td>\n",
       "      <td>22</td>\n",
       "    </tr>\n",
       "    <tr>\n",
       "      <td>1</td>\n",
       "      <td>1000</td>\n",
       "      <td>6.0</td>\n",
       "      <td>172.0</td>\n",
       "      <td>43</td>\n",
       "    </tr>\n",
       "    <tr>\n",
       "      <td>2</td>\n",
       "      <td>1000</td>\n",
       "      <td>7.0</td>\n",
       "      <td>340.0</td>\n",
       "      <td>47</td>\n",
       "    </tr>\n",
       "    <tr>\n",
       "      <td>3</td>\n",
       "      <td>1000</td>\n",
       "      <td>8.0</td>\n",
       "      <td>408.0</td>\n",
       "      <td>52</td>\n",
       "    </tr>\n",
       "    <tr>\n",
       "      <td>4</td>\n",
       "      <td>1000</td>\n",
       "      <td>9.0</td>\n",
       "      <td>466.0</td>\n",
       "      <td>58</td>\n",
       "    </tr>\n",
       "    <tr>\n",
       "      <td>...</td>\n",
       "      <td>...</td>\n",
       "      <td>...</td>\n",
       "      <td>...</td>\n",
       "      <td>...</td>\n",
       "    </tr>\n",
       "    <tr>\n",
       "      <td>3169</td>\n",
       "      <td>1498</td>\n",
       "      <td>10.0</td>\n",
       "      <td>247.0</td>\n",
       "      <td>41</td>\n",
       "    </tr>\n",
       "    <tr>\n",
       "      <td>3170</td>\n",
       "      <td>1499</td>\n",
       "      <td>9.0</td>\n",
       "      <td>70.0</td>\n",
       "      <td>9</td>\n",
       "    </tr>\n",
       "    <tr>\n",
       "      <td>3171</td>\n",
       "      <td>1499</td>\n",
       "      <td>10.0</td>\n",
       "      <td>449.0</td>\n",
       "      <td>68</td>\n",
       "    </tr>\n",
       "    <tr>\n",
       "      <td>3172</td>\n",
       "      <td>1499</td>\n",
       "      <td>11.0</td>\n",
       "      <td>612.0</td>\n",
       "      <td>74</td>\n",
       "    </tr>\n",
       "    <tr>\n",
       "      <td>3173</td>\n",
       "      <td>1499</td>\n",
       "      <td>12.0</td>\n",
       "      <td>492.0</td>\n",
       "      <td>69</td>\n",
       "    </tr>\n",
       "  </tbody>\n",
       "</table>\n",
       "<p>3174 rows × 4 columns</p>\n",
       "</div>"
      ],
      "text/plain": [
       "      user_id  month  duration_stat  id\n",
       "0        1000    5.0          159.0  22\n",
       "1        1000    6.0          172.0  43\n",
       "2        1000    7.0          340.0  47\n",
       "3        1000    8.0          408.0  52\n",
       "4        1000    9.0          466.0  58\n",
       "...       ...    ...            ...  ..\n",
       "3169     1498   10.0          247.0  41\n",
       "3170     1499    9.0           70.0   9\n",
       "3171     1499   10.0          449.0  68\n",
       "3172     1499   11.0          612.0  74\n",
       "3173     1499   12.0          492.0  69\n",
       "\n",
       "[3174 rows x 4 columns]"
      ]
     },
     "execution_count": 17,
     "metadata": {},
     "output_type": "execute_result"
    }
   ],
   "source": [
    "prom_3"
   ]
  },
  {
   "cell_type": "code",
   "execution_count": 18,
   "metadata": {},
   "outputs": [],
   "source": [
    "prom_3 = prom_3.rename(columns = {'id': 'calls_count'})"
   ]
  },
  {
   "cell_type": "markdown",
   "metadata": {},
   "source": [
    "<div class=\"alert alert-block alert-success\">\n",
    "    \n",
    "\n",
    "### Комментарий от ревьюера v_1\n",
    "Отлично\n",
    "    \n",
    "Отлично, сводные таблицы построены 👍🏻\n",
    "    \n",
    "Чтобы не переименовывать столбцы руками рекомендую использовать именованные агрегаты в groupby\n",
    "    \n",
    "Но не понимаю зачем ты джойнишь таблицу users, она ведь не нужна для расчетов\n",
    "</div>"
   ]
  },
  {
   "cell_type": "markdown",
   "metadata": {},
   "source": [
    "<div class=\"alert alert-info\">\n",
    "    \n",
    "\n",
    "### Комментарий от студента v_1\n",
    "Запутался - посчитал ее общей для всех остальных. Почитав комментарии понял, что можно было объединять и без нее - напутал)\n",
    "</div>"
   ]
  },
  {
   "cell_type": "code",
   "execution_count": 19,
   "metadata": {},
   "outputs": [],
   "source": [
    "total = pd.merge(prom_1, prom_2, how='outer', on=['user_id', 'month']).merge(prom_3, how='left', on=['user_id', 'month'])"
   ]
  },
  {
   "cell_type": "code",
   "execution_count": 20,
   "metadata": {
    "scrolled": true
   },
   "outputs": [
    {
     "data": {
      "text/html": [
       "<div>\n",
       "<style scoped>\n",
       "    .dataframe tbody tr th:only-of-type {\n",
       "        vertical-align: middle;\n",
       "    }\n",
       "\n",
       "    .dataframe tbody tr th {\n",
       "        vertical-align: top;\n",
       "    }\n",
       "\n",
       "    .dataframe thead th {\n",
       "        text-align: right;\n",
       "    }\n",
       "</style>\n",
       "<table border=\"1\" class=\"dataframe\">\n",
       "  <thead>\n",
       "    <tr style=\"text-align: right;\">\n",
       "      <th></th>\n",
       "      <th>user_id</th>\n",
       "      <th>month</th>\n",
       "      <th>tariff</th>\n",
       "      <th>city</th>\n",
       "      <th>mb_used</th>\n",
       "      <th>sms_count</th>\n",
       "      <th>duration_stat</th>\n",
       "      <th>calls_count</th>\n",
       "    </tr>\n",
       "  </thead>\n",
       "  <tbody>\n",
       "    <tr>\n",
       "      <td>0</td>\n",
       "      <td>1000</td>\n",
       "      <td>5.0</td>\n",
       "      <td>ultra</td>\n",
       "      <td>Краснодар</td>\n",
       "      <td>2253.49</td>\n",
       "      <td>22.0</td>\n",
       "      <td>159.0</td>\n",
       "      <td>22.0</td>\n",
       "    </tr>\n",
       "    <tr>\n",
       "      <td>1</td>\n",
       "      <td>1000</td>\n",
       "      <td>6.0</td>\n",
       "      <td>ultra</td>\n",
       "      <td>Краснодар</td>\n",
       "      <td>23233.77</td>\n",
       "      <td>60.0</td>\n",
       "      <td>172.0</td>\n",
       "      <td>43.0</td>\n",
       "    </tr>\n",
       "    <tr>\n",
       "      <td>2</td>\n",
       "      <td>1000</td>\n",
       "      <td>7.0</td>\n",
       "      <td>ultra</td>\n",
       "      <td>Краснодар</td>\n",
       "      <td>14003.64</td>\n",
       "      <td>75.0</td>\n",
       "      <td>340.0</td>\n",
       "      <td>47.0</td>\n",
       "    </tr>\n",
       "    <tr>\n",
       "      <td>3</td>\n",
       "      <td>1000</td>\n",
       "      <td>8.0</td>\n",
       "      <td>ultra</td>\n",
       "      <td>Краснодар</td>\n",
       "      <td>14055.93</td>\n",
       "      <td>81.0</td>\n",
       "      <td>408.0</td>\n",
       "      <td>52.0</td>\n",
       "    </tr>\n",
       "    <tr>\n",
       "      <td>4</td>\n",
       "      <td>1000</td>\n",
       "      <td>9.0</td>\n",
       "      <td>ultra</td>\n",
       "      <td>Краснодар</td>\n",
       "      <td>14568.91</td>\n",
       "      <td>57.0</td>\n",
       "      <td>466.0</td>\n",
       "      <td>58.0</td>\n",
       "    </tr>\n",
       "    <tr>\n",
       "      <td>...</td>\n",
       "      <td>...</td>\n",
       "      <td>...</td>\n",
       "      <td>...</td>\n",
       "      <td>...</td>\n",
       "      <td>...</td>\n",
       "      <td>...</td>\n",
       "      <td>...</td>\n",
       "      <td>...</td>\n",
       "    </tr>\n",
       "    <tr>\n",
       "      <td>3209</td>\n",
       "      <td>1273</td>\n",
       "      <td>11.0</td>\n",
       "      <td>NaN</td>\n",
       "      <td>NaN</td>\n",
       "      <td>NaN</td>\n",
       "      <td>29.0</td>\n",
       "      <td>272.0</td>\n",
       "      <td>45.0</td>\n",
       "    </tr>\n",
       "    <tr>\n",
       "      <td>3210</td>\n",
       "      <td>1273</td>\n",
       "      <td>12.0</td>\n",
       "      <td>NaN</td>\n",
       "      <td>NaN</td>\n",
       "      <td>NaN</td>\n",
       "      <td>39.0</td>\n",
       "      <td>260.0</td>\n",
       "      <td>41.0</td>\n",
       "    </tr>\n",
       "    <tr>\n",
       "      <td>3211</td>\n",
       "      <td>1377</td>\n",
       "      <td>2.0</td>\n",
       "      <td>NaN</td>\n",
       "      <td>NaN</td>\n",
       "      <td>NaN</td>\n",
       "      <td>2.0</td>\n",
       "      <td>179.0</td>\n",
       "      <td>23.0</td>\n",
       "    </tr>\n",
       "    <tr>\n",
       "      <td>3212</td>\n",
       "      <td>1392</td>\n",
       "      <td>2.0</td>\n",
       "      <td>NaN</td>\n",
       "      <td>NaN</td>\n",
       "      <td>NaN</td>\n",
       "      <td>3.0</td>\n",
       "      <td>13.0</td>\n",
       "      <td>2.0</td>\n",
       "    </tr>\n",
       "    <tr>\n",
       "      <td>3213</td>\n",
       "      <td>1446</td>\n",
       "      <td>8.0</td>\n",
       "      <td>NaN</td>\n",
       "      <td>NaN</td>\n",
       "      <td>NaN</td>\n",
       "      <td>1.0</td>\n",
       "      <td>50.0</td>\n",
       "      <td>4.0</td>\n",
       "    </tr>\n",
       "  </tbody>\n",
       "</table>\n",
       "<p>3214 rows × 8 columns</p>\n",
       "</div>"
      ],
      "text/plain": [
       "      user_id  month tariff       city   mb_used  sms_count  duration_stat  \\\n",
       "0        1000    5.0  ultra  Краснодар   2253.49       22.0          159.0   \n",
       "1        1000    6.0  ultra  Краснодар  23233.77       60.0          172.0   \n",
       "2        1000    7.0  ultra  Краснодар  14003.64       75.0          340.0   \n",
       "3        1000    8.0  ultra  Краснодар  14055.93       81.0          408.0   \n",
       "4        1000    9.0  ultra  Краснодар  14568.91       57.0          466.0   \n",
       "...       ...    ...    ...        ...       ...        ...            ...   \n",
       "3209     1273   11.0    NaN        NaN       NaN       29.0          272.0   \n",
       "3210     1273   12.0    NaN        NaN       NaN       39.0          260.0   \n",
       "3211     1377    2.0    NaN        NaN       NaN        2.0          179.0   \n",
       "3212     1392    2.0    NaN        NaN       NaN        3.0           13.0   \n",
       "3213     1446    8.0    NaN        NaN       NaN        1.0           50.0   \n",
       "\n",
       "      calls_count  \n",
       "0            22.0  \n",
       "1            43.0  \n",
       "2            47.0  \n",
       "3            52.0  \n",
       "4            58.0  \n",
       "...           ...  \n",
       "3209         45.0  \n",
       "3210         41.0  \n",
       "3211         23.0  \n",
       "3212          2.0  \n",
       "3213          4.0  \n",
       "\n",
       "[3214 rows x 8 columns]"
      ]
     },
     "execution_count": 20,
     "metadata": {},
     "output_type": "execute_result"
    }
   ],
   "source": [
    "total"
   ]
  },
  {
   "cell_type": "markdown",
   "metadata": {},
   "source": [
    "<div class=\"alert alert-block alert-danger\">\n",
    "    \n",
    "\n",
    "### Комментарий от ревьюера v_1\n",
    "Критично\n",
    "    \n",
    "Проверь джойны, ты теряешь данные\n",
    "    \n",
    "Чтобы избегать таких ошибок рекомендую проверять результаты, например, посчитать метрики в исходных таблицах и конечной\n",
    "</div>"
   ]
  },
  {
   "cell_type": "markdown",
   "metadata": {},
   "source": [
    "<div class=\"alert alert-info\">\n",
    "    \n",
    "### Комментарий от студента v_1\n",
    "    \n",
    "поменял left на outer. Вместо 3203 записей стало 3214. Не катастрофично (во всяком случае в этом задании, отдаю себе отчет в том что в каких то работах не правильное объединение может существенно исказить результаты). \n",
    "    \n",
    "Однако появились столбцы где **неизветен тариф** ( что критично-мы же исследуем тарифы. От этих данных **придется избавится**) - и это видимо люди которые не пользовались интернетом. В итоге останутся **те же 3203 записи.**\n",
    "</div>"
   ]
  },
  {
   "cell_type": "markdown",
   "metadata": {},
   "source": [
    "<div class=\"alert alert-block alert-danger\">\n",
    "    \n",
    "\n",
    "### Комментарий от ревьюера v_2\n",
    "Критично\n",
    "    \n",
    "Я не рекомендую так рассуждать, от аналитика всегда требуется точный результат.    \n",
    "    \n",
    "Потеря даже одной записи при неверном джнойне - это критично, т.к. получается неверный результат.\n",
    "    \n",
    "Тариф есть для каждого пользователя, его потеря - это ошибка. Требуется собрать правильную таблицу. Для этого нужно соединить через аутер сводные таблицы с использованными услугами, а затем к ней присоединить данные с тарифами\n",
    "</div>"
   ]
  },
  {
   "cell_type": "markdown",
   "metadata": {},
   "source": [
    "<div class=\"alert alert-info\">\n",
    "    \n",
    "### Комментарий от студента v_2\n",
    "    \n",
    "Добавил пункт с персчетом итоговой таблицы ( итоговая так же total называться будет). По итогу сформировалось 3214 записей с информацией.\n",
    "\n",
    "Исходная работа продолжается с пункта **Возврат к исходной работе**\n",
    "   \n",
    "Надеюсь это то, что ты имел ввиду\n",
    "</div>"
   ]
  },
  {
   "cell_type": "markdown",
   "metadata": {},
   "source": [
    "<div class=\"alert alert-block alert-success\">\n",
    "\n",
    "    \n",
    "### Комментарий от ревьюера v_3\n",
    "\n",
    "👍🏻\n",
    "    \n",
    "</div>"
   ]
  },
  {
   "cell_type": "markdown",
   "metadata": {},
   "source": [
    "### пересчет итоговой таблицы:"
   ]
  },
  {
   "cell_type": "code",
   "execution_count": 21,
   "metadata": {
    "scrolled": true
   },
   "outputs": [
    {
     "data": {
      "text/html": [
       "<div>\n",
       "<style scoped>\n",
       "    .dataframe tbody tr th:only-of-type {\n",
       "        vertical-align: middle;\n",
       "    }\n",
       "\n",
       "    .dataframe tbody tr th {\n",
       "        vertical-align: top;\n",
       "    }\n",
       "\n",
       "    .dataframe thead th {\n",
       "        text-align: right;\n",
       "    }\n",
       "</style>\n",
       "<table border=\"1\" class=\"dataframe\">\n",
       "  <thead>\n",
       "    <tr style=\"text-align: right;\">\n",
       "      <th></th>\n",
       "      <th>user_id</th>\n",
       "      <th>month</th>\n",
       "      <th>mb_used</th>\n",
       "    </tr>\n",
       "  </thead>\n",
       "  <tbody>\n",
       "    <tr>\n",
       "      <td>0</td>\n",
       "      <td>1000</td>\n",
       "      <td>5</td>\n",
       "      <td>2253.49</td>\n",
       "    </tr>\n",
       "    <tr>\n",
       "      <td>1</td>\n",
       "      <td>1000</td>\n",
       "      <td>6</td>\n",
       "      <td>23233.77</td>\n",
       "    </tr>\n",
       "    <tr>\n",
       "      <td>2</td>\n",
       "      <td>1000</td>\n",
       "      <td>7</td>\n",
       "      <td>14003.64</td>\n",
       "    </tr>\n",
       "    <tr>\n",
       "      <td>3</td>\n",
       "      <td>1000</td>\n",
       "      <td>8</td>\n",
       "      <td>14055.93</td>\n",
       "    </tr>\n",
       "    <tr>\n",
       "      <td>4</td>\n",
       "      <td>1000</td>\n",
       "      <td>9</td>\n",
       "      <td>14568.91</td>\n",
       "    </tr>\n",
       "    <tr>\n",
       "      <td>...</td>\n",
       "      <td>...</td>\n",
       "      <td>...</td>\n",
       "      <td>...</td>\n",
       "    </tr>\n",
       "    <tr>\n",
       "      <td>3198</td>\n",
       "      <td>1498</td>\n",
       "      <td>10</td>\n",
       "      <td>20579.36</td>\n",
       "    </tr>\n",
       "    <tr>\n",
       "      <td>3199</td>\n",
       "      <td>1499</td>\n",
       "      <td>9</td>\n",
       "      <td>1845.75</td>\n",
       "    </tr>\n",
       "    <tr>\n",
       "      <td>3200</td>\n",
       "      <td>1499</td>\n",
       "      <td>10</td>\n",
       "      <td>17788.51</td>\n",
       "    </tr>\n",
       "    <tr>\n",
       "      <td>3201</td>\n",
       "      <td>1499</td>\n",
       "      <td>11</td>\n",
       "      <td>17963.31</td>\n",
       "    </tr>\n",
       "    <tr>\n",
       "      <td>3202</td>\n",
       "      <td>1499</td>\n",
       "      <td>12</td>\n",
       "      <td>13055.58</td>\n",
       "    </tr>\n",
       "  </tbody>\n",
       "</table>\n",
       "<p>3203 rows × 3 columns</p>\n",
       "</div>"
      ],
      "text/plain": [
       "      user_id  month   mb_used\n",
       "0        1000      5   2253.49\n",
       "1        1000      6  23233.77\n",
       "2        1000      7  14003.64\n",
       "3        1000      8  14055.93\n",
       "4        1000      9  14568.91\n",
       "...       ...    ...       ...\n",
       "3198     1498     10  20579.36\n",
       "3199     1499      9   1845.75\n",
       "3200     1499     10  17788.51\n",
       "3201     1499     11  17963.31\n",
       "3202     1499     12  13055.58\n",
       "\n",
       "[3203 rows x 3 columns]"
      ]
     },
     "execution_count": 21,
     "metadata": {},
     "output_type": "execute_result"
    }
   ],
   "source": [
    "prom_1 = internet.groupby(['user_id','month'])['mb_used']\\\n",
    ".sum().reset_index()\n",
    "prom_1"
   ]
  },
  {
   "cell_type": "code",
   "execution_count": 22,
   "metadata": {
    "scrolled": true
   },
   "outputs": [
    {
     "data": {
      "text/html": [
       "<div>\n",
       "<style scoped>\n",
       "    .dataframe tbody tr th:only-of-type {\n",
       "        vertical-align: middle;\n",
       "    }\n",
       "\n",
       "    .dataframe tbody tr th {\n",
       "        vertical-align: top;\n",
       "    }\n",
       "\n",
       "    .dataframe thead th {\n",
       "        text-align: right;\n",
       "    }\n",
       "</style>\n",
       "<table border=\"1\" class=\"dataframe\">\n",
       "  <thead>\n",
       "    <tr style=\"text-align: right;\">\n",
       "      <th></th>\n",
       "      <th>user_id</th>\n",
       "      <th>month</th>\n",
       "      <th>sms_count</th>\n",
       "    </tr>\n",
       "  </thead>\n",
       "  <tbody>\n",
       "    <tr>\n",
       "      <td>0</td>\n",
       "      <td>1000</td>\n",
       "      <td>5</td>\n",
       "      <td>22</td>\n",
       "    </tr>\n",
       "    <tr>\n",
       "      <td>1</td>\n",
       "      <td>1000</td>\n",
       "      <td>6</td>\n",
       "      <td>60</td>\n",
       "    </tr>\n",
       "    <tr>\n",
       "      <td>2</td>\n",
       "      <td>1000</td>\n",
       "      <td>7</td>\n",
       "      <td>75</td>\n",
       "    </tr>\n",
       "    <tr>\n",
       "      <td>3</td>\n",
       "      <td>1000</td>\n",
       "      <td>8</td>\n",
       "      <td>81</td>\n",
       "    </tr>\n",
       "    <tr>\n",
       "      <td>4</td>\n",
       "      <td>1000</td>\n",
       "      <td>9</td>\n",
       "      <td>57</td>\n",
       "    </tr>\n",
       "    <tr>\n",
       "      <td>...</td>\n",
       "      <td>...</td>\n",
       "      <td>...</td>\n",
       "      <td>...</td>\n",
       "    </tr>\n",
       "    <tr>\n",
       "      <td>2712</td>\n",
       "      <td>1498</td>\n",
       "      <td>10</td>\n",
       "      <td>42</td>\n",
       "    </tr>\n",
       "    <tr>\n",
       "      <td>2713</td>\n",
       "      <td>1499</td>\n",
       "      <td>9</td>\n",
       "      <td>11</td>\n",
       "    </tr>\n",
       "    <tr>\n",
       "      <td>2714</td>\n",
       "      <td>1499</td>\n",
       "      <td>10</td>\n",
       "      <td>48</td>\n",
       "    </tr>\n",
       "    <tr>\n",
       "      <td>2715</td>\n",
       "      <td>1499</td>\n",
       "      <td>11</td>\n",
       "      <td>59</td>\n",
       "    </tr>\n",
       "    <tr>\n",
       "      <td>2716</td>\n",
       "      <td>1499</td>\n",
       "      <td>12</td>\n",
       "      <td>66</td>\n",
       "    </tr>\n",
       "  </tbody>\n",
       "</table>\n",
       "<p>2717 rows × 3 columns</p>\n",
       "</div>"
      ],
      "text/plain": [
       "      user_id  month  sms_count\n",
       "0        1000      5         22\n",
       "1        1000      6         60\n",
       "2        1000      7         75\n",
       "3        1000      8         81\n",
       "4        1000      9         57\n",
       "...       ...    ...        ...\n",
       "2712     1498     10         42\n",
       "2713     1499      9         11\n",
       "2714     1499     10         48\n",
       "2715     1499     11         59\n",
       "2716     1499     12         66\n",
       "\n",
       "[2717 rows x 3 columns]"
      ]
     },
     "execution_count": 22,
     "metadata": {},
     "output_type": "execute_result"
    }
   ],
   "source": [
    "prom_2 = messages.groupby(['user_id','month']).agg(\n",
    "    sms_count = pd.NamedAgg(column = 'id', aggfunc = 'count')\n",
    "                                                  ).reset_index()\n",
    "prom_2"
   ]
  },
  {
   "cell_type": "code",
   "execution_count": 23,
   "metadata": {
    "scrolled": true
   },
   "outputs": [
    {
     "data": {
      "text/html": [
       "<div>\n",
       "<style scoped>\n",
       "    .dataframe tbody tr th:only-of-type {\n",
       "        vertical-align: middle;\n",
       "    }\n",
       "\n",
       "    .dataframe tbody tr th {\n",
       "        vertical-align: top;\n",
       "    }\n",
       "\n",
       "    .dataframe thead th {\n",
       "        text-align: right;\n",
       "    }\n",
       "</style>\n",
       "<table border=\"1\" class=\"dataframe\">\n",
       "  <thead>\n",
       "    <tr style=\"text-align: right;\">\n",
       "      <th></th>\n",
       "      <th>user_id</th>\n",
       "      <th>month</th>\n",
       "      <th>duration_stat</th>\n",
       "      <th>calls_count</th>\n",
       "    </tr>\n",
       "  </thead>\n",
       "  <tbody>\n",
       "    <tr>\n",
       "      <td>0</td>\n",
       "      <td>1000</td>\n",
       "      <td>5</td>\n",
       "      <td>159</td>\n",
       "      <td>22</td>\n",
       "    </tr>\n",
       "    <tr>\n",
       "      <td>1</td>\n",
       "      <td>1000</td>\n",
       "      <td>6</td>\n",
       "      <td>172</td>\n",
       "      <td>43</td>\n",
       "    </tr>\n",
       "    <tr>\n",
       "      <td>2</td>\n",
       "      <td>1000</td>\n",
       "      <td>7</td>\n",
       "      <td>340</td>\n",
       "      <td>47</td>\n",
       "    </tr>\n",
       "    <tr>\n",
       "      <td>3</td>\n",
       "      <td>1000</td>\n",
       "      <td>8</td>\n",
       "      <td>408</td>\n",
       "      <td>52</td>\n",
       "    </tr>\n",
       "    <tr>\n",
       "      <td>4</td>\n",
       "      <td>1000</td>\n",
       "      <td>9</td>\n",
       "      <td>466</td>\n",
       "      <td>58</td>\n",
       "    </tr>\n",
       "    <tr>\n",
       "      <td>...</td>\n",
       "      <td>...</td>\n",
       "      <td>...</td>\n",
       "      <td>...</td>\n",
       "      <td>...</td>\n",
       "    </tr>\n",
       "    <tr>\n",
       "      <td>3169</td>\n",
       "      <td>1498</td>\n",
       "      <td>10</td>\n",
       "      <td>247</td>\n",
       "      <td>41</td>\n",
       "    </tr>\n",
       "    <tr>\n",
       "      <td>3170</td>\n",
       "      <td>1499</td>\n",
       "      <td>9</td>\n",
       "      <td>70</td>\n",
       "      <td>9</td>\n",
       "    </tr>\n",
       "    <tr>\n",
       "      <td>3171</td>\n",
       "      <td>1499</td>\n",
       "      <td>10</td>\n",
       "      <td>449</td>\n",
       "      <td>68</td>\n",
       "    </tr>\n",
       "    <tr>\n",
       "      <td>3172</td>\n",
       "      <td>1499</td>\n",
       "      <td>11</td>\n",
       "      <td>612</td>\n",
       "      <td>74</td>\n",
       "    </tr>\n",
       "    <tr>\n",
       "      <td>3173</td>\n",
       "      <td>1499</td>\n",
       "      <td>12</td>\n",
       "      <td>492</td>\n",
       "      <td>69</td>\n",
       "    </tr>\n",
       "  </tbody>\n",
       "</table>\n",
       "<p>3174 rows × 4 columns</p>\n",
       "</div>"
      ],
      "text/plain": [
       "      user_id  month  duration_stat  calls_count\n",
       "0        1000      5            159           22\n",
       "1        1000      6            172           43\n",
       "2        1000      7            340           47\n",
       "3        1000      8            408           52\n",
       "4        1000      9            466           58\n",
       "...       ...    ...            ...          ...\n",
       "3169     1498     10            247           41\n",
       "3170     1499      9             70            9\n",
       "3171     1499     10            449           68\n",
       "3172     1499     11            612           74\n",
       "3173     1499     12            492           69\n",
       "\n",
       "[3174 rows x 4 columns]"
      ]
     },
     "execution_count": 23,
     "metadata": {},
     "output_type": "execute_result"
    }
   ],
   "source": [
    "prom_3 = calls.groupby(['user_id','month'])\\\n",
    ".agg(\n",
    "    duration_stat = pd.NamedAgg(column = 'duration_stat', aggfunc = 'sum'),\n",
    "    calls_count  = pd.NamedAgg(column = 'id', aggfunc = 'count')        \n",
    "                               ).reset_index()\n",
    "prom_3"
   ]
  },
  {
   "cell_type": "markdown",
   "metadata": {},
   "source": [
    "Создадим промежуточный дата фрейм из таблицы users - в нем оставим только интересующие нас столбцы:"
   ]
  },
  {
   "cell_type": "code",
   "execution_count": 24,
   "metadata": {},
   "outputs": [],
   "source": [
    "prom_4 = users[['user_id','tariff','city']]"
   ]
  },
  {
   "cell_type": "markdown",
   "metadata": {},
   "source": [
    "объеденим все данные по рассходу услуг в сводную таблицу total_prom"
   ]
  },
  {
   "cell_type": "code",
   "execution_count": 25,
   "metadata": {},
   "outputs": [
    {
     "data": {
      "text/html": [
       "<div>\n",
       "<style scoped>\n",
       "    .dataframe tbody tr th:only-of-type {\n",
       "        vertical-align: middle;\n",
       "    }\n",
       "\n",
       "    .dataframe tbody tr th {\n",
       "        vertical-align: top;\n",
       "    }\n",
       "\n",
       "    .dataframe thead th {\n",
       "        text-align: right;\n",
       "    }\n",
       "</style>\n",
       "<table border=\"1\" class=\"dataframe\">\n",
       "  <thead>\n",
       "    <tr style=\"text-align: right;\">\n",
       "      <th></th>\n",
       "      <th>user_id</th>\n",
       "      <th>month</th>\n",
       "      <th>mb_used</th>\n",
       "      <th>sms_count</th>\n",
       "      <th>duration_stat</th>\n",
       "      <th>calls_count</th>\n",
       "    </tr>\n",
       "  </thead>\n",
       "  <tbody>\n",
       "    <tr>\n",
       "      <td>0</td>\n",
       "      <td>1000</td>\n",
       "      <td>5</td>\n",
       "      <td>2253.49</td>\n",
       "      <td>22.0</td>\n",
       "      <td>159.0</td>\n",
       "      <td>22.0</td>\n",
       "    </tr>\n",
       "    <tr>\n",
       "      <td>1</td>\n",
       "      <td>1000</td>\n",
       "      <td>6</td>\n",
       "      <td>23233.77</td>\n",
       "      <td>60.0</td>\n",
       "      <td>172.0</td>\n",
       "      <td>43.0</td>\n",
       "    </tr>\n",
       "    <tr>\n",
       "      <td>2</td>\n",
       "      <td>1000</td>\n",
       "      <td>7</td>\n",
       "      <td>14003.64</td>\n",
       "      <td>75.0</td>\n",
       "      <td>340.0</td>\n",
       "      <td>47.0</td>\n",
       "    </tr>\n",
       "    <tr>\n",
       "      <td>3</td>\n",
       "      <td>1000</td>\n",
       "      <td>8</td>\n",
       "      <td>14055.93</td>\n",
       "      <td>81.0</td>\n",
       "      <td>408.0</td>\n",
       "      <td>52.0</td>\n",
       "    </tr>\n",
       "    <tr>\n",
       "      <td>4</td>\n",
       "      <td>1000</td>\n",
       "      <td>9</td>\n",
       "      <td>14568.91</td>\n",
       "      <td>57.0</td>\n",
       "      <td>466.0</td>\n",
       "      <td>58.0</td>\n",
       "    </tr>\n",
       "    <tr>\n",
       "      <td>...</td>\n",
       "      <td>...</td>\n",
       "      <td>...</td>\n",
       "      <td>...</td>\n",
       "      <td>...</td>\n",
       "      <td>...</td>\n",
       "      <td>...</td>\n",
       "    </tr>\n",
       "    <tr>\n",
       "      <td>3209</td>\n",
       "      <td>1273</td>\n",
       "      <td>11</td>\n",
       "      <td>NaN</td>\n",
       "      <td>29.0</td>\n",
       "      <td>272.0</td>\n",
       "      <td>45.0</td>\n",
       "    </tr>\n",
       "    <tr>\n",
       "      <td>3210</td>\n",
       "      <td>1273</td>\n",
       "      <td>12</td>\n",
       "      <td>NaN</td>\n",
       "      <td>39.0</td>\n",
       "      <td>260.0</td>\n",
       "      <td>41.0</td>\n",
       "    </tr>\n",
       "    <tr>\n",
       "      <td>3211</td>\n",
       "      <td>1377</td>\n",
       "      <td>2</td>\n",
       "      <td>NaN</td>\n",
       "      <td>2.0</td>\n",
       "      <td>179.0</td>\n",
       "      <td>23.0</td>\n",
       "    </tr>\n",
       "    <tr>\n",
       "      <td>3212</td>\n",
       "      <td>1392</td>\n",
       "      <td>2</td>\n",
       "      <td>NaN</td>\n",
       "      <td>3.0</td>\n",
       "      <td>13.0</td>\n",
       "      <td>2.0</td>\n",
       "    </tr>\n",
       "    <tr>\n",
       "      <td>3213</td>\n",
       "      <td>1446</td>\n",
       "      <td>8</td>\n",
       "      <td>NaN</td>\n",
       "      <td>1.0</td>\n",
       "      <td>50.0</td>\n",
       "      <td>4.0</td>\n",
       "    </tr>\n",
       "  </tbody>\n",
       "</table>\n",
       "<p>3214 rows × 6 columns</p>\n",
       "</div>"
      ],
      "text/plain": [
       "      user_id  month   mb_used  sms_count  duration_stat  calls_count\n",
       "0        1000      5   2253.49       22.0          159.0         22.0\n",
       "1        1000      6  23233.77       60.0          172.0         43.0\n",
       "2        1000      7  14003.64       75.0          340.0         47.0\n",
       "3        1000      8  14055.93       81.0          408.0         52.0\n",
       "4        1000      9  14568.91       57.0          466.0         58.0\n",
       "...       ...    ...       ...        ...            ...          ...\n",
       "3209     1273     11       NaN       29.0          272.0         45.0\n",
       "3210     1273     12       NaN       39.0          260.0         41.0\n",
       "3211     1377      2       NaN        2.0          179.0         23.0\n",
       "3212     1392      2       NaN        3.0           13.0          2.0\n",
       "3213     1446      8       NaN        1.0           50.0          4.0\n",
       "\n",
       "[3214 rows x 6 columns]"
      ]
     },
     "execution_count": 25,
     "metadata": {},
     "output_type": "execute_result"
    }
   ],
   "source": [
    "total_prom = prom_1.merge(prom_2, how ='outer')\n",
    "total_prom = total_prom.merge(prom_3, how ='outer')\n",
    "total_prom"
   ]
  },
  {
   "cell_type": "markdown",
   "metadata": {},
   "source": [
    "Объеденив с prom_4 получим картину использования услуг пользователями: "
   ]
  },
  {
   "cell_type": "code",
   "execution_count": 26,
   "metadata": {},
   "outputs": [],
   "source": [
    "total= total_prom.merge(prom_4, how ='outer')"
   ]
  },
  {
   "cell_type": "code",
   "execution_count": 27,
   "metadata": {},
   "outputs": [
    {
     "data": {
      "text/html": [
       "<div>\n",
       "<style scoped>\n",
       "    .dataframe tbody tr th:only-of-type {\n",
       "        vertical-align: middle;\n",
       "    }\n",
       "\n",
       "    .dataframe tbody tr th {\n",
       "        vertical-align: top;\n",
       "    }\n",
       "\n",
       "    .dataframe thead th {\n",
       "        text-align: right;\n",
       "    }\n",
       "</style>\n",
       "<table border=\"1\" class=\"dataframe\">\n",
       "  <thead>\n",
       "    <tr style=\"text-align: right;\">\n",
       "      <th></th>\n",
       "      <th>user_id</th>\n",
       "      <th>month</th>\n",
       "      <th>mb_used</th>\n",
       "      <th>sms_count</th>\n",
       "      <th>duration_stat</th>\n",
       "      <th>calls_count</th>\n",
       "      <th>tariff</th>\n",
       "      <th>city</th>\n",
       "    </tr>\n",
       "  </thead>\n",
       "  <tbody>\n",
       "    <tr>\n",
       "      <td>0</td>\n",
       "      <td>1000</td>\n",
       "      <td>5.0</td>\n",
       "      <td>2253.49</td>\n",
       "      <td>22.0</td>\n",
       "      <td>159.0</td>\n",
       "      <td>22.0</td>\n",
       "      <td>ultra</td>\n",
       "      <td>Краснодар</td>\n",
       "    </tr>\n",
       "    <tr>\n",
       "      <td>1</td>\n",
       "      <td>1000</td>\n",
       "      <td>6.0</td>\n",
       "      <td>23233.77</td>\n",
       "      <td>60.0</td>\n",
       "      <td>172.0</td>\n",
       "      <td>43.0</td>\n",
       "      <td>ultra</td>\n",
       "      <td>Краснодар</td>\n",
       "    </tr>\n",
       "    <tr>\n",
       "      <td>2</td>\n",
       "      <td>1000</td>\n",
       "      <td>7.0</td>\n",
       "      <td>14003.64</td>\n",
       "      <td>75.0</td>\n",
       "      <td>340.0</td>\n",
       "      <td>47.0</td>\n",
       "      <td>ultra</td>\n",
       "      <td>Краснодар</td>\n",
       "    </tr>\n",
       "    <tr>\n",
       "      <td>3</td>\n",
       "      <td>1000</td>\n",
       "      <td>8.0</td>\n",
       "      <td>14055.93</td>\n",
       "      <td>81.0</td>\n",
       "      <td>408.0</td>\n",
       "      <td>52.0</td>\n",
       "      <td>ultra</td>\n",
       "      <td>Краснодар</td>\n",
       "    </tr>\n",
       "    <tr>\n",
       "      <td>4</td>\n",
       "      <td>1000</td>\n",
       "      <td>9.0</td>\n",
       "      <td>14568.91</td>\n",
       "      <td>57.0</td>\n",
       "      <td>466.0</td>\n",
       "      <td>58.0</td>\n",
       "      <td>ultra</td>\n",
       "      <td>Краснодар</td>\n",
       "    </tr>\n",
       "    <tr>\n",
       "      <td>...</td>\n",
       "      <td>...</td>\n",
       "      <td>...</td>\n",
       "      <td>...</td>\n",
       "      <td>...</td>\n",
       "      <td>...</td>\n",
       "      <td>...</td>\n",
       "      <td>...</td>\n",
       "      <td>...</td>\n",
       "    </tr>\n",
       "    <tr>\n",
       "      <td>3211</td>\n",
       "      <td>1273</td>\n",
       "      <td>10.0</td>\n",
       "      <td>NaN</td>\n",
       "      <td>35.0</td>\n",
       "      <td>315.0</td>\n",
       "      <td>40.0</td>\n",
       "      <td>ultra</td>\n",
       "      <td>Курган</td>\n",
       "    </tr>\n",
       "    <tr>\n",
       "      <td>3212</td>\n",
       "      <td>1273</td>\n",
       "      <td>11.0</td>\n",
       "      <td>NaN</td>\n",
       "      <td>29.0</td>\n",
       "      <td>272.0</td>\n",
       "      <td>45.0</td>\n",
       "      <td>ultra</td>\n",
       "      <td>Курган</td>\n",
       "    </tr>\n",
       "    <tr>\n",
       "      <td>3213</td>\n",
       "      <td>1273</td>\n",
       "      <td>12.0</td>\n",
       "      <td>NaN</td>\n",
       "      <td>39.0</td>\n",
       "      <td>260.0</td>\n",
       "      <td>41.0</td>\n",
       "      <td>ultra</td>\n",
       "      <td>Курган</td>\n",
       "    </tr>\n",
       "    <tr>\n",
       "      <td>3214</td>\n",
       "      <td>1128</td>\n",
       "      <td>NaN</td>\n",
       "      <td>NaN</td>\n",
       "      <td>NaN</td>\n",
       "      <td>NaN</td>\n",
       "      <td>NaN</td>\n",
       "      <td>ultra</td>\n",
       "      <td>Волжский</td>\n",
       "    </tr>\n",
       "    <tr>\n",
       "      <td>3215</td>\n",
       "      <td>1371</td>\n",
       "      <td>NaN</td>\n",
       "      <td>NaN</td>\n",
       "      <td>NaN</td>\n",
       "      <td>NaN</td>\n",
       "      <td>NaN</td>\n",
       "      <td>smart</td>\n",
       "      <td>Омск</td>\n",
       "    </tr>\n",
       "  </tbody>\n",
       "</table>\n",
       "<p>3216 rows × 8 columns</p>\n",
       "</div>"
      ],
      "text/plain": [
       "      user_id  month   mb_used  sms_count  duration_stat  calls_count tariff  \\\n",
       "0        1000    5.0   2253.49       22.0          159.0         22.0  ultra   \n",
       "1        1000    6.0  23233.77       60.0          172.0         43.0  ultra   \n",
       "2        1000    7.0  14003.64       75.0          340.0         47.0  ultra   \n",
       "3        1000    8.0  14055.93       81.0          408.0         52.0  ultra   \n",
       "4        1000    9.0  14568.91       57.0          466.0         58.0  ultra   \n",
       "...       ...    ...       ...        ...            ...          ...    ...   \n",
       "3211     1273   10.0       NaN       35.0          315.0         40.0  ultra   \n",
       "3212     1273   11.0       NaN       29.0          272.0         45.0  ultra   \n",
       "3213     1273   12.0       NaN       39.0          260.0         41.0  ultra   \n",
       "3214     1128    NaN       NaN        NaN            NaN          NaN  ultra   \n",
       "3215     1371    NaN       NaN        NaN            NaN          NaN  smart   \n",
       "\n",
       "           city  \n",
       "0     Краснодар  \n",
       "1     Краснодар  \n",
       "2     Краснодар  \n",
       "3     Краснодар  \n",
       "4     Краснодар  \n",
       "...         ...  \n",
       "3211     Курган  \n",
       "3212     Курган  \n",
       "3213     Курган  \n",
       "3214   Волжский  \n",
       "3215       Омск  \n",
       "\n",
       "[3216 rows x 8 columns]"
      ]
     },
     "execution_count": 27,
     "metadata": {},
     "output_type": "execute_result"
    }
   ],
   "source": [
    "total"
   ]
  },
  {
   "cell_type": "markdown",
   "metadata": {},
   "source": [
    "Колонок стало 3216 (пользовался бы inner - их бы не выскочило). Вышло 2 пользователя с id **1371** и **1128** для которых нет информации об использовании услуг ни в одном из исходных дата фреймов, посмотрим на профили пользователей:"
   ]
  },
  {
   "cell_type": "code",
   "execution_count": 28,
   "metadata": {
    "scrolled": true
   },
   "outputs": [
    {
     "data": {
      "text/html": [
       "<div>\n",
       "<style scoped>\n",
       "    .dataframe tbody tr th:only-of-type {\n",
       "        vertical-align: middle;\n",
       "    }\n",
       "\n",
       "    .dataframe tbody tr th {\n",
       "        vertical-align: top;\n",
       "    }\n",
       "\n",
       "    .dataframe thead th {\n",
       "        text-align: right;\n",
       "    }\n",
       "</style>\n",
       "<table border=\"1\" class=\"dataframe\">\n",
       "  <thead>\n",
       "    <tr style=\"text-align: right;\">\n",
       "      <th></th>\n",
       "      <th>user_id</th>\n",
       "      <th>age</th>\n",
       "      <th>churn_date</th>\n",
       "      <th>city</th>\n",
       "      <th>first_name</th>\n",
       "      <th>last_name</th>\n",
       "      <th>reg_date</th>\n",
       "      <th>tariff</th>\n",
       "    </tr>\n",
       "  </thead>\n",
       "  <tbody>\n",
       "    <tr>\n",
       "      <td>301</td>\n",
       "      <td>1301</td>\n",
       "      <td>26</td>\n",
       "      <td>NaT</td>\n",
       "      <td>Махачкала</td>\n",
       "      <td>Наида</td>\n",
       "      <td>Авраменко</td>\n",
       "      <td>2018-09-27</td>\n",
       "      <td>smart</td>\n",
       "    </tr>\n",
       "    <tr>\n",
       "      <td>371</td>\n",
       "      <td>1371</td>\n",
       "      <td>50</td>\n",
       "      <td>2018-12-30</td>\n",
       "      <td>Омск</td>\n",
       "      <td>Ириней</td>\n",
       "      <td>Трофимов</td>\n",
       "      <td>2018-12-25</td>\n",
       "      <td>smart</td>\n",
       "    </tr>\n",
       "  </tbody>\n",
       "</table>\n",
       "</div>"
      ],
      "text/plain": [
       "     user_id  age churn_date       city first_name  last_name   reg_date  \\\n",
       "301     1301   26        NaT  Махачкала      Наида  Авраменко 2018-09-27   \n",
       "371     1371   50 2018-12-30       Омск     Ириней   Трофимов 2018-12-25   \n",
       "\n",
       "    tariff  \n",
       "301  smart  \n",
       "371  smart  "
      ]
     },
     "execution_count": 28,
     "metadata": {},
     "output_type": "execute_result"
    }
   ],
   "source": [
    "users.loc[(users['user_id'] == 1371) | (users['user_id'] == 1301)]"
   ]
  },
  {
   "cell_type": "markdown",
   "metadata": {},
   "source": [
    "Посмотрим на максимальную дату регистрации:"
   ]
  },
  {
   "cell_type": "code",
   "execution_count": 29,
   "metadata": {},
   "outputs": [
    {
     "data": {
      "text/plain": [
       "Timestamp('2018-12-31 00:00:00')"
      ]
     },
     "execution_count": 29,
     "metadata": {},
     "output_type": "execute_result"
    }
   ],
   "source": [
    "users['reg_date'].max()"
   ]
  },
  {
   "cell_type": "markdown",
   "metadata": {},
   "source": [
    "Видим что для первого пользователя (1301) в churn_date стоит пропуск, то есть пользователь активен, однако не пользуется телефоном, то есть платит только абонетскую плату . В рамках данного исследования это существенного влияния не окажет ( тем более всего один проблемный пользователь)\n",
    "\n",
    "для второго (1371) - прекратил пользоваться тарифом 30 декабря. Скорее всего данные неуспели подгрузится на сервер. В рамках исследования это никакого влияния не окажет.\n",
    "\n",
    "Можно этих пользователь убрать из итоговой таблицы."
   ]
  },
  {
   "cell_type": "code",
   "execution_count": 30,
   "metadata": {},
   "outputs": [],
   "source": [
    "total = total.loc[total['month'].notna()]\n",
    "total = total.fillna(0)"
   ]
  },
  {
   "cell_type": "code",
   "execution_count": 31,
   "metadata": {
    "scrolled": false
   },
   "outputs": [
    {
     "data": {
      "text/html": [
       "<div>\n",
       "<style scoped>\n",
       "    .dataframe tbody tr th:only-of-type {\n",
       "        vertical-align: middle;\n",
       "    }\n",
       "\n",
       "    .dataframe tbody tr th {\n",
       "        vertical-align: top;\n",
       "    }\n",
       "\n",
       "    .dataframe thead th {\n",
       "        text-align: right;\n",
       "    }\n",
       "</style>\n",
       "<table border=\"1\" class=\"dataframe\">\n",
       "  <thead>\n",
       "    <tr style=\"text-align: right;\">\n",
       "      <th></th>\n",
       "      <th>user_id</th>\n",
       "      <th>month</th>\n",
       "      <th>mb_used</th>\n",
       "      <th>sms_count</th>\n",
       "      <th>duration_stat</th>\n",
       "      <th>calls_count</th>\n",
       "      <th>tariff</th>\n",
       "      <th>city</th>\n",
       "    </tr>\n",
       "  </thead>\n",
       "  <tbody>\n",
       "    <tr>\n",
       "      <td>0</td>\n",
       "      <td>1000</td>\n",
       "      <td>5.0</td>\n",
       "      <td>2253.49</td>\n",
       "      <td>22.0</td>\n",
       "      <td>159.0</td>\n",
       "      <td>22.0</td>\n",
       "      <td>ultra</td>\n",
       "      <td>Краснодар</td>\n",
       "    </tr>\n",
       "    <tr>\n",
       "      <td>1</td>\n",
       "      <td>1000</td>\n",
       "      <td>6.0</td>\n",
       "      <td>23233.77</td>\n",
       "      <td>60.0</td>\n",
       "      <td>172.0</td>\n",
       "      <td>43.0</td>\n",
       "      <td>ultra</td>\n",
       "      <td>Краснодар</td>\n",
       "    </tr>\n",
       "    <tr>\n",
       "      <td>2</td>\n",
       "      <td>1000</td>\n",
       "      <td>7.0</td>\n",
       "      <td>14003.64</td>\n",
       "      <td>75.0</td>\n",
       "      <td>340.0</td>\n",
       "      <td>47.0</td>\n",
       "      <td>ultra</td>\n",
       "      <td>Краснодар</td>\n",
       "    </tr>\n",
       "    <tr>\n",
       "      <td>3</td>\n",
       "      <td>1000</td>\n",
       "      <td>8.0</td>\n",
       "      <td>14055.93</td>\n",
       "      <td>81.0</td>\n",
       "      <td>408.0</td>\n",
       "      <td>52.0</td>\n",
       "      <td>ultra</td>\n",
       "      <td>Краснодар</td>\n",
       "    </tr>\n",
       "    <tr>\n",
       "      <td>4</td>\n",
       "      <td>1000</td>\n",
       "      <td>9.0</td>\n",
       "      <td>14568.91</td>\n",
       "      <td>57.0</td>\n",
       "      <td>466.0</td>\n",
       "      <td>58.0</td>\n",
       "      <td>ultra</td>\n",
       "      <td>Краснодар</td>\n",
       "    </tr>\n",
       "    <tr>\n",
       "      <td>...</td>\n",
       "      <td>...</td>\n",
       "      <td>...</td>\n",
       "      <td>...</td>\n",
       "      <td>...</td>\n",
       "      <td>...</td>\n",
       "      <td>...</td>\n",
       "      <td>...</td>\n",
       "      <td>...</td>\n",
       "    </tr>\n",
       "    <tr>\n",
       "      <td>3209</td>\n",
       "      <td>1273</td>\n",
       "      <td>8.0</td>\n",
       "      <td>0.00</td>\n",
       "      <td>41.0</td>\n",
       "      <td>253.0</td>\n",
       "      <td>53.0</td>\n",
       "      <td>ultra</td>\n",
       "      <td>Курган</td>\n",
       "    </tr>\n",
       "    <tr>\n",
       "      <td>3210</td>\n",
       "      <td>1273</td>\n",
       "      <td>9.0</td>\n",
       "      <td>0.00</td>\n",
       "      <td>32.0</td>\n",
       "      <td>223.0</td>\n",
       "      <td>33.0</td>\n",
       "      <td>ultra</td>\n",
       "      <td>Курган</td>\n",
       "    </tr>\n",
       "    <tr>\n",
       "      <td>3211</td>\n",
       "      <td>1273</td>\n",
       "      <td>10.0</td>\n",
       "      <td>0.00</td>\n",
       "      <td>35.0</td>\n",
       "      <td>315.0</td>\n",
       "      <td>40.0</td>\n",
       "      <td>ultra</td>\n",
       "      <td>Курган</td>\n",
       "    </tr>\n",
       "    <tr>\n",
       "      <td>3212</td>\n",
       "      <td>1273</td>\n",
       "      <td>11.0</td>\n",
       "      <td>0.00</td>\n",
       "      <td>29.0</td>\n",
       "      <td>272.0</td>\n",
       "      <td>45.0</td>\n",
       "      <td>ultra</td>\n",
       "      <td>Курган</td>\n",
       "    </tr>\n",
       "    <tr>\n",
       "      <td>3213</td>\n",
       "      <td>1273</td>\n",
       "      <td>12.0</td>\n",
       "      <td>0.00</td>\n",
       "      <td>39.0</td>\n",
       "      <td>260.0</td>\n",
       "      <td>41.0</td>\n",
       "      <td>ultra</td>\n",
       "      <td>Курган</td>\n",
       "    </tr>\n",
       "  </tbody>\n",
       "</table>\n",
       "<p>3214 rows × 8 columns</p>\n",
       "</div>"
      ],
      "text/plain": [
       "      user_id  month   mb_used  sms_count  duration_stat  calls_count tariff  \\\n",
       "0        1000    5.0   2253.49       22.0          159.0         22.0  ultra   \n",
       "1        1000    6.0  23233.77       60.0          172.0         43.0  ultra   \n",
       "2        1000    7.0  14003.64       75.0          340.0         47.0  ultra   \n",
       "3        1000    8.0  14055.93       81.0          408.0         52.0  ultra   \n",
       "4        1000    9.0  14568.91       57.0          466.0         58.0  ultra   \n",
       "...       ...    ...       ...        ...            ...          ...    ...   \n",
       "3209     1273    8.0      0.00       41.0          253.0         53.0  ultra   \n",
       "3210     1273    9.0      0.00       32.0          223.0         33.0  ultra   \n",
       "3211     1273   10.0      0.00       35.0          315.0         40.0  ultra   \n",
       "3212     1273   11.0      0.00       29.0          272.0         45.0  ultra   \n",
       "3213     1273   12.0      0.00       39.0          260.0         41.0  ultra   \n",
       "\n",
       "           city  \n",
       "0     Краснодар  \n",
       "1     Краснодар  \n",
       "2     Краснодар  \n",
       "3     Краснодар  \n",
       "4     Краснодар  \n",
       "...         ...  \n",
       "3209     Курган  \n",
       "3210     Курган  \n",
       "3211     Курган  \n",
       "3212     Курган  \n",
       "3213     Курган  \n",
       "\n",
       "[3214 rows x 8 columns]"
      ]
     },
     "execution_count": 31,
     "metadata": {},
     "output_type": "execute_result"
    }
   ],
   "source": [
    "total"
   ]
  },
  {
   "cell_type": "markdown",
   "metadata": {},
   "source": [
    "### Возврат к исходной работе"
   ]
  },
  {
   "cell_type": "markdown",
   "metadata": {},
   "source": [
    "Помним, что нас интересуют не mb а gb - поэтому создадим новый столбец, который это посчитает и округлит до ближайшего целого вверх:"
   ]
  },
  {
   "cell_type": "code",
   "execution_count": 32,
   "metadata": {},
   "outputs": [],
   "source": [
    "total['gb_used'] = (total['mb_used']/1024).apply(lambda x: math.ceil(x))"
   ]
  },
  {
   "cell_type": "markdown",
   "metadata": {},
   "source": [
    "Уберем столбец с mb и переименуем столбец `duration_stat` на более логичный `duration_calls`"
   ]
  },
  {
   "cell_type": "code",
   "execution_count": 33,
   "metadata": {},
   "outputs": [],
   "source": [
    "total = total.rename(columns ={'duration_stat':'duration_calls'})\n",
    "total['month'] = total['month'].astype(int)\n",
    "total = total.drop(columns ='mb_used')"
   ]
  },
  {
   "cell_type": "markdown",
   "metadata": {},
   "source": [
    "Проверим верность всех манипуляций:"
   ]
  },
  {
   "cell_type": "code",
   "execution_count": 34,
   "metadata": {
    "scrolled": false
   },
   "outputs": [
    {
     "data": {
      "text/html": [
       "<div>\n",
       "<style scoped>\n",
       "    .dataframe tbody tr th:only-of-type {\n",
       "        vertical-align: middle;\n",
       "    }\n",
       "\n",
       "    .dataframe tbody tr th {\n",
       "        vertical-align: top;\n",
       "    }\n",
       "\n",
       "    .dataframe thead th {\n",
       "        text-align: right;\n",
       "    }\n",
       "</style>\n",
       "<table border=\"1\" class=\"dataframe\">\n",
       "  <thead>\n",
       "    <tr style=\"text-align: right;\">\n",
       "      <th></th>\n",
       "      <th>user_id</th>\n",
       "      <th>month</th>\n",
       "      <th>sms_count</th>\n",
       "      <th>duration_calls</th>\n",
       "      <th>calls_count</th>\n",
       "      <th>tariff</th>\n",
       "      <th>city</th>\n",
       "      <th>gb_used</th>\n",
       "    </tr>\n",
       "  </thead>\n",
       "  <tbody>\n",
       "    <tr>\n",
       "      <td>799</td>\n",
       "      <td>1124</td>\n",
       "      <td>10</td>\n",
       "      <td>121.0</td>\n",
       "      <td>1225.0</td>\n",
       "      <td>152.0</td>\n",
       "      <td>ultra</td>\n",
       "      <td>Махачкала</td>\n",
       "      <td>49</td>\n",
       "    </tr>\n",
       "    <tr>\n",
       "      <td>1524</td>\n",
       "      <td>1240</td>\n",
       "      <td>8</td>\n",
       "      <td>0.0</td>\n",
       "      <td>457.0</td>\n",
       "      <td>54.0</td>\n",
       "      <td>ultra</td>\n",
       "      <td>Воронеж</td>\n",
       "      <td>48</td>\n",
       "    </tr>\n",
       "    <tr>\n",
       "      <td>1622</td>\n",
       "      <td>1255</td>\n",
       "      <td>7</td>\n",
       "      <td>0.0</td>\n",
       "      <td>263.0</td>\n",
       "      <td>37.0</td>\n",
       "      <td>ultra</td>\n",
       "      <td>Саранск</td>\n",
       "      <td>45</td>\n",
       "    </tr>\n",
       "    <tr>\n",
       "      <td>1901</td>\n",
       "      <td>1300</td>\n",
       "      <td>11</td>\n",
       "      <td>170.0</td>\n",
       "      <td>658.0</td>\n",
       "      <td>88.0</td>\n",
       "      <td>ultra</td>\n",
       "      <td>Москва</td>\n",
       "      <td>44</td>\n",
       "    </tr>\n",
       "    <tr>\n",
       "      <td>159</td>\n",
       "      <td>1024</td>\n",
       "      <td>11</td>\n",
       "      <td>0.0</td>\n",
       "      <td>1146.0</td>\n",
       "      <td>157.0</td>\n",
       "      <td>ultra</td>\n",
       "      <td>Санкт-Петербург</td>\n",
       "      <td>43</td>\n",
       "    </tr>\n",
       "    <tr>\n",
       "      <td>...</td>\n",
       "      <td>...</td>\n",
       "      <td>...</td>\n",
       "      <td>...</td>\n",
       "      <td>...</td>\n",
       "      <td>...</td>\n",
       "      <td>...</td>\n",
       "      <td>...</td>\n",
       "      <td>...</td>\n",
       "    </tr>\n",
       "    <tr>\n",
       "      <td>592</td>\n",
       "      <td>1094</td>\n",
       "      <td>5</td>\n",
       "      <td>3.0</td>\n",
       "      <td>107.0</td>\n",
       "      <td>16.0</td>\n",
       "      <td>ultra</td>\n",
       "      <td>Новосибирск</td>\n",
       "      <td>0</td>\n",
       "    </tr>\n",
       "    <tr>\n",
       "      <td>2499</td>\n",
       "      <td>1392</td>\n",
       "      <td>2</td>\n",
       "      <td>3.0</td>\n",
       "      <td>13.0</td>\n",
       "      <td>2.0</td>\n",
       "      <td>ultra</td>\n",
       "      <td>Челябинск</td>\n",
       "      <td>0</td>\n",
       "    </tr>\n",
       "    <tr>\n",
       "      <td>2389</td>\n",
       "      <td>1377</td>\n",
       "      <td>2</td>\n",
       "      <td>2.0</td>\n",
       "      <td>179.0</td>\n",
       "      <td>23.0</td>\n",
       "      <td>ultra</td>\n",
       "      <td>Брянск</td>\n",
       "      <td>0</td>\n",
       "    </tr>\n",
       "    <tr>\n",
       "      <td>2298</td>\n",
       "      <td>1365</td>\n",
       "      <td>10</td>\n",
       "      <td>1.0</td>\n",
       "      <td>43.0</td>\n",
       "      <td>5.0</td>\n",
       "      <td>smart</td>\n",
       "      <td>Ростов-на-Дону</td>\n",
       "      <td>0</td>\n",
       "    </tr>\n",
       "    <tr>\n",
       "      <td>3213</td>\n",
       "      <td>1273</td>\n",
       "      <td>12</td>\n",
       "      <td>39.0</td>\n",
       "      <td>260.0</td>\n",
       "      <td>41.0</td>\n",
       "      <td>ultra</td>\n",
       "      <td>Курган</td>\n",
       "      <td>0</td>\n",
       "    </tr>\n",
       "  </tbody>\n",
       "</table>\n",
       "<p>3214 rows × 8 columns</p>\n",
       "</div>"
      ],
      "text/plain": [
       "      user_id  month  sms_count  duration_calls  calls_count tariff  \\\n",
       "799      1124     10      121.0          1225.0        152.0  ultra   \n",
       "1524     1240      8        0.0           457.0         54.0  ultra   \n",
       "1622     1255      7        0.0           263.0         37.0  ultra   \n",
       "1901     1300     11      170.0           658.0         88.0  ultra   \n",
       "159      1024     11        0.0          1146.0        157.0  ultra   \n",
       "...       ...    ...        ...             ...          ...    ...   \n",
       "592      1094      5        3.0           107.0         16.0  ultra   \n",
       "2499     1392      2        3.0            13.0          2.0  ultra   \n",
       "2389     1377      2        2.0           179.0         23.0  ultra   \n",
       "2298     1365     10        1.0            43.0          5.0  smart   \n",
       "3213     1273     12       39.0           260.0         41.0  ultra   \n",
       "\n",
       "                 city  gb_used  \n",
       "799         Махачкала       49  \n",
       "1524          Воронеж       48  \n",
       "1622          Саранск       45  \n",
       "1901           Москва       44  \n",
       "159   Санкт-Петербург       43  \n",
       "...               ...      ...  \n",
       "592       Новосибирск        0  \n",
       "2499        Челябинск        0  \n",
       "2389           Брянск        0  \n",
       "2298   Ростов-на-Дону        0  \n",
       "3213           Курган        0  \n",
       "\n",
       "[3214 rows x 8 columns]"
      ]
     },
     "execution_count": 34,
     "metadata": {},
     "output_type": "execute_result"
    }
   ],
   "source": [
    "total.sort_values('gb_used', ascending = False)"
   ]
  },
  {
   "cell_type": "markdown",
   "metadata": {},
   "source": [
    "### Подсчет затрат пользователей на \"сверх лимиты\""
   ]
  },
  {
   "cell_type": "markdown",
   "metadata": {},
   "source": [
    "Вспомним, какие условия существуют для каждого из тарифов:"
   ]
  },
  {
   "cell_type": "markdown",
   "metadata": {},
   "source": [
    "Тариф «Смарт»:\n",
    " - Ежемесячная плата: 550 рублей\n",
    " - Включено 500 минут разговора, 50 сообщений и 15 Гб интернет-трафика.\n",
    " - Стоимость услуг сверх тарифного пакета: 1. минута разговора: 3 рубля («Мегалайн» всегда округляет вверх значения минут и мегабайтов. Если пользователь проговорил всего 1 секунду, в тарифе засчитывается целая минута); 2. сообщение: 3 рубля; 3. 1 Гб интернет-трафика: 200 рублей.\n",
    " \n",
    "Тариф «Ультра»:\n",
    " - Ежемесячная плата: 1950 рублей\n",
    " - Включено 3000 минут разговора, 1000 сообщений и 30 Гб интернет-трафика\n",
    " - Стоимость услуг сверх тарифного пакета: 1. минута разговора: 1 рубль; 2. сообщение: 1 рубль; 3. 1 Гб интернет-трафика: 150 рублей."
   ]
  },
  {
   "cell_type": "markdown",
   "metadata": {},
   "source": [
    "Посмотрим таблицу `tarif`:"
   ]
  },
  {
   "cell_type": "code",
   "execution_count": 35,
   "metadata": {
    "scrolled": true
   },
   "outputs": [
    {
     "data": {
      "text/html": [
       "<div>\n",
       "<style scoped>\n",
       "    .dataframe tbody tr th:only-of-type {\n",
       "        vertical-align: middle;\n",
       "    }\n",
       "\n",
       "    .dataframe tbody tr th {\n",
       "        vertical-align: top;\n",
       "    }\n",
       "\n",
       "    .dataframe thead th {\n",
       "        text-align: right;\n",
       "    }\n",
       "</style>\n",
       "<table border=\"1\" class=\"dataframe\">\n",
       "  <thead>\n",
       "    <tr style=\"text-align: right;\">\n",
       "      <th></th>\n",
       "      <th>messages_included</th>\n",
       "      <th>mb_per_month_included</th>\n",
       "      <th>minutes_included</th>\n",
       "      <th>rub_monthly_fee</th>\n",
       "      <th>rub_per_gb</th>\n",
       "      <th>rub_per_message</th>\n",
       "      <th>rub_per_minute</th>\n",
       "      <th>tariff_name</th>\n",
       "    </tr>\n",
       "  </thead>\n",
       "  <tbody>\n",
       "    <tr>\n",
       "      <td>0</td>\n",
       "      <td>50</td>\n",
       "      <td>15360</td>\n",
       "      <td>500</td>\n",
       "      <td>550</td>\n",
       "      <td>200</td>\n",
       "      <td>3</td>\n",
       "      <td>3</td>\n",
       "      <td>smart</td>\n",
       "    </tr>\n",
       "    <tr>\n",
       "      <td>1</td>\n",
       "      <td>1000</td>\n",
       "      <td>30720</td>\n",
       "      <td>3000</td>\n",
       "      <td>1950</td>\n",
       "      <td>150</td>\n",
       "      <td>1</td>\n",
       "      <td>1</td>\n",
       "      <td>ultra</td>\n",
       "    </tr>\n",
       "  </tbody>\n",
       "</table>\n",
       "</div>"
      ],
      "text/plain": [
       "   messages_included  mb_per_month_included  minutes_included  \\\n",
       "0                 50                  15360               500   \n",
       "1               1000                  30720              3000   \n",
       "\n",
       "   rub_monthly_fee  rub_per_gb  rub_per_message  rub_per_minute tariff_name  \n",
       "0              550         200                3               3       smart  \n",
       "1             1950         150                1               1       ultra  "
      ]
     },
     "execution_count": 35,
     "metadata": {},
     "output_type": "execute_result"
    }
   ],
   "source": [
    "tarif"
   ]
  },
  {
   "cell_type": "markdown",
   "metadata": {},
   "source": [
    "Объединять с total  будем по столбцу `tariff`. Для этого нужно переименовать столбец `tariff_name` а также стоит столбец с mb перевести в gb.  "
   ]
  },
  {
   "cell_type": "code",
   "execution_count": 36,
   "metadata": {
    "scrolled": true
   },
   "outputs": [],
   "source": [
    "tarif['mb_per_month_included'] = (tarif['mb_per_month_included']/1024).apply(lambda x: math.ceil(x))\n",
    "tarif = tarif.rename(columns = {'tariff_name':'tariff', 'mb_per_month_included':'gb_per_month_included'})"
   ]
  },
  {
   "cell_type": "code",
   "execution_count": 37,
   "metadata": {},
   "outputs": [],
   "source": [
    "total = pd.merge(total, tarif, how='left', on='tariff')"
   ]
  },
  {
   "cell_type": "markdown",
   "metadata": {},
   "source": [
    "<div class = \"alert alert-info\">\n",
    "<h1>Комментарий студента (до первого ревью)</h1> \n",
    "    <h1></h1>  \n",
    "Тут 4 функции. Они появились из-за того что я изначально не увидел таблицу tarif. Из-за этого делал все через if и вручную сравнивал с исходными цифрами и прибавлял/умножал соответственно. Функции оставил, однако прекрасно отдаю себе отчет в том, что после объединения с tarif в этом уже нет необходимости. Достаточно простых манипуляций между столбцами. \n",
    "</div>"
   ]
  },
  {
   "cell_type": "markdown",
   "metadata": {},
   "source": [
    "<div class=\"alert alert-block alert-success\">\n",
    "\n",
    "    \n",
    "### Комментарий от ревьюера v_2\n",
    "\n",
    "Главное получить правильный результат 😃\n",
    "    \n",
    "</div>"
   ]
  },
  {
   "cell_type": "code",
   "execution_count": 38,
   "metadata": {},
   "outputs": [],
   "source": [
    "def revenue_internet(data):\n",
    "    if data['tariff'] == 'smart':\n",
    "        if data['gb_used'] > data['gb_per_month_included']:\n",
    "            return (data['gb_used'] - data['gb_per_month_included']) * data['rub_per_gb']\n",
    "        else:\n",
    "            return 0\n",
    "    elif data['tariff'] == 'ultra':\n",
    "        if data['gb_used'] > data['gb_per_month_included']:\n",
    "            return (data['gb_used'] - data['gb_per_month_included']) * data['rub_per_gb']\n",
    "        else:\n",
    "            return 0\n",
    "        return 0"
   ]
  },
  {
   "cell_type": "code",
   "execution_count": 39,
   "metadata": {},
   "outputs": [],
   "source": [
    "def revenue_calls(data):\n",
    "    if data['tariff'] == 'smart':\n",
    "        if data['duration_calls'] > data['minutes_included']:\n",
    "            return (data['duration_calls'] - data['minutes_included']) * data['rub_per_minute']\n",
    "        else:\n",
    "            return 0\n",
    "    elif data['tariff'] == 'ultra':\n",
    "        if data['duration_calls'] > data['minutes_included']:\n",
    "            return (data['duration_calls'] - data['minutes_included'])* data['rub_per_minute']\n",
    "        else:\n",
    "            return 0\n",
    "        return 0"
   ]
  },
  {
   "cell_type": "code",
   "execution_count": 40,
   "metadata": {},
   "outputs": [],
   "source": [
    "def revenue_sms(data):\n",
    "    if data['tariff'] == 'smart':\n",
    "        if data['sms_count'] > data['messages_included']:\n",
    "            return (data['sms_count'] - data['messages_included']) * data['rub_per_message']\n",
    "        else:\n",
    "            return 0\n",
    "    elif data['tariff'] == 'ultra':\n",
    "        if data['sms_count'] > data['messages_included']:\n",
    "            return (data['sms_count'] - data['messages_included']) * data['rub_per_message']\n",
    "        else:\n",
    "            return 0\n",
    "        return 0"
   ]
  },
  {
   "cell_type": "code",
   "execution_count": 41,
   "metadata": {},
   "outputs": [],
   "source": [
    "def revenue_total(data):\n",
    "    if data['tariff'] == 'ultra':\n",
    "        return data['revenue_sms'] + data['revenue_calls'] + data['revenue_internet'] + data['rub_monthly_fee']\n",
    "    elif data['tariff'] == 'smart':\n",
    "        return data['revenue_sms'] + data['revenue_calls'] + data['revenue_internet'] + data['rub_monthly_fee']"
   ]
  },
  {
   "cell_type": "markdown",
   "metadata": {},
   "source": [
    "Применим функции:"
   ]
  },
  {
   "cell_type": "code",
   "execution_count": 42,
   "metadata": {},
   "outputs": [],
   "source": [
    "total['revenue_internet'] = total.apply(revenue_internet, axis =1)\n",
    "total['revenue_calls'] = total.apply(revenue_calls, axis =1)\n",
    "total['revenue_sms'] = total.apply(revenue_sms, axis =1)\n",
    "total['revenue_total'] = total.apply(revenue_total, axis =1)"
   ]
  },
  {
   "cell_type": "markdown",
   "metadata": {},
   "source": [
    "За ненадобностью удалим все столбцы взятые из `tarif`:"
   ]
  },
  {
   "cell_type": "code",
   "execution_count": 43,
   "metadata": {},
   "outputs": [],
   "source": [
    "total = total.drop(columns ={'messages_included',\n",
    "                     'gb_per_month_included',\n",
    "                     'minutes_included',\n",
    "                     'rub_monthly_fee',\n",
    "                     'rub_per_gb',\n",
    "                     'rub_per_message',\n",
    "                     'rub_per_minute'})"
   ]
  },
  {
   "cell_type": "markdown",
   "metadata": {},
   "source": [
    "Посмотрим на итоговый получившийся df:"
   ]
  },
  {
   "cell_type": "markdown",
   "metadata": {},
   "source": [
    "<div class=\"alert alert-block alert-success\">\n",
    "    \n",
    "\n",
    "### Комментарий от ревьюера v_1\n",
    "Отлично\n",
    "    \n",
    "Отлично, расчеты верны 👍🏻\n",
    "</div>"
   ]
  },
  {
   "cell_type": "code",
   "execution_count": 44,
   "metadata": {
    "scrolled": false
   },
   "outputs": [
    {
     "name": "stdout",
     "output_type": "stream",
     "text": [
      "<class 'pandas.core.frame.DataFrame'>\n",
      "Int64Index: 3214 entries, 0 to 3213\n",
      "Data columns (total 12 columns):\n",
      "user_id             3214 non-null int64\n",
      "month               3214 non-null int64\n",
      "sms_count           3214 non-null float64\n",
      "duration_calls      3214 non-null float64\n",
      "calls_count         3214 non-null float64\n",
      "tariff              3214 non-null object\n",
      "city                3214 non-null object\n",
      "gb_used             3214 non-null int64\n",
      "revenue_internet    3214 non-null int64\n",
      "revenue_calls       3214 non-null float64\n",
      "revenue_sms         3214 non-null float64\n",
      "revenue_total       3214 non-null float64\n",
      "dtypes: float64(6), int64(4), object(2)\n",
      "memory usage: 326.4+ KB\n"
     ]
    }
   ],
   "source": [
    "total.info()"
   ]
  },
  {
   "cell_type": "markdown",
   "metadata": {},
   "source": [
    "Видно что пропуски есть, больше всего их в столбце `sms` , что не удивительно - смс пользуются все реже и реже. Можно смело заменять на 0. В остальных случаях пропусков порядка 40 - не критично. тоже можно заменять на 0."
   ]
  },
  {
   "cell_type": "markdown",
   "metadata": {},
   "source": [
    "<div class=\"alert alert-block alert-warning\">\n",
    "    \n",
    "\n",
    "### Комментарий от ревьюера v_1\n",
    "Рекомендация\n",
    "\n",
    "Замена пропусков на 0 критична, сколько бы их не получилось. Если не заменить, то эти значения не будут участвовать в расчете статистических показателей\n",
    "</div>"
   ]
  },
  {
   "cell_type": "markdown",
   "metadata": {},
   "source": [
    "<div class=\"alert alert-info\">\n",
    "    \n",
    "### Комментарий от студента v_1\n",
    "    \n",
    "Понимаю, что с nan Работать ничего не будет. Вероятно ты меня неправильно понял, ну или я выразился не совсем верно. Я иммел ввиду (хотел сказать), что есть есть альтернатива - например удалить все данные с пропусками, но воспользуемся заменой на 0.\n",
    "</div>"
   ]
  },
  {
   "cell_type": "markdown",
   "metadata": {},
   "source": [
    "<div class=\"alert alert-block alert-warning\">\n",
    "    \n",
    "\n",
    "### Комментарий от ревьюера v_2\n",
    "Рекомендация\n",
    "\n",
    "В данном случае удалить строки - это не альтернатива. Пропуски логически тут означают ноль - клиент израсходовал 0 услуг из комплекта\n",
    "</div>"
   ]
  },
  {
   "cell_type": "code",
   "execution_count": 45,
   "metadata": {
    "scrolled": true
   },
   "outputs": [],
   "source": [
    "total = total.fillna(0)"
   ]
  },
  {
   "cell_type": "markdown",
   "metadata": {},
   "source": [
    "Посмотрим на дубликаты:"
   ]
  },
  {
   "cell_type": "code",
   "execution_count": 46,
   "metadata": {},
   "outputs": [
    {
     "data": {
      "text/plain": [
       "0"
      ]
     },
     "execution_count": 46,
     "metadata": {},
     "output_type": "execute_result"
    }
   ],
   "source": [
    "total.duplicated().sum()"
   ]
  },
  {
   "cell_type": "markdown",
   "metadata": {},
   "source": [
    "Дубликатов нет"
   ]
  },
  {
   "cell_type": "code",
   "execution_count": 47,
   "metadata": {
    "scrolled": true
   },
   "outputs": [
    {
     "name": "stdout",
     "output_type": "stream",
     "text": [
      "<class 'pandas.core.frame.DataFrame'>\n",
      "Int64Index: 3214 entries, 0 to 3213\n",
      "Data columns (total 12 columns):\n",
      "user_id             3214 non-null int64\n",
      "month               3214 non-null int64\n",
      "sms_count           3214 non-null float64\n",
      "duration_calls      3214 non-null float64\n",
      "calls_count         3214 non-null float64\n",
      "tariff              3214 non-null object\n",
      "city                3214 non-null object\n",
      "gb_used             3214 non-null int64\n",
      "revenue_internet    3214 non-null int64\n",
      "revenue_calls       3214 non-null float64\n",
      "revenue_sms         3214 non-null float64\n",
      "revenue_total       3214 non-null float64\n",
      "dtypes: float64(6), int64(4), object(2)\n",
      "memory usage: 326.4+ KB\n"
     ]
    }
   ],
   "source": [
    "total.info()"
   ]
  },
  {
   "cell_type": "markdown",
   "metadata": {},
   "source": [
    "Замены прошли успешно"
   ]
  },
  {
   "cell_type": "markdown",
   "metadata": {},
   "source": [
    "### Окончательные формирование данных для анализа и исследования"
   ]
  },
  {
   "cell_type": "markdown",
   "metadata": {},
   "source": [
    "Для аналитической части задания требуется сравнение по тарифам. Поэтому сделаем 2 дата сета с делением по тарифам:"
   ]
  },
  {
   "cell_type": "code",
   "execution_count": 48,
   "metadata": {},
   "outputs": [],
   "source": [
    "total_ultra = total.loc[(total['tariff'] == 'ultra')]\n",
    "total_smart = total.loc[(total['tariff'] == 'smart')]"
   ]
  },
  {
   "cell_type": "markdown",
   "metadata": {},
   "source": [
    "Для статистического анализа и работы с гипотезами требуется работа с городами, поэтому нужно создатать 2 дата сета с делением на Москву и остальные регионы."
   ]
  },
  {
   "cell_type": "code",
   "execution_count": 49,
   "metadata": {},
   "outputs": [
    {
     "data": {
      "text/plain": [
       "array(['Краснодар', 'Москва', 'Стерлитамак', 'Новокузнецк',\n",
       "       'Набережные Челны', 'Ульяновск', 'Челябинск', 'Пермь', 'Тюмень',\n",
       "       'Самара', 'Санкт-Петербург', 'Иваново', 'Чебоксары', 'Омск', 'Уфа',\n",
       "       'Томск', 'Чита', 'Мурманск', 'Петрозаводск', 'Тверь',\n",
       "       'Екатеринбург', 'Махачкала', 'Вологда', 'Череповец', 'Ярославль',\n",
       "       'Сочи', 'Хабаровск', 'Ставрополь', 'Рязань', 'Улан-Удэ', 'Тула',\n",
       "       'Саратов', 'Ростов-на-Дону', 'Казань', 'Иркутск', 'Курск',\n",
       "       'Калуга', 'Якутск', 'Астрахань', 'Химки', 'Владикавказ',\n",
       "       'Волгоград', 'Саранск', 'Ижевск', 'Новосибирск', 'Брянск',\n",
       "       'Тольятти', 'Нижний Тагил', 'Орёл', 'Белгород', 'Воронеж',\n",
       "       'Курган', 'Барнаул', 'Красноярск', 'Архангельск', 'Липецк',\n",
       "       'Кемерово', 'Киров', 'Сургут', 'Пенза', 'Волжский', 'Магнитогорск',\n",
       "       'Нижний Новгород', 'Кострома', 'Владивосток', 'Тамбов', 'Балашиха',\n",
       "       'Севастополь', 'Калининград', 'Оренбург', 'Смоленск',\n",
       "       'Нижневартовск', 'Владимир', 'Новороссийск', 'Грозный', 'Подольск'],\n",
       "      dtype=object)"
      ]
     },
     "execution_count": 49,
     "metadata": {},
     "output_type": "execute_result"
    }
   ],
   "source": [
    "total['city'].unique()"
   ]
  },
  {
   "cell_type": "code",
   "execution_count": 50,
   "metadata": {},
   "outputs": [],
   "source": [
    "total['reg'] = np.where(total['city'] == 'Москва', 'Москва', 'Остальные')\n",
    "moscow = total[total['reg'] == 'Москва']\n",
    "other = total[total['reg'] == 'Остальные']"
   ]
  },
  {
   "cell_type": "markdown",
   "metadata": {},
   "source": [
    "**Вывод** предобработка завершена. Ее итогом является создание 4х новых датасетов для 2х частей исследования:\n",
    "\n",
    "1) Для анализа тарифов (`total_ultra`, `smart_ultra`)\n",
    "\n",
    "2) Для проверки гипотез (`moscow`, `other`)\n",
    "\n",
    "Проблемм в данных не обнаружено. Данные формируются очень хорошо!"
   ]
  },
  {
   "cell_type": "markdown",
   "metadata": {},
   "source": [
    "## Анализ тарифов"
   ]
  },
  {
   "cell_type": "markdown",
   "metadata": {},
   "source": [
    "Были поставлены следующие вопросы:"
   ]
  },
  {
   "cell_type": "markdown",
   "metadata": {},
   "source": [
    "Опишите поведение клиентов оператора, исходя из выборки:\n",
    " 1) Сколько минут разговора, сколько сообщений и какой объём интернет-трафика требуется пользователям каждого тарифа в месяц?\n",
    " \n",
    " 2) Посчитайте среднее количество, дисперсию и стандартное отклонение. Постройте гистограммы. Опишите распределения."
   ]
  },
  {
   "cell_type": "markdown",
   "metadata": {},
   "source": [
    "### Расходы клиентов:"
   ]
  },
  {
   "cell_type": "markdown",
   "metadata": {},
   "source": [
    "Построим гистограммы распределения расходов для тарифов и основные статистические характеристики (дисперсия,  среднее, медиана, стандартное отклонение)"
   ]
  },
  {
   "cell_type": "code",
   "execution_count": 51,
   "metadata": {
    "scrolled": false
   },
   "outputs": [
    {
     "name": "stdout",
     "output_type": "stream",
     "text": [
      " Дисперсия для расходов на тарифе ultra : 141373.07325620347\n",
      " Стандартное отклонение для расходов на тарифе ultra : 375.9961080333192\n",
      " Среднее значение расходов на тарифе ultra : 2070.1522842639592\n",
      " Медианное значение расходов на тарифе ultra : 1950.0\n",
      "\n",
      " Дисперсия для расходов на тарифе smart : 669485.2209234245\n",
      " Стандартное отклонение для расходов на тарифе smart : 818.2207653949051\n",
      " Среднее значение расходов на тарифе smart : 1289.9735307312696\n",
      " Медианное значение расходов на тарифе smart : 1023.0\n"
     ]
    },
    {
     "data": {
      "image/png": "[encoded data removed]",
      "text/plain": [
       "<Figure size 720x720 with 1 Axes>"
      ]
     },
     "metadata": {
      "needs_background": "light"
     },
     "output_type": "display_data"
    }
   ],
   "source": [
    "total_ultra['revenue_total'].hist(bins=12, alpha =0.5, figsize=(10,10))\n",
    "total_smart['revenue_total'].hist(bins=12, alpha =0.5, figsize=(10,10))\n",
    "plt.xlabel('Траты', fontsize = 12, color = 'red')\n",
    "plt.ylabel('Частота', fontsize = 12, color = 'red')\n",
    "plt.title('Гистограмма распределения частот трат пользователей ', fontsize = 15, color = 'blue')\n",
    "plt.legend(['ultra','smart'])\n",
    "\n",
    "\n",
    "variance_ultra = np.var(total_ultra['revenue_total'])\n",
    "print(f' Дисперсия для расходов на тарифе ultra : {variance_ultra}')\n",
    "\n",
    "standard_deviation_ultra = np.sqrt(variance_ultra)\n",
    "print(f' Стандартное отклонение для расходов на тарифе ultra : {standard_deviation_ultra}')\n",
    "\n",
    "mean_ultra = total_ultra['revenue_total'].mean()\n",
    "median_ultra = total_ultra['revenue_total'].median()\n",
    "print(f' Среднее значение расходов на тарифе ultra : {mean_ultra}')\n",
    "print(f' Медианное значение расходов на тарифе ultra : {median_ultra}')\n",
    "\n",
    "print()\n",
    "\n",
    "variance_smart = np.var(total_smart['revenue_total'])\n",
    "print(f' Дисперсия для расходов на тарифе smart : {variance_smart}')\n",
    "\n",
    "standard_deviation_smart = np.sqrt(variance_smart)\n",
    "print(f' Стандартное отклонение для расходов на тарифе smart : {standard_deviation_smart}')\n",
    "\n",
    "mean_smart = total_smart['revenue_total'].mean()\n",
    "median_smart = total_smart['revenue_total'].median()\n",
    "print(f' Среднее значение расходов на тарифе smart : {mean_smart}')\n",
    "print(f' Медианное значение расходов на тарифе smart : {median_smart}')"
   ]
  },
  {
   "cell_type": "markdown",
   "metadata": {},
   "source": [
    "Видны следующие особенности тарифов:\n",
    "1) Пользователи тарифа ultra в подавляющем большинстве случаев укладываются в абонентскую плату, дополнительные платы случаются, но редко. Встречающийся максимум около 4000;\n",
    "\n",
    "2) В тарифе smart в абонетскую подавляющее большинство не укладывается порядка 2х раз, однако при условии что медианная трата 1027 руб получается дешевле чем ultra. Зафиксированный максимум порядка 7000.\n",
    "\n",
    "Проверим средниее траты клиентов по каждому из тарифов:"
   ]
  },
  {
   "cell_type": "code",
   "execution_count": 52,
   "metadata": {
    "scrolled": true
   },
   "outputs": [
    {
     "name": "stdout",
     "output_type": "stream",
     "text": [
      " Траты клиентов на тарифе smart : 2875351.0\n",
      " Количество клиентов на тарифе smart (в выборке): 2229\n",
      " Траты клиентов на тарифе ultra : 2039100.0\n",
      " Количество клиентов на тарифе ultra (в выборке): 985\n"
     ]
    }
   ],
   "source": [
    "sum_smart = total_smart['revenue_total'].sum()\n",
    "count_smart = total_smart['revenue_total'].count()\n",
    "\n",
    "sum_ultra = total_ultra['revenue_total'].sum()\n",
    "count_ultra = total_ultra['revenue_total'].count()\n",
    "print(f' Траты клиентов на тарифе smart : {sum_smart}')\n",
    "print(f' Количество клиентов на тарифе smart (в выборке): {count_smart}')\n",
    "\n",
    "print(f' Траты клиентов на тарифе ultra : {sum_ultra}')\n",
    "print(f' Количество клиентов на тарифе ultra (в выборке): {count_ultra}')"
   ]
  },
  {
   "cell_type": "markdown",
   "metadata": {},
   "source": [
    "**Вывод :** Количество клиентов на тарифе smart больше в 2,3 раза. Ожидаемо, так как тариф получается выгоднее. Совокупные траты в 1,42 раза больше, что тоже приличный показатель"
   ]
  },
  {
   "cell_type": "markdown",
   "metadata": {},
   "source": [
    "<div class=\"alert alert-block alert-success\">\n",
    "    \n",
    "\n",
    "### Комментарий от ревьюера v_1\n",
    "Отлично\n",
    "    \n",
    "Отличный дополнительный анализ по выручке 👍🏻\n",
    "</div>"
   ]
  },
  {
   "cell_type": "markdown",
   "metadata": {},
   "source": [
    "### Длительность разговоров"
   ]
  },
  {
   "cell_type": "markdown",
   "metadata": {},
   "source": [
    "Построим гистограммы распределения для времени разговоров и основные статистические характеристики (дисперсия,  среднее, медиана, стандартное отклонение)"
   ]
  },
  {
   "cell_type": "code",
   "execution_count": 53,
   "metadata": {},
   "outputs": [
    {
     "name": "stdout",
     "output_type": "stream",
     "text": [
      " Дисперсия для продолжительности звонков на тарифе ultra : 100771.2236172022\n",
      " Стандартное отклонение для продолжительности звонков на тарифе ultra : 317.44483554974113\n",
      " Средняя продолжительность звонков на тарифе ultra : 526.6233502538071\n",
      " Медианная продолжительность звонков на тарифе ultra : 518.0\n",
      "\n",
      " Дисперсия для продолжительности звонков на тарифе smart : 36203.06665209469\n",
      " Стандартное отклонение для продолжительности звонков на тарифе smart : 190.27103471651876\n",
      " Средняя продолжительность звонков на тарифе smart : 417.9349484073576\n",
      " Медианная продолжительность звонков на тарифе smart : 422.0\n"
     ]
    },
    {
     "data": {
      "image/png": "[encoded data removed]",
      "text/plain": [
       "<Figure size 720x720 with 1 Axes>"
      ]
     },
     "metadata": {
      "needs_background": "light"
     },
     "output_type": "display_data"
    }
   ],
   "source": [
    "total_ultra['duration_calls'].hist(bins=20, alpha =0.5, figsize=(10,10))\n",
    "total_smart['duration_calls'].hist(bins=20, alpha =0.5)\n",
    "plt.legend(['ultra', 'smart'])\n",
    "plt.xlabel('Длительность звонков', fontsize = 12, color = 'red')\n",
    "plt.ylabel('Частота', fontsize = 12, color = 'red')\n",
    "plt.title('Гистограмма частот звонков', fontsize = 15, color = 'blue')\n",
    "\n",
    "\n",
    "variance_ultra = np.var(total_ultra['duration_calls'])\n",
    "print(f' Дисперсия для продолжительности звонков на тарифе ultra : {variance_ultra}')\n",
    "\n",
    "standard_deviation_ultra = np.sqrt(variance_ultra)\n",
    "print(f' Стандартное отклонение для продолжительности звонков на тарифе ultra : {standard_deviation_ultra}')\n",
    "\n",
    "mean_ultra = total_ultra['duration_calls'].mean()\n",
    "median_ultra = total_ultra['duration_calls'].median()\n",
    "print(f' Средняя продолжительность звонков на тарифе ultra : {mean_ultra}')\n",
    "print(f' Медианная продолжительность звонков на тарифе ultra : {median_ultra}')\n",
    "\n",
    "print()\n",
    "\n",
    "variance_smart = np.var(total_smart['duration_calls'])\n",
    "print(f' Дисперсия для продолжительности звонков на тарифе smart : {variance_smart}')\n",
    "\n",
    "standard_deviation_smart = np.sqrt(variance_smart)\n",
    "print(f' Стандартное отклонение для продолжительности звонков на тарифе smart : {standard_deviation_smart}')\n",
    "\n",
    "mean_smart = total_smart['duration_calls'].mean()\n",
    "median_smart = total_smart['duration_calls'].median()\n",
    "print(f' Средняя продолжительность звонков на тарифе smart : {mean_smart}')\n",
    "print(f' Медианная продолжительность звонков на тарифе smart : {median_smart}')"
   ]
  },
  {
   "cell_type": "markdown",
   "metadata": {},
   "source": [
    "Отметим следующие особенности гистограмм для длительности звонков:\n",
    "\n",
    "1) У тарифа smart распределение близко к нормальному. Можно сказать что половине клиентов хватает тарифных 500 минут, а другой нет;\n",
    "\n",
    "2) у тарифа ultra для каждой из корзин до 1000 минут частота практически одинаковая. В 3000 минут укладываются все. Есть некоторое количество клиентов с длительностью звонков 750-1250 минут которых больше чем в smart. Однако существенной разницы между тарифами нет.\n",
    "\n",
    "**Вывод:** клиенты тарифа ultra используют только половину своих тарифных минут, возможно для **этого тарифа можно было бы уменьшить абонетскую плату за счет снижения количества предоставляемых минут в 2 раза**. Для подавляющего большинтсва этого вполне достаточно."
   ]
  },
  {
   "cell_type": "markdown",
   "metadata": {},
   "source": [
    "### Количество звонков"
   ]
  },
  {
   "cell_type": "markdown",
   "metadata": {},
   "source": [
    "Построим гистограммы распределения для количества звонков и основные статистические характеристики (дисперсия, среднее, медиана, стандартное отклонение)"
   ]
  },
  {
   "cell_type": "code",
   "execution_count": 54,
   "metadata": {},
   "outputs": [
    {
     "name": "stdout",
     "output_type": "stream",
     "text": [
      " Дисперсия для количества звонков на тарифе ultra : 1926.7319291916822\n",
      " Стандартное отклонение для количества звонков на тарифе ultra : 43.89455466446473\n",
      " Среднее количество звонков на тарифе ultra : 73.39289340101523\n",
      " Медианное количество звонков на тарифе ultra : 74.0\n",
      "\n",
      " Дисперсия для количества звонков на тарифе smart : 672.5743697067148\n",
      " Стандартное отклонение для количества звонков на тарифе smart : 25.934038823652493\n",
      " Среднее количество звонков на тарифе smart : 58.46343651861822\n",
      " Медианное количество звонков на тарифе smart : 60.0\n"
     ]
    },
    {
     "data": {
      "image/png": "[encoded data removed]",
      "text/plain": [
       "<Figure size 720x720 with 1 Axes>"
      ]
     },
     "metadata": {
      "needs_background": "light"
     },
     "output_type": "display_data"
    }
   ],
   "source": [
    "total_ultra['calls_count'].hist(bins=20, alpha =0.5, figsize=(10,10))\n",
    "total_smart['calls_count'].hist(bins=20, alpha =0.5)\n",
    "plt.legend(['ultra', 'smart'])\n",
    "plt.xlabel('Количество звонков', fontsize = 12, color = 'red')\n",
    "plt.ylabel('Частота', fontsize = 12, color = 'red')\n",
    "plt.title('Гистограмма частот звонков', fontsize = 15, color = 'blue')\n",
    "\n",
    "\n",
    "variance_ultra = np.var(total_ultra['calls_count'])\n",
    "print(f' Дисперсия для количества звонков на тарифе ultra : {variance_ultra}')\n",
    "\n",
    "standard_deviation_ultra = np.sqrt(variance_ultra)\n",
    "print(f' Стандартное отклонение для количества звонков на тарифе ultra : {standard_deviation_ultra}')\n",
    "\n",
    "mean_ultra = total_ultra['calls_count'].mean()\n",
    "median_ultra = total_ultra['calls_count'].median()\n",
    "print(f' Среднее количество звонков на тарифе ultra : {mean_ultra}')\n",
    "print(f' Медианное количество звонков на тарифе ultra : {median_ultra}')\n",
    "\n",
    "print()\n",
    "\n",
    "variance_smart = np.var(total_smart['calls_count'])\n",
    "print(f' Дисперсия для количества звонков на тарифе smart : {variance_smart}')\n",
    "\n",
    "standard_deviation_smart = np.sqrt(variance_smart)\n",
    "print(f' Стандартное отклонение для количества звонков на тарифе smart : {standard_deviation_smart}')\n",
    "\n",
    "mean_smart = total_smart['calls_count'].mean()\n",
    "median_smart = total_smart['calls_count'].median()\n",
    "print(f' Среднее количество звонков на тарифе smart : {mean_smart}')\n",
    "print(f' Медианное количество звонков на тарифе smart : {median_smart}')"
   ]
  },
  {
   "cell_type": "markdown",
   "metadata": {},
   "source": [
    "**Вывод:** гистограммы абсолютно коррелируют с длительностью разговоров. Вероятно это связано с тем что большинство звонков уложолись в одну минуту"
   ]
  },
  {
   "cell_type": "markdown",
   "metadata": {},
   "source": [
    "### Количество смс"
   ]
  },
  {
   "cell_type": "code",
   "execution_count": 55,
   "metadata": {
    "scrolled": true
   },
   "outputs": [
    {
     "name": "stdout",
     "output_type": "stream",
     "text": [
      " Дисперсия для смс на тарифе ultra : 2282.9460753948824\n",
      " Стандартное отклонение для смс на тарифе ultra : 47.78018496610161\n",
      " Среднее количество смс на тарифе ultra : 49\n",
      " Медианное количество смс на тарифе ultra : 38.0\n",
      "\n",
      " Дисперсия для смс на тарифе smart : 796.455482917076\n",
      " Стандартное отклонение для смс на тарифе smart : 28.221542886898938\n",
      " Среднее количество смс на тарифе smart : 33\n",
      " Медианное количество смс на тарифе smart : 28.0\n"
     ]
    },
    {
     "data": {
      "image/png": "[encoded data removed]",
      "text/plain": [
       "<Figure size 720x720 with 1 Axes>"
      ]
     },
     "metadata": {
      "needs_background": "light"
     },
     "output_type": "display_data"
    }
   ],
   "source": [
    "total_ultra['sms_count'].hist(bins=20, alpha =0.5, figsize=(10,10))\n",
    "total_smart['sms_count'].hist(bins=20, alpha =0.5)\n",
    "plt.legend(['ultra', 'smart'])\n",
    "plt.xlabel('Количество смс', fontsize = 12, color = 'red')\n",
    "plt.ylabel('Частота', fontsize = 12, color = 'red')\n",
    "plt.title('Гистограмма распределения частот смс ', fontsize = 15, color = 'blue')\n",
    "\n",
    "\n",
    "\n",
    "\n",
    "variance_ultra = np.var(total_ultra['sms_count'])\n",
    "print(f' Дисперсия для смс на тарифе ultra : {variance_ultra}')\n",
    "\n",
    "standard_deviation_ultra = np.sqrt(variance_ultra)\n",
    "print(f' Стандартное отклонение для смс на тарифе ultra : {standard_deviation_ultra}')\n",
    "\n",
    "mean_ultra = round(total_ultra['sms_count'].mean())\n",
    "median_ultra = total_ultra['sms_count'].median()\n",
    "print(f' Среднее количество смс на тарифе ultra : {mean_ultra}')\n",
    "print(f' Медианное количество смс на тарифе ultra : {median_ultra}')\n",
    "print()\n",
    "\n",
    "variance_smart = np.var(total_smart['sms_count'])\n",
    "print(f' Дисперсия для смс на тарифе smart : {variance_smart}')\n",
    "\n",
    "standard_deviation_smart = np.sqrt(variance_smart)\n",
    "print(f' Стандартное отклонение для смс на тарифе smart : {standard_deviation_smart}')\n",
    "\n",
    "mean_smart = round(total_smart['sms_count'].mean())\n",
    "median_smart = total_smart['sms_count'].median()\n",
    "print(f' Среднее количество смс на тарифе smart : {mean_smart}')\n",
    "print(f' Медианное количество смс на тарифе smart : {median_smart}')"
   ]
  },
  {
   "cell_type": "markdown",
   "metadata": {},
   "source": [
    "1) На тарифе smart значительной части пользователей хватает 50 сообщений месяц. Аналогичная ситуация, как и со звонками. Все заканчивается на 100 смс в месяц;\n",
    "\n",
    "2) На тарифе ultra все уложились в 1000 сообщений ( по факту максимум около 200 ). Значительный перебор\n",
    "\n",
    "Стоит заметить, что 0 смс имеет самую высокую частоту в обеих выборках.\n",
    "\n",
    "**Вывод:** **смс не пользуются особой популярностью** большей половине пользователей вполне достаточно установленных лимитов. В тарифе  smart при превышении лимита прибыль компании несущественная (максимум 50 рублей) . Вероятно можно **пересмотреть стоимость смс**, вероятно на этом можно дополнительно немного заработать."
   ]
  },
  {
   "cell_type": "markdown",
   "metadata": {},
   "source": [
    "### Интернет траффик"
   ]
  },
  {
   "cell_type": "code",
   "execution_count": 56,
   "metadata": {
    "scrolled": true
   },
   "outputs": [
    {
     "name": "stdout",
     "output_type": "stream",
     "text": [
      " Дисперсия для интернет траффика на тарифе ultra : 96.99311602978689\n",
      " Стандартное отклонение для интернет траффика на тарифе ultra : 9.848508314957494\n",
      " Среднее количество интернет траффика на тарифе ultra : 19\n",
      " Медианное количество интернет траффика на тарифе ultra : 19.0\n",
      "\n",
      " Дисперсия для интернет траффика на тарифе smart : 33.013887454837445\n",
      " Стандартное отклонение для интернет траффика на тарифе smart : 5.745771267187499\n",
      " Среднее количество интернет траффика на тарифе smart : 16\n",
      " Медианное количество интернет траффика на тарифе smart : 17.0\n"
     ]
    },
    {
     "data": {
      "image/png": "[encoded data removed]",
      "text/plain": [
       "<Figure size 720x720 with 1 Axes>"
      ]
     },
     "metadata": {
      "needs_background": "light"
     },
     "output_type": "display_data"
    }
   ],
   "source": [
    "total_ultra['gb_used'].hist(bins=12, alpha =0.5, figsize=(10,10))\n",
    "total_smart['gb_used'].hist(bins=12, alpha =0.5)\n",
    "plt.legend(['ultra', 'smart'])\n",
    "plt.xlabel('Количество траффика', fontsize = 12, color = 'red')\n",
    "plt.ylabel('Частота', fontsize = 12, color = 'red')\n",
    "plt.title('Гистограмма распределения частот по интернет траффику ', fontsize = 15, color = 'blue')\n",
    "\n",
    "\n",
    "\n",
    "\n",
    "variance_ultra = np.var(total_ultra['gb_used'])\n",
    "print(f' Дисперсия для интернет траффика на тарифе ultra : {variance_ultra}')\n",
    "\n",
    "standard_deviation_ultra = np.sqrt(variance_ultra)\n",
    "print(f' Стандартное отклонение для интернет траффика на тарифе ultra : {standard_deviation_ultra}')\n",
    "\n",
    "median_ultra = total_ultra['gb_used'].median()\n",
    "mean_ultra = round(total_ultra['gb_used'].mean())\n",
    "print(f' Среднее количество интернет траффика на тарифе ultra : {mean_ultra}')\n",
    "print(f' Медианное количество интернет траффика на тарифе ultra : {median_ultra}')\n",
    "print()\n",
    "\n",
    "variance_smart = np.var(total_smart['gb_used'])\n",
    "print(f' Дисперсия для интернет траффика на тарифе smart : {variance_smart}')\n",
    "\n",
    "standard_deviation_smart = np.sqrt(variance_smart)\n",
    "print(f' Стандартное отклонение для интернет траффика на тарифе smart : {standard_deviation_smart}')\n",
    "\n",
    "median_smart = total_smart['gb_used'].median()\n",
    "mean_smart = round(total_smart['gb_used'].mean())\n",
    "print(f' Среднее количество интернет траффика на тарифе smart : {mean_smart}')\n",
    "print(f' Медианное количество интернет траффика на тарифе smart : {median_smart}')"
   ]
  },
  {
   "cell_type": "markdown",
   "metadata": {},
   "source": [
    "1) на тарифе ultra недобор интернет траффика у большой части пользователи недобор в 10 gb. Распределение нормальное со смещение влево. Однако пользователей с трафиком более 30 тоже вполне прилично, чего нет у тарифа smart;\n",
    "\n",
    "2) у тарифа smart пик частот около 17 gb. Однако исходя из гистограммы большинству хватает 15 гб. Стоит заметить что есть группа людей около 25 gb Траффика. При условии что 1 гб стоит 200 руб по итогу получается около 2000 - превосходит стоимость тариф ultra.\n",
    "\n",
    "**Вывод:** на тарифе ultra люди часто переплачивают за интернет, а на smart приличной части клиентов немного не хватает траффика. "
   ]
  },
  {
   "cell_type": "markdown",
   "metadata": {},
   "source": [
    "**Вывод по разделу:** Стоит отметить:\n",
    "1) тариф smart пользуется большей популярностью, однако людям немного не хватает выставленных лимитов на звонки и нтернет;\n",
    "\n",
    "2) тариф ultra люди не используют тариф на все его возможности.\n",
    "\n",
    "Стоит провести оптимизацию на предмет смс - понизить количество предоставляемых смс в тарифах ( возможно создать промежуточный тарифф) ими все равно пользуются мало. \n",
    "\n",
    "За превышение лимитов поднять цену до 2 руб. \n",
    "\n",
    "Для звонков на тарифе ultra снизить порог длительности звонков до 2000 минут\n",
    "\n",
    "На тарифе  smart поднять лимит траффика до 20 gb с поднятием абонентской платы в рамках 1000 руб. На тариффе ультра опустить до 25.\n",
    "\n",
    "Можно рассмотреть возможность создать и третий тарифф с некими средними параметрами услуг связи, согласно выводов. Однако есть риск потери клиентов из тариффа ультра. Поэтому оптимальнее будет оптимизировать текущие, особенно ultra. Думаю стоит поставить лимиты немного пониже, соответсвенно и абонентскую плату - это позволит перетянуть некотрых клиентов с тариффа smart в более дорогой тарифф, соответсвенно таким образом поднять прибыль с одного. \n"
   ]
  },
  {
   "cell_type": "markdown",
   "metadata": {},
   "source": [
    "<div class=\"alert alert-block alert-success\">\n",
    "    \n",
    "\n",
    "### Комментарий от ревьюера v_1\n",
    "Отлично\n",
    "    \n",
    "Шаг выполнен отлично, если есть желание и время, можешь попробовать сделать данный пункт еще элегантнее и лаконичнее. Для этого выведи три гистограммы рядом друг с другом. \n",
    "    \n",
    "Чтобы вывести графики рядом друг с другом используются сабплоты. \n",
    "    \n",
    "Рекомендую ознакомиться со статьей, там отлично написано как ведет себя matplotlib\n",
    "    \n",
    "https://pyprog.pro/mpl/mpl_main_components.html\n",
    "</div>"
   ]
  },
  {
   "cell_type": "markdown",
   "metadata": {},
   "source": [
    "## Проверка гипотез"
   ]
  },
  {
   "cell_type": "markdown",
   "metadata": {},
   "source": [
    "В данном разделе будем проверять гипотезы, их две:\n",
    "\n",
    " - средняя выручка пользователей тарифов «Ультра» и «Смарт» различаются;\n",
    " - средняя выручка пользователей из Москвы отличается от выручки пользователей из других регионов."
   ]
  },
  {
   "cell_type": "markdown",
   "metadata": {},
   "source": [
    "Напишем функцию, которая убирает выборсы в распределении ( меньше квантиля 1/4 и больше 3/4), согласно првилам из тренажера:"
   ]
  },
  {
   "cell_type": "code",
   "execution_count": 57,
   "metadata": {},
   "outputs": [
    {
     "data": {
      "text/plain": [
       "'\\ndef delete_outliers(df, column, graphic=0, x = 10, y = 10):\\n    q1 = df[column].quantile(0.25)                 \\n    q3 = df[column].quantile(0.75)\\n    iqr = q3 - q1\\n    iqr_test = (df[column] >= (q1 - 1.5 * iqr)) & (df[column] <= (q3 + 1.5 * iqr))\\n    return df.loc[iqr_test]\\n'"
      ]
     },
     "execution_count": 57,
     "metadata": {},
     "output_type": "execute_result"
    }
   ],
   "source": [
    "'''\n",
    "def delete_outliers(df, column, graphic=0, x = 10, y = 10):\n",
    "    q1 = df[column].quantile(0.25)                 \n",
    "    q3 = df[column].quantile(0.75)\n",
    "    iqr = q3 - q1\n",
    "    iqr_test = (df[column] >= (q1 - 1.5 * iqr)) & (df[column] <= (q3 + 1.5 * iqr))\n",
    "    return df.loc[iqr_test]\n",
    "'''"
   ]
  },
  {
   "cell_type": "markdown",
   "metadata": {},
   "source": [
    "<div class=\"alert alert-block alert-danger\">\n",
    "    \n",
    "\n",
    "### Комментарий от ревьюера v_1\n",
    "Критично\n",
    "\n",
    "Так ни в коем случае делать не надо, для ультры остались значения только абонентской платы. Распределения выручки никак нельзя назвать нормальным.\n",
    "    \n",
    "Данные надо оставить без изменения\n",
    "</div>"
   ]
  },
  {
   "cell_type": "markdown",
   "metadata": {},
   "source": [
    "<div class=\"alert alert-info\">\n",
    "    \n",
    "### Комментарий от студента v_1\n",
    "    \n",
    "Несколько трудновато все же тема далась, поэтому произошел такой  казус. Я подумал, что так правильно!\n",
    "    \n",
    "Функцию заккоментировал - далее в подсчетах она не учавствует.\n",
    "</div>"
   ]
  },
  {
   "cell_type": "markdown",
   "metadata": {},
   "source": [
    "<div class=\"alert alert-block alert-success\">\n",
    "\n",
    "    \n",
    "### Комментарий от ревьюера v_2\n",
    "\n",
    "👍🏻\n",
    "    \n",
    "</div>"
   ]
  },
  {
   "cell_type": "markdown",
   "metadata": {},
   "source": [
    "Выборки между собой являются независимымы, поэтому для проверки гипотиз будет использоваться t-критерий Стьюдента. \n",
    "\n",
    "Нулевая (H0) гипотеза формируется по правилу: \"первая выборка **равна** второй\" \n",
    "\n",
    "Альтернативная (H1) по правилу - отрицаем нулевую: \"первая выборка **не равна** второй\""
   ]
  },
  {
   "cell_type": "markdown",
   "metadata": {},
   "source": [
    "Альфа примем 0.05 ( установившееся норма):"
   ]
  },
  {
   "cell_type": "code",
   "execution_count": 58,
   "metadata": {},
   "outputs": [],
   "source": [
    "alpha = 0.05"
   ]
  },
  {
   "cell_type": "markdown",
   "metadata": {},
   "source": [
    "### гипотеза \"средняя выручка пользователей тарифов «Ультра» и «Смарт» различаются\""
   ]
  },
  {
   "cell_type": "markdown",
   "metadata": {},
   "source": [
    "Гипотеза о равенстве средних двух генеральных совокупностей №1\n",
    "\n",
    "Сформулируем гипотезы:\n",
    "\n",
    "H0: выручка пользователей тарифов «Ультра» и «Смарт» не различается\n",
    "\n",
    "\n",
    "H1: выручка пользователей тарифов «Ультра» и «Смарт» различается"
   ]
  },
  {
   "cell_type": "markdown",
   "metadata": {},
   "source": [
    "<div class=\"alert alert-block alert-success\">\n",
    "    \n",
    "\n",
    "### Комментарий от ревьюера v_1\n",
    "Отлично\n",
    "    \n",
    "Гипотезы сформулированы верно \n",
    "</div>"
   ]
  },
  {
   "cell_type": "markdown",
   "metadata": {},
   "source": [
    "Пременим функцию к двум df, а потом на их основе создадим два series для проверки по критерию Стьюдента"
   ]
  },
  {
   "cell_type": "code",
   "execution_count": 59,
   "metadata": {},
   "outputs": [],
   "source": [
    "ultra = total_ultra['revenue_total']\n",
    "smart = total_smart['revenue_total']"
   ]
  },
  {
   "cell_type": "code",
   "execution_count": 60,
   "metadata": {
    "scrolled": true
   },
   "outputs": [],
   "source": [
    "results = st.ttest_ind(ultra, smart)"
   ]
  },
  {
   "cell_type": "markdown",
   "metadata": {},
   "source": [
    "Сравним alpha и значение p"
   ]
  },
  {
   "cell_type": "code",
   "execution_count": 61,
   "metadata": {},
   "outputs": [
    {
     "name": "stdout",
     "output_type": "stream",
     "text": [
      "p-значение: 1.4229814360764067e-160\n",
      "Отвергаем нулевую гипотезу\n"
     ]
    }
   ],
   "source": [
    "print('p-значение:', results.pvalue)\n",
    "\n",
    "if (results.pvalue < alpha):\n",
    "    print(\"Отвергаем нулевую гипотезу\")\n",
    "else:\n",
    "    print(\"Не получилось отвергнуть нулевую гипотезу\")"
   ]
  },
  {
   "cell_type": "markdown",
   "metadata": {},
   "source": [
    "~`**Вывод:** выручка пользователей тарифа smart и ultra различается. Это так же было подтверждено в пункте 3.1 на конкретных цифрах  1290 и 2070 для каждого из тарифов. Проверка гипотезы это подтвердила.~"
   ]
  },
  {
   "cell_type": "markdown",
   "metadata": {},
   "source": [
    "<div class=\"alert alert-block alert-warning\"> \n",
    "    \n",
    "### Комментарий от ревьюера v_1\n",
    "Рекомендация\n",
    "\n",
    "Статистика не подтверждает или опровергает гипотезу, а дает основание предполагать, что гипотеза верна или не верна\n",
    "    \n",
    "</div>"
   ]
  },
  {
   "cell_type": "markdown",
   "metadata": {},
   "source": [
    "**Вывод:** Есть основание полагать, что выручка пользователей тарифа smart и ultra различается. Это так же было замечано в пункте 3.1 на конкретных цифрах  1290 и 2070 для каждого из тарифов. Проверка гипотезы этому не противоречит."
   ]
  },
  {
   "cell_type": "markdown",
   "metadata": {},
   "source": [
    "### Гипотеза \"средняя выручка пользователей из Москвы отличается от выручки пользователей из других регионов.\""
   ]
  },
  {
   "cell_type": "markdown",
   "metadata": {},
   "source": [
    "Сформируем гипотезы:\n",
    "\n",
    "\n",
    "H0: средняя выручка пользователей из Москвы не отличается от выручки пользователей из других регионов\n",
    "\n",
    "H1: средняя выручка пользователей из Москвы отличается от выручки пользователей из других регионов"
   ]
  },
  {
   "cell_type": "markdown",
   "metadata": {},
   "source": [
    "<div class=\"alert alert-block alert-success\">\n",
    "    \n",
    "\n",
    "### Комментарий от ревьюера v_1\n",
    "Отлично\n",
    "    \n",
    "Гипотезы сформулированы верно \n",
    "</div>"
   ]
  },
  {
   "cell_type": "markdown",
   "metadata": {},
   "source": [
    "Все дальнейшие действия аналогичны:"
   ]
  },
  {
   "cell_type": "code",
   "execution_count": 62,
   "metadata": {},
   "outputs": [],
   "source": [
    "moscow_test = moscow['revenue_total']"
   ]
  },
  {
   "cell_type": "code",
   "execution_count": 63,
   "metadata": {},
   "outputs": [],
   "source": [
    "other_test = other['revenue_total']"
   ]
  },
  {
   "cell_type": "code",
   "execution_count": 64,
   "metadata": {},
   "outputs": [],
   "source": [
    "results = st.ttest_ind(other_test, moscow_test)"
   ]
  },
  {
   "cell_type": "code",
   "execution_count": 65,
   "metadata": {
    "scrolled": true
   },
   "outputs": [
    {
     "name": "stdout",
     "output_type": "stream",
     "text": [
      "p-значение: 0.5440152911670224\n",
      "Не получилось отвергнуть нулевую гипотезу\n"
     ]
    }
   ],
   "source": [
    "print('p-значение:', results.pvalue)\n",
    "\n",
    "if (results.pvalue < alpha):\n",
    "    print(\"Отвергаем нулевую гипотезу\")\n",
    "else:\n",
    "    print(\"Не получилось отвергнуть нулевую гипотезу\")"
   ]
  },
  {
   "cell_type": "markdown",
   "metadata": {},
   "source": [
    "Посмотрим на реальных цифрах:"
   ]
  },
  {
   "cell_type": "code",
   "execution_count": 66,
   "metadata": {},
   "outputs": [
    {
     "data": {
      "text/plain": [
       "1750.0"
      ]
     },
     "execution_count": 66,
     "metadata": {},
     "output_type": "execute_result"
    }
   ],
   "source": [
    "moscow['revenue_total'].median()"
   ]
  },
  {
   "cell_type": "code",
   "execution_count": 67,
   "metadata": {},
   "outputs": [
    {
     "data": {
      "text/plain": [
       "1583.0"
      ]
     },
     "execution_count": 67,
     "metadata": {},
     "output_type": "execute_result"
    }
   ],
   "source": [
    "other['revenue_total'].median()"
   ]
  },
  {
   "cell_type": "markdown",
   "metadata": {},
   "source": [
    "~Разница в 200 рублей. Гипотеза H1 подтверждается.~"
   ]
  },
  {
   "cell_type": "markdown",
   "metadata": {},
   "source": [
    "~~**Вывод:** С вероятность 27,5% выручка в Москве больше чем в других регионах. Нулевая гипотеза отвергнута.~~"
   ]
  },
  {
   "cell_type": "markdown",
   "metadata": {},
   "source": [
    "<div class=\"alert alert-block alert-danger\">\n",
    "    \n",
    "\n",
    "### Комментарий от ревьюера v_1\n",
    "Критично\n",
    "\n",
    "1. Как же она подтверждается, если p-value больше чем альфа?\n",
    "    \n",
    "2. p-value - это вероятность получить такие же или еще более значимые различия, при условии верности нулевой гипотезы\n",
    "</div>"
   ]
  },
  {
   "cell_type": "markdown",
   "metadata": {},
   "source": [
    "<div class=\"alert alert-info\">\n",
    "    \n",
    "### Комментарий от студента v_1\n",
    "    \n",
    "Запутался) Конечно - не можем отвергнуть нулевую гипотезу, значит нулевая же и верна. Кстати после отказа от функции удаления кванителей < 1/4 и > 3/4  разница выросла почти в 2 раза ( p value было 27, стало 54)\n",
    "</div>"
   ]
  },
  {
   "cell_type": "markdown",
   "metadata": {},
   "source": [
    "<div class=\"alert alert-block alert-success\">\n",
    "\n",
    "    \n",
    "### Комментарий от ревьюера v_2\n",
    "\n",
    "👍🏻\n",
    "    \n",
    "</div>"
   ]
  },
  {
   "cell_type": "markdown",
   "metadata": {},
   "source": [
    "В реальных цифрах разница получилась равной 167 рублям. Разница не существенная, поэтому гипотеза: \"средняя выручка пользователей из Москвы не отличается от выручки пользователей из других регионов \" (H0) является верной. На что указывает и стат. тест - есть основание полагать, что гипотеза H0 верная."
   ]
  },
  {
   "cell_type": "markdown",
   "metadata": {},
   "source": [
    "**Вывод:** \"средняя выручка пользователей из Москвы не отличается от выручки пользователей из других регионов \" (H0)"
   ]
  },
  {
   "cell_type": "markdown",
   "metadata": {},
   "source": [
    "## Вывод\n",
    "\n",
    "1) тариф smart приносит (для всех клиентов. Из-за большего количества пользователей) больше прибыли, чем ultra;\n",
    "\n",
    "2) в тарифе ultra есть явный избыток предоставляемых услуг. Стоит поработать с условиями, либо создать третий тариф с некими \"средними\" условиями;\n",
    "\n",
    "3) Гипотеза \"средняя выручка пользователей тарифов «Ультра» и «Смарт» различаются\" подтвердилась;\n",
    "\n",
    "~4) Гипотеза \"средняя выручка пользователей из Москвы отличается от выручки пользователей из других регионов.\" тоже подтвердилась.~\n",
    "\n",
    "4) Гипотеза \"средняя выручка пользователей из Москвы отличается от выручки пользователей из других регионов.\" не подтвердилась."
   ]
  },
  {
   "cell_type": "markdown",
   "metadata": {},
   "source": [
    "<div class=\"alert alert-block alert-success\">\n",
    "    \n",
    "\n",
    "### Комментарий от ревьюера v_1\n",
    "Отлично\n",
    "    \n",
    "Отличный лаконичный вывод 👍🏻\n",
    "    \n",
    "Но его нужно пересмотреть после исправления проверки гипотез\n",
    "</div>"
   ]
  },
  {
   "cell_type": "markdown",
   "metadata": {},
   "source": [
    "<div class=\"alert alert-info\">\n",
    "    \n",
    "### Комментарий от студента v_1\n",
    "    \n",
    "После доработки существенных изменений не произошло. За исключением верности/не верности второй гипотизы. Однако ошибка была не столько в методе оценки, сколько в интерпретации результата (запутался короче😄)\n",
    "</div>"
   ]
  },
  {
   "cell_type": "markdown",
   "metadata": {},
   "source": [
    "<div class=\"alert alert-block alert-success\">\n",
    "\n",
    "    \n",
    "### Комментарий от ревьюера v_2\n",
    "\n",
    "👍🏻\n",
    "    \n",
    "Но еще раз подчеркну, что статистика не подтвержадет и не отвергает гипотезы\n",
    "    \n",
    "</div>"
   ]
  }
 ],
 "metadata": {
  "ExecuteTimeLog": [
   {
    "duration": 781,
    "start_time": "2022-01-24T12:56:16.049Z"
   },
   {
    "duration": 169,
    "start_time": "2022-01-24T12:56:45.145Z"
   },
   {
    "duration": 111,
    "start_time": "2022-01-24T12:56:48.897Z"
   },
   {
    "duration": 118,
    "start_time": "2022-01-24T12:57:49.895Z"
   },
   {
    "duration": 628,
    "start_time": "2022-01-24T12:57:59.973Z"
   },
   {
    "duration": 4,
    "start_time": "2022-01-24T12:58:18.645Z"
   },
   {
    "duration": 370,
    "start_time": "2022-01-24T13:00:08.022Z"
   },
   {
    "duration": 23,
    "start_time": "2022-01-24T13:00:10.857Z"
   },
   {
    "duration": 933,
    "start_time": "2022-01-24T13:01:35.979Z"
   },
   {
    "duration": 1451,
    "start_time": "2022-01-24T13:18:52.401Z"
   },
   {
    "duration": 1048,
    "start_time": "2022-01-24T13:18:53.855Z"
   },
   {
    "duration": 29,
    "start_time": "2022-01-24T13:18:54.906Z"
   },
   {
    "duration": 27,
    "start_time": "2022-01-24T13:18:54.937Z"
   },
   {
    "duration": 20,
    "start_time": "2022-01-24T13:18:54.969Z"
   },
   {
    "duration": 8,
    "start_time": "2022-01-24T13:18:54.992Z"
   },
   {
    "duration": 1433,
    "start_time": "2022-01-24T16:45:03.501Z"
   },
   {
    "duration": 1095,
    "start_time": "2022-01-24T16:45:04.936Z"
   },
   {
    "duration": 41,
    "start_time": "2022-01-24T16:45:06.035Z"
   },
   {
    "duration": 27,
    "start_time": "2022-01-24T16:45:06.079Z"
   },
   {
    "duration": 21,
    "start_time": "2022-01-24T16:45:06.109Z"
   },
   {
    "duration": 11,
    "start_time": "2022-01-24T16:45:06.161Z"
   },
   {
    "duration": 2008,
    "start_time": "2022-01-24T16:46:26.444Z"
   },
   {
    "duration": 130,
    "start_time": "2022-01-24T17:09:48.556Z"
   },
   {
    "duration": 8,
    "start_time": "2022-01-24T17:09:55.930Z"
   },
   {
    "duration": 9,
    "start_time": "2022-01-24T17:10:03.849Z"
   },
   {
    "duration": 8,
    "start_time": "2022-01-24T17:11:51.269Z"
   },
   {
    "duration": 515,
    "start_time": "2022-01-24T17:11:52.165Z"
   },
   {
    "duration": 24,
    "start_time": "2022-01-24T17:12:14.434Z"
   },
   {
    "duration": 2993,
    "start_time": "2022-01-24T17:12:28.180Z"
   },
   {
    "duration": 973,
    "start_time": "2022-01-24T17:13:29.215Z"
   },
   {
    "duration": 868,
    "start_time": "2022-01-24T17:14:20.602Z"
   },
   {
    "duration": 307,
    "start_time": "2022-01-24T17:16:55.363Z"
   },
   {
    "duration": 9,
    "start_time": "2022-01-24T17:17:14.906Z"
   },
   {
    "duration": 11,
    "start_time": "2022-01-24T17:17:29.694Z"
   },
   {
    "duration": 25,
    "start_time": "2022-01-24T17:17:43.928Z"
   },
   {
    "duration": 347,
    "start_time": "2022-01-24T17:18:03.431Z"
   },
   {
    "duration": 27,
    "start_time": "2022-01-24T17:18:09.792Z"
   },
   {
    "duration": 21,
    "start_time": "2022-01-24T17:18:12.787Z"
   },
   {
    "duration": 18,
    "start_time": "2022-01-24T17:18:14.094Z"
   },
   {
    "duration": 19,
    "start_time": "2022-01-24T17:18:15.208Z"
   },
   {
    "duration": 79,
    "start_time": "2022-01-24T17:19:50.261Z"
   },
   {
    "duration": 25,
    "start_time": "2022-01-24T17:19:55.806Z"
   },
   {
    "duration": 9512,
    "start_time": "2022-01-24T17:21:23.345Z"
   },
   {
    "duration": 49,
    "start_time": "2022-01-24T17:21:57.702Z"
   },
   {
    "duration": 57,
    "start_time": "2022-01-24T17:23:28.104Z"
   },
   {
    "duration": 42,
    "start_time": "2022-01-24T17:24:44.346Z"
   },
   {
    "duration": 16,
    "start_time": "2022-01-24T17:24:48.222Z"
   },
   {
    "duration": 46,
    "start_time": "2022-01-24T17:26:13.771Z"
   },
   {
    "duration": 17,
    "start_time": "2022-01-24T17:26:14.525Z"
   },
   {
    "duration": 2043,
    "start_time": "2022-01-24T17:26:31.343Z"
   },
   {
    "duration": 64,
    "start_time": "2022-01-24T17:26:41.900Z"
   },
   {
    "duration": 16,
    "start_time": "2022-01-24T17:26:42.605Z"
   },
   {
    "duration": 4,
    "start_time": "2022-01-24T17:33:23.410Z"
   },
   {
    "duration": 445,
    "start_time": "2022-01-24T17:34:44.356Z"
   },
   {
    "duration": 411,
    "start_time": "2022-01-24T17:37:32.215Z"
   },
   {
    "duration": 4,
    "start_time": "2022-01-24T17:37:47.692Z"
   },
   {
    "duration": 1188,
    "start_time": "2022-01-24T17:37:48.781Z"
   },
   {
    "duration": 27,
    "start_time": "2022-01-24T17:37:49.972Z"
   },
   {
    "duration": 24,
    "start_time": "2022-01-24T17:37:50.002Z"
   },
   {
    "duration": 37,
    "start_time": "2022-01-24T17:37:50.029Z"
   },
   {
    "duration": 9,
    "start_time": "2022-01-24T17:37:50.083Z"
   },
   {
    "duration": 439,
    "start_time": "2022-01-24T17:37:51.448Z"
   },
   {
    "duration": 637,
    "start_time": "2022-01-24T17:45:06.626Z"
   },
   {
    "duration": 372,
    "start_time": "2022-01-24T17:45:54.034Z"
   },
   {
    "duration": 121,
    "start_time": "2022-01-24T17:46:07.231Z"
   },
   {
    "duration": 131,
    "start_time": "2022-01-24T17:46:37.315Z"
   },
   {
    "duration": 9522,
    "start_time": "2022-01-24T18:00:26.619Z"
   },
   {
    "duration": 128,
    "start_time": "2022-01-24T18:00:59.512Z"
   },
   {
    "duration": 71,
    "start_time": "2022-01-24T18:01:27.698Z"
   },
   {
    "duration": 129,
    "start_time": "2022-01-24T18:01:28.909Z"
   },
   {
    "duration": 21,
    "start_time": "2022-01-24T18:01:36.932Z"
   },
   {
    "duration": 38,
    "start_time": "2022-01-24T18:02:52.221Z"
   },
   {
    "duration": 137,
    "start_time": "2022-01-24T18:02:52.713Z"
   },
   {
    "duration": 17,
    "start_time": "2022-01-24T18:02:53.520Z"
   },
   {
    "duration": 23,
    "start_time": "2022-01-24T18:05:00.812Z"
   },
   {
    "duration": 113,
    "start_time": "2022-01-24T18:05:21.885Z"
   },
   {
    "duration": 25,
    "start_time": "2022-01-24T18:05:22.407Z"
   },
   {
    "duration": 5,
    "start_time": "2022-01-24T18:07:18.572Z"
   },
   {
    "duration": 5,
    "start_time": "2022-01-24T18:07:46.435Z"
   },
   {
    "duration": 4,
    "start_time": "2022-01-24T18:07:51.647Z"
   },
   {
    "duration": 5,
    "start_time": "2022-01-24T18:08:01.162Z"
   },
   {
    "duration": 5,
    "start_time": "2022-01-24T18:08:06.376Z"
   },
   {
    "duration": 4,
    "start_time": "2022-01-24T18:08:13.875Z"
   },
   {
    "duration": 5,
    "start_time": "2022-01-24T18:08:25.611Z"
   },
   {
    "duration": 111,
    "start_time": "2022-01-24T18:08:49.656Z"
   },
   {
    "duration": 21,
    "start_time": "2022-01-24T18:08:50.203Z"
   },
   {
    "duration": 4,
    "start_time": "2022-01-24T18:12:04.419Z"
   },
   {
    "duration": 10794,
    "start_time": "2022-01-24T18:12:37.309Z"
   },
   {
    "duration": 64,
    "start_time": "2022-01-24T18:12:57.108Z"
   },
   {
    "duration": 69,
    "start_time": "2022-01-24T18:13:29.724Z"
   },
   {
    "duration": 25,
    "start_time": "2022-01-24T18:13:36.136Z"
   },
   {
    "duration": 1470,
    "start_time": "2022-01-24T18:14:07.261Z"
   },
   {
    "duration": 1072,
    "start_time": "2022-01-24T18:14:08.734Z"
   },
   {
    "duration": 29,
    "start_time": "2022-01-24T18:14:09.809Z"
   },
   {
    "duration": 22,
    "start_time": "2022-01-24T18:14:09.840Z"
   },
   {
    "duration": 19,
    "start_time": "2022-01-24T18:14:09.864Z"
   },
   {
    "duration": 10,
    "start_time": "2022-01-24T18:14:09.886Z"
   },
   {
    "duration": 145,
    "start_time": "2022-01-24T18:14:09.899Z"
   },
   {
    "duration": 137,
    "start_time": "2022-01-24T18:14:10.047Z"
   },
   {
    "duration": 24,
    "start_time": "2022-01-24T18:14:10.187Z"
   },
   {
    "duration": 119,
    "start_time": "2022-01-24T18:14:10.213Z"
   },
   {
    "duration": 33,
    "start_time": "2022-01-24T18:14:10.335Z"
   },
   {
    "duration": 3,
    "start_time": "2022-01-24T18:14:10.370Z"
   },
   {
    "duration": 85,
    "start_time": "2022-01-24T18:14:10.376Z"
   },
   {
    "duration": 25,
    "start_time": "2022-01-24T18:14:10.464Z"
   },
   {
    "duration": 1541,
    "start_time": "2022-01-25T16:19:38.033Z"
   },
   {
    "duration": 1136,
    "start_time": "2022-01-25T16:19:39.577Z"
   },
   {
    "duration": 28,
    "start_time": "2022-01-25T16:19:40.720Z"
   },
   {
    "duration": 23,
    "start_time": "2022-01-25T16:19:40.751Z"
   },
   {
    "duration": 29,
    "start_time": "2022-01-25T16:19:40.777Z"
   },
   {
    "duration": 12,
    "start_time": "2022-01-25T16:19:40.809Z"
   },
   {
    "duration": 198,
    "start_time": "2022-01-25T16:19:40.824Z"
   },
   {
    "duration": 281,
    "start_time": "2022-01-25T16:19:41.027Z"
   },
   {
    "duration": 31,
    "start_time": "2022-01-25T16:19:41.311Z"
   },
   {
    "duration": 214,
    "start_time": "2022-01-25T16:19:41.345Z"
   },
   {
    "duration": 34,
    "start_time": "2022-01-25T16:19:41.562Z"
   },
   {
    "duration": 125,
    "start_time": "2022-01-25T16:19:41.599Z"
   },
   {
    "duration": 47,
    "start_time": "2022-01-25T16:19:41.727Z"
   },
   {
    "duration": 64,
    "start_time": "2022-01-25T16:20:10.840Z"
   },
   {
    "duration": 26,
    "start_time": "2022-01-25T16:20:11.502Z"
   },
   {
    "duration": 63,
    "start_time": "2022-01-25T16:20:19.542Z"
   },
   {
    "duration": 24,
    "start_time": "2022-01-25T16:20:20.000Z"
   },
   {
    "duration": 3138,
    "start_time": "2022-01-25T16:20:35.070Z"
   },
   {
    "duration": 2753,
    "start_time": "2022-01-25T16:20:44.151Z"
   },
   {
    "duration": 68,
    "start_time": "2022-01-25T16:20:54.699Z"
   },
   {
    "duration": 24,
    "start_time": "2022-01-25T16:20:55.732Z"
   },
   {
    "duration": 7,
    "start_time": "2022-01-25T16:24:58.423Z"
   },
   {
    "duration": 8,
    "start_time": "2022-01-25T16:25:04.581Z"
   },
   {
    "duration": 381,
    "start_time": "2022-01-25T16:25:20.469Z"
   },
   {
    "duration": 32,
    "start_time": "2022-01-25T16:25:53.691Z"
   },
   {
    "duration": 17,
    "start_time": "2022-01-25T16:26:04.913Z"
   },
   {
    "duration": 119,
    "start_time": "2022-01-25T16:29:21.968Z"
   },
   {
    "duration": 385,
    "start_time": "2022-01-25T16:29:42.223Z"
   },
   {
    "duration": 78,
    "start_time": "2022-01-25T16:30:05.157Z"
   },
   {
    "duration": 153,
    "start_time": "2022-01-25T16:30:08.789Z"
   },
   {
    "duration": 22,
    "start_time": "2022-01-25T16:30:09.318Z"
   },
   {
    "duration": 92,
    "start_time": "2022-01-25T16:31:50.838Z"
   },
   {
    "duration": 134,
    "start_time": "2022-01-25T16:31:51.825Z"
   },
   {
    "duration": 1465,
    "start_time": "2022-01-25T16:32:28.688Z"
   },
   {
    "duration": 3739,
    "start_time": "2022-01-25T16:32:30.155Z"
   },
   {
    "duration": 31,
    "start_time": "2022-01-25T16:32:33.900Z"
   },
   {
    "duration": 24,
    "start_time": "2022-01-25T16:32:33.933Z"
   },
   {
    "duration": 19,
    "start_time": "2022-01-25T16:32:33.960Z"
   },
   {
    "duration": 8,
    "start_time": "2022-01-25T16:32:33.982Z"
   },
   {
    "duration": 253,
    "start_time": "2022-01-25T16:32:33.992Z"
   },
   {
    "duration": 32,
    "start_time": "2022-01-25T16:32:34.249Z"
   },
   {
    "duration": 20,
    "start_time": "2022-01-25T16:32:34.283Z"
   },
   {
    "duration": 130,
    "start_time": "2022-01-25T16:32:34.305Z"
   },
   {
    "duration": 33,
    "start_time": "2022-01-25T16:32:34.437Z"
   },
   {
    "duration": 32,
    "start_time": "2022-01-25T16:32:34.473Z"
   },
   {
    "duration": 3,
    "start_time": "2022-01-25T16:32:34.508Z"
   },
   {
    "duration": 1641,
    "start_time": "2022-01-25T16:33:10.001Z"
   },
   {
    "duration": 1345,
    "start_time": "2022-01-25T16:33:11.645Z"
   },
   {
    "duration": 28,
    "start_time": "2022-01-25T16:33:12.993Z"
   },
   {
    "duration": 22,
    "start_time": "2022-01-25T16:33:13.024Z"
   },
   {
    "duration": 20,
    "start_time": "2022-01-25T16:33:13.048Z"
   },
   {
    "duration": 8,
    "start_time": "2022-01-25T16:33:13.071Z"
   },
   {
    "duration": 254,
    "start_time": "2022-01-25T16:33:13.081Z"
   },
   {
    "duration": 27,
    "start_time": "2022-01-25T16:33:13.338Z"
   },
   {
    "duration": 19,
    "start_time": "2022-01-25T16:33:13.367Z"
   },
   {
    "duration": 22,
    "start_time": "2022-01-25T16:33:13.388Z"
   },
   {
    "duration": 19,
    "start_time": "2022-01-25T16:33:13.412Z"
   },
   {
    "duration": 5,
    "start_time": "2022-01-25T16:33:13.434Z"
   },
   {
    "duration": 506,
    "start_time": "2022-01-25T16:34:23.080Z"
   },
   {
    "duration": 404,
    "start_time": "2022-01-25T16:34:44.551Z"
   },
   {
    "duration": 1275,
    "start_time": "2022-01-25T16:35:55.221Z"
   },
   {
    "duration": 112,
    "start_time": "2022-01-25T16:37:05.869Z"
   },
   {
    "duration": 76,
    "start_time": "2022-01-25T16:38:35.584Z"
   },
   {
    "duration": 39,
    "start_time": "2022-01-25T16:38:38.448Z"
   },
   {
    "duration": 86,
    "start_time": "2022-01-25T16:38:43.152Z"
   },
   {
    "duration": 36,
    "start_time": "2022-01-25T16:40:42.078Z"
   },
   {
    "duration": 1584,
    "start_time": "2022-01-25T16:41:37.566Z"
   },
   {
    "duration": 2071,
    "start_time": "2022-01-25T16:41:39.153Z"
   },
   {
    "duration": 42,
    "start_time": "2022-01-25T16:41:41.229Z"
   },
   {
    "duration": 31,
    "start_time": "2022-01-25T16:41:41.275Z"
   },
   {
    "duration": 50,
    "start_time": "2022-01-25T16:41:41.309Z"
   },
   {
    "duration": 12,
    "start_time": "2022-01-25T16:41:41.362Z"
   },
   {
    "duration": 251,
    "start_time": "2022-01-25T16:41:41.376Z"
   },
   {
    "duration": 34,
    "start_time": "2022-01-25T16:41:41.631Z"
   },
   {
    "duration": 22,
    "start_time": "2022-01-25T16:41:41.668Z"
   },
   {
    "duration": 24,
    "start_time": "2022-01-25T16:41:41.693Z"
   },
   {
    "duration": 42,
    "start_time": "2022-01-25T16:41:41.719Z"
   },
   {
    "duration": 96,
    "start_time": "2022-01-25T16:41:41.763Z"
   },
   {
    "duration": 480,
    "start_time": "2022-01-25T16:42:02.153Z"
   },
   {
    "duration": 1490,
    "start_time": "2022-01-25T16:42:06.647Z"
   },
   {
    "duration": 1504,
    "start_time": "2022-01-25T16:42:18.055Z"
   },
   {
    "duration": 1084,
    "start_time": "2022-01-25T16:42:19.562Z"
   },
   {
    "duration": 29,
    "start_time": "2022-01-25T16:42:20.649Z"
   },
   {
    "duration": 27,
    "start_time": "2022-01-25T16:42:20.682Z"
   },
   {
    "duration": 19,
    "start_time": "2022-01-25T16:42:20.711Z"
   },
   {
    "duration": 31,
    "start_time": "2022-01-25T16:42:20.732Z"
   },
   {
    "duration": 242,
    "start_time": "2022-01-25T16:42:20.766Z"
   },
   {
    "duration": 22,
    "start_time": "2022-01-25T16:42:21.012Z"
   },
   {
    "duration": 41,
    "start_time": "2022-01-25T16:42:21.037Z"
   },
   {
    "duration": 23,
    "start_time": "2022-01-25T16:42:21.080Z"
   },
   {
    "duration": 4,
    "start_time": "2022-01-25T16:42:21.106Z"
   },
   {
    "duration": 136,
    "start_time": "2022-01-25T16:42:21.113Z"
   },
   {
    "duration": 56,
    "start_time": "2022-01-25T16:42:21.252Z"
   },
   {
    "duration": 651,
    "start_time": "2022-01-25T16:42:46.729Z"
   },
   {
    "duration": 36,
    "start_time": "2022-01-25T16:43:00.727Z"
   },
   {
    "duration": 47,
    "start_time": "2022-01-25T16:43:10.227Z"
   },
   {
    "duration": 14,
    "start_time": "2022-01-25T16:43:45.360Z"
   },
   {
    "duration": 12,
    "start_time": "2022-01-25T16:43:50.274Z"
   },
   {
    "duration": 370,
    "start_time": "2022-01-25T16:44:05.358Z"
   },
   {
    "duration": 394,
    "start_time": "2022-01-25T16:44:26.229Z"
   },
   {
    "duration": 25,
    "start_time": "2022-01-25T16:44:39.570Z"
   },
   {
    "duration": 31,
    "start_time": "2022-01-25T16:45:09.728Z"
   },
   {
    "duration": 52,
    "start_time": "2022-01-25T16:45:50.667Z"
   },
   {
    "duration": 32,
    "start_time": "2022-01-25T16:45:56.434Z"
   },
   {
    "duration": 359,
    "start_time": "2022-01-25T16:49:13.017Z"
   },
   {
    "duration": 111,
    "start_time": "2022-01-25T16:49:26.567Z"
   },
   {
    "duration": 18,
    "start_time": "2022-01-25T16:49:27.575Z"
   },
   {
    "duration": 18,
    "start_time": "2022-01-25T16:49:27.764Z"
   },
   {
    "duration": 20,
    "start_time": "2022-01-25T16:49:27.968Z"
   },
   {
    "duration": 3,
    "start_time": "2022-01-25T16:49:28.151Z"
   },
   {
    "duration": 81,
    "start_time": "2022-01-25T16:49:28.353Z"
   },
   {
    "duration": 39,
    "start_time": "2022-01-25T16:49:28.735Z"
   },
   {
    "duration": 62,
    "start_time": "2022-01-25T16:49:29.347Z"
   },
   {
    "duration": 55,
    "start_time": "2022-01-25T16:49:29.870Z"
   },
   {
    "duration": 33,
    "start_time": "2022-01-25T16:49:30.577Z"
   },
   {
    "duration": 76,
    "start_time": "2022-01-25T16:50:06.277Z"
   },
   {
    "duration": 40,
    "start_time": "2022-01-25T16:50:06.583Z"
   },
   {
    "duration": 53,
    "start_time": "2022-01-25T16:50:08.238Z"
   },
   {
    "duration": 481,
    "start_time": "2022-01-25T16:50:42.823Z"
   },
   {
    "duration": 53,
    "start_time": "2022-01-25T16:50:45.375Z"
   },
   {
    "duration": 34,
    "start_time": "2022-01-25T16:50:45.699Z"
   },
   {
    "duration": 16,
    "start_time": "2022-01-25T16:51:55.578Z"
   },
   {
    "duration": 54,
    "start_time": "2022-01-25T16:53:12.956Z"
   },
   {
    "duration": 21,
    "start_time": "2022-01-25T16:54:27.277Z"
   },
   {
    "duration": 111,
    "start_time": "2022-01-25T16:55:34.699Z"
   },
   {
    "duration": 20,
    "start_time": "2022-01-25T16:55:35.230Z"
   },
   {
    "duration": 28,
    "start_time": "2022-01-25T16:55:35.467Z"
   },
   {
    "duration": 25,
    "start_time": "2022-01-25T16:55:35.669Z"
   },
   {
    "duration": 3,
    "start_time": "2022-01-25T16:55:35.868Z"
   },
   {
    "duration": 86,
    "start_time": "2022-01-25T16:55:36.083Z"
   },
   {
    "duration": 41,
    "start_time": "2022-01-25T16:55:36.358Z"
   },
   {
    "duration": 56,
    "start_time": "2022-01-25T16:55:36.565Z"
   },
   {
    "duration": 17,
    "start_time": "2022-01-25T16:55:37.412Z"
   },
   {
    "duration": 55,
    "start_time": "2022-01-25T16:55:38.028Z"
   },
   {
    "duration": 35,
    "start_time": "2022-01-25T16:55:38.574Z"
   },
   {
    "duration": 35,
    "start_time": "2022-01-25T16:55:39.532Z"
   },
   {
    "duration": 367,
    "start_time": "2022-01-25T16:55:40.240Z"
   },
   {
    "duration": 1470,
    "start_time": "2022-01-25T16:55:49.783Z"
   },
   {
    "duration": 2272,
    "start_time": "2022-01-25T16:55:51.256Z"
   },
   {
    "duration": 26,
    "start_time": "2022-01-25T16:55:53.531Z"
   },
   {
    "duration": 22,
    "start_time": "2022-01-25T16:55:53.560Z"
   },
   {
    "duration": 18,
    "start_time": "2022-01-25T16:55:53.585Z"
   },
   {
    "duration": 9,
    "start_time": "2022-01-25T16:55:53.606Z"
   },
   {
    "duration": 311,
    "start_time": "2022-01-25T16:55:53.617Z"
   },
   {
    "duration": 33,
    "start_time": "2022-01-25T16:55:53.933Z"
   },
   {
    "duration": 21,
    "start_time": "2022-01-25T16:55:53.969Z"
   },
   {
    "duration": 27,
    "start_time": "2022-01-25T16:55:53.993Z"
   },
   {
    "duration": 36,
    "start_time": "2022-01-25T16:55:54.023Z"
   },
   {
    "duration": 101,
    "start_time": "2022-01-25T16:55:54.063Z"
   },
   {
    "duration": 38,
    "start_time": "2022-01-25T16:55:54.166Z"
   },
   {
    "duration": 647,
    "start_time": "2022-01-25T16:55:54.206Z"
   },
   {
    "duration": -5201,
    "start_time": "2022-01-25T16:56:00.057Z"
   },
   {
    "duration": -5203,
    "start_time": "2022-01-25T16:56:00.060Z"
   },
   {
    "duration": -5203,
    "start_time": "2022-01-25T16:56:00.062Z"
   },
   {
    "duration": -5203,
    "start_time": "2022-01-25T16:56:00.063Z"
   },
   {
    "duration": -5203,
    "start_time": "2022-01-25T16:56:00.065Z"
   },
   {
    "duration": 17,
    "start_time": "2022-01-25T16:56:00.950Z"
   },
   {
    "duration": 19,
    "start_time": "2022-01-25T16:56:02.952Z"
   },
   {
    "duration": 54,
    "start_time": "2022-01-25T16:56:08.183Z"
   },
   {
    "duration": 34,
    "start_time": "2022-01-25T16:56:15.745Z"
   },
   {
    "duration": 44,
    "start_time": "2022-01-25T16:56:21.928Z"
   },
   {
    "duration": 28,
    "start_time": "2022-01-25T16:56:30.732Z"
   },
   {
    "duration": 103,
    "start_time": "2022-01-25T16:58:12.639Z"
   },
   {
    "duration": 34,
    "start_time": "2022-01-25T16:58:18.510Z"
   },
   {
    "duration": 28,
    "start_time": "2022-01-25T16:59:43.076Z"
   },
   {
    "duration": 15,
    "start_time": "2022-01-25T16:59:44.583Z"
   },
   {
    "duration": 55,
    "start_time": "2022-01-25T16:59:44.981Z"
   },
   {
    "duration": 33,
    "start_time": "2022-01-25T16:59:45.275Z"
   },
   {
    "duration": 52,
    "start_time": "2022-01-25T16:59:45.491Z"
   },
   {
    "duration": 98,
    "start_time": "2022-01-25T16:59:46.036Z"
   },
   {
    "duration": 33,
    "start_time": "2022-01-25T16:59:46.451Z"
   },
   {
    "duration": 33,
    "start_time": "2022-01-25T16:59:46.871Z"
   },
   {
    "duration": 78,
    "start_time": "2022-01-25T17:00:49.041Z"
   },
   {
    "duration": 19,
    "start_time": "2022-01-25T17:01:00.827Z"
   },
   {
    "duration": 21,
    "start_time": "2022-01-25T17:01:16.488Z"
   },
   {
    "duration": 18,
    "start_time": "2022-01-25T17:01:17.060Z"
   },
   {
    "duration": 17,
    "start_time": "2022-01-25T17:01:47.470Z"
   },
   {
    "duration": 13,
    "start_time": "2022-01-25T17:01:57.081Z"
   },
   {
    "duration": 1238,
    "start_time": "2022-01-25T17:02:19.315Z"
   },
   {
    "duration": 384,
    "start_time": "2022-01-25T17:02:24.024Z"
   },
   {
    "duration": 29,
    "start_time": "2022-01-25T17:03:36.980Z"
   },
   {
    "duration": 20,
    "start_time": "2022-01-25T17:04:04.085Z"
   },
   {
    "duration": 38,
    "start_time": "2022-01-25T17:04:04.866Z"
   },
   {
    "duration": 129,
    "start_time": "2022-01-25T17:08:32.924Z"
   },
   {
    "duration": 21,
    "start_time": "2022-01-25T17:08:33.557Z"
   },
   {
    "duration": 3,
    "start_time": "2022-01-25T17:09:11.201Z"
   },
   {
    "duration": 71,
    "start_time": "2022-01-25T17:09:11.521Z"
   },
   {
    "duration": 42,
    "start_time": "2022-01-25T17:09:12.045Z"
   },
   {
    "duration": 66,
    "start_time": "2022-01-25T17:09:14.700Z"
   },
   {
    "duration": 15,
    "start_time": "2022-01-25T17:09:15.294Z"
   },
   {
    "duration": 53,
    "start_time": "2022-01-25T17:09:15.933Z"
   },
   {
    "duration": 33,
    "start_time": "2022-01-25T17:09:16.415Z"
   },
   {
    "duration": 42,
    "start_time": "2022-01-25T17:09:16.924Z"
   },
   {
    "duration": 102,
    "start_time": "2022-01-25T17:09:17.650Z"
   },
   {
    "duration": 35,
    "start_time": "2022-01-25T17:09:18.490Z"
   },
   {
    "duration": 71,
    "start_time": "2022-01-25T17:09:34.940Z"
   },
   {
    "duration": 38,
    "start_time": "2022-01-25T17:09:36.526Z"
   },
   {
    "duration": 21,
    "start_time": "2022-01-25T17:09:42.404Z"
   },
   {
    "duration": 40,
    "start_time": "2022-01-25T17:09:42.779Z"
   },
   {
    "duration": 425,
    "start_time": "2022-01-25T17:10:39.524Z"
   },
   {
    "duration": 21,
    "start_time": "2022-01-25T17:10:44.021Z"
   },
   {
    "duration": 23,
    "start_time": "2022-01-25T17:10:45.925Z"
   },
   {
    "duration": 11,
    "start_time": "2022-01-25T17:10:56.584Z"
   },
   {
    "duration": 23,
    "start_time": "2022-01-25T17:11:13.456Z"
   },
   {
    "duration": 24,
    "start_time": "2022-01-25T17:12:28.419Z"
   },
   {
    "duration": 40,
    "start_time": "2022-01-25T17:13:16.293Z"
   },
   {
    "duration": 16,
    "start_time": "2022-01-25T17:13:17.249Z"
   },
   {
    "duration": 21,
    "start_time": "2022-01-25T17:13:31.135Z"
   },
   {
    "duration": 93,
    "start_time": "2022-01-25T17:13:32.449Z"
   },
   {
    "duration": 35,
    "start_time": "2022-01-25T17:13:33.448Z"
   },
   {
    "duration": 70,
    "start_time": "2022-01-25T17:13:47.972Z"
   },
   {
    "duration": 21,
    "start_time": "2022-01-25T17:13:50.153Z"
   },
   {
    "duration": 24,
    "start_time": "2022-01-25T17:13:50.726Z"
   },
   {
    "duration": 24,
    "start_time": "2022-01-25T17:14:10.964Z"
   },
   {
    "duration": 24,
    "start_time": "2022-01-25T17:14:43.151Z"
   },
   {
    "duration": 513,
    "start_time": "2022-01-25T17:18:29.931Z"
   },
   {
    "duration": 117,
    "start_time": "2022-01-25T17:18:37.057Z"
   },
   {
    "duration": 131,
    "start_time": "2022-01-25T17:22:59.529Z"
   },
   {
    "duration": 126,
    "start_time": "2022-01-25T17:23:17.599Z"
   },
   {
    "duration": 120,
    "start_time": "2022-01-25T17:23:26.382Z"
   },
   {
    "duration": 123,
    "start_time": "2022-01-25T17:23:30.991Z"
   },
   {
    "duration": 630,
    "start_time": "2022-01-25T17:23:34.911Z"
   },
   {
    "duration": 1617,
    "start_time": "2022-01-25T17:23:42.709Z"
   },
   {
    "duration": 5,
    "start_time": "2022-01-25T17:27:19.079Z"
   },
   {
    "duration": 27,
    "start_time": "2022-01-25T17:27:24.391Z"
   },
   {
    "duration": 122,
    "start_time": "2022-01-25T17:28:37.402Z"
   },
   {
    "duration": 131,
    "start_time": "2022-01-25T17:28:43.650Z"
   },
   {
    "duration": 6,
    "start_time": "2022-01-25T17:28:49.363Z"
   },
   {
    "duration": 25,
    "start_time": "2022-01-25T17:28:51.342Z"
   },
   {
    "duration": 1589,
    "start_time": "2022-01-25T17:29:15.026Z"
   },
   {
    "duration": 969,
    "start_time": "2022-01-25T17:29:16.618Z"
   },
   {
    "duration": 29,
    "start_time": "2022-01-25T17:29:17.590Z"
   },
   {
    "duration": 23,
    "start_time": "2022-01-25T17:29:17.622Z"
   },
   {
    "duration": 19,
    "start_time": "2022-01-25T17:29:17.648Z"
   },
   {
    "duration": 8,
    "start_time": "2022-01-25T17:29:17.670Z"
   },
   {
    "duration": 297,
    "start_time": "2022-01-25T17:29:17.681Z"
   },
   {
    "duration": 138,
    "start_time": "2022-01-25T17:29:17.982Z"
   },
   {
    "duration": 37,
    "start_time": "2022-01-25T17:29:18.124Z"
   },
   {
    "duration": 25,
    "start_time": "2022-01-25T17:29:18.163Z"
   },
   {
    "duration": 21,
    "start_time": "2022-01-25T17:29:18.190Z"
   },
   {
    "duration": 4,
    "start_time": "2022-01-25T17:29:18.213Z"
   },
   {
    "duration": 110,
    "start_time": "2022-01-25T17:29:18.219Z"
   },
   {
    "duration": 47,
    "start_time": "2022-01-25T17:29:18.331Z"
   },
   {
    "duration": 64,
    "start_time": "2022-01-25T17:29:18.380Z"
   },
   {
    "duration": 15,
    "start_time": "2022-01-25T17:29:18.459Z"
   },
   {
    "duration": 52,
    "start_time": "2022-01-25T17:29:18.477Z"
   },
   {
    "duration": 51,
    "start_time": "2022-01-25T17:29:18.531Z"
   },
   {
    "duration": 40,
    "start_time": "2022-01-25T17:29:18.585Z"
   },
   {
    "duration": 123,
    "start_time": "2022-01-25T17:29:18.627Z"
   },
   {
    "duration": 39,
    "start_time": "2022-01-25T17:29:18.752Z"
   },
   {
    "duration": 96,
    "start_time": "2022-01-25T17:29:18.793Z"
   },
   {
    "duration": 19,
    "start_time": "2022-01-25T17:29:18.894Z"
   },
   {
    "duration": 20,
    "start_time": "2022-01-25T17:29:18.916Z"
   },
   {
    "duration": 27,
    "start_time": "2022-01-25T17:29:18.938Z"
   },
   {
    "duration": 29,
    "start_time": "2022-01-25T17:29:18.967Z"
   },
   {
    "duration": 267,
    "start_time": "2022-01-25T17:29:53.272Z"
   },
   {
    "duration": 35,
    "start_time": "2022-01-25T17:29:54.140Z"
   },
   {
    "duration": 365,
    "start_time": "2022-01-25T17:30:35.905Z"
   },
   {
    "duration": 40,
    "start_time": "2022-01-25T17:30:36.772Z"
   },
   {
    "duration": 265,
    "start_time": "2022-01-25T17:30:58.548Z"
   },
   {
    "duration": 39,
    "start_time": "2022-01-25T17:30:59.113Z"
   },
   {
    "duration": 472,
    "start_time": "2022-01-25T17:31:15.459Z"
   },
   {
    "duration": 270,
    "start_time": "2022-01-25T17:31:27.906Z"
   },
   {
    "duration": 25,
    "start_time": "2022-01-25T17:35:47.672Z"
   },
   {
    "duration": 18,
    "start_time": "2022-01-25T17:35:47.868Z"
   },
   {
    "duration": 21,
    "start_time": "2022-01-25T17:35:48.039Z"
   },
   {
    "duration": 4,
    "start_time": "2022-01-25T17:35:48.579Z"
   },
   {
    "duration": 21,
    "start_time": "2022-01-25T17:35:49.664Z"
   },
   {
    "duration": 1012,
    "start_time": "2022-01-25T17:36:07.904Z"
   },
   {
    "duration": 466,
    "start_time": "2022-01-25T17:36:48.616Z"
   },
   {
    "duration": 12746,
    "start_time": "2022-01-25T17:37:20.392Z"
   },
   {
    "duration": 5,
    "start_time": "2022-01-25T17:47:49.607Z"
   },
   {
    "duration": 10995,
    "start_time": "2022-01-25T17:47:50.444Z"
   },
   {
    "duration": 23,
    "start_time": "2022-01-25T17:48:04.185Z"
   },
   {
    "duration": 5,
    "start_time": "2022-01-25T17:48:04.852Z"
   },
   {
    "duration": 12537,
    "start_time": "2022-01-25T17:48:05.390Z"
   },
   {
    "duration": 4,
    "start_time": "2022-01-25T17:48:18.568Z"
   },
   {
    "duration": 88,
    "start_time": "2022-01-25T17:48:19.041Z"
   },
   {
    "duration": 25,
    "start_time": "2022-01-25T17:48:23.069Z"
   },
   {
    "duration": 4,
    "start_time": "2022-01-25T17:49:02.739Z"
   },
   {
    "duration": 92,
    "start_time": "2022-01-25T17:49:03.270Z"
   },
   {
    "duration": 23,
    "start_time": "2022-01-25T17:49:03.758Z"
   },
   {
    "duration": 5,
    "start_time": "2022-01-25T17:49:09.408Z"
   },
   {
    "duration": 90,
    "start_time": "2022-01-25T17:49:09.743Z"
   },
   {
    "duration": 22,
    "start_time": "2022-01-25T17:49:10.140Z"
   },
   {
    "duration": 10,
    "start_time": "2022-01-25T17:52:28.972Z"
   },
   {
    "duration": 6,
    "start_time": "2022-01-25T17:52:41.791Z"
   },
   {
    "duration": 24,
    "start_time": "2022-01-25T17:52:42.282Z"
   },
   {
    "duration": 7,
    "start_time": "2022-01-25T17:53:17.246Z"
   },
   {
    "duration": 26,
    "start_time": "2022-01-25T17:53:18.632Z"
   },
   {
    "duration": 6,
    "start_time": "2022-01-25T17:55:16.145Z"
   },
   {
    "duration": 4,
    "start_time": "2022-01-25T17:55:17.078Z"
   },
   {
    "duration": 28,
    "start_time": "2022-01-25T17:55:17.556Z"
   },
   {
    "duration": 1589,
    "start_time": "2022-01-25T17:55:29.617Z"
   },
   {
    "duration": 2712,
    "start_time": "2022-01-25T17:55:31.209Z"
   },
   {
    "duration": 30,
    "start_time": "2022-01-25T17:55:33.928Z"
   },
   {
    "duration": 25,
    "start_time": "2022-01-25T17:55:33.960Z"
   },
   {
    "duration": 22,
    "start_time": "2022-01-25T17:55:33.988Z"
   },
   {
    "duration": 9,
    "start_time": "2022-01-25T17:55:34.013Z"
   },
   {
    "duration": 313,
    "start_time": "2022-01-25T17:55:34.025Z"
   },
   {
    "duration": 141,
    "start_time": "2022-01-25T17:55:34.341Z"
   },
   {
    "duration": 23,
    "start_time": "2022-01-25T17:55:34.484Z"
   },
   {
    "duration": 52,
    "start_time": "2022-01-25T17:55:34.509Z"
   },
   {
    "duration": 21,
    "start_time": "2022-01-25T17:55:34.563Z"
   },
   {
    "duration": 100,
    "start_time": "2022-01-25T17:55:34.586Z"
   },
   {
    "duration": 38,
    "start_time": "2022-01-25T17:55:34.689Z"
   },
   {
    "duration": 88,
    "start_time": "2022-01-25T17:55:34.729Z"
   },
   {
    "duration": 18,
    "start_time": "2022-01-25T17:55:34.819Z"
   },
   {
    "duration": 65,
    "start_time": "2022-01-25T17:55:34.839Z"
   },
   {
    "duration": 55,
    "start_time": "2022-01-25T17:55:34.906Z"
   },
   {
    "duration": 36,
    "start_time": "2022-01-25T17:55:34.963Z"
   },
   {
    "duration": 124,
    "start_time": "2022-01-25T17:55:35.002Z"
   },
   {
    "duration": 44,
    "start_time": "2022-01-25T17:55:35.128Z"
   },
   {
    "duration": 88,
    "start_time": "2022-01-25T17:55:35.174Z"
   },
   {
    "duration": 18,
    "start_time": "2022-01-25T17:55:35.267Z"
   },
   {
    "duration": 9,
    "start_time": "2022-01-25T17:55:35.288Z"
   },
   {
    "duration": 3,
    "start_time": "2022-01-25T17:55:35.300Z"
   },
   {
    "duration": 54,
    "start_time": "2022-01-25T17:55:35.306Z"
   },
   {
    "duration": 306,
    "start_time": "2022-01-25T17:55:35.363Z"
   },
   {
    "duration": -5175,
    "start_time": "2022-01-25T17:55:40.847Z"
   },
   {
    "duration": -5176,
    "start_time": "2022-01-25T17:55:40.849Z"
   },
   {
    "duration": -5176,
    "start_time": "2022-01-25T17:55:40.851Z"
   },
   {
    "duration": 8,
    "start_time": "2022-01-25T17:57:40.560Z"
   },
   {
    "duration": 3,
    "start_time": "2022-01-25T17:57:41.598Z"
   },
   {
    "duration": 24,
    "start_time": "2022-01-25T17:57:42.009Z"
   },
   {
    "duration": 7,
    "start_time": "2022-01-25T17:58:22.092Z"
   },
   {
    "duration": 3,
    "start_time": "2022-01-25T17:58:22.459Z"
   },
   {
    "duration": 23,
    "start_time": "2022-01-25T17:58:22.822Z"
   },
   {
    "duration": 7,
    "start_time": "2022-01-25T17:58:37.113Z"
   },
   {
    "duration": 4,
    "start_time": "2022-01-25T17:58:37.452Z"
   },
   {
    "duration": 23,
    "start_time": "2022-01-25T17:58:37.715Z"
   },
   {
    "duration": 7,
    "start_time": "2022-01-25T17:58:45.854Z"
   },
   {
    "duration": 3,
    "start_time": "2022-01-25T17:58:49.517Z"
   },
   {
    "duration": 23,
    "start_time": "2022-01-25T17:58:49.895Z"
   },
   {
    "duration": 7,
    "start_time": "2022-01-25T17:58:56.588Z"
   },
   {
    "duration": 3,
    "start_time": "2022-01-25T17:58:56.913Z"
   },
   {
    "duration": 24,
    "start_time": "2022-01-25T17:58:57.130Z"
   },
   {
    "duration": 1444,
    "start_time": "2022-01-25T18:01:03.781Z"
   },
   {
    "duration": 2610,
    "start_time": "2022-01-25T18:01:05.228Z"
   },
   {
    "duration": 28,
    "start_time": "2022-01-25T18:01:07.841Z"
   },
   {
    "duration": 23,
    "start_time": "2022-01-25T18:01:07.871Z"
   },
   {
    "duration": 20,
    "start_time": "2022-01-25T18:01:07.896Z"
   },
   {
    "duration": 9,
    "start_time": "2022-01-25T18:01:07.918Z"
   },
   {
    "duration": 286,
    "start_time": "2022-01-25T18:01:07.959Z"
   },
   {
    "duration": 140,
    "start_time": "2022-01-25T18:01:08.247Z"
   },
   {
    "duration": 24,
    "start_time": "2022-01-25T18:01:08.391Z"
   },
   {
    "duration": 45,
    "start_time": "2022-01-25T18:01:08.418Z"
   },
   {
    "duration": 21,
    "start_time": "2022-01-25T18:01:08.466Z"
   },
   {
    "duration": 99,
    "start_time": "2022-01-25T18:01:08.489Z"
   },
   {
    "duration": 39,
    "start_time": "2022-01-25T18:01:08.590Z"
   },
   {
    "duration": 90,
    "start_time": "2022-01-25T18:01:08.632Z"
   },
   {
    "duration": 18,
    "start_time": "2022-01-25T18:01:08.724Z"
   },
   {
    "duration": 54,
    "start_time": "2022-01-25T18:01:08.759Z"
   },
   {
    "duration": 49,
    "start_time": "2022-01-25T18:01:08.816Z"
   },
   {
    "duration": 42,
    "start_time": "2022-01-25T18:01:08.868Z"
   },
   {
    "duration": 122,
    "start_time": "2022-01-25T18:01:08.913Z"
   },
   {
    "duration": 41,
    "start_time": "2022-01-25T18:01:09.038Z"
   },
   {
    "duration": 86,
    "start_time": "2022-01-25T18:01:09.082Z"
   },
   {
    "duration": 19,
    "start_time": "2022-01-25T18:01:09.170Z"
   },
   {
    "duration": 13,
    "start_time": "2022-01-25T18:01:09.191Z"
   },
   {
    "duration": 4,
    "start_time": "2022-01-25T18:01:09.206Z"
   },
   {
    "duration": 58,
    "start_time": "2022-01-25T18:01:09.213Z"
   },
   {
    "duration": 181,
    "start_time": "2022-01-25T18:01:09.274Z"
   },
   {
    "duration": -5167,
    "start_time": "2022-01-25T18:01:14.624Z"
   },
   {
    "duration": -5173,
    "start_time": "2022-01-25T18:01:14.632Z"
   },
   {
    "duration": -5174,
    "start_time": "2022-01-25T18:01:14.634Z"
   },
   {
    "duration": 19,
    "start_time": "2022-01-25T18:01:35.166Z"
   },
   {
    "duration": 5,
    "start_time": "2022-01-25T18:01:35.385Z"
   },
   {
    "duration": 3,
    "start_time": "2022-01-25T18:01:35.582Z"
   },
   {
    "duration": 24,
    "start_time": "2022-01-25T18:01:35.769Z"
   },
   {
    "duration": 567,
    "start_time": "2022-01-25T18:02:37.160Z"
   },
   {
    "duration": 1856,
    "start_time": "2022-01-25T18:03:05.074Z"
   },
   {
    "duration": 8,
    "start_time": "2022-01-25T18:03:36.106Z"
   },
   {
    "duration": 3,
    "start_time": "2022-01-25T18:03:37.228Z"
   },
   {
    "duration": 24,
    "start_time": "2022-01-25T18:03:37.690Z"
   },
   {
    "duration": 1496,
    "start_time": "2022-01-25T18:03:52.202Z"
   },
   {
    "duration": 2254,
    "start_time": "2022-01-25T18:03:53.701Z"
   },
   {
    "duration": 29,
    "start_time": "2022-01-25T18:03:55.958Z"
   },
   {
    "duration": 24,
    "start_time": "2022-01-25T18:03:55.990Z"
   },
   {
    "duration": 43,
    "start_time": "2022-01-25T18:03:56.017Z"
   },
   {
    "duration": 12,
    "start_time": "2022-01-25T18:03:56.063Z"
   },
   {
    "duration": 370,
    "start_time": "2022-01-25T18:03:56.078Z"
   },
   {
    "duration": 144,
    "start_time": "2022-01-25T18:03:56.451Z"
   },
   {
    "duration": 24,
    "start_time": "2022-01-25T18:03:56.598Z"
   },
   {
    "duration": 45,
    "start_time": "2022-01-25T18:03:56.624Z"
   },
   {
    "duration": 20,
    "start_time": "2022-01-25T18:03:56.672Z"
   },
   {
    "duration": 97,
    "start_time": "2022-01-25T18:03:56.694Z"
   },
   {
    "duration": 38,
    "start_time": "2022-01-25T18:03:56.793Z"
   },
   {
    "duration": 84,
    "start_time": "2022-01-25T18:03:56.833Z"
   },
   {
    "duration": 17,
    "start_time": "2022-01-25T18:03:56.919Z"
   },
   {
    "duration": 54,
    "start_time": "2022-01-25T18:03:56.959Z"
   },
   {
    "duration": 52,
    "start_time": "2022-01-25T18:03:57.016Z"
   },
   {
    "duration": 36,
    "start_time": "2022-01-25T18:03:57.071Z"
   },
   {
    "duration": 119,
    "start_time": "2022-01-25T18:03:57.110Z"
   },
   {
    "duration": 40,
    "start_time": "2022-01-25T18:03:57.232Z"
   },
   {
    "duration": 88,
    "start_time": "2022-01-25T18:03:57.275Z"
   },
   {
    "duration": 19,
    "start_time": "2022-01-25T18:03:57.366Z"
   },
   {
    "duration": 13,
    "start_time": "2022-01-25T18:03:57.390Z"
   },
   {
    "duration": 3,
    "start_time": "2022-01-25T18:03:57.405Z"
   },
   {
    "duration": 49,
    "start_time": "2022-01-25T18:03:57.410Z"
   },
   {
    "duration": 129,
    "start_time": "2022-01-25T18:03:57.462Z"
   },
   {
    "duration": -5174,
    "start_time": "2022-01-25T18:04:02.769Z"
   },
   {
    "duration": -5175,
    "start_time": "2022-01-25T18:04:02.772Z"
   },
   {
    "duration": -5174,
    "start_time": "2022-01-25T18:04:02.774Z"
   },
   {
    "duration": 5,
    "start_time": "2022-01-25T18:04:15.152Z"
   },
   {
    "duration": 4,
    "start_time": "2022-01-25T18:04:15.438Z"
   },
   {
    "duration": 24,
    "start_time": "2022-01-25T18:04:15.654Z"
   },
   {
    "duration": 5,
    "start_time": "2022-01-25T18:04:33.518Z"
   },
   {
    "duration": 22,
    "start_time": "2022-01-25T18:04:33.895Z"
   },
   {
    "duration": 11,
    "start_time": "2022-01-25T18:04:40.900Z"
   },
   {
    "duration": 7,
    "start_time": "2022-01-25T18:04:50.524Z"
   },
   {
    "duration": 23,
    "start_time": "2022-01-25T18:04:56.418Z"
   },
   {
    "duration": 118,
    "start_time": "2022-01-25T18:05:55.311Z"
   },
   {
    "duration": 179,
    "start_time": "2022-01-25T18:06:07.566Z"
   },
   {
    "duration": 7,
    "start_time": "2022-01-25T18:06:23.660Z"
   },
   {
    "duration": 24,
    "start_time": "2022-01-25T18:06:24.598Z"
   },
   {
    "duration": 7,
    "start_time": "2022-01-25T18:06:38.603Z"
   },
   {
    "duration": 24,
    "start_time": "2022-01-25T18:06:39.152Z"
   },
   {
    "duration": 6,
    "start_time": "2022-01-25T18:07:00.165Z"
   },
   {
    "duration": 24,
    "start_time": "2022-01-25T18:07:00.584Z"
   },
   {
    "duration": 7,
    "start_time": "2022-01-25T18:07:35.637Z"
   },
   {
    "duration": 27,
    "start_time": "2022-01-25T18:07:35.952Z"
   },
   {
    "duration": 6,
    "start_time": "2022-01-25T18:07:53.659Z"
   },
   {
    "duration": 23,
    "start_time": "2022-01-25T18:07:54.038Z"
   },
   {
    "duration": 7,
    "start_time": "2022-01-25T18:08:00.096Z"
   },
   {
    "duration": 25,
    "start_time": "2022-01-25T18:08:00.414Z"
   },
   {
    "duration": 6,
    "start_time": "2022-01-25T18:08:05.540Z"
   },
   {
    "duration": 23,
    "start_time": "2022-01-25T18:08:05.957Z"
   },
   {
    "duration": 7,
    "start_time": "2022-01-25T18:08:10.087Z"
   },
   {
    "duration": 23,
    "start_time": "2022-01-25T18:08:10.431Z"
   },
   {
    "duration": 6,
    "start_time": "2022-01-25T18:08:14.023Z"
   },
   {
    "duration": 23,
    "start_time": "2022-01-25T18:08:14.999Z"
   },
   {
    "duration": 7,
    "start_time": "2022-01-25T18:08:26.138Z"
   },
   {
    "duration": 23,
    "start_time": "2022-01-25T18:08:26.552Z"
   },
   {
    "duration": 6,
    "start_time": "2022-01-25T18:08:30.378Z"
   },
   {
    "duration": 24,
    "start_time": "2022-01-25T18:08:30.823Z"
   },
   {
    "duration": 7,
    "start_time": "2022-01-25T18:08:39.198Z"
   },
   {
    "duration": 23,
    "start_time": "2022-01-25T18:08:39.888Z"
   },
   {
    "duration": 6,
    "start_time": "2022-01-25T18:08:48.490Z"
   },
   {
    "duration": 22,
    "start_time": "2022-01-25T18:08:48.771Z"
   },
   {
    "duration": 7,
    "start_time": "2022-01-25T18:09:01.219Z"
   },
   {
    "duration": 24,
    "start_time": "2022-01-25T18:09:01.591Z"
   },
   {
    "duration": 7,
    "start_time": "2022-01-25T18:09:15.299Z"
   },
   {
    "duration": 24,
    "start_time": "2022-01-25T18:09:15.745Z"
   },
   {
    "duration": 7,
    "start_time": "2022-01-25T18:09:20.598Z"
   },
   {
    "duration": 23,
    "start_time": "2022-01-25T18:09:21.014Z"
   },
   {
    "duration": 6,
    "start_time": "2022-01-25T18:10:14.330Z"
   },
   {
    "duration": 22,
    "start_time": "2022-01-25T18:10:14.748Z"
   },
   {
    "duration": 7,
    "start_time": "2022-01-25T18:10:28.160Z"
   },
   {
    "duration": 24,
    "start_time": "2022-01-25T18:10:28.540Z"
   },
   {
    "duration": 11,
    "start_time": "2022-01-25T18:10:34.025Z"
   },
   {
    "duration": 31,
    "start_time": "2022-01-25T18:10:34.260Z"
   },
   {
    "duration": 232,
    "start_time": "2022-01-25T18:10:34.785Z"
   },
   {
    "duration": 4,
    "start_time": "2022-01-25T18:12:01.180Z"
   },
   {
    "duration": 3,
    "start_time": "2022-01-25T18:12:03.032Z"
   },
   {
    "duration": 891,
    "start_time": "2022-01-25T18:12:03.540Z"
   },
   {
    "duration": 5,
    "start_time": "2022-01-25T18:12:47.830Z"
   },
   {
    "duration": 4,
    "start_time": "2022-01-25T18:12:48.794Z"
   },
   {
    "duration": 1106,
    "start_time": "2022-01-25T18:12:49.374Z"
   },
   {
    "duration": 4,
    "start_time": "2022-01-25T18:13:05.811Z"
   },
   {
    "duration": 3,
    "start_time": "2022-01-25T18:13:06.647Z"
   },
   {
    "duration": 821,
    "start_time": "2022-01-25T18:13:07.259Z"
   },
   {
    "duration": 5,
    "start_time": "2022-01-25T18:13:39.178Z"
   },
   {
    "duration": 6,
    "start_time": "2022-01-25T18:13:39.870Z"
   },
   {
    "duration": 790,
    "start_time": "2022-01-25T18:13:40.273Z"
   },
   {
    "duration": 118,
    "start_time": "2022-01-25T18:14:34.861Z"
   },
   {
    "duration": 5,
    "start_time": "2022-01-25T18:14:51.098Z"
   },
   {
    "duration": 3,
    "start_time": "2022-01-25T18:14:52.613Z"
   },
   {
    "duration": 781,
    "start_time": "2022-01-25T18:14:53.237Z"
   },
   {
    "duration": 4,
    "start_time": "2022-01-25T18:15:18.405Z"
   },
   {
    "duration": 4,
    "start_time": "2022-01-25T18:15:20.096Z"
   },
   {
    "duration": 89,
    "start_time": "2022-01-25T18:15:20.548Z"
   },
   {
    "duration": 29,
    "start_time": "2022-01-25T18:15:21.518Z"
   },
   {
    "duration": 5,
    "start_time": "2022-01-25T18:15:56.017Z"
   },
   {
    "duration": 4,
    "start_time": "2022-01-25T18:15:56.761Z"
   },
   {
    "duration": 96,
    "start_time": "2022-01-25T18:15:57.407Z"
   },
   {
    "duration": 24,
    "start_time": "2022-01-25T18:15:58.256Z"
   },
   {
    "duration": 10,
    "start_time": "2022-01-25T18:21:01.030Z"
   },
   {
    "duration": 11,
    "start_time": "2022-01-25T18:21:46.219Z"
   },
   {
    "duration": 4,
    "start_time": "2022-01-25T18:21:47.613Z"
   },
   {
    "duration": 86,
    "start_time": "2022-01-25T18:21:48.004Z"
   },
   {
    "duration": 37,
    "start_time": "2022-01-25T18:21:49.115Z"
   },
   {
    "duration": 8,
    "start_time": "2022-01-25T18:22:39.314Z"
   },
   {
    "duration": 4,
    "start_time": "2022-01-25T18:22:40.587Z"
   },
   {
    "duration": 173,
    "start_time": "2022-01-25T18:22:41.006Z"
   },
   {
    "duration": 44,
    "start_time": "2022-01-25T18:22:41.560Z"
   },
   {
    "duration": 10,
    "start_time": "2022-01-25T18:23:23.118Z"
   },
   {
    "duration": 9,
    "start_time": "2022-01-25T18:23:30.766Z"
   },
   {
    "duration": 30,
    "start_time": "2022-01-25T18:23:42.859Z"
   },
   {
    "duration": 6,
    "start_time": "2022-01-25T18:24:31.727Z"
   },
   {
    "duration": 4,
    "start_time": "2022-01-25T18:24:32.810Z"
   },
   {
    "duration": 87,
    "start_time": "2022-01-25T18:24:33.114Z"
   },
   {
    "duration": 41,
    "start_time": "2022-01-25T18:24:33.609Z"
   },
   {
    "duration": 5,
    "start_time": "2022-01-25T18:27:16.814Z"
   },
   {
    "duration": 4,
    "start_time": "2022-01-25T18:27:32.337Z"
   },
   {
    "duration": 158,
    "start_time": "2022-01-25T18:27:32.898Z"
   },
   {
    "duration": 28,
    "start_time": "2022-01-25T18:27:33.486Z"
   },
   {
    "duration": 130,
    "start_time": "2022-01-25T18:30:02.673Z"
   },
   {
    "duration": 164,
    "start_time": "2022-01-25T18:30:26.530Z"
   },
   {
    "duration": 117,
    "start_time": "2022-01-25T18:30:55.914Z"
   },
   {
    "duration": 4,
    "start_time": "2022-01-25T18:31:07.361Z"
   },
   {
    "duration": 3,
    "start_time": "2022-01-25T18:31:08.287Z"
   },
   {
    "duration": 88,
    "start_time": "2022-01-25T18:31:08.707Z"
   },
   {
    "duration": 28,
    "start_time": "2022-01-25T18:31:09.340Z"
   },
   {
    "duration": 28,
    "start_time": "2022-01-25T18:31:23.804Z"
   },
   {
    "duration": 85,
    "start_time": "2022-01-25T18:31:43.410Z"
   },
   {
    "duration": 29,
    "start_time": "2022-01-25T18:31:43.883Z"
   },
   {
    "duration": 7,
    "start_time": "2022-01-25T18:32:13.387Z"
   },
   {
    "duration": 3,
    "start_time": "2022-01-25T18:32:14.127Z"
   },
   {
    "duration": 93,
    "start_time": "2022-01-25T18:32:14.486Z"
   },
   {
    "duration": 28,
    "start_time": "2022-01-25T18:32:14.984Z"
   },
   {
    "duration": 1579,
    "start_time": "2022-01-25T18:32:28.076Z"
   },
   {
    "duration": 1246,
    "start_time": "2022-01-25T18:32:29.659Z"
   },
   {
    "duration": 28,
    "start_time": "2022-01-25T18:32:30.910Z"
   },
   {
    "duration": 30,
    "start_time": "2022-01-25T18:32:30.942Z"
   },
   {
    "duration": 22,
    "start_time": "2022-01-25T18:32:30.975Z"
   },
   {
    "duration": 10,
    "start_time": "2022-01-25T18:32:31.000Z"
   },
   {
    "duration": 400,
    "start_time": "2022-01-25T18:32:31.013Z"
   },
   {
    "duration": 203,
    "start_time": "2022-01-25T18:32:31.416Z"
   },
   {
    "duration": 43,
    "start_time": "2022-01-25T18:32:31.622Z"
   },
   {
    "duration": 35,
    "start_time": "2022-01-25T18:32:31.668Z"
   },
   {
    "duration": 58,
    "start_time": "2022-01-25T18:32:31.707Z"
   },
   {
    "duration": 121,
    "start_time": "2022-01-25T18:32:31.768Z"
   },
   {
    "duration": 67,
    "start_time": "2022-01-25T18:32:31.892Z"
   },
   {
    "duration": 97,
    "start_time": "2022-01-25T18:32:31.962Z"
   },
   {
    "duration": 19,
    "start_time": "2022-01-25T18:32:32.062Z"
   },
   {
    "duration": 76,
    "start_time": "2022-01-25T18:32:32.083Z"
   },
   {
    "duration": 37,
    "start_time": "2022-01-25T18:32:32.162Z"
   },
   {
    "duration": 75,
    "start_time": "2022-01-25T18:32:32.202Z"
   },
   {
    "duration": 128,
    "start_time": "2022-01-25T18:32:32.282Z"
   },
   {
    "duration": 58,
    "start_time": "2022-01-25T18:32:32.413Z"
   },
   {
    "duration": 95,
    "start_time": "2022-01-25T18:32:32.473Z"
   },
   {
    "duration": 21,
    "start_time": "2022-01-25T18:32:32.571Z"
   },
   {
    "duration": 15,
    "start_time": "2022-01-25T18:32:32.597Z"
   },
   {
    "duration": 60,
    "start_time": "2022-01-25T18:32:32.615Z"
   },
   {
    "duration": 7,
    "start_time": "2022-01-25T18:32:32.677Z"
   },
   {
    "duration": 26,
    "start_time": "2022-01-25T18:32:32.687Z"
   },
   {
    "duration": 49,
    "start_time": "2022-01-25T18:32:32.715Z"
   },
   {
    "duration": 6,
    "start_time": "2022-01-25T18:32:32.767Z"
   },
   {
    "duration": 17,
    "start_time": "2022-01-25T18:32:32.775Z"
   },
   {
    "duration": 687,
    "start_time": "2022-01-25T18:32:32.794Z"
   },
   {
    "duration": -5161,
    "start_time": "2022-01-25T18:32:38.645Z"
   },
   {
    "duration": 120,
    "start_time": "2022-01-25T18:32:55.496Z"
   },
   {
    "duration": 26,
    "start_time": "2022-01-25T18:32:56.406Z"
   },
   {
    "duration": 5,
    "start_time": "2022-01-25T18:34:14.226Z"
   },
   {
    "duration": 3,
    "start_time": "2022-01-25T18:34:17.925Z"
   },
   {
    "duration": 181,
    "start_time": "2022-01-25T18:34:18.352Z"
   },
   {
    "duration": 35,
    "start_time": "2022-01-25T18:34:18.805Z"
   },
   {
    "duration": 28,
    "start_time": "2022-01-25T18:36:10.749Z"
   },
   {
    "duration": 26,
    "start_time": "2022-01-25T18:36:26.217Z"
   },
   {
    "duration": 24,
    "start_time": "2022-01-25T18:37:16.630Z"
   },
   {
    "duration": 23,
    "start_time": "2022-01-25T18:37:23.508Z"
   },
   {
    "duration": 142,
    "start_time": "2022-01-25T18:39:34.004Z"
   },
   {
    "duration": 28,
    "start_time": "2022-01-25T18:39:50.781Z"
   },
   {
    "duration": 27,
    "start_time": "2022-01-25T18:40:26.612Z"
   },
   {
    "duration": 27,
    "start_time": "2022-01-25T18:40:35.559Z"
   },
   {
    "duration": 25,
    "start_time": "2022-01-25T18:41:13.720Z"
   },
   {
    "duration": 24,
    "start_time": "2022-01-25T18:41:26.537Z"
   },
   {
    "duration": 7,
    "start_time": "2022-01-25T18:44:29.483Z"
   },
   {
    "duration": 24,
    "start_time": "2022-01-25T18:44:35.625Z"
   },
   {
    "duration": 8,
    "start_time": "2022-01-25T18:44:46.133Z"
   },
   {
    "duration": 402,
    "start_time": "2022-01-25T18:45:08.933Z"
   },
   {
    "duration": 26,
    "start_time": "2022-01-25T18:45:09.465Z"
   },
   {
    "duration": 6,
    "start_time": "2022-01-25T18:45:33.184Z"
   },
   {
    "duration": 22,
    "start_time": "2022-01-25T18:45:38.305Z"
   },
   {
    "duration": 6,
    "start_time": "2022-01-25T18:46:07.624Z"
   },
   {
    "duration": 21,
    "start_time": "2022-01-25T18:46:07.995Z"
   },
   {
    "duration": 1486,
    "start_time": "2022-01-25T18:46:25.132Z"
   },
   {
    "duration": 3383,
    "start_time": "2022-01-25T18:46:26.621Z"
   },
   {
    "duration": 28,
    "start_time": "2022-01-25T18:46:30.007Z"
   },
   {
    "duration": 24,
    "start_time": "2022-01-25T18:46:30.038Z"
   },
   {
    "duration": 27,
    "start_time": "2022-01-25T18:46:30.070Z"
   },
   {
    "duration": 9,
    "start_time": "2022-01-25T18:46:30.099Z"
   },
   {
    "duration": 324,
    "start_time": "2022-01-25T18:46:30.111Z"
   },
   {
    "duration": 165,
    "start_time": "2022-01-25T18:46:30.441Z"
   },
   {
    "duration": 28,
    "start_time": "2022-01-25T18:46:30.610Z"
   },
   {
    "duration": 26,
    "start_time": "2022-01-25T18:46:30.661Z"
   },
   {
    "duration": 22,
    "start_time": "2022-01-25T18:46:30.690Z"
   },
   {
    "duration": 112,
    "start_time": "2022-01-25T18:46:30.714Z"
   },
   {
    "duration": 50,
    "start_time": "2022-01-25T18:46:30.829Z"
   },
   {
    "duration": 89,
    "start_time": "2022-01-25T18:46:30.882Z"
   },
   {
    "duration": 21,
    "start_time": "2022-01-25T18:46:30.974Z"
   },
   {
    "duration": 75,
    "start_time": "2022-01-25T18:46:30.997Z"
   },
   {
    "duration": 36,
    "start_time": "2022-01-25T18:46:31.075Z"
   },
   {
    "duration": 81,
    "start_time": "2022-01-25T18:46:31.113Z"
   },
   {
    "duration": 107,
    "start_time": "2022-01-25T18:46:31.197Z"
   },
   {
    "duration": 36,
    "start_time": "2022-01-25T18:46:31.306Z"
   },
   {
    "duration": 77,
    "start_time": "2022-01-25T18:46:31.361Z"
   },
   {
    "duration": 46,
    "start_time": "2022-01-25T18:46:31.442Z"
   },
   {
    "duration": 15,
    "start_time": "2022-01-25T18:46:31.495Z"
   },
   {
    "duration": 53,
    "start_time": "2022-01-25T18:46:31.514Z"
   },
   {
    "duration": 9,
    "start_time": "2022-01-25T18:46:31.572Z"
   },
   {
    "duration": 26,
    "start_time": "2022-01-25T18:46:31.584Z"
   },
   {
    "duration": 21,
    "start_time": "2022-01-25T18:46:31.613Z"
   },
   {
    "duration": 23,
    "start_time": "2022-01-25T18:46:31.637Z"
   },
   {
    "duration": 26,
    "start_time": "2022-01-25T18:46:31.663Z"
   },
   {
    "duration": 5,
    "start_time": "2022-01-25T18:46:31.692Z"
   },
   {
    "duration": 10,
    "start_time": "2022-01-25T18:46:31.699Z"
   },
   {
    "duration": 9,
    "start_time": "2022-01-25T18:46:31.711Z"
   },
   {
    "duration": 166,
    "start_time": "2022-01-25T18:46:31.723Z"
   },
   {
    "duration": 24,
    "start_time": "2022-01-25T18:46:31.891Z"
   },
   {
    "duration": 7,
    "start_time": "2022-01-25T18:47:33.090Z"
   },
   {
    "duration": 24,
    "start_time": "2022-01-25T18:47:34.241Z"
   },
   {
    "duration": 6,
    "start_time": "2022-01-25T18:48:00.623Z"
   },
   {
    "duration": 22,
    "start_time": "2022-01-25T18:48:00.972Z"
   },
   {
    "duration": 9,
    "start_time": "2022-01-25T18:48:13.906Z"
   },
   {
    "duration": 22,
    "start_time": "2022-01-25T18:48:43.302Z"
   },
   {
    "duration": 10,
    "start_time": "2022-01-25T18:48:51.968Z"
   },
   {
    "duration": 510,
    "start_time": "2022-01-25T18:49:18.872Z"
   },
   {
    "duration": 9,
    "start_time": "2022-01-25T18:50:35.042Z"
   },
   {
    "duration": 12,
    "start_time": "2022-01-25T18:50:36.036Z"
   },
   {
    "duration": 22,
    "start_time": "2022-01-25T18:50:43.201Z"
   },
   {
    "duration": 24,
    "start_time": "2022-01-25T18:50:55.852Z"
   },
   {
    "duration": 7,
    "start_time": "2022-01-25T18:51:03.772Z"
   },
   {
    "duration": 22,
    "start_time": "2022-01-25T18:51:04.243Z"
   },
   {
    "duration": 5,
    "start_time": "2022-01-25T18:53:20.045Z"
   },
   {
    "duration": 5,
    "start_time": "2022-01-25T18:53:25.058Z"
   },
   {
    "duration": 131,
    "start_time": "2022-01-25T18:53:36.077Z"
   },
   {
    "duration": 321,
    "start_time": "2022-01-25T18:53:54.882Z"
   },
   {
    "duration": 44,
    "start_time": "2022-01-25T18:53:55.548Z"
   },
   {
    "duration": 29,
    "start_time": "2022-01-25T18:54:14.959Z"
   },
   {
    "duration": 5,
    "start_time": "2022-01-25T18:58:51.987Z"
   },
   {
    "duration": 3,
    "start_time": "2022-01-25T18:58:53.707Z"
   },
   {
    "duration": 548,
    "start_time": "2022-01-25T18:59:13.949Z"
   },
   {
    "duration": 31,
    "start_time": "2022-01-25T18:59:14.528Z"
   },
   {
    "duration": 357,
    "start_time": "2022-01-25T18:59:44.532Z"
   },
   {
    "duration": 42,
    "start_time": "2022-01-25T18:59:44.896Z"
   },
   {
    "duration": 449,
    "start_time": "2022-01-25T19:01:13.541Z"
   },
   {
    "duration": 31,
    "start_time": "2022-01-25T19:01:14.751Z"
   },
   {
    "duration": 440,
    "start_time": "2022-01-25T19:04:36.789Z"
   },
   {
    "duration": 872,
    "start_time": "2022-01-25T19:05:14.217Z"
   },
   {
    "duration": 62,
    "start_time": "2022-01-25T19:05:23.892Z"
   },
   {
    "duration": 591,
    "start_time": "2022-01-25T19:07:13.219Z"
   },
   {
    "duration": 577,
    "start_time": "2022-01-25T19:07:46.150Z"
   },
   {
    "duration": 571,
    "start_time": "2022-01-25T19:08:16.443Z"
   },
   {
    "duration": 396,
    "start_time": "2022-01-25T19:08:28.198Z"
   },
   {
    "duration": 4,
    "start_time": "2022-01-25T19:10:24.319Z"
   },
   {
    "duration": 5,
    "start_time": "2022-01-25T19:11:00.336Z"
   },
   {
    "duration": 1389,
    "start_time": "2022-01-25T19:11:06.770Z"
   },
   {
    "duration": 31,
    "start_time": "2022-01-25T19:11:13.252Z"
   },
   {
    "duration": 4,
    "start_time": "2022-01-25T19:11:41.165Z"
   },
   {
    "duration": 90,
    "start_time": "2022-01-25T19:11:42.231Z"
   },
   {
    "duration": 33,
    "start_time": "2022-01-25T19:11:42.615Z"
   },
   {
    "duration": 27,
    "start_time": "2022-01-25T19:12:01.028Z"
   },
   {
    "duration": 4,
    "start_time": "2022-01-25T19:12:16.761Z"
   },
   {
    "duration": 95,
    "start_time": "2022-01-25T19:12:17.021Z"
   },
   {
    "duration": 26,
    "start_time": "2022-01-25T19:12:17.256Z"
   },
   {
    "duration": 5,
    "start_time": "2022-01-25T19:13:11.232Z"
   },
   {
    "duration": 32,
    "start_time": "2022-01-25T19:13:17.636Z"
   },
   {
    "duration": 1715,
    "start_time": "2022-01-25T19:13:33.927Z"
   },
   {
    "duration": 1348,
    "start_time": "2022-01-25T19:13:35.645Z"
   },
   {
    "duration": 29,
    "start_time": "2022-01-25T19:13:36.995Z"
   },
   {
    "duration": 22,
    "start_time": "2022-01-25T19:13:37.027Z"
   },
   {
    "duration": 18,
    "start_time": "2022-01-25T19:13:37.052Z"
   },
   {
    "duration": 9,
    "start_time": "2022-01-25T19:13:37.073Z"
   },
   {
    "duration": 292,
    "start_time": "2022-01-25T19:13:37.084Z"
   },
   {
    "duration": 144,
    "start_time": "2022-01-25T19:13:37.378Z"
   },
   {
    "duration": 23,
    "start_time": "2022-01-25T19:13:37.526Z"
   },
   {
    "duration": 24,
    "start_time": "2022-01-25T19:13:37.560Z"
   },
   {
    "duration": 21,
    "start_time": "2022-01-25T19:13:37.587Z"
   },
   {
    "duration": 109,
    "start_time": "2022-01-25T19:13:37.611Z"
   },
   {
    "duration": 45,
    "start_time": "2022-01-25T19:13:37.723Z"
   },
   {
    "duration": 69,
    "start_time": "2022-01-25T19:13:37.771Z"
   },
   {
    "duration": 31,
    "start_time": "2022-01-25T19:13:37.842Z"
   },
   {
    "duration": 52,
    "start_time": "2022-01-25T19:13:37.875Z"
   },
   {
    "duration": 56,
    "start_time": "2022-01-25T19:13:37.929Z"
   },
   {
    "duration": 41,
    "start_time": "2022-01-25T19:13:37.988Z"
   },
   {
    "duration": 128,
    "start_time": "2022-01-25T19:13:38.031Z"
   },
   {
    "duration": 35,
    "start_time": "2022-01-25T19:13:38.161Z"
   },
   {
    "duration": 92,
    "start_time": "2022-01-25T19:13:38.198Z"
   },
   {
    "duration": 19,
    "start_time": "2022-01-25T19:13:38.292Z"
   },
   {
    "duration": 12,
    "start_time": "2022-01-25T19:13:38.313Z"
   },
   {
    "duration": 45,
    "start_time": "2022-01-25T19:13:38.328Z"
   },
   {
    "duration": 6,
    "start_time": "2022-01-25T19:13:38.376Z"
   },
   {
    "duration": 28,
    "start_time": "2022-01-25T19:13:38.385Z"
   },
   {
    "duration": 9,
    "start_time": "2022-01-25T19:13:38.419Z"
   },
   {
    "duration": 6,
    "start_time": "2022-01-25T19:13:38.460Z"
   },
   {
    "duration": 24,
    "start_time": "2022-01-25T19:13:38.468Z"
   },
   {
    "duration": 5,
    "start_time": "2022-01-25T19:13:38.494Z"
   },
   {
    "duration": 5,
    "start_time": "2022-01-25T19:13:38.501Z"
   },
   {
    "duration": 6,
    "start_time": "2022-01-25T19:13:38.508Z"
   },
   {
    "duration": 6,
    "start_time": "2022-01-25T19:13:38.516Z"
   },
   {
    "duration": 351,
    "start_time": "2022-01-25T19:13:38.560Z"
   },
   {
    "duration": 32,
    "start_time": "2022-01-25T19:13:38.913Z"
   },
   {
    "duration": 4,
    "start_time": "2022-01-25T19:13:38.959Z"
   },
   {
    "duration": 124,
    "start_time": "2022-01-25T19:13:38.965Z"
   },
   {
    "duration": 29,
    "start_time": "2022-01-25T19:13:39.091Z"
   },
   {
    "duration": 4,
    "start_time": "2022-01-25T19:13:56.405Z"
   },
   {
    "duration": 114,
    "start_time": "2022-01-25T19:13:56.792Z"
   },
   {
    "duration": 30,
    "start_time": "2022-01-25T19:13:57.209Z"
   },
   {
    "duration": 5,
    "start_time": "2022-01-25T19:14:46.212Z"
   },
   {
    "duration": 179,
    "start_time": "2022-01-25T19:14:54.392Z"
   },
   {
    "duration": 31,
    "start_time": "2022-01-25T19:14:54.974Z"
   },
   {
    "duration": 27,
    "start_time": "2022-01-25T19:15:04.795Z"
   },
   {
    "duration": 1503,
    "start_time": "2022-01-25T19:16:16.532Z"
   },
   {
    "duration": 2083,
    "start_time": "2022-01-25T19:16:18.038Z"
   },
   {
    "duration": 29,
    "start_time": "2022-01-25T19:16:20.127Z"
   },
   {
    "duration": 23,
    "start_time": "2022-01-25T19:16:20.159Z"
   },
   {
    "duration": 20,
    "start_time": "2022-01-25T19:16:20.185Z"
   },
   {
    "duration": 8,
    "start_time": "2022-01-25T19:16:20.208Z"
   },
   {
    "duration": 317,
    "start_time": "2022-01-25T19:16:20.221Z"
   },
   {
    "duration": 152,
    "start_time": "2022-01-25T19:16:20.541Z"
   },
   {
    "duration": 24,
    "start_time": "2022-01-25T19:16:20.696Z"
   },
   {
    "duration": 47,
    "start_time": "2022-01-25T19:16:20.722Z"
   },
   {
    "duration": 21,
    "start_time": "2022-01-25T19:16:20.772Z"
   },
   {
    "duration": 103,
    "start_time": "2022-01-25T19:16:20.795Z"
   },
   {
    "duration": 37,
    "start_time": "2022-01-25T19:16:20.901Z"
   },
   {
    "duration": 92,
    "start_time": "2022-01-25T19:16:20.940Z"
   },
   {
    "duration": 32,
    "start_time": "2022-01-25T19:16:21.034Z"
   },
   {
    "duration": 56,
    "start_time": "2022-01-25T19:16:21.068Z"
   },
   {
    "duration": 60,
    "start_time": "2022-01-25T19:16:21.127Z"
   },
   {
    "duration": 37,
    "start_time": "2022-01-25T19:16:21.189Z"
   },
   {
    "duration": 134,
    "start_time": "2022-01-25T19:16:21.229Z"
   },
   {
    "duration": 34,
    "start_time": "2022-01-25T19:16:21.365Z"
   },
   {
    "duration": 94,
    "start_time": "2022-01-25T19:16:21.401Z"
   },
   {
    "duration": 18,
    "start_time": "2022-01-25T19:16:21.500Z"
   },
   {
    "duration": 13,
    "start_time": "2022-01-25T19:16:21.521Z"
   },
   {
    "duration": 44,
    "start_time": "2022-01-25T19:16:21.536Z"
   },
   {
    "duration": 8,
    "start_time": "2022-01-25T19:16:21.583Z"
   },
   {
    "duration": 28,
    "start_time": "2022-01-25T19:16:21.593Z"
   },
   {
    "duration": 39,
    "start_time": "2022-01-25T19:16:21.624Z"
   },
   {
    "duration": 7,
    "start_time": "2022-01-25T19:16:21.665Z"
   },
   {
    "duration": 25,
    "start_time": "2022-01-25T19:16:21.674Z"
   },
   {
    "duration": 5,
    "start_time": "2022-01-25T19:16:21.701Z"
   },
   {
    "duration": 5,
    "start_time": "2022-01-25T19:16:21.708Z"
   },
   {
    "duration": 5,
    "start_time": "2022-01-25T19:16:21.716Z"
   },
   {
    "duration": 6,
    "start_time": "2022-01-25T19:16:21.760Z"
   },
   {
    "duration": 545,
    "start_time": "2022-01-25T19:16:21.768Z"
   },
   {
    "duration": 27,
    "start_time": "2022-01-25T19:16:22.315Z"
   },
   {
    "duration": 16,
    "start_time": "2022-01-25T19:16:22.344Z"
   },
   {
    "duration": 31,
    "start_time": "2022-01-25T19:16:32.935Z"
   },
   {
    "duration": 30,
    "start_time": "2022-01-25T19:17:45.950Z"
   },
   {
    "duration": 28,
    "start_time": "2022-01-25T19:17:54.221Z"
   },
   {
    "duration": 8,
    "start_time": "2022-01-25T19:18:02.384Z"
   },
   {
    "duration": 30,
    "start_time": "2022-01-25T19:18:02.989Z"
   },
   {
    "duration": 9,
    "start_time": "2022-01-25T19:18:06.167Z"
   },
   {
    "duration": 5,
    "start_time": "2022-01-25T19:18:06.827Z"
   },
   {
    "duration": 5,
    "start_time": "2022-01-25T19:18:07.064Z"
   },
   {
    "duration": 4,
    "start_time": "2022-01-25T19:18:07.203Z"
   },
   {
    "duration": 523,
    "start_time": "2022-01-25T19:18:07.365Z"
   },
   {
    "duration": 28,
    "start_time": "2022-01-25T19:18:07.891Z"
   },
   {
    "duration": 4,
    "start_time": "2022-01-25T19:18:07.922Z"
   },
   {
    "duration": 1764,
    "start_time": "2022-01-25T19:18:21.172Z"
   },
   {
    "duration": 2201,
    "start_time": "2022-01-25T19:18:22.939Z"
   },
   {
    "duration": 29,
    "start_time": "2022-01-25T19:18:25.143Z"
   },
   {
    "duration": 26,
    "start_time": "2022-01-25T19:18:25.175Z"
   },
   {
    "duration": 20,
    "start_time": "2022-01-25T19:18:25.203Z"
   },
   {
    "duration": 36,
    "start_time": "2022-01-25T19:18:25.225Z"
   },
   {
    "duration": 307,
    "start_time": "2022-01-25T19:18:25.264Z"
   },
   {
    "duration": 185,
    "start_time": "2022-01-25T19:18:25.573Z"
   },
   {
    "duration": 27,
    "start_time": "2022-01-25T19:18:25.762Z"
   },
   {
    "duration": 29,
    "start_time": "2022-01-25T19:18:25.792Z"
   },
   {
    "duration": 52,
    "start_time": "2022-01-25T19:18:25.824Z"
   },
   {
    "duration": 97,
    "start_time": "2022-01-25T19:18:25.879Z"
   },
   {
    "duration": 39,
    "start_time": "2022-01-25T19:18:25.979Z"
   },
   {
    "duration": 97,
    "start_time": "2022-01-25T19:18:26.020Z"
   },
   {
    "duration": 18,
    "start_time": "2022-01-25T19:18:26.120Z"
   },
   {
    "duration": 74,
    "start_time": "2022-01-25T19:18:26.140Z"
   },
   {
    "duration": 53,
    "start_time": "2022-01-25T19:18:26.217Z"
   },
   {
    "duration": 50,
    "start_time": "2022-01-25T19:18:26.275Z"
   },
   {
    "duration": 136,
    "start_time": "2022-01-25T19:18:26.328Z"
   },
   {
    "duration": 35,
    "start_time": "2022-01-25T19:18:26.466Z"
   },
   {
    "duration": 99,
    "start_time": "2022-01-25T19:18:26.504Z"
   },
   {
    "duration": 20,
    "start_time": "2022-01-25T19:18:26.606Z"
   },
   {
    "duration": 27,
    "start_time": "2022-01-25T19:18:26.629Z"
   },
   {
    "duration": 25,
    "start_time": "2022-01-25T19:18:26.660Z"
   },
   {
    "duration": 7,
    "start_time": "2022-01-25T19:18:26.688Z"
   },
   {
    "duration": 25,
    "start_time": "2022-01-25T19:18:26.698Z"
   },
   {
    "duration": 41,
    "start_time": "2022-01-25T19:18:26.728Z"
   },
   {
    "duration": 9,
    "start_time": "2022-01-25T19:18:26.772Z"
   },
   {
    "duration": 21,
    "start_time": "2022-01-25T19:18:26.784Z"
   },
   {
    "duration": 6,
    "start_time": "2022-01-25T19:18:26.808Z"
   },
   {
    "duration": 46,
    "start_time": "2022-01-25T19:18:26.816Z"
   },
   {
    "duration": 10,
    "start_time": "2022-01-25T19:18:26.865Z"
   },
   {
    "duration": 5,
    "start_time": "2022-01-25T19:18:26.877Z"
   },
   {
    "duration": 577,
    "start_time": "2022-01-25T19:18:26.885Z"
   },
   {
    "duration": 32,
    "start_time": "2022-01-25T19:18:27.465Z"
   },
   {
    "duration": 3,
    "start_time": "2022-01-25T19:18:27.500Z"
   },
   {
    "duration": 1295,
    "start_time": "2022-01-26T16:50:38.374Z"
   },
   {
    "duration": 893,
    "start_time": "2022-01-26T16:50:39.672Z"
   },
   {
    "duration": 25,
    "start_time": "2022-01-26T16:50:40.569Z"
   },
   {
    "duration": 36,
    "start_time": "2022-01-26T16:50:40.595Z"
   },
   {
    "duration": 26,
    "start_time": "2022-01-26T16:50:40.632Z"
   },
   {
    "duration": 13,
    "start_time": "2022-01-26T16:50:40.659Z"
   },
   {
    "duration": 220,
    "start_time": "2022-01-26T16:50:40.676Z"
   },
   {
    "duration": 111,
    "start_time": "2022-01-26T16:50:40.899Z"
   },
   {
    "duration": 17,
    "start_time": "2022-01-26T16:50:41.012Z"
   },
   {
    "duration": 48,
    "start_time": "2022-01-26T16:50:41.030Z"
   },
   {
    "duration": 15,
    "start_time": "2022-01-26T16:50:41.080Z"
   },
   {
    "duration": 56,
    "start_time": "2022-01-26T16:50:41.097Z"
   },
   {
    "duration": 39,
    "start_time": "2022-01-26T16:50:41.154Z"
   },
   {
    "duration": 52,
    "start_time": "2022-01-26T16:50:41.195Z"
   },
   {
    "duration": 25,
    "start_time": "2022-01-26T16:50:41.250Z"
   },
   {
    "duration": 35,
    "start_time": "2022-01-26T16:50:41.279Z"
   },
   {
    "duration": 55,
    "start_time": "2022-01-26T16:50:41.316Z"
   },
   {
    "duration": 31,
    "start_time": "2022-01-26T16:50:41.375Z"
   },
   {
    "duration": 85,
    "start_time": "2022-01-26T16:50:41.409Z"
   },
   {
    "duration": 24,
    "start_time": "2022-01-26T16:50:41.496Z"
   },
   {
    "duration": 73,
    "start_time": "2022-01-26T16:50:41.522Z"
   },
   {
    "duration": 14,
    "start_time": "2022-01-26T16:50:41.597Z"
   },
   {
    "duration": 11,
    "start_time": "2022-01-26T16:50:41.614Z"
   },
   {
    "duration": 16,
    "start_time": "2022-01-26T16:50:41.627Z"
   },
   {
    "duration": 21,
    "start_time": "2022-01-26T16:50:41.645Z"
   },
   {
    "duration": 39,
    "start_time": "2022-01-26T16:50:41.668Z"
   },
   {
    "duration": 11,
    "start_time": "2022-01-26T16:50:41.709Z"
   },
   {
    "duration": 9,
    "start_time": "2022-01-26T16:50:41.722Z"
   },
   {
    "duration": 33,
    "start_time": "2022-01-26T16:50:41.733Z"
   },
   {
    "duration": 14,
    "start_time": "2022-01-26T16:50:41.768Z"
   },
   {
    "duration": 7,
    "start_time": "2022-01-26T16:50:41.784Z"
   },
   {
    "duration": 6,
    "start_time": "2022-01-26T16:50:41.793Z"
   },
   {
    "duration": 17,
    "start_time": "2022-01-26T16:50:41.801Z"
   },
   {
    "duration": 378,
    "start_time": "2022-01-26T16:50:41.819Z"
   },
   {
    "duration": 18,
    "start_time": "2022-01-26T16:50:42.199Z"
   },
   {
    "duration": 2,
    "start_time": "2022-01-26T16:50:42.219Z"
   },
   {
    "duration": -42,
    "start_time": "2022-01-26T16:51:34.520Z"
   },
   {
    "duration": -47,
    "start_time": "2022-01-26T16:51:34.526Z"
   },
   {
    "duration": -52,
    "start_time": "2022-01-26T16:51:34.532Z"
   },
   {
    "duration": -57,
    "start_time": "2022-01-26T16:51:34.537Z"
   },
   {
    "duration": -60,
    "start_time": "2022-01-26T16:51:34.541Z"
   },
   {
    "duration": 24,
    "start_time": "2022-01-26T16:51:39.858Z"
   },
   {
    "duration": 53,
    "start_time": "2022-01-26T16:51:40.474Z"
   },
   {
    "duration": 22,
    "start_time": "2022-01-26T16:51:40.805Z"
   },
   {
    "duration": 56,
    "start_time": "2022-01-26T16:51:41.073Z"
   },
   {
    "duration": 14,
    "start_time": "2022-01-26T16:51:41.612Z"
   },
   {
    "duration": 4,
    "start_time": "2022-01-26T16:51:41.951Z"
   },
   {
    "duration": 15,
    "start_time": "2022-01-26T16:51:42.144Z"
   },
   {
    "duration": 1152,
    "start_time": "2022-01-26T16:52:37.017Z"
   },
   {
    "duration": 115,
    "start_time": "2022-01-26T16:52:53.324Z"
   },
   {
    "duration": 5,
    "start_time": "2022-01-26T16:53:27.509Z"
   },
   {
    "duration": 23,
    "start_time": "2022-01-26T16:53:28.154Z"
   },
   {
    "duration": 5,
    "start_time": "2022-01-26T16:53:57.212Z"
   },
   {
    "duration": 24,
    "start_time": "2022-01-26T16:53:57.955Z"
   },
   {
    "duration": 5,
    "start_time": "2022-01-26T16:54:04.738Z"
   },
   {
    "duration": 16,
    "start_time": "2022-01-26T16:54:04.990Z"
   },
   {
    "duration": 3,
    "start_time": "2022-01-26T16:54:19.105Z"
   },
   {
    "duration": 15,
    "start_time": "2022-01-26T16:54:19.826Z"
   },
   {
    "duration": 4,
    "start_time": "2022-01-26T16:54:30.115Z"
   },
   {
    "duration": 19,
    "start_time": "2022-01-26T16:54:31.292Z"
   },
   {
    "duration": 4,
    "start_time": "2022-01-26T16:54:45.740Z"
   },
   {
    "duration": 16,
    "start_time": "2022-01-26T16:54:46.784Z"
   },
   {
    "duration": 4,
    "start_time": "2022-01-26T16:55:01.152Z"
   },
   {
    "duration": 15,
    "start_time": "2022-01-26T16:55:02.182Z"
   },
   {
    "duration": 4,
    "start_time": "2022-01-26T16:55:16.233Z"
   },
   {
    "duration": 24,
    "start_time": "2022-01-26T16:55:16.746Z"
   },
   {
    "duration": 4,
    "start_time": "2022-01-26T16:55:22.939Z"
   },
   {
    "duration": 16,
    "start_time": "2022-01-26T16:55:23.938Z"
   },
   {
    "duration": 10,
    "start_time": "2022-01-26T16:55:35.062Z"
   },
   {
    "duration": 17,
    "start_time": "2022-01-26T16:55:35.570Z"
   },
   {
    "duration": 273,
    "start_time": "2022-01-26T16:55:59.313Z"
   },
   {
    "duration": 3,
    "start_time": "2022-01-26T16:56:06.194Z"
   },
   {
    "duration": 5,
    "start_time": "2022-01-26T16:56:32.138Z"
   },
   {
    "duration": 16,
    "start_time": "2022-01-26T16:56:33.683Z"
   },
   {
    "duration": 4,
    "start_time": "2022-01-26T16:56:55.443Z"
   },
   {
    "duration": 16,
    "start_time": "2022-01-26T16:56:56.138Z"
   },
   {
    "duration": 1203,
    "start_time": "2022-01-26T16:57:08.695Z"
   },
   {
    "duration": 881,
    "start_time": "2022-01-26T16:57:09.901Z"
   },
   {
    "duration": 22,
    "start_time": "2022-01-26T16:57:10.784Z"
   },
   {
    "duration": 17,
    "start_time": "2022-01-26T16:57:10.808Z"
   },
   {
    "duration": 13,
    "start_time": "2022-01-26T16:57:10.827Z"
   },
   {
    "duration": 7,
    "start_time": "2022-01-26T16:57:10.842Z"
   },
   {
    "duration": 230,
    "start_time": "2022-01-26T16:57:10.850Z"
   },
   {
    "duration": 108,
    "start_time": "2022-01-26T16:57:11.082Z"
   },
   {
    "duration": 17,
    "start_time": "2022-01-26T16:57:11.193Z"
   },
   {
    "duration": 30,
    "start_time": "2022-01-26T16:57:11.212Z"
   },
   {
    "duration": 39,
    "start_time": "2022-01-26T16:57:11.244Z"
   },
   {
    "duration": 53,
    "start_time": "2022-01-26T16:57:11.284Z"
   },
   {
    "duration": 45,
    "start_time": "2022-01-26T16:57:11.338Z"
   },
   {
    "duration": 51,
    "start_time": "2022-01-26T16:57:11.386Z"
   },
   {
    "duration": 28,
    "start_time": "2022-01-26T16:57:11.438Z"
   },
   {
    "duration": 40,
    "start_time": "2022-01-26T16:57:11.469Z"
   },
   {
    "duration": 19,
    "start_time": "2022-01-26T16:57:11.510Z"
   },
   {
    "duration": 59,
    "start_time": "2022-01-26T16:57:11.530Z"
   },
   {
    "duration": 73,
    "start_time": "2022-01-26T16:57:11.590Z"
   },
   {
    "duration": 21,
    "start_time": "2022-01-26T16:57:11.670Z"
   },
   {
    "duration": 90,
    "start_time": "2022-01-26T16:57:11.693Z"
   },
   {
    "duration": 12,
    "start_time": "2022-01-26T16:57:11.785Z"
   },
   {
    "duration": 30,
    "start_time": "2022-01-26T16:57:11.800Z"
   },
   {
    "duration": 27,
    "start_time": "2022-01-26T16:57:11.832Z"
   },
   {
    "duration": 9,
    "start_time": "2022-01-26T16:57:11.866Z"
   },
   {
    "duration": 32,
    "start_time": "2022-01-26T16:57:11.877Z"
   },
   {
    "duration": 20,
    "start_time": "2022-01-26T16:57:11.911Z"
   },
   {
    "duration": 19,
    "start_time": "2022-01-26T16:57:11.933Z"
   },
   {
    "duration": 42,
    "start_time": "2022-01-26T16:57:11.953Z"
   },
   {
    "duration": 23,
    "start_time": "2022-01-26T16:57:11.996Z"
   },
   {
    "duration": 22,
    "start_time": "2022-01-26T16:57:12.021Z"
   },
   {
    "duration": 17,
    "start_time": "2022-01-26T16:57:12.045Z"
   },
   {
    "duration": 18,
    "start_time": "2022-01-26T16:57:12.066Z"
   },
   {
    "duration": 355,
    "start_time": "2022-01-26T16:57:12.086Z"
   },
   {
    "duration": 19,
    "start_time": "2022-01-26T16:57:12.443Z"
   },
   {
    "duration": 12,
    "start_time": "2022-01-26T16:57:12.464Z"
   },
   {
    "duration": 7439,
    "start_time": "2022-01-26T16:58:06.837Z"
   },
   {
    "duration": -49,
    "start_time": "2022-01-26T16:58:14.327Z"
   },
   {
    "duration": -52,
    "start_time": "2022-01-26T16:58:14.331Z"
   },
   {
    "duration": 1168,
    "start_time": "2022-01-26T16:58:19.668Z"
   },
   {
    "duration": 760,
    "start_time": "2022-01-26T16:58:20.839Z"
   },
   {
    "duration": 34,
    "start_time": "2022-01-26T16:58:21.601Z"
   },
   {
    "duration": 58,
    "start_time": "2022-01-26T16:58:21.638Z"
   },
   {
    "duration": 40,
    "start_time": "2022-01-26T16:58:21.698Z"
   },
   {
    "duration": 38,
    "start_time": "2022-01-26T16:58:21.740Z"
   },
   {
    "duration": 255,
    "start_time": "2022-01-26T16:58:21.780Z"
   },
   {
    "duration": 109,
    "start_time": "2022-01-26T16:58:22.037Z"
   },
   {
    "duration": 28,
    "start_time": "2022-01-26T16:58:22.149Z"
   },
   {
    "duration": 35,
    "start_time": "2022-01-26T16:58:22.180Z"
   },
   {
    "duration": 16,
    "start_time": "2022-01-26T16:58:22.217Z"
   },
   {
    "duration": 75,
    "start_time": "2022-01-26T16:58:22.235Z"
   },
   {
    "duration": 24,
    "start_time": "2022-01-26T16:58:22.312Z"
   },
   {
    "duration": 62,
    "start_time": "2022-01-26T16:58:22.338Z"
   },
   {
    "duration": 12,
    "start_time": "2022-01-26T16:58:22.402Z"
   },
   {
    "duration": 70,
    "start_time": "2022-01-26T16:58:22.415Z"
   },
   {
    "duration": 19,
    "start_time": "2022-01-26T16:58:22.487Z"
   },
   {
    "duration": 41,
    "start_time": "2022-01-26T16:58:22.508Z"
   },
   {
    "duration": 75,
    "start_time": "2022-01-26T16:58:22.551Z"
   },
   {
    "duration": 19,
    "start_time": "2022-01-26T16:58:22.628Z"
   },
   {
    "duration": 72,
    "start_time": "2022-01-26T16:58:22.649Z"
   },
   {
    "duration": 12,
    "start_time": "2022-01-26T16:58:22.723Z"
   },
   {
    "duration": 25,
    "start_time": "2022-01-26T16:58:22.737Z"
   },
   {
    "duration": 34,
    "start_time": "2022-01-26T16:58:22.765Z"
   },
   {
    "duration": 10,
    "start_time": "2022-01-26T16:58:22.801Z"
   },
   {
    "duration": 37,
    "start_time": "2022-01-26T16:58:22.813Z"
   },
   {
    "duration": 22,
    "start_time": "2022-01-26T16:58:22.854Z"
   },
   {
    "duration": 31,
    "start_time": "2022-01-26T16:58:22.878Z"
   },
   {
    "duration": 34,
    "start_time": "2022-01-26T16:58:22.910Z"
   },
   {
    "duration": 59,
    "start_time": "2022-01-26T16:58:22.946Z"
   },
   {
    "duration": 29,
    "start_time": "2022-01-26T16:58:23.006Z"
   },
   {
    "duration": 21,
    "start_time": "2022-01-26T16:58:23.036Z"
   },
   {
    "duration": 38,
    "start_time": "2022-01-26T16:58:23.059Z"
   },
   {
    "duration": 339,
    "start_time": "2022-01-26T16:58:23.099Z"
   },
   {
    "duration": 30,
    "start_time": "2022-01-26T16:58:23.440Z"
   },
   {
    "duration": 12,
    "start_time": "2022-01-26T16:58:23.473Z"
   },
   {
    "duration": -44,
    "start_time": "2022-01-26T16:58:52.574Z"
   },
   {
    "duration": -48,
    "start_time": "2022-01-26T16:58:52.579Z"
   },
   {
    "duration": -50,
    "start_time": "2022-01-26T16:58:52.582Z"
   },
   {
    "duration": -55,
    "start_time": "2022-01-26T16:58:52.587Z"
   },
   {
    "duration": 25,
    "start_time": "2022-01-26T16:58:58.237Z"
   },
   {
    "duration": 58,
    "start_time": "2022-01-26T16:58:58.680Z"
   },
   {
    "duration": 21,
    "start_time": "2022-01-26T16:58:58.874Z"
   },
   {
    "duration": 60,
    "start_time": "2022-01-26T16:58:59.048Z"
   },
   {
    "duration": 13,
    "start_time": "2022-01-26T16:58:59.646Z"
   },
   {
    "duration": 6,
    "start_time": "2022-01-26T16:58:59.915Z"
   },
   {
    "duration": 17,
    "start_time": "2022-01-26T16:59:00.134Z"
   },
   {
    "duration": 8,
    "start_time": "2022-01-26T16:59:08.669Z"
   },
   {
    "duration": 19,
    "start_time": "2022-01-26T16:59:10.240Z"
   },
   {
    "duration": 17,
    "start_time": "2022-01-26T17:00:37.520Z"
   },
   {
    "duration": 13,
    "start_time": "2022-01-26T17:00:37.779Z"
   },
   {
    "duration": 9,
    "start_time": "2022-01-26T17:00:38.085Z"
   },
   {
    "duration": 18,
    "start_time": "2022-01-26T17:00:38.706Z"
   },
   {
    "duration": 6,
    "start_time": "2022-01-26T17:01:18.084Z"
   },
   {
    "duration": 28,
    "start_time": "2022-01-26T17:01:18.553Z"
   },
   {
    "duration": 16,
    "start_time": "2022-01-26T17:01:24.088Z"
   },
   {
    "duration": 14,
    "start_time": "2022-01-26T17:01:24.343Z"
   },
   {
    "duration": 7,
    "start_time": "2022-01-26T17:01:24.575Z"
   },
   {
    "duration": 17,
    "start_time": "2022-01-26T17:01:24.812Z"
   },
   {
    "duration": 1264,
    "start_time": "2022-01-26T17:02:00.479Z"
   },
   {
    "duration": 811,
    "start_time": "2022-01-26T17:02:01.745Z"
   },
   {
    "duration": 31,
    "start_time": "2022-01-26T17:02:02.558Z"
   },
   {
    "duration": 19,
    "start_time": "2022-01-26T17:02:02.592Z"
   },
   {
    "duration": 17,
    "start_time": "2022-01-26T17:02:02.613Z"
   },
   {
    "duration": 39,
    "start_time": "2022-01-26T17:02:02.631Z"
   },
   {
    "duration": 256,
    "start_time": "2022-01-26T17:02:02.672Z"
   },
   {
    "duration": 112,
    "start_time": "2022-01-26T17:02:02.930Z"
   },
   {
    "duration": 26,
    "start_time": "2022-01-26T17:02:03.045Z"
   },
   {
    "duration": 48,
    "start_time": "2022-01-26T17:02:03.073Z"
   },
   {
    "duration": 21,
    "start_time": "2022-01-26T17:02:03.123Z"
   },
   {
    "duration": 97,
    "start_time": "2022-01-26T17:02:03.146Z"
   },
   {
    "duration": 30,
    "start_time": "2022-01-26T17:02:03.245Z"
   },
   {
    "duration": 61,
    "start_time": "2022-01-26T17:02:03.278Z"
   },
   {
    "duration": 28,
    "start_time": "2022-01-26T17:02:03.341Z"
   },
   {
    "duration": 61,
    "start_time": "2022-01-26T17:02:03.371Z"
   },
   {
    "duration": 20,
    "start_time": "2022-01-26T17:02:03.434Z"
   },
   {
    "duration": 51,
    "start_time": "2022-01-26T17:02:03.456Z"
   },
   {
    "duration": 100,
    "start_time": "2022-01-26T17:02:03.509Z"
   },
   {
    "duration": 23,
    "start_time": "2022-01-26T17:02:03.611Z"
   },
   {
    "duration": 177,
    "start_time": "2022-01-26T17:02:03.636Z"
   },
   {
    "duration": 12,
    "start_time": "2022-01-26T17:02:03.815Z"
   },
   {
    "duration": 45,
    "start_time": "2022-01-26T17:02:03.831Z"
   },
   {
    "duration": 61,
    "start_time": "2022-01-26T17:02:03.878Z"
   },
   {
    "duration": 16,
    "start_time": "2022-01-26T17:02:03.941Z"
   },
   {
    "duration": 50,
    "start_time": "2022-01-26T17:02:03.959Z"
   },
   {
    "duration": 61,
    "start_time": "2022-01-26T17:02:04.011Z"
   },
   {
    "duration": 32,
    "start_time": "2022-01-26T17:02:04.074Z"
   },
   {
    "duration": 75,
    "start_time": "2022-01-26T17:02:04.108Z"
   },
   {
    "duration": 30,
    "start_time": "2022-01-26T17:02:04.185Z"
   },
   {
    "duration": 29,
    "start_time": "2022-01-26T17:02:04.216Z"
   },
   {
    "duration": 47,
    "start_time": "2022-01-26T17:02:04.247Z"
   },
   {
    "duration": 52,
    "start_time": "2022-01-26T17:02:04.296Z"
   },
   {
    "duration": 462,
    "start_time": "2022-01-26T17:02:04.350Z"
   },
   {
    "duration": 19,
    "start_time": "2022-01-26T17:02:04.814Z"
   },
   {
    "duration": 30,
    "start_time": "2022-01-26T17:02:04.835Z"
   },
   {
    "duration": 460,
    "start_time": "2022-01-26T17:09:23.544Z"
   },
   {
    "duration": 265,
    "start_time": "2022-01-26T17:09:53.343Z"
   },
   {
    "duration": 17,
    "start_time": "2022-01-26T17:10:22.181Z"
   },
   {
    "duration": 7665,
    "start_time": "2022-01-26T17:10:42.955Z"
   },
   {
    "duration": 26,
    "start_time": "2022-01-26T17:11:07.874Z"
   },
   {
    "duration": 8,
    "start_time": "2022-01-26T17:11:27.386Z"
   },
   {
    "duration": 85,
    "start_time": "2022-01-26T17:12:21.515Z"
   },
   {
    "duration": 5,
    "start_time": "2022-01-26T17:12:26.381Z"
   },
   {
    "duration": 6,
    "start_time": "2022-01-26T17:13:01.749Z"
   },
   {
    "duration": 4,
    "start_time": "2022-01-26T17:15:23.021Z"
   },
   {
    "duration": 5,
    "start_time": "2022-01-26T17:16:15.800Z"
   },
   {
    "duration": 4,
    "start_time": "2022-01-26T17:16:53.917Z"
   },
   {
    "duration": 246,
    "start_time": "2022-01-26T17:18:01.300Z"
   },
   {
    "duration": 248,
    "start_time": "2022-01-26T17:19:16.788Z"
   },
   {
    "duration": 279,
    "start_time": "2022-01-26T17:21:08.132Z"
   },
   {
    "duration": 137,
    "start_time": "2022-01-26T17:21:16.423Z"
   },
   {
    "duration": 6563,
    "start_time": "2022-01-26T17:22:54.215Z"
   },
   {
    "duration": 1034,
    "start_time": "2022-01-26T17:24:42.999Z"
   },
   {
    "duration": 172,
    "start_time": "2022-01-26T17:25:03.017Z"
   },
   {
    "duration": 190,
    "start_time": "2022-01-26T17:25:08.465Z"
   },
   {
    "duration": 233,
    "start_time": "2022-01-26T17:25:17.807Z"
   },
   {
    "duration": 222,
    "start_time": "2022-01-26T17:25:27.698Z"
   },
   {
    "duration": 213,
    "start_time": "2022-01-26T17:25:43.214Z"
   },
   {
    "duration": 219,
    "start_time": "2022-01-26T17:25:47.224Z"
   },
   {
    "duration": 218,
    "start_time": "2022-01-26T17:25:52.310Z"
   },
   {
    "duration": 319,
    "start_time": "2022-01-26T17:25:59.986Z"
   },
   {
    "duration": 232,
    "start_time": "2022-01-26T17:27:14.584Z"
   },
   {
    "duration": 655,
    "start_time": "2022-01-26T17:27:26.430Z"
   },
   {
    "duration": 640,
    "start_time": "2022-01-26T17:27:32.488Z"
   },
   {
    "duration": 231,
    "start_time": "2022-01-26T17:27:37.188Z"
   },
   {
    "duration": 255,
    "start_time": "2022-01-26T17:27:49.652Z"
   },
   {
    "duration": 238,
    "start_time": "2022-01-26T17:28:12.500Z"
   },
   {
    "duration": 235,
    "start_time": "2022-01-26T17:28:50.080Z"
   },
   {
    "duration": 279,
    "start_time": "2022-01-26T17:28:55.087Z"
   },
   {
    "duration": 233,
    "start_time": "2022-01-26T17:29:03.333Z"
   },
   {
    "duration": 316,
    "start_time": "2022-01-26T17:30:28.253Z"
   },
   {
    "duration": 402,
    "start_time": "2022-01-26T17:30:49.791Z"
   },
   {
    "duration": 333,
    "start_time": "2022-01-26T17:32:14.610Z"
   },
   {
    "duration": 359,
    "start_time": "2022-01-26T17:32:33.445Z"
   },
   {
    "duration": 347,
    "start_time": "2022-01-26T17:33:13.742Z"
   },
   {
    "duration": 92,
    "start_time": "2022-01-26T17:34:38.249Z"
   },
   {
    "duration": 405,
    "start_time": "2022-01-26T17:34:52.753Z"
   },
   {
    "duration": 436,
    "start_time": "2022-01-26T17:35:36.526Z"
   },
   {
    "duration": 760,
    "start_time": "2022-01-26T17:37:00.881Z"
   },
   {
    "duration": 498,
    "start_time": "2022-01-26T17:37:52.887Z"
   },
   {
    "duration": 330,
    "start_time": "2022-01-26T17:38:12.210Z"
   },
   {
    "duration": 356,
    "start_time": "2022-01-26T17:38:59.056Z"
   },
   {
    "duration": 368,
    "start_time": "2022-01-26T17:39:14.980Z"
   },
   {
    "duration": 637,
    "start_time": "2022-01-26T17:39:38.352Z"
   },
   {
    "duration": 547,
    "start_time": "2022-01-26T17:39:55.129Z"
   },
   {
    "duration": 481,
    "start_time": "2022-01-26T17:40:22.314Z"
   },
   {
    "duration": 356,
    "start_time": "2022-01-26T17:41:17.950Z"
   },
   {
    "duration": 405,
    "start_time": "2022-01-26T17:48:38.883Z"
   },
   {
    "duration": 377,
    "start_time": "2022-01-26T17:48:54.047Z"
   },
   {
    "duration": 385,
    "start_time": "2022-01-26T17:49:01.181Z"
   },
   {
    "duration": 328,
    "start_time": "2022-01-26T17:49:10.828Z"
   },
   {
    "duration": 354,
    "start_time": "2022-01-26T17:49:20.786Z"
   },
   {
    "duration": 364,
    "start_time": "2022-01-26T17:50:05.188Z"
   },
   {
    "duration": 3,
    "start_time": "2022-01-26T17:50:14.847Z"
   },
   {
    "duration": 4,
    "start_time": "2022-01-26T17:50:20.811Z"
   },
   {
    "duration": 5,
    "start_time": "2022-01-26T17:50:25.394Z"
   },
   {
    "duration": 5,
    "start_time": "2022-01-26T17:50:36.760Z"
   },
   {
    "duration": 6,
    "start_time": "2022-01-26T17:51:30.257Z"
   },
   {
    "duration": 6,
    "start_time": "2022-01-26T17:53:55.196Z"
   },
   {
    "duration": 6,
    "start_time": "2022-01-26T17:54:19.647Z"
   },
   {
    "duration": 5,
    "start_time": "2022-01-26T17:54:59.308Z"
   },
   {
    "duration": 5,
    "start_time": "2022-01-26T17:55:34.135Z"
   },
   {
    "duration": 7,
    "start_time": "2022-01-26T17:56:21.645Z"
   },
   {
    "duration": 6,
    "start_time": "2022-01-26T17:56:38.178Z"
   },
   {
    "duration": 6,
    "start_time": "2022-01-26T17:57:17.861Z"
   },
   {
    "duration": 6,
    "start_time": "2022-01-26T17:58:03.610Z"
   },
   {
    "duration": 6,
    "start_time": "2022-01-26T17:58:59.857Z"
   },
   {
    "duration": 6,
    "start_time": "2022-01-26T17:59:47.452Z"
   },
   {
    "duration": 6,
    "start_time": "2022-01-26T18:00:10.037Z"
   },
   {
    "duration": 8,
    "start_time": "2022-01-26T18:01:08.084Z"
   },
   {
    "duration": 9,
    "start_time": "2022-01-26T18:02:36.630Z"
   },
   {
    "duration": 6,
    "start_time": "2022-01-26T18:02:45.839Z"
   },
   {
    "duration": 8,
    "start_time": "2022-01-26T18:02:59.936Z"
   },
   {
    "duration": 394,
    "start_time": "2022-01-26T18:03:00.617Z"
   },
   {
    "duration": 9,
    "start_time": "2022-01-26T18:03:01.013Z"
   },
   {
    "duration": 8,
    "start_time": "2022-01-26T18:03:32.513Z"
   },
   {
    "duration": 7,
    "start_time": "2022-01-26T18:03:48.558Z"
   },
   {
    "duration": 252,
    "start_time": "2022-01-26T18:04:35.242Z"
   },
   {
    "duration": 447,
    "start_time": "2022-01-26T18:04:53.412Z"
   },
   {
    "duration": 8,
    "start_time": "2022-01-26T18:05:21.972Z"
   },
   {
    "duration": 7,
    "start_time": "2022-01-26T18:07:46.963Z"
   },
   {
    "duration": 8,
    "start_time": "2022-01-26T18:08:01.030Z"
   },
   {
    "duration": 8,
    "start_time": "2022-01-26T18:08:19.890Z"
   },
   {
    "duration": 7,
    "start_time": "2022-01-26T18:09:06.312Z"
   },
   {
    "duration": 9,
    "start_time": "2022-01-26T18:09:22.358Z"
   },
   {
    "duration": 8,
    "start_time": "2022-01-26T18:10:22.291Z"
   },
   {
    "duration": 9,
    "start_time": "2022-01-26T18:10:53.996Z"
   },
   {
    "duration": 7,
    "start_time": "2022-01-26T18:13:59.664Z"
   },
   {
    "duration": 9,
    "start_time": "2022-01-26T18:15:31.654Z"
   },
   {
    "duration": 8,
    "start_time": "2022-01-26T18:16:02.135Z"
   },
   {
    "duration": 591,
    "start_time": "2022-01-26T18:16:02.280Z"
   },
   {
    "duration": 8,
    "start_time": "2022-01-26T18:16:02.873Z"
   },
   {
    "duration": 369,
    "start_time": "2022-01-26T18:16:02.884Z"
   },
   {
    "duration": 12,
    "start_time": "2022-01-26T18:16:03.254Z"
   },
   {
    "duration": 358,
    "start_time": "2022-01-26T18:16:38.713Z"
   },
   {
    "duration": 357,
    "start_time": "2022-01-26T18:16:53.584Z"
   },
   {
    "duration": 328,
    "start_time": "2022-01-26T18:17:15.814Z"
   },
   {
    "duration": 324,
    "start_time": "2022-01-26T18:17:23.010Z"
   },
   {
    "duration": 6,
    "start_time": "2022-01-26T18:19:58.129Z"
   },
   {
    "duration": 8,
    "start_time": "2022-01-26T18:20:24.523Z"
   },
   {
    "duration": 11,
    "start_time": "2022-01-26T18:20:59.936Z"
   },
   {
    "duration": 12,
    "start_time": "2022-01-26T18:21:16.965Z"
   },
   {
    "duration": 14,
    "start_time": "2022-01-26T18:21:47.613Z"
   },
   {
    "duration": 351,
    "start_time": "2022-01-26T18:24:46.720Z"
   },
   {
    "duration": 8,
    "start_time": "2022-01-26T18:24:52.411Z"
   },
   {
    "duration": 153,
    "start_time": "2022-01-26T18:24:53.212Z"
   },
   {
    "duration": 162,
    "start_time": "2022-01-26T18:25:13.312Z"
   },
   {
    "duration": 175,
    "start_time": "2022-01-26T18:25:31.974Z"
   },
   {
    "duration": 9,
    "start_time": "2022-01-26T18:26:15.496Z"
   },
   {
    "duration": 173,
    "start_time": "2022-01-26T18:26:22.735Z"
   },
   {
    "duration": 158,
    "start_time": "2022-01-26T18:26:33.391Z"
   },
   {
    "duration": 676,
    "start_time": "2022-01-26T18:26:51.772Z"
   },
   {
    "duration": 613,
    "start_time": "2022-01-26T18:26:58.673Z"
   },
   {
    "duration": 236,
    "start_time": "2022-01-26T18:27:30.134Z"
   },
   {
    "duration": 318,
    "start_time": "2022-01-26T18:28:52.534Z"
   },
   {
    "duration": 147,
    "start_time": "2022-01-26T18:29:02.598Z"
   },
   {
    "duration": 158,
    "start_time": "2022-01-26T18:29:22.310Z"
   },
   {
    "duration": 418,
    "start_time": "2022-01-26T18:29:31.715Z"
   },
   {
    "duration": 155,
    "start_time": "2022-01-26T18:29:42.986Z"
   },
   {
    "duration": 272,
    "start_time": "2022-01-26T18:30:44.638Z"
   },
   {
    "duration": 506,
    "start_time": "2022-01-26T18:31:31.412Z"
   },
   {
    "duration": 4,
    "start_time": "2022-01-26T18:32:11.326Z"
   },
   {
    "duration": 1147,
    "start_time": "2022-01-26T18:32:18.087Z"
   },
   {
    "duration": 778,
    "start_time": "2022-01-26T18:32:19.236Z"
   },
   {
    "duration": 25,
    "start_time": "2022-01-26T18:32:20.017Z"
   },
   {
    "duration": 37,
    "start_time": "2022-01-26T18:32:20.045Z"
   },
   {
    "duration": 28,
    "start_time": "2022-01-26T18:32:20.084Z"
   },
   {
    "duration": 24,
    "start_time": "2022-01-26T18:32:20.114Z"
   },
   {
    "duration": 225,
    "start_time": "2022-01-26T18:32:20.140Z"
   },
   {
    "duration": 96,
    "start_time": "2022-01-26T18:32:20.368Z"
   },
   {
    "duration": 19,
    "start_time": "2022-01-26T18:32:20.467Z"
   },
   {
    "duration": 23,
    "start_time": "2022-01-26T18:32:20.488Z"
   },
   {
    "duration": 14,
    "start_time": "2022-01-26T18:32:20.513Z"
   },
   {
    "duration": 86,
    "start_time": "2022-01-26T18:32:20.529Z"
   },
   {
    "duration": 26,
    "start_time": "2022-01-26T18:32:20.617Z"
   },
   {
    "duration": 67,
    "start_time": "2022-01-26T18:32:20.644Z"
   },
   {
    "duration": 13,
    "start_time": "2022-01-26T18:32:20.713Z"
   },
   {
    "duration": 63,
    "start_time": "2022-01-26T18:32:20.728Z"
   },
   {
    "duration": 24,
    "start_time": "2022-01-26T18:32:20.792Z"
   },
   {
    "duration": 54,
    "start_time": "2022-01-26T18:32:20.818Z"
   },
   {
    "duration": 72,
    "start_time": "2022-01-26T18:32:20.874Z"
   },
   {
    "duration": 33,
    "start_time": "2022-01-26T18:32:20.948Z"
   },
   {
    "duration": 79,
    "start_time": "2022-01-26T18:32:20.984Z"
   },
   {
    "duration": 16,
    "start_time": "2022-01-26T18:32:21.065Z"
   },
   {
    "duration": 23,
    "start_time": "2022-01-26T18:32:21.086Z"
   },
   {
    "duration": 36,
    "start_time": "2022-01-26T18:32:21.112Z"
   },
   {
    "duration": 27,
    "start_time": "2022-01-26T18:32:21.150Z"
   },
   {
    "duration": 39,
    "start_time": "2022-01-26T18:32:21.179Z"
   },
   {
    "duration": 35,
    "start_time": "2022-01-26T18:32:21.220Z"
   },
   {
    "duration": 34,
    "start_time": "2022-01-26T18:32:21.257Z"
   },
   {
    "duration": 41,
    "start_time": "2022-01-26T18:32:21.293Z"
   },
   {
    "duration": 36,
    "start_time": "2022-01-26T18:32:21.335Z"
   },
   {
    "duration": 47,
    "start_time": "2022-01-26T18:32:21.373Z"
   },
   {
    "duration": 39,
    "start_time": "2022-01-26T18:32:21.422Z"
   },
   {
    "duration": 34,
    "start_time": "2022-01-26T18:32:21.462Z"
   },
   {
    "duration": 354,
    "start_time": "2022-01-26T18:32:21.497Z"
   },
   {
    "duration": 24,
    "start_time": "2022-01-26T18:32:21.853Z"
   },
   {
    "duration": 18,
    "start_time": "2022-01-26T18:32:21.878Z"
   },
   {
    "duration": 30,
    "start_time": "2022-01-26T18:32:21.899Z"
   },
   {
    "duration": 31,
    "start_time": "2022-01-26T18:32:21.931Z"
   },
   {
    "duration": 32,
    "start_time": "2022-01-26T18:32:21.963Z"
   },
   {
    "duration": 44,
    "start_time": "2022-01-26T18:32:21.996Z"
   },
   {
    "duration": 180,
    "start_time": "2022-01-26T18:32:22.042Z"
   },
   {
    "duration": 173,
    "start_time": "2022-01-26T18:32:22.224Z"
   },
   {
    "duration": 8,
    "start_time": "2022-01-26T18:32:22.399Z"
   },
   {
    "duration": 524,
    "start_time": "2022-01-26T18:32:22.408Z"
   },
   {
    "duration": 11,
    "start_time": "2022-01-26T18:32:22.934Z"
   },
   {
    "duration": 402,
    "start_time": "2022-01-26T18:32:22.947Z"
   },
   {
    "duration": 14,
    "start_time": "2022-01-26T18:32:23.350Z"
   },
   {
    "duration": 362,
    "start_time": "2022-01-26T18:32:23.365Z"
   },
   {
    "duration": 165,
    "start_time": "2022-01-26T18:32:46.310Z"
   },
   {
    "duration": 562,
    "start_time": "2022-01-26T18:33:16.264Z"
   },
   {
    "duration": 152,
    "start_time": "2022-01-26T18:33:57.265Z"
   },
   {
    "duration": 186,
    "start_time": "2022-01-26T18:34:02.302Z"
   },
   {
    "duration": 494,
    "start_time": "2022-01-26T18:34:10.982Z"
   },
   {
    "duration": 221,
    "start_time": "2022-01-26T18:34:17.218Z"
   },
   {
    "duration": 452,
    "start_time": "2022-01-26T18:34:45.465Z"
   },
   {
    "duration": 480,
    "start_time": "2022-01-26T18:35:23.481Z"
   },
   {
    "duration": 465,
    "start_time": "2022-01-26T18:35:30.407Z"
   },
   {
    "duration": 103,
    "start_time": "2022-01-26T18:35:36.153Z"
   },
   {
    "duration": 358,
    "start_time": "2022-01-26T18:35:38.954Z"
   },
   {
    "duration": 500,
    "start_time": "2022-01-26T18:36:08.831Z"
   },
   {
    "duration": 12,
    "start_time": "2022-01-26T18:37:06.928Z"
   },
   {
    "duration": 629,
    "start_time": "2022-01-26T18:38:33.617Z"
   },
   {
    "duration": 1245,
    "start_time": "2022-01-26T18:39:24.920Z"
   },
   {
    "duration": 990,
    "start_time": "2022-01-26T18:39:26.167Z"
   },
   {
    "duration": 24,
    "start_time": "2022-01-26T18:39:27.159Z"
   },
   {
    "duration": 40,
    "start_time": "2022-01-26T18:39:27.185Z"
   },
   {
    "duration": 24,
    "start_time": "2022-01-26T18:39:27.227Z"
   },
   {
    "duration": 20,
    "start_time": "2022-01-26T18:39:27.253Z"
   },
   {
    "duration": 233,
    "start_time": "2022-01-26T18:39:27.275Z"
   },
   {
    "duration": 96,
    "start_time": "2022-01-26T18:39:27.512Z"
   },
   {
    "duration": 16,
    "start_time": "2022-01-26T18:39:27.611Z"
   },
   {
    "duration": 70,
    "start_time": "2022-01-26T18:39:27.629Z"
   },
   {
    "duration": 18,
    "start_time": "2022-01-26T18:39:27.700Z"
   },
   {
    "duration": 99,
    "start_time": "2022-01-26T18:39:27.720Z"
   },
   {
    "duration": 30,
    "start_time": "2022-01-26T18:39:27.821Z"
   },
   {
    "duration": 62,
    "start_time": "2022-01-26T18:39:27.853Z"
   },
   {
    "duration": 11,
    "start_time": "2022-01-26T18:39:27.917Z"
   },
   {
    "duration": 76,
    "start_time": "2022-01-26T18:39:27.930Z"
   },
   {
    "duration": 20,
    "start_time": "2022-01-26T18:39:28.008Z"
   },
   {
    "duration": 62,
    "start_time": "2022-01-26T18:39:28.030Z"
   },
   {
    "duration": 80,
    "start_time": "2022-01-26T18:39:28.094Z"
   },
   {
    "duration": 22,
    "start_time": "2022-01-26T18:39:28.177Z"
   },
   {
    "duration": 79,
    "start_time": "2022-01-26T18:39:28.201Z"
   },
   {
    "duration": 13,
    "start_time": "2022-01-26T18:39:28.282Z"
   },
   {
    "duration": 29,
    "start_time": "2022-01-26T18:39:28.298Z"
   },
   {
    "duration": 37,
    "start_time": "2022-01-26T18:39:28.329Z"
   },
   {
    "duration": 12,
    "start_time": "2022-01-26T18:39:28.367Z"
   },
   {
    "duration": 51,
    "start_time": "2022-01-26T18:39:28.381Z"
   },
   {
    "duration": 30,
    "start_time": "2022-01-26T18:39:28.434Z"
   },
   {
    "duration": 41,
    "start_time": "2022-01-26T18:39:28.465Z"
   },
   {
    "duration": 45,
    "start_time": "2022-01-26T18:39:28.508Z"
   },
   {
    "duration": 47,
    "start_time": "2022-01-26T18:39:28.555Z"
   },
   {
    "duration": 33,
    "start_time": "2022-01-26T18:39:28.604Z"
   },
   {
    "duration": 19,
    "start_time": "2022-01-26T18:39:28.639Z"
   },
   {
    "duration": 23,
    "start_time": "2022-01-26T18:39:28.661Z"
   },
   {
    "duration": 375,
    "start_time": "2022-01-26T18:39:28.685Z"
   },
   {
    "duration": 20,
    "start_time": "2022-01-26T18:39:29.062Z"
   },
   {
    "duration": 37,
    "start_time": "2022-01-26T18:39:29.083Z"
   },
   {
    "duration": 64,
    "start_time": "2022-01-26T18:39:29.122Z"
   },
   {
    "duration": 24,
    "start_time": "2022-01-26T18:39:29.188Z"
   },
   {
    "duration": 30,
    "start_time": "2022-01-26T18:39:29.214Z"
   },
   {
    "duration": 34,
    "start_time": "2022-01-26T18:39:29.246Z"
   },
   {
    "duration": 560,
    "start_time": "2022-01-26T18:39:29.283Z"
   },
   {
    "duration": 553,
    "start_time": "2022-01-26T18:39:29.845Z"
   },
   {
    "duration": 7,
    "start_time": "2022-01-26T18:39:30.400Z"
   },
   {
    "duration": 410,
    "start_time": "2022-01-26T18:39:30.409Z"
   },
   {
    "duration": 8,
    "start_time": "2022-01-26T18:39:30.820Z"
   },
   {
    "duration": 430,
    "start_time": "2022-01-26T18:39:30.830Z"
   },
   {
    "duration": 8,
    "start_time": "2022-01-26T18:39:31.262Z"
   },
   {
    "duration": 376,
    "start_time": "2022-01-26T18:39:31.272Z"
   },
   {
    "duration": 1200,
    "start_time": "2022-01-27T10:33:12.656Z"
   },
   {
    "duration": 1138,
    "start_time": "2022-01-27T10:33:13.858Z"
   },
   {
    "duration": 25,
    "start_time": "2022-01-27T10:33:14.998Z"
   },
   {
    "duration": 31,
    "start_time": "2022-01-27T10:33:15.025Z"
   },
   {
    "duration": 44,
    "start_time": "2022-01-27T10:33:15.059Z"
   },
   {
    "duration": 9,
    "start_time": "2022-01-27T10:33:15.106Z"
   },
   {
    "duration": 227,
    "start_time": "2022-01-27T10:33:15.118Z"
   },
   {
    "duration": 114,
    "start_time": "2022-01-27T10:33:15.348Z"
   },
   {
    "duration": 17,
    "start_time": "2022-01-27T10:33:15.464Z"
   },
   {
    "duration": 39,
    "start_time": "2022-01-27T10:33:15.483Z"
   },
   {
    "duration": 16,
    "start_time": "2022-01-27T10:33:15.524Z"
   },
   {
    "duration": 71,
    "start_time": "2022-01-27T10:33:15.542Z"
   },
   {
    "duration": 27,
    "start_time": "2022-01-27T10:33:15.615Z"
   },
   {
    "duration": 75,
    "start_time": "2022-01-27T10:33:15.644Z"
   },
   {
    "duration": 12,
    "start_time": "2022-01-27T10:33:15.721Z"
   },
   {
    "duration": 36,
    "start_time": "2022-01-27T10:33:15.736Z"
   },
   {
    "duration": 40,
    "start_time": "2022-01-27T10:33:15.773Z"
   },
   {
    "duration": 33,
    "start_time": "2022-01-27T10:33:15.815Z"
   },
   {
    "duration": 85,
    "start_time": "2022-01-27T10:33:15.849Z"
   },
   {
    "duration": 23,
    "start_time": "2022-01-27T10:33:15.936Z"
   },
   {
    "duration": 73,
    "start_time": "2022-01-27T10:33:15.960Z"
   },
   {
    "duration": 14,
    "start_time": "2022-01-27T10:33:16.034Z"
   },
   {
    "duration": 8,
    "start_time": "2022-01-27T10:33:16.051Z"
   },
   {
    "duration": 39,
    "start_time": "2022-01-27T10:33:16.061Z"
   },
   {
    "duration": 5,
    "start_time": "2022-01-27T10:33:16.101Z"
   },
   {
    "duration": 19,
    "start_time": "2022-01-27T10:33:16.108Z"
   },
   {
    "duration": 8,
    "start_time": "2022-01-27T10:33:16.129Z"
   },
   {
    "duration": 6,
    "start_time": "2022-01-27T10:33:16.139Z"
   },
   {
    "duration": 52,
    "start_time": "2022-01-27T10:33:16.147Z"
   },
   {
    "duration": 4,
    "start_time": "2022-01-27T10:33:16.201Z"
   },
   {
    "duration": 13,
    "start_time": "2022-01-27T10:33:16.207Z"
   },
   {
    "duration": 10,
    "start_time": "2022-01-27T10:33:16.221Z"
   },
   {
    "duration": 8,
    "start_time": "2022-01-27T10:33:16.233Z"
   },
   {
    "duration": 377,
    "start_time": "2022-01-27T10:33:16.243Z"
   },
   {
    "duration": 20,
    "start_time": "2022-01-27T10:33:16.622Z"
   },
   {
    "duration": 8,
    "start_time": "2022-01-27T10:33:16.643Z"
   },
   {
    "duration": 13,
    "start_time": "2022-01-27T10:33:16.653Z"
   },
   {
    "duration": 6,
    "start_time": "2022-01-27T10:33:16.669Z"
   },
   {
    "duration": 40,
    "start_time": "2022-01-27T10:33:16.678Z"
   },
   {
    "duration": 13,
    "start_time": "2022-01-27T10:33:16.720Z"
   },
   {
    "duration": 614,
    "start_time": "2022-01-27T10:33:16.736Z"
   },
   {
    "duration": 618,
    "start_time": "2022-01-27T10:33:17.352Z"
   },
   {
    "duration": 8,
    "start_time": "2022-01-27T10:33:17.972Z"
   },
   {
    "duration": 458,
    "start_time": "2022-01-27T10:33:17.982Z"
   },
   {
    "duration": 8,
    "start_time": "2022-01-27T10:33:18.442Z"
   },
   {
    "duration": 463,
    "start_time": "2022-01-27T10:33:18.452Z"
   },
   {
    "duration": 7,
    "start_time": "2022-01-27T10:33:18.917Z"
   },
   {
    "duration": 406,
    "start_time": "2022-01-27T10:33:18.926Z"
   },
   {
    "duration": 3412,
    "start_time": "2022-01-27T10:34:21.555Z"
   },
   {
    "duration": 7,
    "start_time": "2022-01-27T10:34:42.663Z"
   },
   {
    "duration": 356,
    "start_time": "2022-01-27T10:37:32.112Z"
   },
   {
    "duration": 18,
    "start_time": "2022-01-27T10:37:39.223Z"
   },
   {
    "duration": 15,
    "start_time": "2022-01-27T10:37:41.054Z"
   },
   {
    "duration": 7,
    "start_time": "2022-01-27T10:37:41.335Z"
   },
   {
    "duration": 20,
    "start_time": "2022-01-27T10:37:41.842Z"
   },
   {
    "duration": 252,
    "start_time": "2022-01-27T10:38:16.518Z"
   },
   {
    "duration": 346,
    "start_time": "2022-01-27T10:40:43.719Z"
   },
   {
    "duration": 24,
    "start_time": "2022-01-27T10:40:53.398Z"
   },
   {
    "duration": 14,
    "start_time": "2022-01-27T10:40:54.590Z"
   },
   {
    "duration": 6,
    "start_time": "2022-01-27T10:40:54.822Z"
   },
   {
    "duration": 18,
    "start_time": "2022-01-27T10:40:55.262Z"
   },
   {
    "duration": 17,
    "start_time": "2022-01-27T10:41:21.197Z"
   },
   {
    "duration": 13,
    "start_time": "2022-01-27T10:41:21.469Z"
   },
   {
    "duration": 6,
    "start_time": "2022-01-27T10:41:21.749Z"
   },
   {
    "duration": 18,
    "start_time": "2022-01-27T10:41:26.134Z"
   },
   {
    "duration": 28,
    "start_time": "2022-01-27T10:41:44.996Z"
   },
   {
    "duration": 15,
    "start_time": "2022-01-27T10:41:45.372Z"
   },
   {
    "duration": 7,
    "start_time": "2022-01-27T10:41:45.587Z"
   },
   {
    "duration": 20,
    "start_time": "2022-01-27T10:41:46.052Z"
   },
   {
    "duration": 25,
    "start_time": "2022-01-27T10:45:58.825Z"
   },
   {
    "duration": 14,
    "start_time": "2022-01-27T10:45:59.145Z"
   },
   {
    "duration": 6,
    "start_time": "2022-01-27T10:45:59.441Z"
   },
   {
    "duration": 24,
    "start_time": "2022-01-27T10:46:00.001Z"
   },
   {
    "duration": 6,
    "start_time": "2022-01-27T10:46:01.792Z"
   },
   {
    "duration": 18,
    "start_time": "2022-01-27T10:46:02.273Z"
   },
   {
    "duration": 7,
    "start_time": "2022-01-27T10:46:04.537Z"
   },
   {
    "duration": 7,
    "start_time": "2022-01-27T10:46:05.089Z"
   },
   {
    "duration": 15,
    "start_time": "2022-01-27T10:46:16.136Z"
   },
   {
    "duration": 12,
    "start_time": "2022-01-27T10:46:45.791Z"
   },
   {
    "duration": 24,
    "start_time": "2022-01-27T10:46:50.710Z"
   },
   {
    "duration": 14,
    "start_time": "2022-01-27T10:46:51.215Z"
   },
   {
    "duration": 86,
    "start_time": "2022-01-27T10:47:42.797Z"
   },
   {
    "duration": 87,
    "start_time": "2022-01-27T10:47:51.268Z"
   },
   {
    "duration": 5,
    "start_time": "2022-01-27T10:48:41.994Z"
   },
   {
    "duration": 14,
    "start_time": "2022-01-27T10:48:42.666Z"
   },
   {
    "duration": 6,
    "start_time": "2022-01-27T10:48:42.962Z"
   },
   {
    "duration": 19,
    "start_time": "2022-01-27T10:48:43.434Z"
   },
   {
    "duration": 5,
    "start_time": "2022-01-27T10:48:56.442Z"
   },
   {
    "duration": 19,
    "start_time": "2022-01-27T10:48:56.633Z"
   },
   {
    "duration": 7,
    "start_time": "2022-01-27T10:48:57.601Z"
   },
   {
    "duration": 7,
    "start_time": "2022-01-27T10:48:59.953Z"
   },
   {
    "duration": 15,
    "start_time": "2022-01-27T10:49:00.866Z"
   },
   {
    "duration": 5,
    "start_time": "2022-01-27T10:50:56.620Z"
   },
   {
    "duration": 8,
    "start_time": "2022-01-27T10:53:34.469Z"
   },
   {
    "duration": 20,
    "start_time": "2022-01-27T10:53:42.213Z"
   },
   {
    "duration": 10,
    "start_time": "2022-01-27T10:54:54.842Z"
   },
   {
    "duration": 21,
    "start_time": "2022-01-27T10:54:55.207Z"
   },
   {
    "duration": 22,
    "start_time": "2022-01-27T10:55:01.634Z"
   },
   {
    "duration": 6,
    "start_time": "2022-01-27T10:55:15.249Z"
   },
   {
    "duration": 16,
    "start_time": "2022-01-27T10:55:15.540Z"
   },
   {
    "duration": 16,
    "start_time": "2022-01-27T10:55:30.761Z"
   },
   {
    "duration": 269,
    "start_time": "2022-01-27T10:56:01.583Z"
   },
   {
    "duration": 301,
    "start_time": "2022-01-27T10:57:01.878Z"
   },
   {
    "duration": 7567,
    "start_time": "2022-01-27T10:58:25.986Z"
   },
   {
    "duration": 6699,
    "start_time": "2022-01-27T10:58:43.889Z"
   },
   {
    "duration": 19,
    "start_time": "2022-01-27T10:59:01.455Z"
   },
   {
    "duration": 8,
    "start_time": "2022-01-27T10:59:02.023Z"
   },
   {
    "duration": 6,
    "start_time": "2022-01-27T10:59:02.647Z"
   },
   {
    "duration": 3,
    "start_time": "2022-01-27T10:59:02.878Z"
   },
   {
    "duration": 12,
    "start_time": "2022-01-27T10:59:03.711Z"
   },
   {
    "duration": 9,
    "start_time": "2022-01-27T10:59:03.895Z"
   },
   {
    "duration": 631,
    "start_time": "2022-01-27T10:59:04.400Z"
   },
   {
    "duration": 612,
    "start_time": "2022-01-27T10:59:05.034Z"
   },
   {
    "duration": 8,
    "start_time": "2022-01-27T10:59:05.648Z"
   },
   {
    "duration": 439,
    "start_time": "2022-01-27T10:59:05.657Z"
   },
   {
    "duration": 7,
    "start_time": "2022-01-27T10:59:06.098Z"
   },
   {
    "duration": 432,
    "start_time": "2022-01-27T10:59:06.107Z"
   },
   {
    "duration": 8,
    "start_time": "2022-01-27T10:59:06.541Z"
   },
   {
    "duration": 380,
    "start_time": "2022-01-27T10:59:06.551Z"
   },
   {
    "duration": 4,
    "start_time": "2022-01-27T10:59:06.933Z"
   },
   {
    "duration": 7182,
    "start_time": "2022-01-27T10:59:07.767Z"
   },
   {
    "duration": -927,
    "start_time": "2022-01-27T10:59:15.878Z"
   },
   {
    "duration": -927,
    "start_time": "2022-01-27T10:59:15.879Z"
   },
   {
    "duration": 5,
    "start_time": "2022-01-27T10:59:16.279Z"
   },
   {
    "duration": 329,
    "start_time": "2022-01-27T10:59:33.854Z"
   },
   {
    "duration": 5,
    "start_time": "2022-01-27T10:59:50.182Z"
   },
   {
    "duration": 255,
    "start_time": "2022-01-27T11:00:26.669Z"
   },
   {
    "duration": 4,
    "start_time": "2022-01-27T11:00:42.523Z"
   },
   {
    "duration": 6,
    "start_time": "2022-01-27T11:00:43.797Z"
   },
   {
    "duration": 5,
    "start_time": "2022-01-27T11:01:02.005Z"
   },
   {
    "duration": 7,
    "start_time": "2022-01-27T11:01:19.385Z"
   },
   {
    "duration": 7568,
    "start_time": "2022-01-27T11:02:00.551Z"
   },
   {
    "duration": 1210,
    "start_time": "2022-01-27T11:02:58.366Z"
   },
   {
    "duration": 1016,
    "start_time": "2022-01-27T11:02:59.578Z"
   },
   {
    "duration": 23,
    "start_time": "2022-01-27T11:03:00.599Z"
   },
   {
    "duration": 21,
    "start_time": "2022-01-27T11:03:00.624Z"
   },
   {
    "duration": 16,
    "start_time": "2022-01-27T11:03:00.646Z"
   },
   {
    "duration": 9,
    "start_time": "2022-01-27T11:03:00.663Z"
   },
   {
    "duration": 31,
    "start_time": "2022-01-27T11:03:00.674Z"
   },
   {
    "duration": 212,
    "start_time": "2022-01-27T11:03:00.708Z"
   },
   {
    "duration": 99,
    "start_time": "2022-01-27T11:03:00.923Z"
   },
   {
    "duration": 18,
    "start_time": "2022-01-27T11:03:01.023Z"
   },
   {
    "duration": 23,
    "start_time": "2022-01-27T11:03:01.043Z"
   },
   {
    "duration": 37,
    "start_time": "2022-01-27T11:03:01.068Z"
   },
   {
    "duration": 59,
    "start_time": "2022-01-27T11:03:01.106Z"
   },
   {
    "duration": 40,
    "start_time": "2022-01-27T11:03:01.167Z"
   },
   {
    "duration": 59,
    "start_time": "2022-01-27T11:03:01.209Z"
   },
   {
    "duration": 30,
    "start_time": "2022-01-27T11:03:01.270Z"
   },
   {
    "duration": 40,
    "start_time": "2022-01-27T11:03:01.302Z"
   },
   {
    "duration": 24,
    "start_time": "2022-01-27T11:03:01.345Z"
   },
   {
    "duration": 54,
    "start_time": "2022-01-27T11:03:01.372Z"
   },
   {
    "duration": 91,
    "start_time": "2022-01-27T11:03:01.428Z"
   },
   {
    "duration": 26,
    "start_time": "2022-01-27T11:03:01.521Z"
   },
   {
    "duration": 86,
    "start_time": "2022-01-27T11:03:01.549Z"
   },
   {
    "duration": 6,
    "start_time": "2022-01-27T11:03:01.636Z"
   },
   {
    "duration": 22,
    "start_time": "2022-01-27T11:03:01.644Z"
   },
   {
    "duration": 7,
    "start_time": "2022-01-27T11:03:01.668Z"
   },
   {
    "duration": 36,
    "start_time": "2022-01-27T11:03:01.680Z"
   },
   {
    "duration": 6,
    "start_time": "2022-01-27T11:03:01.719Z"
   },
   {
    "duration": 40,
    "start_time": "2022-01-27T11:03:01.726Z"
   },
   {
    "duration": 23,
    "start_time": "2022-01-27T11:03:01.768Z"
   },
   {
    "duration": 27,
    "start_time": "2022-01-27T11:03:01.793Z"
   },
   {
    "duration": 29,
    "start_time": "2022-01-27T11:03:01.822Z"
   },
   {
    "duration": 38,
    "start_time": "2022-01-27T11:03:01.853Z"
   },
   {
    "duration": 15,
    "start_time": "2022-01-27T11:03:01.893Z"
   },
   {
    "duration": 27,
    "start_time": "2022-01-27T11:03:01.910Z"
   },
   {
    "duration": 15,
    "start_time": "2022-01-27T11:03:01.939Z"
   },
   {
    "duration": 18,
    "start_time": "2022-01-27T11:03:01.956Z"
   },
   {
    "duration": 372,
    "start_time": "2022-01-27T11:03:01.976Z"
   },
   {
    "duration": 23,
    "start_time": "2022-01-27T11:03:02.349Z"
   },
   {
    "duration": 27,
    "start_time": "2022-01-27T11:03:02.374Z"
   },
   {
    "duration": 7,
    "start_time": "2022-01-27T11:03:02.403Z"
   },
   {
    "duration": 24,
    "start_time": "2022-01-27T11:03:02.411Z"
   },
   {
    "duration": 33,
    "start_time": "2022-01-27T11:03:02.437Z"
   },
   {
    "duration": 8,
    "start_time": "2022-01-27T11:03:02.472Z"
   },
   {
    "duration": 618,
    "start_time": "2022-01-27T11:03:02.482Z"
   },
   {
    "duration": 632,
    "start_time": "2022-01-27T11:03:03.102Z"
   },
   {
    "duration": 7,
    "start_time": "2022-01-27T11:03:03.736Z"
   },
   {
    "duration": 435,
    "start_time": "2022-01-27T11:03:03.745Z"
   },
   {
    "duration": 16,
    "start_time": "2022-01-27T11:03:04.182Z"
   },
   {
    "duration": 429,
    "start_time": "2022-01-27T11:03:04.200Z"
   },
   {
    "duration": 7,
    "start_time": "2022-01-27T11:03:04.631Z"
   },
   {
    "duration": 391,
    "start_time": "2022-01-27T11:03:04.640Z"
   },
   {
    "duration": 6,
    "start_time": "2022-01-27T11:03:05.033Z"
   },
   {
    "duration": 21,
    "start_time": "2022-01-27T11:03:05.040Z"
   },
   {
    "duration": 378,
    "start_time": "2022-01-27T11:03:05.062Z"
   },
   {
    "duration": -922,
    "start_time": "2022-01-27T11:03:06.364Z"
   },
   {
    "duration": -923,
    "start_time": "2022-01-27T11:03:06.366Z"
   },
   {
    "duration": -923,
    "start_time": "2022-01-27T11:03:06.368Z"
   },
   {
    "duration": -923,
    "start_time": "2022-01-27T11:03:06.369Z"
   },
   {
    "duration": -923,
    "start_time": "2022-01-27T11:03:06.370Z"
   },
   {
    "duration": -923,
    "start_time": "2022-01-27T11:03:06.371Z"
   },
   {
    "duration": 1182,
    "start_time": "2022-01-27T11:04:34.586Z"
   },
   {
    "duration": 1160,
    "start_time": "2022-01-27T11:04:35.770Z"
   },
   {
    "duration": 25,
    "start_time": "2022-01-27T11:04:36.933Z"
   },
   {
    "duration": 19,
    "start_time": "2022-01-27T11:04:36.961Z"
   },
   {
    "duration": 15,
    "start_time": "2022-01-27T11:04:36.982Z"
   },
   {
    "duration": 7,
    "start_time": "2022-01-27T11:04:36.999Z"
   },
   {
    "duration": 7,
    "start_time": "2022-01-27T11:04:37.007Z"
   },
   {
    "duration": 215,
    "start_time": "2022-01-27T11:04:37.017Z"
   },
   {
    "duration": 96,
    "start_time": "2022-01-27T11:04:37.234Z"
   },
   {
    "duration": 16,
    "start_time": "2022-01-27T11:04:37.332Z"
   },
   {
    "duration": 22,
    "start_time": "2022-01-27T11:04:37.350Z"
   },
   {
    "duration": 37,
    "start_time": "2022-01-27T11:04:37.373Z"
   },
   {
    "duration": 73,
    "start_time": "2022-01-27T11:04:37.412Z"
   },
   {
    "duration": 27,
    "start_time": "2022-01-27T11:04:37.487Z"
   },
   {
    "duration": 53,
    "start_time": "2022-01-27T11:04:37.516Z"
   },
   {
    "duration": 11,
    "start_time": "2022-01-27T11:04:37.571Z"
   },
   {
    "duration": 40,
    "start_time": "2022-01-27T11:04:37.599Z"
   },
   {
    "duration": 22,
    "start_time": "2022-01-27T11:04:37.640Z"
   },
   {
    "duration": 44,
    "start_time": "2022-01-27T11:04:37.664Z"
   },
   {
    "duration": 70,
    "start_time": "2022-01-27T11:04:37.710Z"
   },
   {
    "duration": 38,
    "start_time": "2022-01-27T11:04:37.781Z"
   },
   {
    "duration": 81,
    "start_time": "2022-01-27T11:04:37.821Z"
   },
   {
    "duration": 5,
    "start_time": "2022-01-27T11:04:37.906Z"
   },
   {
    "duration": 14,
    "start_time": "2022-01-27T11:04:37.913Z"
   },
   {
    "duration": 6,
    "start_time": "2022-01-27T11:04:37.929Z"
   },
   {
    "duration": 17,
    "start_time": "2022-01-27T11:04:37.937Z"
   },
   {
    "duration": 5,
    "start_time": "2022-01-27T11:04:37.956Z"
   },
   {
    "duration": 48,
    "start_time": "2022-01-27T11:04:37.962Z"
   },
   {
    "duration": 8,
    "start_time": "2022-01-27T11:04:38.012Z"
   },
   {
    "duration": 6,
    "start_time": "2022-01-27T11:04:38.022Z"
   },
   {
    "duration": 15,
    "start_time": "2022-01-27T11:04:38.030Z"
   },
   {
    "duration": 14,
    "start_time": "2022-01-27T11:04:38.047Z"
   },
   {
    "duration": 37,
    "start_time": "2022-01-27T11:04:38.063Z"
   },
   {
    "duration": 5,
    "start_time": "2022-01-27T11:04:38.102Z"
   },
   {
    "duration": 5,
    "start_time": "2022-01-27T11:04:38.109Z"
   },
   {
    "duration": 8,
    "start_time": "2022-01-27T11:04:38.116Z"
   },
   {
    "duration": 350,
    "start_time": "2022-01-27T11:04:38.125Z"
   },
   {
    "duration": 30,
    "start_time": "2022-01-27T11:04:38.477Z"
   },
   {
    "duration": 11,
    "start_time": "2022-01-27T11:04:38.509Z"
   },
   {
    "duration": 10,
    "start_time": "2022-01-27T11:04:38.521Z"
   },
   {
    "duration": 3,
    "start_time": "2022-01-27T11:04:38.533Z"
   },
   {
    "duration": 14,
    "start_time": "2022-01-27T11:04:38.538Z"
   },
   {
    "duration": 9,
    "start_time": "2022-01-27T11:04:38.553Z"
   },
   {
    "duration": 627,
    "start_time": "2022-01-27T11:04:38.564Z"
   },
   {
    "duration": 600,
    "start_time": "2022-01-27T11:04:39.193Z"
   },
   {
    "duration": 9,
    "start_time": "2022-01-27T11:04:39.795Z"
   },
   {
    "duration": 433,
    "start_time": "2022-01-27T11:04:39.806Z"
   },
   {
    "duration": 8,
    "start_time": "2022-01-27T11:04:40.240Z"
   },
   {
    "duration": 429,
    "start_time": "2022-01-27T11:04:40.250Z"
   },
   {
    "duration": 8,
    "start_time": "2022-01-27T11:04:40.681Z"
   },
   {
    "duration": 432,
    "start_time": "2022-01-27T11:04:40.699Z"
   },
   {
    "duration": 4,
    "start_time": "2022-01-27T11:04:41.132Z"
   },
   {
    "duration": 5,
    "start_time": "2022-01-27T11:04:41.138Z"
   },
   {
    "duration": 11,
    "start_time": "2022-01-27T11:04:41.145Z"
   },
   {
    "duration": 656,
    "start_time": "2022-01-27T11:04:41.158Z"
   },
   {
    "duration": -958,
    "start_time": "2022-01-27T11:04:42.774Z"
   },
   {
    "duration": -959,
    "start_time": "2022-01-27T11:04:42.776Z"
   },
   {
    "duration": -959,
    "start_time": "2022-01-27T11:04:42.777Z"
   },
   {
    "duration": -959,
    "start_time": "2022-01-27T11:04:42.779Z"
   },
   {
    "duration": -959,
    "start_time": "2022-01-27T11:04:42.780Z"
   },
   {
    "duration": -959,
    "start_time": "2022-01-27T11:04:42.781Z"
   },
   {
    "duration": -959,
    "start_time": "2022-01-27T11:04:42.783Z"
   },
   {
    "duration": -959,
    "start_time": "2022-01-27T11:04:42.784Z"
   },
   {
    "duration": 11,
    "start_time": "2022-01-27T11:05:52.453Z"
   },
   {
    "duration": 10,
    "start_time": "2022-01-27T11:06:09.341Z"
   },
   {
    "duration": 4,
    "start_time": "2022-01-27T11:06:10.005Z"
   },
   {
    "duration": 4,
    "start_time": "2022-01-27T11:06:13.300Z"
   },
   {
    "duration": 4,
    "start_time": "2022-01-27T11:06:26.293Z"
   },
   {
    "duration": 6,
    "start_time": "2022-01-27T11:06:50.771Z"
   },
   {
    "duration": 6,
    "start_time": "2022-01-27T11:07:03.227Z"
   },
   {
    "duration": 4,
    "start_time": "2022-01-27T11:07:20.265Z"
   },
   {
    "duration": 1256,
    "start_time": "2022-01-27T11:07:31.081Z"
   },
   {
    "duration": 2556,
    "start_time": "2022-01-27T11:07:32.339Z"
   },
   {
    "duration": 23,
    "start_time": "2022-01-27T11:07:34.897Z"
   },
   {
    "duration": 20,
    "start_time": "2022-01-27T11:07:34.923Z"
   },
   {
    "duration": 16,
    "start_time": "2022-01-27T11:07:34.944Z"
   },
   {
    "duration": 8,
    "start_time": "2022-01-27T11:07:34.961Z"
   },
   {
    "duration": 31,
    "start_time": "2022-01-27T11:07:34.971Z"
   },
   {
    "duration": 219,
    "start_time": "2022-01-27T11:07:35.005Z"
   },
   {
    "duration": 104,
    "start_time": "2022-01-27T11:07:35.226Z"
   },
   {
    "duration": 18,
    "start_time": "2022-01-27T11:07:35.332Z"
   },
   {
    "duration": 20,
    "start_time": "2022-01-27T11:07:35.352Z"
   },
   {
    "duration": 35,
    "start_time": "2022-01-27T11:07:35.374Z"
   },
   {
    "duration": 52,
    "start_time": "2022-01-27T11:07:35.411Z"
   },
   {
    "duration": 43,
    "start_time": "2022-01-27T11:07:35.465Z"
   },
   {
    "duration": 51,
    "start_time": "2022-01-27T11:07:35.510Z"
   },
   {
    "duration": 12,
    "start_time": "2022-01-27T11:07:35.563Z"
   },
   {
    "duration": 55,
    "start_time": "2022-01-27T11:07:35.577Z"
   },
   {
    "duration": 22,
    "start_time": "2022-01-27T11:07:35.634Z"
   },
   {
    "duration": 59,
    "start_time": "2022-01-27T11:07:35.658Z"
   },
   {
    "duration": 82,
    "start_time": "2022-01-27T11:07:35.719Z"
   },
   {
    "duration": 25,
    "start_time": "2022-01-27T11:07:35.803Z"
   },
   {
    "duration": 81,
    "start_time": "2022-01-27T11:07:35.830Z"
   },
   {
    "duration": 4,
    "start_time": "2022-01-27T11:07:35.916Z"
   },
   {
    "duration": 14,
    "start_time": "2022-01-27T11:07:35.922Z"
   },
   {
    "duration": 7,
    "start_time": "2022-01-27T11:07:35.938Z"
   },
   {
    "duration": 21,
    "start_time": "2022-01-27T11:07:35.947Z"
   },
   {
    "duration": 28,
    "start_time": "2022-01-27T11:07:35.970Z"
   },
   {
    "duration": 22,
    "start_time": "2022-01-27T11:07:36.000Z"
   },
   {
    "duration": 9,
    "start_time": "2022-01-27T11:07:36.023Z"
   },
   {
    "duration": 9,
    "start_time": "2022-01-27T11:07:36.034Z"
   },
   {
    "duration": 14,
    "start_time": "2022-01-27T11:07:36.044Z"
   },
   {
    "duration": 40,
    "start_time": "2022-01-27T11:07:36.060Z"
   },
   {
    "duration": 4,
    "start_time": "2022-01-27T11:07:36.101Z"
   },
   {
    "duration": 9,
    "start_time": "2022-01-27T11:07:36.106Z"
   },
   {
    "duration": 5,
    "start_time": "2022-01-27T11:07:36.117Z"
   },
   {
    "duration": 5,
    "start_time": "2022-01-27T11:07:36.124Z"
   },
   {
    "duration": 345,
    "start_time": "2022-01-27T11:07:36.131Z"
   },
   {
    "duration": 27,
    "start_time": "2022-01-27T11:07:36.478Z"
   },
   {
    "duration": 8,
    "start_time": "2022-01-27T11:07:36.507Z"
   },
   {
    "duration": 11,
    "start_time": "2022-01-27T11:07:36.516Z"
   },
   {
    "duration": 6,
    "start_time": "2022-01-27T11:07:36.529Z"
   },
   {
    "duration": 12,
    "start_time": "2022-01-27T11:07:36.536Z"
   },
   {
    "duration": 8,
    "start_time": "2022-01-27T11:07:36.550Z"
   },
   {
    "duration": 630,
    "start_time": "2022-01-27T11:07:36.559Z"
   },
   {
    "duration": 612,
    "start_time": "2022-01-27T11:07:37.191Z"
   },
   {
    "duration": 8,
    "start_time": "2022-01-27T11:07:37.805Z"
   },
   {
    "duration": 437,
    "start_time": "2022-01-27T11:07:37.815Z"
   },
   {
    "duration": 7,
    "start_time": "2022-01-27T11:07:38.254Z"
   },
   {
    "duration": 425,
    "start_time": "2022-01-27T11:07:38.263Z"
   },
   {
    "duration": 12,
    "start_time": "2022-01-27T11:07:38.690Z"
   },
   {
    "duration": 441,
    "start_time": "2022-01-27T11:07:38.704Z"
   },
   {
    "duration": 4,
    "start_time": "2022-01-27T11:07:39.147Z"
   },
   {
    "duration": 7,
    "start_time": "2022-01-27T11:07:39.153Z"
   },
   {
    "duration": 12,
    "start_time": "2022-01-27T11:07:39.162Z"
   },
   {
    "duration": 5,
    "start_time": "2022-01-27T11:07:39.175Z"
   },
   {
    "duration": 17,
    "start_time": "2022-01-27T11:07:39.182Z"
   },
   {
    "duration": 3,
    "start_time": "2022-01-27T11:07:39.201Z"
   },
   {
    "duration": 7,
    "start_time": "2022-01-27T11:07:39.207Z"
   },
   {
    "duration": 16,
    "start_time": "2022-01-27T11:07:39.215Z"
   },
   {
    "duration": 6,
    "start_time": "2022-01-27T11:07:39.233Z"
   },
   {
    "duration": 9,
    "start_time": "2022-01-27T11:07:39.241Z"
   },
   {
    "duration": 6926,
    "start_time": "2022-01-27T11:07:39.251Z"
   },
   {
    "duration": -946,
    "start_time": "2022-01-27T11:07:47.125Z"
   },
   {
    "duration": -946,
    "start_time": "2022-01-27T11:07:47.127Z"
   },
   {
    "duration": -946,
    "start_time": "2022-01-27T11:07:47.129Z"
   },
   {
    "duration": 22,
    "start_time": "2022-01-27T11:08:16.231Z"
   },
   {
    "duration": 285,
    "start_time": "2022-01-27T11:09:30.739Z"
   },
   {
    "duration": 281,
    "start_time": "2022-01-27T11:09:46.926Z"
   },
   {
    "duration": 1176,
    "start_time": "2022-01-27T11:09:52.581Z"
   },
   {
    "duration": 3942,
    "start_time": "2022-01-27T11:09:53.759Z"
   },
   {
    "duration": 24,
    "start_time": "2022-01-27T11:09:57.703Z"
   },
   {
    "duration": 18,
    "start_time": "2022-01-27T11:09:57.729Z"
   },
   {
    "duration": 15,
    "start_time": "2022-01-27T11:09:57.749Z"
   },
   {
    "duration": 36,
    "start_time": "2022-01-27T11:09:57.766Z"
   },
   {
    "duration": 7,
    "start_time": "2022-01-27T11:09:57.805Z"
   },
   {
    "duration": 215,
    "start_time": "2022-01-27T11:09:57.814Z"
   },
   {
    "duration": 107,
    "start_time": "2022-01-27T11:09:58.031Z"
   },
   {
    "duration": 18,
    "start_time": "2022-01-27T11:09:58.139Z"
   },
   {
    "duration": 22,
    "start_time": "2022-01-27T11:09:58.159Z"
   },
   {
    "duration": 15,
    "start_time": "2022-01-27T11:09:58.199Z"
   },
   {
    "duration": 54,
    "start_time": "2022-01-27T11:09:58.215Z"
   },
   {
    "duration": 46,
    "start_time": "2022-01-27T11:09:58.271Z"
   },
   {
    "duration": 51,
    "start_time": "2022-01-27T11:09:58.319Z"
   },
   {
    "duration": 29,
    "start_time": "2022-01-27T11:09:58.372Z"
   },
   {
    "duration": 34,
    "start_time": "2022-01-27T11:09:58.403Z"
   },
   {
    "duration": 19,
    "start_time": "2022-01-27T11:09:58.439Z"
   },
   {
    "duration": 47,
    "start_time": "2022-01-27T11:09:58.460Z"
   },
   {
    "duration": 68,
    "start_time": "2022-01-27T11:09:58.509Z"
   },
   {
    "duration": 35,
    "start_time": "2022-01-27T11:09:58.578Z"
   },
   {
    "duration": 63,
    "start_time": "2022-01-27T11:09:58.617Z"
   },
   {
    "duration": 17,
    "start_time": "2022-01-27T11:09:58.683Z"
   },
   {
    "duration": 16,
    "start_time": "2022-01-27T11:09:58.702Z"
   },
   {
    "duration": 7,
    "start_time": "2022-01-27T11:09:58.719Z"
   },
   {
    "duration": 18,
    "start_time": "2022-01-27T11:09:58.727Z"
   },
   {
    "duration": 4,
    "start_time": "2022-01-27T11:09:58.747Z"
   },
   {
    "duration": 19,
    "start_time": "2022-01-27T11:09:58.753Z"
   },
   {
    "duration": 29,
    "start_time": "2022-01-27T11:09:58.774Z"
   },
   {
    "duration": 9,
    "start_time": "2022-01-27T11:09:58.805Z"
   },
   {
    "duration": 14,
    "start_time": "2022-01-27T11:09:58.816Z"
   },
   {
    "duration": 23,
    "start_time": "2022-01-27T11:09:58.832Z"
   },
   {
    "duration": 7,
    "start_time": "2022-01-27T11:09:58.856Z"
   },
   {
    "duration": 18,
    "start_time": "2022-01-27T11:09:58.865Z"
   },
   {
    "duration": 16,
    "start_time": "2022-01-27T11:09:58.885Z"
   },
   {
    "duration": 7,
    "start_time": "2022-01-27T11:09:58.903Z"
   },
   {
    "duration": 332,
    "start_time": "2022-01-27T11:09:58.912Z"
   },
   {
    "duration": 20,
    "start_time": "2022-01-27T11:09:59.246Z"
   },
   {
    "duration": 8,
    "start_time": "2022-01-27T11:09:59.267Z"
   },
   {
    "duration": 22,
    "start_time": "2022-01-27T11:09:59.277Z"
   },
   {
    "duration": 8,
    "start_time": "2022-01-27T11:09:59.301Z"
   },
   {
    "duration": 13,
    "start_time": "2022-01-27T11:09:59.311Z"
   },
   {
    "duration": 10,
    "start_time": "2022-01-27T11:09:59.326Z"
   },
   {
    "duration": 599,
    "start_time": "2022-01-27T11:09:59.337Z"
   },
   {
    "duration": 608,
    "start_time": "2022-01-27T11:09:59.938Z"
   },
   {
    "duration": 8,
    "start_time": "2022-01-27T11:10:00.547Z"
   },
   {
    "duration": 445,
    "start_time": "2022-01-27T11:10:00.557Z"
   },
   {
    "duration": 8,
    "start_time": "2022-01-27T11:10:01.003Z"
   },
   {
    "duration": 443,
    "start_time": "2022-01-27T11:10:01.013Z"
   },
   {
    "duration": 9,
    "start_time": "2022-01-27T11:10:01.458Z"
   },
   {
    "duration": 471,
    "start_time": "2022-01-27T11:10:01.469Z"
   },
   {
    "duration": 5,
    "start_time": "2022-01-27T11:10:01.943Z"
   },
   {
    "duration": 25,
    "start_time": "2022-01-27T11:10:01.950Z"
   },
   {
    "duration": 336,
    "start_time": "2022-01-27T11:10:01.977Z"
   },
   {
    "duration": 12,
    "start_time": "2022-01-27T11:10:02.315Z"
   },
   {
    "duration": 28,
    "start_time": "2022-01-27T11:10:02.328Z"
   },
   {
    "duration": 20,
    "start_time": "2022-01-27T11:10:02.358Z"
   },
   {
    "duration": 304,
    "start_time": "2022-01-27T11:10:02.380Z"
   },
   {
    "duration": 4,
    "start_time": "2022-01-27T11:10:02.688Z"
   },
   {
    "duration": 26,
    "start_time": "2022-01-27T11:10:02.694Z"
   },
   {
    "duration": 29,
    "start_time": "2022-01-27T11:10:02.722Z"
   },
   {
    "duration": 15,
    "start_time": "2022-01-27T11:10:02.754Z"
   },
   {
    "duration": 29,
    "start_time": "2022-01-27T11:10:02.771Z"
   },
   {
    "duration": 37377,
    "start_time": "2022-01-27T11:10:02.803Z"
   },
   {
    "duration": -943,
    "start_time": "2022-01-27T11:10:41.125Z"
   },
   {
    "duration": -943,
    "start_time": "2022-01-27T11:10:41.127Z"
   },
   {
    "duration": -943,
    "start_time": "2022-01-27T11:10:41.128Z"
   },
   {
    "duration": 6,
    "start_time": "2022-01-27T11:10:52.993Z"
   },
   {
    "duration": 1229,
    "start_time": "2022-01-27T11:10:59.635Z"
   },
   {
    "duration": 982,
    "start_time": "2022-01-27T11:11:00.866Z"
   },
   {
    "duration": 24,
    "start_time": "2022-01-27T11:11:01.850Z"
   },
   {
    "duration": 32,
    "start_time": "2022-01-27T11:11:01.876Z"
   },
   {
    "duration": 26,
    "start_time": "2022-01-27T11:11:01.910Z"
   },
   {
    "duration": 11,
    "start_time": "2022-01-27T11:11:01.938Z"
   },
   {
    "duration": 16,
    "start_time": "2022-01-27T11:11:01.951Z"
   },
   {
    "duration": 230,
    "start_time": "2022-01-27T11:11:01.970Z"
   },
   {
    "duration": 100,
    "start_time": "2022-01-27T11:11:02.203Z"
   },
   {
    "duration": 18,
    "start_time": "2022-01-27T11:11:02.305Z"
   },
   {
    "duration": 27,
    "start_time": "2022-01-27T11:11:02.325Z"
   },
   {
    "duration": 15,
    "start_time": "2022-01-27T11:11:02.354Z"
   },
   {
    "duration": 135,
    "start_time": "2022-01-27T11:11:02.371Z"
   },
   {
    "duration": 26,
    "start_time": "2022-01-27T11:11:02.508Z"
   },
   {
    "duration": 106,
    "start_time": "2022-01-27T11:11:02.535Z"
   },
   {
    "duration": 65,
    "start_time": "2022-01-27T11:11:02.643Z"
   },
   {
    "duration": 94,
    "start_time": "2022-01-27T11:11:02.710Z"
   },
   {
    "duration": 22,
    "start_time": "2022-01-27T11:11:02.806Z"
   },
   {
    "duration": 82,
    "start_time": "2022-01-27T11:11:02.830Z"
   },
   {
    "duration": 107,
    "start_time": "2022-01-27T11:11:02.913Z"
   },
   {
    "duration": 25,
    "start_time": "2022-01-27T11:11:03.021Z"
   },
   {
    "duration": 84,
    "start_time": "2022-01-27T11:11:03.047Z"
   },
   {
    "duration": 4,
    "start_time": "2022-01-27T11:11:03.136Z"
   },
   {
    "duration": 14,
    "start_time": "2022-01-27T11:11:03.143Z"
   },
   {
    "duration": 7,
    "start_time": "2022-01-27T11:11:03.159Z"
   },
   {
    "duration": 41,
    "start_time": "2022-01-27T11:11:03.167Z"
   },
   {
    "duration": 4,
    "start_time": "2022-01-27T11:11:03.210Z"
   },
   {
    "duration": 21,
    "start_time": "2022-01-27T11:11:03.216Z"
   },
   {
    "duration": 7,
    "start_time": "2022-01-27T11:11:03.239Z"
   },
   {
    "duration": 10,
    "start_time": "2022-01-27T11:11:03.247Z"
   },
   {
    "duration": 14,
    "start_time": "2022-01-27T11:11:03.259Z"
   },
   {
    "duration": 15,
    "start_time": "2022-01-27T11:11:03.299Z"
   },
   {
    "duration": 3,
    "start_time": "2022-01-27T11:11:03.316Z"
   },
   {
    "duration": 8,
    "start_time": "2022-01-27T11:11:03.321Z"
   },
   {
    "duration": 7,
    "start_time": "2022-01-27T11:11:03.331Z"
   },
   {
    "duration": 12,
    "start_time": "2022-01-27T11:11:03.340Z"
   },
   {
    "duration": 345,
    "start_time": "2022-01-27T11:11:03.354Z"
   },
   {
    "duration": 6,
    "start_time": "2022-01-27T11:11:03.700Z"
   },
   {
    "duration": 29,
    "start_time": "2022-01-27T11:11:03.707Z"
   },
   {
    "duration": 8,
    "start_time": "2022-01-27T11:11:03.738Z"
   },
   {
    "duration": 8,
    "start_time": "2022-01-27T11:11:03.748Z"
   },
   {
    "duration": 9,
    "start_time": "2022-01-27T11:11:03.758Z"
   },
   {
    "duration": 16,
    "start_time": "2022-01-27T11:11:03.769Z"
   },
   {
    "duration": 19,
    "start_time": "2022-01-27T11:11:03.787Z"
   },
   {
    "duration": 716,
    "start_time": "2022-01-27T11:11:03.808Z"
   },
   {
    "duration": 784,
    "start_time": "2022-01-27T11:11:04.526Z"
   },
   {
    "duration": 8,
    "start_time": "2022-01-27T11:11:05.312Z"
   },
   {
    "duration": 437,
    "start_time": "2022-01-27T11:11:05.322Z"
   },
   {
    "duration": 8,
    "start_time": "2022-01-27T11:11:05.761Z"
   },
   {
    "duration": 431,
    "start_time": "2022-01-27T11:11:05.770Z"
   },
   {
    "duration": 7,
    "start_time": "2022-01-27T11:11:06.203Z"
   },
   {
    "duration": 448,
    "start_time": "2022-01-27T11:11:06.212Z"
   },
   {
    "duration": 5,
    "start_time": "2022-01-27T11:11:06.662Z"
   },
   {
    "duration": 5,
    "start_time": "2022-01-27T11:11:06.669Z"
   },
   {
    "duration": 310,
    "start_time": "2022-01-27T11:11:06.676Z"
   },
   {
    "duration": 11,
    "start_time": "2022-01-27T11:11:06.988Z"
   },
   {
    "duration": 7,
    "start_time": "2022-01-27T11:11:07.001Z"
   },
   {
    "duration": 6,
    "start_time": "2022-01-27T11:11:07.010Z"
   },
   {
    "duration": 310,
    "start_time": "2022-01-27T11:11:07.018Z"
   },
   {
    "duration": 3,
    "start_time": "2022-01-27T11:11:07.330Z"
   },
   {
    "duration": 7,
    "start_time": "2022-01-27T11:11:07.334Z"
   },
   {
    "duration": 7,
    "start_time": "2022-01-27T11:11:07.342Z"
   },
   {
    "duration": 6,
    "start_time": "2022-01-27T11:11:07.350Z"
   },
   {
    "duration": 8,
    "start_time": "2022-01-27T11:11:07.357Z"
   },
   {
    "duration": 7512,
    "start_time": "2022-01-27T11:11:07.367Z"
   },
   {
    "duration": -959,
    "start_time": "2022-01-27T11:11:15.840Z"
   },
   {
    "duration": -959,
    "start_time": "2022-01-27T11:11:15.841Z"
   },
   {
    "duration": -959,
    "start_time": "2022-01-27T11:11:15.842Z"
   },
   {
    "duration": 22,
    "start_time": "2022-01-27T11:11:44.535Z"
   },
   {
    "duration": 7,
    "start_time": "2022-01-27T11:12:39.940Z"
   },
   {
    "duration": 8,
    "start_time": "2022-01-27T11:12:40.213Z"
   },
   {
    "duration": 256,
    "start_time": "2022-01-27T11:12:41.532Z"
   },
   {
    "duration": 271,
    "start_time": "2022-01-27T11:12:57.787Z"
   },
   {
    "duration": 3973,
    "start_time": "2022-01-27T11:13:04.819Z"
   },
   {
    "duration": -966,
    "start_time": "2022-01-27T11:13:09.760Z"
   },
   {
    "duration": 1146,
    "start_time": "2022-01-27T11:18:36.915Z"
   },
   {
    "duration": 3079,
    "start_time": "2022-01-27T11:18:38.063Z"
   },
   {
    "duration": 23,
    "start_time": "2022-01-27T11:18:41.144Z"
   },
   {
    "duration": 21,
    "start_time": "2022-01-27T11:18:41.170Z"
   },
   {
    "duration": 18,
    "start_time": "2022-01-27T11:18:41.193Z"
   },
   {
    "duration": 7,
    "start_time": "2022-01-27T11:18:41.213Z"
   },
   {
    "duration": 9,
    "start_time": "2022-01-27T11:18:41.221Z"
   },
   {
    "duration": 222,
    "start_time": "2022-01-27T11:18:41.233Z"
   },
   {
    "duration": 102,
    "start_time": "2022-01-27T11:18:41.458Z"
   },
   {
    "duration": 17,
    "start_time": "2022-01-27T11:18:41.562Z"
   },
   {
    "duration": 35,
    "start_time": "2022-01-27T11:18:41.580Z"
   },
   {
    "duration": 14,
    "start_time": "2022-01-27T11:18:41.617Z"
   },
   {
    "duration": 68,
    "start_time": "2022-01-27T11:18:41.633Z"
   },
   {
    "duration": 25,
    "start_time": "2022-01-27T11:18:41.703Z"
   },
   {
    "duration": 69,
    "start_time": "2022-01-27T11:18:41.730Z"
   },
   {
    "duration": 12,
    "start_time": "2022-01-27T11:18:41.801Z"
   },
   {
    "duration": 38,
    "start_time": "2022-01-27T11:18:41.814Z"
   },
   {
    "duration": 21,
    "start_time": "2022-01-27T11:18:41.854Z"
   },
   {
    "duration": 33,
    "start_time": "2022-01-27T11:18:41.898Z"
   },
   {
    "duration": 75,
    "start_time": "2022-01-27T11:18:41.933Z"
   },
   {
    "duration": 22,
    "start_time": "2022-01-27T11:18:42.009Z"
   },
   {
    "duration": 73,
    "start_time": "2022-01-27T11:18:42.033Z"
   },
   {
    "duration": 4,
    "start_time": "2022-01-27T11:18:42.110Z"
   },
   {
    "duration": 14,
    "start_time": "2022-01-27T11:18:42.117Z"
   },
   {
    "duration": 7,
    "start_time": "2022-01-27T11:18:42.132Z"
   },
   {
    "duration": 18,
    "start_time": "2022-01-27T11:18:42.141Z"
   },
   {
    "duration": 5,
    "start_time": "2022-01-27T11:18:42.160Z"
   },
   {
    "duration": 47,
    "start_time": "2022-01-27T11:18:42.167Z"
   },
   {
    "duration": 8,
    "start_time": "2022-01-27T11:18:42.216Z"
   },
   {
    "duration": 7,
    "start_time": "2022-01-27T11:18:42.225Z"
   },
   {
    "duration": 16,
    "start_time": "2022-01-27T11:18:42.234Z"
   },
   {
    "duration": 16,
    "start_time": "2022-01-27T11:18:42.252Z"
   },
   {
    "duration": 31,
    "start_time": "2022-01-27T11:18:42.269Z"
   },
   {
    "duration": 8,
    "start_time": "2022-01-27T11:18:42.302Z"
   },
   {
    "duration": 5,
    "start_time": "2022-01-27T11:18:42.312Z"
   },
   {
    "duration": 4,
    "start_time": "2022-01-27T11:18:42.319Z"
   },
   {
    "duration": 365,
    "start_time": "2022-01-27T11:18:42.325Z"
   },
   {
    "duration": 8,
    "start_time": "2022-01-27T11:18:42.692Z"
   },
   {
    "duration": 28,
    "start_time": "2022-01-27T11:18:42.701Z"
   },
   {
    "duration": 10,
    "start_time": "2022-01-27T11:18:42.730Z"
   },
   {
    "duration": 8,
    "start_time": "2022-01-27T11:18:42.741Z"
   },
   {
    "duration": 2,
    "start_time": "2022-01-27T11:18:42.751Z"
   },
   {
    "duration": 12,
    "start_time": "2022-01-27T11:18:42.755Z"
   },
   {
    "duration": 36,
    "start_time": "2022-01-27T11:18:42.769Z"
   },
   {
    "duration": 625,
    "start_time": "2022-01-27T11:18:42.808Z"
   },
   {
    "duration": 627,
    "start_time": "2022-01-27T11:18:43.436Z"
   },
   {
    "duration": 8,
    "start_time": "2022-01-27T11:18:44.065Z"
   },
   {
    "duration": 429,
    "start_time": "2022-01-27T11:18:44.075Z"
   },
   {
    "duration": 9,
    "start_time": "2022-01-27T11:18:44.506Z"
   },
   {
    "duration": 492,
    "start_time": "2022-01-27T11:18:44.517Z"
   },
   {
    "duration": 9,
    "start_time": "2022-01-27T11:18:45.011Z"
   },
   {
    "duration": 445,
    "start_time": "2022-01-27T11:18:45.022Z"
   },
   {
    "duration": 5,
    "start_time": "2022-01-27T11:18:45.469Z"
   },
   {
    "duration": 34,
    "start_time": "2022-01-27T11:18:45.477Z"
   },
   {
    "duration": 297,
    "start_time": "2022-01-27T11:18:45.513Z"
   },
   {
    "duration": 11,
    "start_time": "2022-01-27T11:18:45.813Z"
   },
   {
    "duration": 31,
    "start_time": "2022-01-27T11:18:45.826Z"
   },
   {
    "duration": 22,
    "start_time": "2022-01-27T11:18:45.859Z"
   },
   {
    "duration": 293,
    "start_time": "2022-01-27T11:18:45.883Z"
   },
   {
    "duration": 4,
    "start_time": "2022-01-27T11:18:46.178Z"
   },
   {
    "duration": 38,
    "start_time": "2022-01-27T11:18:46.184Z"
   },
   {
    "duration": 30,
    "start_time": "2022-01-27T11:18:46.225Z"
   },
   {
    "duration": 35,
    "start_time": "2022-01-27T11:18:46.257Z"
   },
   {
    "duration": 38,
    "start_time": "2022-01-27T11:18:46.295Z"
   },
   {
    "duration": 35,
    "start_time": "2022-01-27T11:18:46.335Z"
   },
   {
    "duration": 31,
    "start_time": "2022-01-27T11:18:46.372Z"
   },
   {
    "duration": 393,
    "start_time": "2022-01-27T11:18:46.406Z"
   },
   {
    "duration": 320,
    "start_time": "2022-01-27T11:18:46.481Z"
   },
   {
    "duration": 3,
    "start_time": "2022-01-27T11:18:58.241Z"
   },
   {
    "duration": 4,
    "start_time": "2022-01-27T11:18:59.089Z"
   },
   {
    "duration": 5,
    "start_time": "2022-01-27T11:20:00.550Z"
   },
   {
    "duration": 7,
    "start_time": "2022-01-27T11:20:00.870Z"
   },
   {
    "duration": 9,
    "start_time": "2022-01-27T11:20:01.214Z"
   },
   {
    "duration": 7,
    "start_time": "2022-01-27T11:20:01.559Z"
   },
   {
    "duration": 4,
    "start_time": "2022-01-27T11:20:01.918Z"
   },
   {
    "duration": 4,
    "start_time": "2022-01-27T11:20:02.335Z"
   },
   {
    "duration": 7,
    "start_time": "2022-01-27T11:20:20.067Z"
   },
   {
    "duration": 289,
    "start_time": "2022-01-27T11:21:46.914Z"
   },
   {
    "duration": 581,
    "start_time": "2022-01-27T11:22:04.394Z"
   },
   {
    "duration": 323,
    "start_time": "2022-01-27T11:22:26.433Z"
   },
   {
    "duration": 5,
    "start_time": "2022-01-27T11:24:02.526Z"
   },
   {
    "duration": 4496,
    "start_time": "2022-01-27T11:24:02.533Z"
   },
   {
    "duration": 22,
    "start_time": "2022-01-27T11:24:07.030Z"
   },
   {
    "duration": 21,
    "start_time": "2022-01-27T11:24:07.054Z"
   },
   {
    "duration": 15,
    "start_time": "2022-01-27T11:24:07.077Z"
   },
   {
    "duration": 6,
    "start_time": "2022-01-27T11:24:07.094Z"
   },
   {
    "duration": 8,
    "start_time": "2022-01-27T11:24:07.102Z"
   },
   {
    "duration": 197,
    "start_time": "2022-01-27T11:24:07.111Z"
   },
   {
    "duration": 94,
    "start_time": "2022-01-27T11:24:07.310Z"
   },
   {
    "duration": 14,
    "start_time": "2022-01-27T11:24:07.406Z"
   },
   {
    "duration": 20,
    "start_time": "2022-01-27T11:24:07.422Z"
   },
   {
    "duration": 14,
    "start_time": "2022-01-27T11:24:07.443Z"
   },
   {
    "duration": 71,
    "start_time": "2022-01-27T11:24:07.459Z"
   },
   {
    "duration": 79,
    "start_time": "2022-01-27T11:24:07.532Z"
   },
   {
    "duration": 55,
    "start_time": "2022-01-27T11:24:07.613Z"
   },
   {
    "duration": 11,
    "start_time": "2022-01-27T11:24:07.670Z"
   },
   {
    "duration": 51,
    "start_time": "2022-01-27T11:24:07.683Z"
   },
   {
    "duration": 19,
    "start_time": "2022-01-27T11:24:07.736Z"
   },
   {
    "duration": 54,
    "start_time": "2022-01-27T11:24:07.757Z"
   },
   {
    "duration": 104,
    "start_time": "2022-01-27T11:24:07.812Z"
   },
   {
    "duration": 24,
    "start_time": "2022-01-27T11:24:07.917Z"
   },
   {
    "duration": 115,
    "start_time": "2022-01-27T11:24:07.942Z"
   },
   {
    "duration": 4,
    "start_time": "2022-01-27T11:24:08.059Z"
   },
   {
    "duration": 20,
    "start_time": "2022-01-27T11:24:08.065Z"
   },
   {
    "duration": 17,
    "start_time": "2022-01-27T11:24:08.087Z"
   },
   {
    "duration": 19,
    "start_time": "2022-01-27T11:24:08.106Z"
   },
   {
    "duration": 9,
    "start_time": "2022-01-27T11:24:08.126Z"
   },
   {
    "duration": 22,
    "start_time": "2022-01-27T11:24:08.136Z"
   },
   {
    "duration": 16,
    "start_time": "2022-01-27T11:24:08.160Z"
   },
   {
    "duration": 13,
    "start_time": "2022-01-27T11:24:08.178Z"
   },
   {
    "duration": 14,
    "start_time": "2022-01-27T11:24:08.198Z"
   },
   {
    "duration": 15,
    "start_time": "2022-01-27T11:24:08.214Z"
   },
   {
    "duration": 5,
    "start_time": "2022-01-27T11:24:08.231Z"
   },
   {
    "duration": 29,
    "start_time": "2022-01-27T11:24:08.238Z"
   },
   {
    "duration": 7,
    "start_time": "2022-01-27T11:24:08.269Z"
   },
   {
    "duration": 6,
    "start_time": "2022-01-27T11:24:08.278Z"
   },
   {
    "duration": 341,
    "start_time": "2022-01-27T11:24:08.286Z"
   },
   {
    "duration": 5,
    "start_time": "2022-01-27T11:24:08.629Z"
   },
   {
    "duration": 22,
    "start_time": "2022-01-27T11:24:08.636Z"
   },
   {
    "duration": 8,
    "start_time": "2022-01-27T11:24:08.659Z"
   },
   {
    "duration": 29,
    "start_time": "2022-01-27T11:24:08.669Z"
   },
   {
    "duration": 2,
    "start_time": "2022-01-27T11:24:08.700Z"
   },
   {
    "duration": 13,
    "start_time": "2022-01-27T11:24:08.704Z"
   },
   {
    "duration": 8,
    "start_time": "2022-01-27T11:24:08.719Z"
   },
   {
    "duration": 614,
    "start_time": "2022-01-27T11:24:08.729Z"
   },
   {
    "duration": 597,
    "start_time": "2022-01-27T11:24:09.344Z"
   },
   {
    "duration": 7,
    "start_time": "2022-01-27T11:24:09.943Z"
   },
   {
    "duration": 431,
    "start_time": "2022-01-27T11:24:09.952Z"
   },
   {
    "duration": 8,
    "start_time": "2022-01-27T11:24:10.384Z"
   },
   {
    "duration": 417,
    "start_time": "2022-01-27T11:24:10.398Z"
   },
   {
    "duration": 7,
    "start_time": "2022-01-27T11:24:10.817Z"
   },
   {
    "duration": 370,
    "start_time": "2022-01-27T11:24:10.826Z"
   },
   {
    "duration": 4,
    "start_time": "2022-01-27T11:24:11.198Z"
   },
   {
    "duration": 6,
    "start_time": "2022-01-27T11:24:11.203Z"
   },
   {
    "duration": 297,
    "start_time": "2022-01-27T11:24:11.211Z"
   },
   {
    "duration": 10,
    "start_time": "2022-01-27T11:24:11.510Z"
   },
   {
    "duration": 6,
    "start_time": "2022-01-27T11:24:11.522Z"
   },
   {
    "duration": 6,
    "start_time": "2022-01-27T11:24:11.529Z"
   },
   {
    "duration": 426,
    "start_time": "2022-01-27T11:24:11.537Z"
   },
   {
    "duration": 4,
    "start_time": "2022-01-27T11:24:11.964Z"
   },
   {
    "duration": 6,
    "start_time": "2022-01-27T11:24:11.970Z"
   },
   {
    "duration": 22,
    "start_time": "2022-01-27T11:24:11.977Z"
   },
   {
    "duration": 7,
    "start_time": "2022-01-27T11:24:12.001Z"
   },
   {
    "duration": 9,
    "start_time": "2022-01-27T11:24:12.010Z"
   },
   {
    "duration": 8,
    "start_time": "2022-01-27T11:24:12.021Z"
   },
   {
    "duration": 8,
    "start_time": "2022-01-27T11:24:12.031Z"
   },
   {
    "duration": 8,
    "start_time": "2022-01-27T11:24:12.040Z"
   },
   {
    "duration": 3,
    "start_time": "2022-01-27T11:24:12.050Z"
   },
   {
    "duration": 5,
    "start_time": "2022-01-27T11:24:12.055Z"
   },
   {
    "duration": 4,
    "start_time": "2022-01-27T11:25:09.073Z"
   },
   {
    "duration": 1277,
    "start_time": "2022-01-27T11:32:37.594Z"
   },
   {
    "duration": 3642,
    "start_time": "2022-01-27T11:32:38.873Z"
   },
   {
    "duration": 24,
    "start_time": "2022-01-27T11:32:42.518Z"
   },
   {
    "duration": 24,
    "start_time": "2022-01-27T11:32:42.545Z"
   },
   {
    "duration": 16,
    "start_time": "2022-01-27T11:32:42.571Z"
   },
   {
    "duration": 14,
    "start_time": "2022-01-27T11:32:42.589Z"
   },
   {
    "duration": 21,
    "start_time": "2022-01-27T11:32:42.605Z"
   },
   {
    "duration": 233,
    "start_time": "2022-01-27T11:32:42.630Z"
   },
   {
    "duration": 105,
    "start_time": "2022-01-27T11:32:42.866Z"
   },
   {
    "duration": 17,
    "start_time": "2022-01-27T11:32:42.972Z"
   },
   {
    "duration": 22,
    "start_time": "2022-01-27T11:32:42.998Z"
   },
   {
    "duration": 15,
    "start_time": "2022-01-27T11:32:43.022Z"
   },
   {
    "duration": 81,
    "start_time": "2022-01-27T11:32:43.038Z"
   },
   {
    "duration": 26,
    "start_time": "2022-01-27T11:32:43.121Z"
   },
   {
    "duration": 72,
    "start_time": "2022-01-27T11:32:43.148Z"
   },
   {
    "duration": 13,
    "start_time": "2022-01-27T11:32:43.221Z"
   },
   {
    "duration": 38,
    "start_time": "2022-01-27T11:32:43.236Z"
   },
   {
    "duration": 40,
    "start_time": "2022-01-27T11:32:43.276Z"
   },
   {
    "duration": 33,
    "start_time": "2022-01-27T11:32:43.318Z"
   },
   {
    "duration": 91,
    "start_time": "2022-01-27T11:32:43.353Z"
   },
   {
    "duration": 24,
    "start_time": "2022-01-27T11:32:43.446Z"
   },
   {
    "duration": 73,
    "start_time": "2022-01-27T11:32:43.471Z"
   },
   {
    "duration": 5,
    "start_time": "2022-01-27T11:32:43.548Z"
   },
   {
    "duration": 16,
    "start_time": "2022-01-27T11:32:43.555Z"
   },
   {
    "duration": 25,
    "start_time": "2022-01-27T11:32:43.573Z"
   },
   {
    "duration": 20,
    "start_time": "2022-01-27T11:32:43.600Z"
   },
   {
    "duration": 6,
    "start_time": "2022-01-27T11:32:43.623Z"
   },
   {
    "duration": 19,
    "start_time": "2022-01-27T11:32:43.631Z"
   },
   {
    "duration": 8,
    "start_time": "2022-01-27T11:32:43.652Z"
   },
   {
    "duration": 42,
    "start_time": "2022-01-27T11:32:43.662Z"
   },
   {
    "duration": 18,
    "start_time": "2022-01-27T11:32:43.706Z"
   },
   {
    "duration": 14,
    "start_time": "2022-01-27T11:32:43.726Z"
   },
   {
    "duration": 5,
    "start_time": "2022-01-27T11:32:43.741Z"
   },
   {
    "duration": 8,
    "start_time": "2022-01-27T11:32:43.747Z"
   },
   {
    "duration": 7,
    "start_time": "2022-01-27T11:32:43.757Z"
   },
   {
    "duration": 11,
    "start_time": "2022-01-27T11:32:43.766Z"
   },
   {
    "duration": 336,
    "start_time": "2022-01-27T11:32:43.799Z"
   },
   {
    "duration": 6,
    "start_time": "2022-01-27T11:32:44.137Z"
   },
   {
    "duration": 22,
    "start_time": "2022-01-27T11:32:44.145Z"
   },
   {
    "duration": 9,
    "start_time": "2022-01-27T11:32:44.168Z"
   },
   {
    "duration": 24,
    "start_time": "2022-01-27T11:32:44.178Z"
   },
   {
    "duration": 2,
    "start_time": "2022-01-27T11:32:44.204Z"
   },
   {
    "duration": 16,
    "start_time": "2022-01-27T11:32:44.207Z"
   },
   {
    "duration": 16,
    "start_time": "2022-01-27T11:32:44.225Z"
   },
   {
    "duration": 632,
    "start_time": "2022-01-27T11:32:44.242Z"
   },
   {
    "duration": 649,
    "start_time": "2022-01-27T11:32:44.876Z"
   },
   {
    "duration": 8,
    "start_time": "2022-01-27T11:32:45.526Z"
   },
   {
    "duration": 473,
    "start_time": "2022-01-27T11:32:45.536Z"
   },
   {
    "duration": 10,
    "start_time": "2022-01-27T11:32:46.012Z"
   },
   {
    "duration": 454,
    "start_time": "2022-01-27T11:32:46.024Z"
   },
   {
    "duration": 18,
    "start_time": "2022-01-27T11:32:46.480Z"
   },
   {
    "duration": 439,
    "start_time": "2022-01-27T11:32:46.500Z"
   },
   {
    "duration": 5,
    "start_time": "2022-01-27T11:32:46.941Z"
   },
   {
    "duration": 4,
    "start_time": "2022-01-27T11:32:46.948Z"
   },
   {
    "duration": 300,
    "start_time": "2022-01-27T11:32:46.954Z"
   },
   {
    "duration": 10,
    "start_time": "2022-01-27T11:32:47.257Z"
   },
   {
    "duration": 9,
    "start_time": "2022-01-27T11:32:47.269Z"
   },
   {
    "duration": 20,
    "start_time": "2022-01-27T11:32:47.279Z"
   },
   {
    "duration": 329,
    "start_time": "2022-01-27T11:32:47.301Z"
   },
   {
    "duration": 3,
    "start_time": "2022-01-27T11:32:47.631Z"
   },
   {
    "duration": 10,
    "start_time": "2022-01-27T11:32:47.635Z"
   },
   {
    "duration": 16,
    "start_time": "2022-01-27T11:32:47.647Z"
   },
   {
    "duration": 7,
    "start_time": "2022-01-27T11:32:47.665Z"
   },
   {
    "duration": 11,
    "start_time": "2022-01-27T11:32:47.674Z"
   },
   {
    "duration": 8,
    "start_time": "2022-01-27T11:32:47.698Z"
   },
   {
    "duration": 7,
    "start_time": "2022-01-27T11:32:47.708Z"
   },
   {
    "duration": 8,
    "start_time": "2022-01-27T11:32:47.717Z"
   },
   {
    "duration": 4,
    "start_time": "2022-01-27T11:32:47.729Z"
   },
   {
    "duration": 7,
    "start_time": "2022-01-27T11:32:47.734Z"
   },
   {
    "duration": 11,
    "start_time": "2022-01-27T11:32:47.743Z"
   },
   {
    "duration": 4,
    "start_time": "2022-01-27T11:32:58.179Z"
   },
   {
    "duration": 332,
    "start_time": "2022-01-27T11:33:05.818Z"
   },
   {
    "duration": 3,
    "start_time": "2022-01-27T11:33:06.151Z"
   },
   {
    "duration": 4,
    "start_time": "2022-01-27T11:33:18.937Z"
   },
   {
    "duration": 5,
    "start_time": "2022-01-27T11:33:21.186Z"
   },
   {
    "duration": 5,
    "start_time": "2022-01-27T11:33:21.657Z"
   },
   {
    "duration": 6,
    "start_time": "2022-01-27T11:33:22.145Z"
   },
   {
    "duration": 8,
    "start_time": "2022-01-27T11:33:26.469Z"
   },
   {
    "duration": 7,
    "start_time": "2022-01-27T11:33:26.481Z"
   },
   {
    "duration": 3,
    "start_time": "2022-01-27T11:33:26.490Z"
   },
   {
    "duration": 4,
    "start_time": "2022-01-27T11:33:26.503Z"
   },
   {
    "duration": 6,
    "start_time": "2022-01-27T11:33:26.508Z"
   },
   {
    "duration": 4,
    "start_time": "2022-01-27T11:34:19.615Z"
   },
   {
    "duration": 4,
    "start_time": "2022-01-27T11:34:19.990Z"
   },
   {
    "duration": 320,
    "start_time": "2022-01-27T11:34:20.390Z"
   },
   {
    "duration": 6,
    "start_time": "2022-01-27T11:34:20.790Z"
   },
   {
    "duration": 24,
    "start_time": "2022-01-27T11:34:21.543Z"
   },
   {
    "duration": 1335,
    "start_time": "2022-01-27T11:34:30.146Z"
   },
   {
    "duration": 2452,
    "start_time": "2022-01-27T11:34:31.483Z"
   },
   {
    "duration": 22,
    "start_time": "2022-01-27T11:34:33.939Z"
   },
   {
    "duration": 21,
    "start_time": "2022-01-27T11:34:33.963Z"
   },
   {
    "duration": 14,
    "start_time": "2022-01-27T11:34:33.986Z"
   },
   {
    "duration": 29,
    "start_time": "2022-01-27T11:34:34.002Z"
   },
   {
    "duration": 18,
    "start_time": "2022-01-27T11:34:34.034Z"
   },
   {
    "duration": 206,
    "start_time": "2022-01-27T11:34:34.055Z"
   },
   {
    "duration": 98,
    "start_time": "2022-01-27T11:34:34.263Z"
   },
   {
    "duration": 16,
    "start_time": "2022-01-27T11:34:34.363Z"
   },
   {
    "duration": 34,
    "start_time": "2022-01-27T11:34:34.381Z"
   },
   {
    "duration": 15,
    "start_time": "2022-01-27T11:34:34.416Z"
   },
   {
    "duration": 74,
    "start_time": "2022-01-27T11:34:34.433Z"
   },
   {
    "duration": 26,
    "start_time": "2022-01-27T11:34:34.508Z"
   },
   {
    "duration": 72,
    "start_time": "2022-01-27T11:34:34.535Z"
   },
   {
    "duration": 12,
    "start_time": "2022-01-27T11:34:34.608Z"
   },
   {
    "duration": 45,
    "start_time": "2022-01-27T11:34:34.622Z"
   },
   {
    "duration": 35,
    "start_time": "2022-01-27T11:34:34.669Z"
   },
   {
    "duration": 35,
    "start_time": "2022-01-27T11:34:34.706Z"
   },
   {
    "duration": 82,
    "start_time": "2022-01-27T11:34:34.742Z"
   },
   {
    "duration": 23,
    "start_time": "2022-01-27T11:34:34.825Z"
   },
   {
    "duration": 82,
    "start_time": "2022-01-27T11:34:34.852Z"
   },
   {
    "duration": 5,
    "start_time": "2022-01-27T11:34:34.936Z"
   },
   {
    "duration": 16,
    "start_time": "2022-01-27T11:34:34.942Z"
   },
   {
    "duration": 6,
    "start_time": "2022-01-27T11:34:34.960Z"
   },
   {
    "duration": 34,
    "start_time": "2022-01-27T11:34:34.968Z"
   },
   {
    "duration": 5,
    "start_time": "2022-01-27T11:34:35.004Z"
   },
   {
    "duration": 23,
    "start_time": "2022-01-27T11:34:35.011Z"
   },
   {
    "duration": 9,
    "start_time": "2022-01-27T11:34:35.036Z"
   },
   {
    "duration": 12,
    "start_time": "2022-01-27T11:34:35.047Z"
   },
   {
    "duration": 14,
    "start_time": "2022-01-27T11:34:35.061Z"
   },
   {
    "duration": 15,
    "start_time": "2022-01-27T11:34:35.098Z"
   },
   {
    "duration": 4,
    "start_time": "2022-01-27T11:34:35.115Z"
   },
   {
    "duration": 6,
    "start_time": "2022-01-27T11:34:35.121Z"
   },
   {
    "duration": 5,
    "start_time": "2022-01-27T11:34:35.129Z"
   },
   {
    "duration": 10,
    "start_time": "2022-01-27T11:34:35.136Z"
   },
   {
    "duration": 330,
    "start_time": "2022-01-27T11:34:35.147Z"
   },
   {
    "duration": 5,
    "start_time": "2022-01-27T11:34:35.479Z"
   },
   {
    "duration": 20,
    "start_time": "2022-01-27T11:34:35.499Z"
   },
   {
    "duration": 9,
    "start_time": "2022-01-27T11:34:35.521Z"
   },
   {
    "duration": 6,
    "start_time": "2022-01-27T11:34:35.532Z"
   },
   {
    "duration": 3,
    "start_time": "2022-01-27T11:34:35.540Z"
   },
   {
    "duration": 13,
    "start_time": "2022-01-27T11:34:35.544Z"
   },
   {
    "duration": 9,
    "start_time": "2022-01-27T11:34:35.558Z"
   },
   {
    "duration": 659,
    "start_time": "2022-01-27T11:34:35.569Z"
   },
   {
    "duration": 641,
    "start_time": "2022-01-27T11:34:36.230Z"
   },
   {
    "duration": 8,
    "start_time": "2022-01-27T11:34:36.873Z"
   },
   {
    "duration": 437,
    "start_time": "2022-01-27T11:34:36.883Z"
   },
   {
    "duration": 10,
    "start_time": "2022-01-27T11:34:37.322Z"
   },
   {
    "duration": 436,
    "start_time": "2022-01-27T11:34:37.334Z"
   },
   {
    "duration": 8,
    "start_time": "2022-01-27T11:34:37.773Z"
   },
   {
    "duration": 447,
    "start_time": "2022-01-27T11:34:37.784Z"
   },
   {
    "duration": 5,
    "start_time": "2022-01-27T11:34:38.233Z"
   },
   {
    "duration": 5,
    "start_time": "2022-01-27T11:34:38.240Z"
   },
   {
    "duration": 317,
    "start_time": "2022-01-27T11:34:38.247Z"
   },
   {
    "duration": 11,
    "start_time": "2022-01-27T11:34:38.566Z"
   },
   {
    "duration": 9,
    "start_time": "2022-01-27T11:34:38.578Z"
   },
   {
    "duration": 6,
    "start_time": "2022-01-27T11:34:38.598Z"
   },
   {
    "duration": 329,
    "start_time": "2022-01-27T11:34:38.606Z"
   },
   {
    "duration": 3,
    "start_time": "2022-01-27T11:34:38.937Z"
   },
   {
    "duration": 7,
    "start_time": "2022-01-27T11:34:38.942Z"
   },
   {
    "duration": 8,
    "start_time": "2022-01-27T11:34:38.950Z"
   },
   {
    "duration": 5,
    "start_time": "2022-01-27T11:34:38.960Z"
   },
   {
    "duration": 10,
    "start_time": "2022-01-27T11:34:38.967Z"
   },
   {
    "duration": 25,
    "start_time": "2022-01-27T11:34:38.979Z"
   },
   {
    "duration": 10,
    "start_time": "2022-01-27T11:34:39.006Z"
   },
   {
    "duration": 4,
    "start_time": "2022-01-27T11:34:39.021Z"
   },
   {
    "duration": 7,
    "start_time": "2022-01-27T11:34:39.026Z"
   },
   {
    "duration": 8,
    "start_time": "2022-01-27T11:34:39.035Z"
   },
   {
    "duration": 4,
    "start_time": "2022-01-27T11:38:53.057Z"
   },
   {
    "duration": 4,
    "start_time": "2022-01-27T11:38:55.560Z"
   },
   {
    "duration": 4,
    "start_time": "2022-01-27T11:38:58.169Z"
   },
   {
    "duration": 3831,
    "start_time": "2022-01-27T11:42:44.278Z"
   },
   {
    "duration": 1213,
    "start_time": "2022-01-27T11:42:58.593Z"
   },
   {
    "duration": 4227,
    "start_time": "2022-01-27T11:42:59.808Z"
   },
   {
    "duration": 23,
    "start_time": "2022-01-27T11:43:04.039Z"
   },
   {
    "duration": 23,
    "start_time": "2022-01-27T11:43:04.063Z"
   },
   {
    "duration": 35,
    "start_time": "2022-01-27T11:43:04.088Z"
   },
   {
    "duration": 23,
    "start_time": "2022-01-27T11:43:04.125Z"
   },
   {
    "duration": 38,
    "start_time": "2022-01-27T11:43:04.151Z"
   },
   {
    "duration": 236,
    "start_time": "2022-01-27T11:43:04.192Z"
   },
   {
    "duration": 93,
    "start_time": "2022-01-27T11:43:04.430Z"
   },
   {
    "duration": 17,
    "start_time": "2022-01-27T11:43:04.525Z"
   },
   {
    "duration": 47,
    "start_time": "2022-01-27T11:43:04.544Z"
   },
   {
    "duration": 25,
    "start_time": "2022-01-27T11:43:04.593Z"
   },
   {
    "duration": 73,
    "start_time": "2022-01-27T11:43:04.620Z"
   },
   {
    "duration": 24,
    "start_time": "2022-01-27T11:43:04.695Z"
   },
   {
    "duration": 61,
    "start_time": "2022-01-27T11:43:04.721Z"
   },
   {
    "duration": 19,
    "start_time": "2022-01-27T11:43:04.784Z"
   },
   {
    "duration": 55,
    "start_time": "2022-01-27T11:43:04.805Z"
   },
   {
    "duration": 26,
    "start_time": "2022-01-27T11:43:04.862Z"
   },
   {
    "duration": 44,
    "start_time": "2022-01-27T11:43:04.890Z"
   },
   {
    "duration": 79,
    "start_time": "2022-01-27T11:43:04.936Z"
   },
   {
    "duration": 25,
    "start_time": "2022-01-27T11:43:05.017Z"
   },
   {
    "duration": 81,
    "start_time": "2022-01-27T11:43:05.045Z"
   },
   {
    "duration": 4,
    "start_time": "2022-01-27T11:43:05.129Z"
   },
   {
    "duration": 44,
    "start_time": "2022-01-27T11:43:05.135Z"
   },
   {
    "duration": 30,
    "start_time": "2022-01-27T11:43:05.181Z"
   },
   {
    "duration": 40,
    "start_time": "2022-01-27T11:43:05.213Z"
   },
   {
    "duration": 17,
    "start_time": "2022-01-27T11:43:05.255Z"
   },
   {
    "duration": 46,
    "start_time": "2022-01-27T11:43:05.274Z"
   },
   {
    "duration": 25,
    "start_time": "2022-01-27T11:43:05.322Z"
   },
   {
    "duration": 29,
    "start_time": "2022-01-27T11:43:05.349Z"
   },
   {
    "duration": 28,
    "start_time": "2022-01-27T11:43:05.380Z"
   },
   {
    "duration": 37,
    "start_time": "2022-01-27T11:43:05.410Z"
   },
   {
    "duration": 40,
    "start_time": "2022-01-27T11:43:05.449Z"
   },
   {
    "duration": 24,
    "start_time": "2022-01-27T11:43:05.491Z"
   },
   {
    "duration": 26,
    "start_time": "2022-01-27T11:43:05.517Z"
   },
   {
    "duration": 17,
    "start_time": "2022-01-27T11:43:05.545Z"
   },
   {
    "duration": 337,
    "start_time": "2022-01-27T11:43:05.563Z"
   },
   {
    "duration": 5,
    "start_time": "2022-01-27T11:43:05.902Z"
   },
   {
    "duration": 39,
    "start_time": "2022-01-27T11:43:05.909Z"
   },
   {
    "duration": 22,
    "start_time": "2022-01-27T11:43:05.950Z"
   },
   {
    "duration": 35,
    "start_time": "2022-01-27T11:43:05.973Z"
   },
   {
    "duration": 24,
    "start_time": "2022-01-27T11:43:06.010Z"
   },
   {
    "duration": 354,
    "start_time": "2022-01-27T11:43:06.036Z"
   },
   {
    "duration": 12,
    "start_time": "2022-01-27T11:43:06.391Z"
   },
   {
    "duration": 31,
    "start_time": "2022-01-27T11:43:06.404Z"
   },
   {
    "duration": 619,
    "start_time": "2022-01-27T11:43:06.436Z"
   },
   {
    "duration": 619,
    "start_time": "2022-01-27T11:43:07.056Z"
   },
   {
    "duration": 9,
    "start_time": "2022-01-27T11:43:07.677Z"
   },
   {
    "duration": 433,
    "start_time": "2022-01-27T11:43:07.699Z"
   },
   {
    "duration": 9,
    "start_time": "2022-01-27T11:43:08.134Z"
   },
   {
    "duration": 521,
    "start_time": "2022-01-27T11:43:08.145Z"
   },
   {
    "duration": 8,
    "start_time": "2022-01-27T11:43:08.667Z"
   },
   {
    "duration": 370,
    "start_time": "2022-01-27T11:43:08.676Z"
   },
   {
    "duration": 4,
    "start_time": "2022-01-27T11:43:09.047Z"
   },
   {
    "duration": 12,
    "start_time": "2022-01-27T11:43:09.053Z"
   },
   {
    "duration": 300,
    "start_time": "2022-01-27T11:43:09.067Z"
   },
   {
    "duration": 12,
    "start_time": "2022-01-27T11:43:09.369Z"
   },
   {
    "duration": 15,
    "start_time": "2022-01-27T11:43:09.383Z"
   },
   {
    "duration": 6,
    "start_time": "2022-01-27T11:43:09.400Z"
   },
   {
    "duration": 7,
    "start_time": "2022-01-27T11:43:09.408Z"
   },
   {
    "duration": 13,
    "start_time": "2022-01-27T11:43:09.417Z"
   },
   {
    "duration": 13,
    "start_time": "2022-01-27T11:43:09.431Z"
   },
   {
    "duration": 624,
    "start_time": "2022-01-27T11:43:09.446Z"
   },
   {
    "duration": 213,
    "start_time": "2022-01-27T11:43:09.860Z"
   },
   {
    "duration": 212,
    "start_time": "2022-01-27T11:43:09.862Z"
   },
   {
    "duration": 212,
    "start_time": "2022-01-27T11:43:09.863Z"
   },
   {
    "duration": 212,
    "start_time": "2022-01-27T11:43:09.865Z"
   },
   {
    "duration": 553,
    "start_time": "2022-01-27T11:43:26.546Z"
   },
   {
    "duration": 208,
    "start_time": "2022-01-27T11:43:26.892Z"
   },
   {
    "duration": 7,
    "start_time": "2022-01-27T11:43:34.618Z"
   },
   {
    "duration": 8,
    "start_time": "2022-01-27T11:43:35.018Z"
   },
   {
    "duration": 490,
    "start_time": "2022-01-27T11:43:38.242Z"
   },
   {
    "duration": 540,
    "start_time": "2022-01-27T11:43:47.346Z"
   },
   {
    "duration": 4,
    "start_time": "2022-01-27T11:43:50.233Z"
   },
   {
    "duration": 7,
    "start_time": "2022-01-27T11:43:50.441Z"
   },
   {
    "duration": 7,
    "start_time": "2022-01-27T11:43:50.633Z"
   },
   {
    "duration": 8,
    "start_time": "2022-01-27T11:43:50.817Z"
   },
   {
    "duration": 4,
    "start_time": "2022-01-27T11:43:50.999Z"
   },
   {
    "duration": 4,
    "start_time": "2022-01-27T11:43:51.721Z"
   },
   {
    "duration": 4,
    "start_time": "2022-01-27T11:43:51.929Z"
   },
   {
    "duration": 1197,
    "start_time": "2022-01-27T12:23:47.664Z"
   },
   {
    "duration": 1148,
    "start_time": "2022-01-27T12:23:48.862Z"
   },
   {
    "duration": 25,
    "start_time": "2022-01-27T12:23:50.012Z"
   },
   {
    "duration": 21,
    "start_time": "2022-01-27T12:23:50.039Z"
   },
   {
    "duration": 16,
    "start_time": "2022-01-27T12:23:50.062Z"
   },
   {
    "duration": 23,
    "start_time": "2022-01-27T12:23:50.080Z"
   },
   {
    "duration": 6,
    "start_time": "2022-01-27T12:23:50.105Z"
   },
   {
    "duration": 220,
    "start_time": "2022-01-27T12:23:50.114Z"
   },
   {
    "duration": 98,
    "start_time": "2022-01-27T12:23:50.336Z"
   },
   {
    "duration": 17,
    "start_time": "2022-01-27T12:23:50.435Z"
   },
   {
    "duration": 21,
    "start_time": "2022-01-27T12:23:50.454Z"
   },
   {
    "duration": 33,
    "start_time": "2022-01-27T12:23:50.477Z"
   },
   {
    "duration": 54,
    "start_time": "2022-01-27T12:23:50.512Z"
   },
   {
    "duration": 42,
    "start_time": "2022-01-27T12:23:50.568Z"
   },
   {
    "duration": 54,
    "start_time": "2022-01-27T12:23:50.612Z"
   },
   {
    "duration": 12,
    "start_time": "2022-01-27T12:23:50.668Z"
   },
   {
    "duration": 52,
    "start_time": "2022-01-27T12:23:50.681Z"
   },
   {
    "duration": 23,
    "start_time": "2022-01-27T12:23:50.735Z"
   },
   {
    "duration": 52,
    "start_time": "2022-01-27T12:23:50.760Z"
   },
   {
    "duration": 71,
    "start_time": "2022-01-27T12:23:50.814Z"
   },
   {
    "duration": 33,
    "start_time": "2022-01-27T12:23:50.887Z"
   },
   {
    "duration": 90,
    "start_time": "2022-01-27T12:23:50.922Z"
   },
   {
    "duration": 5,
    "start_time": "2022-01-27T12:23:51.018Z"
   },
   {
    "duration": 15,
    "start_time": "2022-01-27T12:23:51.026Z"
   },
   {
    "duration": 8,
    "start_time": "2022-01-27T12:23:51.042Z"
   },
   {
    "duration": 48,
    "start_time": "2022-01-27T12:23:51.052Z"
   },
   {
    "duration": 6,
    "start_time": "2022-01-27T12:23:51.102Z"
   },
   {
    "duration": 18,
    "start_time": "2022-01-27T12:23:51.111Z"
   },
   {
    "duration": 8,
    "start_time": "2022-01-27T12:23:51.131Z"
   },
   {
    "duration": 8,
    "start_time": "2022-01-27T12:23:51.141Z"
   },
   {
    "duration": 53,
    "start_time": "2022-01-27T12:23:51.151Z"
   },
   {
    "duration": 16,
    "start_time": "2022-01-27T12:23:51.207Z"
   },
   {
    "duration": 5,
    "start_time": "2022-01-27T12:23:51.226Z"
   },
   {
    "duration": 6,
    "start_time": "2022-01-27T12:23:51.232Z"
   },
   {
    "duration": 7,
    "start_time": "2022-01-27T12:23:51.239Z"
   },
   {
    "duration": 5,
    "start_time": "2022-01-27T12:23:51.247Z"
   },
   {
    "duration": 339,
    "start_time": "2022-01-27T12:23:51.254Z"
   },
   {
    "duration": 7,
    "start_time": "2022-01-27T12:23:51.595Z"
   },
   {
    "duration": 23,
    "start_time": "2022-01-27T12:23:51.603Z"
   },
   {
    "duration": 8,
    "start_time": "2022-01-27T12:23:51.628Z"
   },
   {
    "duration": 9,
    "start_time": "2022-01-27T12:23:51.639Z"
   },
   {
    "duration": 8,
    "start_time": "2022-01-27T12:23:51.649Z"
   },
   {
    "duration": 345,
    "start_time": "2022-01-27T12:23:51.659Z"
   },
   {
    "duration": 10,
    "start_time": "2022-01-27T12:23:52.006Z"
   },
   {
    "duration": 8,
    "start_time": "2022-01-27T12:23:52.018Z"
   },
   {
    "duration": 598,
    "start_time": "2022-01-27T12:23:52.028Z"
   },
   {
    "duration": 612,
    "start_time": "2022-01-27T12:23:52.628Z"
   },
   {
    "duration": 9,
    "start_time": "2022-01-27T12:23:53.241Z"
   },
   {
    "duration": 504,
    "start_time": "2022-01-27T12:23:53.252Z"
   },
   {
    "duration": 11,
    "start_time": "2022-01-27T12:23:53.758Z"
   },
   {
    "duration": 526,
    "start_time": "2022-01-27T12:23:53.772Z"
   },
   {
    "duration": 8,
    "start_time": "2022-01-27T12:23:54.301Z"
   },
   {
    "duration": 392,
    "start_time": "2022-01-27T12:23:54.311Z"
   },
   {
    "duration": 4,
    "start_time": "2022-01-27T12:23:54.705Z"
   },
   {
    "duration": 6,
    "start_time": "2022-01-27T12:23:54.711Z"
   },
   {
    "duration": 14,
    "start_time": "2022-01-27T12:23:54.719Z"
   },
   {
    "duration": 4,
    "start_time": "2022-01-27T12:23:54.734Z"
   },
   {
    "duration": 9,
    "start_time": "2022-01-27T12:23:54.740Z"
   },
   {
    "duration": 8,
    "start_time": "2022-01-27T12:23:54.751Z"
   },
   {
    "duration": 39,
    "start_time": "2022-01-27T12:23:54.761Z"
   },
   {
    "duration": 9,
    "start_time": "2022-01-27T12:23:54.802Z"
   },
   {
    "duration": 9,
    "start_time": "2022-01-27T12:23:54.812Z"
   },
   {
    "duration": 8,
    "start_time": "2022-01-27T12:23:54.822Z"
   },
   {
    "duration": 4,
    "start_time": "2022-01-27T12:23:54.832Z"
   },
   {
    "duration": 8,
    "start_time": "2022-01-27T12:23:54.838Z"
   },
   {
    "duration": 5,
    "start_time": "2022-01-27T12:23:54.848Z"
   },
   {
    "duration": 345,
    "start_time": "2022-01-29T10:15:50.881Z"
   },
   {
    "duration": 1410,
    "start_time": "2022-01-29T10:15:57.227Z"
   },
   {
    "duration": 1171,
    "start_time": "2022-01-29T10:15:59.861Z"
   },
   {
    "duration": 30,
    "start_time": "2022-01-29T10:16:03.722Z"
   },
   {
    "duration": 24,
    "start_time": "2022-01-29T10:16:04.133Z"
   },
   {
    "duration": 21,
    "start_time": "2022-01-29T10:16:04.826Z"
   },
   {
    "duration": 11,
    "start_time": "2022-01-29T10:16:05.323Z"
   },
   {
    "duration": 10,
    "start_time": "2022-01-29T10:16:05.832Z"
   },
   {
    "duration": 261,
    "start_time": "2022-01-29T10:16:20.312Z"
   },
   {
    "duration": 129,
    "start_time": "2022-01-29T10:16:21.333Z"
   },
   {
    "duration": 1454,
    "start_time": "2022-01-29T10:21:54.762Z"
   },
   {
    "duration": 926,
    "start_time": "2022-01-29T10:21:56.219Z"
   },
   {
    "duration": 31,
    "start_time": "2022-01-29T10:21:57.148Z"
   },
   {
    "duration": 33,
    "start_time": "2022-01-29T10:21:57.182Z"
   },
   {
    "duration": 56,
    "start_time": "2022-01-29T10:21:57.218Z"
   },
   {
    "duration": 12,
    "start_time": "2022-01-29T10:21:57.277Z"
   },
   {
    "duration": 13,
    "start_time": "2022-01-29T10:21:57.291Z"
   },
   {
    "duration": 282,
    "start_time": "2022-01-29T10:21:57.308Z"
   },
   {
    "duration": 138,
    "start_time": "2022-01-29T10:21:57.592Z"
   },
   {
    "duration": 28,
    "start_time": "2022-01-29T10:21:57.732Z"
   },
   {
    "duration": 22,
    "start_time": "2022-01-29T10:21:57.762Z"
   },
   {
    "duration": 20,
    "start_time": "2022-01-29T10:21:57.787Z"
   },
   {
    "duration": 104,
    "start_time": "2022-01-29T10:21:57.809Z"
   },
   {
    "duration": 49,
    "start_time": "2022-01-29T10:21:57.915Z"
   },
   {
    "duration": 58,
    "start_time": "2022-01-29T10:21:57.966Z"
   },
   {
    "duration": 35,
    "start_time": "2022-01-29T10:21:58.027Z"
   },
   {
    "duration": 48,
    "start_time": "2022-01-29T10:21:58.064Z"
   },
   {
    "duration": 58,
    "start_time": "2022-01-29T10:21:58.115Z"
   },
   {
    "duration": 39,
    "start_time": "2022-01-29T10:21:58.175Z"
   },
   {
    "duration": 116,
    "start_time": "2022-01-29T10:21:58.216Z"
   },
   {
    "duration": 40,
    "start_time": "2022-01-29T10:21:58.335Z"
   },
   {
    "duration": 81,
    "start_time": "2022-01-29T10:21:58.378Z"
   },
   {
    "duration": 7,
    "start_time": "2022-01-29T10:21:58.466Z"
   },
   {
    "duration": 20,
    "start_time": "2022-01-29T10:21:58.477Z"
   },
   {
    "duration": 14,
    "start_time": "2022-01-29T10:21:58.499Z"
   },
   {
    "duration": 54,
    "start_time": "2022-01-29T10:21:58.516Z"
   },
   {
    "duration": 8,
    "start_time": "2022-01-29T10:21:58.573Z"
   },
   {
    "duration": 26,
    "start_time": "2022-01-29T10:21:58.584Z"
   },
   {
    "duration": 40,
    "start_time": "2022-01-29T10:21:58.613Z"
   },
   {
    "duration": 12,
    "start_time": "2022-01-29T10:21:58.655Z"
   },
   {
    "duration": 20,
    "start_time": "2022-01-29T10:21:58.670Z"
   },
   {
    "duration": 18,
    "start_time": "2022-01-29T10:21:58.693Z"
   },
   {
    "duration": 5,
    "start_time": "2022-01-29T10:21:58.749Z"
   },
   {
    "duration": 6,
    "start_time": "2022-01-29T10:21:58.757Z"
   },
   {
    "duration": 8,
    "start_time": "2022-01-29T10:21:58.765Z"
   },
   {
    "duration": 7,
    "start_time": "2022-01-29T10:21:58.775Z"
   },
   {
    "duration": 486,
    "start_time": "2022-01-29T10:21:58.784Z"
   },
   {
    "duration": 8,
    "start_time": "2022-01-29T10:21:59.273Z"
   },
   {
    "duration": 29,
    "start_time": "2022-01-29T10:21:59.283Z"
   },
   {
    "duration": 37,
    "start_time": "2022-01-29T10:21:59.314Z"
   },
   {
    "duration": 8,
    "start_time": "2022-01-29T10:21:59.353Z"
   },
   {
    "duration": 6,
    "start_time": "2022-01-29T10:21:59.364Z"
   },
   {
    "duration": 464,
    "start_time": "2022-01-29T10:21:59.372Z"
   },
   {
    "duration": 19,
    "start_time": "2022-01-29T10:21:59.839Z"
   },
   {
    "duration": 16,
    "start_time": "2022-01-29T10:21:59.861Z"
   },
   {
    "duration": 863,
    "start_time": "2022-01-29T10:21:59.879Z"
   },
   {
    "duration": 847,
    "start_time": "2022-01-29T10:22:00.744Z"
   },
   {
    "duration": 11,
    "start_time": "2022-01-29T10:22:01.593Z"
   },
   {
    "duration": 610,
    "start_time": "2022-01-29T10:22:01.606Z"
   },
   {
    "duration": 11,
    "start_time": "2022-01-29T10:22:02.218Z"
   },
   {
    "duration": 660,
    "start_time": "2022-01-29T10:22:02.248Z"
   },
   {
    "duration": 11,
    "start_time": "2022-01-29T10:22:02.912Z"
   },
   {
    "duration": 526,
    "start_time": "2022-01-29T10:22:02.925Z"
   },
   {
    "duration": 7,
    "start_time": "2022-01-29T10:22:03.455Z"
   },
   {
    "duration": 8,
    "start_time": "2022-01-29T10:22:03.464Z"
   },
   {
    "duration": 14,
    "start_time": "2022-01-29T10:22:03.474Z"
   },
   {
    "duration": 4,
    "start_time": "2022-01-29T10:22:03.490Z"
   },
   {
    "duration": 7,
    "start_time": "2022-01-29T10:22:03.496Z"
   },
   {
    "duration": 45,
    "start_time": "2022-01-29T10:22:03.505Z"
   },
   {
    "duration": 7,
    "start_time": "2022-01-29T10:22:03.552Z"
   },
   {
    "duration": 11,
    "start_time": "2022-01-29T10:22:03.561Z"
   },
   {
    "duration": 10,
    "start_time": "2022-01-29T10:22:03.574Z"
   },
   {
    "duration": 9,
    "start_time": "2022-01-29T10:22:03.586Z"
   },
   {
    "duration": 8,
    "start_time": "2022-01-29T10:22:03.597Z"
   },
   {
    "duration": 43,
    "start_time": "2022-01-29T10:22:03.607Z"
   },
   {
    "duration": 10,
    "start_time": "2022-01-29T10:22:03.653Z"
   },
   {
    "duration": 32,
    "start_time": "2022-01-29T10:22:14.657Z"
   },
   {
    "duration": 9,
    "start_time": "2022-01-29T10:51:37.207Z"
   },
   {
    "duration": 135,
    "start_time": "2022-01-29T11:08:16.277Z"
   },
   {
    "duration": 20,
    "start_time": "2022-01-29T11:08:17.288Z"
   },
   {
    "duration": 62,
    "start_time": "2022-01-29T11:10:35.383Z"
   },
   {
    "duration": 31,
    "start_time": "2022-01-29T11:11:03.550Z"
   },
   {
    "duration": 131,
    "start_time": "2022-01-29T11:11:28.639Z"
   },
   {
    "duration": 107,
    "start_time": "2022-01-29T11:11:40.277Z"
   },
   {
    "duration": 15,
    "start_time": "2022-01-29T11:11:40.923Z"
   },
   {
    "duration": 118,
    "start_time": "2022-01-29T11:13:27.291Z"
   },
   {
    "duration": 16,
    "start_time": "2022-01-29T11:13:27.993Z"
   },
   {
    "duration": 84,
    "start_time": "2022-01-29T11:13:58.584Z"
   },
   {
    "duration": 17,
    "start_time": "2022-01-29T11:14:08.677Z"
   },
   {
    "duration": 79,
    "start_time": "2022-01-29T11:15:10.690Z"
   },
   {
    "duration": 19,
    "start_time": "2022-01-29T11:15:11.566Z"
   },
   {
    "duration": 173,
    "start_time": "2022-01-29T11:15:58.260Z"
   },
   {
    "duration": 218,
    "start_time": "2022-01-29T11:16:08.467Z"
   },
   {
    "duration": 26,
    "start_time": "2022-01-29T11:16:17.671Z"
   },
   {
    "duration": 171,
    "start_time": "2022-01-29T11:17:31.651Z"
   },
   {
    "duration": 20,
    "start_time": "2022-01-29T11:17:32.554Z"
   },
   {
    "duration": 7,
    "start_time": "2022-01-29T11:17:33.742Z"
   },
   {
    "duration": 19,
    "start_time": "2022-01-29T11:17:40.274Z"
   },
   {
    "duration": 21,
    "start_time": "2022-01-29T11:17:48.166Z"
   },
   {
    "duration": 87,
    "start_time": "2022-01-29T11:18:50.284Z"
   },
   {
    "duration": 7,
    "start_time": "2022-01-29T11:18:50.553Z"
   },
   {
    "duration": 17,
    "start_time": "2022-01-29T11:18:51.164Z"
   },
   {
    "duration": 171,
    "start_time": "2022-01-29T11:18:53.044Z"
   },
   {
    "duration": 21,
    "start_time": "2022-01-29T11:18:53.999Z"
   },
   {
    "duration": 6,
    "start_time": "2022-01-29T11:18:57.307Z"
   },
   {
    "duration": 19,
    "start_time": "2022-01-29T11:19:01.249Z"
   },
   {
    "duration": 20,
    "start_time": "2022-01-29T11:19:01.991Z"
   },
   {
    "duration": 8,
    "start_time": "2022-01-29T11:21:20.642Z"
   },
   {
    "duration": 23,
    "start_time": "2022-01-29T11:21:22.330Z"
   },
   {
    "duration": 1409,
    "start_time": "2022-01-29T11:21:39.100Z"
   },
   {
    "duration": 1083,
    "start_time": "2022-01-29T11:21:40.511Z"
   },
   {
    "duration": 28,
    "start_time": "2022-01-29T11:21:41.600Z"
   },
   {
    "duration": 21,
    "start_time": "2022-01-29T11:21:41.631Z"
   },
   {
    "duration": 18,
    "start_time": "2022-01-29T11:21:41.654Z"
   },
   {
    "duration": 10,
    "start_time": "2022-01-29T11:21:41.675Z"
   },
   {
    "duration": 9,
    "start_time": "2022-01-29T11:21:41.689Z"
   },
   {
    "duration": 300,
    "start_time": "2022-01-29T11:21:41.701Z"
   },
   {
    "duration": 134,
    "start_time": "2022-01-29T11:21:42.004Z"
   },
   {
    "duration": 30,
    "start_time": "2022-01-29T11:21:42.140Z"
   },
   {
    "duration": 157,
    "start_time": "2022-01-29T11:21:42.172Z"
   },
   {
    "duration": 22,
    "start_time": "2022-01-29T11:21:42.332Z"
   },
   {
    "duration": 109,
    "start_time": "2022-01-29T11:21:42.357Z"
   },
   {
    "duration": 6,
    "start_time": "2022-01-29T11:21:42.468Z"
   },
   {
    "duration": 24,
    "start_time": "2022-01-29T11:21:42.476Z"
   },
   {
    "duration": 204,
    "start_time": "2022-01-29T11:21:42.503Z"
   },
   {
    "duration": 18,
    "start_time": "2022-01-29T11:21:42.710Z"
   },
   {
    "duration": 25,
    "start_time": "2022-01-29T11:21:42.730Z"
   },
   {
    "duration": 16,
    "start_time": "2022-01-29T11:21:42.757Z"
   },
   {
    "duration": 20,
    "start_time": "2022-01-29T11:21:42.775Z"
   },
   {
    "duration": 14,
    "start_time": "2022-01-29T11:21:42.797Z"
   },
   {
    "duration": 45,
    "start_time": "2022-01-29T11:21:42.817Z"
   },
   {
    "duration": 19,
    "start_time": "2022-01-29T11:21:42.866Z"
   },
   {
    "duration": 8,
    "start_time": "2022-01-29T11:21:42.888Z"
   },
   {
    "duration": 8,
    "start_time": "2022-01-29T11:21:42.899Z"
   },
   {
    "duration": 53,
    "start_time": "2022-01-29T11:21:42.909Z"
   },
   {
    "duration": 18,
    "start_time": "2022-01-29T11:21:42.965Z"
   },
   {
    "duration": 7,
    "start_time": "2022-01-29T11:21:42.986Z"
   },
   {
    "duration": 8,
    "start_time": "2022-01-29T11:21:42.995Z"
   },
   {
    "duration": 6,
    "start_time": "2022-01-29T11:21:43.006Z"
   },
   {
    "duration": 6,
    "start_time": "2022-01-29T11:21:43.049Z"
   },
   {
    "duration": 8681,
    "start_time": "2022-01-29T11:21:43.058Z"
   },
   {
    "duration": -2719,
    "start_time": "2022-01-29T11:21:54.461Z"
   },
   {
    "duration": -2729,
    "start_time": "2022-01-29T11:21:54.472Z"
   },
   {
    "duration": -2734,
    "start_time": "2022-01-29T11:21:54.479Z"
   },
   {
    "duration": -2747,
    "start_time": "2022-01-29T11:21:54.494Z"
   },
   {
    "duration": -2753,
    "start_time": "2022-01-29T11:21:54.501Z"
   },
   {
    "duration": -2760,
    "start_time": "2022-01-29T11:21:54.509Z"
   },
   {
    "duration": -2767,
    "start_time": "2022-01-29T11:21:54.518Z"
   },
   {
    "duration": -2775,
    "start_time": "2022-01-29T11:21:54.527Z"
   },
   {
    "duration": -2782,
    "start_time": "2022-01-29T11:21:54.536Z"
   },
   {
    "duration": -2807,
    "start_time": "2022-01-29T11:21:54.563Z"
   },
   {
    "duration": -2815,
    "start_time": "2022-01-29T11:21:54.572Z"
   },
   {
    "duration": -2826,
    "start_time": "2022-01-29T11:21:54.584Z"
   },
   {
    "duration": -2832,
    "start_time": "2022-01-29T11:21:54.592Z"
   },
   {
    "duration": -2841,
    "start_time": "2022-01-29T11:21:54.603Z"
   },
   {
    "duration": -2848,
    "start_time": "2022-01-29T11:21:54.611Z"
   },
   {
    "duration": -2858,
    "start_time": "2022-01-29T11:21:54.622Z"
   },
   {
    "duration": -2864,
    "start_time": "2022-01-29T11:21:54.630Z"
   },
   {
    "duration": -2873,
    "start_time": "2022-01-29T11:21:54.640Z"
   },
   {
    "duration": -2880,
    "start_time": "2022-01-29T11:21:54.649Z"
   },
   {
    "duration": -2888,
    "start_time": "2022-01-29T11:21:54.658Z"
   },
   {
    "duration": -2915,
    "start_time": "2022-01-29T11:21:54.687Z"
   },
   {
    "duration": -2924,
    "start_time": "2022-01-29T11:21:54.697Z"
   },
   {
    "duration": -2931,
    "start_time": "2022-01-29T11:21:54.706Z"
   },
   {
    "duration": -2951,
    "start_time": "2022-01-29T11:21:54.728Z"
   },
   {
    "duration": -2962,
    "start_time": "2022-01-29T11:21:54.740Z"
   },
   {
    "duration": -2969,
    "start_time": "2022-01-29T11:21:54.748Z"
   },
   {
    "duration": -2975,
    "start_time": "2022-01-29T11:21:54.756Z"
   },
   {
    "duration": -2981,
    "start_time": "2022-01-29T11:21:54.764Z"
   },
   {
    "duration": -2986,
    "start_time": "2022-01-29T11:21:54.771Z"
   },
   {
    "duration": 285,
    "start_time": "2022-01-29T11:25:49.573Z"
   },
   {
    "duration": 1452,
    "start_time": "2022-01-29T11:25:58.253Z"
   },
   {
    "duration": 934,
    "start_time": "2022-01-29T11:25:59.707Z"
   },
   {
    "duration": 31,
    "start_time": "2022-01-29T11:26:00.645Z"
   },
   {
    "duration": 46,
    "start_time": "2022-01-29T11:26:00.680Z"
   },
   {
    "duration": 31,
    "start_time": "2022-01-29T11:26:00.729Z"
   },
   {
    "duration": 22,
    "start_time": "2022-01-29T11:26:00.763Z"
   },
   {
    "duration": 20,
    "start_time": "2022-01-29T11:26:00.788Z"
   },
   {
    "duration": 326,
    "start_time": "2022-01-29T11:26:00.812Z"
   },
   {
    "duration": 250,
    "start_time": "2022-01-29T11:26:01.142Z"
   },
   {
    "duration": 61,
    "start_time": "2022-01-29T11:26:01.395Z"
   },
   {
    "duration": 295,
    "start_time": "2022-01-29T11:26:01.459Z"
   },
   {
    "duration": 15,
    "start_time": "2022-01-29T11:26:01.757Z"
   },
   {
    "duration": 215,
    "start_time": "2022-01-29T11:26:01.775Z"
   },
   {
    "duration": 59,
    "start_time": "2022-01-29T11:26:01.992Z"
   },
   {
    "duration": 19,
    "start_time": "2022-01-29T11:26:02.054Z"
   },
   {
    "duration": 350,
    "start_time": "2022-01-29T11:26:02.076Z"
   },
   {
    "duration": 34,
    "start_time": "2022-01-29T11:26:02.429Z"
   },
   {
    "duration": 10,
    "start_time": "2022-01-29T11:26:02.465Z"
   },
   {
    "duration": 21,
    "start_time": "2022-01-29T11:26:02.477Z"
   },
   {
    "duration": 54,
    "start_time": "2022-01-29T11:26:02.501Z"
   },
   {
    "duration": 18,
    "start_time": "2022-01-29T11:26:02.558Z"
   },
   {
    "duration": 12,
    "start_time": "2022-01-29T11:26:02.578Z"
   },
   {
    "duration": 406,
    "start_time": "2022-01-29T11:26:02.598Z"
   },
   {
    "duration": -2739,
    "start_time": "2022-01-29T11:26:05.747Z"
   },
   {
    "duration": -2745,
    "start_time": "2022-01-29T11:26:05.754Z"
   },
   {
    "duration": -2751,
    "start_time": "2022-01-29T11:26:05.761Z"
   },
   {
    "duration": -2755,
    "start_time": "2022-01-29T11:26:05.767Z"
   },
   {
    "duration": -2760,
    "start_time": "2022-01-29T11:26:05.773Z"
   },
   {
    "duration": -2764,
    "start_time": "2022-01-29T11:26:05.779Z"
   },
   {
    "duration": -2769,
    "start_time": "2022-01-29T11:26:05.785Z"
   },
   {
    "duration": -2773,
    "start_time": "2022-01-29T11:26:05.790Z"
   },
   {
    "duration": -2777,
    "start_time": "2022-01-29T11:26:05.796Z"
   },
   {
    "duration": -2781,
    "start_time": "2022-01-29T11:26:05.801Z"
   },
   {
    "duration": -2786,
    "start_time": "2022-01-29T11:26:05.807Z"
   },
   {
    "duration": -2879,
    "start_time": "2022-01-29T11:26:05.902Z"
   },
   {
    "duration": -2891,
    "start_time": "2022-01-29T11:26:05.915Z"
   },
   {
    "duration": -2893,
    "start_time": "2022-01-29T11:26:05.918Z"
   },
   {
    "duration": -2910,
    "start_time": "2022-01-29T11:26:05.936Z"
   },
   {
    "duration": -2923,
    "start_time": "2022-01-29T11:26:05.951Z"
   },
   {
    "duration": -2927,
    "start_time": "2022-01-29T11:26:05.956Z"
   },
   {
    "duration": -2940,
    "start_time": "2022-01-29T11:26:05.970Z"
   },
   {
    "duration": -2952,
    "start_time": "2022-01-29T11:26:05.984Z"
   },
   {
    "duration": -2957,
    "start_time": "2022-01-29T11:26:05.990Z"
   },
   {
    "duration": -2969,
    "start_time": "2022-01-29T11:26:06.004Z"
   },
   {
    "duration": -2981,
    "start_time": "2022-01-29T11:26:06.017Z"
   },
   {
    "duration": -2985,
    "start_time": "2022-01-29T11:26:06.022Z"
   },
   {
    "duration": -2996,
    "start_time": "2022-01-29T11:26:06.035Z"
   },
   {
    "duration": -2998,
    "start_time": "2022-01-29T11:26:06.039Z"
   },
   {
    "duration": -3035,
    "start_time": "2022-01-29T11:26:06.077Z"
   },
   {
    "duration": -3049,
    "start_time": "2022-01-29T11:26:06.093Z"
   },
   {
    "duration": -3051,
    "start_time": "2022-01-29T11:26:06.099Z"
   },
   {
    "duration": -3055,
    "start_time": "2022-01-29T11:26:06.105Z"
   },
   {
    "duration": -3060,
    "start_time": "2022-01-29T11:26:06.112Z"
   },
   {
    "duration": -3065,
    "start_time": "2022-01-29T11:26:06.118Z"
   },
   {
    "duration": -3067,
    "start_time": "2022-01-29T11:26:06.122Z"
   },
   {
    "duration": -3075,
    "start_time": "2022-01-29T11:26:06.132Z"
   },
   {
    "duration": -3093,
    "start_time": "2022-01-29T11:26:06.151Z"
   },
   {
    "duration": -3099,
    "start_time": "2022-01-29T11:26:06.159Z"
   },
   {
    "duration": -3104,
    "start_time": "2022-01-29T11:26:06.165Z"
   },
   {
    "duration": 21,
    "start_time": "2022-01-29T11:26:15.620Z"
   },
   {
    "duration": 9,
    "start_time": "2022-01-29T11:27:03.721Z"
   },
   {
    "duration": 12,
    "start_time": "2022-01-29T11:31:50.100Z"
   },
   {
    "duration": 13,
    "start_time": "2022-01-29T11:32:44.884Z"
   },
   {
    "duration": 10,
    "start_time": "2022-01-29T11:32:54.060Z"
   },
   {
    "duration": 6,
    "start_time": "2022-01-29T11:33:00.985Z"
   },
   {
    "duration": 11,
    "start_time": "2022-01-29T11:33:01.889Z"
   },
   {
    "duration": 277,
    "start_time": "2022-01-29T11:34:15.729Z"
   },
   {
    "duration": 1535,
    "start_time": "2022-01-29T11:34:46.674Z"
   },
   {
    "duration": 7,
    "start_time": "2022-01-29T11:35:09.538Z"
   },
   {
    "duration": 28,
    "start_time": "2022-01-29T11:35:11.305Z"
   },
   {
    "duration": 6,
    "start_time": "2022-01-29T11:36:06.688Z"
   },
   {
    "duration": 13,
    "start_time": "2022-01-29T11:36:07.519Z"
   },
   {
    "duration": 1414,
    "start_time": "2022-01-29T11:36:22.508Z"
   },
   {
    "duration": 928,
    "start_time": "2022-01-29T11:36:23.925Z"
   },
   {
    "duration": 61,
    "start_time": "2022-01-29T11:36:24.856Z"
   },
   {
    "duration": 64,
    "start_time": "2022-01-29T11:36:24.920Z"
   },
   {
    "duration": 38,
    "start_time": "2022-01-29T11:36:24.987Z"
   },
   {
    "duration": 28,
    "start_time": "2022-01-29T11:36:25.027Z"
   },
   {
    "duration": 10,
    "start_time": "2022-01-29T11:36:25.057Z"
   },
   {
    "duration": 334,
    "start_time": "2022-01-29T11:36:25.071Z"
   },
   {
    "duration": 145,
    "start_time": "2022-01-29T11:36:25.409Z"
   },
   {
    "duration": 25,
    "start_time": "2022-01-29T11:36:25.557Z"
   },
   {
    "duration": 150,
    "start_time": "2022-01-29T11:36:25.584Z"
   },
   {
    "duration": 21,
    "start_time": "2022-01-29T11:36:25.736Z"
   },
   {
    "duration": 128,
    "start_time": "2022-01-29T11:36:25.759Z"
   },
   {
    "duration": 5,
    "start_time": "2022-01-29T11:36:25.890Z"
   },
   {
    "duration": 21,
    "start_time": "2022-01-29T11:36:25.897Z"
   },
   {
    "duration": 231,
    "start_time": "2022-01-29T11:36:25.920Z"
   },
   {
    "duration": 19,
    "start_time": "2022-01-29T11:36:26.154Z"
   },
   {
    "duration": 7,
    "start_time": "2022-01-29T11:36:26.175Z"
   },
   {
    "duration": 21,
    "start_time": "2022-01-29T11:36:26.184Z"
   },
   {
    "duration": 49,
    "start_time": "2022-01-29T11:36:26.210Z"
   },
   {
    "duration": 13,
    "start_time": "2022-01-29T11:36:26.262Z"
   },
   {
    "duration": 9,
    "start_time": "2022-01-29T11:36:26.277Z"
   },
   {
    "duration": 19,
    "start_time": "2022-01-29T11:36:26.293Z"
   },
   {
    "duration": 8,
    "start_time": "2022-01-29T11:36:26.347Z"
   },
   {
    "duration": 24,
    "start_time": "2022-01-29T11:36:26.357Z"
   },
   {
    "duration": 429,
    "start_time": "2022-01-29T11:36:26.384Z"
   },
   {
    "duration": -2942,
    "start_time": "2022-01-29T11:36:29.758Z"
   },
   {
    "duration": -2987,
    "start_time": "2022-01-29T11:36:29.805Z"
   },
   {
    "duration": -2992,
    "start_time": "2022-01-29T11:36:29.812Z"
   },
   {
    "duration": -2996,
    "start_time": "2022-01-29T11:36:29.819Z"
   },
   {
    "duration": -3002,
    "start_time": "2022-01-29T11:36:29.827Z"
   },
   {
    "duration": -3006,
    "start_time": "2022-01-29T11:36:29.833Z"
   },
   {
    "duration": -3011,
    "start_time": "2022-01-29T11:36:29.840Z"
   },
   {
    "duration": -3017,
    "start_time": "2022-01-29T11:36:29.848Z"
   },
   {
    "duration": -3023,
    "start_time": "2022-01-29T11:36:29.856Z"
   },
   {
    "duration": -3028,
    "start_time": "2022-01-29T11:36:29.864Z"
   },
   {
    "duration": -3035,
    "start_time": "2022-01-29T11:36:29.873Z"
   },
   {
    "duration": -3040,
    "start_time": "2022-01-29T11:36:29.881Z"
   },
   {
    "duration": -3047,
    "start_time": "2022-01-29T11:36:29.890Z"
   },
   {
    "duration": -3052,
    "start_time": "2022-01-29T11:36:29.897Z"
   },
   {
    "duration": -3110,
    "start_time": "2022-01-29T11:36:29.957Z"
   },
   {
    "duration": -3115,
    "start_time": "2022-01-29T11:36:29.965Z"
   },
   {
    "duration": -3120,
    "start_time": "2022-01-29T11:36:29.973Z"
   },
   {
    "duration": -3126,
    "start_time": "2022-01-29T11:36:29.981Z"
   },
   {
    "duration": -3133,
    "start_time": "2022-01-29T11:36:29.990Z"
   },
   {
    "duration": -3148,
    "start_time": "2022-01-29T11:36:30.007Z"
   },
   {
    "duration": -3272,
    "start_time": "2022-01-29T11:36:30.134Z"
   },
   {
    "duration": -3277,
    "start_time": "2022-01-29T11:36:30.141Z"
   },
   {
    "duration": -3284,
    "start_time": "2022-01-29T11:36:30.150Z"
   },
   {
    "duration": -3304,
    "start_time": "2022-01-29T11:36:30.172Z"
   },
   {
    "duration": -3311,
    "start_time": "2022-01-29T11:36:30.181Z"
   },
   {
    "duration": -3317,
    "start_time": "2022-01-29T11:36:30.189Z"
   },
   {
    "duration": -3323,
    "start_time": "2022-01-29T11:36:30.198Z"
   },
   {
    "duration": -3328,
    "start_time": "2022-01-29T11:36:30.205Z"
   },
   {
    "duration": -3335,
    "start_time": "2022-01-29T11:36:30.214Z"
   },
   {
    "duration": -3339,
    "start_time": "2022-01-29T11:36:30.221Z"
   },
   {
    "duration": -3347,
    "start_time": "2022-01-29T11:36:30.231Z"
   },
   {
    "duration": -3352,
    "start_time": "2022-01-29T11:36:30.238Z"
   },
   {
    "duration": -3359,
    "start_time": "2022-01-29T11:36:30.247Z"
   },
   {
    "duration": -3363,
    "start_time": "2022-01-29T11:36:30.253Z"
   },
   {
    "duration": -3370,
    "start_time": "2022-01-29T11:36:30.262Z"
   },
   {
    "duration": 7736,
    "start_time": "2022-01-29T11:37:14.951Z"
   },
   {
    "duration": 1502,
    "start_time": "2022-01-29T11:37:25.045Z"
   },
   {
    "duration": 868,
    "start_time": "2022-01-29T11:37:26.550Z"
   },
   {
    "duration": 31,
    "start_time": "2022-01-29T11:37:27.421Z"
   },
   {
    "duration": 21,
    "start_time": "2022-01-29T11:37:27.454Z"
   },
   {
    "duration": 22,
    "start_time": "2022-01-29T11:37:27.477Z"
   },
   {
    "duration": 10,
    "start_time": "2022-01-29T11:37:27.502Z"
   },
   {
    "duration": 39,
    "start_time": "2022-01-29T11:37:27.514Z"
   },
   {
    "duration": 279,
    "start_time": "2022-01-29T11:37:27.557Z"
   },
   {
    "duration": 139,
    "start_time": "2022-01-29T11:37:27.839Z"
   },
   {
    "duration": 25,
    "start_time": "2022-01-29T11:37:27.980Z"
   },
   {
    "duration": 155,
    "start_time": "2022-01-29T11:37:28.008Z"
   },
   {
    "duration": 15,
    "start_time": "2022-01-29T11:37:28.165Z"
   },
   {
    "duration": 122,
    "start_time": "2022-01-29T11:37:28.183Z"
   },
   {
    "duration": 6,
    "start_time": "2022-01-29T11:37:28.308Z"
   },
   {
    "duration": 32,
    "start_time": "2022-01-29T11:37:28.317Z"
   },
   {
    "duration": 194,
    "start_time": "2022-01-29T11:37:28.352Z"
   },
   {
    "duration": 19,
    "start_time": "2022-01-29T11:37:28.548Z"
   },
   {
    "duration": 8,
    "start_time": "2022-01-29T11:37:28.570Z"
   },
   {
    "duration": 19,
    "start_time": "2022-01-29T11:37:28.581Z"
   },
   {
    "duration": 48,
    "start_time": "2022-01-29T11:37:28.602Z"
   },
   {
    "duration": 27,
    "start_time": "2022-01-29T11:37:28.652Z"
   },
   {
    "duration": 8,
    "start_time": "2022-01-29T11:37:28.682Z"
   },
   {
    "duration": 18,
    "start_time": "2022-01-29T11:37:28.696Z"
   },
   {
    "duration": 8,
    "start_time": "2022-01-29T11:37:28.718Z"
   },
   {
    "duration": 13,
    "start_time": "2022-01-29T11:37:28.748Z"
   },
   {
    "duration": 723,
    "start_time": "2022-01-29T11:37:28.763Z"
   },
   {
    "duration": -3018,
    "start_time": "2022-01-29T11:37:32.507Z"
   },
   {
    "duration": -3027,
    "start_time": "2022-01-29T11:37:32.517Z"
   },
   {
    "duration": -3032,
    "start_time": "2022-01-29T11:37:32.524Z"
   },
   {
    "duration": -3040,
    "start_time": "2022-01-29T11:37:32.533Z"
   },
   {
    "duration": -3047,
    "start_time": "2022-01-29T11:37:32.541Z"
   },
   {
    "duration": -3054,
    "start_time": "2022-01-29T11:37:32.550Z"
   },
   {
    "duration": -3060,
    "start_time": "2022-01-29T11:37:32.557Z"
   },
   {
    "duration": -3067,
    "start_time": "2022-01-29T11:37:32.566Z"
   },
   {
    "duration": -3074,
    "start_time": "2022-01-29T11:37:32.574Z"
   },
   {
    "duration": -3082,
    "start_time": "2022-01-29T11:37:32.583Z"
   },
   {
    "duration": -3088,
    "start_time": "2022-01-29T11:37:32.591Z"
   },
   {
    "duration": -3144,
    "start_time": "2022-01-29T11:37:32.648Z"
   },
   {
    "duration": -3151,
    "start_time": "2022-01-29T11:37:32.656Z"
   },
   {
    "duration": -3159,
    "start_time": "2022-01-29T11:37:32.665Z"
   },
   {
    "duration": -3164,
    "start_time": "2022-01-29T11:37:32.672Z"
   },
   {
    "duration": -3170,
    "start_time": "2022-01-29T11:37:32.679Z"
   },
   {
    "duration": -3176,
    "start_time": "2022-01-29T11:37:32.686Z"
   },
   {
    "duration": -3183,
    "start_time": "2022-01-29T11:37:32.694Z"
   },
   {
    "duration": -3188,
    "start_time": "2022-01-29T11:37:32.701Z"
   },
   {
    "duration": -3196,
    "start_time": "2022-01-29T11:37:32.710Z"
   },
   {
    "duration": -3201,
    "start_time": "2022-01-29T11:37:32.716Z"
   },
   {
    "duration": -3206,
    "start_time": "2022-01-29T11:37:32.723Z"
   },
   {
    "duration": -3212,
    "start_time": "2022-01-29T11:37:32.730Z"
   },
   {
    "duration": -3219,
    "start_time": "2022-01-29T11:37:32.738Z"
   },
   {
    "duration": -3225,
    "start_time": "2022-01-29T11:37:32.745Z"
   },
   {
    "duration": -3251,
    "start_time": "2022-01-29T11:37:32.773Z"
   },
   {
    "duration": -3258,
    "start_time": "2022-01-29T11:37:32.781Z"
   },
   {
    "duration": -3241,
    "start_time": "2022-01-29T11:37:32.789Z"
   },
   {
    "duration": -3245,
    "start_time": "2022-01-29T11:37:32.795Z"
   },
   {
    "duration": -3250,
    "start_time": "2022-01-29T11:37:32.802Z"
   },
   {
    "duration": -3256,
    "start_time": "2022-01-29T11:37:32.810Z"
   },
   {
    "duration": -3262,
    "start_time": "2022-01-29T11:37:32.817Z"
   },
   {
    "duration": -3266,
    "start_time": "2022-01-29T11:37:32.823Z"
   },
   {
    "duration": -3273,
    "start_time": "2022-01-29T11:37:32.832Z"
   },
   {
    "duration": -3279,
    "start_time": "2022-01-29T11:37:32.839Z"
   },
   {
    "duration": 279,
    "start_time": "2022-01-29T11:37:40.222Z"
   },
   {
    "duration": 622,
    "start_time": "2022-01-29T11:38:38.894Z"
   },
   {
    "duration": 127,
    "start_time": "2022-01-29T11:38:45.039Z"
   },
   {
    "duration": 21,
    "start_time": "2022-01-29T11:38:46.034Z"
   },
   {
    "duration": 84,
    "start_time": "2022-01-29T11:38:51.036Z"
   },
   {
    "duration": 7,
    "start_time": "2022-01-29T11:38:51.407Z"
   },
   {
    "duration": 16,
    "start_time": "2022-01-29T11:38:51.569Z"
   },
   {
    "duration": 201,
    "start_time": "2022-01-29T11:38:51.877Z"
   },
   {
    "duration": 24,
    "start_time": "2022-01-29T11:38:52.082Z"
   },
   {
    "duration": 8,
    "start_time": "2022-01-29T11:38:52.190Z"
   },
   {
    "duration": 19,
    "start_time": "2022-01-29T11:38:52.358Z"
   },
   {
    "duration": 32,
    "start_time": "2022-01-29T11:38:52.528Z"
   },
   {
    "duration": 8,
    "start_time": "2022-01-29T11:38:52.816Z"
   },
   {
    "duration": 1460,
    "start_time": "2022-01-29T11:39:18.202Z"
   },
   {
    "duration": 847,
    "start_time": "2022-01-29T11:39:19.665Z"
   },
   {
    "duration": 29,
    "start_time": "2022-01-29T11:39:20.516Z"
   },
   {
    "duration": 24,
    "start_time": "2022-01-29T11:39:20.548Z"
   },
   {
    "duration": 19,
    "start_time": "2022-01-29T11:39:20.574Z"
   },
   {
    "duration": 9,
    "start_time": "2022-01-29T11:39:20.595Z"
   },
   {
    "duration": 42,
    "start_time": "2022-01-29T11:39:20.607Z"
   },
   {
    "duration": 278,
    "start_time": "2022-01-29T11:39:20.654Z"
   },
   {
    "duration": 137,
    "start_time": "2022-01-29T11:39:20.936Z"
   },
   {
    "duration": 24,
    "start_time": "2022-01-29T11:39:21.076Z"
   },
   {
    "duration": 170,
    "start_time": "2022-01-29T11:39:21.103Z"
   },
   {
    "duration": 19,
    "start_time": "2022-01-29T11:39:21.276Z"
   },
   {
    "duration": 128,
    "start_time": "2022-01-29T11:39:21.298Z"
   },
   {
    "duration": 5,
    "start_time": "2022-01-29T11:39:21.429Z"
   },
   {
    "duration": 16,
    "start_time": "2022-01-29T11:39:21.449Z"
   },
   {
    "duration": 206,
    "start_time": "2022-01-29T11:39:21.467Z"
   },
   {
    "duration": 19,
    "start_time": "2022-01-29T11:39:21.676Z"
   },
   {
    "duration": 8,
    "start_time": "2022-01-29T11:39:21.698Z"
   },
   {
    "duration": 44,
    "start_time": "2022-01-29T11:39:21.709Z"
   },
   {
    "duration": 25,
    "start_time": "2022-01-29T11:39:21.756Z"
   },
   {
    "duration": 36,
    "start_time": "2022-01-29T11:39:21.783Z"
   },
   {
    "duration": 9,
    "start_time": "2022-01-29T11:39:21.822Z"
   },
   {
    "duration": 25,
    "start_time": "2022-01-29T11:39:21.837Z"
   },
   {
    "duration": 7,
    "start_time": "2022-01-29T11:39:21.865Z"
   },
   {
    "duration": 14,
    "start_time": "2022-01-29T11:39:21.875Z"
   },
   {
    "duration": 438,
    "start_time": "2022-01-29T11:39:21.891Z"
   },
   {
    "duration": -3097,
    "start_time": "2022-01-29T11:39:25.429Z"
   },
   {
    "duration": -3103,
    "start_time": "2022-01-29T11:39:25.436Z"
   },
   {
    "duration": -3111,
    "start_time": "2022-01-29T11:39:25.445Z"
   },
   {
    "duration": -3117,
    "start_time": "2022-01-29T11:39:25.452Z"
   },
   {
    "duration": -3122,
    "start_time": "2022-01-29T11:39:25.459Z"
   },
   {
    "duration": -3127,
    "start_time": "2022-01-29T11:39:25.465Z"
   },
   {
    "duration": -3133,
    "start_time": "2022-01-29T11:39:25.473Z"
   },
   {
    "duration": -3139,
    "start_time": "2022-01-29T11:39:25.480Z"
   },
   {
    "duration": -3144,
    "start_time": "2022-01-29T11:39:25.487Z"
   },
   {
    "duration": -3152,
    "start_time": "2022-01-29T11:39:25.496Z"
   },
   {
    "duration": -3157,
    "start_time": "2022-01-29T11:39:25.502Z"
   },
   {
    "duration": -3162,
    "start_time": "2022-01-29T11:39:25.508Z"
   },
   {
    "duration": -3164,
    "start_time": "2022-01-29T11:39:25.512Z"
   },
   {
    "duration": -3195,
    "start_time": "2022-01-29T11:39:25.544Z"
   },
   {
    "duration": -3198,
    "start_time": "2022-01-29T11:39:25.548Z"
   },
   {
    "duration": -3202,
    "start_time": "2022-01-29T11:39:25.553Z"
   },
   {
    "duration": -3204,
    "start_time": "2022-01-29T11:39:25.557Z"
   },
   {
    "duration": -3208,
    "start_time": "2022-01-29T11:39:25.562Z"
   },
   {
    "duration": -3211,
    "start_time": "2022-01-29T11:39:25.566Z"
   },
   {
    "duration": -3214,
    "start_time": "2022-01-29T11:39:25.570Z"
   },
   {
    "duration": -3217,
    "start_time": "2022-01-29T11:39:25.574Z"
   },
   {
    "duration": -3220,
    "start_time": "2022-01-29T11:39:25.579Z"
   },
   {
    "duration": -3222,
    "start_time": "2022-01-29T11:39:25.582Z"
   },
   {
    "duration": -3225,
    "start_time": "2022-01-29T11:39:25.587Z"
   },
   {
    "duration": -3228,
    "start_time": "2022-01-29T11:39:25.591Z"
   },
   {
    "duration": -3231,
    "start_time": "2022-01-29T11:39:25.595Z"
   },
   {
    "duration": -3234,
    "start_time": "2022-01-29T11:39:25.599Z"
   },
   {
    "duration": -3237,
    "start_time": "2022-01-29T11:39:25.604Z"
   },
   {
    "duration": -3240,
    "start_time": "2022-01-29T11:39:25.608Z"
   },
   {
    "duration": -3244,
    "start_time": "2022-01-29T11:39:25.613Z"
   },
   {
    "duration": -3247,
    "start_time": "2022-01-29T11:39:25.617Z"
   },
   {
    "duration": -3250,
    "start_time": "2022-01-29T11:39:25.621Z"
   },
   {
    "duration": -3252,
    "start_time": "2022-01-29T11:39:25.625Z"
   },
   {
    "duration": -3256,
    "start_time": "2022-01-29T11:39:25.630Z"
   },
   {
    "duration": -3260,
    "start_time": "2022-01-29T11:39:25.635Z"
   },
   {
    "duration": 9,
    "start_time": "2022-01-29T11:39:36.157Z"
   },
   {
    "duration": 26,
    "start_time": "2022-01-29T11:39:37.578Z"
   },
   {
    "duration": 14,
    "start_time": "2022-01-29T11:49:14.059Z"
   },
   {
    "duration": 38,
    "start_time": "2022-01-29T11:49:14.361Z"
   },
   {
    "duration": 12,
    "start_time": "2022-01-29T11:49:15.524Z"
   },
   {
    "duration": 6,
    "start_time": "2022-01-29T11:49:16.504Z"
   },
   {
    "duration": 5,
    "start_time": "2022-01-29T11:49:17.048Z"
   },
   {
    "duration": 5,
    "start_time": "2022-01-29T11:49:17.661Z"
   },
   {
    "duration": 8743,
    "start_time": "2022-01-29T11:49:18.266Z"
   },
   {
    "duration": 36,
    "start_time": "2022-01-29T11:57:47.486Z"
   },
   {
    "duration": 6,
    "start_time": "2022-01-29T11:57:47.883Z"
   },
   {
    "duration": 6,
    "start_time": "2022-01-29T11:57:48.559Z"
   },
   {
    "duration": 8,
    "start_time": "2022-01-29T11:57:48.916Z"
   },
   {
    "duration": 5,
    "start_time": "2022-01-29T11:57:49.389Z"
   },
   {
    "duration": 7964,
    "start_time": "2022-01-29T11:57:50.004Z"
   },
   {
    "duration": 10,
    "start_time": "2022-01-29T11:58:24.824Z"
   },
   {
    "duration": 10,
    "start_time": "2022-01-29T11:59:19.677Z"
   },
   {
    "duration": 37,
    "start_time": "2022-01-29T11:59:20.158Z"
   },
   {
    "duration": 1446,
    "start_time": "2022-01-29T11:59:32.373Z"
   },
   {
    "duration": 1035,
    "start_time": "2022-01-29T11:59:33.825Z"
   },
   {
    "duration": 27,
    "start_time": "2022-01-29T11:59:34.864Z"
   },
   {
    "duration": 22,
    "start_time": "2022-01-29T11:59:34.893Z"
   },
   {
    "duration": 39,
    "start_time": "2022-01-29T11:59:34.918Z"
   },
   {
    "duration": 8,
    "start_time": "2022-01-29T11:59:34.960Z"
   },
   {
    "duration": 11,
    "start_time": "2022-01-29T11:59:34.972Z"
   },
   {
    "duration": 285,
    "start_time": "2022-01-29T11:59:34.986Z"
   },
   {
    "duration": 140,
    "start_time": "2022-01-29T11:59:35.274Z"
   },
   {
    "duration": 37,
    "start_time": "2022-01-29T11:59:35.417Z"
   },
   {
    "duration": 145,
    "start_time": "2022-01-29T11:59:35.457Z"
   },
   {
    "duration": 20,
    "start_time": "2022-01-29T11:59:35.605Z"
   },
   {
    "duration": 121,
    "start_time": "2022-01-29T11:59:35.628Z"
   },
   {
    "duration": 5,
    "start_time": "2022-01-29T11:59:35.752Z"
   },
   {
    "duration": 18,
    "start_time": "2022-01-29T11:59:35.760Z"
   },
   {
    "duration": 214,
    "start_time": "2022-01-29T11:59:35.780Z"
   },
   {
    "duration": 20,
    "start_time": "2022-01-29T11:59:35.997Z"
   },
   {
    "duration": 30,
    "start_time": "2022-01-29T11:59:36.019Z"
   },
   {
    "duration": 26,
    "start_time": "2022-01-29T11:59:36.052Z"
   },
   {
    "duration": 24,
    "start_time": "2022-01-29T11:59:36.080Z"
   },
   {
    "duration": 14,
    "start_time": "2022-01-29T11:59:36.107Z"
   },
   {
    "duration": 26,
    "start_time": "2022-01-29T11:59:36.127Z"
   },
   {
    "duration": 21,
    "start_time": "2022-01-29T11:59:36.156Z"
   },
   {
    "duration": 6,
    "start_time": "2022-01-29T11:59:36.180Z"
   },
   {
    "duration": 15,
    "start_time": "2022-01-29T11:59:36.188Z"
   },
   {
    "duration": 42,
    "start_time": "2022-01-29T11:59:36.206Z"
   },
   {
    "duration": 27,
    "start_time": "2022-01-29T11:59:36.250Z"
   },
   {
    "duration": 6,
    "start_time": "2022-01-29T11:59:36.279Z"
   },
   {
    "duration": 7,
    "start_time": "2022-01-29T11:59:36.288Z"
   },
   {
    "duration": 6,
    "start_time": "2022-01-29T11:59:36.297Z"
   },
   {
    "duration": 43,
    "start_time": "2022-01-29T11:59:36.305Z"
   },
   {
    "duration": 173,
    "start_time": "2022-01-29T11:59:36.351Z"
   },
   {
    "duration": 8348,
    "start_time": "2022-01-29T11:59:36.526Z"
   },
   {
    "duration": -2575,
    "start_time": "2022-01-29T11:59:47.452Z"
   },
   {
    "duration": -2584,
    "start_time": "2022-01-29T11:59:47.462Z"
   },
   {
    "duration": -2590,
    "start_time": "2022-01-29T11:59:47.470Z"
   },
   {
    "duration": -2596,
    "start_time": "2022-01-29T11:59:47.477Z"
   },
   {
    "duration": -2603,
    "start_time": "2022-01-29T11:59:47.485Z"
   },
   {
    "duration": -2606,
    "start_time": "2022-01-29T11:59:47.491Z"
   },
   {
    "duration": -2613,
    "start_time": "2022-01-29T11:59:47.500Z"
   },
   {
    "duration": -2618,
    "start_time": "2022-01-29T11:59:47.506Z"
   },
   {
    "duration": -2625,
    "start_time": "2022-01-29T11:59:47.515Z"
   },
   {
    "duration": -2630,
    "start_time": "2022-01-29T11:59:47.521Z"
   },
   {
    "duration": -2638,
    "start_time": "2022-01-29T11:59:47.530Z"
   },
   {
    "duration": -2643,
    "start_time": "2022-01-29T11:59:47.537Z"
   },
   {
    "duration": -2665,
    "start_time": "2022-01-29T11:59:47.560Z"
   },
   {
    "duration": -2670,
    "start_time": "2022-01-29T11:59:47.566Z"
   },
   {
    "duration": -2674,
    "start_time": "2022-01-29T11:59:47.572Z"
   },
   {
    "duration": -2680,
    "start_time": "2022-01-29T11:59:47.579Z"
   },
   {
    "duration": -2685,
    "start_time": "2022-01-29T11:59:47.586Z"
   },
   {
    "duration": -2689,
    "start_time": "2022-01-29T11:59:47.591Z"
   },
   {
    "duration": -2694,
    "start_time": "2022-01-29T11:59:47.597Z"
   },
   {
    "duration": -2698,
    "start_time": "2022-01-29T11:59:47.603Z"
   },
   {
    "duration": -2704,
    "start_time": "2022-01-29T11:59:47.610Z"
   },
   {
    "duration": -2709,
    "start_time": "2022-01-29T11:59:47.617Z"
   },
   {
    "duration": -2715,
    "start_time": "2022-01-29T11:59:47.624Z"
   },
   {
    "duration": -2719,
    "start_time": "2022-01-29T11:59:47.630Z"
   },
   {
    "duration": -2725,
    "start_time": "2022-01-29T11:59:47.637Z"
   },
   {
    "duration": -2694,
    "start_time": "2022-01-29T11:59:47.643Z"
   },
   {
    "duration": -2699,
    "start_time": "2022-01-29T11:59:47.649Z"
   },
   {
    "duration": -2703,
    "start_time": "2022-01-29T11:59:47.655Z"
   },
   {
    "duration": 27,
    "start_time": "2022-01-29T11:59:51.951Z"
   },
   {
    "duration": 652,
    "start_time": "2022-01-29T12:00:05.766Z"
   },
   {
    "duration": 34,
    "start_time": "2022-01-29T12:00:07.196Z"
   },
   {
    "duration": 9,
    "start_time": "2022-01-29T12:00:09.834Z"
   },
   {
    "duration": 8,
    "start_time": "2022-01-29T12:00:19.299Z"
   },
   {
    "duration": 102,
    "start_time": "2022-01-29T12:04:27.243Z"
   },
   {
    "duration": 291,
    "start_time": "2022-01-29T12:30:46.176Z"
   },
   {
    "duration": 35,
    "start_time": "2022-01-29T12:30:59.248Z"
   },
   {
    "duration": 46,
    "start_time": "2022-01-29T12:31:17.052Z"
   },
   {
    "duration": 32,
    "start_time": "2022-01-29T12:32:00.353Z"
   },
   {
    "duration": 41,
    "start_time": "2022-01-29T12:32:13.570Z"
   },
   {
    "duration": 30,
    "start_time": "2022-01-29T12:32:50.725Z"
   },
   {
    "duration": 6,
    "start_time": "2022-01-29T12:33:26.845Z"
   },
   {
    "duration": 8,
    "start_time": "2022-01-29T12:33:28.189Z"
   },
   {
    "duration": 31,
    "start_time": "2022-01-29T12:33:33.531Z"
   },
   {
    "duration": 13,
    "start_time": "2022-01-29T12:33:48.456Z"
   },
   {
    "duration": 149,
    "start_time": "2022-01-29T12:34:22.321Z"
   },
   {
    "duration": 25,
    "start_time": "2022-01-29T12:34:23.110Z"
   },
   {
    "duration": 1447,
    "start_time": "2022-01-29T12:34:30.085Z"
   },
   {
    "duration": 1337,
    "start_time": "2022-01-29T12:34:31.535Z"
   },
   {
    "duration": 28,
    "start_time": "2022-01-29T12:34:32.875Z"
   },
   {
    "duration": 22,
    "start_time": "2022-01-29T12:34:32.906Z"
   },
   {
    "duration": 29,
    "start_time": "2022-01-29T12:34:32.931Z"
   },
   {
    "duration": 14,
    "start_time": "2022-01-29T12:34:32.962Z"
   },
   {
    "duration": 10,
    "start_time": "2022-01-29T12:34:32.980Z"
   },
   {
    "duration": 293,
    "start_time": "2022-01-29T12:34:32.994Z"
   },
   {
    "duration": 138,
    "start_time": "2022-01-29T12:34:33.290Z"
   },
   {
    "duration": 29,
    "start_time": "2022-01-29T12:34:33.431Z"
   },
   {
    "duration": 169,
    "start_time": "2022-01-29T12:34:33.462Z"
   },
   {
    "duration": 29,
    "start_time": "2022-01-29T12:34:33.634Z"
   },
   {
    "duration": 112,
    "start_time": "2022-01-29T12:34:33.665Z"
   },
   {
    "duration": 6,
    "start_time": "2022-01-29T12:34:33.780Z"
   },
   {
    "duration": 26,
    "start_time": "2022-01-29T12:34:33.788Z"
   },
   {
    "duration": 222,
    "start_time": "2022-01-29T12:34:33.817Z"
   },
   {
    "duration": 21,
    "start_time": "2022-01-29T12:34:34.042Z"
   },
   {
    "duration": 7,
    "start_time": "2022-01-29T12:34:34.065Z"
   },
   {
    "duration": 21,
    "start_time": "2022-01-29T12:34:34.075Z"
   },
   {
    "duration": 62,
    "start_time": "2022-01-29T12:34:34.099Z"
   },
   {
    "duration": 15,
    "start_time": "2022-01-29T12:34:34.164Z"
   },
   {
    "duration": 9,
    "start_time": "2022-01-29T12:34:34.181Z"
   },
   {
    "duration": 53,
    "start_time": "2022-01-29T12:34:34.195Z"
   },
   {
    "duration": 8,
    "start_time": "2022-01-29T12:34:34.252Z"
   },
   {
    "duration": 15,
    "start_time": "2022-01-29T12:34:34.263Z"
   },
   {
    "duration": 7,
    "start_time": "2022-01-29T12:34:34.280Z"
   },
   {
    "duration": 6,
    "start_time": "2022-01-29T12:34:34.289Z"
   },
   {
    "duration": 7,
    "start_time": "2022-01-29T12:34:34.298Z"
   },
   {
    "duration": 43,
    "start_time": "2022-01-29T12:34:34.307Z"
   },
   {
    "duration": 661,
    "start_time": "2022-01-29T12:34:34.353Z"
   },
   {
    "duration": 49,
    "start_time": "2022-01-29T12:34:35.017Z"
   },
   {
    "duration": 13,
    "start_time": "2022-01-29T12:34:35.069Z"
   },
   {
    "duration": 39,
    "start_time": "2022-01-29T12:34:35.084Z"
   },
   {
    "duration": 31,
    "start_time": "2022-01-29T12:34:35.126Z"
   },
   {
    "duration": 14,
    "start_time": "2022-01-29T12:34:35.159Z"
   },
   {
    "duration": 481,
    "start_time": "2022-01-29T12:34:35.175Z"
   },
   {
    "duration": 15,
    "start_time": "2022-01-29T12:34:35.659Z"
   },
   {
    "duration": 15,
    "start_time": "2022-01-29T12:34:35.676Z"
   },
   {
    "duration": 856,
    "start_time": "2022-01-29T12:34:35.694Z"
   },
   {
    "duration": 875,
    "start_time": "2022-01-29T12:34:36.553Z"
   },
   {
    "duration": 20,
    "start_time": "2022-01-29T12:34:37.431Z"
   },
   {
    "duration": 717,
    "start_time": "2022-01-29T12:34:37.453Z"
   },
   {
    "duration": 11,
    "start_time": "2022-01-29T12:34:38.173Z"
   },
   {
    "duration": 661,
    "start_time": "2022-01-29T12:34:38.187Z"
   },
   {
    "duration": 10,
    "start_time": "2022-01-29T12:34:38.851Z"
   },
   {
    "duration": 521,
    "start_time": "2022-01-29T12:34:38.863Z"
   },
   {
    "duration": 5,
    "start_time": "2022-01-29T12:34:39.387Z"
   },
   {
    "duration": 12,
    "start_time": "2022-01-29T12:34:39.394Z"
   },
   {
    "duration": 17,
    "start_time": "2022-01-29T12:34:39.408Z"
   },
   {
    "duration": 21,
    "start_time": "2022-01-29T12:34:39.427Z"
   },
   {
    "duration": 13,
    "start_time": "2022-01-29T12:34:39.451Z"
   },
   {
    "duration": 8336,
    "start_time": "2022-01-29T12:34:39.467Z"
   },
   {
    "duration": -2569,
    "start_time": "2022-01-29T12:34:50.374Z"
   },
   {
    "duration": -2583,
    "start_time": "2022-01-29T12:34:50.390Z"
   },
   {
    "duration": -2589,
    "start_time": "2022-01-29T12:34:50.397Z"
   },
   {
    "duration": -2593,
    "start_time": "2022-01-29T12:34:50.403Z"
   },
   {
    "duration": -2597,
    "start_time": "2022-01-29T12:34:50.408Z"
   },
   {
    "duration": -2599,
    "start_time": "2022-01-29T12:34:50.412Z"
   },
   {
    "duration": -2603,
    "start_time": "2022-01-29T12:34:50.417Z"
   },
   {
    "duration": 10,
    "start_time": "2022-01-29T12:34:57.643Z"
   },
   {
    "duration": 276,
    "start_time": "2022-01-29T12:35:14.475Z"
   },
   {
    "duration": 15,
    "start_time": "2022-01-29T12:35:17.797Z"
   },
   {
    "duration": 410,
    "start_time": "2022-01-29T12:35:32.173Z"
   },
   {
    "duration": 12,
    "start_time": "2022-01-29T12:35:48.118Z"
   },
   {
    "duration": 591,
    "start_time": "2022-01-29T12:36:37.336Z"
   },
   {
    "duration": 300,
    "start_time": "2022-01-29T12:38:51.925Z"
   },
   {
    "duration": 12,
    "start_time": "2022-01-29T12:38:56.913Z"
   },
   {
    "duration": 283,
    "start_time": "2022-01-29T12:40:11.830Z"
   },
   {
    "duration": 293,
    "start_time": "2022-01-29T12:40:27.056Z"
   },
   {
    "duration": 10,
    "start_time": "2022-01-29T12:40:46.542Z"
   },
   {
    "duration": 7,
    "start_time": "2022-01-29T12:41:10.893Z"
   },
   {
    "duration": 35,
    "start_time": "2022-01-29T12:41:29.817Z"
   },
   {
    "duration": 8,
    "start_time": "2022-01-29T12:42:54.267Z"
   },
   {
    "duration": 35,
    "start_time": "2022-01-29T12:43:26.349Z"
   },
   {
    "duration": 6,
    "start_time": "2022-01-29T12:44:17.653Z"
   },
   {
    "duration": 13,
    "start_time": "2022-01-29T12:44:18.762Z"
   },
   {
    "duration": 1603,
    "start_time": "2022-01-29T12:44:27.970Z"
   },
   {
    "duration": 1002,
    "start_time": "2022-01-29T12:44:29.577Z"
   },
   {
    "duration": 28,
    "start_time": "2022-01-29T12:44:30.582Z"
   },
   {
    "duration": 40,
    "start_time": "2022-01-29T12:44:30.612Z"
   },
   {
    "duration": 21,
    "start_time": "2022-01-29T12:44:30.654Z"
   },
   {
    "duration": 28,
    "start_time": "2022-01-29T12:44:30.677Z"
   },
   {
    "duration": 39,
    "start_time": "2022-01-29T12:44:30.708Z"
   },
   {
    "duration": 281,
    "start_time": "2022-01-29T12:44:30.751Z"
   },
   {
    "duration": 146,
    "start_time": "2022-01-29T12:44:31.035Z"
   },
   {
    "duration": 27,
    "start_time": "2022-01-29T12:44:31.183Z"
   },
   {
    "duration": 194,
    "start_time": "2022-01-29T12:44:31.213Z"
   },
   {
    "duration": 22,
    "start_time": "2022-01-29T12:44:31.409Z"
   },
   {
    "duration": 110,
    "start_time": "2022-01-29T12:44:31.449Z"
   },
   {
    "duration": 5,
    "start_time": "2022-01-29T12:44:31.562Z"
   },
   {
    "duration": 24,
    "start_time": "2022-01-29T12:44:31.570Z"
   },
   {
    "duration": 202,
    "start_time": "2022-01-29T12:44:31.597Z"
   },
   {
    "duration": 20,
    "start_time": "2022-01-29T12:44:31.802Z"
   },
   {
    "duration": 27,
    "start_time": "2022-01-29T12:44:31.825Z"
   },
   {
    "duration": 21,
    "start_time": "2022-01-29T12:44:31.855Z"
   },
   {
    "duration": 25,
    "start_time": "2022-01-29T12:44:31.879Z"
   },
   {
    "duration": 45,
    "start_time": "2022-01-29T12:44:31.907Z"
   },
   {
    "duration": 9,
    "start_time": "2022-01-29T12:44:31.955Z"
   },
   {
    "duration": 21,
    "start_time": "2022-01-29T12:44:31.970Z"
   },
   {
    "duration": 7,
    "start_time": "2022-01-29T12:44:31.996Z"
   },
   {
    "duration": 49,
    "start_time": "2022-01-29T12:44:32.006Z"
   },
   {
    "duration": 7,
    "start_time": "2022-01-29T12:44:32.058Z"
   },
   {
    "duration": 8,
    "start_time": "2022-01-29T12:44:32.068Z"
   },
   {
    "duration": 7,
    "start_time": "2022-01-29T12:44:32.079Z"
   },
   {
    "duration": 7,
    "start_time": "2022-01-29T12:44:32.089Z"
   },
   {
    "duration": 709,
    "start_time": "2022-01-29T12:44:32.098Z"
   },
   {
    "duration": 52,
    "start_time": "2022-01-29T12:44:32.810Z"
   },
   {
    "duration": 7,
    "start_time": "2022-01-29T12:44:32.865Z"
   },
   {
    "duration": 10,
    "start_time": "2022-01-29T12:44:32.874Z"
   },
   {
    "duration": 12,
    "start_time": "2022-01-29T12:44:32.887Z"
   },
   {
    "duration": 63,
    "start_time": "2022-01-29T12:44:32.901Z"
   },
   {
    "duration": 5,
    "start_time": "2022-01-29T12:44:32.966Z"
   },
   {
    "duration": 9,
    "start_time": "2022-01-29T12:44:32.973Z"
   },
   {
    "duration": 5,
    "start_time": "2022-01-29T12:44:32.985Z"
   },
   {
    "duration": 479,
    "start_time": "2022-01-29T12:44:32.992Z"
   },
   {
    "duration": 15,
    "start_time": "2022-01-29T12:44:33.474Z"
   },
   {
    "duration": 12,
    "start_time": "2022-01-29T12:44:33.492Z"
   },
   {
    "duration": 867,
    "start_time": "2022-01-29T12:44:33.507Z"
   },
   {
    "duration": 853,
    "start_time": "2022-01-29T12:44:34.376Z"
   },
   {
    "duration": 22,
    "start_time": "2022-01-29T12:44:35.232Z"
   },
   {
    "duration": 588,
    "start_time": "2022-01-29T12:44:35.256Z"
   },
   {
    "duration": 11,
    "start_time": "2022-01-29T12:44:35.849Z"
   },
   {
    "duration": 654,
    "start_time": "2022-01-29T12:44:35.862Z"
   },
   {
    "duration": 10,
    "start_time": "2022-01-29T12:44:36.519Z"
   },
   {
    "duration": 524,
    "start_time": "2022-01-29T12:44:36.532Z"
   },
   {
    "duration": 6,
    "start_time": "2022-01-29T12:44:37.059Z"
   },
   {
    "duration": 8,
    "start_time": "2022-01-29T12:44:37.067Z"
   },
   {
    "duration": 19,
    "start_time": "2022-01-29T12:44:37.078Z"
   },
   {
    "duration": 5,
    "start_time": "2022-01-29T12:44:37.100Z"
   },
   {
    "duration": 17,
    "start_time": "2022-01-29T12:44:37.107Z"
   },
   {
    "duration": 14,
    "start_time": "2022-01-29T12:44:37.150Z"
   },
   {
    "duration": 25,
    "start_time": "2022-01-29T12:44:37.166Z"
   },
   {
    "duration": 23,
    "start_time": "2022-01-29T12:44:37.193Z"
   },
   {
    "duration": 30,
    "start_time": "2022-01-29T12:44:37.218Z"
   },
   {
    "duration": 35,
    "start_time": "2022-01-29T12:44:37.250Z"
   },
   {
    "duration": 22,
    "start_time": "2022-01-29T12:44:37.287Z"
   },
   {
    "duration": 16,
    "start_time": "2022-01-29T12:44:37.312Z"
   },
   {
    "duration": 12,
    "start_time": "2022-01-29T12:44:37.331Z"
   },
   {
    "duration": 8,
    "start_time": "2022-01-29T12:45:19.826Z"
   },
   {
    "duration": 8,
    "start_time": "2022-01-29T12:45:29.445Z"
   },
   {
    "duration": 13,
    "start_time": "2022-01-29T12:45:38.095Z"
   },
   {
    "duration": 11,
    "start_time": "2022-01-29T12:45:53.678Z"
   },
   {
    "duration": 7,
    "start_time": "2022-01-29T12:46:15.327Z"
   },
   {
    "duration": 12,
    "start_time": "2022-01-29T12:46:15.947Z"
   },
   {
    "duration": 11,
    "start_time": "2022-01-29T12:46:16.832Z"
   },
   {
    "duration": 16,
    "start_time": "2022-01-29T12:53:25.476Z"
   },
   {
    "duration": 1607,
    "start_time": "2022-01-29T12:53:32.198Z"
   },
   {
    "duration": 970,
    "start_time": "2022-01-29T12:53:33.808Z"
   },
   {
    "duration": 28,
    "start_time": "2022-01-29T12:53:34.781Z"
   },
   {
    "duration": 24,
    "start_time": "2022-01-29T12:53:34.812Z"
   },
   {
    "duration": 23,
    "start_time": "2022-01-29T12:53:34.839Z"
   },
   {
    "duration": 11,
    "start_time": "2022-01-29T12:53:34.864Z"
   },
   {
    "duration": 12,
    "start_time": "2022-01-29T12:53:34.878Z"
   },
   {
    "duration": 469,
    "start_time": "2022-01-29T12:53:34.894Z"
   },
   {
    "duration": 287,
    "start_time": "2022-01-29T12:53:35.366Z"
   },
   {
    "duration": 25,
    "start_time": "2022-01-29T12:53:35.656Z"
   },
   {
    "duration": 204,
    "start_time": "2022-01-29T12:53:35.683Z"
   },
   {
    "duration": 22,
    "start_time": "2022-01-29T12:53:35.889Z"
   },
   {
    "duration": 129,
    "start_time": "2022-01-29T12:53:35.914Z"
   },
   {
    "duration": 6,
    "start_time": "2022-01-29T12:53:36.045Z"
   },
   {
    "duration": 20,
    "start_time": "2022-01-29T12:53:36.053Z"
   },
   {
    "duration": 217,
    "start_time": "2022-01-29T12:53:36.075Z"
   },
   {
    "duration": 19,
    "start_time": "2022-01-29T12:53:36.294Z"
   },
   {
    "duration": 7,
    "start_time": "2022-01-29T12:53:36.316Z"
   },
   {
    "duration": 41,
    "start_time": "2022-01-29T12:53:36.325Z"
   },
   {
    "duration": 26,
    "start_time": "2022-01-29T12:53:36.368Z"
   },
   {
    "duration": 13,
    "start_time": "2022-01-29T12:53:36.396Z"
   },
   {
    "duration": 51,
    "start_time": "2022-01-29T12:53:36.412Z"
   },
   {
    "duration": 36,
    "start_time": "2022-01-29T12:53:36.473Z"
   },
   {
    "duration": 164,
    "start_time": "2022-01-29T12:53:36.520Z"
   },
   {
    "duration": 160,
    "start_time": "2022-01-29T12:53:36.694Z"
   },
   {
    "duration": 179,
    "start_time": "2022-01-29T12:53:36.863Z"
   },
   {
    "duration": 20,
    "start_time": "2022-01-29T12:53:37.044Z"
   },
   {
    "duration": 14,
    "start_time": "2022-01-29T12:53:37.067Z"
   },
   {
    "duration": 9,
    "start_time": "2022-01-29T12:53:37.083Z"
   },
   {
    "duration": 8,
    "start_time": "2022-01-29T12:53:37.095Z"
   },
   {
    "duration": 705,
    "start_time": "2022-01-29T12:53:37.105Z"
   },
   {
    "duration": 44,
    "start_time": "2022-01-29T12:53:37.813Z"
   },
   {
    "duration": 6,
    "start_time": "2022-01-29T12:53:37.860Z"
   },
   {
    "duration": 18,
    "start_time": "2022-01-29T12:53:37.869Z"
   },
   {
    "duration": 12,
    "start_time": "2022-01-29T12:53:37.889Z"
   },
   {
    "duration": 6,
    "start_time": "2022-01-29T12:53:37.903Z"
   },
   {
    "duration": 45,
    "start_time": "2022-01-29T12:53:37.912Z"
   },
   {
    "duration": 13,
    "start_time": "2022-01-29T12:53:37.960Z"
   },
   {
    "duration": 8,
    "start_time": "2022-01-29T12:53:37.975Z"
   },
   {
    "duration": 12,
    "start_time": "2022-01-29T12:53:37.985Z"
   },
   {
    "duration": 499,
    "start_time": "2022-01-29T12:53:38.000Z"
   },
   {
    "duration": 17,
    "start_time": "2022-01-29T12:53:38.502Z"
   },
   {
    "duration": 39,
    "start_time": "2022-01-29T12:53:38.523Z"
   },
   {
    "duration": 977,
    "start_time": "2022-01-29T12:53:38.566Z"
   },
   {
    "duration": 889,
    "start_time": "2022-01-29T12:53:39.549Z"
   },
   {
    "duration": 12,
    "start_time": "2022-01-29T12:53:40.441Z"
   },
   {
    "duration": 589,
    "start_time": "2022-01-29T12:53:40.456Z"
   },
   {
    "duration": 10,
    "start_time": "2022-01-29T12:53:41.047Z"
   },
   {
    "duration": 638,
    "start_time": "2022-01-29T12:53:41.060Z"
   },
   {
    "duration": 10,
    "start_time": "2022-01-29T12:53:41.701Z"
   },
   {
    "duration": 535,
    "start_time": "2022-01-29T12:53:41.713Z"
   },
   {
    "duration": 6,
    "start_time": "2022-01-29T12:53:42.251Z"
   },
   {
    "duration": 7,
    "start_time": "2022-01-29T12:53:42.259Z"
   },
   {
    "duration": 19,
    "start_time": "2022-01-29T12:53:42.269Z"
   },
   {
    "duration": 4,
    "start_time": "2022-01-29T12:53:42.291Z"
   },
   {
    "duration": 8,
    "start_time": "2022-01-29T12:53:42.297Z"
   },
   {
    "duration": 45,
    "start_time": "2022-01-29T12:53:42.308Z"
   },
   {
    "duration": 7,
    "start_time": "2022-01-29T12:53:42.355Z"
   },
   {
    "duration": 9,
    "start_time": "2022-01-29T12:53:42.364Z"
   },
   {
    "duration": 10,
    "start_time": "2022-01-29T12:53:42.375Z"
   },
   {
    "duration": 16,
    "start_time": "2022-01-29T12:53:42.388Z"
   },
   {
    "duration": 7,
    "start_time": "2022-01-29T12:53:42.407Z"
   },
   {
    "duration": 33,
    "start_time": "2022-01-29T12:53:42.417Z"
   },
   {
    "duration": 8,
    "start_time": "2022-01-29T12:53:42.452Z"
   },
   {
    "duration": 8827,
    "start_time": "2022-01-29T12:59:20.744Z"
   },
   {
    "duration": 1577,
    "start_time": "2022-01-29T12:59:39.177Z"
   },
   {
    "duration": 1130,
    "start_time": "2022-01-29T12:59:40.757Z"
   },
   {
    "duration": 69,
    "start_time": "2022-01-29T12:59:41.890Z"
   },
   {
    "duration": 26,
    "start_time": "2022-01-29T12:59:41.962Z"
   },
   {
    "duration": 81,
    "start_time": "2022-01-29T12:59:41.990Z"
   },
   {
    "duration": 10,
    "start_time": "2022-01-29T12:59:42.073Z"
   },
   {
    "duration": 63,
    "start_time": "2022-01-29T12:59:42.086Z"
   },
   {
    "duration": 426,
    "start_time": "2022-01-29T12:59:42.153Z"
   },
   {
    "duration": 146,
    "start_time": "2022-01-29T12:59:42.583Z"
   },
   {
    "duration": 29,
    "start_time": "2022-01-29T12:59:42.732Z"
   },
   {
    "duration": 225,
    "start_time": "2022-01-29T12:59:42.764Z"
   },
   {
    "duration": 30,
    "start_time": "2022-01-29T12:59:42.993Z"
   },
   {
    "duration": 131,
    "start_time": "2022-01-29T12:59:43.026Z"
   },
   {
    "duration": 7,
    "start_time": "2022-01-29T12:59:43.159Z"
   },
   {
    "duration": 19,
    "start_time": "2022-01-29T12:59:43.169Z"
   },
   {
    "duration": 209,
    "start_time": "2022-01-29T12:59:43.191Z"
   },
   {
    "duration": 20,
    "start_time": "2022-01-29T12:59:43.402Z"
   },
   {
    "duration": 25,
    "start_time": "2022-01-29T12:59:43.425Z"
   },
   {
    "duration": 18,
    "start_time": "2022-01-29T12:59:43.453Z"
   },
   {
    "duration": 41,
    "start_time": "2022-01-29T12:59:43.474Z"
   },
   {
    "duration": 53,
    "start_time": "2022-01-29T12:59:43.518Z"
   },
   {
    "duration": 12,
    "start_time": "2022-01-29T12:59:43.574Z"
   },
   {
    "duration": 24,
    "start_time": "2022-01-29T12:59:43.594Z"
   },
   {
    "duration": 29,
    "start_time": "2022-01-29T12:59:43.622Z"
   },
   {
    "duration": 9,
    "start_time": "2022-01-29T12:59:43.654Z"
   },
   {
    "duration": 17,
    "start_time": "2022-01-29T12:59:43.666Z"
   },
   {
    "duration": 17,
    "start_time": "2022-01-29T12:59:43.687Z"
   },
   {
    "duration": 15,
    "start_time": "2022-01-29T12:59:43.707Z"
   },
   {
    "duration": 25,
    "start_time": "2022-01-29T12:59:43.724Z"
   },
   {
    "duration": 9,
    "start_time": "2022-01-29T12:59:43.753Z"
   },
   {
    "duration": 707,
    "start_time": "2022-01-29T12:59:43.765Z"
   },
   {
    "duration": 37,
    "start_time": "2022-01-29T12:59:44.475Z"
   },
   {
    "duration": 35,
    "start_time": "2022-01-29T12:59:44.515Z"
   },
   {
    "duration": 12,
    "start_time": "2022-01-29T12:59:44.553Z"
   },
   {
    "duration": 11,
    "start_time": "2022-01-29T12:59:44.568Z"
   },
   {
    "duration": 5,
    "start_time": "2022-01-29T12:59:44.582Z"
   },
   {
    "duration": 15,
    "start_time": "2022-01-29T12:59:44.589Z"
   },
   {
    "duration": 51,
    "start_time": "2022-01-29T12:59:44.606Z"
   },
   {
    "duration": 14,
    "start_time": "2022-01-29T12:59:44.659Z"
   },
   {
    "duration": 6,
    "start_time": "2022-01-29T12:59:44.675Z"
   },
   {
    "duration": 514,
    "start_time": "2022-01-29T12:59:44.683Z"
   },
   {
    "duration": 14,
    "start_time": "2022-01-29T12:59:45.200Z"
   },
   {
    "duration": 37,
    "start_time": "2022-01-29T12:59:45.217Z"
   },
   {
    "duration": 928,
    "start_time": "2022-01-29T12:59:45.256Z"
   },
   {
    "duration": 961,
    "start_time": "2022-01-29T12:59:46.187Z"
   },
   {
    "duration": 15,
    "start_time": "2022-01-29T12:59:47.152Z"
   },
   {
    "duration": 623,
    "start_time": "2022-01-29T12:59:47.170Z"
   },
   {
    "duration": 12,
    "start_time": "2022-01-29T12:59:47.796Z"
   },
   {
    "duration": 643,
    "start_time": "2022-01-29T12:59:47.810Z"
   },
   {
    "duration": 10,
    "start_time": "2022-01-29T12:59:48.456Z"
   },
   {
    "duration": 560,
    "start_time": "2022-01-29T12:59:48.468Z"
   },
   {
    "duration": 7,
    "start_time": "2022-01-29T12:59:49.030Z"
   },
   {
    "duration": 3,
    "start_time": "2022-01-29T12:59:49.049Z"
   },
   {
    "duration": 17,
    "start_time": "2022-01-29T12:59:49.054Z"
   },
   {
    "duration": 6,
    "start_time": "2022-01-29T12:59:49.082Z"
   },
   {
    "duration": 18,
    "start_time": "2022-01-29T12:59:49.090Z"
   },
   {
    "duration": 37,
    "start_time": "2022-01-29T12:59:49.111Z"
   },
   {
    "duration": 7,
    "start_time": "2022-01-29T12:59:49.151Z"
   },
   {
    "duration": 12,
    "start_time": "2022-01-29T12:59:49.160Z"
   },
   {
    "duration": 9,
    "start_time": "2022-01-29T12:59:49.175Z"
   },
   {
    "duration": 9,
    "start_time": "2022-01-29T12:59:49.186Z"
   },
   {
    "duration": 4,
    "start_time": "2022-01-29T12:59:49.197Z"
   },
   {
    "duration": 46,
    "start_time": "2022-01-29T12:59:49.204Z"
   },
   {
    "duration": 6,
    "start_time": "2022-01-29T12:59:49.252Z"
   },
   {
    "duration": 8526,
    "start_time": "2022-01-29T13:00:33.166Z"
   },
   {
    "duration": 11,
    "start_time": "2022-01-29T13:03:09.936Z"
   },
   {
    "duration": 1732,
    "start_time": "2022-01-29T13:03:16.742Z"
   },
   {
    "duration": 1031,
    "start_time": "2022-01-29T13:03:18.477Z"
   },
   {
    "duration": 28,
    "start_time": "2022-01-29T13:03:19.512Z"
   },
   {
    "duration": 24,
    "start_time": "2022-01-29T13:03:19.543Z"
   },
   {
    "duration": 18,
    "start_time": "2022-01-29T13:03:19.570Z"
   },
   {
    "duration": 9,
    "start_time": "2022-01-29T13:03:19.591Z"
   },
   {
    "duration": 14,
    "start_time": "2022-01-29T13:03:19.603Z"
   },
   {
    "duration": 299,
    "start_time": "2022-01-29T13:03:19.620Z"
   },
   {
    "duration": 153,
    "start_time": "2022-01-29T13:03:19.922Z"
   },
   {
    "duration": 23,
    "start_time": "2022-01-29T13:03:20.077Z"
   },
   {
    "duration": 171,
    "start_time": "2022-01-29T13:03:20.103Z"
   },
   {
    "duration": 22,
    "start_time": "2022-01-29T13:03:20.277Z"
   },
   {
    "duration": 124,
    "start_time": "2022-01-29T13:03:20.302Z"
   },
   {
    "duration": 5,
    "start_time": "2022-01-29T13:03:20.429Z"
   },
   {
    "duration": 15,
    "start_time": "2022-01-29T13:03:20.448Z"
   },
   {
    "duration": 203,
    "start_time": "2022-01-29T13:03:20.466Z"
   },
   {
    "duration": 18,
    "start_time": "2022-01-29T13:03:20.672Z"
   },
   {
    "duration": 7,
    "start_time": "2022-01-29T13:03:20.693Z"
   },
   {
    "duration": 48,
    "start_time": "2022-01-29T13:03:20.702Z"
   },
   {
    "duration": 26,
    "start_time": "2022-01-29T13:03:20.753Z"
   },
   {
    "duration": 13,
    "start_time": "2022-01-29T13:03:20.782Z"
   },
   {
    "duration": 9,
    "start_time": "2022-01-29T13:03:20.797Z"
   },
   {
    "duration": 51,
    "start_time": "2022-01-29T13:03:20.812Z"
   },
   {
    "duration": 11,
    "start_time": "2022-01-29T13:03:20.866Z"
   },
   {
    "duration": 10,
    "start_time": "2022-01-29T13:03:20.880Z"
   },
   {
    "duration": 18,
    "start_time": "2022-01-29T13:03:20.892Z"
   },
   {
    "duration": 6,
    "start_time": "2022-01-29T13:03:20.912Z"
   },
   {
    "duration": 30,
    "start_time": "2022-01-29T13:03:20.920Z"
   },
   {
    "duration": 8,
    "start_time": "2022-01-29T13:03:20.953Z"
   },
   {
    "duration": 7,
    "start_time": "2022-01-29T13:03:20.964Z"
   },
   {
    "duration": 752,
    "start_time": "2022-01-29T13:03:20.973Z"
   },
   {
    "duration": 5,
    "start_time": "2022-01-29T13:03:21.728Z"
   },
   {
    "duration": 21,
    "start_time": "2022-01-29T13:03:21.736Z"
   },
   {
    "duration": 10,
    "start_time": "2022-01-29T13:03:21.760Z"
   },
   {
    "duration": 8,
    "start_time": "2022-01-29T13:03:21.772Z"
   },
   {
    "duration": 14,
    "start_time": "2022-01-29T13:03:21.782Z"
   },
   {
    "duration": 49,
    "start_time": "2022-01-29T13:03:21.799Z"
   },
   {
    "duration": 7,
    "start_time": "2022-01-29T13:03:21.851Z"
   },
   {
    "duration": 6,
    "start_time": "2022-01-29T13:03:21.861Z"
   },
   {
    "duration": 518,
    "start_time": "2022-01-29T13:03:21.870Z"
   },
   {
    "duration": 15,
    "start_time": "2022-01-29T13:03:22.391Z"
   },
   {
    "duration": 19,
    "start_time": "2022-01-29T13:03:22.408Z"
   },
   {
    "duration": 879,
    "start_time": "2022-01-29T13:03:22.449Z"
   },
   {
    "duration": 873,
    "start_time": "2022-01-29T13:03:23.330Z"
   },
   {
    "duration": 11,
    "start_time": "2022-01-29T13:03:24.205Z"
   },
   {
    "duration": 686,
    "start_time": "2022-01-29T13:03:24.218Z"
   },
   {
    "duration": 11,
    "start_time": "2022-01-29T13:03:24.907Z"
   },
   {
    "duration": 937,
    "start_time": "2022-01-29T13:03:24.921Z"
   },
   {
    "duration": 13,
    "start_time": "2022-01-29T13:03:25.861Z"
   },
   {
    "duration": 687,
    "start_time": "2022-01-29T13:03:25.878Z"
   },
   {
    "duration": 5,
    "start_time": "2022-01-29T13:03:26.569Z"
   },
   {
    "duration": 10,
    "start_time": "2022-01-29T13:03:26.577Z"
   },
   {
    "duration": 17,
    "start_time": "2022-01-29T13:03:26.590Z"
   },
   {
    "duration": 5,
    "start_time": "2022-01-29T13:03:26.610Z"
   },
   {
    "duration": 34,
    "start_time": "2022-01-29T13:03:26.617Z"
   },
   {
    "duration": 10,
    "start_time": "2022-01-29T13:03:26.654Z"
   },
   {
    "duration": 14,
    "start_time": "2022-01-29T13:03:26.667Z"
   },
   {
    "duration": 15,
    "start_time": "2022-01-29T13:03:26.684Z"
   },
   {
    "duration": 453,
    "start_time": "2022-01-29T13:03:26.701Z"
   },
   {
    "duration": 14,
    "start_time": "2022-01-29T13:03:27.158Z"
   },
   {
    "duration": 9,
    "start_time": "2022-01-29T13:03:27.175Z"
   },
   {
    "duration": 15,
    "start_time": "2022-01-29T13:03:27.188Z"
   },
   {
    "duration": 18,
    "start_time": "2022-01-29T13:03:27.207Z"
   },
   {
    "duration": 1579,
    "start_time": "2022-01-29T13:08:59.440Z"
   },
   {
    "duration": 1130,
    "start_time": "2022-01-29T13:09:01.022Z"
   },
   {
    "duration": 41,
    "start_time": "2022-01-29T13:09:02.156Z"
   },
   {
    "duration": 54,
    "start_time": "2022-01-29T13:09:02.201Z"
   },
   {
    "duration": 29,
    "start_time": "2022-01-29T13:09:02.258Z"
   },
   {
    "duration": 13,
    "start_time": "2022-01-29T13:09:02.290Z"
   },
   {
    "duration": 45,
    "start_time": "2022-01-29T13:09:02.307Z"
   },
   {
    "duration": 297,
    "start_time": "2022-01-29T13:09:02.359Z"
   },
   {
    "duration": 159,
    "start_time": "2022-01-29T13:09:02.660Z"
   },
   {
    "duration": 35,
    "start_time": "2022-01-29T13:09:02.822Z"
   },
   {
    "duration": 173,
    "start_time": "2022-01-29T13:09:02.860Z"
   },
   {
    "duration": 25,
    "start_time": "2022-01-29T13:09:03.036Z"
   },
   {
    "duration": 119,
    "start_time": "2022-01-29T13:09:03.064Z"
   },
   {
    "duration": 6,
    "start_time": "2022-01-29T13:09:03.185Z"
   },
   {
    "duration": 21,
    "start_time": "2022-01-29T13:09:03.194Z"
   },
   {
    "duration": 208,
    "start_time": "2022-01-29T13:09:03.217Z"
   },
   {
    "duration": 26,
    "start_time": "2022-01-29T13:09:03.428Z"
   },
   {
    "duration": 11,
    "start_time": "2022-01-29T13:09:03.457Z"
   },
   {
    "duration": 21,
    "start_time": "2022-01-29T13:09:03.472Z"
   },
   {
    "duration": 61,
    "start_time": "2022-01-29T13:09:03.496Z"
   },
   {
    "duration": 15,
    "start_time": "2022-01-29T13:09:03.560Z"
   },
   {
    "duration": 10,
    "start_time": "2022-01-29T13:09:03.577Z"
   },
   {
    "duration": 21,
    "start_time": "2022-01-29T13:09:03.593Z"
   },
   {
    "duration": 39,
    "start_time": "2022-01-29T13:09:03.618Z"
   },
   {
    "duration": 10,
    "start_time": "2022-01-29T13:09:03.660Z"
   },
   {
    "duration": 29,
    "start_time": "2022-01-29T13:09:03.673Z"
   },
   {
    "duration": 8,
    "start_time": "2022-01-29T13:09:03.704Z"
   },
   {
    "duration": 26,
    "start_time": "2022-01-29T13:09:03.714Z"
   },
   {
    "duration": 10,
    "start_time": "2022-01-29T13:09:03.742Z"
   },
   {
    "duration": 26,
    "start_time": "2022-01-29T13:09:03.754Z"
   },
   {
    "duration": 700,
    "start_time": "2022-01-29T13:09:03.782Z"
   },
   {
    "duration": 7,
    "start_time": "2022-01-29T13:09:04.484Z"
   },
   {
    "duration": 15,
    "start_time": "2022-01-29T13:09:04.493Z"
   },
   {
    "duration": 5,
    "start_time": "2022-01-29T13:09:04.511Z"
   },
   {
    "duration": 40,
    "start_time": "2022-01-29T13:09:04.518Z"
   },
   {
    "duration": 12,
    "start_time": "2022-01-29T13:09:04.560Z"
   },
   {
    "duration": 10,
    "start_time": "2022-01-29T13:09:04.574Z"
   },
   {
    "duration": 7,
    "start_time": "2022-01-29T13:09:04.587Z"
   },
   {
    "duration": 5,
    "start_time": "2022-01-29T13:09:04.596Z"
   },
   {
    "duration": 522,
    "start_time": "2022-01-29T13:09:04.603Z"
   },
   {
    "duration": 24,
    "start_time": "2022-01-29T13:09:05.127Z"
   },
   {
    "duration": 11,
    "start_time": "2022-01-29T13:09:05.154Z"
   },
   {
    "duration": 1235,
    "start_time": "2022-01-29T13:09:05.167Z"
   },
   {
    "duration": 898,
    "start_time": "2022-01-29T13:09:06.405Z"
   },
   {
    "duration": 11,
    "start_time": "2022-01-29T13:09:07.305Z"
   },
   {
    "duration": 609,
    "start_time": "2022-01-29T13:09:07.319Z"
   },
   {
    "duration": 19,
    "start_time": "2022-01-29T13:09:07.930Z"
   },
   {
    "duration": 642,
    "start_time": "2022-01-29T13:09:07.951Z"
   },
   {
    "duration": 10,
    "start_time": "2022-01-29T13:09:08.596Z"
   },
   {
    "duration": 524,
    "start_time": "2022-01-29T13:09:08.609Z"
   },
   {
    "duration": 14,
    "start_time": "2022-01-29T13:09:09.135Z"
   },
   {
    "duration": 6,
    "start_time": "2022-01-29T13:09:09.151Z"
   },
   {
    "duration": 16,
    "start_time": "2022-01-29T13:09:09.159Z"
   },
   {
    "duration": 5,
    "start_time": "2022-01-29T13:09:09.177Z"
   },
   {
    "duration": 9,
    "start_time": "2022-01-29T13:09:09.185Z"
   },
   {
    "duration": 8,
    "start_time": "2022-01-29T13:09:09.197Z"
   },
   {
    "duration": 7,
    "start_time": "2022-01-29T13:09:09.248Z"
   },
   {
    "duration": 11,
    "start_time": "2022-01-29T13:09:09.257Z"
   },
   {
    "duration": 11,
    "start_time": "2022-01-29T13:09:09.270Z"
   },
   {
    "duration": 11,
    "start_time": "2022-01-29T13:09:09.284Z"
   },
   {
    "duration": 6,
    "start_time": "2022-01-29T13:09:09.297Z"
   },
   {
    "duration": 46,
    "start_time": "2022-01-29T13:09:09.306Z"
   },
   {
    "duration": 7,
    "start_time": "2022-01-29T13:09:09.356Z"
   },
   {
    "duration": 6,
    "start_time": "2022-01-29T13:12:03.410Z"
   },
   {
    "duration": 10,
    "start_time": "2022-01-29T13:12:06.192Z"
   },
   {
    "duration": 1467,
    "start_time": "2022-01-29T13:12:11.760Z"
   },
   {
    "duration": 934,
    "start_time": "2022-01-29T13:12:13.230Z"
   },
   {
    "duration": 28,
    "start_time": "2022-01-29T13:12:14.167Z"
   },
   {
    "duration": 23,
    "start_time": "2022-01-29T13:12:14.197Z"
   },
   {
    "duration": 26,
    "start_time": "2022-01-29T13:12:14.223Z"
   },
   {
    "duration": 9,
    "start_time": "2022-01-29T13:12:14.253Z"
   },
   {
    "duration": 16,
    "start_time": "2022-01-29T13:12:14.265Z"
   },
   {
    "duration": 300,
    "start_time": "2022-01-29T13:12:14.286Z"
   },
   {
    "duration": 140,
    "start_time": "2022-01-29T13:12:14.590Z"
   },
   {
    "duration": 34,
    "start_time": "2022-01-29T13:12:14.733Z"
   },
   {
    "duration": 176,
    "start_time": "2022-01-29T13:12:14.770Z"
   },
   {
    "duration": 23,
    "start_time": "2022-01-29T13:12:14.949Z"
   },
   {
    "duration": 131,
    "start_time": "2022-01-29T13:12:14.975Z"
   },
   {
    "duration": 7,
    "start_time": "2022-01-29T13:12:15.109Z"
   },
   {
    "duration": 33,
    "start_time": "2022-01-29T13:12:15.119Z"
   },
   {
    "duration": 193,
    "start_time": "2022-01-29T13:12:15.155Z"
   },
   {
    "duration": 18,
    "start_time": "2022-01-29T13:12:15.351Z"
   },
   {
    "duration": 9,
    "start_time": "2022-01-29T13:12:15.371Z"
   },
   {
    "duration": 22,
    "start_time": "2022-01-29T13:12:15.383Z"
   },
   {
    "duration": 59,
    "start_time": "2022-01-29T13:12:15.408Z"
   },
   {
    "duration": 15,
    "start_time": "2022-01-29T13:12:15.470Z"
   },
   {
    "duration": 11,
    "start_time": "2022-01-29T13:12:15.487Z"
   },
   {
    "duration": 48,
    "start_time": "2022-01-29T13:12:15.504Z"
   },
   {
    "duration": 11,
    "start_time": "2022-01-29T13:12:15.556Z"
   },
   {
    "duration": 8,
    "start_time": "2022-01-29T13:12:15.570Z"
   },
   {
    "duration": 15,
    "start_time": "2022-01-29T13:12:15.580Z"
   },
   {
    "duration": 5,
    "start_time": "2022-01-29T13:12:15.598Z"
   },
   {
    "duration": 6,
    "start_time": "2022-01-29T13:12:15.605Z"
   },
   {
    "duration": 37,
    "start_time": "2022-01-29T13:12:15.613Z"
   },
   {
    "duration": 7,
    "start_time": "2022-01-29T13:12:15.652Z"
   },
   {
    "duration": 700,
    "start_time": "2022-01-29T13:12:15.662Z"
   },
   {
    "duration": 6,
    "start_time": "2022-01-29T13:12:16.365Z"
   },
   {
    "duration": 15,
    "start_time": "2022-01-29T13:12:16.373Z"
   },
   {
    "duration": 7,
    "start_time": "2022-01-29T13:12:16.391Z"
   },
   {
    "duration": 47,
    "start_time": "2022-01-29T13:12:16.401Z"
   },
   {
    "duration": 12,
    "start_time": "2022-01-29T13:12:16.451Z"
   },
   {
    "duration": 9,
    "start_time": "2022-01-29T13:12:16.466Z"
   },
   {
    "duration": 11,
    "start_time": "2022-01-29T13:12:16.477Z"
   },
   {
    "duration": 11,
    "start_time": "2022-01-29T13:12:16.490Z"
   },
   {
    "duration": 44,
    "start_time": "2022-01-29T13:12:16.504Z"
   },
   {
    "duration": 470,
    "start_time": "2022-01-29T13:12:16.551Z"
   },
   {
    "duration": 30,
    "start_time": "2022-01-29T13:12:17.023Z"
   },
   {
    "duration": 18,
    "start_time": "2022-01-29T13:12:17.056Z"
   },
   {
    "duration": 899,
    "start_time": "2022-01-29T13:12:17.077Z"
   },
   {
    "duration": 899,
    "start_time": "2022-01-29T13:12:17.978Z"
   },
   {
    "duration": 16,
    "start_time": "2022-01-29T13:12:18.881Z"
   },
   {
    "duration": 642,
    "start_time": "2022-01-29T13:12:18.901Z"
   },
   {
    "duration": 11,
    "start_time": "2022-01-29T13:12:19.549Z"
   },
   {
    "duration": 662,
    "start_time": "2022-01-29T13:12:19.563Z"
   },
   {
    "duration": 23,
    "start_time": "2022-01-29T13:12:20.227Z"
   },
   {
    "duration": 506,
    "start_time": "2022-01-29T13:12:20.253Z"
   },
   {
    "duration": 6,
    "start_time": "2022-01-29T13:12:20.762Z"
   },
   {
    "duration": 6,
    "start_time": "2022-01-29T13:12:20.770Z"
   },
   {
    "duration": 18,
    "start_time": "2022-01-29T13:12:20.778Z"
   },
   {
    "duration": 5,
    "start_time": "2022-01-29T13:12:20.798Z"
   },
   {
    "duration": 44,
    "start_time": "2022-01-29T13:12:20.805Z"
   },
   {
    "duration": 12,
    "start_time": "2022-01-29T13:12:20.852Z"
   },
   {
    "duration": 12,
    "start_time": "2022-01-29T13:12:20.867Z"
   },
   {
    "duration": 11,
    "start_time": "2022-01-29T13:12:20.881Z"
   },
   {
    "duration": 5,
    "start_time": "2022-01-29T13:12:20.894Z"
   },
   {
    "duration": 7,
    "start_time": "2022-01-29T13:12:20.902Z"
   },
   {
    "duration": 37,
    "start_time": "2022-01-29T13:12:20.912Z"
   },
   {
    "duration": 7,
    "start_time": "2022-01-29T13:20:35.329Z"
   },
   {
    "duration": 7,
    "start_time": "2022-01-29T13:20:38.418Z"
   },
   {
    "duration": 11,
    "start_time": "2022-01-29T13:20:39.396Z"
   },
   {
    "duration": 11,
    "start_time": "2022-01-29T13:25:57.778Z"
   },
   {
    "duration": 1479,
    "start_time": "2022-01-29T13:28:01.006Z"
   },
   {
    "duration": 1001,
    "start_time": "2022-01-29T13:28:02.488Z"
   },
   {
    "duration": 26,
    "start_time": "2022-01-29T13:28:03.493Z"
   },
   {
    "duration": 22,
    "start_time": "2022-01-29T13:28:03.523Z"
   },
   {
    "duration": 19,
    "start_time": "2022-01-29T13:28:03.547Z"
   },
   {
    "duration": 12,
    "start_time": "2022-01-29T13:28:03.568Z"
   },
   {
    "duration": 11,
    "start_time": "2022-01-29T13:28:03.582Z"
   },
   {
    "duration": 311,
    "start_time": "2022-01-29T13:28:03.597Z"
   },
   {
    "duration": 165,
    "start_time": "2022-01-29T13:28:03.913Z"
   },
   {
    "duration": 23,
    "start_time": "2022-01-29T13:28:04.081Z"
   },
   {
    "duration": 180,
    "start_time": "2022-01-29T13:28:04.108Z"
   },
   {
    "duration": 19,
    "start_time": "2022-01-29T13:28:04.291Z"
   },
   {
    "duration": 124,
    "start_time": "2022-01-29T13:28:04.312Z"
   },
   {
    "duration": 13,
    "start_time": "2022-01-29T13:28:04.438Z"
   },
   {
    "duration": 25,
    "start_time": "2022-01-29T13:28:04.453Z"
   },
   {
    "duration": 204,
    "start_time": "2022-01-29T13:28:04.481Z"
   },
   {
    "duration": 74,
    "start_time": "2022-01-29T13:28:04.687Z"
   },
   {
    "duration": 6,
    "start_time": "2022-01-29T13:28:04.764Z"
   },
   {
    "duration": 79,
    "start_time": "2022-01-29T13:28:04.772Z"
   },
   {
    "duration": 27,
    "start_time": "2022-01-29T13:28:04.853Z"
   },
   {
    "duration": 13,
    "start_time": "2022-01-29T13:28:04.882Z"
   },
   {
    "duration": 59,
    "start_time": "2022-01-29T13:28:04.897Z"
   },
   {
    "duration": 22,
    "start_time": "2022-01-29T13:28:04.962Z"
   },
   {
    "duration": 64,
    "start_time": "2022-01-29T13:28:04.987Z"
   },
   {
    "duration": 15,
    "start_time": "2022-01-29T13:28:05.054Z"
   },
   {
    "duration": 23,
    "start_time": "2022-01-29T13:28:05.072Z"
   },
   {
    "duration": 50,
    "start_time": "2022-01-29T13:28:05.098Z"
   },
   {
    "duration": 13,
    "start_time": "2022-01-29T13:28:05.151Z"
   },
   {
    "duration": 7,
    "start_time": "2022-01-29T13:28:05.166Z"
   },
   {
    "duration": 16,
    "start_time": "2022-01-29T13:28:05.175Z"
   },
   {
    "duration": 855,
    "start_time": "2022-01-29T13:28:05.194Z"
   },
   {
    "duration": 5,
    "start_time": "2022-01-29T13:28:06.052Z"
   },
   {
    "duration": 19,
    "start_time": "2022-01-29T13:28:06.060Z"
   },
   {
    "duration": 7,
    "start_time": "2022-01-29T13:28:06.081Z"
   },
   {
    "duration": 15,
    "start_time": "2022-01-29T13:28:06.090Z"
   },
   {
    "duration": 41,
    "start_time": "2022-01-29T13:28:06.108Z"
   },
   {
    "duration": 9,
    "start_time": "2022-01-29T13:28:06.151Z"
   },
   {
    "duration": 11,
    "start_time": "2022-01-29T13:28:06.162Z"
   },
   {
    "duration": 12,
    "start_time": "2022-01-29T13:28:06.176Z"
   },
   {
    "duration": 487,
    "start_time": "2022-01-29T13:28:06.191Z"
   },
   {
    "duration": 16,
    "start_time": "2022-01-29T13:28:06.681Z"
   },
   {
    "duration": 15,
    "start_time": "2022-01-29T13:28:06.699Z"
   },
   {
    "duration": 882,
    "start_time": "2022-01-29T13:28:06.716Z"
   },
   {
    "duration": 853,
    "start_time": "2022-01-29T13:28:07.600Z"
   },
   {
    "duration": 12,
    "start_time": "2022-01-29T13:28:08.455Z"
   },
   {
    "duration": 587,
    "start_time": "2022-01-29T13:28:08.469Z"
   },
   {
    "duration": 12,
    "start_time": "2022-01-29T13:28:09.058Z"
   },
   {
    "duration": 754,
    "start_time": "2022-01-29T13:28:09.073Z"
   },
   {
    "duration": 19,
    "start_time": "2022-01-29T13:28:09.830Z"
   },
   {
    "duration": 521,
    "start_time": "2022-01-29T13:28:09.852Z"
   },
   {
    "duration": 6,
    "start_time": "2022-01-29T13:28:10.376Z"
   },
   {
    "duration": 8,
    "start_time": "2022-01-29T13:28:10.384Z"
   },
   {
    "duration": 16,
    "start_time": "2022-01-29T13:28:10.395Z"
   },
   {
    "duration": 5,
    "start_time": "2022-01-29T13:28:10.414Z"
   },
   {
    "duration": 5,
    "start_time": "2022-01-29T13:28:10.448Z"
   },
   {
    "duration": 11,
    "start_time": "2022-01-29T13:28:10.456Z"
   },
   {
    "duration": 9,
    "start_time": "2022-01-29T13:28:10.470Z"
   },
   {
    "duration": 4,
    "start_time": "2022-01-29T13:28:10.482Z"
   },
   {
    "duration": 8,
    "start_time": "2022-01-29T13:28:10.488Z"
   },
   {
    "duration": 6,
    "start_time": "2022-01-29T13:28:10.498Z"
   },
   {
    "duration": 1714,
    "start_time": "2022-01-29T13:30:35.147Z"
   },
   {
    "duration": 1414,
    "start_time": "2022-01-29T13:30:45.220Z"
   },
   {
    "duration": 1599,
    "start_time": "2022-01-29T13:31:00.983Z"
   },
   {
    "duration": 1305,
    "start_time": "2022-01-29T13:31:28.477Z"
   },
   {
    "duration": 867,
    "start_time": "2022-01-29T13:32:30.597Z"
   },
   {
    "duration": 871,
    "start_time": "2022-01-29T13:32:39.298Z"
   },
   {
    "duration": 855,
    "start_time": "2022-01-29T13:32:56.593Z"
   },
   {
    "duration": 800,
    "start_time": "2022-01-29T13:33:28.581Z"
   },
   {
    "duration": 522,
    "start_time": "2022-01-29T13:34:17.053Z"
   },
   {
    "duration": 866,
    "start_time": "2022-01-29T13:34:30.220Z"
   },
   {
    "duration": 975,
    "start_time": "2022-01-29T13:34:32.110Z"
   },
   {
    "duration": 518,
    "start_time": "2022-01-29T13:35:16.220Z"
   },
   {
    "duration": 454,
    "start_time": "2022-01-29T13:35:36.084Z"
   },
   {
    "duration": 524,
    "start_time": "2022-01-29T13:36:04.970Z"
   },
   {
    "duration": 546,
    "start_time": "2022-01-29T13:36:50.755Z"
   },
   {
    "duration": 501,
    "start_time": "2022-01-29T13:36:58.191Z"
   },
   {
    "duration": 549,
    "start_time": "2022-01-29T13:37:26.888Z"
   },
   {
    "duration": 18,
    "start_time": "2022-01-29T13:37:54.398Z"
   },
   {
    "duration": 12,
    "start_time": "2022-01-29T13:37:55.893Z"
   },
   {
    "duration": 393,
    "start_time": "2022-01-29T13:38:42.058Z"
   },
   {
    "duration": 592,
    "start_time": "2022-01-29T13:38:52.265Z"
   },
   {
    "duration": 510,
    "start_time": "2022-01-29T13:39:00.050Z"
   },
   {
    "duration": 572,
    "start_time": "2022-01-29T13:39:08.941Z"
   },
   {
    "duration": 842,
    "start_time": "2022-01-29T13:39:44.458Z"
   },
   {
    "duration": 603,
    "start_time": "2022-01-29T13:40:05.189Z"
   },
   {
    "duration": 673,
    "start_time": "2022-01-29T13:40:18.340Z"
   },
   {
    "duration": 594,
    "start_time": "2022-01-29T13:40:25.996Z"
   },
   {
    "duration": 602,
    "start_time": "2022-01-29T13:40:36.012Z"
   },
   {
    "duration": 549,
    "start_time": "2022-01-29T13:41:16.519Z"
   },
   {
    "duration": 748,
    "start_time": "2022-01-29T13:42:07.092Z"
   },
   {
    "duration": 571,
    "start_time": "2022-01-29T13:42:08.201Z"
   },
   {
    "duration": 566,
    "start_time": "2022-01-29T13:42:24.099Z"
   },
   {
    "duration": 539,
    "start_time": "2022-01-29T13:43:20.137Z"
   },
   {
    "duration": 729,
    "start_time": "2022-01-29T13:45:01.167Z"
   },
   {
    "duration": 556,
    "start_time": "2022-01-29T13:45:01.899Z"
   },
   {
    "duration": 499,
    "start_time": "2022-01-29T13:45:15.703Z"
   },
   {
    "duration": 503,
    "start_time": "2022-01-29T13:45:34.292Z"
   },
   {
    "duration": 536,
    "start_time": "2022-01-29T13:46:01.164Z"
   },
   {
    "duration": 1428,
    "start_time": "2022-01-29T13:46:39.605Z"
   },
   {
    "duration": 889,
    "start_time": "2022-01-29T13:46:41.036Z"
   },
   {
    "duration": 27,
    "start_time": "2022-01-29T13:46:41.928Z"
   },
   {
    "duration": 23,
    "start_time": "2022-01-29T13:46:41.958Z"
   },
   {
    "duration": 19,
    "start_time": "2022-01-29T13:46:41.983Z"
   },
   {
    "duration": 44,
    "start_time": "2022-01-29T13:46:42.005Z"
   },
   {
    "duration": 11,
    "start_time": "2022-01-29T13:46:42.053Z"
   },
   {
    "duration": 310,
    "start_time": "2022-01-29T13:46:42.069Z"
   },
   {
    "duration": 154,
    "start_time": "2022-01-29T13:46:42.383Z"
   },
   {
    "duration": 27,
    "start_time": "2022-01-29T13:46:42.539Z"
   },
   {
    "duration": 169,
    "start_time": "2022-01-29T13:46:42.568Z"
   },
   {
    "duration": 24,
    "start_time": "2022-01-29T13:46:42.740Z"
   },
   {
    "duration": 118,
    "start_time": "2022-01-29T13:46:42.766Z"
   },
   {
    "duration": 5,
    "start_time": "2022-01-29T13:46:42.887Z"
   },
   {
    "duration": 17,
    "start_time": "2022-01-29T13:46:42.895Z"
   },
   {
    "duration": 209,
    "start_time": "2022-01-29T13:46:42.915Z"
   },
   {
    "duration": 29,
    "start_time": "2022-01-29T13:46:43.127Z"
   },
   {
    "duration": 6,
    "start_time": "2022-01-29T13:46:43.158Z"
   },
   {
    "duration": 22,
    "start_time": "2022-01-29T13:46:43.166Z"
   },
   {
    "duration": 61,
    "start_time": "2022-01-29T13:46:43.191Z"
   },
   {
    "duration": 14,
    "start_time": "2022-01-29T13:46:43.255Z"
   },
   {
    "duration": 11,
    "start_time": "2022-01-29T13:46:43.272Z"
   },
   {
    "duration": 23,
    "start_time": "2022-01-29T13:46:43.289Z"
   },
   {
    "duration": 39,
    "start_time": "2022-01-29T13:46:43.316Z"
   },
   {
    "duration": 7,
    "start_time": "2022-01-29T13:46:43.357Z"
   },
   {
    "duration": 11,
    "start_time": "2022-01-29T13:46:43.366Z"
   },
   {
    "duration": 5,
    "start_time": "2022-01-29T13:46:43.380Z"
   },
   {
    "duration": 10,
    "start_time": "2022-01-29T13:46:43.388Z"
   },
   {
    "duration": 7,
    "start_time": "2022-01-29T13:46:43.400Z"
   },
   {
    "duration": 47,
    "start_time": "2022-01-29T13:46:43.409Z"
   },
   {
    "duration": 687,
    "start_time": "2022-01-29T13:46:43.458Z"
   },
   {
    "duration": 9,
    "start_time": "2022-01-29T13:46:44.149Z"
   },
   {
    "duration": 11,
    "start_time": "2022-01-29T13:46:44.160Z"
   },
   {
    "duration": 6,
    "start_time": "2022-01-29T13:46:44.174Z"
   },
   {
    "duration": 13,
    "start_time": "2022-01-29T13:46:44.182Z"
   },
   {
    "duration": 9,
    "start_time": "2022-01-29T13:46:44.197Z"
   },
   {
    "duration": 8,
    "start_time": "2022-01-29T13:46:44.249Z"
   },
   {
    "duration": 8,
    "start_time": "2022-01-29T13:46:44.260Z"
   },
   {
    "duration": 10,
    "start_time": "2022-01-29T13:46:44.270Z"
   },
   {
    "duration": 586,
    "start_time": "2022-01-29T13:46:44.282Z"
   },
   {
    "duration": 1132,
    "start_time": "2022-01-29T13:46:44.870Z"
   },
   {
    "duration": -2584,
    "start_time": "2022-01-29T13:46:48.589Z"
   },
   {
    "duration": -2590,
    "start_time": "2022-01-29T13:46:48.596Z"
   },
   {
    "duration": -2597,
    "start_time": "2022-01-29T13:46:48.605Z"
   },
   {
    "duration": -2604,
    "start_time": "2022-01-29T13:46:48.613Z"
   },
   {
    "duration": -2612,
    "start_time": "2022-01-29T13:46:48.622Z"
   },
   {
    "duration": -2615,
    "start_time": "2022-01-29T13:46:48.627Z"
   },
   {
    "duration": -2619,
    "start_time": "2022-01-29T13:46:48.633Z"
   },
   {
    "duration": -2628,
    "start_time": "2022-01-29T13:46:48.643Z"
   },
   {
    "duration": -2632,
    "start_time": "2022-01-29T13:46:48.649Z"
   },
   {
    "duration": -2638,
    "start_time": "2022-01-29T13:46:48.656Z"
   },
   {
    "duration": -2642,
    "start_time": "2022-01-29T13:46:48.662Z"
   },
   {
    "duration": -2649,
    "start_time": "2022-01-29T13:46:48.670Z"
   },
   {
    "duration": -2652,
    "start_time": "2022-01-29T13:46:48.675Z"
   },
   {
    "duration": -2658,
    "start_time": "2022-01-29T13:46:48.682Z"
   },
   {
    "duration": 1454,
    "start_time": "2022-01-29T13:47:21.102Z"
   },
   {
    "duration": 976,
    "start_time": "2022-01-29T13:47:22.559Z"
   },
   {
    "duration": 30,
    "start_time": "2022-01-29T13:47:23.539Z"
   },
   {
    "duration": 28,
    "start_time": "2022-01-29T13:47:23.573Z"
   },
   {
    "duration": 36,
    "start_time": "2022-01-29T13:47:23.604Z"
   },
   {
    "duration": 10,
    "start_time": "2022-01-29T13:47:23.650Z"
   },
   {
    "duration": 23,
    "start_time": "2022-01-29T13:47:23.663Z"
   },
   {
    "duration": 295,
    "start_time": "2022-01-29T13:47:23.692Z"
   },
   {
    "duration": 145,
    "start_time": "2022-01-29T13:47:23.990Z"
   },
   {
    "duration": 28,
    "start_time": "2022-01-29T13:47:24.138Z"
   },
   {
    "duration": 182,
    "start_time": "2022-01-29T13:47:24.169Z"
   },
   {
    "duration": 21,
    "start_time": "2022-01-29T13:47:24.354Z"
   },
   {
    "duration": 127,
    "start_time": "2022-01-29T13:47:24.377Z"
   },
   {
    "duration": 5,
    "start_time": "2022-01-29T13:47:24.506Z"
   },
   {
    "duration": 41,
    "start_time": "2022-01-29T13:47:24.514Z"
   },
   {
    "duration": 294,
    "start_time": "2022-01-29T13:47:24.558Z"
   },
   {
    "duration": 26,
    "start_time": "2022-01-29T13:47:24.855Z"
   },
   {
    "duration": 7,
    "start_time": "2022-01-29T13:47:24.884Z"
   },
   {
    "duration": 29,
    "start_time": "2022-01-29T13:47:24.894Z"
   },
   {
    "duration": 29,
    "start_time": "2022-01-29T13:47:24.926Z"
   },
   {
    "duration": 20,
    "start_time": "2022-01-29T13:47:24.958Z"
   },
   {
    "duration": 20,
    "start_time": "2022-01-29T13:47:24.981Z"
   },
   {
    "duration": 57,
    "start_time": "2022-01-29T13:47:25.006Z"
   },
   {
    "duration": 11,
    "start_time": "2022-01-29T13:47:25.066Z"
   },
   {
    "duration": 17,
    "start_time": "2022-01-29T13:47:25.079Z"
   },
   {
    "duration": 33,
    "start_time": "2022-01-29T13:47:25.099Z"
   },
   {
    "duration": 23,
    "start_time": "2022-01-29T13:47:25.134Z"
   },
   {
    "duration": 33,
    "start_time": "2022-01-29T13:47:25.160Z"
   },
   {
    "duration": 23,
    "start_time": "2022-01-29T13:47:25.195Z"
   },
   {
    "duration": 28,
    "start_time": "2022-01-29T13:47:25.221Z"
   },
   {
    "duration": 1025,
    "start_time": "2022-01-29T13:47:25.251Z"
   },
   {
    "duration": 7,
    "start_time": "2022-01-29T13:47:26.279Z"
   },
   {
    "duration": 15,
    "start_time": "2022-01-29T13:47:26.288Z"
   },
   {
    "duration": 49,
    "start_time": "2022-01-29T13:47:26.305Z"
   },
   {
    "duration": 14,
    "start_time": "2022-01-29T13:47:26.356Z"
   },
   {
    "duration": 9,
    "start_time": "2022-01-29T13:47:26.372Z"
   },
   {
    "duration": 12,
    "start_time": "2022-01-29T13:47:26.383Z"
   },
   {
    "duration": 7,
    "start_time": "2022-01-29T13:47:26.398Z"
   },
   {
    "duration": 12,
    "start_time": "2022-01-29T13:47:26.407Z"
   },
   {
    "duration": 751,
    "start_time": "2022-01-29T13:47:26.421Z"
   },
   {
    "duration": 705,
    "start_time": "2022-01-29T13:47:27.175Z"
   },
   {
    "duration": 591,
    "start_time": "2022-01-29T13:47:27.883Z"
   },
   {
    "duration": 541,
    "start_time": "2022-01-29T13:47:28.476Z"
   },
   {
    "duration": 6,
    "start_time": "2022-01-29T13:47:29.020Z"
   },
   {
    "duration": 20,
    "start_time": "2022-01-29T13:47:29.028Z"
   },
   {
    "duration": 19,
    "start_time": "2022-01-29T13:47:29.051Z"
   },
   {
    "duration": 5,
    "start_time": "2022-01-29T13:47:29.072Z"
   },
   {
    "duration": 9,
    "start_time": "2022-01-29T13:47:29.079Z"
   },
   {
    "duration": 10,
    "start_time": "2022-01-29T13:47:29.091Z"
   },
   {
    "duration": 9,
    "start_time": "2022-01-29T13:47:29.104Z"
   },
   {
    "duration": 38,
    "start_time": "2022-01-29T13:47:29.115Z"
   },
   {
    "duration": 8,
    "start_time": "2022-01-29T13:47:29.155Z"
   },
   {
    "duration": 6,
    "start_time": "2022-01-29T13:47:29.165Z"
   },
   {
    "duration": 531,
    "start_time": "2022-01-29T17:33:17.764Z"
   },
   {
    "duration": 520,
    "start_time": "2022-01-29T17:38:27.920Z"
   },
   {
    "duration": 646,
    "start_time": "2022-01-29T17:39:33.427Z"
   },
   {
    "duration": 524,
    "start_time": "2022-01-29T17:40:29.228Z"
   },
   {
    "duration": 1031,
    "start_time": "2022-01-29T17:41:27.775Z"
   },
   {
    "duration": 517,
    "start_time": "2022-01-29T17:41:39.232Z"
   },
   {
    "duration": 525,
    "start_time": "2022-01-29T17:43:28.449Z"
   },
   {
    "duration": 644,
    "start_time": "2022-01-29T17:44:23.614Z"
   },
   {
    "duration": 520,
    "start_time": "2022-01-29T17:44:44.302Z"
   },
   {
    "duration": 514,
    "start_time": "2022-01-29T17:55:34.490Z"
   },
   {
    "duration": 525,
    "start_time": "2022-01-29T17:56:07.206Z"
   },
   {
    "duration": 4,
    "start_time": "2022-01-29T18:01:09.921Z"
   },
   {
    "duration": 268,
    "start_time": "2022-01-29T18:01:20.901Z"
   },
   {
    "duration": 280,
    "start_time": "2022-01-29T18:02:01.003Z"
   },
   {
    "duration": 8,
    "start_time": "2022-01-29T18:02:07.843Z"
   },
   {
    "duration": 9,
    "start_time": "2022-01-29T18:02:28.877Z"
   },
   {
    "duration": 11,
    "start_time": "2022-01-29T18:02:38.515Z"
   },
   {
    "duration": 11,
    "start_time": "2022-01-29T18:02:46.387Z"
   },
   {
    "duration": 11,
    "start_time": "2022-01-29T18:02:52.513Z"
   },
   {
    "duration": 11,
    "start_time": "2022-01-29T18:03:01.444Z"
   },
   {
    "duration": 11,
    "start_time": "2022-01-29T18:03:14.303Z"
   },
   {
    "duration": 12,
    "start_time": "2022-01-29T18:03:19.482Z"
   },
   {
    "duration": 11,
    "start_time": "2022-01-29T18:04:52.810Z"
   },
   {
    "duration": 10,
    "start_time": "2022-01-29T18:04:57.255Z"
   },
   {
    "duration": 10,
    "start_time": "2022-01-29T18:05:02.807Z"
   },
   {
    "duration": 11,
    "start_time": "2022-01-29T18:05:10.055Z"
   },
   {
    "duration": 11,
    "start_time": "2022-01-29T18:05:22.393Z"
   },
   {
    "duration": 7,
    "start_time": "2022-01-29T18:07:13.786Z"
   },
   {
    "duration": 8,
    "start_time": "2022-01-29T18:07:21.056Z"
   },
   {
    "duration": 12,
    "start_time": "2022-01-29T18:07:51.301Z"
   },
   {
    "duration": 8,
    "start_time": "2022-01-29T18:07:55.918Z"
   },
   {
    "duration": 268,
    "start_time": "2022-01-29T18:08:45.288Z"
   },
   {
    "duration": 279,
    "start_time": "2022-01-29T18:08:51.630Z"
   },
   {
    "duration": 7,
    "start_time": "2022-01-29T18:09:13.304Z"
   },
   {
    "duration": 11,
    "start_time": "2022-01-29T18:09:39.967Z"
   },
   {
    "duration": 14,
    "start_time": "2022-01-29T18:10:00.813Z"
   },
   {
    "duration": 10,
    "start_time": "2022-01-29T18:10:24.083Z"
   },
   {
    "duration": 8,
    "start_time": "2022-01-29T18:10:25.552Z"
   },
   {
    "duration": 15,
    "start_time": "2022-01-29T18:10:55.484Z"
   },
   {
    "duration": 17,
    "start_time": "2022-01-29T18:11:06.620Z"
   },
   {
    "duration": 17,
    "start_time": "2022-01-29T18:11:16.763Z"
   },
   {
    "duration": 13,
    "start_time": "2022-01-29T18:12:26.361Z"
   },
   {
    "duration": 14,
    "start_time": "2022-01-29T18:12:40.660Z"
   },
   {
    "duration": 140,
    "start_time": "2022-01-29T18:12:53.913Z"
   },
   {
    "duration": 91,
    "start_time": "2022-01-29T18:12:59.051Z"
   },
   {
    "duration": 191,
    "start_time": "2022-01-29T18:13:21.105Z"
   },
   {
    "duration": 103,
    "start_time": "2022-01-29T18:13:25.808Z"
   },
   {
    "duration": 12,
    "start_time": "2022-01-29T18:13:29.325Z"
   },
   {
    "duration": 93,
    "start_time": "2022-01-29T18:13:34.640Z"
   },
   {
    "duration": 16,
    "start_time": "2022-01-29T18:13:38.075Z"
   },
   {
    "duration": 17,
    "start_time": "2022-01-29T18:14:03.160Z"
   },
   {
    "duration": 17,
    "start_time": "2022-01-29T18:14:13.096Z"
   },
   {
    "duration": 89,
    "start_time": "2022-01-29T18:14:17.667Z"
   },
   {
    "duration": 14,
    "start_time": "2022-01-29T18:14:50.955Z"
   },
   {
    "duration": 14,
    "start_time": "2022-01-29T18:14:58.260Z"
   },
   {
    "duration": 14,
    "start_time": "2022-01-29T18:15:37.751Z"
   },
   {
    "duration": 1594,
    "start_time": "2022-01-29T18:16:02.716Z"
   },
   {
    "duration": 1108,
    "start_time": "2022-01-29T18:16:04.312Z"
   },
   {
    "duration": 27,
    "start_time": "2022-01-29T18:16:05.424Z"
   },
   {
    "duration": 23,
    "start_time": "2022-01-29T18:16:05.454Z"
   },
   {
    "duration": 18,
    "start_time": "2022-01-29T18:16:05.480Z"
   },
   {
    "duration": 10,
    "start_time": "2022-01-29T18:16:05.501Z"
   },
   {
    "duration": 42,
    "start_time": "2022-01-29T18:16:05.513Z"
   },
   {
    "duration": 281,
    "start_time": "2022-01-29T18:16:05.558Z"
   },
   {
    "duration": 143,
    "start_time": "2022-01-29T18:16:05.842Z"
   },
   {
    "duration": 61,
    "start_time": "2022-01-29T18:16:05.987Z"
   },
   {
    "duration": 309,
    "start_time": "2022-01-29T18:16:06.051Z"
   },
   {
    "duration": 23,
    "start_time": "2022-01-29T18:16:06.363Z"
   },
   {
    "duration": 259,
    "start_time": "2022-01-29T18:16:06.389Z"
   },
   {
    "duration": 6,
    "start_time": "2022-01-29T18:16:06.651Z"
   },
   {
    "duration": 15,
    "start_time": "2022-01-29T18:16:06.659Z"
   },
   {
    "duration": 272,
    "start_time": "2022-01-29T18:16:06.676Z"
   },
   {
    "duration": 20,
    "start_time": "2022-01-29T18:16:06.951Z"
   },
   {
    "duration": 6,
    "start_time": "2022-01-29T18:16:06.973Z"
   },
   {
    "duration": 18,
    "start_time": "2022-01-29T18:16:06.981Z"
   },
   {
    "duration": 57,
    "start_time": "2022-01-29T18:16:07.002Z"
   },
   {
    "duration": 15,
    "start_time": "2022-01-29T18:16:07.062Z"
   },
   {
    "duration": 12,
    "start_time": "2022-01-29T18:16:07.080Z"
   },
   {
    "duration": 61,
    "start_time": "2022-01-29T18:16:07.098Z"
   },
   {
    "duration": 12,
    "start_time": "2022-01-29T18:16:07.162Z"
   },
   {
    "duration": 10,
    "start_time": "2022-01-29T18:16:07.176Z"
   },
   {
    "duration": 23,
    "start_time": "2022-01-29T18:16:07.188Z"
   },
   {
    "duration": 7,
    "start_time": "2022-01-29T18:16:07.214Z"
   },
   {
    "duration": 25,
    "start_time": "2022-01-29T18:16:07.224Z"
   },
   {
    "duration": 6,
    "start_time": "2022-01-29T18:16:07.252Z"
   },
   {
    "duration": 11,
    "start_time": "2022-01-29T18:16:07.260Z"
   },
   {
    "duration": 692,
    "start_time": "2022-01-29T18:16:07.274Z"
   },
   {
    "duration": 7,
    "start_time": "2022-01-29T18:16:07.968Z"
   },
   {
    "duration": 13,
    "start_time": "2022-01-29T18:16:07.978Z"
   },
   {
    "duration": 6,
    "start_time": "2022-01-29T18:16:07.993Z"
   },
   {
    "duration": 49,
    "start_time": "2022-01-29T18:16:08.001Z"
   },
   {
    "duration": 10,
    "start_time": "2022-01-29T18:16:08.052Z"
   },
   {
    "duration": 8,
    "start_time": "2022-01-29T18:16:08.065Z"
   },
   {
    "duration": 9,
    "start_time": "2022-01-29T18:16:08.076Z"
   },
   {
    "duration": 25,
    "start_time": "2022-01-29T18:16:08.088Z"
   },
   {
    "duration": 943,
    "start_time": "2022-01-29T18:16:08.116Z"
   },
   {
    "duration": -23,
    "start_time": "2022-01-29T18:16:09.085Z"
   },
   {
    "duration": -30,
    "start_time": "2022-01-29T18:16:09.093Z"
   },
   {
    "duration": -36,
    "start_time": "2022-01-29T18:16:09.100Z"
   },
   {
    "duration": -40,
    "start_time": "2022-01-29T18:16:09.106Z"
   },
   {
    "duration": -48,
    "start_time": "2022-01-29T18:16:09.115Z"
   },
   {
    "duration": -55,
    "start_time": "2022-01-29T18:16:09.123Z"
   },
   {
    "duration": -104,
    "start_time": "2022-01-29T18:16:09.174Z"
   },
   {
    "duration": -123,
    "start_time": "2022-01-29T18:16:09.194Z"
   },
   {
    "duration": -132,
    "start_time": "2022-01-29T18:16:09.204Z"
   },
   {
    "duration": -138,
    "start_time": "2022-01-29T18:16:09.212Z"
   },
   {
    "duration": -149,
    "start_time": "2022-01-29T18:16:09.224Z"
   },
   {
    "duration": -156,
    "start_time": "2022-01-29T18:16:09.232Z"
   },
   {
    "duration": -164,
    "start_time": "2022-01-29T18:16:09.241Z"
   },
   {
    "duration": -169,
    "start_time": "2022-01-29T18:16:09.248Z"
   },
   {
    "duration": 519,
    "start_time": "2022-01-29T18:16:53.154Z"
   },
   {
    "duration": 14,
    "start_time": "2022-01-29T18:16:58.412Z"
   },
   {
    "duration": 19,
    "start_time": "2022-01-29T18:17:12.065Z"
   },
   {
    "duration": 130,
    "start_time": "2022-01-29T18:17:26.160Z"
   },
   {
    "duration": 17,
    "start_time": "2022-01-29T18:17:29.199Z"
   },
   {
    "duration": 281,
    "start_time": "2022-01-29T18:17:35.367Z"
   },
   {
    "duration": 5618,
    "start_time": "2022-01-29T18:18:01.786Z"
   },
   {
    "duration": 10,
    "start_time": "2022-01-29T18:18:21.871Z"
   },
   {
    "duration": 5288,
    "start_time": "2022-01-29T18:18:29.658Z"
   },
   {
    "duration": 16,
    "start_time": "2022-01-29T18:18:40.946Z"
   },
   {
    "duration": 16,
    "start_time": "2022-01-29T18:18:59.483Z"
   },
   {
    "duration": 15,
    "start_time": "2022-01-29T18:19:11.629Z"
   },
   {
    "duration": 13,
    "start_time": "2022-01-29T18:20:09.877Z"
   },
   {
    "duration": 12,
    "start_time": "2022-01-29T18:20:31.276Z"
   },
   {
    "duration": 12,
    "start_time": "2022-01-29T18:21:45.127Z"
   },
   {
    "duration": 11,
    "start_time": "2022-01-29T18:21:59.248Z"
   },
   {
    "duration": 4,
    "start_time": "2022-01-29T18:22:16.590Z"
   },
   {
    "duration": 12,
    "start_time": "2022-01-29T18:22:37.171Z"
   },
   {
    "duration": 12,
    "start_time": "2022-01-29T18:22:43.389Z"
   },
   {
    "duration": 12,
    "start_time": "2022-01-29T18:22:49.953Z"
   },
   {
    "duration": 532,
    "start_time": "2022-01-29T18:26:18.958Z"
   },
   {
    "duration": 286,
    "start_time": "2022-01-29T18:40:59.841Z"
   },
   {
    "duration": 1462,
    "start_time": "2022-01-29T18:41:39.765Z"
   },
   {
    "duration": 1080,
    "start_time": "2022-01-29T18:41:41.230Z"
   },
   {
    "duration": 29,
    "start_time": "2022-01-29T18:41:42.313Z"
   },
   {
    "duration": 25,
    "start_time": "2022-01-29T18:41:42.346Z"
   },
   {
    "duration": 20,
    "start_time": "2022-01-29T18:41:42.375Z"
   },
   {
    "duration": 9,
    "start_time": "2022-01-29T18:41:42.397Z"
   },
   {
    "duration": 48,
    "start_time": "2022-01-29T18:41:42.408Z"
   },
   {
    "duration": 293,
    "start_time": "2022-01-29T18:41:42.460Z"
   },
   {
    "duration": 152,
    "start_time": "2022-01-29T18:41:42.757Z"
   },
   {
    "duration": 38,
    "start_time": "2022-01-29T18:41:42.912Z"
   },
   {
    "duration": 179,
    "start_time": "2022-01-29T18:41:42.953Z"
   },
   {
    "duration": 43,
    "start_time": "2022-01-29T18:41:43.135Z"
   },
   {
    "duration": 132,
    "start_time": "2022-01-29T18:41:43.180Z"
   },
   {
    "duration": 7,
    "start_time": "2022-01-29T18:41:43.315Z"
   },
   {
    "duration": 33,
    "start_time": "2022-01-29T18:41:43.326Z"
   },
   {
    "duration": 220,
    "start_time": "2022-01-29T18:41:43.361Z"
   },
   {
    "duration": 20,
    "start_time": "2022-01-29T18:41:43.584Z"
   },
   {
    "duration": 8,
    "start_time": "2022-01-29T18:41:43.607Z"
   },
   {
    "duration": 55,
    "start_time": "2022-01-29T18:41:43.618Z"
   },
   {
    "duration": 32,
    "start_time": "2022-01-29T18:41:43.676Z"
   },
   {
    "duration": 42,
    "start_time": "2022-01-29T18:41:43.712Z"
   },
   {
    "duration": 13,
    "start_time": "2022-01-29T18:41:43.758Z"
   },
   {
    "duration": 35,
    "start_time": "2022-01-29T18:41:43.780Z"
   },
   {
    "duration": 39,
    "start_time": "2022-01-29T18:41:43.820Z"
   },
   {
    "duration": 25,
    "start_time": "2022-01-29T18:41:43.862Z"
   },
   {
    "duration": 22,
    "start_time": "2022-01-29T18:41:43.889Z"
   },
   {
    "duration": 7,
    "start_time": "2022-01-29T18:41:43.914Z"
   },
   {
    "duration": 9,
    "start_time": "2022-01-29T18:41:43.924Z"
   },
   {
    "duration": 15,
    "start_time": "2022-01-29T18:41:43.935Z"
   },
   {
    "duration": 10,
    "start_time": "2022-01-29T18:41:43.953Z"
   },
   {
    "duration": 823,
    "start_time": "2022-01-29T18:41:43.965Z"
   },
   {
    "duration": 6,
    "start_time": "2022-01-29T18:41:44.791Z"
   },
   {
    "duration": 30,
    "start_time": "2022-01-29T18:41:44.799Z"
   },
   {
    "duration": 19,
    "start_time": "2022-01-29T18:41:44.833Z"
   },
   {
    "duration": 30,
    "start_time": "2022-01-29T18:41:44.854Z"
   },
   {
    "duration": 12,
    "start_time": "2022-01-29T18:41:44.887Z"
   },
   {
    "duration": 20,
    "start_time": "2022-01-29T18:41:44.902Z"
   },
   {
    "duration": 26,
    "start_time": "2022-01-29T18:41:44.925Z"
   },
   {
    "duration": 13,
    "start_time": "2022-01-29T18:41:44.954Z"
   },
   {
    "duration": 563,
    "start_time": "2022-01-29T18:41:44.969Z"
   },
   {
    "duration": 614,
    "start_time": "2022-01-29T18:41:45.534Z"
   },
   {
    "duration": 620,
    "start_time": "2022-01-29T18:41:46.151Z"
   },
   {
    "duration": 562,
    "start_time": "2022-01-29T18:41:46.775Z"
   },
   {
    "duration": 10,
    "start_time": "2022-01-29T18:41:47.340Z"
   },
   {
    "duration": 13,
    "start_time": "2022-01-29T18:41:47.353Z"
   },
   {
    "duration": 19,
    "start_time": "2022-01-29T18:41:47.369Z"
   },
   {
    "duration": 10,
    "start_time": "2022-01-29T18:41:47.391Z"
   },
   {
    "duration": 12,
    "start_time": "2022-01-29T18:41:47.403Z"
   },
   {
    "duration": 18,
    "start_time": "2022-01-29T18:41:47.417Z"
   },
   {
    "duration": 13,
    "start_time": "2022-01-29T18:41:47.450Z"
   },
   {
    "duration": 6,
    "start_time": "2022-01-29T18:41:47.466Z"
   },
   {
    "duration": 10,
    "start_time": "2022-01-29T18:41:47.474Z"
   },
   {
    "duration": 13,
    "start_time": "2022-01-29T18:41:47.486Z"
   },
   {
    "duration": 52,
    "start_time": "2022-01-29T18:41:47.501Z"
   },
   {
    "duration": 5,
    "start_time": "2022-01-29T18:42:13.083Z"
   },
   {
    "duration": 6,
    "start_time": "2022-01-29T18:42:51.411Z"
   },
   {
    "duration": 9,
    "start_time": "2022-01-29T18:43:06.328Z"
   },
   {
    "duration": 4442,
    "start_time": "2022-01-29T18:46:21.883Z"
   },
   {
    "duration": -37,
    "start_time": "2022-01-29T18:46:26.366Z"
   },
   {
    "duration": 1646,
    "start_time": "2022-01-29T18:46:30.811Z"
   },
   {
    "duration": 1195,
    "start_time": "2022-01-29T18:46:32.460Z"
   },
   {
    "duration": 27,
    "start_time": "2022-01-29T18:46:33.659Z"
   },
   {
    "duration": 24,
    "start_time": "2022-01-29T18:46:33.690Z"
   },
   {
    "duration": 46,
    "start_time": "2022-01-29T18:46:33.717Z"
   },
   {
    "duration": 13,
    "start_time": "2022-01-29T18:46:33.766Z"
   },
   {
    "duration": 9,
    "start_time": "2022-01-29T18:46:33.782Z"
   },
   {
    "duration": 331,
    "start_time": "2022-01-29T18:46:33.795Z"
   },
   {
    "duration": 154,
    "start_time": "2022-01-29T18:46:34.130Z"
   },
   {
    "duration": 26,
    "start_time": "2022-01-29T18:46:34.287Z"
   },
   {
    "duration": 180,
    "start_time": "2022-01-29T18:46:34.315Z"
   },
   {
    "duration": 24,
    "start_time": "2022-01-29T18:46:34.497Z"
   },
   {
    "duration": 140,
    "start_time": "2022-01-29T18:46:34.524Z"
   },
   {
    "duration": 7,
    "start_time": "2022-01-29T18:46:34.666Z"
   },
   {
    "duration": 18,
    "start_time": "2022-01-29T18:46:34.676Z"
   },
   {
    "duration": 223,
    "start_time": "2022-01-29T18:46:34.697Z"
   },
   {
    "duration": 40,
    "start_time": "2022-01-29T18:46:34.923Z"
   },
   {
    "duration": 10,
    "start_time": "2022-01-29T18:46:34.966Z"
   },
   {
    "duration": 23,
    "start_time": "2022-01-29T18:46:34.979Z"
   },
   {
    "duration": 65,
    "start_time": "2022-01-29T18:46:35.005Z"
   },
   {
    "duration": 18,
    "start_time": "2022-01-29T18:46:35.073Z"
   },
   {
    "duration": 27,
    "start_time": "2022-01-29T18:46:35.095Z"
   },
   {
    "duration": 36,
    "start_time": "2022-01-29T18:46:35.131Z"
   },
   {
    "duration": 11,
    "start_time": "2022-01-29T18:46:35.171Z"
   },
   {
    "duration": 13,
    "start_time": "2022-01-29T18:46:35.184Z"
   },
   {
    "duration": 15,
    "start_time": "2022-01-29T18:46:35.200Z"
   },
   {
    "duration": 35,
    "start_time": "2022-01-29T18:46:35.217Z"
   },
   {
    "duration": 11,
    "start_time": "2022-01-29T18:46:35.255Z"
   },
   {
    "duration": 10,
    "start_time": "2022-01-29T18:46:35.268Z"
   },
   {
    "duration": 11,
    "start_time": "2022-01-29T18:46:35.280Z"
   },
   {
    "duration": 750,
    "start_time": "2022-01-29T18:46:35.293Z"
   },
   {
    "duration": 7,
    "start_time": "2022-01-29T18:46:36.048Z"
   },
   {
    "duration": 14,
    "start_time": "2022-01-29T18:46:36.058Z"
   },
   {
    "duration": 7,
    "start_time": "2022-01-29T18:46:36.075Z"
   },
   {
    "duration": 14,
    "start_time": "2022-01-29T18:46:36.085Z"
   },
   {
    "duration": 50,
    "start_time": "2022-01-29T18:46:36.102Z"
   },
   {
    "duration": 8,
    "start_time": "2022-01-29T18:46:36.155Z"
   },
   {
    "duration": 8,
    "start_time": "2022-01-29T18:46:36.166Z"
   },
   {
    "duration": 15,
    "start_time": "2022-01-29T18:46:36.177Z"
   },
   {
    "duration": 875,
    "start_time": "2022-01-29T18:46:36.195Z"
   },
   {
    "duration": 735,
    "start_time": "2022-01-29T18:46:37.073Z"
   },
   {
    "duration": 588,
    "start_time": "2022-01-29T18:46:37.810Z"
   },
   {
    "duration": 560,
    "start_time": "2022-01-29T18:46:38.401Z"
   },
   {
    "duration": 6,
    "start_time": "2022-01-29T18:46:38.963Z"
   },
   {
    "duration": 10,
    "start_time": "2022-01-29T18:46:38.972Z"
   },
   {
    "duration": 17,
    "start_time": "2022-01-29T18:46:38.984Z"
   },
   {
    "duration": 6,
    "start_time": "2022-01-29T18:46:39.005Z"
   },
   {
    "duration": 6,
    "start_time": "2022-01-29T18:46:39.049Z"
   },
   {
    "duration": 14,
    "start_time": "2022-01-29T18:46:39.058Z"
   },
   {
    "duration": 11,
    "start_time": "2022-01-29T18:46:39.075Z"
   },
   {
    "duration": 12,
    "start_time": "2022-01-29T18:46:39.089Z"
   },
   {
    "duration": 14,
    "start_time": "2022-01-29T18:46:39.103Z"
   },
   {
    "duration": 32,
    "start_time": "2022-01-29T18:46:39.119Z"
   },
   {
    "duration": 4461,
    "start_time": "2022-01-29T18:46:39.154Z"
   },
   {
    "duration": -11,
    "start_time": "2022-01-29T18:46:43.630Z"
   },
   {
    "duration": -35,
    "start_time": "2022-01-29T18:46:43.655Z"
   },
   {
    "duration": -42,
    "start_time": "2022-01-29T18:46:43.664Z"
   },
   {
    "duration": 8,
    "start_time": "2022-01-29T18:47:09.270Z"
   },
   {
    "duration": 7,
    "start_time": "2022-01-29T18:47:10.678Z"
   },
   {
    "duration": 5,
    "start_time": "2022-01-29T18:47:12.641Z"
   },
   {
    "duration": 6,
    "start_time": "2022-01-29T18:47:13.507Z"
   },
   {
    "duration": 6,
    "start_time": "2022-01-29T18:49:15.308Z"
   },
   {
    "duration": 8,
    "start_time": "2022-01-29T18:50:40.908Z"
   },
   {
    "duration": 7,
    "start_time": "2022-01-29T18:50:55.357Z"
   },
   {
    "duration": 5,
    "start_time": "2022-01-29T18:51:00.575Z"
   },
   {
    "duration": 6,
    "start_time": "2022-01-29T18:51:20.633Z"
   },
   {
    "duration": 5,
    "start_time": "2022-01-29T18:51:44.114Z"
   },
   {
    "duration": 6,
    "start_time": "2022-01-29T18:53:02.776Z"
   },
   {
    "duration": 7,
    "start_time": "2022-01-29T18:53:22.778Z"
   },
   {
    "duration": 6,
    "start_time": "2022-01-29T18:54:05.009Z"
   },
   {
    "duration": 6,
    "start_time": "2022-01-29T18:54:18.382Z"
   },
   {
    "duration": 8,
    "start_time": "2022-01-29T18:55:40.365Z"
   },
   {
    "duration": 8,
    "start_time": "2022-01-29T18:56:19.499Z"
   },
   {
    "duration": 9,
    "start_time": "2022-01-29T18:56:34.628Z"
   },
   {
    "duration": 10,
    "start_time": "2022-01-29T18:57:54.975Z"
   },
   {
    "duration": 9,
    "start_time": "2022-01-29T19:05:16.180Z"
   },
   {
    "duration": 784,
    "start_time": "2022-01-29T19:13:12.093Z"
   },
   {
    "duration": 634,
    "start_time": "2022-01-29T19:13:15.542Z"
   },
   {
    "duration": 515,
    "start_time": "2022-01-29T19:13:19.408Z"
   },
   {
    "duration": 32,
    "start_time": "2022-01-29T19:34:16.505Z"
   },
   {
    "duration": 571,
    "start_time": "2022-01-29T19:35:34.010Z"
   },
   {
    "duration": 584,
    "start_time": "2022-01-29T19:38:19.533Z"
   },
   {
    "duration": 566,
    "start_time": "2022-01-29T19:45:26.057Z"
   },
   {
    "duration": 560,
    "start_time": "2022-01-29T19:48:44.622Z"
   },
   {
    "duration": 5,
    "start_time": "2022-01-29T19:58:23.144Z"
   },
   {
    "duration": 4,
    "start_time": "2022-01-29T19:58:24.738Z"
   },
   {
    "duration": 289,
    "start_time": "2022-01-29T19:58:26.714Z"
   },
   {
    "duration": 5,
    "start_time": "2022-01-29T19:59:12.917Z"
   },
   {
    "duration": 3,
    "start_time": "2022-01-29T19:59:14.146Z"
   },
   {
    "duration": 14,
    "start_time": "2022-01-29T19:59:15.744Z"
   },
   {
    "duration": 5,
    "start_time": "2022-01-29T19:59:17.022Z"
   },
   {
    "duration": 6,
    "start_time": "2022-01-29T19:59:17.431Z"
   },
   {
    "duration": 3921,
    "start_time": "2022-01-29T19:59:26.075Z"
   },
   {
    "duration": 17,
    "start_time": "2022-01-29T19:59:29.982Z"
   },
   {
    "duration": 4,
    "start_time": "2022-01-29T19:59:29.996Z"
   },
   {
    "duration": -4,
    "start_time": "2022-01-29T19:59:30.005Z"
   },
   {
    "duration": -21,
    "start_time": "2022-01-29T19:59:30.024Z"
   },
   {
    "duration": 1659,
    "start_time": "2022-01-29T19:59:43.989Z"
   },
   {
    "duration": 997,
    "start_time": "2022-01-29T19:59:45.651Z"
   },
   {
    "duration": 29,
    "start_time": "2022-01-29T19:59:46.651Z"
   },
   {
    "duration": 23,
    "start_time": "2022-01-29T19:59:46.683Z"
   },
   {
    "duration": 46,
    "start_time": "2022-01-29T19:59:46.708Z"
   },
   {
    "duration": 10,
    "start_time": "2022-01-29T19:59:46.756Z"
   },
   {
    "duration": 12,
    "start_time": "2022-01-29T19:59:46.768Z"
   },
   {
    "duration": 307,
    "start_time": "2022-01-29T19:59:46.784Z"
   },
   {
    "duration": 140,
    "start_time": "2022-01-29T19:59:47.094Z"
   },
   {
    "duration": 32,
    "start_time": "2022-01-29T19:59:47.236Z"
   },
   {
    "duration": 172,
    "start_time": "2022-01-29T19:59:47.270Z"
   },
   {
    "duration": 21,
    "start_time": "2022-01-29T19:59:47.444Z"
   },
   {
    "duration": 117,
    "start_time": "2022-01-29T19:59:47.468Z"
   },
   {
    "duration": 5,
    "start_time": "2022-01-29T19:59:47.588Z"
   },
   {
    "duration": 18,
    "start_time": "2022-01-29T19:59:47.595Z"
   },
   {
    "duration": 211,
    "start_time": "2022-01-29T19:59:47.616Z"
   },
   {
    "duration": 28,
    "start_time": "2022-01-29T19:59:47.829Z"
   },
   {
    "duration": 5,
    "start_time": "2022-01-29T19:59:47.859Z"
   },
   {
    "duration": 19,
    "start_time": "2022-01-29T19:59:47.866Z"
   },
   {
    "duration": 24,
    "start_time": "2022-01-29T19:59:47.888Z"
   },
   {
    "duration": 14,
    "start_time": "2022-01-29T19:59:47.949Z"
   },
   {
    "duration": 10,
    "start_time": "2022-01-29T19:59:47.965Z"
   },
   {
    "duration": 23,
    "start_time": "2022-01-29T19:59:47.981Z"
   },
   {
    "duration": 41,
    "start_time": "2022-01-29T19:59:48.007Z"
   },
   {
    "duration": 7,
    "start_time": "2022-01-29T19:59:48.051Z"
   },
   {
    "duration": 18,
    "start_time": "2022-01-29T19:59:48.061Z"
   },
   {
    "duration": 8,
    "start_time": "2022-01-29T19:59:48.081Z"
   },
   {
    "duration": 8,
    "start_time": "2022-01-29T19:59:48.092Z"
   },
   {
    "duration": 8,
    "start_time": "2022-01-29T19:59:48.102Z"
   },
   {
    "duration": 36,
    "start_time": "2022-01-29T19:59:48.112Z"
   },
   {
    "duration": 680,
    "start_time": "2022-01-29T19:59:48.151Z"
   },
   {
    "duration": 16,
    "start_time": "2022-01-29T19:59:48.833Z"
   },
   {
    "duration": 16,
    "start_time": "2022-01-29T19:59:48.852Z"
   },
   {
    "duration": 10,
    "start_time": "2022-01-29T19:59:48.871Z"
   },
   {
    "duration": 15,
    "start_time": "2022-01-29T19:59:48.884Z"
   },
   {
    "duration": 10,
    "start_time": "2022-01-29T19:59:48.901Z"
   },
   {
    "duration": 9,
    "start_time": "2022-01-29T19:59:48.950Z"
   },
   {
    "duration": 12,
    "start_time": "2022-01-29T19:59:48.961Z"
   },
   {
    "duration": 12,
    "start_time": "2022-01-29T19:59:48.975Z"
   },
   {
    "duration": 565,
    "start_time": "2022-01-29T19:59:48.989Z"
   },
   {
    "duration": 11,
    "start_time": "2022-01-29T19:59:49.557Z"
   },
   {
    "duration": 629,
    "start_time": "2022-01-29T19:59:49.571Z"
   },
   {
    "duration": 593,
    "start_time": "2022-01-29T19:59:50.203Z"
   },
   {
    "duration": 571,
    "start_time": "2022-01-29T19:59:50.799Z"
   },
   {
    "duration": 556,
    "start_time": "2022-01-29T19:59:51.373Z"
   },
   {
    "duration": 17,
    "start_time": "2022-01-29T19:59:51.932Z"
   },
   {
    "duration": 9,
    "start_time": "2022-01-29T19:59:51.952Z"
   },
   {
    "duration": 20,
    "start_time": "2022-01-29T19:59:51.964Z"
   },
   {
    "duration": 5,
    "start_time": "2022-01-29T19:59:51.986Z"
   },
   {
    "duration": 15,
    "start_time": "2022-01-29T19:59:51.994Z"
   },
   {
    "duration": 38,
    "start_time": "2022-01-29T19:59:52.012Z"
   },
   {
    "duration": 25,
    "start_time": "2022-01-29T19:59:52.053Z"
   },
   {
    "duration": 5,
    "start_time": "2022-01-29T19:59:52.081Z"
   },
   {
    "duration": 12,
    "start_time": "2022-01-29T19:59:52.089Z"
   },
   {
    "duration": 10,
    "start_time": "2022-01-29T19:59:52.103Z"
   },
   {
    "duration": 16,
    "start_time": "2022-01-29T19:59:52.116Z"
   },
   {
    "duration": 24,
    "start_time": "2022-01-29T19:59:52.135Z"
   },
   {
    "duration": 10,
    "start_time": "2022-01-29T19:59:52.161Z"
   },
   {
    "duration": 10,
    "start_time": "2022-01-29T19:59:52.174Z"
   },
   {
    "duration": 892,
    "start_time": "2022-01-29T20:02:12.522Z"
   },
   {
    "duration": 625,
    "start_time": "2022-01-29T20:02:28.973Z"
   },
   {
    "duration": 576,
    "start_time": "2022-01-29T20:03:38.934Z"
   },
   {
    "duration": 523,
    "start_time": "2022-01-29T20:05:25.913Z"
   },
   {
    "duration": 14,
    "start_time": "2022-01-29T20:50:14.339Z"
   },
   {
    "duration": 8,
    "start_time": "2022-01-29T20:50:14.357Z"
   },
   {
    "duration": 5,
    "start_time": "2022-01-29T20:50:51.601Z"
   },
   {
    "duration": 4155,
    "start_time": "2022-01-29T20:55:31.104Z"
   },
   {
    "duration": -1,
    "start_time": "2022-01-29T20:55:35.263Z"
   },
   {
    "duration": -14,
    "start_time": "2022-01-29T20:55:35.277Z"
   },
   {
    "duration": -19,
    "start_time": "2022-01-29T20:55:35.284Z"
   },
   {
    "duration": -22,
    "start_time": "2022-01-29T20:55:35.290Z"
   },
   {
    "duration": 1469,
    "start_time": "2022-01-29T20:55:45.757Z"
   },
   {
    "duration": 1244,
    "start_time": "2022-01-29T20:55:47.228Z"
   },
   {
    "duration": 26,
    "start_time": "2022-01-29T20:55:48.475Z"
   },
   {
    "duration": 22,
    "start_time": "2022-01-29T20:55:48.504Z"
   },
   {
    "duration": 22,
    "start_time": "2022-01-29T20:55:48.528Z"
   },
   {
    "duration": 10,
    "start_time": "2022-01-29T20:55:48.552Z"
   },
   {
    "duration": 11,
    "start_time": "2022-01-29T20:55:48.564Z"
   },
   {
    "duration": 318,
    "start_time": "2022-01-29T20:55:48.577Z"
   },
   {
    "duration": 160,
    "start_time": "2022-01-29T20:55:48.901Z"
   },
   {
    "duration": 24,
    "start_time": "2022-01-29T20:55:49.064Z"
   },
   {
    "duration": 182,
    "start_time": "2022-01-29T20:55:49.091Z"
   },
   {
    "duration": 22,
    "start_time": "2022-01-29T20:55:49.275Z"
   },
   {
    "duration": 125,
    "start_time": "2022-01-29T20:55:49.300Z"
   },
   {
    "duration": 6,
    "start_time": "2022-01-29T20:55:49.428Z"
   },
   {
    "duration": 26,
    "start_time": "2022-01-29T20:55:49.436Z"
   },
   {
    "duration": 217,
    "start_time": "2022-01-29T20:55:49.464Z"
   },
   {
    "duration": 21,
    "start_time": "2022-01-29T20:55:49.683Z"
   },
   {
    "duration": 7,
    "start_time": "2022-01-29T20:55:49.707Z"
   },
   {
    "duration": 48,
    "start_time": "2022-01-29T20:55:49.717Z"
   },
   {
    "duration": 25,
    "start_time": "2022-01-29T20:55:49.768Z"
   },
   {
    "duration": 13,
    "start_time": "2022-01-29T20:55:49.796Z"
   },
   {
    "duration": 42,
    "start_time": "2022-01-29T20:55:49.812Z"
   },
   {
    "duration": 22,
    "start_time": "2022-01-29T20:55:49.856Z"
   },
   {
    "duration": 14,
    "start_time": "2022-01-29T20:55:49.881Z"
   },
   {
    "duration": 12,
    "start_time": "2022-01-29T20:55:49.898Z"
   },
   {
    "duration": 41,
    "start_time": "2022-01-29T20:55:49.912Z"
   },
   {
    "duration": 6,
    "start_time": "2022-01-29T20:55:49.958Z"
   },
   {
    "duration": 5,
    "start_time": "2022-01-29T20:55:49.967Z"
   },
   {
    "duration": 10,
    "start_time": "2022-01-29T20:55:49.975Z"
   },
   {
    "duration": 16,
    "start_time": "2022-01-29T20:55:49.987Z"
   },
   {
    "duration": 765,
    "start_time": "2022-01-29T20:55:50.005Z"
   },
   {
    "duration": 8,
    "start_time": "2022-01-29T20:55:50.772Z"
   },
   {
    "duration": 13,
    "start_time": "2022-01-29T20:55:50.782Z"
   },
   {
    "duration": 7,
    "start_time": "2022-01-29T20:55:50.798Z"
   },
   {
    "duration": 49,
    "start_time": "2022-01-29T20:55:50.808Z"
   },
   {
    "duration": 12,
    "start_time": "2022-01-29T20:55:50.860Z"
   },
   {
    "duration": 9,
    "start_time": "2022-01-29T20:55:50.876Z"
   },
   {
    "duration": 9,
    "start_time": "2022-01-29T20:55:50.888Z"
   },
   {
    "duration": 48,
    "start_time": "2022-01-29T20:55:50.900Z"
   },
   {
    "duration": 544,
    "start_time": "2022-01-29T20:55:50.951Z"
   },
   {
    "duration": 7,
    "start_time": "2022-01-29T20:55:51.498Z"
   },
   {
    "duration": 610,
    "start_time": "2022-01-29T20:55:51.507Z"
   },
   {
    "duration": 611,
    "start_time": "2022-01-29T20:55:52.120Z"
   },
   {
    "duration": 583,
    "start_time": "2022-01-29T20:55:52.733Z"
   },
   {
    "duration": 539,
    "start_time": "2022-01-29T20:55:53.318Z"
   },
   {
    "duration": 5,
    "start_time": "2022-01-29T20:55:53.860Z"
   },
   {
    "duration": 8,
    "start_time": "2022-01-29T20:55:53.869Z"
   },
   {
    "duration": 16,
    "start_time": "2022-01-29T20:55:53.880Z"
   },
   {
    "duration": 7,
    "start_time": "2022-01-29T20:55:53.899Z"
   },
   {
    "duration": 46,
    "start_time": "2022-01-29T20:55:53.908Z"
   },
   {
    "duration": 14,
    "start_time": "2022-01-29T20:55:53.957Z"
   },
   {
    "duration": 13,
    "start_time": "2022-01-29T20:55:53.974Z"
   },
   {
    "duration": 5,
    "start_time": "2022-01-29T20:55:53.990Z"
   },
   {
    "duration": 9,
    "start_time": "2022-01-29T20:55:53.997Z"
   },
   {
    "duration": 6,
    "start_time": "2022-01-29T20:55:54.008Z"
   },
   {
    "duration": 3980,
    "start_time": "2022-01-29T20:56:19.602Z"
   },
   {
    "duration": 12,
    "start_time": "2022-01-29T20:56:23.573Z"
   },
   {
    "duration": 5,
    "start_time": "2022-01-29T20:56:23.581Z"
   },
   {
    "duration": -1,
    "start_time": "2022-01-29T20:56:23.589Z"
   },
   {
    "duration": -7,
    "start_time": "2022-01-29T20:56:23.596Z"
   },
   {
    "duration": 1477,
    "start_time": "2022-01-29T20:56:28.740Z"
   },
   {
    "duration": 977,
    "start_time": "2022-01-29T20:56:30.219Z"
   },
   {
    "duration": 27,
    "start_time": "2022-01-29T20:56:31.199Z"
   },
   {
    "duration": 22,
    "start_time": "2022-01-29T20:56:31.229Z"
   },
   {
    "duration": 18,
    "start_time": "2022-01-29T20:56:31.254Z"
   },
   {
    "duration": 8,
    "start_time": "2022-01-29T20:56:31.275Z"
   },
   {
    "duration": 16,
    "start_time": "2022-01-29T20:56:31.287Z"
   },
   {
    "duration": 311,
    "start_time": "2022-01-29T20:56:31.308Z"
   },
   {
    "duration": 143,
    "start_time": "2022-01-29T20:56:31.622Z"
   },
   {
    "duration": 23,
    "start_time": "2022-01-29T20:56:31.768Z"
   },
   {
    "duration": 176,
    "start_time": "2022-01-29T20:56:31.793Z"
   },
   {
    "duration": 20,
    "start_time": "2022-01-29T20:56:31.972Z"
   },
   {
    "duration": 131,
    "start_time": "2022-01-29T20:56:31.994Z"
   },
   {
    "duration": 6,
    "start_time": "2022-01-29T20:56:32.127Z"
   },
   {
    "duration": 28,
    "start_time": "2022-01-29T20:56:32.135Z"
   },
   {
    "duration": 220,
    "start_time": "2022-01-29T20:56:32.166Z"
   },
   {
    "duration": 26,
    "start_time": "2022-01-29T20:56:32.389Z"
   },
   {
    "duration": 8,
    "start_time": "2022-01-29T20:56:32.418Z"
   },
   {
    "duration": 28,
    "start_time": "2022-01-29T20:56:32.449Z"
   },
   {
    "duration": 34,
    "start_time": "2022-01-29T20:56:32.480Z"
   },
   {
    "duration": 48,
    "start_time": "2022-01-29T20:56:32.518Z"
   },
   {
    "duration": 12,
    "start_time": "2022-01-29T20:56:32.568Z"
   },
   {
    "duration": 32,
    "start_time": "2022-01-29T20:56:32.589Z"
   },
   {
    "duration": 17,
    "start_time": "2022-01-29T20:56:32.651Z"
   },
   {
    "duration": 12,
    "start_time": "2022-01-29T20:56:32.670Z"
   },
   {
    "duration": 17,
    "start_time": "2022-01-29T20:56:32.684Z"
   },
   {
    "duration": 7,
    "start_time": "2022-01-29T20:56:32.703Z"
   },
   {
    "duration": 42,
    "start_time": "2022-01-29T20:56:32.713Z"
   },
   {
    "duration": 6,
    "start_time": "2022-01-29T20:56:32.758Z"
   },
   {
    "duration": 9,
    "start_time": "2022-01-29T20:56:32.767Z"
   },
   {
    "duration": 688,
    "start_time": "2022-01-29T20:56:32.779Z"
   },
   {
    "duration": 6,
    "start_time": "2022-01-29T20:56:33.470Z"
   },
   {
    "duration": 13,
    "start_time": "2022-01-29T20:56:33.478Z"
   },
   {
    "duration": 6,
    "start_time": "2022-01-29T20:56:33.494Z"
   },
   {
    "duration": 14,
    "start_time": "2022-01-29T20:56:33.502Z"
   },
   {
    "duration": 9,
    "start_time": "2022-01-29T20:56:33.549Z"
   },
   {
    "duration": 11,
    "start_time": "2022-01-29T20:56:33.560Z"
   },
   {
    "duration": 10,
    "start_time": "2022-01-29T20:56:33.573Z"
   },
   {
    "duration": 13,
    "start_time": "2022-01-29T20:56:33.585Z"
   },
   {
    "duration": 602,
    "start_time": "2022-01-29T20:56:33.600Z"
   },
   {
    "duration": 8,
    "start_time": "2022-01-29T20:56:34.204Z"
   },
   {
    "duration": 635,
    "start_time": "2022-01-29T20:56:34.214Z"
   },
   {
    "duration": 625,
    "start_time": "2022-01-29T20:56:34.852Z"
   },
   {
    "duration": 576,
    "start_time": "2022-01-29T20:56:35.480Z"
   },
   {
    "duration": 534,
    "start_time": "2022-01-29T20:56:36.058Z"
   },
   {
    "duration": 5,
    "start_time": "2022-01-29T20:56:36.595Z"
   },
   {
    "duration": 12,
    "start_time": "2022-01-29T20:56:36.603Z"
   },
   {
    "duration": 32,
    "start_time": "2022-01-29T20:56:36.618Z"
   },
   {
    "duration": 5,
    "start_time": "2022-01-29T20:56:36.653Z"
   },
   {
    "duration": 11,
    "start_time": "2022-01-29T20:56:36.660Z"
   },
   {
    "duration": 12,
    "start_time": "2022-01-29T20:56:36.674Z"
   },
   {
    "duration": 10,
    "start_time": "2022-01-29T20:56:36.688Z"
   },
   {
    "duration": 8,
    "start_time": "2022-01-29T20:56:36.700Z"
   },
   {
    "duration": 39,
    "start_time": "2022-01-29T20:56:36.710Z"
   },
   {
    "duration": 6,
    "start_time": "2022-01-29T20:56:36.751Z"
   },
   {
    "duration": 31,
    "start_time": "2022-01-29T20:59:49.545Z"
   },
   {
    "duration": 8,
    "start_time": "2022-01-29T21:00:07.093Z"
   },
   {
    "duration": 7,
    "start_time": "2022-01-29T21:00:21.769Z"
   },
   {
    "duration": 6,
    "start_time": "2022-01-29T21:00:33.430Z"
   },
   {
    "duration": 6,
    "start_time": "2022-01-29T21:00:44.978Z"
   },
   {
    "duration": 8,
    "start_time": "2022-01-29T21:00:51.110Z"
   },
   {
    "duration": 1413,
    "start_time": "2022-01-29T21:11:30.399Z"
   },
   {
    "duration": 1067,
    "start_time": "2022-01-29T21:11:31.815Z"
   },
   {
    "duration": 28,
    "start_time": "2022-01-29T21:11:32.886Z"
   },
   {
    "duration": 23,
    "start_time": "2022-01-29T21:11:32.917Z"
   },
   {
    "duration": 19,
    "start_time": "2022-01-29T21:11:32.943Z"
   },
   {
    "duration": 9,
    "start_time": "2022-01-29T21:11:32.964Z"
   },
   {
    "duration": 10,
    "start_time": "2022-01-29T21:11:32.975Z"
   },
   {
    "duration": 301,
    "start_time": "2022-01-29T21:11:32.989Z"
   },
   {
    "duration": 160,
    "start_time": "2022-01-29T21:11:33.294Z"
   },
   {
    "duration": 23,
    "start_time": "2022-01-29T21:11:33.456Z"
   },
   {
    "duration": 174,
    "start_time": "2022-01-29T21:11:33.482Z"
   },
   {
    "duration": 22,
    "start_time": "2022-01-29T21:11:33.658Z"
   },
   {
    "duration": 126,
    "start_time": "2022-01-29T21:11:33.682Z"
   },
   {
    "duration": 7,
    "start_time": "2022-01-29T21:11:33.811Z"
   },
   {
    "duration": 35,
    "start_time": "2022-01-29T21:11:33.821Z"
   },
   {
    "duration": 224,
    "start_time": "2022-01-29T21:11:33.859Z"
   },
   {
    "duration": 19,
    "start_time": "2022-01-29T21:11:34.086Z"
   },
   {
    "duration": 8,
    "start_time": "2022-01-29T21:11:34.107Z"
   },
   {
    "duration": 48,
    "start_time": "2022-01-29T21:11:34.118Z"
   },
   {
    "duration": 27,
    "start_time": "2022-01-29T21:11:34.168Z"
   },
   {
    "duration": 12,
    "start_time": "2022-01-29T21:11:34.198Z"
   },
   {
    "duration": 36,
    "start_time": "2022-01-29T21:11:34.213Z"
   },
   {
    "duration": 24,
    "start_time": "2022-01-29T21:11:34.254Z"
   },
   {
    "duration": 10,
    "start_time": "2022-01-29T21:11:34.281Z"
   },
   {
    "duration": 6,
    "start_time": "2022-01-29T21:11:34.293Z"
   },
   {
    "duration": 46,
    "start_time": "2022-01-29T21:11:34.302Z"
   },
   {
    "duration": 5,
    "start_time": "2022-01-29T21:11:34.351Z"
   },
   {
    "duration": 9,
    "start_time": "2022-01-29T21:11:34.359Z"
   },
   {
    "duration": 10,
    "start_time": "2022-01-29T21:11:34.370Z"
   },
   {
    "duration": 7,
    "start_time": "2022-01-29T21:11:34.383Z"
   },
   {
    "duration": 687,
    "start_time": "2022-01-29T21:11:34.392Z"
   },
   {
    "duration": 6,
    "start_time": "2022-01-29T21:11:35.082Z"
   },
   {
    "duration": 19,
    "start_time": "2022-01-29T21:11:35.090Z"
   },
   {
    "duration": 9,
    "start_time": "2022-01-29T21:11:35.112Z"
   },
   {
    "duration": 26,
    "start_time": "2022-01-29T21:11:35.124Z"
   },
   {
    "duration": 9,
    "start_time": "2022-01-29T21:11:35.153Z"
   },
   {
    "duration": 16,
    "start_time": "2022-01-29T21:11:35.164Z"
   },
   {
    "duration": 9,
    "start_time": "2022-01-29T21:11:35.182Z"
   },
   {
    "duration": 15,
    "start_time": "2022-01-29T21:11:35.193Z"
   },
   {
    "duration": 544,
    "start_time": "2022-01-29T21:11:35.210Z"
   },
   {
    "duration": 8,
    "start_time": "2022-01-29T21:11:35.756Z"
   },
   {
    "duration": 603,
    "start_time": "2022-01-29T21:11:35.767Z"
   },
   {
    "duration": 580,
    "start_time": "2022-01-29T21:11:36.372Z"
   },
   {
    "duration": 582,
    "start_time": "2022-01-29T21:11:36.955Z"
   },
   {
    "duration": 650,
    "start_time": "2022-01-29T21:11:37.540Z"
   },
   {
    "duration": 5,
    "start_time": "2022-01-29T21:11:38.192Z"
   },
   {
    "duration": 10,
    "start_time": "2022-01-29T21:11:38.199Z"
   },
   {
    "duration": 16,
    "start_time": "2022-01-29T21:11:38.211Z"
   },
   {
    "duration": 21,
    "start_time": "2022-01-29T21:11:38.229Z"
   },
   {
    "duration": 7,
    "start_time": "2022-01-29T21:11:38.253Z"
   },
   {
    "duration": 11,
    "start_time": "2022-01-29T21:11:38.262Z"
   },
   {
    "duration": 9,
    "start_time": "2022-01-29T21:11:38.275Z"
   },
   {
    "duration": 7,
    "start_time": "2022-01-29T21:11:38.286Z"
   },
   {
    "duration": 6,
    "start_time": "2022-01-29T21:11:38.295Z"
   },
   {
    "duration": 50,
    "start_time": "2022-01-29T21:11:38.303Z"
   },
   {
    "duration": 11,
    "start_time": "2022-01-29T21:11:38.356Z"
   },
   {
    "duration": 6,
    "start_time": "2022-01-29T21:11:38.370Z"
   },
   {
    "duration": 1502,
    "start_time": "2022-01-29T21:13:32.125Z"
   },
   {
    "duration": 961,
    "start_time": "2022-01-29T21:13:33.630Z"
   },
   {
    "duration": 26,
    "start_time": "2022-01-29T21:13:34.594Z"
   },
   {
    "duration": 23,
    "start_time": "2022-01-29T21:13:34.622Z"
   },
   {
    "duration": 18,
    "start_time": "2022-01-29T21:13:34.647Z"
   },
   {
    "duration": 9,
    "start_time": "2022-01-29T21:13:34.667Z"
   },
   {
    "duration": 13,
    "start_time": "2022-01-29T21:13:34.678Z"
   },
   {
    "duration": 286,
    "start_time": "2022-01-29T21:13:34.695Z"
   },
   {
    "duration": 138,
    "start_time": "2022-01-29T21:13:34.983Z"
   },
   {
    "duration": 34,
    "start_time": "2022-01-29T21:13:35.124Z"
   },
   {
    "duration": 161,
    "start_time": "2022-01-29T21:13:35.160Z"
   },
   {
    "duration": 31,
    "start_time": "2022-01-29T21:13:35.325Z"
   },
   {
    "duration": 113,
    "start_time": "2022-01-29T21:13:35.358Z"
   },
   {
    "duration": 6,
    "start_time": "2022-01-29T21:13:35.474Z"
   },
   {
    "duration": 21,
    "start_time": "2022-01-29T21:13:35.482Z"
   },
   {
    "duration": 208,
    "start_time": "2022-01-29T21:13:35.505Z"
   },
   {
    "duration": 19,
    "start_time": "2022-01-29T21:13:35.715Z"
   },
   {
    "duration": 15,
    "start_time": "2022-01-29T21:13:35.737Z"
   },
   {
    "duration": 20,
    "start_time": "2022-01-29T21:13:35.754Z"
   },
   {
    "duration": 26,
    "start_time": "2022-01-29T21:13:35.776Z"
   },
   {
    "duration": 44,
    "start_time": "2022-01-29T21:13:35.804Z"
   },
   {
    "duration": 9,
    "start_time": "2022-01-29T21:13:35.851Z"
   },
   {
    "duration": 23,
    "start_time": "2022-01-29T21:13:35.866Z"
   },
   {
    "duration": 12,
    "start_time": "2022-01-29T21:13:35.893Z"
   },
   {
    "duration": 41,
    "start_time": "2022-01-29T21:13:35.908Z"
   },
   {
    "duration": 10,
    "start_time": "2022-01-29T21:13:35.951Z"
   },
   {
    "duration": 8,
    "start_time": "2022-01-29T21:13:35.963Z"
   },
   {
    "duration": 13,
    "start_time": "2022-01-29T21:13:35.973Z"
   },
   {
    "duration": 15,
    "start_time": "2022-01-29T21:13:35.989Z"
   },
   {
    "duration": 14,
    "start_time": "2022-01-29T21:13:36.006Z"
   },
   {
    "duration": 678,
    "start_time": "2022-01-29T21:13:36.022Z"
   },
   {
    "duration": 7,
    "start_time": "2022-01-29T21:13:36.703Z"
   },
   {
    "duration": 14,
    "start_time": "2022-01-29T21:13:36.712Z"
   },
   {
    "duration": 25,
    "start_time": "2022-01-29T21:13:36.728Z"
   },
   {
    "duration": 15,
    "start_time": "2022-01-29T21:13:36.756Z"
   },
   {
    "duration": 8,
    "start_time": "2022-01-29T21:13:36.773Z"
   },
   {
    "duration": 8,
    "start_time": "2022-01-29T21:13:36.784Z"
   },
   {
    "duration": 9,
    "start_time": "2022-01-29T21:13:36.794Z"
   },
   {
    "duration": 50,
    "start_time": "2022-01-29T21:13:36.805Z"
   },
   {
    "duration": 549,
    "start_time": "2022-01-29T21:13:36.857Z"
   },
   {
    "duration": 8,
    "start_time": "2022-01-29T21:13:37.409Z"
   },
   {
    "duration": 604,
    "start_time": "2022-01-29T21:13:37.420Z"
   },
   {
    "duration": 594,
    "start_time": "2022-01-29T21:13:38.027Z"
   },
   {
    "duration": 575,
    "start_time": "2022-01-29T21:13:38.623Z"
   },
   {
    "duration": 521,
    "start_time": "2022-01-29T21:13:39.201Z"
   },
   {
    "duration": 6,
    "start_time": "2022-01-29T21:13:39.724Z"
   },
   {
    "duration": 18,
    "start_time": "2022-01-29T21:13:39.732Z"
   },
   {
    "duration": 24,
    "start_time": "2022-01-29T21:13:39.753Z"
   },
   {
    "duration": 6,
    "start_time": "2022-01-29T21:13:39.780Z"
   },
   {
    "duration": 13,
    "start_time": "2022-01-29T21:13:39.789Z"
   },
   {
    "duration": 43,
    "start_time": "2022-01-29T21:13:39.805Z"
   },
   {
    "duration": 11,
    "start_time": "2022-01-29T21:13:39.851Z"
   },
   {
    "duration": 10,
    "start_time": "2022-01-29T21:13:39.864Z"
   },
   {
    "duration": 11,
    "start_time": "2022-01-29T21:13:39.877Z"
   },
   {
    "duration": 7,
    "start_time": "2022-01-29T21:13:39.890Z"
   },
   {
    "duration": 11,
    "start_time": "2022-01-29T21:13:39.900Z"
   },
   {
    "duration": 37,
    "start_time": "2022-01-29T21:13:39.913Z"
   },
   {
    "duration": 1682,
    "start_time": "2022-02-07T16:33:05.329Z"
   },
   {
    "duration": 1389,
    "start_time": "2022-02-07T16:33:07.014Z"
   },
   {
    "duration": 31,
    "start_time": "2022-02-07T16:33:08.406Z"
   },
   {
    "duration": 22,
    "start_time": "2022-02-07T16:33:08.442Z"
   },
   {
    "duration": 19,
    "start_time": "2022-02-07T16:33:08.467Z"
   },
   {
    "duration": 10,
    "start_time": "2022-02-07T16:33:08.489Z"
   },
   {
    "duration": 38,
    "start_time": "2022-02-07T16:33:08.501Z"
   },
   {
    "duration": 298,
    "start_time": "2022-02-07T16:33:08.543Z"
   },
   {
    "duration": 146,
    "start_time": "2022-02-07T16:33:08.844Z"
   },
   {
    "duration": 26,
    "start_time": "2022-02-07T16:33:08.992Z"
   },
   {
    "duration": 169,
    "start_time": "2022-02-07T16:33:09.020Z"
   },
   {
    "duration": 21,
    "start_time": "2022-02-07T16:33:09.191Z"
   },
   {
    "duration": 120,
    "start_time": "2022-02-07T16:33:09.214Z"
   },
   {
    "duration": 5,
    "start_time": "2022-02-07T16:33:09.337Z"
   },
   {
    "duration": 19,
    "start_time": "2022-02-07T16:33:09.344Z"
   },
   {
    "duration": 205,
    "start_time": "2022-02-07T16:33:09.366Z"
   },
   {
    "duration": 27,
    "start_time": "2022-02-07T16:33:09.574Z"
   },
   {
    "duration": 5,
    "start_time": "2022-02-07T16:33:09.604Z"
   },
   {
    "duration": 35,
    "start_time": "2022-02-07T16:33:09.611Z"
   },
   {
    "duration": 25,
    "start_time": "2022-02-07T16:33:09.648Z"
   },
   {
    "duration": 12,
    "start_time": "2022-02-07T16:33:09.675Z"
   },
   {
    "duration": 43,
    "start_time": "2022-02-07T16:33:09.689Z"
   },
   {
    "duration": 23,
    "start_time": "2022-02-07T16:33:09.738Z"
   },
   {
    "duration": 11,
    "start_time": "2022-02-07T16:33:09.764Z"
   },
   {
    "duration": 7,
    "start_time": "2022-02-07T16:33:09.778Z"
   },
   {
    "duration": 46,
    "start_time": "2022-02-07T16:33:09.787Z"
   },
   {
    "duration": 5,
    "start_time": "2022-02-07T16:33:09.836Z"
   },
   {
    "duration": 7,
    "start_time": "2022-02-07T16:33:09.843Z"
   },
   {
    "duration": 8,
    "start_time": "2022-02-07T16:33:09.853Z"
   },
   {
    "duration": 8,
    "start_time": "2022-02-07T16:33:09.863Z"
   },
   {
    "duration": 837,
    "start_time": "2022-02-07T16:33:09.874Z"
   },
   {
    "duration": 7,
    "start_time": "2022-02-07T16:33:10.713Z"
   },
   {
    "duration": 19,
    "start_time": "2022-02-07T16:33:10.733Z"
   },
   {
    "duration": 9,
    "start_time": "2022-02-07T16:33:10.754Z"
   },
   {
    "duration": 35,
    "start_time": "2022-02-07T16:33:10.765Z"
   },
   {
    "duration": 14,
    "start_time": "2022-02-07T16:33:10.802Z"
   },
   {
    "duration": 16,
    "start_time": "2022-02-07T16:33:10.818Z"
   },
   {
    "duration": 7,
    "start_time": "2022-02-07T16:33:10.836Z"
   },
   {
    "duration": 17,
    "start_time": "2022-02-07T16:33:10.845Z"
   },
   {
    "duration": 585,
    "start_time": "2022-02-07T16:33:10.865Z"
   },
   {
    "duration": 11,
    "start_time": "2022-02-07T16:33:11.453Z"
   },
   {
    "duration": 637,
    "start_time": "2022-02-07T16:33:11.467Z"
   },
   {
    "duration": 625,
    "start_time": "2022-02-07T16:33:12.107Z"
   },
   {
    "duration": 594,
    "start_time": "2022-02-07T16:33:12.735Z"
   },
   {
    "duration": 537,
    "start_time": "2022-02-07T16:33:13.332Z"
   },
   {
    "duration": 4,
    "start_time": "2022-02-07T16:33:13.872Z"
   },
   {
    "duration": 10,
    "start_time": "2022-02-07T16:33:13.878Z"
   },
   {
    "duration": 42,
    "start_time": "2022-02-07T16:33:13.890Z"
   },
   {
    "duration": 4,
    "start_time": "2022-02-07T16:33:13.935Z"
   },
   {
    "duration": 7,
    "start_time": "2022-02-07T16:33:13.941Z"
   },
   {
    "duration": 11,
    "start_time": "2022-02-07T16:33:13.951Z"
   },
   {
    "duration": 10,
    "start_time": "2022-02-07T16:33:13.964Z"
   },
   {
    "duration": 6,
    "start_time": "2022-02-07T16:33:13.977Z"
   },
   {
    "duration": 49,
    "start_time": "2022-02-07T16:33:13.985Z"
   },
   {
    "duration": 5,
    "start_time": "2022-02-07T16:33:14.036Z"
   },
   {
    "duration": 8,
    "start_time": "2022-02-07T16:33:14.043Z"
   },
   {
    "duration": 6,
    "start_time": "2022-02-07T16:33:14.054Z"
   },
   {
    "duration": 42,
    "start_time": "2022-02-07T16:37:56.418Z"
   },
   {
    "duration": 6,
    "start_time": "2022-02-07T16:40:03.928Z"
   },
   {
    "duration": 471,
    "start_time": "2022-02-14T08:43:02.288Z"
   },
   {
    "duration": 1427,
    "start_time": "2022-02-14T08:53:01.671Z"
   },
   {
    "duration": 1178,
    "start_time": "2022-02-14T08:53:04.798Z"
   },
   {
    "duration": 29,
    "start_time": "2022-02-14T08:53:06.070Z"
   },
   {
    "duration": 25,
    "start_time": "2022-02-14T08:53:06.654Z"
   },
   {
    "duration": 19,
    "start_time": "2022-02-14T08:53:07.038Z"
   },
   {
    "duration": 9,
    "start_time": "2022-02-14T08:53:07.382Z"
   },
   {
    "duration": 9,
    "start_time": "2022-02-14T08:53:07.637Z"
   },
   {
    "duration": 260,
    "start_time": "2022-02-14T08:53:13.373Z"
   },
   {
    "duration": 136,
    "start_time": "2022-02-14T08:53:32.429Z"
   },
   {
    "duration": 22,
    "start_time": "2022-02-14T08:53:38.077Z"
   },
   {
    "duration": 161,
    "start_time": "2022-02-14T08:53:54.082Z"
   },
   {
    "duration": 30,
    "start_time": "2022-02-14T08:53:56.151Z"
   },
   {
    "duration": 101,
    "start_time": "2022-02-14T08:54:17.058Z"
   },
   {
    "duration": 6,
    "start_time": "2022-02-14T08:54:17.769Z"
   },
   {
    "duration": 15,
    "start_time": "2022-02-14T08:54:19.788Z"
   },
   {
    "duration": 189,
    "start_time": "2022-02-14T08:54:30.312Z"
   },
   {
    "duration": 19,
    "start_time": "2022-02-14T08:54:32.025Z"
   },
   {
    "duration": 6,
    "start_time": "2022-02-14T08:54:34.896Z"
   },
   {
    "duration": 21,
    "start_time": "2022-02-14T08:54:48.122Z"
   },
   {
    "duration": 27,
    "start_time": "2022-02-14T08:54:49.746Z"
   },
   {
    "duration": 22,
    "start_time": "2022-02-14T08:55:35.896Z"
   },
   {
    "duration": 28,
    "start_time": "2022-02-14T08:55:36.806Z"
   },
   {
    "duration": 29,
    "start_time": "2022-02-14T08:57:38.147Z"
   },
   {
    "duration": 25,
    "start_time": "2022-02-14T08:57:39.947Z"
   },
   {
    "duration": 1152,
    "start_time": "2022-02-14T09:04:33.867Z"
   },
   {
    "duration": 9,
    "start_time": "2022-02-14T09:04:35.322Z"
   },
   {
    "duration": 22,
    "start_time": "2022-02-14T09:04:47.442Z"
   },
   {
    "duration": 5918,
    "start_time": "2022-02-14T09:04:51.474Z"
   },
   {
    "duration": 14,
    "start_time": "2022-02-14T09:05:36.455Z"
   },
   {
    "duration": 22,
    "start_time": "2022-02-14T09:05:37.191Z"
   },
   {
    "duration": 20,
    "start_time": "2022-02-14T09:05:43.151Z"
   },
   {
    "duration": 24,
    "start_time": "2022-02-14T09:05:44.057Z"
   },
   {
    "duration": 108,
    "start_time": "2022-02-14T09:06:05.326Z"
   },
   {
    "duration": 132,
    "start_time": "2022-02-14T09:06:08.542Z"
   },
   {
    "duration": 18,
    "start_time": "2022-02-14T09:06:10.526Z"
   },
   {
    "duration": 140,
    "start_time": "2022-02-14T09:06:14.989Z"
   },
   {
    "duration": 20,
    "start_time": "2022-02-14T09:06:15.670Z"
   },
   {
    "duration": 96,
    "start_time": "2022-02-14T09:06:20.813Z"
   },
   {
    "duration": 5,
    "start_time": "2022-02-14T09:06:21.479Z"
   },
   {
    "duration": 15,
    "start_time": "2022-02-14T09:06:21.975Z"
   },
   {
    "duration": 175,
    "start_time": "2022-02-14T09:06:25.062Z"
   },
   {
    "duration": 18,
    "start_time": "2022-02-14T09:06:25.494Z"
   },
   {
    "duration": 6,
    "start_time": "2022-02-14T09:06:28.381Z"
   },
   {
    "duration": 20,
    "start_time": "2022-02-14T09:06:31.597Z"
   },
   {
    "duration": 24,
    "start_time": "2022-02-14T09:06:32.253Z"
   },
   {
    "duration": 1136,
    "start_time": "2022-02-14T09:06:38.205Z"
   },
   {
    "duration": 6,
    "start_time": "2022-02-14T09:08:02.417Z"
   },
   {
    "duration": 9,
    "start_time": "2022-02-14T09:08:03.417Z"
   },
   {
    "duration": 10,
    "start_time": "2022-02-14T09:08:06.209Z"
   },
   {
    "duration": 24,
    "start_time": "2022-02-14T09:08:07.554Z"
   },
   {
    "duration": 251,
    "start_time": "2022-02-14T09:09:49.588Z"
   },
   {
    "duration": 7,
    "start_time": "2022-02-14T09:10:07.284Z"
   },
   {
    "duration": 8,
    "start_time": "2022-02-14T09:10:17.805Z"
   },
   {
    "duration": 6,
    "start_time": "2022-02-14T09:10:25.181Z"
   },
   {
    "duration": 20,
    "start_time": "2022-02-14T09:10:41.123Z"
   },
   {
    "duration": 26,
    "start_time": "2022-02-14T09:10:41.547Z"
   },
   {
    "duration": 7,
    "start_time": "2022-02-14T09:10:43.027Z"
   },
   {
    "duration": 19,
    "start_time": "2022-02-14T09:11:09.833Z"
   },
   {
    "duration": 10,
    "start_time": "2022-02-14T09:11:17.106Z"
   },
   {
    "duration": 11,
    "start_time": "2022-02-14T09:14:06.251Z"
   },
   {
    "duration": 77,
    "start_time": "2022-02-14T09:18:23.886Z"
   },
   {
    "duration": 8,
    "start_time": "2022-02-14T09:18:28.856Z"
   },
   {
    "duration": 10,
    "start_time": "2022-02-14T09:18:44.514Z"
   },
   {
    "duration": 6,
    "start_time": "2022-02-14T09:18:55.190Z"
   },
   {
    "duration": 11,
    "start_time": "2022-02-14T09:18:55.861Z"
   },
   {
    "duration": 19,
    "start_time": "2022-02-14T09:19:06.042Z"
   },
   {
    "duration": 4,
    "start_time": "2022-02-14T09:19:17.572Z"
   },
   {
    "duration": 3073,
    "start_time": "2022-02-14T09:19:18.357Z"
   },
   {
    "duration": 9,
    "start_time": "2022-02-14T09:19:24.766Z"
   },
   {
    "duration": 23,
    "start_time": "2022-02-14T09:19:31.077Z"
   },
   {
    "duration": 26,
    "start_time": "2022-02-14T09:19:31.334Z"
   },
   {
    "duration": 10,
    "start_time": "2022-02-14T09:19:33.096Z"
   },
   {
    "duration": 8,
    "start_time": "2022-02-14T09:19:55.524Z"
   },
   {
    "duration": 6,
    "start_time": "2022-02-14T09:21:17.681Z"
   },
   {
    "duration": 22,
    "start_time": "2022-02-14T09:21:19.441Z"
   },
   {
    "duration": 8,
    "start_time": "2022-02-14T09:22:05.678Z"
   },
   {
    "duration": 6,
    "start_time": "2022-02-14T09:22:06.871Z"
   },
   {
    "duration": 7,
    "start_time": "2022-02-14T09:22:09.214Z"
   },
   {
    "duration": 8,
    "start_time": "2022-02-14T09:22:12.341Z"
   },
   {
    "duration": 5,
    "start_time": "2022-02-14T09:22:17.125Z"
   },
   {
    "duration": 20,
    "start_time": "2022-02-14T09:22:17.671Z"
   },
   {
    "duration": 25,
    "start_time": "2022-02-14T09:22:17.831Z"
   },
   {
    "duration": 11,
    "start_time": "2022-02-14T09:22:19.342Z"
   },
   {
    "duration": 6,
    "start_time": "2022-02-14T09:22:20.084Z"
   },
   {
    "duration": 9,
    "start_time": "2022-02-14T09:22:22.934Z"
   },
   {
    "duration": 6,
    "start_time": "2022-02-14T09:23:35.493Z"
   },
   {
    "duration": 955,
    "start_time": "2022-02-14T09:23:37.020Z"
   },
   {
    "duration": 29,
    "start_time": "2022-02-14T09:23:37.978Z"
   },
   {
    "duration": 28,
    "start_time": "2022-02-14T09:23:38.011Z"
   },
   {
    "duration": 19,
    "start_time": "2022-02-14T09:23:38.041Z"
   },
   {
    "duration": 8,
    "start_time": "2022-02-14T09:23:38.063Z"
   },
   {
    "duration": 10,
    "start_time": "2022-02-14T09:23:38.074Z"
   },
   {
    "duration": 257,
    "start_time": "2022-02-14T09:23:38.368Z"
   },
   {
    "duration": 135,
    "start_time": "2022-02-14T09:23:38.636Z"
   },
   {
    "duration": 21,
    "start_time": "2022-02-14T09:23:39.747Z"
   },
   {
    "duration": 148,
    "start_time": "2022-02-14T09:23:40.828Z"
   },
   {
    "duration": 23,
    "start_time": "2022-02-14T09:23:40.978Z"
   },
   {
    "duration": 132,
    "start_time": "2022-02-14T09:23:41.007Z"
   },
   {
    "duration": 6,
    "start_time": "2022-02-14T09:23:41.142Z"
   },
   {
    "duration": 17,
    "start_time": "2022-02-14T09:23:41.160Z"
   },
   {
    "duration": 176,
    "start_time": "2022-02-14T09:23:41.289Z"
   },
   {
    "duration": 21,
    "start_time": "2022-02-14T09:23:41.468Z"
   },
   {
    "duration": 10,
    "start_time": "2022-02-14T09:23:41.492Z"
   },
   {
    "duration": 21,
    "start_time": "2022-02-14T09:23:42.432Z"
   },
   {
    "duration": 32,
    "start_time": "2022-02-14T09:23:42.494Z"
   },
   {
    "duration": 12,
    "start_time": "2022-02-14T09:23:42.694Z"
   },
   {
    "duration": 6,
    "start_time": "2022-02-14T09:23:42.763Z"
   },
   {
    "duration": 8,
    "start_time": "2022-02-14T09:23:43.851Z"
   },
   {
    "duration": 10,
    "start_time": "2022-02-14T09:23:47.538Z"
   },
   {
    "duration": 22,
    "start_time": "2022-02-14T09:23:49.371Z"
   },
   {
    "duration": 12,
    "start_time": "2022-02-14T09:23:54.331Z"
   },
   {
    "duration": 7,
    "start_time": "2022-02-14T09:23:55.199Z"
   },
   {
    "duration": 15,
    "start_time": "2022-02-14T09:23:55.500Z"
   },
   {
    "duration": 6,
    "start_time": "2022-02-14T09:23:57.620Z"
   },
   {
    "duration": 6,
    "start_time": "2022-02-14T09:23:58.244Z"
   },
   {
    "duration": 7,
    "start_time": "2022-02-14T09:23:58.443Z"
   },
   {
    "duration": 5,
    "start_time": "2022-02-14T09:23:58.667Z"
   },
   {
    "duration": 901,
    "start_time": "2022-02-14T09:23:59.106Z"
   },
   {
    "duration": 8,
    "start_time": "2022-02-14T09:24:00.010Z"
   },
   {
    "duration": 11,
    "start_time": "2022-02-14T09:24:00.636Z"
   },
   {
    "duration": 6,
    "start_time": "2022-02-14T09:27:04.923Z"
   },
   {
    "duration": 13,
    "start_time": "2022-02-14T09:27:05.531Z"
   },
   {
    "duration": 10,
    "start_time": "2022-02-14T09:27:06.395Z"
   },
   {
    "duration": 9,
    "start_time": "2022-02-14T09:27:09.177Z"
   },
   {
    "duration": 6,
    "start_time": "2022-02-14T09:27:13.866Z"
   },
   {
    "duration": 12,
    "start_time": "2022-02-14T09:27:14.794Z"
   },
   {
    "duration": 530,
    "start_time": "2022-02-14T09:27:26.154Z"
   },
   {
    "duration": 7,
    "start_time": "2022-02-14T09:27:28.795Z"
   },
   {
    "duration": 617,
    "start_time": "2022-02-14T09:27:33.026Z"
   },
   {
    "duration": 605,
    "start_time": "2022-02-14T09:27:42.330Z"
   },
   {
    "duration": 558,
    "start_time": "2022-02-14T09:27:47.722Z"
   },
   {
    "duration": 525,
    "start_time": "2022-02-14T09:27:50.074Z"
   },
   {
    "duration": 7,
    "start_time": "2022-02-14T09:30:42.930Z"
   },
   {
    "duration": 5,
    "start_time": "2022-02-14T09:30:58.075Z"
   },
   {
    "duration": 5,
    "start_time": "2022-02-14T09:31:07.742Z"
   },
   {
    "duration": 241,
    "start_time": "2022-02-14T09:31:31.633Z"
   },
   {
    "duration": 4,
    "start_time": "2022-02-14T09:32:37.190Z"
   },
   {
    "duration": 5,
    "start_time": "2022-02-14T09:32:40.134Z"
   },
   {
    "duration": 7,
    "start_time": "2022-02-14T09:32:42.398Z"
   },
   {
    "duration": 4,
    "start_time": "2022-02-14T09:36:41.121Z"
   },
   {
    "duration": 4,
    "start_time": "2022-02-14T09:36:41.762Z"
   },
   {
    "duration": 6,
    "start_time": "2022-02-14T09:36:43.866Z"
   },
   {
    "duration": 5,
    "start_time": "2022-02-14T09:36:44.747Z"
   },
   {
    "duration": 5,
    "start_time": "2022-02-14T09:36:50.787Z"
   },
   {
    "duration": 1507,
    "start_time": "2022-02-14T09:38:44.978Z"
   },
   {
    "duration": 919,
    "start_time": "2022-02-14T09:38:46.488Z"
   },
   {
    "duration": 32,
    "start_time": "2022-02-14T09:38:47.410Z"
   },
   {
    "duration": 22,
    "start_time": "2022-02-14T09:38:47.445Z"
   },
   {
    "duration": 19,
    "start_time": "2022-02-14T09:38:47.469Z"
   },
   {
    "duration": 9,
    "start_time": "2022-02-14T09:38:47.490Z"
   },
   {
    "duration": 9,
    "start_time": "2022-02-14T09:38:47.532Z"
   },
   {
    "duration": 278,
    "start_time": "2022-02-14T09:38:47.545Z"
   },
   {
    "duration": 144,
    "start_time": "2022-02-14T09:38:47.826Z"
   },
   {
    "duration": 23,
    "start_time": "2022-02-14T09:38:47.973Z"
   },
   {
    "duration": 165,
    "start_time": "2022-02-14T09:38:47.998Z"
   },
   {
    "duration": 20,
    "start_time": "2022-02-14T09:38:48.166Z"
   },
   {
    "duration": 117,
    "start_time": "2022-02-14T09:38:48.189Z"
   },
   {
    "duration": 6,
    "start_time": "2022-02-14T09:38:48.308Z"
   },
   {
    "duration": 27,
    "start_time": "2022-02-14T09:38:48.316Z"
   },
   {
    "duration": 184,
    "start_time": "2022-02-14T09:38:48.345Z"
   },
   {
    "duration": 16,
    "start_time": "2022-02-14T09:38:48.533Z"
   },
   {
    "duration": 6,
    "start_time": "2022-02-14T09:38:48.552Z"
   },
   {
    "duration": 20,
    "start_time": "2022-02-14T09:38:48.560Z"
   },
   {
    "duration": 52,
    "start_time": "2022-02-14T09:38:48.582Z"
   },
   {
    "duration": 11,
    "start_time": "2022-02-14T09:38:48.636Z"
   },
   {
    "duration": 6,
    "start_time": "2022-02-14T09:38:48.649Z"
   },
   {
    "duration": 12,
    "start_time": "2022-02-14T09:38:48.660Z"
   },
   {
    "duration": 8,
    "start_time": "2022-02-14T09:38:48.675Z"
   },
   {
    "duration": 66,
    "start_time": "2022-02-14T09:38:48.686Z"
   },
   {
    "duration": 10,
    "start_time": "2022-02-14T09:38:48.755Z"
   },
   {
    "duration": 8,
    "start_time": "2022-02-14T09:38:48.767Z"
   },
   {
    "duration": 14,
    "start_time": "2022-02-14T09:38:48.778Z"
   },
   {
    "duration": 5,
    "start_time": "2022-02-14T09:38:48.794Z"
   },
   {
    "duration": 35,
    "start_time": "2022-02-14T09:38:48.801Z"
   },
   {
    "duration": 6,
    "start_time": "2022-02-14T09:38:48.838Z"
   },
   {
    "duration": 5,
    "start_time": "2022-02-14T09:38:48.846Z"
   },
   {
    "duration": 685,
    "start_time": "2022-02-14T09:38:48.853Z"
   },
   {
    "duration": 7,
    "start_time": "2022-02-14T09:38:49.540Z"
   },
   {
    "duration": 13,
    "start_time": "2022-02-14T09:38:49.549Z"
   },
   {
    "duration": 6,
    "start_time": "2022-02-14T09:38:49.565Z"
   },
   {
    "duration": 13,
    "start_time": "2022-02-14T09:38:49.573Z"
   },
   {
    "duration": 44,
    "start_time": "2022-02-14T09:38:49.588Z"
   },
   {
    "duration": 7,
    "start_time": "2022-02-14T09:38:49.635Z"
   },
   {
    "duration": 12,
    "start_time": "2022-02-14T09:38:49.645Z"
   },
   {
    "duration": 14,
    "start_time": "2022-02-14T09:38:49.660Z"
   },
   {
    "duration": 675,
    "start_time": "2022-02-14T09:38:49.677Z"
   },
   {
    "duration": 7,
    "start_time": "2022-02-14T09:38:50.355Z"
   },
   {
    "duration": 620,
    "start_time": "2022-02-14T09:38:50.364Z"
   },
   {
    "duration": 608,
    "start_time": "2022-02-14T09:38:50.987Z"
   },
   {
    "duration": 583,
    "start_time": "2022-02-14T09:38:51.597Z"
   },
   {
    "duration": 526,
    "start_time": "2022-02-14T09:38:52.182Z"
   },
   {
    "duration": 21,
    "start_time": "2022-02-14T09:38:52.711Z"
   },
   {
    "duration": 4,
    "start_time": "2022-02-14T09:38:52.734Z"
   },
   {
    "duration": 6,
    "start_time": "2022-02-14T09:38:52.740Z"
   },
   {
    "duration": 8,
    "start_time": "2022-02-14T09:38:52.749Z"
   },
   {
    "duration": 7,
    "start_time": "2022-02-14T09:38:52.759Z"
   },
   {
    "duration": 4,
    "start_time": "2022-02-14T09:38:52.769Z"
   },
   {
    "duration": 6,
    "start_time": "2022-02-14T09:38:52.775Z"
   },
   {
    "duration": 50,
    "start_time": "2022-02-14T09:38:52.783Z"
   },
   {
    "duration": 7,
    "start_time": "2022-02-14T09:38:52.835Z"
   },
   {
    "duration": 9,
    "start_time": "2022-02-14T09:38:52.844Z"
   },
   {
    "duration": 7,
    "start_time": "2022-02-14T09:38:52.856Z"
   },
   {
    "duration": 4,
    "start_time": "2022-02-14T09:53:21.478Z"
   },
   {
    "duration": 3,
    "start_time": "2022-02-14T09:53:24.485Z"
   },
   {
    "duration": 5,
    "start_time": "2022-02-14T09:53:25.010Z"
   },
   {
    "duration": 6,
    "start_time": "2022-02-14T09:53:26.197Z"
   },
   {
    "duration": 108,
    "start_time": "2022-02-14T10:00:57.244Z"
   },
   {
    "duration": 1537,
    "start_time": "2022-02-14T10:06:25.976Z"
   },
   {
    "duration": 1027,
    "start_time": "2022-02-14T10:06:27.517Z"
   },
   {
    "duration": 29,
    "start_time": "2022-02-14T10:06:28.547Z"
   },
   {
    "duration": 25,
    "start_time": "2022-02-14T10:06:28.579Z"
   },
   {
    "duration": 41,
    "start_time": "2022-02-14T10:06:28.607Z"
   },
   {
    "duration": 20,
    "start_time": "2022-02-14T10:06:28.650Z"
   },
   {
    "duration": 21,
    "start_time": "2022-02-14T10:06:28.672Z"
   },
   {
    "duration": 285,
    "start_time": "2022-02-14T10:06:28.697Z"
   },
   {
    "duration": 141,
    "start_time": "2022-02-14T10:06:28.985Z"
   },
   {
    "duration": 25,
    "start_time": "2022-02-14T10:06:29.129Z"
   },
   {
    "duration": 175,
    "start_time": "2022-02-14T10:06:29.157Z"
   },
   {
    "duration": 23,
    "start_time": "2022-02-14T10:06:29.334Z"
   },
   {
    "duration": 129,
    "start_time": "2022-02-14T10:06:29.361Z"
   },
   {
    "duration": 7,
    "start_time": "2022-02-14T10:06:29.492Z"
   },
   {
    "duration": 33,
    "start_time": "2022-02-14T10:06:29.502Z"
   },
   {
    "duration": 183,
    "start_time": "2022-02-14T10:06:29.538Z"
   },
   {
    "duration": 28,
    "start_time": "2022-02-14T10:06:29.723Z"
   },
   {
    "duration": 9,
    "start_time": "2022-02-14T10:06:29.754Z"
   },
   {
    "duration": 23,
    "start_time": "2022-02-14T10:06:29.765Z"
   },
   {
    "duration": 57,
    "start_time": "2022-02-14T10:06:29.791Z"
   },
   {
    "duration": 10,
    "start_time": "2022-02-14T10:06:29.850Z"
   },
   {
    "duration": 5,
    "start_time": "2022-02-14T10:06:29.863Z"
   },
   {
    "duration": 11,
    "start_time": "2022-02-14T10:06:29.874Z"
   },
   {
    "duration": 44,
    "start_time": "2022-02-14T10:06:29.888Z"
   },
   {
    "duration": 22,
    "start_time": "2022-02-14T10:06:29.935Z"
   },
   {
    "duration": 10,
    "start_time": "2022-02-14T10:06:29.959Z"
   },
   {
    "duration": 13,
    "start_time": "2022-02-14T10:06:29.971Z"
   },
   {
    "duration": 18,
    "start_time": "2022-02-14T10:06:29.987Z"
   },
   {
    "duration": 38,
    "start_time": "2022-02-14T10:06:30.008Z"
   },
   {
    "duration": 53,
    "start_time": "2022-02-14T10:06:30.048Z"
   },
   {
    "duration": 32,
    "start_time": "2022-02-14T10:06:30.104Z"
   },
   {
    "duration": 47,
    "start_time": "2022-02-14T10:06:30.138Z"
   },
   {
    "duration": 799,
    "start_time": "2022-02-14T10:06:30.188Z"
   },
   {
    "duration": 6,
    "start_time": "2022-02-14T10:06:30.990Z"
   },
   {
    "duration": 37,
    "start_time": "2022-02-14T10:06:30.998Z"
   },
   {
    "duration": 30,
    "start_time": "2022-02-14T10:06:31.038Z"
   },
   {
    "duration": 30,
    "start_time": "2022-02-14T10:06:31.071Z"
   },
   {
    "duration": 25,
    "start_time": "2022-02-14T10:06:31.103Z"
   },
   {
    "duration": 19,
    "start_time": "2022-02-14T10:06:31.130Z"
   },
   {
    "duration": 34,
    "start_time": "2022-02-14T10:06:31.151Z"
   },
   {
    "duration": 48,
    "start_time": "2022-02-14T10:06:31.188Z"
   },
   {
    "duration": 542,
    "start_time": "2022-02-14T10:06:31.239Z"
   },
   {
    "duration": 8,
    "start_time": "2022-02-14T10:06:31.784Z"
   },
   {
    "duration": 623,
    "start_time": "2022-02-14T10:06:31.795Z"
   },
   {
    "duration": 603,
    "start_time": "2022-02-14T10:06:32.421Z"
   },
   {
    "duration": 591,
    "start_time": "2022-02-14T10:06:33.027Z"
   },
   {
    "duration": 516,
    "start_time": "2022-02-14T10:06:33.631Z"
   },
   {
    "duration": 5,
    "start_time": "2022-02-14T10:06:34.150Z"
   },
   {
    "duration": 17,
    "start_time": "2022-02-14T10:06:34.157Z"
   },
   {
    "duration": 19,
    "start_time": "2022-02-14T10:06:34.176Z"
   },
   {
    "duration": 13,
    "start_time": "2022-02-14T10:06:34.197Z"
   },
   {
    "duration": 23,
    "start_time": "2022-02-14T10:06:34.212Z"
   },
   {
    "duration": 12,
    "start_time": "2022-02-14T10:06:34.238Z"
   },
   {
    "duration": 13,
    "start_time": "2022-02-14T10:06:34.252Z"
   },
   {
    "duration": 22,
    "start_time": "2022-02-14T10:06:34.268Z"
   },
   {
    "duration": 16,
    "start_time": "2022-02-14T10:06:34.292Z"
   },
   {
    "duration": 17,
    "start_time": "2022-02-14T10:06:34.310Z"
   },
   {
    "duration": 16,
    "start_time": "2022-02-14T10:06:34.329Z"
   },
   {
    "duration": 292,
    "start_time": "2022-02-14T19:29:24.401Z"
   },
   {
    "duration": 1302,
    "start_time": "2022-02-14T19:29:33.951Z"
   },
   {
    "duration": 1197,
    "start_time": "2022-02-14T19:29:35.255Z"
   },
   {
    "duration": 23,
    "start_time": "2022-02-14T19:29:36.454Z"
   },
   {
    "duration": 18,
    "start_time": "2022-02-14T19:29:36.518Z"
   },
   {
    "duration": 14,
    "start_time": "2022-02-14T19:29:36.538Z"
   },
   {
    "duration": 10,
    "start_time": "2022-02-14T19:29:36.554Z"
   },
   {
    "duration": 60,
    "start_time": "2022-02-14T19:29:36.565Z"
   },
   {
    "duration": 278,
    "start_time": "2022-02-14T19:29:36.627Z"
   },
   {
    "duration": 92,
    "start_time": "2022-02-14T19:29:36.908Z"
   },
   {
    "duration": 26,
    "start_time": "2022-02-14T19:29:37.003Z"
   },
   {
    "duration": 159,
    "start_time": "2022-02-14T19:29:37.031Z"
   },
   {
    "duration": 15,
    "start_time": "2022-02-14T19:29:37.192Z"
   },
   {
    "duration": 81,
    "start_time": "2022-02-14T19:29:37.208Z"
   },
   {
    "duration": 4,
    "start_time": "2022-02-14T19:29:37.291Z"
   },
   {
    "duration": 25,
    "start_time": "2022-02-14T19:29:37.296Z"
   },
   {
    "duration": 143,
    "start_time": "2022-02-14T19:29:37.323Z"
   },
   {
    "duration": 13,
    "start_time": "2022-02-14T19:29:37.468Z"
   },
   {
    "duration": 10,
    "start_time": "2022-02-14T19:29:37.483Z"
   },
   {
    "duration": 31,
    "start_time": "2022-02-14T19:29:37.495Z"
   },
   {
    "duration": 18,
    "start_time": "2022-02-14T19:29:37.528Z"
   },
   {
    "duration": 356,
    "start_time": "2022-02-14T19:29:37.548Z"
   },
   {
    "duration": -1551,
    "start_time": "2022-02-14T19:29:39.458Z"
   },
   {
    "duration": -1552,
    "start_time": "2022-02-14T19:29:39.461Z"
   },
   {
    "duration": -1555,
    "start_time": "2022-02-14T19:29:39.465Z"
   },
   {
    "duration": -1560,
    "start_time": "2022-02-14T19:29:39.471Z"
   },
   {
    "duration": -1562,
    "start_time": "2022-02-14T19:29:39.474Z"
   },
   {
    "duration": -1565,
    "start_time": "2022-02-14T19:29:39.478Z"
   },
   {
    "duration": -1568,
    "start_time": "2022-02-14T19:29:39.482Z"
   },
   {
    "duration": -1575,
    "start_time": "2022-02-14T19:29:39.490Z"
   },
   {
    "duration": -1577,
    "start_time": "2022-02-14T19:29:39.494Z"
   },
   {
    "duration": -1581,
    "start_time": "2022-02-14T19:29:39.499Z"
   },
   {
    "duration": -1586,
    "start_time": "2022-02-14T19:29:39.505Z"
   },
   {
    "duration": -1589,
    "start_time": "2022-02-14T19:29:39.509Z"
   },
   {
    "duration": -1589,
    "start_time": "2022-02-14T19:29:39.511Z"
   },
   {
    "duration": -1592,
    "start_time": "2022-02-14T19:29:39.515Z"
   },
   {
    "duration": -1597,
    "start_time": "2022-02-14T19:29:39.521Z"
   },
   {
    "duration": -1598,
    "start_time": "2022-02-14T19:29:39.524Z"
   },
   {
    "duration": -1599,
    "start_time": "2022-02-14T19:29:39.527Z"
   },
   {
    "duration": -1602,
    "start_time": "2022-02-14T19:29:39.531Z"
   },
   {
    "duration": -1606,
    "start_time": "2022-02-14T19:29:39.536Z"
   },
   {
    "duration": -1609,
    "start_time": "2022-02-14T19:29:39.540Z"
   },
   {
    "duration": -1610,
    "start_time": "2022-02-14T19:29:39.542Z"
   },
   {
    "duration": -1612,
    "start_time": "2022-02-14T19:29:39.546Z"
   },
   {
    "duration": -1617,
    "start_time": "2022-02-14T19:29:39.552Z"
   },
   {
    "duration": -1619,
    "start_time": "2022-02-14T19:29:39.555Z"
   },
   {
    "duration": -1621,
    "start_time": "2022-02-14T19:29:39.558Z"
   },
   {
    "duration": -1624,
    "start_time": "2022-02-14T19:29:39.562Z"
   },
   {
    "duration": -1638,
    "start_time": "2022-02-14T19:29:39.577Z"
   },
   {
    "duration": -1641,
    "start_time": "2022-02-14T19:29:39.581Z"
   },
   {
    "duration": -1646,
    "start_time": "2022-02-14T19:29:39.587Z"
   },
   {
    "duration": -1649,
    "start_time": "2022-02-14T19:29:39.591Z"
   },
   {
    "duration": -1651,
    "start_time": "2022-02-14T19:29:39.594Z"
   },
   {
    "duration": -1653,
    "start_time": "2022-02-14T19:29:39.597Z"
   },
   {
    "duration": -1659,
    "start_time": "2022-02-14T19:29:39.603Z"
   },
   {
    "duration": -1660,
    "start_time": "2022-02-14T19:29:39.607Z"
   },
   {
    "duration": -1662,
    "start_time": "2022-02-14T19:29:39.610Z"
   },
   {
    "duration": -1664,
    "start_time": "2022-02-14T19:29:39.614Z"
   },
   {
    "duration": -1668,
    "start_time": "2022-02-14T19:29:39.619Z"
   },
   {
    "duration": -1671,
    "start_time": "2022-02-14T19:29:39.623Z"
   },
   {
    "duration": 3,
    "start_time": "2022-02-14T19:29:53.815Z"
   },
   {
    "duration": 5,
    "start_time": "2022-02-14T19:30:05.660Z"
   },
   {
    "duration": 13,
    "start_time": "2022-02-14T19:30:51.299Z"
   },
   {
    "duration": 257,
    "start_time": "2022-02-14T19:31:11.132Z"
   },
   {
    "duration": 8,
    "start_time": "2022-02-14T19:31:28.881Z"
   },
   {
    "duration": 20,
    "start_time": "2022-02-14T19:33:20.333Z"
   },
   {
    "duration": 13,
    "start_time": "2022-02-14T19:34:34.915Z"
   },
   {
    "duration": 31,
    "start_time": "2022-02-14T19:35:03.297Z"
   },
   {
    "duration": 20,
    "start_time": "2022-02-14T19:35:12.890Z"
   },
   {
    "duration": 18,
    "start_time": "2022-02-14T19:36:03.341Z"
   },
   {
    "duration": 29,
    "start_time": "2022-02-14T19:37:04.381Z"
   },
   {
    "duration": 265,
    "start_time": "2022-02-14T19:37:35.715Z"
   },
   {
    "duration": 17,
    "start_time": "2022-02-14T19:38:00.830Z"
   },
   {
    "duration": 29,
    "start_time": "2022-02-14T19:38:07.020Z"
   },
   {
    "duration": 16,
    "start_time": "2022-02-14T19:38:59.465Z"
   },
   {
    "duration": 21,
    "start_time": "2022-02-14T19:39:08.945Z"
   },
   {
    "duration": 6,
    "start_time": "2022-02-14T19:39:45.149Z"
   },
   {
    "duration": 5,
    "start_time": "2022-02-14T19:39:51.335Z"
   },
   {
    "duration": 6,
    "start_time": "2022-02-14T19:39:59.590Z"
   },
   {
    "duration": 5,
    "start_time": "2022-02-14T19:40:05.774Z"
   },
   {
    "duration": 9,
    "start_time": "2022-02-14T19:40:31.389Z"
   },
   {
    "duration": 255,
    "start_time": "2022-02-14T19:40:36.035Z"
   },
   {
    "duration": 20,
    "start_time": "2022-02-14T19:40:55.341Z"
   },
   {
    "duration": 12,
    "start_time": "2022-02-14T19:41:16.020Z"
   },
   {
    "duration": 128,
    "start_time": "2022-02-14T19:43:14.383Z"
   },
   {
    "duration": 79,
    "start_time": "2022-02-14T19:43:54.572Z"
   },
   {
    "duration": 137,
    "start_time": "2022-02-14T19:44:05.301Z"
   },
   {
    "duration": 12,
    "start_time": "2022-02-14T19:44:07.131Z"
   },
   {
    "duration": 19,
    "start_time": "2022-02-14T19:45:33.054Z"
   },
   {
    "duration": 132,
    "start_time": "2022-02-14T19:46:44.277Z"
   },
   {
    "duration": 145,
    "start_time": "2022-02-14T19:46:49.446Z"
   },
   {
    "duration": 119,
    "start_time": "2022-02-14T19:46:58.822Z"
   },
   {
    "duration": 15,
    "start_time": "2022-02-14T19:46:59.806Z"
   },
   {
    "duration": 129,
    "start_time": "2022-02-14T19:47:54.338Z"
   },
   {
    "duration": 13,
    "start_time": "2022-02-14T19:47:56.162Z"
   },
   {
    "duration": 35,
    "start_time": "2022-02-14T19:48:08.084Z"
   },
   {
    "duration": 80,
    "start_time": "2022-02-14T19:48:20.970Z"
   },
   {
    "duration": 36,
    "start_time": "2022-02-14T19:48:25.739Z"
   },
   {
    "duration": 25,
    "start_time": "2022-02-14T19:49:30.760Z"
   },
   {
    "duration": 296,
    "start_time": "2022-02-14T19:50:08.932Z"
   },
   {
    "duration": 18,
    "start_time": "2022-02-14T19:50:14.195Z"
   },
   {
    "duration": 26,
    "start_time": "2022-02-14T19:51:00.739Z"
   },
   {
    "duration": 193,
    "start_time": "2022-02-14T19:52:38.311Z"
   },
   {
    "duration": 10,
    "start_time": "2022-02-14T19:52:46.173Z"
   },
   {
    "duration": 12,
    "start_time": "2022-02-14T19:52:58.587Z"
   },
   {
    "duration": 23,
    "start_time": "2022-02-14T19:54:17.570Z"
   },
   {
    "duration": 10,
    "start_time": "2022-02-14T19:54:36.434Z"
   },
   {
    "duration": 21,
    "start_time": "2022-02-14T19:55:13.942Z"
   },
   {
    "duration": 25,
    "start_time": "2022-02-14T19:56:03.917Z"
   },
   {
    "duration": 5,
    "start_time": "2022-02-14T19:56:11.011Z"
   },
   {
    "duration": 9,
    "start_time": "2022-02-14T19:56:39.763Z"
   },
   {
    "duration": 15,
    "start_time": "2022-02-14T19:56:47.290Z"
   },
   {
    "duration": 8,
    "start_time": "2022-02-14T19:58:05.960Z"
   },
   {
    "duration": 15,
    "start_time": "2022-02-14T19:58:06.890Z"
   },
   {
    "duration": 9,
    "start_time": "2022-02-14T19:58:26.154Z"
   },
   {
    "duration": 17,
    "start_time": "2022-02-14T19:58:26.575Z"
   },
   {
    "duration": 8,
    "start_time": "2022-02-14T19:58:36.295Z"
   },
   {
    "duration": 16,
    "start_time": "2022-02-14T19:58:36.776Z"
   },
   {
    "duration": 1256,
    "start_time": "2022-02-14T19:58:45.614Z"
   },
   {
    "duration": 797,
    "start_time": "2022-02-14T19:58:46.872Z"
   },
   {
    "duration": 22,
    "start_time": "2022-02-14T19:58:47.673Z"
   },
   {
    "duration": 17,
    "start_time": "2022-02-14T19:58:47.697Z"
   },
   {
    "duration": 15,
    "start_time": "2022-02-14T19:58:47.716Z"
   },
   {
    "duration": 6,
    "start_time": "2022-02-14T19:58:47.733Z"
   },
   {
    "duration": 16,
    "start_time": "2022-02-14T19:58:47.742Z"
   },
   {
    "duration": 314,
    "start_time": "2022-02-14T19:58:47.760Z"
   },
   {
    "duration": 168,
    "start_time": "2022-02-14T19:58:48.076Z"
   },
   {
    "duration": 21,
    "start_time": "2022-02-14T19:58:48.247Z"
   },
   {
    "duration": 154,
    "start_time": "2022-02-14T19:58:48.270Z"
   },
   {
    "duration": 20,
    "start_time": "2022-02-14T19:58:48.426Z"
   },
   {
    "duration": 110,
    "start_time": "2022-02-14T19:58:48.448Z"
   },
   {
    "duration": 5,
    "start_time": "2022-02-14T19:58:48.560Z"
   },
   {
    "duration": 15,
    "start_time": "2022-02-14T19:58:48.567Z"
   },
   {
    "duration": 205,
    "start_time": "2022-02-14T19:58:48.584Z"
   },
   {
    "duration": 27,
    "start_time": "2022-02-14T19:58:48.791Z"
   },
   {
    "duration": 5,
    "start_time": "2022-02-14T19:58:48.820Z"
   },
   {
    "duration": 19,
    "start_time": "2022-02-14T19:58:48.826Z"
   },
   {
    "duration": 18,
    "start_time": "2022-02-14T19:58:48.847Z"
   },
   {
    "duration": 17,
    "start_time": "2022-02-14T19:58:48.867Z"
   },
   {
    "duration": 45,
    "start_time": "2022-02-14T19:58:48.888Z"
   },
   {
    "duration": 35,
    "start_time": "2022-02-14T19:58:48.937Z"
   },
   {
    "duration": 19,
    "start_time": "2022-02-14T19:58:48.974Z"
   },
   {
    "duration": 5,
    "start_time": "2022-02-14T19:58:49.019Z"
   },
   {
    "duration": 12,
    "start_time": "2022-02-14T19:58:49.025Z"
   },
   {
    "duration": 10,
    "start_time": "2022-02-14T19:58:49.038Z"
   },
   {
    "duration": 7,
    "start_time": "2022-02-14T19:58:49.050Z"
   },
   {
    "duration": 15,
    "start_time": "2022-02-14T19:58:49.058Z"
   },
   {
    "duration": 45,
    "start_time": "2022-02-14T19:58:49.075Z"
   },
   {
    "duration": 8,
    "start_time": "2022-02-14T19:58:49.121Z"
   },
   {
    "duration": 9,
    "start_time": "2022-02-14T19:58:49.130Z"
   },
   {
    "duration": 13,
    "start_time": "2022-02-14T19:58:49.141Z"
   },
   {
    "duration": 9,
    "start_time": "2022-02-14T19:58:49.155Z"
   },
   {
    "duration": 18,
    "start_time": "2022-02-14T19:58:49.166Z"
   },
   {
    "duration": 7,
    "start_time": "2022-02-14T19:58:49.186Z"
   },
   {
    "duration": 23,
    "start_time": "2022-02-14T19:58:49.195Z"
   },
   {
    "duration": 7,
    "start_time": "2022-02-14T19:58:49.220Z"
   },
   {
    "duration": 14,
    "start_time": "2022-02-14T19:58:49.229Z"
   },
   {
    "duration": 13,
    "start_time": "2022-02-14T19:58:49.244Z"
   },
   {
    "duration": 10,
    "start_time": "2022-02-14T19:58:49.259Z"
   },
   {
    "duration": 6,
    "start_time": "2022-02-14T19:58:49.272Z"
   },
   {
    "duration": 408,
    "start_time": "2022-02-14T19:58:49.280Z"
   },
   {
    "duration": 5,
    "start_time": "2022-02-14T19:58:49.690Z"
   },
   {
    "duration": 22,
    "start_time": "2022-02-14T19:58:49.696Z"
   },
   {
    "duration": 6,
    "start_time": "2022-02-14T19:58:49.720Z"
   },
   {
    "duration": 11,
    "start_time": "2022-02-14T19:58:49.728Z"
   },
   {
    "duration": 7,
    "start_time": "2022-02-14T19:58:49.740Z"
   },
   {
    "duration": 13,
    "start_time": "2022-02-14T19:58:49.748Z"
   },
   {
    "duration": 10,
    "start_time": "2022-02-14T19:58:49.763Z"
   },
   {
    "duration": 9,
    "start_time": "2022-02-14T19:58:49.774Z"
   },
   {
    "duration": 355,
    "start_time": "2022-02-14T19:58:49.785Z"
   },
   {
    "duration": 6,
    "start_time": "2022-02-14T19:58:50.141Z"
   },
   {
    "duration": 382,
    "start_time": "2022-02-14T19:58:50.149Z"
   },
   {
    "duration": 373,
    "start_time": "2022-02-14T19:58:50.533Z"
   },
   {
    "duration": 370,
    "start_time": "2022-02-14T19:58:50.908Z"
   },
   {
    "duration": 339,
    "start_time": "2022-02-14T19:58:51.280Z"
   },
   {
    "duration": 4,
    "start_time": "2022-02-14T19:58:51.620Z"
   },
   {
    "duration": 21,
    "start_time": "2022-02-14T19:58:51.626Z"
   },
   {
    "duration": 5,
    "start_time": "2022-02-14T19:58:51.649Z"
   },
   {
    "duration": 17,
    "start_time": "2022-02-14T19:58:51.656Z"
   },
   {
    "duration": 14,
    "start_time": "2022-02-14T19:58:51.675Z"
   },
   {
    "duration": 8,
    "start_time": "2022-02-14T19:58:51.691Z"
   },
   {
    "duration": 15,
    "start_time": "2022-02-14T19:58:51.701Z"
   },
   {
    "duration": 14,
    "start_time": "2022-02-14T19:58:51.718Z"
   },
   {
    "duration": 12,
    "start_time": "2022-02-14T19:58:51.734Z"
   },
   {
    "duration": 13,
    "start_time": "2022-02-14T19:58:51.750Z"
   },
   {
    "duration": 20,
    "start_time": "2022-02-14T19:58:51.764Z"
   },
   {
    "duration": 12,
    "start_time": "2022-02-14T19:59:54.499Z"
   },
   {
    "duration": 18,
    "start_time": "2022-02-14T19:59:54.902Z"
   },
   {
    "duration": 5,
    "start_time": "2022-02-14T20:00:22.756Z"
   },
   {
    "duration": 10,
    "start_time": "2022-02-14T20:00:22.956Z"
   },
   {
    "duration": 7,
    "start_time": "2022-02-14T20:00:23.196Z"
   },
   {
    "duration": 10,
    "start_time": "2022-02-14T20:00:23.971Z"
   },
   {
    "duration": 16,
    "start_time": "2022-02-14T20:00:24.438Z"
   },
   {
    "duration": 30,
    "start_time": "2022-02-14T20:01:52.847Z"
   },
   {
    "duration": 12,
    "start_time": "2022-02-14T20:02:04.269Z"
   },
   {
    "duration": 175,
    "start_time": "2022-02-14T20:02:04.470Z"
   },
   {
    "duration": 29,
    "start_time": "2022-02-14T20:02:04.648Z"
   },
   {
    "duration": 18,
    "start_time": "2022-02-14T20:02:04.811Z"
   },
   {
    "duration": 19,
    "start_time": "2022-02-14T20:02:05.272Z"
   },
   {
    "duration": 22,
    "start_time": "2022-02-14T20:02:16.711Z"
   },
   {
    "duration": 9,
    "start_time": "2022-02-14T20:02:20.272Z"
   },
   {
    "duration": 1364,
    "start_time": "2022-02-14T20:02:35.118Z"
   },
   {
    "duration": 263,
    "start_time": "2022-02-14T20:03:19.213Z"
   },
   {
    "duration": 17,
    "start_time": "2022-02-14T20:04:12.400Z"
   },
   {
    "duration": 259,
    "start_time": "2022-02-14T20:04:52.513Z"
   },
   {
    "duration": 5,
    "start_time": "2022-02-14T20:04:57.064Z"
   },
   {
    "duration": 15,
    "start_time": "2022-02-14T20:05:05.423Z"
   },
   {
    "duration": 8,
    "start_time": "2022-02-14T20:05:18.088Z"
   },
   {
    "duration": 21,
    "start_time": "2022-02-14T20:05:18.591Z"
   },
   {
    "duration": 7,
    "start_time": "2022-02-14T20:05:22.551Z"
   },
   {
    "duration": 8,
    "start_time": "2022-02-14T20:05:26.991Z"
   },
   {
    "duration": 8,
    "start_time": "2022-02-14T20:05:29.487Z"
   },
   {
    "duration": 17,
    "start_time": "2022-02-14T20:05:31.271Z"
   },
   {
    "duration": 12,
    "start_time": "2022-02-14T20:05:40.053Z"
   },
   {
    "duration": 6749,
    "start_time": "2022-02-14T20:05:40.614Z"
   },
   {
    "duration": -1644,
    "start_time": "2022-02-14T20:05:49.010Z"
   },
   {
    "duration": -1647,
    "start_time": "2022-02-14T20:05:49.014Z"
   },
   {
    "duration": -1650,
    "start_time": "2022-02-14T20:05:49.018Z"
   },
   {
    "duration": -1661,
    "start_time": "2022-02-14T20:05:49.030Z"
   },
   {
    "duration": -1664,
    "start_time": "2022-02-14T20:05:49.035Z"
   },
   {
    "duration": -1670,
    "start_time": "2022-02-14T20:05:49.042Z"
   },
   {
    "duration": -1673,
    "start_time": "2022-02-14T20:05:49.046Z"
   },
   {
    "duration": -1676,
    "start_time": "2022-02-14T20:05:49.051Z"
   },
   {
    "duration": -1681,
    "start_time": "2022-02-14T20:05:49.057Z"
   },
   {
    "duration": -1684,
    "start_time": "2022-02-14T20:05:49.061Z"
   },
   {
    "duration": -1686,
    "start_time": "2022-02-14T20:05:49.065Z"
   },
   {
    "duration": -1691,
    "start_time": "2022-02-14T20:05:49.072Z"
   },
   {
    "duration": -1694,
    "start_time": "2022-02-14T20:05:49.076Z"
   },
   {
    "duration": -1696,
    "start_time": "2022-02-14T20:05:49.079Z"
   },
   {
    "duration": -1699,
    "start_time": "2022-02-14T20:05:49.084Z"
   },
   {
    "duration": -1704,
    "start_time": "2022-02-14T20:05:49.090Z"
   },
   {
    "duration": -1706,
    "start_time": "2022-02-14T20:05:49.093Z"
   },
   {
    "duration": 386,
    "start_time": "2022-02-14T20:05:48.683Z"
   },
   {
    "duration": 359,
    "start_time": "2022-02-14T20:05:52.105Z"
   },
   {
    "duration": 341,
    "start_time": "2022-02-14T20:05:54.639Z"
   },
   {
    "duration": 5,
    "start_time": "2022-02-14T20:05:58.231Z"
   },
   {
    "duration": 3,
    "start_time": "2022-02-14T20:06:01.229Z"
   },
   {
    "duration": 3,
    "start_time": "2022-02-14T20:06:03.429Z"
   },
   {
    "duration": 5,
    "start_time": "2022-02-14T20:06:03.867Z"
   },
   {
    "duration": 4,
    "start_time": "2022-02-14T20:06:05.549Z"
   },
   {
    "duration": 4,
    "start_time": "2022-02-14T20:06:10.876Z"
   },
   {
    "duration": 2,
    "start_time": "2022-02-14T20:06:11.099Z"
   },
   {
    "duration": 5,
    "start_time": "2022-02-14T20:06:11.467Z"
   },
   {
    "duration": 4,
    "start_time": "2022-02-14T20:06:11.684Z"
   },
   {
    "duration": 6,
    "start_time": "2022-02-14T20:06:13.668Z"
   },
   {
    "duration": 6,
    "start_time": "2022-02-14T20:06:14.492Z"
   },
   {
    "duration": 6514,
    "start_time": "2022-02-14T20:07:54.553Z"
   },
   {
    "duration": 8,
    "start_time": "2022-02-14T20:08:16.184Z"
   },
   {
    "duration": 1272,
    "start_time": "2022-02-14T20:08:30.974Z"
   },
   {
    "duration": 944,
    "start_time": "2022-02-14T20:08:32.248Z"
   },
   {
    "duration": 22,
    "start_time": "2022-02-14T20:08:33.218Z"
   },
   {
    "duration": 42,
    "start_time": "2022-02-14T20:08:33.242Z"
   },
   {
    "duration": 35,
    "start_time": "2022-02-14T20:08:33.286Z"
   },
   {
    "duration": 6,
    "start_time": "2022-02-14T20:08:33.322Z"
   },
   {
    "duration": 10,
    "start_time": "2022-02-14T20:08:33.330Z"
   },
   {
    "duration": 207,
    "start_time": "2022-02-14T20:08:33.343Z"
   },
   {
    "duration": 96,
    "start_time": "2022-02-14T20:08:33.552Z"
   },
   {
    "duration": 16,
    "start_time": "2022-02-14T20:08:33.650Z"
   },
   {
    "duration": 124,
    "start_time": "2022-02-14T20:08:33.668Z"
   },
   {
    "duration": 24,
    "start_time": "2022-02-14T20:08:33.794Z"
   },
   {
    "duration": 74,
    "start_time": "2022-02-14T20:08:33.820Z"
   },
   {
    "duration": 4,
    "start_time": "2022-02-14T20:08:33.896Z"
   },
   {
    "duration": 39,
    "start_time": "2022-02-14T20:08:33.901Z"
   },
   {
    "duration": 140,
    "start_time": "2022-02-14T20:08:33.942Z"
   },
   {
    "duration": 13,
    "start_time": "2022-02-14T20:08:34.084Z"
   },
   {
    "duration": 12,
    "start_time": "2022-02-14T20:08:34.098Z"
   },
   {
    "duration": 14,
    "start_time": "2022-02-14T20:08:34.111Z"
   },
   {
    "duration": 15,
    "start_time": "2022-02-14T20:08:34.127Z"
   },
   {
    "duration": 19,
    "start_time": "2022-02-14T20:08:34.144Z"
   },
   {
    "duration": 24,
    "start_time": "2022-02-14T20:08:34.166Z"
   },
   {
    "duration": 34,
    "start_time": "2022-02-14T20:08:34.218Z"
   },
   {
    "duration": 16,
    "start_time": "2022-02-14T20:08:34.254Z"
   },
   {
    "duration": 6,
    "start_time": "2022-02-14T20:08:34.272Z"
   },
   {
    "duration": 17,
    "start_time": "2022-02-14T20:08:34.280Z"
   },
   {
    "duration": 26,
    "start_time": "2022-02-14T20:08:34.299Z"
   },
   {
    "duration": 10,
    "start_time": "2022-02-14T20:08:34.327Z"
   },
   {
    "duration": 10,
    "start_time": "2022-02-14T20:08:34.339Z"
   },
   {
    "duration": 28,
    "start_time": "2022-02-14T20:08:34.351Z"
   },
   {
    "duration": 14,
    "start_time": "2022-02-14T20:08:34.381Z"
   },
   {
    "duration": 6,
    "start_time": "2022-02-14T20:08:34.396Z"
   },
   {
    "duration": 14,
    "start_time": "2022-02-14T20:08:34.419Z"
   },
   {
    "duration": 7,
    "start_time": "2022-02-14T20:08:34.435Z"
   },
   {
    "duration": 7,
    "start_time": "2022-02-14T20:08:34.444Z"
   },
   {
    "duration": 9,
    "start_time": "2022-02-14T20:08:34.452Z"
   },
   {
    "duration": 12,
    "start_time": "2022-02-14T20:08:34.463Z"
   },
   {
    "duration": 13,
    "start_time": "2022-02-14T20:08:34.477Z"
   },
   {
    "duration": 19,
    "start_time": "2022-02-14T20:08:34.492Z"
   },
   {
    "duration": 7,
    "start_time": "2022-02-14T20:08:34.512Z"
   },
   {
    "duration": 398,
    "start_time": "2022-02-14T20:08:34.521Z"
   },
   {
    "duration": 4,
    "start_time": "2022-02-14T20:08:34.921Z"
   },
   {
    "duration": 11,
    "start_time": "2022-02-14T20:08:34.927Z"
   },
   {
    "duration": 6,
    "start_time": "2022-02-14T20:08:34.940Z"
   },
   {
    "duration": 9,
    "start_time": "2022-02-14T20:08:34.948Z"
   },
   {
    "duration": 7,
    "start_time": "2022-02-14T20:08:34.959Z"
   },
   {
    "duration": 15,
    "start_time": "2022-02-14T20:08:34.968Z"
   },
   {
    "duration": 7,
    "start_time": "2022-02-14T20:08:34.985Z"
   },
   {
    "duration": 33,
    "start_time": "2022-02-14T20:08:34.993Z"
   },
   {
    "duration": 329,
    "start_time": "2022-02-14T20:08:35.028Z"
   },
   {
    "duration": 5,
    "start_time": "2022-02-14T20:08:35.359Z"
   },
   {
    "duration": 396,
    "start_time": "2022-02-14T20:08:35.366Z"
   },
   {
    "duration": 372,
    "start_time": "2022-02-14T20:08:35.764Z"
   },
   {
    "duration": 347,
    "start_time": "2022-02-14T20:08:36.138Z"
   },
   {
    "duration": 335,
    "start_time": "2022-02-14T20:08:36.488Z"
   },
   {
    "duration": 4,
    "start_time": "2022-02-14T20:08:36.826Z"
   },
   {
    "duration": 16,
    "start_time": "2022-02-14T20:08:36.832Z"
   },
   {
    "duration": 7,
    "start_time": "2022-02-14T20:08:36.850Z"
   },
   {
    "duration": 9,
    "start_time": "2022-02-14T20:08:36.859Z"
   },
   {
    "duration": 7,
    "start_time": "2022-02-14T20:08:36.870Z"
   },
   {
    "duration": 9,
    "start_time": "2022-02-14T20:08:36.879Z"
   },
   {
    "duration": 28,
    "start_time": "2022-02-14T20:08:36.890Z"
   },
   {
    "duration": 3,
    "start_time": "2022-02-14T20:08:36.920Z"
   },
   {
    "duration": 9,
    "start_time": "2022-02-14T20:08:36.925Z"
   },
   {
    "duration": 14,
    "start_time": "2022-02-14T20:08:36.935Z"
   },
   {
    "duration": 7,
    "start_time": "2022-02-14T20:08:36.951Z"
   },
   {
    "duration": 4,
    "start_time": "2022-02-14T20:12:18.599Z"
   },
   {
    "duration": 10,
    "start_time": "2022-02-14T20:13:11.950Z"
   },
   {
    "duration": 8,
    "start_time": "2022-02-14T20:13:12.535Z"
   },
   {
    "duration": 22,
    "start_time": "2022-02-14T20:13:33.405Z"
   },
   {
    "duration": 9,
    "start_time": "2022-02-14T20:14:50.342Z"
   },
   {
    "duration": 17,
    "start_time": "2022-02-14T20:15:04.329Z"
   },
   {
    "duration": 14,
    "start_time": "2022-02-14T20:16:43.174Z"
   },
   {
    "duration": 27,
    "start_time": "2022-02-14T20:17:27.625Z"
   },
   {
    "duration": 78,
    "start_time": "2022-02-14T20:17:49.493Z"
   },
   {
    "duration": 10,
    "start_time": "2022-02-14T20:17:54.297Z"
   },
   {
    "duration": 17,
    "start_time": "2022-02-14T20:18:12.507Z"
   },
   {
    "duration": 17,
    "start_time": "2022-02-14T20:24:52.714Z"
   },
   {
    "duration": 12,
    "start_time": "2022-02-14T20:26:01.828Z"
   },
   {
    "duration": 339,
    "start_time": "2022-02-14T20:26:26.423Z"
   },
   {
    "duration": 244,
    "start_time": "2022-02-14T20:26:34.165Z"
   },
   {
    "duration": 261,
    "start_time": "2022-02-14T20:27:32.565Z"
   },
   {
    "duration": 347,
    "start_time": "2022-02-14T20:27:37.477Z"
   },
   {
    "duration": 259,
    "start_time": "2022-02-14T20:28:17.377Z"
   },
   {
    "duration": 273,
    "start_time": "2022-02-14T20:28:33.162Z"
   },
   {
    "duration": 264,
    "start_time": "2022-02-14T20:28:40.380Z"
   },
   {
    "duration": 81,
    "start_time": "2022-02-14T20:30:05.886Z"
   },
   {
    "duration": 13,
    "start_time": "2022-02-14T20:30:38.282Z"
   },
   {
    "duration": 6,
    "start_time": "2022-02-14T20:31:59.959Z"
   },
   {
    "duration": 5,
    "start_time": "2022-02-14T20:32:06.423Z"
   },
   {
    "duration": 6,
    "start_time": "2022-02-14T20:32:20.047Z"
   },
   {
    "duration": 6,
    "start_time": "2022-02-14T20:32:32.655Z"
   },
   {
    "duration": 12,
    "start_time": "2022-02-14T20:34:32.531Z"
   },
   {
    "duration": 16,
    "start_time": "2022-02-14T20:37:12.003Z"
   },
   {
    "duration": 7,
    "start_time": "2022-02-14T20:42:28.508Z"
   },
   {
    "duration": 13,
    "start_time": "2022-02-14T20:42:29.471Z"
   },
   {
    "duration": 24,
    "start_time": "2022-02-14T20:48:41.967Z"
   },
   {
    "duration": 1555,
    "start_time": "2022-02-14T20:48:48.339Z"
   },
   {
    "duration": 1235,
    "start_time": "2022-02-14T20:48:49.896Z"
   },
   {
    "duration": 21,
    "start_time": "2022-02-14T20:48:51.133Z"
   },
   {
    "duration": 16,
    "start_time": "2022-02-14T20:48:51.156Z"
   },
   {
    "duration": 15,
    "start_time": "2022-02-14T20:48:51.174Z"
   },
   {
    "duration": 8,
    "start_time": "2022-02-14T20:48:51.192Z"
   },
   {
    "duration": 6,
    "start_time": "2022-02-14T20:48:51.218Z"
   },
   {
    "duration": 204,
    "start_time": "2022-02-14T20:48:51.227Z"
   },
   {
    "duration": 169,
    "start_time": "2022-02-14T20:48:51.433Z"
   },
   {
    "duration": 23,
    "start_time": "2022-02-14T20:48:51.604Z"
   },
   {
    "duration": 151,
    "start_time": "2022-02-14T20:48:51.629Z"
   },
   {
    "duration": 18,
    "start_time": "2022-02-14T20:48:51.783Z"
   },
   {
    "duration": 87,
    "start_time": "2022-02-14T20:48:51.803Z"
   },
   {
    "duration": 5,
    "start_time": "2022-02-14T20:48:51.892Z"
   },
   {
    "duration": 27,
    "start_time": "2022-02-14T20:48:51.899Z"
   },
   {
    "duration": 148,
    "start_time": "2022-02-14T20:48:51.928Z"
   },
   {
    "duration": 14,
    "start_time": "2022-02-14T20:48:52.078Z"
   },
   {
    "duration": 8,
    "start_time": "2022-02-14T20:48:52.093Z"
   },
   {
    "duration": 26,
    "start_time": "2022-02-14T20:48:52.103Z"
   },
   {
    "duration": 15,
    "start_time": "2022-02-14T20:48:52.131Z"
   },
   {
    "duration": 19,
    "start_time": "2022-02-14T20:48:52.148Z"
   },
   {
    "duration": 25,
    "start_time": "2022-02-14T20:48:52.169Z"
   },
   {
    "duration": 37,
    "start_time": "2022-02-14T20:48:52.221Z"
   },
   {
    "duration": 5,
    "start_time": "2022-02-14T20:48:52.260Z"
   },
   {
    "duration": 25,
    "start_time": "2022-02-14T20:48:52.266Z"
   },
   {
    "duration": 28,
    "start_time": "2022-02-14T20:48:52.293Z"
   },
   {
    "duration": 18,
    "start_time": "2022-02-14T20:48:52.323Z"
   },
   {
    "duration": 11,
    "start_time": "2022-02-14T20:48:52.343Z"
   },
   {
    "duration": 5,
    "start_time": "2022-02-14T20:48:52.356Z"
   },
   {
    "duration": 7,
    "start_time": "2022-02-14T20:48:52.363Z"
   },
   {
    "duration": 18,
    "start_time": "2022-02-14T20:48:52.371Z"
   },
   {
    "duration": 36,
    "start_time": "2022-02-14T20:48:52.391Z"
   },
   {
    "duration": 9,
    "start_time": "2022-02-14T20:48:52.429Z"
   },
   {
    "duration": 17,
    "start_time": "2022-02-14T20:48:52.440Z"
   },
   {
    "duration": 8,
    "start_time": "2022-02-14T20:48:52.459Z"
   },
   {
    "duration": 13,
    "start_time": "2022-02-14T20:48:52.469Z"
   },
   {
    "duration": 13,
    "start_time": "2022-02-14T20:48:52.484Z"
   },
   {
    "duration": 22,
    "start_time": "2022-02-14T20:48:52.499Z"
   },
   {
    "duration": 5,
    "start_time": "2022-02-14T20:48:52.523Z"
   },
   {
    "duration": 7,
    "start_time": "2022-02-14T20:48:52.530Z"
   },
   {
    "duration": 6,
    "start_time": "2022-02-14T20:48:52.539Z"
   },
   {
    "duration": 512,
    "start_time": "2022-02-14T20:48:52.547Z"
   },
   {
    "duration": 5,
    "start_time": "2022-02-14T20:48:53.061Z"
   },
   {
    "duration": 11,
    "start_time": "2022-02-14T20:48:53.067Z"
   },
   {
    "duration": 5,
    "start_time": "2022-02-14T20:48:53.080Z"
   },
   {
    "duration": 34,
    "start_time": "2022-02-14T20:48:53.086Z"
   },
   {
    "duration": 7,
    "start_time": "2022-02-14T20:48:53.122Z"
   },
   {
    "duration": 13,
    "start_time": "2022-02-14T20:48:53.131Z"
   },
   {
    "duration": 17,
    "start_time": "2022-02-14T20:48:53.146Z"
   },
   {
    "duration": 18,
    "start_time": "2022-02-14T20:48:53.165Z"
   },
   {
    "duration": 333,
    "start_time": "2022-02-14T20:48:53.185Z"
   },
   {
    "duration": 5,
    "start_time": "2022-02-14T20:48:53.520Z"
   },
   {
    "duration": 397,
    "start_time": "2022-02-14T20:48:53.527Z"
   },
   {
    "duration": 370,
    "start_time": "2022-02-14T20:48:53.926Z"
   },
   {
    "duration": 377,
    "start_time": "2022-02-14T20:48:54.298Z"
   },
   {
    "duration": 365,
    "start_time": "2022-02-14T20:48:54.677Z"
   },
   {
    "duration": 4,
    "start_time": "2022-02-14T20:48:55.044Z"
   },
   {
    "duration": 12,
    "start_time": "2022-02-14T20:48:55.049Z"
   },
   {
    "duration": 8,
    "start_time": "2022-02-14T20:48:55.063Z"
   },
   {
    "duration": 10,
    "start_time": "2022-02-14T20:48:55.073Z"
   },
   {
    "duration": 5,
    "start_time": "2022-02-14T20:48:55.085Z"
   },
   {
    "duration": 5,
    "start_time": "2022-02-14T20:48:55.092Z"
   },
   {
    "duration": 19,
    "start_time": "2022-02-14T20:48:55.099Z"
   },
   {
    "duration": 4,
    "start_time": "2022-02-14T20:48:55.120Z"
   },
   {
    "duration": 7,
    "start_time": "2022-02-14T20:48:55.126Z"
   },
   {
    "duration": 10,
    "start_time": "2022-02-14T20:48:55.135Z"
   },
   {
    "duration": 122,
    "start_time": "2022-02-14T20:48:55.147Z"
   },
   {
    "duration": 1162,
    "start_time": "2022-02-20T08:48:02.865Z"
   },
   {
    "duration": 3242,
    "start_time": "2022-02-20T08:48:04.028Z"
   },
   {
    "duration": 20,
    "start_time": "2022-02-20T08:48:07.272Z"
   },
   {
    "duration": 47,
    "start_time": "2022-02-20T08:48:07.294Z"
   },
   {
    "duration": 13,
    "start_time": "2022-02-20T08:48:07.343Z"
   },
   {
    "duration": 7,
    "start_time": "2022-02-20T08:48:07.357Z"
   },
   {
    "duration": 6,
    "start_time": "2022-02-20T08:48:07.365Z"
   },
   {
    "duration": 219,
    "start_time": "2022-02-20T08:48:07.374Z"
   },
   {
    "duration": 89,
    "start_time": "2022-02-20T08:48:07.595Z"
   },
   {
    "duration": 15,
    "start_time": "2022-02-20T08:48:07.686Z"
   },
   {
    "duration": 117,
    "start_time": "2022-02-20T08:48:07.703Z"
   },
   {
    "duration": 18,
    "start_time": "2022-02-20T08:48:07.822Z"
   },
   {
    "duration": 68,
    "start_time": "2022-02-20T08:48:07.841Z"
   },
   {
    "duration": 4,
    "start_time": "2022-02-20T08:48:07.911Z"
   },
   {
    "duration": 23,
    "start_time": "2022-02-20T08:48:07.917Z"
   },
   {
    "duration": 139,
    "start_time": "2022-02-20T08:48:07.942Z"
   },
   {
    "duration": 13,
    "start_time": "2022-02-20T08:48:08.083Z"
   },
   {
    "duration": 5,
    "start_time": "2022-02-20T08:48:08.098Z"
   },
   {
    "duration": 31,
    "start_time": "2022-02-20T08:48:08.105Z"
   },
   {
    "duration": 17,
    "start_time": "2022-02-20T08:48:08.138Z"
   },
   {
    "duration": 19,
    "start_time": "2022-02-20T08:48:08.157Z"
   },
   {
    "duration": 25,
    "start_time": "2022-02-20T08:48:08.177Z"
   },
   {
    "duration": 58,
    "start_time": "2022-02-20T08:48:08.206Z"
   },
   {
    "duration": 4,
    "start_time": "2022-02-20T08:48:08.267Z"
   },
   {
    "duration": 26,
    "start_time": "2022-02-20T08:48:08.272Z"
   },
   {
    "duration": 6,
    "start_time": "2022-02-20T08:48:08.300Z"
   },
   {
    "duration": 29,
    "start_time": "2022-02-20T08:48:08.308Z"
   },
   {
    "duration": 10,
    "start_time": "2022-02-20T08:48:08.339Z"
   },
   {
    "duration": 7,
    "start_time": "2022-02-20T08:48:08.351Z"
   },
   {
    "duration": 7,
    "start_time": "2022-02-20T08:48:08.359Z"
   },
   {
    "duration": 12,
    "start_time": "2022-02-20T08:48:08.368Z"
   },
   {
    "duration": 400,
    "start_time": "2022-02-20T08:48:08.382Z"
   },
   {
    "duration": -62,
    "start_time": "2022-02-20T08:48:08.845Z"
   },
   {
    "duration": -70,
    "start_time": "2022-02-20T08:48:08.854Z"
   },
   {
    "duration": -79,
    "start_time": "2022-02-20T08:48:08.864Z"
   },
   {
    "duration": -83,
    "start_time": "2022-02-20T08:48:08.869Z"
   },
   {
    "duration": -90,
    "start_time": "2022-02-20T08:48:08.877Z"
   },
   {
    "duration": -93,
    "start_time": "2022-02-20T08:48:08.881Z"
   },
   {
    "duration": -97,
    "start_time": "2022-02-20T08:48:08.885Z"
   },
   {
    "duration": -104,
    "start_time": "2022-02-20T08:48:08.893Z"
   },
   {
    "duration": -106,
    "start_time": "2022-02-20T08:48:08.896Z"
   },
   {
    "duration": -108,
    "start_time": "2022-02-20T08:48:08.900Z"
   },
   {
    "duration": -113,
    "start_time": "2022-02-20T08:48:08.906Z"
   },
   {
    "duration": -116,
    "start_time": "2022-02-20T08:48:08.910Z"
   },
   {
    "duration": -118,
    "start_time": "2022-02-20T08:48:08.914Z"
   },
   {
    "duration": -120,
    "start_time": "2022-02-20T08:48:08.917Z"
   },
   {
    "duration": -126,
    "start_time": "2022-02-20T08:48:08.924Z"
   },
   {
    "duration": -128,
    "start_time": "2022-02-20T08:48:08.927Z"
   },
   {
    "duration": -131,
    "start_time": "2022-02-20T08:48:08.931Z"
   },
   {
    "duration": -133,
    "start_time": "2022-02-20T08:48:08.934Z"
   },
   {
    "duration": -139,
    "start_time": "2022-02-20T08:48:08.941Z"
   },
   {
    "duration": -143,
    "start_time": "2022-02-20T08:48:08.945Z"
   },
   {
    "duration": -145,
    "start_time": "2022-02-20T08:48:08.948Z"
   },
   {
    "duration": -148,
    "start_time": "2022-02-20T08:48:08.952Z"
   },
   {
    "duration": -154,
    "start_time": "2022-02-20T08:48:08.959Z"
   },
   {
    "duration": -156,
    "start_time": "2022-02-20T08:48:08.962Z"
   },
   {
    "duration": -158,
    "start_time": "2022-02-20T08:48:08.965Z"
   },
   {
    "duration": -161,
    "start_time": "2022-02-20T08:48:08.969Z"
   },
   {
    "duration": -166,
    "start_time": "2022-02-20T08:48:08.975Z"
   },
   {
    "duration": -169,
    "start_time": "2022-02-20T08:48:08.979Z"
   },
   {
    "duration": -170,
    "start_time": "2022-02-20T08:48:08.981Z"
   },
   {
    "duration": -173,
    "start_time": "2022-02-20T08:48:08.985Z"
   },
   {
    "duration": -184,
    "start_time": "2022-02-20T08:48:08.997Z"
   },
   {
    "duration": -187,
    "start_time": "2022-02-20T08:48:09.001Z"
   },
   {
    "duration": -194,
    "start_time": "2022-02-20T08:48:09.009Z"
   },
   {
    "duration": -196,
    "start_time": "2022-02-20T08:48:09.012Z"
   },
   {
    "duration": -199,
    "start_time": "2022-02-20T08:48:09.016Z"
   },
   {
    "duration": -202,
    "start_time": "2022-02-20T08:48:09.020Z"
   },
   {
    "duration": 7541,
    "start_time": "2022-02-20T08:48:50.735Z"
   },
   {
    "duration": 2,
    "start_time": "2022-02-20T08:49:06.064Z"
   },
   {
    "duration": 3,
    "start_time": "2022-02-20T08:49:14.278Z"
   },
   {
    "duration": 4,
    "start_time": "2022-02-20T08:49:21.574Z"
   },
   {
    "duration": 309,
    "start_time": "2022-02-20T08:50:21.149Z"
   },
   {
    "duration": 157,
    "start_time": "2022-02-20T08:51:19.490Z"
   },
   {
    "duration": 204,
    "start_time": "2022-02-20T08:51:38.274Z"
   },
   {
    "duration": 3,
    "start_time": "2022-02-20T08:52:21.967Z"
   },
   {
    "duration": 153,
    "start_time": "2022-02-20T08:52:29.501Z"
   },
   {
    "duration": 97,
    "start_time": "2022-02-20T08:53:32.349Z"
   },
   {
    "duration": 107,
    "start_time": "2022-02-20T08:53:38.779Z"
   },
   {
    "duration": 131,
    "start_time": "2022-02-20T08:53:48.447Z"
   },
   {
    "duration": 108,
    "start_time": "2022-02-20T08:54:26.738Z"
   },
   {
    "duration": 144,
    "start_time": "2022-02-20T08:54:30.490Z"
   },
   {
    "duration": 171,
    "start_time": "2022-02-20T08:54:57.713Z"
   },
   {
    "duration": 1126,
    "start_time": "2022-02-20T08:55:24.130Z"
   },
   {
    "duration": 2759,
    "start_time": "2022-02-20T08:55:25.258Z"
   },
   {
    "duration": 20,
    "start_time": "2022-02-20T08:55:28.019Z"
   },
   {
    "duration": 15,
    "start_time": "2022-02-20T08:55:28.041Z"
   },
   {
    "duration": 13,
    "start_time": "2022-02-20T08:55:28.057Z"
   },
   {
    "duration": 6,
    "start_time": "2022-02-20T08:55:28.071Z"
   },
   {
    "duration": 6,
    "start_time": "2022-02-20T08:55:28.078Z"
   },
   {
    "duration": 216,
    "start_time": "2022-02-20T08:55:28.086Z"
   },
   {
    "duration": 86,
    "start_time": "2022-02-20T08:55:28.304Z"
   },
   {
    "duration": 14,
    "start_time": "2022-02-20T08:55:28.392Z"
   },
   {
    "duration": 112,
    "start_time": "2022-02-20T08:55:28.408Z"
   },
   {
    "duration": 20,
    "start_time": "2022-02-20T08:55:28.522Z"
   },
   {
    "duration": 67,
    "start_time": "2022-02-20T08:55:28.544Z"
   },
   {
    "duration": 19,
    "start_time": "2022-02-20T08:55:28.613Z"
   },
   {
    "duration": 11,
    "start_time": "2022-02-20T08:55:28.634Z"
   },
   {
    "duration": 138,
    "start_time": "2022-02-20T08:55:28.647Z"
   },
   {
    "duration": 12,
    "start_time": "2022-02-20T08:55:28.787Z"
   },
   {
    "duration": 5,
    "start_time": "2022-02-20T08:55:28.800Z"
   },
   {
    "duration": 29,
    "start_time": "2022-02-20T08:55:28.807Z"
   },
   {
    "duration": 15,
    "start_time": "2022-02-20T08:55:28.837Z"
   },
   {
    "duration": 16,
    "start_time": "2022-02-20T08:55:28.853Z"
   },
   {
    "duration": 22,
    "start_time": "2022-02-20T08:55:28.870Z"
   },
   {
    "duration": 55,
    "start_time": "2022-02-20T08:55:28.896Z"
   },
   {
    "duration": 4,
    "start_time": "2022-02-20T08:55:28.954Z"
   },
   {
    "duration": 20,
    "start_time": "2022-02-20T08:55:28.960Z"
   },
   {
    "duration": 8,
    "start_time": "2022-02-20T08:55:28.982Z"
   },
   {
    "duration": 12,
    "start_time": "2022-02-20T08:55:28.991Z"
   },
   {
    "duration": 35,
    "start_time": "2022-02-20T08:55:29.005Z"
   },
   {
    "duration": 4,
    "start_time": "2022-02-20T08:55:29.042Z"
   },
   {
    "duration": 6,
    "start_time": "2022-02-20T08:55:29.048Z"
   },
   {
    "duration": 13,
    "start_time": "2022-02-20T08:55:29.055Z"
   },
   {
    "duration": 8,
    "start_time": "2022-02-20T08:55:29.070Z"
   },
   {
    "duration": 7,
    "start_time": "2022-02-20T08:55:29.079Z"
   },
   {
    "duration": 46,
    "start_time": "2022-02-20T08:55:29.087Z"
   },
   {
    "duration": 7,
    "start_time": "2022-02-20T08:55:29.135Z"
   },
   {
    "duration": 6,
    "start_time": "2022-02-20T08:55:29.144Z"
   },
   {
    "duration": 12,
    "start_time": "2022-02-20T08:55:29.152Z"
   },
   {
    "duration": 5,
    "start_time": "2022-02-20T08:55:29.166Z"
   },
   {
    "duration": 10,
    "start_time": "2022-02-20T08:55:29.173Z"
   },
   {
    "duration": 8,
    "start_time": "2022-02-20T08:55:29.185Z"
   },
   {
    "duration": 8,
    "start_time": "2022-02-20T08:55:29.195Z"
   },
   {
    "duration": 398,
    "start_time": "2022-02-20T08:55:29.204Z"
   },
   {
    "duration": 5,
    "start_time": "2022-02-20T08:55:29.604Z"
   },
   {
    "duration": 7,
    "start_time": "2022-02-20T08:55:29.611Z"
   },
   {
    "duration": 3,
    "start_time": "2022-02-20T08:55:29.631Z"
   },
   {
    "duration": 9,
    "start_time": "2022-02-20T08:55:29.635Z"
   },
   {
    "duration": 6,
    "start_time": "2022-02-20T08:55:29.645Z"
   },
   {
    "duration": 6,
    "start_time": "2022-02-20T08:55:29.652Z"
   },
   {
    "duration": 6,
    "start_time": "2022-02-20T08:55:29.659Z"
   },
   {
    "duration": 10,
    "start_time": "2022-02-20T08:55:29.667Z"
   },
   {
    "duration": 330,
    "start_time": "2022-02-20T08:55:29.679Z"
   },
   {
    "duration": 6,
    "start_time": "2022-02-20T08:55:30.010Z"
   },
   {
    "duration": 351,
    "start_time": "2022-02-20T08:55:30.017Z"
   },
   {
    "duration": 375,
    "start_time": "2022-02-20T08:55:30.369Z"
   },
   {
    "duration": 342,
    "start_time": "2022-02-20T08:55:30.746Z"
   },
   {
    "duration": 300,
    "start_time": "2022-02-20T08:55:31.089Z"
   },
   {
    "duration": 3,
    "start_time": "2022-02-20T08:55:31.391Z"
   },
   {
    "duration": 28,
    "start_time": "2022-02-20T08:55:31.395Z"
   },
   {
    "duration": 21,
    "start_time": "2022-02-20T08:55:31.425Z"
   },
   {
    "duration": 13,
    "start_time": "2022-02-20T08:55:31.447Z"
   },
   {
    "duration": 13,
    "start_time": "2022-02-20T08:55:31.462Z"
   },
   {
    "duration": 25,
    "start_time": "2022-02-20T08:55:31.476Z"
   },
   {
    "duration": 12,
    "start_time": "2022-02-20T08:55:31.503Z"
   },
   {
    "duration": 23,
    "start_time": "2022-02-20T08:55:31.517Z"
   },
   {
    "duration": 12,
    "start_time": "2022-02-20T08:55:31.541Z"
   },
   {
    "duration": 12,
    "start_time": "2022-02-20T08:55:31.554Z"
   },
   {
    "duration": 69,
    "start_time": "2022-02-20T08:55:31.567Z"
   }
  ],
  "kernelspec": {
   "display_name": "Python 3 (ipykernel)",
   "language": "python",
   "name": "python3"
  },
  "language_info": {
   "codemirror_mode": {
    "name": "ipython",
    "version": 3
   },
   "file_extension": ".py",
   "mimetype": "text/x-python",
   "name": "python",
   "nbconvert_exporter": "python",
   "pygments_lexer": "ipython3",
   "version": "3.9.5"
  },
  "toc": {
   "base_numbering": 1,
   "nav_menu": {},
   "number_sections": false,
   "sideBar": true,
   "skip_h1_title": false,
   "title_cell": "Table of Contents",
   "title_sidebar": "Contents",
   "toc_cell": false,
   "toc_position": {
    "height": "calc(100% - 180px)",
    "left": "10px",
    "top": "150px",
    "width": "335.75px"
   },
   "toc_section_display": true,
   "toc_window_display": true
  }
 },
 "nbformat": 4,
 "nbformat_minor": 2
}
