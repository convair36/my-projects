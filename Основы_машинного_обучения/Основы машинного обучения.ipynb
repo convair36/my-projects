{
 "cells": [
  {
   "cell_type": "markdown",
   "metadata": {},
   "source": [
    "**Оглавление**\n",
    "\n",
    "1. [Описание проекта](#1)\n",
    "1. [Задачи](#2)\n",
    "1. [Описание данных](#3)\n",
    "1. [Загрузка данных и подготовка их к анализу](#4)\n",
    "1. [исследовательский анализ данных (EDA)](#5)\n",
    "1. [Постройте модель прогнозирования оттока клиентов](#6)\n",
    "\n",
    "  6.1[Логистическая регрессия](#6.1)\n",
    "  \n",
    "  6.2[Cлучайный лес](#6.2)\n",
    " \n",
    "1. [Кластеризация](#7)\n",
    "1. [Общие выводы](#8)"
   ]
  },
  {
   "cell_type": "markdown",
   "metadata": {},
   "source": [
    "# Описание проекта <a id ='1'> </a>\n",
    "Сеть фитнес-центров «Культурист-датасаентист» разрабатывает стратегию взаимодействия с клиентами на основе аналитических данных.\n",
    "\n",
    "Распространённая проблема фитнес-клубов и других сервисов — отток клиентов. Как понять, что клиент больше не с вами? Можно записать в отток тех, кто попросил закрыть договор или удалил аккаунт. Однако клиенты не всегда уходят демонстративно: чаще перестают пользоваться сервисом тихо.\n",
    "\n",
    "Индикаторы оттока зависят от специфики отрасли. Когда пользователь редко, но стабильно закупается в интернет-магазине — не похоже, что он «отвалился». А вот если две недели не заходит на канал с ежедневно обновляемым контентом, дела плохи: подписчик заскучал и, кажется, оставил вас.\n",
    "\n",
    "Для фитнес-центра можно считать, что клиент попал в отток, если за последний месяц ни разу не посетил спортзал. Конечно, не исключено, что он уехал на Бали и по приезде обязательно продолжит ходить на фитнес. Однако чаще бывает наоборот. Если клиент начал новую жизнь с понедельника, немного походил в спортзал, а потом пропал — скорее всего, он не вернётся.\n",
    "\n",
    "Чтобы бороться с оттоком, отдел по работе с клиентами «Культуриста-датасаентиста» перевёл в электронный вид множество клиентских анкет. \n"
   ]
  },
  {
   "cell_type": "markdown",
   "metadata": {},
   "source": [
    "# Задачи<a id ='2'> </a>"
   ]
  },
  {
   "cell_type": "markdown",
   "metadata": {},
   "source": [
    "1) Провести исследовательский анализ данных (EDA)\n",
    "\n",
    " - Посмотрите на датасет: есть ли в нем отсутствующие признаки, изучите средние значения и стандартные отклонения (пригодится метод describe());\n",
    " - Посмотрите на средние значения признаков в двух группах — тех, кто ушел в отток и тех, кто остался (воспользуйтесь методом groupby());\n",
    " - Постройте столбчатые гистограммы и распределения признаков для тех, кто ушёл (отток) и тех, кто остался (не попали в отток);\n",
    " - Постройте матрицу корреляций и отобразите её.\n",
    "\n",
    "2) Постройте модель прогнозирования оттока клиентов\n",
    " \n",
    "Постройте модель бинарной классификации клиентов, где целевой признак — факт оттока клиента в следующем месяце:\n",
    "\n",
    "- Разбейте данные на обучающую и валидационную выборку функцией train_test_split().\n",
    "- Обучите модель на train-выборке двумя способами:\n",
    "\n",
    "  - логистической регрессией,\n",
    "  \n",
    "  - случайным лесом.\n",
    "  \n",
    "- Оцените метрики accuracy, precision и recall для обеих моделей на валидационной выборке. Сравните по ним модели. Какая модель показала себя лучше на основании метрик?\n",
    "\n",
    "\n",
    "3) Сделайте кластеризацию клиентов\n",
    " \n",
    "Отложите в сторону столбец с оттоком и проведите кластеризацию объектов (клиентов):\n",
    "\n",
    "- Стандартизируйте данные.\n",
    "- Постройте матрицу расстояний функцией linkage() на стандартизованной матрице признаков и нарисуйте дендрограмму.\n",
    "- Обучите модель кластеризации на основании алгоритма K-Means и спрогнозируйте кластеры клиентов. Договоримся за число кластеров принять n=5.\n",
    "- Посмотрите на средние значения признаков для кластеров. Можно ли сразу что-то заметить?\n",
    "- Постройте распределения признаков для кластеров. Можно ли что-то заметить по ним?\n",
    "- Для каждого полученного кластера посчитайте долю оттока (методом groupby()). Отличаются ли они по доле оттока? Какие кластеры склонны к оттоку, а какие — надёжны?\n",
    "\n",
    "4) Сформулируйте выводы и сделайте базовые рекомендации по работе с клиентами\n",
    "\n",
    " - Сформулируйте основные выводы и предложите рекомендации для стратегии взаимодействия с клиентами и их удержания."
   ]
  },
  {
   "cell_type": "markdown",
   "metadata": {},
   "source": [
    "# Описание данных <a id ='3'> </a>"
   ]
  },
  {
   "cell_type": "markdown",
   "metadata": {},
   "source": [
    "Набор данных включает следующие поля:\n",
    "\n",
    "    Churn — факт оттока в текущем месяце;\n",
    "    \n",
    "Текущие поля в датасете:\n",
    "\n",
    "   Данные клиента за предыдущий до проверки факта оттока месяц:\n",
    "        \n",
    "            gender — пол;\n",
    "            \n",
    "            Near_Location — проживание или работа в районе, где находится фитнес-центр;\n",
    "            \n",
    "            Partner — сотрудник компании-партнёра клуба (сотрудничество с компаниями, чьи сотрудники могут получать скидки на абонемент — в таком случае фитнес-центр хранит информацию о работодателе клиента);\n",
    "            \n",
    "            Promo_friends — факт первоначальной записи в рамках акции «приведи друга» (использовал промо-код от знакомого при оплате первого абонемента);\n",
    "            \n",
    "            Phone — наличие контактного телефона;\n",
    "            \n",
    "            Age — возраст;\n",
    "            \n",
    "            Lifetime — время с момента первого обращения в фитнес-центр (в месяцах).\n",
    "            \n",
    "            \n",
    "Информация на основе журнала посещений, покупок и информация о текущем статусе абонемента клиента:\n",
    "\n",
    "        Contract_period — длительность текущего действующего абонемента (месяц, 3 месяца, 6 месяцев, год);\n",
    "            \n",
    "        Month_to_end_contract — срок до окончания текущего действующего абонемента (в месяцах\n",
    "        \n",
    "        Group_visits — факт посещения групповых занятий;\n",
    "        \n",
    "        Avg_class_frequency_total — средняя частота посещений в неделю за все время с начала действия абонемента;\n",
    "        \n",
    "        Avg_class_frequency_current_month — средняя частота посещений в неделю за предыдущий месяц;\n",
    "        \n",
    "        Avg_additional_charges_total — суммарная выручка от других услуг фитнес-центра: кафе, спорт-товары, косметический и массажный салон."
   ]
  },
  {
   "cell_type": "markdown",
   "metadata": {},
   "source": [
    "# Загрузка данных и подготовка их к анализу <a id ='4'> </a>"
   ]
  },
  {
   "cell_type": "code",
   "execution_count": 1,
   "metadata": {},
   "outputs": [],
   "source": [
    "import pandas as pd\n",
    "import seaborn as sns\n",
    "import matplotlib.pyplot as plt\n",
    "\n",
    "from sklearn.model_selection import train_test_split\n",
    "from sklearn.linear_model import LogisticRegression\n",
    "from sklearn.tree import DecisionTreeClassifier\n",
    "from sklearn.ensemble import RandomForestClassifier\n",
    "from sklearn.preprocessing import StandardScaler\n",
    "\n",
    "from sklearn.metrics import accuracy_score, precision_score, recall_score, f1_score\n",
    "from sklearn.metrics import roc_auc_score\n",
    "\n",
    "from sklearn.cluster import KMeans\n",
    "\n",
    "from scipy.cluster.hierarchy import dendrogram, linkage\n",
    "\n",
    "import warnings\n",
    "warnings.simplefilter(\"ignore\")"
   ]
  },
  {
   "cell_type": "markdown",
   "metadata": {},
   "source": [
    "Загрузим исходную таблицу:"
   ]
  },
  {
   "cell_type": "code",
   "execution_count": 2,
   "metadata": {},
   "outputs": [],
   "source": [
    "gym_churn = pd.read_csv('https://code.s3.yandex.net/datasets/gym_churn.csv')"
   ]
  },
  {
   "cell_type": "markdown",
   "metadata": {},
   "source": [
    "Посмотрим на количество записей и столбцов:"
   ]
  },
  {
   "cell_type": "code",
   "execution_count": 3,
   "metadata": {},
   "outputs": [
    {
     "data": {
      "text/plain": [
       "(4000, 14)"
      ]
     },
     "execution_count": 3,
     "metadata": {},
     "output_type": "execute_result"
    }
   ],
   "source": [
    "gym_churn.shape"
   ]
  },
  {
   "cell_type": "code",
   "execution_count": 4,
   "metadata": {
    "scrolled": true
   },
   "outputs": [
    {
     "name": "stdout",
     "output_type": "stream",
     "text": [
      "<class 'pandas.core.frame.DataFrame'>\n",
      "RangeIndex: 4000 entries, 0 to 3999\n",
      "Data columns (total 14 columns):\n",
      "gender                               4000 non-null int64\n",
      "Near_Location                        4000 non-null int64\n",
      "Partner                              4000 non-null int64\n",
      "Promo_friends                        4000 non-null int64\n",
      "Phone                                4000 non-null int64\n",
      "Contract_period                      4000 non-null int64\n",
      "Group_visits                         4000 non-null int64\n",
      "Age                                  4000 non-null int64\n",
      "Avg_additional_charges_total         4000 non-null float64\n",
      "Month_to_end_contract                4000 non-null float64\n",
      "Lifetime                             4000 non-null int64\n",
      "Avg_class_frequency_total            4000 non-null float64\n",
      "Avg_class_frequency_current_month    4000 non-null float64\n",
      "Churn                                4000 non-null int64\n",
      "dtypes: float64(4), int64(10)\n",
      "memory usage: 437.6 KB\n"
     ]
    }
   ],
   "source": [
    "gym_churn.info()"
   ]
  },
  {
   "cell_type": "markdown",
   "metadata": {},
   "source": [
    "Пропусков нет - количество информации во всех столбцах одинаковое!"
   ]
  },
  {
   "cell_type": "code",
   "execution_count": 5,
   "metadata": {
    "scrolled": true
   },
   "outputs": [
    {
     "data": {
      "text/html": [
       "<div>\n",
       "<style scoped>\n",
       "    .dataframe tbody tr th:only-of-type {\n",
       "        vertical-align: middle;\n",
       "    }\n",
       "\n",
       "    .dataframe tbody tr th {\n",
       "        vertical-align: top;\n",
       "    }\n",
       "\n",
       "    .dataframe thead th {\n",
       "        text-align: right;\n",
       "    }\n",
       "</style>\n",
       "<table border=\"1\" class=\"dataframe\">\n",
       "  <thead>\n",
       "    <tr style=\"text-align: right;\">\n",
       "      <th></th>\n",
       "      <th>gender</th>\n",
       "      <th>Near_Location</th>\n",
       "      <th>Partner</th>\n",
       "      <th>Promo_friends</th>\n",
       "      <th>Phone</th>\n",
       "      <th>Contract_period</th>\n",
       "      <th>Group_visits</th>\n",
       "      <th>Age</th>\n",
       "      <th>Avg_additional_charges_total</th>\n",
       "      <th>Month_to_end_contract</th>\n",
       "      <th>Lifetime</th>\n",
       "      <th>Avg_class_frequency_total</th>\n",
       "      <th>Avg_class_frequency_current_month</th>\n",
       "      <th>Churn</th>\n",
       "    </tr>\n",
       "  </thead>\n",
       "  <tbody>\n",
       "    <tr>\n",
       "      <td>0</td>\n",
       "      <td>1</td>\n",
       "      <td>1</td>\n",
       "      <td>1</td>\n",
       "      <td>1</td>\n",
       "      <td>0</td>\n",
       "      <td>6</td>\n",
       "      <td>1</td>\n",
       "      <td>29</td>\n",
       "      <td>14.227470</td>\n",
       "      <td>5.0</td>\n",
       "      <td>3</td>\n",
       "      <td>0.020398</td>\n",
       "      <td>0.000000</td>\n",
       "      <td>0</td>\n",
       "    </tr>\n",
       "    <tr>\n",
       "      <td>1</td>\n",
       "      <td>0</td>\n",
       "      <td>1</td>\n",
       "      <td>0</td>\n",
       "      <td>0</td>\n",
       "      <td>1</td>\n",
       "      <td>12</td>\n",
       "      <td>1</td>\n",
       "      <td>31</td>\n",
       "      <td>113.202938</td>\n",
       "      <td>12.0</td>\n",
       "      <td>7</td>\n",
       "      <td>1.922936</td>\n",
       "      <td>1.910244</td>\n",
       "      <td>0</td>\n",
       "    </tr>\n",
       "    <tr>\n",
       "      <td>2</td>\n",
       "      <td>0</td>\n",
       "      <td>1</td>\n",
       "      <td>1</td>\n",
       "      <td>0</td>\n",
       "      <td>1</td>\n",
       "      <td>1</td>\n",
       "      <td>0</td>\n",
       "      <td>28</td>\n",
       "      <td>129.448479</td>\n",
       "      <td>1.0</td>\n",
       "      <td>2</td>\n",
       "      <td>1.859098</td>\n",
       "      <td>1.736502</td>\n",
       "      <td>0</td>\n",
       "    </tr>\n",
       "    <tr>\n",
       "      <td>3</td>\n",
       "      <td>0</td>\n",
       "      <td>1</td>\n",
       "      <td>1</td>\n",
       "      <td>1</td>\n",
       "      <td>1</td>\n",
       "      <td>12</td>\n",
       "      <td>1</td>\n",
       "      <td>33</td>\n",
       "      <td>62.669863</td>\n",
       "      <td>12.0</td>\n",
       "      <td>2</td>\n",
       "      <td>3.205633</td>\n",
       "      <td>3.357215</td>\n",
       "      <td>0</td>\n",
       "    </tr>\n",
       "    <tr>\n",
       "      <td>4</td>\n",
       "      <td>1</td>\n",
       "      <td>1</td>\n",
       "      <td>1</td>\n",
       "      <td>1</td>\n",
       "      <td>1</td>\n",
       "      <td>1</td>\n",
       "      <td>0</td>\n",
       "      <td>26</td>\n",
       "      <td>198.362265</td>\n",
       "      <td>1.0</td>\n",
       "      <td>3</td>\n",
       "      <td>1.113884</td>\n",
       "      <td>1.120078</td>\n",
       "      <td>0</td>\n",
       "    </tr>\n",
       "  </tbody>\n",
       "</table>\n",
       "</div>"
      ],
      "text/plain": [
       "   gender  Near_Location  Partner  Promo_friends  Phone  Contract_period  \\\n",
       "0       1              1        1              1      0                6   \n",
       "1       0              1        0              0      1               12   \n",
       "2       0              1        1              0      1                1   \n",
       "3       0              1        1              1      1               12   \n",
       "4       1              1        1              1      1                1   \n",
       "\n",
       "   Group_visits  Age  Avg_additional_charges_total  Month_to_end_contract  \\\n",
       "0             1   29                     14.227470                    5.0   \n",
       "1             1   31                    113.202938                   12.0   \n",
       "2             0   28                    129.448479                    1.0   \n",
       "3             1   33                     62.669863                   12.0   \n",
       "4             0   26                    198.362265                    1.0   \n",
       "\n",
       "   Lifetime  Avg_class_frequency_total  Avg_class_frequency_current_month  \\\n",
       "0         3                   0.020398                           0.000000   \n",
       "1         7                   1.922936                           1.910244   \n",
       "2         2                   1.859098                           1.736502   \n",
       "3         2                   3.205633                           3.357215   \n",
       "4         3                   1.113884                           1.120078   \n",
       "\n",
       "   Churn  \n",
       "0      0  \n",
       "1      0  \n",
       "2      0  \n",
       "3      0  \n",
       "4      0  "
      ]
     },
     "execution_count": 5,
     "metadata": {},
     "output_type": "execute_result"
    }
   ],
   "source": [
    "gym_churn.head(5)"
   ]
  },
  {
   "cell_type": "markdown",
   "metadata": {},
   "source": [
    "Видим, что информация в столбцах, как бинарная, так и мультиклассификационная. Описание столбцов было в начале задания. \n",
    "\n",
    "Посмотрим на дубликаты:"
   ]
  },
  {
   "cell_type": "code",
   "execution_count": 6,
   "metadata": {},
   "outputs": [
    {
     "data": {
      "text/plain": [
       "0"
      ]
     },
     "execution_count": 6,
     "metadata": {},
     "output_type": "execute_result"
    }
   ],
   "source": [
    "gym_churn.duplicated().sum()"
   ]
  },
  {
   "cell_type": "markdown",
   "metadata": {},
   "source": [
    "**Вывод:** Данные сформированы очень хорошо, каких-либо манипуляций по предобработке делать не пришлось. Единственное, что в столбце Age **хотелось бы знать кто есть кто?** (женщин или мужчин приняли за 0)."
   ]
  },
  {
   "cell_type": "markdown",
   "metadata": {},
   "source": [
    "# Исследовательский анализ данных (EDA) <a id= 5></a>"
   ]
  },
  {
   "cell_type": "markdown",
   "metadata": {},
   "source": [
    "Проведем исследовательский анализ данных.\n",
    "\n",
    "Первым делом посмотрим на основные характеристики "
   ]
  },
  {
   "cell_type": "code",
   "execution_count": 7,
   "metadata": {
    "scrolled": true
   },
   "outputs": [
    {
     "data": {
      "text/html": [
       "<div>\n",
       "<style scoped>\n",
       "    .dataframe tbody tr th:only-of-type {\n",
       "        vertical-align: middle;\n",
       "    }\n",
       "\n",
       "    .dataframe tbody tr th {\n",
       "        vertical-align: top;\n",
       "    }\n",
       "\n",
       "    .dataframe thead th {\n",
       "        text-align: right;\n",
       "    }\n",
       "</style>\n",
       "<table border=\"1\" class=\"dataframe\">\n",
       "  <thead>\n",
       "    <tr style=\"text-align: right;\">\n",
       "      <th></th>\n",
       "      <th>gender</th>\n",
       "      <th>Near_Location</th>\n",
       "      <th>Partner</th>\n",
       "      <th>Promo_friends</th>\n",
       "      <th>Phone</th>\n",
       "      <th>Contract_period</th>\n",
       "      <th>Group_visits</th>\n",
       "      <th>Age</th>\n",
       "      <th>Avg_additional_charges_total</th>\n",
       "      <th>Month_to_end_contract</th>\n",
       "      <th>Lifetime</th>\n",
       "      <th>Avg_class_frequency_total</th>\n",
       "      <th>Avg_class_frequency_current_month</th>\n",
       "      <th>Churn</th>\n",
       "    </tr>\n",
       "  </thead>\n",
       "  <tbody>\n",
       "    <tr>\n",
       "      <td>count</td>\n",
       "      <td>4000.000000</td>\n",
       "      <td>4000.000000</td>\n",
       "      <td>4000.000000</td>\n",
       "      <td>4000.000000</td>\n",
       "      <td>4000.000000</td>\n",
       "      <td>4000.000000</td>\n",
       "      <td>4000.000000</td>\n",
       "      <td>4000.000000</td>\n",
       "      <td>4000.000000</td>\n",
       "      <td>4000.000000</td>\n",
       "      <td>4000.000000</td>\n",
       "      <td>4000.000000</td>\n",
       "      <td>4000.000000</td>\n",
       "      <td>4000.000000</td>\n",
       "    </tr>\n",
       "    <tr>\n",
       "      <td>mean</td>\n",
       "      <td>0.510250</td>\n",
       "      <td>0.845250</td>\n",
       "      <td>0.486750</td>\n",
       "      <td>0.308500</td>\n",
       "      <td>0.903500</td>\n",
       "      <td>4.681250</td>\n",
       "      <td>0.412250</td>\n",
       "      <td>29.184250</td>\n",
       "      <td>146.943728</td>\n",
       "      <td>4.322750</td>\n",
       "      <td>3.724750</td>\n",
       "      <td>1.879020</td>\n",
       "      <td>1.767052</td>\n",
       "      <td>0.265250</td>\n",
       "    </tr>\n",
       "    <tr>\n",
       "      <td>std</td>\n",
       "      <td>0.499957</td>\n",
       "      <td>0.361711</td>\n",
       "      <td>0.499887</td>\n",
       "      <td>0.461932</td>\n",
       "      <td>0.295313</td>\n",
       "      <td>4.549706</td>\n",
       "      <td>0.492301</td>\n",
       "      <td>3.258367</td>\n",
       "      <td>96.355602</td>\n",
       "      <td>4.191297</td>\n",
       "      <td>3.749267</td>\n",
       "      <td>0.972245</td>\n",
       "      <td>1.052906</td>\n",
       "      <td>0.441521</td>\n",
       "    </tr>\n",
       "    <tr>\n",
       "      <td>min</td>\n",
       "      <td>0.000000</td>\n",
       "      <td>0.000000</td>\n",
       "      <td>0.000000</td>\n",
       "      <td>0.000000</td>\n",
       "      <td>0.000000</td>\n",
       "      <td>1.000000</td>\n",
       "      <td>0.000000</td>\n",
       "      <td>18.000000</td>\n",
       "      <td>0.148205</td>\n",
       "      <td>1.000000</td>\n",
       "      <td>0.000000</td>\n",
       "      <td>0.000000</td>\n",
       "      <td>0.000000</td>\n",
       "      <td>0.000000</td>\n",
       "    </tr>\n",
       "    <tr>\n",
       "      <td>25%</td>\n",
       "      <td>0.000000</td>\n",
       "      <td>1.000000</td>\n",
       "      <td>0.000000</td>\n",
       "      <td>0.000000</td>\n",
       "      <td>1.000000</td>\n",
       "      <td>1.000000</td>\n",
       "      <td>0.000000</td>\n",
       "      <td>27.000000</td>\n",
       "      <td>68.868830</td>\n",
       "      <td>1.000000</td>\n",
       "      <td>1.000000</td>\n",
       "      <td>1.180875</td>\n",
       "      <td>0.963003</td>\n",
       "      <td>0.000000</td>\n",
       "    </tr>\n",
       "    <tr>\n",
       "      <td>50%</td>\n",
       "      <td>1.000000</td>\n",
       "      <td>1.000000</td>\n",
       "      <td>0.000000</td>\n",
       "      <td>0.000000</td>\n",
       "      <td>1.000000</td>\n",
       "      <td>1.000000</td>\n",
       "      <td>0.000000</td>\n",
       "      <td>29.000000</td>\n",
       "      <td>136.220159</td>\n",
       "      <td>1.000000</td>\n",
       "      <td>3.000000</td>\n",
       "      <td>1.832768</td>\n",
       "      <td>1.719574</td>\n",
       "      <td>0.000000</td>\n",
       "    </tr>\n",
       "    <tr>\n",
       "      <td>75%</td>\n",
       "      <td>1.000000</td>\n",
       "      <td>1.000000</td>\n",
       "      <td>1.000000</td>\n",
       "      <td>1.000000</td>\n",
       "      <td>1.000000</td>\n",
       "      <td>6.000000</td>\n",
       "      <td>1.000000</td>\n",
       "      <td>31.000000</td>\n",
       "      <td>210.949625</td>\n",
       "      <td>6.000000</td>\n",
       "      <td>5.000000</td>\n",
       "      <td>2.536078</td>\n",
       "      <td>2.510336</td>\n",
       "      <td>1.000000</td>\n",
       "    </tr>\n",
       "    <tr>\n",
       "      <td>max</td>\n",
       "      <td>1.000000</td>\n",
       "      <td>1.000000</td>\n",
       "      <td>1.000000</td>\n",
       "      <td>1.000000</td>\n",
       "      <td>1.000000</td>\n",
       "      <td>12.000000</td>\n",
       "      <td>1.000000</td>\n",
       "      <td>41.000000</td>\n",
       "      <td>552.590740</td>\n",
       "      <td>12.000000</td>\n",
       "      <td>31.000000</td>\n",
       "      <td>6.023668</td>\n",
       "      <td>6.146783</td>\n",
       "      <td>1.000000</td>\n",
       "    </tr>\n",
       "  </tbody>\n",
       "</table>\n",
       "</div>"
      ],
      "text/plain": [
       "            gender  Near_Location      Partner  Promo_friends        Phone  \\\n",
       "count  4000.000000    4000.000000  4000.000000    4000.000000  4000.000000   \n",
       "mean      0.510250       0.845250     0.486750       0.308500     0.903500   \n",
       "std       0.499957       0.361711     0.499887       0.461932     0.295313   \n",
       "min       0.000000       0.000000     0.000000       0.000000     0.000000   \n",
       "25%       0.000000       1.000000     0.000000       0.000000     1.000000   \n",
       "50%       1.000000       1.000000     0.000000       0.000000     1.000000   \n",
       "75%       1.000000       1.000000     1.000000       1.000000     1.000000   \n",
       "max       1.000000       1.000000     1.000000       1.000000     1.000000   \n",
       "\n",
       "       Contract_period  Group_visits          Age  \\\n",
       "count      4000.000000   4000.000000  4000.000000   \n",
       "mean          4.681250      0.412250    29.184250   \n",
       "std           4.549706      0.492301     3.258367   \n",
       "min           1.000000      0.000000    18.000000   \n",
       "25%           1.000000      0.000000    27.000000   \n",
       "50%           1.000000      0.000000    29.000000   \n",
       "75%           6.000000      1.000000    31.000000   \n",
       "max          12.000000      1.000000    41.000000   \n",
       "\n",
       "       Avg_additional_charges_total  Month_to_end_contract     Lifetime  \\\n",
       "count                   4000.000000            4000.000000  4000.000000   \n",
       "mean                     146.943728               4.322750     3.724750   \n",
       "std                       96.355602               4.191297     3.749267   \n",
       "min                        0.148205               1.000000     0.000000   \n",
       "25%                       68.868830               1.000000     1.000000   \n",
       "50%                      136.220159               1.000000     3.000000   \n",
       "75%                      210.949625               6.000000     5.000000   \n",
       "max                      552.590740              12.000000    31.000000   \n",
       "\n",
       "       Avg_class_frequency_total  Avg_class_frequency_current_month  \\\n",
       "count                4000.000000                        4000.000000   \n",
       "mean                    1.879020                           1.767052   \n",
       "std                     0.972245                           1.052906   \n",
       "min                     0.000000                           0.000000   \n",
       "25%                     1.180875                           0.963003   \n",
       "50%                     1.832768                           1.719574   \n",
       "75%                     2.536078                           2.510336   \n",
       "max                     6.023668                           6.146783   \n",
       "\n",
       "             Churn  \n",
       "count  4000.000000  \n",
       "mean      0.265250  \n",
       "std       0.441521  \n",
       "min       0.000000  \n",
       "25%       0.000000  \n",
       "50%       0.000000  \n",
       "75%       1.000000  \n",
       "max       1.000000  "
      ]
     },
     "execution_count": 7,
     "metadata": {},
     "output_type": "execute_result"
    }
   ],
   "source": [
    "gym_churn.describe()"
   ]
  },
  {
   "cell_type": "markdown",
   "metadata": {},
   "source": [
    "В целом данные распределены в пропорциях 50/50 (для бинарных столбцов). Из интересного можно отметить:\n",
    " 1) что у 85% клиентов рядом с фитнесс - центром все же есть какой то объект их социальной жизни (дом или работа);\n",
    " \n",
    " 2) 30% пришло по приглашению от друзей. Очень приличный показатель!\n",
    " \n",
    " 3) Средний абонемент берется примерно на 9 месяцев;\n",
    " \n",
    " 4) В целом уходит 26,5 % ( не приходит заниматься в текущем месяце). Не уверен на счет много это или мало, однако считаю нужным на это обратить внимание и дать рекомендации по снижению убыли; \n",
    " "
   ]
  },
  {
   "cell_type": "markdown",
   "metadata": {},
   "source": [
    "Сгруппируем данные по столбцу 'Churn' и посмотрим цбыль клиентов в зависимости от других столбцов:"
   ]
  },
  {
   "cell_type": "code",
   "execution_count": 8,
   "metadata": {
    "scrolled": false
   },
   "outputs": [
    {
     "data": {
      "text/html": [
       "<div>\n",
       "<style scoped>\n",
       "    .dataframe tbody tr th:only-of-type {\n",
       "        vertical-align: middle;\n",
       "    }\n",
       "\n",
       "    .dataframe tbody tr th {\n",
       "        vertical-align: top;\n",
       "    }\n",
       "\n",
       "    .dataframe thead th {\n",
       "        text-align: right;\n",
       "    }\n",
       "</style>\n",
       "<table border=\"1\" class=\"dataframe\">\n",
       "  <thead>\n",
       "    <tr style=\"text-align: right;\">\n",
       "      <th>Churn</th>\n",
       "      <th>0</th>\n",
       "      <th>1</th>\n",
       "    </tr>\n",
       "  </thead>\n",
       "  <tbody>\n",
       "    <tr>\n",
       "      <td>gender</td>\n",
       "      <td>0.510037</td>\n",
       "      <td>0.510839</td>\n",
       "    </tr>\n",
       "    <tr>\n",
       "      <td>Near_Location</td>\n",
       "      <td>0.873086</td>\n",
       "      <td>0.768143</td>\n",
       "    </tr>\n",
       "    <tr>\n",
       "      <td>Partner</td>\n",
       "      <td>0.534195</td>\n",
       "      <td>0.355325</td>\n",
       "    </tr>\n",
       "    <tr>\n",
       "      <td>Promo_friends</td>\n",
       "      <td>0.353522</td>\n",
       "      <td>0.183789</td>\n",
       "    </tr>\n",
       "    <tr>\n",
       "      <td>Phone</td>\n",
       "      <td>0.903709</td>\n",
       "      <td>0.902922</td>\n",
       "    </tr>\n",
       "    <tr>\n",
       "      <td>Contract_period</td>\n",
       "      <td>5.747193</td>\n",
       "      <td>1.728558</td>\n",
       "    </tr>\n",
       "    <tr>\n",
       "      <td>Group_visits</td>\n",
       "      <td>0.464103</td>\n",
       "      <td>0.268615</td>\n",
       "    </tr>\n",
       "    <tr>\n",
       "      <td>Age</td>\n",
       "      <td>29.976523</td>\n",
       "      <td>26.989632</td>\n",
       "    </tr>\n",
       "    <tr>\n",
       "      <td>Avg_additional_charges_total</td>\n",
       "      <td>158.445715</td>\n",
       "      <td>115.082899</td>\n",
       "    </tr>\n",
       "    <tr>\n",
       "      <td>Month_to_end_contract</td>\n",
       "      <td>5.283089</td>\n",
       "      <td>1.662582</td>\n",
       "    </tr>\n",
       "    <tr>\n",
       "      <td>Lifetime</td>\n",
       "      <td>4.711807</td>\n",
       "      <td>0.990575</td>\n",
       "    </tr>\n",
       "    <tr>\n",
       "      <td>Avg_class_frequency_total</td>\n",
       "      <td>2.024876</td>\n",
       "      <td>1.474995</td>\n",
       "    </tr>\n",
       "    <tr>\n",
       "      <td>Avg_class_frequency_current_month</td>\n",
       "      <td>2.027882</td>\n",
       "      <td>1.044546</td>\n",
       "    </tr>\n",
       "  </tbody>\n",
       "</table>\n",
       "</div>"
      ],
      "text/plain": [
       "Churn                                       0           1\n",
       "gender                               0.510037    0.510839\n",
       "Near_Location                        0.873086    0.768143\n",
       "Partner                              0.534195    0.355325\n",
       "Promo_friends                        0.353522    0.183789\n",
       "Phone                                0.903709    0.902922\n",
       "Contract_period                      5.747193    1.728558\n",
       "Group_visits                         0.464103    0.268615\n",
       "Age                                 29.976523   26.989632\n",
       "Avg_additional_charges_total       158.445715  115.082899\n",
       "Month_to_end_contract                5.283089    1.662582\n",
       "Lifetime                             4.711807    0.990575\n",
       "Avg_class_frequency_total            2.024876    1.474995\n",
       "Avg_class_frequency_current_month    2.027882    1.044546"
      ]
     },
     "execution_count": 8,
     "metadata": {},
     "output_type": "execute_result"
    }
   ],
   "source": [
    "gym_churn.groupby('Churn').agg('mean').T"
   ]
  },
  {
   "cell_type": "markdown",
   "metadata": {},
   "source": [
    "Не очень наглядно - построим гистограммы:"
   ]
  },
  {
   "cell_type": "code",
   "execution_count": 9,
   "metadata": {
    "scrolled": false
   },
   "outputs": [
    {
     "data": {
      "image/png": "[encoded data removed]",
      "text/plain": [
       "<Figure size 432x432 with 1 Axes>"
      ]
     },
     "metadata": {
      "needs_background": "light"
     },
     "output_type": "display_data"
    },
    {
     "data": {
      "image/png": "[encoded data removed]",
      "text/plain": [
       "<Figure size 432x432 with 1 Axes>"
      ]
     },
     "metadata": {
      "needs_background": "light"
     },
     "output_type": "display_data"
    },
    {
     "data": {
      "image/png": "[encoded data removed]",
      "text/plain": [
       "<Figure size 432x432 with 1 Axes>"
      ]
     },
     "metadata": {
      "needs_background": "light"
     },
     "output_type": "display_data"
    },
    {
     "data": {
      "image/png": "[encoded data removed]",
      "text/plain": [
       "<Figure size 432x432 with 1 Axes>"
      ]
     },
     "metadata": {
      "needs_background": "light"
     },
     "output_type": "display_data"
    },
    {
     "data": {
      "image/png": "[encoded data removed]",
      "text/plain": [
       "<Figure size 432x432 with 1 Axes>"
      ]
     },
     "metadata": {
      "needs_background": "light"
     },
     "output_type": "display_data"
    },
    {
     "data": {
      "image/png": "[encoded data removed]",
      "text/plain": [
       "<Figure size 432x432 with 1 Axes>"
      ]
     },
     "metadata": {
      "needs_background": "light"
     },
     "output_type": "display_data"
    },
    {
     "data": {
      "image/png": "[encoded data removed]",
      "text/plain": [
       "<Figure size 432x432 with 1 Axes>"
      ]
     },
     "metadata": {
      "needs_background": "light"
     },
     "output_type": "display_data"
    },
    {
     "data": {
      "image/png": "[encoded data removed]",
      "text/plain": [
       "<Figure size 432x432 with 1 Axes>"
      ]
     },
     "metadata": {
      "needs_background": "light"
     },
     "output_type": "display_data"
    },
    {
     "data": {
      "image/png": "[encoded data removed]",
      "text/plain": [
       "<Figure size 432x432 with 1 Axes>"
      ]
     },
     "metadata": {
      "needs_background": "light"
     },
     "output_type": "display_data"
    },
    {
     "data": {
      "image/png": "[encoded data removed]",
      "text/plain": [
       "<Figure size 432x432 with 1 Axes>"
      ]
     },
     "metadata": {
      "needs_background": "light"
     },
     "output_type": "display_data"
    }
   ],
   "source": [
    "for col in gym_churn.drop(['Churn', \n",
    "                           'Avg_additional_charges_total', \n",
    "                           'Avg_class_frequency_total',\n",
    "                           'Avg_class_frequency_current_month'], axis = 1).columns: # убрал эти\n",
    "# столбцы, так они очень сильно грузили расчет ( с этими стобцами далее построены боксплоты)\n",
    "    plt.figure(figsize=(6, 6))\n",
    "    sns.countplot(x = gym_churn[col], hue='Churn', data=gym_churn)\n",
    "    plt.title(col)\n",
    "    plt.show()\n",
    "\n"
   ]
  },
  {
   "cell_type": "markdown",
   "metadata": {},
   "source": [
    "1) Женщины и мужчины в равной степени подвержены уходу;\n",
    "\n",
    "2) Близость к спорт залу влияет очень сильно. Люди которые работают, либо живут близко остаются чаще. Те, которые живут дальше, примерно в равных долях остаются/уходят;\n",
    "\n",
    "3) Партнеры зала в равной степени уходят / остаются;\n",
    "\n",
    "4) Люди пришедшии по акции \"приведи друга\" удерживаются лучше. Вероятно акция была действительно выгодной. Пришедших самостоятелььно больше, но и уходят они в половине случаев. ДУмаю дополнительным фактором влияется факт наличия знакомого в зале - вдвоем/троем... комфортнее!\n",
    "\n",
    "5) Самый большой отток в первый месяц - порядка 75%, 6 и 12 месяцев  практически остаются все. Сходно и с временем до окончания абонимента( более 75%) - нне дохаживают последний месяц;\n",
    "\n",
    "6) Люди, не посещавшие групповые занятия с большей вероятностью уходят;\n",
    "\n",
    "7) Людей ушедших до 24 лет больше чем остающихся. Далее чем старше - тем вероятность уходя все более стремится на 0;\n",
    "\n",
    "8) Люди активно уходят спустя первые 2 месяца, далее быстро идет на спад."
   ]
  },
  {
   "cell_type": "markdown",
   "metadata": {},
   "source": [
    "Боксплоты:"
   ]
  },
  {
   "cell_type": "code",
   "execution_count": 10,
   "metadata": {
    "scrolled": false
   },
   "outputs": [
    {
     "data": {
      "image/png": "[encoded data removed]",
      "text/plain": [
       "<Figure size 360x360 with 1 Axes>"
      ]
     },
     "metadata": {
      "needs_background": "light"
     },
     "output_type": "display_data"
    },
    {
     "data": {
      "image/png": "[encoded data removed]",
      "text/plain": [
       "<Figure size 360x360 with 1 Axes>"
      ]
     },
     "metadata": {
      "needs_background": "light"
     },
     "output_type": "display_data"
    },
    {
     "data": {
      "image/png": "[encoded data removed]",
      "text/plain": [
       "<Figure size 360x360 with 1 Axes>"
      ]
     },
     "metadata": {
      "needs_background": "light"
     },
     "output_type": "display_data"
    }
   ],
   "source": [
    "for col in ['Avg_additional_charges_total',\n",
    "            'Avg_class_frequency_total',\n",
    "            'Avg_class_frequency_current_month']:\n",
    "    plt.figure(figsize=(5, 5))\n",
    "    sns.boxplot(x ='Churn', y =gym_churn[col], data=gym_churn)\n",
    "    plt.title(col)\n",
    "    plt.show()\n"
   ]
  },
  {
   "cell_type": "markdown",
   "metadata": {},
   "source": [
    "Выбивающегося не увидел."
   ]
  },
  {
   "cell_type": "markdown",
   "metadata": {},
   "source": [
    "Построим тепловую карту с матрицией корреляции для данных из дата фрейма gym_churn"
   ]
  },
  {
   "cell_type": "code",
   "execution_count": 11,
   "metadata": {},
   "outputs": [
    {
     "data": {
      "image/png": "[encoded data removed]",
      "text/plain": [
       "<Figure size 864x864 with 2 Axes>"
      ]
     },
     "metadata": {
      "needs_background": "light"
     },
     "output_type": "display_data"
    }
   ],
   "source": [
    "corr = gym_churn.corr()\n",
    "plt.figure(figsize=(12, 12))\n",
    "sns.heatmap(corr, \n",
    "            annot = True, linecolor ='green', \n",
    "            fmt = '0.2f', \n",
    "            linewidths=.6, \n",
    "            center = 0, \n",
    "            cmap=\"seismic\"\n",
    "           )\n",
    "plt.show()"
   ]
  },
  {
   "cell_type": "markdown",
   "metadata": {},
   "source": [
    "Видно 4 коррелирующих между собой столбца:\n",
    "\n",
    "1) `Month_to_end_contract` и `Contract_period`. Месяцы до окончания абонемента и его текущая длительность;\n",
    "\n",
    "2) `Avg_class_frequency_current_month` и `Avg_class_frequency_total`средняя частота посещений в неделю в текущем месяце и средняя посещаемость за все время;\n",
    "\n",
    "Вообщем то ничего удивительного."
   ]
  },
  {
   "cell_type": "markdown",
   "metadata": {},
   "source": [
    "**Вывод:** обнаружено что некоторые группы лучше или хуже удерживаются. есть 2 выборки \n",
    "по 2 столбца коррелирующих между собой"
   ]
  },
  {
   "cell_type": "markdown",
   "metadata": {},
   "source": [
    "# Модель прогнозирования оттока клиентов <a id ='6'></a>"
   ]
  },
  {
   "cell_type": "markdown",
   "metadata": {},
   "source": [
    "Разделим наши данные на признаки (матрица X) и целевую переменную (y)"
   ]
  },
  {
   "cell_type": "code",
   "execution_count": 12,
   "metadata": {},
   "outputs": [],
   "source": [
    "X = gym_churn.drop('Churn', axis = 1)\n",
    "y = gym_churn['Churn']"
   ]
  },
  {
   "cell_type": "markdown",
   "metadata": {},
   "source": [
    "Разделяем модель на обучающую и валидационную выборку:"
   ]
  },
  {
   "cell_type": "code",
   "execution_count": 13,
   "metadata": {},
   "outputs": [],
   "source": [
    "X_train, X_test, y_train, y_test = train_test_split(X, y, test_size=0.2, random_state=0)"
   ]
  },
  {
   "cell_type": "markdown",
   "metadata": {},
   "source": [
    "Далее рассмотрим два варианта машинного обучения(логистическая и случайный лес)"
   ]
  },
  {
   "cell_type": "markdown",
   "metadata": {},
   "source": [
    "# Логистическая регрессия <a id ='6.1'></a>"
   ]
  },
  {
   "cell_type": "markdown",
   "metadata": {},
   "source": [
    "Создадим объект класса LogisticRegression и применим его к обучающей выборке:"
   ]
  },
  {
   "cell_type": "code",
   "execution_count": 14,
   "metadata": {},
   "outputs": [],
   "source": [
    "model = LogisticRegression()\n",
    "model.fit(X_train, y_train)\n",
    "predictions = model.predict(X_test)\n",
    "probabilities =  model.predict_proba(X_test)[:,1]"
   ]
  },
  {
   "cell_type": "markdown",
   "metadata": {},
   "source": [
    "Посмтоим результаты по основным характеристикам:"
   ]
  },
  {
   "cell_type": "code",
   "execution_count": 15,
   "metadata": {
    "scrolled": true
   },
   "outputs": [
    {
     "name": "stdout",
     "output_type": "stream",
     "text": [
      "Accuracy: 0.93\n",
      "Precision: 0.86\n",
      "Recall: 0.83\n",
      "F1: 0.85\n"
     ]
    }
   ],
   "source": [
    "print('Accuracy: {:.2f}'.format(accuracy_score(y_test, predictions)))\n",
    "print('Precision: {:.2f}'.format(precision_score(y_test, predictions)))\n",
    "print('Recall: {:.2f}'.format(recall_score(y_test, predictions)))\n",
    "print('F1: {:.2f}'.format(f1_score(y_test, predictions)))"
   ]
  },
  {
   "cell_type": "markdown",
   "metadata": {},
   "source": [
    "Доля верно угаданных ответов из всех прогнозов 93%\n",
    "\n",
    "Доля правильных ответов только среди целевого класса 86%\n",
    "\n",
    "Сколько реальных объектов \"1\" класса вы смогли обнаружить 83%\n",
    "\n",
    "сводная метрика, учитывающая баланс между Precision и Recall - 85%\n",
    "\n",
    "вполне приличные результаты.\n",
    "\n",
    "Посмотрим на то что покажет случайный лес:"
   ]
  },
  {
   "cell_type": "markdown",
   "metadata": {},
   "source": [
    "# Cлучайный лес <a id ='6.2'></a>"
   ]
  },
  {
   "cell_type": "code",
   "execution_count": 16,
   "metadata": {},
   "outputs": [],
   "source": [
    "scaler = StandardScaler()\n",
    "scaler.fit(X_train)\n",
    "X_train_st = scaler.transform(X_train)\n",
    "X_test_st = scaler.transform(X_test)\n",
    "\n",
    "rf_model = RandomForestClassifier(n_estimators = 100, random_state = 0) \n",
    "rf_model.fit(X_train_st, y_train)\n",
    "rf_predictions = rf_model.predict(X_test_st) \n",
    "rf_probabilities = rf_model.predict_proba(X_test_st)[:,1]"
   ]
  },
  {
   "cell_type": "code",
   "execution_count": 17,
   "metadata": {
    "scrolled": false
   },
   "outputs": [
    {
     "name": "stdout",
     "output_type": "stream",
     "text": [
      "Accuracy: 0.92\n",
      "Precision: 0.84\n",
      "Recall: 0.81\n",
      "F1: 0.83\n"
     ]
    }
   ],
   "source": [
    "print('Accuracy: {:.2f}'.format(accuracy_score(y_test, rf_predictions)))\n",
    "print('Precision: {:.2f}'.format(precision_score(y_test, rf_predictions)))\n",
    "print('Recall: {:.2f}'.format(recall_score(y_test, rf_predictions)))\n",
    "print('F1: {:.2f}'.format(f1_score(y_test, rf_predictions)))"
   ]
  },
  {
   "cell_type": "markdown",
   "metadata": {},
   "source": [
    "Доля верно угаданных ответов из всех прогнозов 92%\n",
    "\n",
    "Доля правильных ответов только среди целевого класса 84%\n",
    "\n",
    "Сколько реальных объектов \"1\" класса вы смогли обнаружить 81%\n",
    "\n",
    "сводная метрика, учитывающая баланс между Precision и Recall - 83%\n",
    "\n",
    "Результаты так же вполне приличные, однако немного хуже чем при логистической регрессии:"
   ]
  },
  {
   "cell_type": "markdown",
   "metadata": {},
   "source": [
    "**Вывод:** Будем пользоваться моделью с логистической регрессией, при условии что угаданных ответов было 93% можно очень точно предсказывать уход клиентов. При условии, что уходят 27% можно попробовать сохранить большую их долю!"
   ]
  },
  {
   "cell_type": "markdown",
   "metadata": {},
   "source": [
    "# Кластеризация  <a id ='7'></a>"
   ]
  },
  {
   "cell_type": "markdown",
   "metadata": {},
   "source": [
    "В данном разделе проведем кластеризацию пользователей:"
   ]
  },
  {
   "cell_type": "code",
   "execution_count": 18,
   "metadata": {},
   "outputs": [],
   "source": [
    "sс = gym_churn.drop(['Churn'], axis=1)\n",
    "column = sс.columns\n",
    "sс = StandardScaler().fit_transform(sс)\n",
    "sс = pd.DataFrame(sс, columns = column).astype('float64')"
   ]
  },
  {
   "cell_type": "code",
   "execution_count": 19,
   "metadata": {},
   "outputs": [],
   "source": [
    "linked = linkage(sс, method = 'ward')"
   ]
  },
  {
   "cell_type": "code",
   "execution_count": 20,
   "metadata": {},
   "outputs": [
    {
     "data": {
      "image/png": "[encoded data removed]",
      "text/plain": [
       "<Figure size 1440x1008 with 1 Axes>"
      ]
     },
     "metadata": {
      "needs_background": "light"
     },
     "output_type": "display_data"
    }
   ],
   "source": [
    "plt.figure(figsize=(20, 14))  \n",
    "dendrogram(linked, orientation = 'top')\n",
    "plt.title('Кластеризация пользователей')\n",
    "plt.show()"
   ]
  },
  {
   "cell_type": "markdown",
   "metadata": {},
   "source": [
    "Примем что кластеров будет 5 ( так же было в исходном задании):"
   ]
  },
  {
   "cell_type": "markdown",
   "metadata": {},
   "source": [
    "Кластеризуем:"
   ]
  },
  {
   "cell_type": "code",
   "execution_count": 21,
   "metadata": {
    "scrolled": false
   },
   "outputs": [
    {
     "data": {
      "text/plain": [
       "3    1262\n",
       "0    1011\n",
       "4     837\n",
       "2     505\n",
       "1     385\n",
       "Name: cluster, dtype: int64"
      ]
     },
     "execution_count": 21,
     "metadata": {},
     "output_type": "execute_result"
    }
   ],
   "source": [
    "km = KMeans(n_clusters = 5, random_state = 0)\n",
    "labels = km.fit_predict(sс)\n",
    "gym_churn['cluster'] = labels\n",
    "gym_churn.cluster.value_counts()"
   ]
  },
  {
   "cell_type": "markdown",
   "metadata": {},
   "source": [
    "Постороим таблицу с кластерами:"
   ]
  },
  {
   "cell_type": "code",
   "execution_count": 22,
   "metadata": {
    "scrolled": false
   },
   "outputs": [
    {
     "data": {
      "text/html": [
       "<div>\n",
       "<style scoped>\n",
       "    .dataframe tbody tr th:only-of-type {\n",
       "        vertical-align: middle;\n",
       "    }\n",
       "\n",
       "    .dataframe tbody tr th {\n",
       "        vertical-align: top;\n",
       "    }\n",
       "\n",
       "    .dataframe thead th {\n",
       "        text-align: right;\n",
       "    }\n",
       "</style>\n",
       "<table border=\"1\" class=\"dataframe\">\n",
       "  <thead>\n",
       "    <tr style=\"text-align: right;\">\n",
       "      <th>cluster</th>\n",
       "      <th>0</th>\n",
       "      <th>1</th>\n",
       "      <th>2</th>\n",
       "      <th>3</th>\n",
       "      <th>4</th>\n",
       "    </tr>\n",
       "  </thead>\n",
       "  <tbody>\n",
       "    <tr>\n",
       "      <td>gender</td>\n",
       "      <td>0.502473</td>\n",
       "      <td>0.522078</td>\n",
       "      <td>0.495050</td>\n",
       "      <td>0.485737</td>\n",
       "      <td>0.560335</td>\n",
       "    </tr>\n",
       "    <tr>\n",
       "      <td>Near_Location</td>\n",
       "      <td>0.959446</td>\n",
       "      <td>0.862338</td>\n",
       "      <td>0.000000</td>\n",
       "      <td>1.000000</td>\n",
       "      <td>0.976105</td>\n",
       "    </tr>\n",
       "    <tr>\n",
       "      <td>Partner</td>\n",
       "      <td>0.783383</td>\n",
       "      <td>0.470130</td>\n",
       "      <td>0.463366</td>\n",
       "      <td>0.350238</td>\n",
       "      <td>0.356033</td>\n",
       "    </tr>\n",
       "    <tr>\n",
       "      <td>Promo_friends</td>\n",
       "      <td>0.574679</td>\n",
       "      <td>0.306494</td>\n",
       "      <td>0.079208</td>\n",
       "      <td>0.240095</td>\n",
       "      <td>0.229391</td>\n",
       "    </tr>\n",
       "    <tr>\n",
       "      <td>Phone</td>\n",
       "      <td>1.000000</td>\n",
       "      <td>0.000000</td>\n",
       "      <td>1.000000</td>\n",
       "      <td>1.000000</td>\n",
       "      <td>0.998805</td>\n",
       "    </tr>\n",
       "    <tr>\n",
       "      <td>Contract_period</td>\n",
       "      <td>10.884273</td>\n",
       "      <td>4.787013</td>\n",
       "      <td>2.352475</td>\n",
       "      <td>1.948494</td>\n",
       "      <td>2.665472</td>\n",
       "    </tr>\n",
       "    <tr>\n",
       "      <td>Group_visits</td>\n",
       "      <td>0.543027</td>\n",
       "      <td>0.425974</td>\n",
       "      <td>0.215842</td>\n",
       "      <td>0.341521</td>\n",
       "      <td>0.473118</td>\n",
       "    </tr>\n",
       "    <tr>\n",
       "      <td>Age</td>\n",
       "      <td>29.980218</td>\n",
       "      <td>29.301299</td>\n",
       "      <td>28.477228</td>\n",
       "      <td>28.167987</td>\n",
       "      <td>30.127838</td>\n",
       "    </tr>\n",
       "    <tr>\n",
       "      <td>Avg_additional_charges_total</td>\n",
       "      <td>160.706969</td>\n",
       "      <td>143.957664</td>\n",
       "      <td>135.457501</td>\n",
       "      <td>131.622204</td>\n",
       "      <td>161.724258</td>\n",
       "    </tr>\n",
       "    <tr>\n",
       "      <td>Month_to_end_contract</td>\n",
       "      <td>9.950544</td>\n",
       "      <td>4.475325</td>\n",
       "      <td>2.198020</td>\n",
       "      <td>1.856577</td>\n",
       "      <td>2.455197</td>\n",
       "    </tr>\n",
       "    <tr>\n",
       "      <td>Lifetime</td>\n",
       "      <td>4.738872</td>\n",
       "      <td>3.924675</td>\n",
       "      <td>2.809901</td>\n",
       "      <td>2.440571</td>\n",
       "      <td>4.896057</td>\n",
       "    </tr>\n",
       "    <tr>\n",
       "      <td>Avg_class_frequency_total</td>\n",
       "      <td>1.983305</td>\n",
       "      <td>1.847220</td>\n",
       "      <td>1.660461</td>\n",
       "      <td>1.247634</td>\n",
       "      <td>2.851531</td>\n",
       "    </tr>\n",
       "    <tr>\n",
       "      <td>Avg_class_frequency_current_month</td>\n",
       "      <td>1.976225</td>\n",
       "      <td>1.716369</td>\n",
       "      <td>1.477324</td>\n",
       "      <td>1.012983</td>\n",
       "      <td>2.849473</td>\n",
       "    </tr>\n",
       "    <tr>\n",
       "      <td>Churn</td>\n",
       "      <td>0.027695</td>\n",
       "      <td>0.267532</td>\n",
       "      <td>0.443564</td>\n",
       "      <td>0.514263</td>\n",
       "      <td>0.068100</td>\n",
       "    </tr>\n",
       "  </tbody>\n",
       "</table>\n",
       "</div>"
      ],
      "text/plain": [
       "cluster                                     0           1           2  \\\n",
       "gender                               0.502473    0.522078    0.495050   \n",
       "Near_Location                        0.959446    0.862338    0.000000   \n",
       "Partner                              0.783383    0.470130    0.463366   \n",
       "Promo_friends                        0.574679    0.306494    0.079208   \n",
       "Phone                                1.000000    0.000000    1.000000   \n",
       "Contract_period                     10.884273    4.787013    2.352475   \n",
       "Group_visits                         0.543027    0.425974    0.215842   \n",
       "Age                                 29.980218   29.301299   28.477228   \n",
       "Avg_additional_charges_total       160.706969  143.957664  135.457501   \n",
       "Month_to_end_contract                9.950544    4.475325    2.198020   \n",
       "Lifetime                             4.738872    3.924675    2.809901   \n",
       "Avg_class_frequency_total            1.983305    1.847220    1.660461   \n",
       "Avg_class_frequency_current_month    1.976225    1.716369    1.477324   \n",
       "Churn                                0.027695    0.267532    0.443564   \n",
       "\n",
       "cluster                                     3           4  \n",
       "gender                               0.485737    0.560335  \n",
       "Near_Location                        1.000000    0.976105  \n",
       "Partner                              0.350238    0.356033  \n",
       "Promo_friends                        0.240095    0.229391  \n",
       "Phone                                1.000000    0.998805  \n",
       "Contract_period                      1.948494    2.665472  \n",
       "Group_visits                         0.341521    0.473118  \n",
       "Age                                 28.167987   30.127838  \n",
       "Avg_additional_charges_total       131.622204  161.724258  \n",
       "Month_to_end_contract                1.856577    2.455197  \n",
       "Lifetime                             2.440571    4.896057  \n",
       "Avg_class_frequency_total            1.247634    2.851531  \n",
       "Avg_class_frequency_current_month    1.012983    2.849473  \n",
       "Churn                                0.514263    0.068100  "
      ]
     },
     "execution_count": 22,
     "metadata": {},
     "output_type": "execute_result"
    }
   ],
   "source": [
    "gym_churn.groupby('cluster').mean().T"
   ]
  },
  {
   "cell_type": "markdown",
   "metadata": {},
   "source": [
    "Не очень наглядно, псотроим гистограммы:"
   ]
  },
  {
   "cell_type": "code",
   "execution_count": 23,
   "metadata": {},
   "outputs": [
    {
     "data": {
      "image/png": "[encoded data removed]",
      "text/plain": [
       "<Figure size 720x720 with 1 Axes>"
      ]
     },
     "metadata": {
      "needs_background": "light"
     },
     "output_type": "display_data"
    }
   ],
   "source": [
    "plt.figure(figsize=(10, 10))\n",
    "sns.countplot(x = gym_churn['cluster'], hue='Churn', data=gym_churn)\n",
    "plt.title('Оставшиеся/ушедшие клиенты по кластерам')\n",
    "plt.show()"
   ]
  },
  {
   "cell_type": "markdown",
   "metadata": {},
   "source": [
    "В третьем кластере уходящих клиентов больше чем приходящих, если посмотреть на сводную таблицу - могу предположить что это клиенты у которых до конца абонимента осталлось 2 месяца и срок их абонимента тоже 2 месяца... не понравилось в зале?\n",
    "\n",
    "Во 2 кластере практически одинаково уходят/остаются по тем же параметрам\n",
    "\n",
    "Это самые убегающие!\n",
    "\n",
    "Лучше всех 4 кластер - самые долгие по времени посещения , посещают в 55% случаев групповые занятия (лучше всех) и до конца абонемента в среднем 10 месяцев. Видимо это клиенты, которые не первый год посещает фитнесс центр. Первый и второй близки к 4 му"
   ]
  },
  {
   "cell_type": "markdown",
   "metadata": {},
   "source": [
    "Посмотрим уходящих/остающихся по кластерам в зависмости от разныхс толбцов:"
   ]
  },
  {
   "cell_type": "code",
   "execution_count": 24,
   "metadata": {
    "scrolled": false
   },
   "outputs": [
    {
     "data": {
      "image/png": "[encoded data removed]",
      "text/plain": [
       "<Figure size 432x432 with 1 Axes>"
      ]
     },
     "metadata": {
      "needs_background": "light"
     },
     "output_type": "display_data"
    },
    {
     "data": {
      "image/png": "[encoded data removed]",
      "text/plain": [
       "<Figure size 432x432 with 1 Axes>"
      ]
     },
     "metadata": {
      "needs_background": "light"
     },
     "output_type": "display_data"
    },
    {
     "data": {
      "image/png": "[encoded data removed]",
      "text/plain": [
       "<Figure size 432x432 with 1 Axes>"
      ]
     },
     "metadata": {
      "needs_background": "light"
     },
     "output_type": "display_data"
    },
    {
     "data": {
      "image/png": "[encoded data removed]",
      "text/plain": [
       "<Figure size 432x432 with 1 Axes>"
      ]
     },
     "metadata": {
      "needs_background": "light"
     },
     "output_type": "display_data"
    },
    {
     "data": {
      "image/png": "[encoded data removed]",
      "text/plain": [
       "<Figure size 432x432 with 1 Axes>"
      ]
     },
     "metadata": {
      "needs_background": "light"
     },
     "output_type": "display_data"
    },
    {
     "data": {
      "image/png": "[encoded data removed]",
      "text/plain": [
       "<Figure size 432x432 with 1 Axes>"
      ]
     },
     "metadata": {
      "needs_background": "light"
     },
     "output_type": "display_data"
    },
    {
     "data": {
      "image/png": "[encoded data removed]",
      "text/plain": [
       "<Figure size 432x432 with 1 Axes>"
      ]
     },
     "metadata": {
      "needs_background": "light"
     },
     "output_type": "display_data"
    },
    {
     "data": {
      "image/png": "[encoded data removed]",
      "text/plain": [
       "<Figure size 432x432 with 1 Axes>"
      ]
     },
     "metadata": {
      "needs_background": "light"
     },
     "output_type": "display_data"
    },
    {
     "data": {
      "image/png": "[encoded data removed]",
      "text/plain": [
       "<Figure size 432x432 with 1 Axes>"
      ]
     },
     "metadata": {
      "needs_background": "light"
     },
     "output_type": "display_data"
    },
    {
     "data": {
      "image/png": "[encoded data removed]",
      "text/plain": [
       "<Figure size 432x432 with 1 Axes>"
      ]
     },
     "metadata": {
      "needs_background": "light"
     },
     "output_type": "display_data"
    },
    {
     "data": {
      "image/png": "[encoded data removed]",
      "text/plain": [
       "<Figure size 432x432 with 1 Axes>"
      ]
     },
     "metadata": {
      "needs_background": "light"
     },
     "output_type": "display_data"
    }
   ],
   "source": [
    "for col in gym_churn.drop(['Churn', \n",
    "                           'Avg_additional_charges_total', \n",
    "                           'Avg_class_frequency_total',\n",
    "                           'Avg_class_frequency_current_month'], axis = 1).columns:\n",
    "    plt.figure(figsize=(6, 6))\n",
    "    sns.countplot(x = gym_churn[col], hue='cluster', data=gym_churn)\n",
    "    plt.title(col)\n",
    "    plt.show()"
   ]
  },
  {
   "cell_type": "markdown",
   "metadata": {},
   "source": [
    "Стоит заметить , что третий класс самый большой (не критично) ( последний график). В большинстве случаев люди попавшие в этот кластер в топе по уходящим, что было замечаное еще на гистограмме \"Оставшиеся/ушедшие клиенты по кластерам\" . Эти график это подтверждают.\n",
    "\n",
    "Посмотрим на боксплоты для столбцов с avg."
   ]
  },
  {
   "cell_type": "code",
   "execution_count": 25,
   "metadata": {},
   "outputs": [
    {
     "data": {
      "image/png": "[encoded data removed]",
      "text/plain": [
       "<Figure size 360x360 with 1 Axes>"
      ]
     },
     "metadata": {
      "needs_background": "light"
     },
     "output_type": "display_data"
    },
    {
     "data": {
      "image/png": "[encoded data removed]",
      "text/plain": [
       "<Figure size 360x360 with 1 Axes>"
      ]
     },
     "metadata": {
      "needs_background": "light"
     },
     "output_type": "display_data"
    },
    {
     "data": {
      "image/png": "[encoded data removed]",
      "text/plain": [
       "<Figure size 360x360 with 1 Axes>"
      ]
     },
     "metadata": {
      "needs_background": "light"
     },
     "output_type": "display_data"
    }
   ],
   "source": [
    "for col in ['Avg_additional_charges_total',\n",
    "            'Avg_class_frequency_total',\n",
    "            'Avg_class_frequency_current_month']:\n",
    "    plt.figure(figsize=(5, 5))\n",
    "    sns.boxplot(x ='cluster', y =gym_churn[col], data=gym_churn)\n",
    "    plt.title(col)\n",
    "    plt.show()"
   ]
  },
  {
   "cell_type": "markdown",
   "metadata": {},
   "source": [
    "2 кластер чаще всех посещает зал !"
   ]
  },
  {
   "cell_type": "markdown",
   "metadata": {},
   "source": [
    "**Выод:** стоит обратить особое внимание на кластеры 0 и 3!"
   ]
  },
  {
   "cell_type": "markdown",
   "metadata": {},
   "source": [
    "# Обшие выводы <a id= '8'></a> "
   ]
  },
  {
   "cell_type": "markdown",
   "metadata": {},
   "source": [
    "Наибольшие проблеммы наблюдаются с людьми у которых абонементы подходят к концу при этом они заведомо вновь приходящие (маленький лайф тайм) - вероятно людей что то неустроило, однако думаю причина более прозаична: банально не хочется ходить в зал, а этот поход был экспериментальным (очередным желаниям начать ходить заниматься) с такого рода людьми сложно что то сделать - фитнесс это не их дело. Поэтому целесообразно оставаться работать с кластерами старых и проверенных клиентов (1,2,4):\n",
    "\n",
    "1) Мотивировать оставаться с клубом (делать скидки при продлении абонимента);\n",
    "\n",
    "2) Создавать/обновлять групповые программы -людям это интересно;\n",
    "\n",
    "3) Размещать рекламу в ближайщих офисах и тц. Для людей это имеет большее значение!\n",
    "\n",
    "4) Для будущих исследований поробовать сделать кластеризацию больше, так же собирать больше информации - вероятно получится найти больше точек удержания для вновь приходящих."
   ]
  }
 ],
 "metadata": {
  "ExecuteTimeLog": [
   {
    "duration": 1036,
    "start_time": "2022-03-01T16:46:40.443Z"
   },
   {
    "duration": 2,
    "start_time": "2022-03-01T16:47:34.870Z"
   },
   {
    "duration": 47,
    "start_time": "2022-03-01T16:47:40.629Z"
   },
   {
    "duration": 3,
    "start_time": "2022-03-01T17:02:52.304Z"
   },
   {
    "duration": 2,
    "start_time": "2022-03-01T18:57:28.699Z"
   },
   {
    "duration": 1125,
    "start_time": "2022-03-01T19:22:40.683Z"
   },
   {
    "duration": 3,
    "start_time": "2022-03-01T19:26:38.719Z"
   },
   {
    "duration": 88,
    "start_time": "2022-03-01T19:26:55.470Z"
   },
   {
    "duration": 4,
    "start_time": "2022-03-01T19:35:11.594Z"
   },
   {
    "duration": 3,
    "start_time": "2022-03-01T20:09:03.895Z"
   },
   {
    "duration": 97,
    "start_time": "2022-03-01T20:11:36.564Z"
   },
   {
    "duration": 7,
    "start_time": "2022-03-01T20:11:48.275Z"
   },
   {
    "duration": 5,
    "start_time": "2022-03-01T20:12:03.963Z"
   },
   {
    "duration": 12,
    "start_time": "2022-03-01T20:12:33.835Z"
   },
   {
    "duration": 8,
    "start_time": "2022-03-01T20:14:34.405Z"
   },
   {
    "duration": 7,
    "start_time": "2022-03-01T20:14:40.549Z"
   },
   {
    "duration": 7,
    "start_time": "2022-03-01T20:14:45.942Z"
   },
   {
    "duration": 1152,
    "start_time": "2022-03-01T20:14:55.390Z"
   },
   {
    "duration": 97,
    "start_time": "2022-03-01T20:14:56.544Z"
   },
   {
    "duration": 5,
    "start_time": "2022-03-01T20:14:56.643Z"
   },
   {
    "duration": 8,
    "start_time": "2022-03-01T20:14:56.649Z"
   },
   {
    "duration": 12,
    "start_time": "2022-03-01T20:14:56.659Z"
   },
   {
    "duration": 9,
    "start_time": "2022-03-01T20:14:56.672Z"
   },
   {
    "duration": 339,
    "start_time": "2022-03-02T16:14:09.940Z"
   },
   {
    "duration": 2473,
    "start_time": "2022-03-02T16:20:10.989Z"
   },
   {
    "duration": 1463,
    "start_time": "2022-03-02T16:20:22.101Z"
   },
   {
    "duration": 4,
    "start_time": "2022-03-02T16:20:35.733Z"
   },
   {
    "duration": 264,
    "start_time": "2022-03-02T16:20:45.517Z"
   },
   {
    "duration": 18,
    "start_time": "2022-03-02T16:20:53.980Z"
   },
   {
    "duration": 12,
    "start_time": "2022-03-02T16:21:01.996Z"
   },
   {
    "duration": 371,
    "start_time": "2022-03-02T16:21:45.738Z"
   },
   {
    "duration": 14,
    "start_time": "2022-03-02T16:21:50.194Z"
   },
   {
    "duration": 284,
    "start_time": "2022-03-02T16:23:48.532Z"
   },
   {
    "duration": 252,
    "start_time": "2022-03-02T16:24:43.675Z"
   },
   {
    "duration": 275,
    "start_time": "2022-03-02T16:26:01.863Z"
   },
   {
    "duration": 259,
    "start_time": "2022-03-02T16:26:16.910Z"
   },
   {
    "duration": 596,
    "start_time": "2022-03-02T16:26:49.868Z"
   },
   {
    "duration": 4,
    "start_time": "2022-03-02T16:27:22.972Z"
   },
   {
    "duration": 95,
    "start_time": "2022-03-02T16:27:24.011Z"
   },
   {
    "duration": 4,
    "start_time": "2022-03-02T16:27:24.196Z"
   },
   {
    "duration": 9,
    "start_time": "2022-03-02T16:27:24.371Z"
   },
   {
    "duration": 12,
    "start_time": "2022-03-02T16:27:24.555Z"
   },
   {
    "duration": 8,
    "start_time": "2022-03-02T16:27:25.048Z"
   },
   {
    "duration": 49,
    "start_time": "2022-03-02T16:27:25.116Z"
   },
   {
    "duration": 11,
    "start_time": "2022-03-02T16:27:25.166Z"
   },
   {
    "duration": 4585,
    "start_time": "2022-03-02T16:27:25.180Z"
   },
   {
    "duration": 663,
    "start_time": "2022-03-02T16:27:53.907Z"
   },
   {
    "duration": 3447,
    "start_time": "2022-03-02T16:28:40.921Z"
   },
   {
    "duration": 3392,
    "start_time": "2022-03-02T16:29:23.776Z"
   },
   {
    "duration": 3420,
    "start_time": "2022-03-02T16:29:40.975Z"
   },
   {
    "duration": 3,
    "start_time": "2022-03-02T16:30:52.766Z"
   },
   {
    "duration": 3448,
    "start_time": "2022-03-02T16:31:01.563Z"
   },
   {
    "duration": 4450,
    "start_time": "2022-03-02T16:31:08.915Z"
   },
   {
    "duration": 6803,
    "start_time": "2022-03-02T16:33:38.046Z"
   },
   {
    "duration": 288,
    "start_time": "2022-03-02T16:33:56.487Z"
   },
   {
    "duration": 281,
    "start_time": "2022-03-02T16:34:05.723Z"
   },
   {
    "duration": 276,
    "start_time": "2022-03-02T16:34:09.917Z"
   },
   {
    "duration": 6492,
    "start_time": "2022-03-02T16:34:21.073Z"
   },
   {
    "duration": 4505,
    "start_time": "2022-03-02T16:36:13.579Z"
   },
   {
    "duration": 1298,
    "start_time": "2022-03-02T16:37:45.286Z"
   },
   {
    "duration": 94,
    "start_time": "2022-03-02T16:37:46.586Z"
   },
   {
    "duration": 5,
    "start_time": "2022-03-02T16:37:46.684Z"
   },
   {
    "duration": 12,
    "start_time": "2022-03-02T16:37:46.691Z"
   },
   {
    "duration": 15,
    "start_time": "2022-03-02T16:37:46.704Z"
   },
   {
    "duration": 9,
    "start_time": "2022-03-02T16:37:46.721Z"
   },
   {
    "duration": 96,
    "start_time": "2022-03-02T16:37:46.731Z"
   },
   {
    "duration": 12,
    "start_time": "2022-03-02T16:37:46.829Z"
   },
   {
    "duration": 1365,
    "start_time": "2022-03-02T16:40:52.682Z"
   },
   {
    "duration": 106,
    "start_time": "2022-03-02T16:40:54.049Z"
   },
   {
    "duration": 6,
    "start_time": "2022-03-02T16:40:54.158Z"
   },
   {
    "duration": 10,
    "start_time": "2022-03-02T16:40:54.166Z"
   },
   {
    "duration": 19,
    "start_time": "2022-03-02T16:40:54.178Z"
   },
   {
    "duration": 10,
    "start_time": "2022-03-02T16:40:54.199Z"
   },
   {
    "duration": 79,
    "start_time": "2022-03-02T16:40:54.211Z"
   },
   {
    "duration": 14,
    "start_time": "2022-03-02T16:40:54.292Z"
   },
   {
    "duration": 4435,
    "start_time": "2022-03-02T16:40:54.309Z"
   },
   {
    "duration": 3578,
    "start_time": "2022-03-02T16:43:29.375Z"
   },
   {
    "duration": 375,
    "start_time": "2022-03-02T16:44:24.950Z"
   },
   {
    "duration": 1272,
    "start_time": "2022-03-02T16:47:06.952Z"
   },
   {
    "duration": 150,
    "start_time": "2022-03-02T16:47:08.226Z"
   },
   {
    "duration": 6,
    "start_time": "2022-03-02T16:47:08.378Z"
   },
   {
    "duration": 10,
    "start_time": "2022-03-02T16:47:08.386Z"
   },
   {
    "duration": 16,
    "start_time": "2022-03-02T16:47:08.397Z"
   },
   {
    "duration": 10,
    "start_time": "2022-03-02T16:47:08.415Z"
   },
   {
    "duration": 104,
    "start_time": "2022-03-02T16:47:08.427Z"
   },
   {
    "duration": 12,
    "start_time": "2022-03-02T16:47:08.533Z"
   },
   {
    "duration": 6851,
    "start_time": "2022-03-02T16:47:08.548Z"
   },
   {
    "duration": 1230,
    "start_time": "2022-03-02T16:49:05.062Z"
   },
   {
    "duration": 127,
    "start_time": "2022-03-02T16:49:06.295Z"
   },
   {
    "duration": 6,
    "start_time": "2022-03-02T16:49:06.423Z"
   },
   {
    "duration": 11,
    "start_time": "2022-03-02T16:49:06.431Z"
   },
   {
    "duration": 13,
    "start_time": "2022-03-02T16:49:06.444Z"
   },
   {
    "duration": 11,
    "start_time": "2022-03-02T16:49:06.459Z"
   },
   {
    "duration": 48,
    "start_time": "2022-03-02T16:49:06.472Z"
   },
   {
    "duration": 11,
    "start_time": "2022-03-02T16:49:06.522Z"
   },
   {
    "duration": 1247,
    "start_time": "2022-03-02T16:50:34.982Z"
   },
   {
    "duration": 96,
    "start_time": "2022-03-02T16:50:36.231Z"
   },
   {
    "duration": 6,
    "start_time": "2022-03-02T16:50:36.329Z"
   },
   {
    "duration": 12,
    "start_time": "2022-03-02T16:50:36.337Z"
   },
   {
    "duration": 17,
    "start_time": "2022-03-02T16:50:36.352Z"
   },
   {
    "duration": 11,
    "start_time": "2022-03-02T16:50:36.371Z"
   },
   {
    "duration": 49,
    "start_time": "2022-03-02T16:50:36.383Z"
   },
   {
    "duration": 12,
    "start_time": "2022-03-02T16:50:36.433Z"
   },
   {
    "duration": 1284,
    "start_time": "2022-03-02T16:51:33.179Z"
   },
   {
    "duration": 110,
    "start_time": "2022-03-02T16:51:34.465Z"
   },
   {
    "duration": 5,
    "start_time": "2022-03-02T16:51:34.578Z"
   },
   {
    "duration": 13,
    "start_time": "2022-03-02T16:51:34.585Z"
   },
   {
    "duration": 18,
    "start_time": "2022-03-02T16:51:34.600Z"
   },
   {
    "duration": 13,
    "start_time": "2022-03-02T16:51:34.620Z"
   },
   {
    "duration": 71,
    "start_time": "2022-03-02T16:51:34.635Z"
   },
   {
    "duration": 10,
    "start_time": "2022-03-02T16:51:34.708Z"
   },
   {
    "duration": 1215,
    "start_time": "2022-03-02T16:52:20.271Z"
   },
   {
    "duration": 95,
    "start_time": "2022-03-02T16:52:21.488Z"
   },
   {
    "duration": 6,
    "start_time": "2022-03-02T16:52:21.585Z"
   },
   {
    "duration": 15,
    "start_time": "2022-03-02T16:52:21.593Z"
   },
   {
    "duration": 22,
    "start_time": "2022-03-02T16:52:21.610Z"
   },
   {
    "duration": 12,
    "start_time": "2022-03-02T16:52:21.633Z"
   },
   {
    "duration": 63,
    "start_time": "2022-03-02T16:52:21.647Z"
   },
   {
    "duration": 11,
    "start_time": "2022-03-02T16:52:21.712Z"
   },
   {
    "duration": 1227,
    "start_time": "2022-03-02T16:52:57.453Z"
   },
   {
    "duration": 96,
    "start_time": "2022-03-02T16:52:58.682Z"
   },
   {
    "duration": 5,
    "start_time": "2022-03-02T16:52:58.780Z"
   },
   {
    "duration": 16,
    "start_time": "2022-03-02T16:52:58.787Z"
   },
   {
    "duration": 14,
    "start_time": "2022-03-02T16:52:58.805Z"
   },
   {
    "duration": 7,
    "start_time": "2022-03-02T16:52:58.821Z"
   },
   {
    "duration": 77,
    "start_time": "2022-03-02T16:52:58.829Z"
   },
   {
    "duration": 11,
    "start_time": "2022-03-02T16:52:58.908Z"
   },
   {
    "duration": 1182,
    "start_time": "2022-03-02T16:55:49.294Z"
   },
   {
    "duration": 90,
    "start_time": "2022-03-02T16:55:50.478Z"
   },
   {
    "duration": 6,
    "start_time": "2022-03-02T16:55:50.570Z"
   },
   {
    "duration": 11,
    "start_time": "2022-03-02T16:55:50.577Z"
   },
   {
    "duration": 14,
    "start_time": "2022-03-02T16:55:50.590Z"
   },
   {
    "duration": 10,
    "start_time": "2022-03-02T16:55:50.606Z"
   },
   {
    "duration": 66,
    "start_time": "2022-03-02T16:55:50.618Z"
   },
   {
    "duration": 11,
    "start_time": "2022-03-02T16:55:50.685Z"
   },
   {
    "duration": 1162,
    "start_time": "2022-03-02T16:56:38.608Z"
   },
   {
    "duration": 127,
    "start_time": "2022-03-02T16:56:39.772Z"
   },
   {
    "duration": 5,
    "start_time": "2022-03-02T16:56:39.904Z"
   },
   {
    "duration": 25,
    "start_time": "2022-03-02T16:56:39.910Z"
   },
   {
    "duration": 16,
    "start_time": "2022-03-02T16:56:39.937Z"
   },
   {
    "duration": 16,
    "start_time": "2022-03-02T16:56:39.955Z"
   },
   {
    "duration": 64,
    "start_time": "2022-03-02T16:56:39.973Z"
   },
   {
    "duration": 11,
    "start_time": "2022-03-02T16:56:40.038Z"
   },
   {
    "duration": 18,
    "start_time": "2022-03-02T16:56:40.051Z"
   },
   {
    "duration": 223240,
    "start_time": "2022-03-02T16:56:40.071Z"
   },
   {
    "duration": 2,
    "start_time": "2022-03-02T17:00:23.313Z"
   },
   {
    "duration": 8,
    "start_time": "2022-03-02T17:00:23.316Z"
   },
   {
    "duration": 1271,
    "start_time": "2022-03-02T17:01:16.051Z"
   },
   {
    "duration": 93,
    "start_time": "2022-03-02T17:01:17.324Z"
   },
   {
    "duration": 5,
    "start_time": "2022-03-02T17:01:17.418Z"
   },
   {
    "duration": 10,
    "start_time": "2022-03-02T17:01:17.425Z"
   },
   {
    "duration": 14,
    "start_time": "2022-03-02T17:01:17.437Z"
   },
   {
    "duration": 9,
    "start_time": "2022-03-02T17:01:17.453Z"
   },
   {
    "duration": 54,
    "start_time": "2022-03-02T17:01:17.464Z"
   },
   {
    "duration": 11,
    "start_time": "2022-03-02T17:01:17.519Z"
   },
   {
    "duration": 368,
    "start_time": "2022-03-02T17:01:17.532Z"
   },
   {
    "duration": 741,
    "start_time": "2022-03-02T17:01:17.161Z"
   },
   {
    "duration": 739,
    "start_time": "2022-03-02T17:01:17.164Z"
   },
   {
    "duration": 739,
    "start_time": "2022-03-02T17:01:17.165Z"
   },
   {
    "duration": 275,
    "start_time": "2022-03-02T17:01:47.715Z"
   },
   {
    "duration": 293,
    "start_time": "2022-03-02T17:02:31.056Z"
   },
   {
    "duration": 1135,
    "start_time": "2022-03-02T17:03:23.334Z"
   },
   {
    "duration": 128,
    "start_time": "2022-03-02T17:03:24.471Z"
   },
   {
    "duration": 7,
    "start_time": "2022-03-02T17:03:24.601Z"
   },
   {
    "duration": 10,
    "start_time": "2022-03-02T17:03:24.610Z"
   },
   {
    "duration": 18,
    "start_time": "2022-03-02T17:03:24.622Z"
   },
   {
    "duration": 12,
    "start_time": "2022-03-02T17:03:24.641Z"
   },
   {
    "duration": 67,
    "start_time": "2022-03-02T17:03:24.655Z"
   },
   {
    "duration": 10,
    "start_time": "2022-03-02T17:03:24.723Z"
   },
   {
    "duration": 1188,
    "start_time": "2022-03-02T17:07:40.802Z"
   },
   {
    "duration": 111,
    "start_time": "2022-03-02T17:07:41.992Z"
   },
   {
    "duration": 6,
    "start_time": "2022-03-02T17:07:42.105Z"
   },
   {
    "duration": 10,
    "start_time": "2022-03-02T17:07:42.113Z"
   },
   {
    "duration": 15,
    "start_time": "2022-03-02T17:07:42.125Z"
   },
   {
    "duration": 9,
    "start_time": "2022-03-02T17:07:42.142Z"
   },
   {
    "duration": 71,
    "start_time": "2022-03-02T17:07:42.152Z"
   },
   {
    "duration": 12,
    "start_time": "2022-03-02T17:07:42.224Z"
   },
   {
    "duration": 270691,
    "start_time": "2022-03-02T17:07:42.239Z"
   },
   {
    "duration": 1223,
    "start_time": "2022-03-02T17:14:41.256Z"
   },
   {
    "duration": 108,
    "start_time": "2022-03-02T17:14:42.481Z"
   },
   {
    "duration": 6,
    "start_time": "2022-03-02T17:14:42.593Z"
   },
   {
    "duration": 11,
    "start_time": "2022-03-02T17:14:42.601Z"
   },
   {
    "duration": 19,
    "start_time": "2022-03-02T17:14:42.613Z"
   },
   {
    "duration": 19,
    "start_time": "2022-03-02T17:14:42.634Z"
   },
   {
    "duration": 68,
    "start_time": "2022-03-02T17:14:42.656Z"
   },
   {
    "duration": 12,
    "start_time": "2022-03-02T17:14:42.726Z"
   },
   {
    "duration": 411,
    "start_time": "2022-03-02T17:14:42.740Z"
   },
   {
    "duration": 6474,
    "start_time": "2022-03-02T17:14:52.129Z"
   },
   {
    "duration": 6777,
    "start_time": "2022-03-02T17:15:29.631Z"
   },
   {
    "duration": 6587,
    "start_time": "2022-03-02T17:15:43.791Z"
   },
   {
    "duration": 6608,
    "start_time": "2022-03-02T17:16:05.582Z"
   },
   {
    "duration": 543,
    "start_time": "2022-03-02T17:16:40.244Z"
   },
   {
    "duration": 1301,
    "start_time": "2022-03-02T17:20:28.081Z"
   },
   {
    "duration": 216,
    "start_time": "2022-03-02T17:20:29.384Z"
   },
   {
    "duration": 6,
    "start_time": "2022-03-02T17:20:29.604Z"
   },
   {
    "duration": 10,
    "start_time": "2022-03-02T17:20:29.611Z"
   },
   {
    "duration": 15,
    "start_time": "2022-03-02T17:20:29.623Z"
   },
   {
    "duration": 12,
    "start_time": "2022-03-02T17:20:29.639Z"
   },
   {
    "duration": 73,
    "start_time": "2022-03-02T17:20:29.653Z"
   },
   {
    "duration": 12,
    "start_time": "2022-03-02T17:20:29.728Z"
   },
   {
    "duration": 274334,
    "start_time": "2022-03-02T17:20:29.742Z"
   },
   {
    "duration": 82,
    "start_time": "2022-03-02T17:25:53.198Z"
   },
   {
    "duration": 4335,
    "start_time": "2022-03-02T17:26:00.673Z"
   },
   {
    "duration": 2905,
    "start_time": "2022-03-02T17:27:03.013Z"
   },
   {
    "duration": 2664,
    "start_time": "2022-03-02T17:27:12.244Z"
   },
   {
    "duration": 372,
    "start_time": "2022-03-02T17:28:29.027Z"
   },
   {
    "duration": 280,
    "start_time": "2022-03-02T17:29:15.068Z"
   },
   {
    "duration": 90,
    "start_time": "2022-03-02T17:30:12.030Z"
   },
   {
    "duration": 88,
    "start_time": "2022-03-02T17:30:34.082Z"
   },
   {
    "duration": 107,
    "start_time": "2022-03-02T17:31:04.473Z"
   },
   {
    "duration": 1269,
    "start_time": "2022-03-02T17:31:32.004Z"
   },
   {
    "duration": 96,
    "start_time": "2022-03-02T17:31:33.275Z"
   },
   {
    "duration": 8,
    "start_time": "2022-03-02T17:31:33.373Z"
   },
   {
    "duration": 22,
    "start_time": "2022-03-02T17:31:33.383Z"
   },
   {
    "duration": 32,
    "start_time": "2022-03-02T17:31:33.408Z"
   },
   {
    "duration": 29,
    "start_time": "2022-03-02T17:31:33.442Z"
   },
   {
    "duration": 75,
    "start_time": "2022-03-02T17:31:33.474Z"
   },
   {
    "duration": 14,
    "start_time": "2022-03-02T17:31:33.551Z"
   },
   {
    "duration": 2532,
    "start_time": "2022-03-02T17:31:33.568Z"
   },
   {
    "duration": 1227,
    "start_time": "2022-03-02T17:32:13.627Z"
   },
   {
    "duration": 102,
    "start_time": "2022-03-02T17:32:14.856Z"
   },
   {
    "duration": 5,
    "start_time": "2022-03-02T17:32:14.960Z"
   },
   {
    "duration": 13,
    "start_time": "2022-03-02T17:32:14.967Z"
   },
   {
    "duration": 15,
    "start_time": "2022-03-02T17:32:14.982Z"
   },
   {
    "duration": 9,
    "start_time": "2022-03-02T17:32:14.999Z"
   },
   {
    "duration": 77,
    "start_time": "2022-03-02T17:32:15.010Z"
   },
   {
    "duration": 11,
    "start_time": "2022-03-02T17:32:15.089Z"
   },
   {
    "duration": 2567,
    "start_time": "2022-03-02T17:32:15.102Z"
   },
   {
    "duration": 872,
    "start_time": "2022-03-02T17:32:17.670Z"
   },
   {
    "duration": 411,
    "start_time": "2022-03-02T17:33:00.884Z"
   },
   {
    "duration": 349,
    "start_time": "2022-03-02T17:33:15.160Z"
   },
   {
    "duration": 648,
    "start_time": "2022-03-02T17:33:28.893Z"
   },
   {
    "duration": 272,
    "start_time": "2022-03-02T17:34:28.955Z"
   },
   {
    "duration": 531,
    "start_time": "2022-03-02T17:34:37.466Z"
   },
   {
    "duration": 1073,
    "start_time": "2022-03-02T17:35:27.042Z"
   },
   {
    "duration": 1093,
    "start_time": "2022-03-02T17:36:41.155Z"
   },
   {
    "duration": 1169,
    "start_time": "2022-03-02T17:37:13.794Z"
   },
   {
    "duration": 1243,
    "start_time": "2022-03-02T17:40:01.238Z"
   },
   {
    "duration": 112,
    "start_time": "2022-03-02T17:40:02.483Z"
   },
   {
    "duration": 6,
    "start_time": "2022-03-02T17:40:02.598Z"
   },
   {
    "duration": 11,
    "start_time": "2022-03-02T17:40:02.606Z"
   },
   {
    "duration": 16,
    "start_time": "2022-03-02T17:40:02.619Z"
   },
   {
    "duration": 8,
    "start_time": "2022-03-02T17:40:02.637Z"
   },
   {
    "duration": 80,
    "start_time": "2022-03-02T17:40:02.646Z"
   },
   {
    "duration": 13,
    "start_time": "2022-03-02T17:40:02.728Z"
   },
   {
    "duration": 2602,
    "start_time": "2022-03-02T17:40:02.744Z"
   },
   {
    "duration": 740,
    "start_time": "2022-03-02T17:40:05.348Z"
   },
   {
    "duration": 1017,
    "start_time": "2022-03-02T17:40:31.906Z"
   },
   {
    "duration": 1315,
    "start_time": "2022-03-02T17:40:49.249Z"
   },
   {
    "duration": 929,
    "start_time": "2022-03-02T17:41:07.600Z"
   },
   {
    "duration": 366,
    "start_time": "2022-03-02T17:41:43.496Z"
   },
   {
    "duration": 1033,
    "start_time": "2022-03-02T17:42:26.862Z"
   },
   {
    "duration": 847,
    "start_time": "2022-03-02T17:42:45.924Z"
   },
   {
    "duration": 524,
    "start_time": "2022-03-02T17:42:57.321Z"
   },
   {
    "duration": 1353,
    "start_time": "2022-03-02T17:44:39.879Z"
   },
   {
    "duration": 1374,
    "start_time": "2022-03-02T17:44:54.818Z"
   },
   {
    "duration": 1346,
    "start_time": "2022-03-02T17:45:05.606Z"
   },
   {
    "duration": 1251,
    "start_time": "2022-03-02T17:45:22.063Z"
   },
   {
    "duration": 1264,
    "start_time": "2022-03-02T17:45:31.165Z"
   },
   {
    "duration": 1326,
    "start_time": "2022-03-02T17:45:42.189Z"
   },
   {
    "duration": 1202,
    "start_time": "2022-03-02T18:09:47.805Z"
   },
   {
    "duration": 1277,
    "start_time": "2022-03-02T18:09:58.830Z"
   },
   {
    "duration": 1320,
    "start_time": "2022-03-02T18:10:35.783Z"
   },
   {
    "duration": 1486,
    "start_time": "2022-03-02T18:10:57.125Z"
   },
   {
    "duration": 1295,
    "start_time": "2022-03-02T18:11:05.411Z"
   },
   {
    "duration": 1479,
    "start_time": "2022-03-02T18:11:16.388Z"
   },
   {
    "duration": 1395,
    "start_time": "2022-03-02T18:11:23.421Z"
   },
   {
    "duration": 1464,
    "start_time": "2022-03-02T18:11:34.330Z"
   },
   {
    "duration": 1366,
    "start_time": "2022-03-02T18:13:10.113Z"
   },
   {
    "duration": 1389,
    "start_time": "2022-03-02T18:13:36.766Z"
   },
   {
    "duration": 1448,
    "start_time": "2022-03-02T18:14:08.848Z"
   },
   {
    "duration": 757,
    "start_time": "2022-03-02T18:15:24.215Z"
   },
   {
    "duration": 1373,
    "start_time": "2022-03-02T18:15:59.624Z"
   },
   {
    "duration": 594,
    "start_time": "2022-03-02T18:18:59.209Z"
   },
   {
    "duration": 1340,
    "start_time": "2022-03-02T18:19:11.026Z"
   },
   {
    "duration": 1456,
    "start_time": "2022-03-02T18:19:28.895Z"
   },
   {
    "duration": 1488,
    "start_time": "2022-03-02T18:19:41.375Z"
   },
   {
    "duration": 3,
    "start_time": "2022-03-02T18:25:30.723Z"
   },
   {
    "duration": 566,
    "start_time": "2022-03-02T18:26:16.404Z"
   },
   {
    "duration": 3,
    "start_time": "2022-03-02T18:26:35.312Z"
   },
   {
    "duration": 570,
    "start_time": "2022-03-02T18:26:36.503Z"
   },
   {
    "duration": 2,
    "start_time": "2022-03-02T18:26:46.037Z"
   },
   {
    "duration": 1282,
    "start_time": "2022-03-02T18:26:46.895Z"
   },
   {
    "duration": 1296,
    "start_time": "2022-03-02T18:26:53.564Z"
   },
   {
    "duration": 3,
    "start_time": "2022-03-02T18:27:07.990Z"
   },
   {
    "duration": 1343,
    "start_time": "2022-03-02T18:27:09.032Z"
   },
   {
    "duration": 1308,
    "start_time": "2022-03-02T18:27:33.530Z"
   },
   {
    "duration": 311,
    "start_time": "2022-03-02T18:29:07.161Z"
   },
   {
    "duration": 4,
    "start_time": "2022-03-02T18:29:32.649Z"
   },
   {
    "duration": 6,
    "start_time": "2022-03-02T18:32:45.765Z"
   },
   {
    "duration": 7,
    "start_time": "2022-03-02T18:32:46.140Z"
   },
   {
    "duration": 3,
    "start_time": "2022-03-02T18:35:56.269Z"
   },
   {
    "duration": 29,
    "start_time": "2022-03-02T18:36:10.626Z"
   },
   {
    "duration": 8,
    "start_time": "2022-03-02T18:36:34.973Z"
   },
   {
    "duration": 5,
    "start_time": "2022-03-02T18:37:35.937Z"
   },
   {
    "duration": 168,
    "start_time": "2022-03-02T18:37:37.650Z"
   },
   {
    "duration": 3,
    "start_time": "2022-03-02T18:37:37.824Z"
   },
   {
    "duration": 8,
    "start_time": "2022-03-02T18:37:38.008Z"
   },
   {
    "duration": 13,
    "start_time": "2022-03-02T18:37:38.526Z"
   },
   {
    "duration": 9,
    "start_time": "2022-03-02T18:37:38.587Z"
   },
   {
    "duration": 54,
    "start_time": "2022-03-02T18:37:38.644Z"
   },
   {
    "duration": 15,
    "start_time": "2022-03-02T18:37:38.701Z"
   },
   {
    "duration": 2546,
    "start_time": "2022-03-02T18:37:38.753Z"
   },
   {
    "duration": 543,
    "start_time": "2022-03-02T18:37:41.301Z"
   },
   {
    "duration": 1450,
    "start_time": "2022-03-02T18:37:41.845Z"
   },
   {
    "duration": 4,
    "start_time": "2022-03-02T18:37:44.544Z"
   },
   {
    "duration": 6,
    "start_time": "2022-03-02T18:37:46.023Z"
   },
   {
    "duration": 26,
    "start_time": "2022-03-02T18:37:47.003Z"
   },
   {
    "duration": 9,
    "start_time": "2022-03-02T18:38:22.246Z"
   },
   {
    "duration": 15,
    "start_time": "2022-03-02T18:38:59.772Z"
   },
   {
    "duration": 363,
    "start_time": "2022-03-02T18:43:02.666Z"
   },
   {
    "duration": 279,
    "start_time": "2022-03-02T18:43:03.943Z"
   },
   {
    "duration": 272,
    "start_time": "2022-03-02T18:43:40.191Z"
   },
   {
    "duration": 13,
    "start_time": "2022-03-02T18:44:12.066Z"
   },
   {
    "duration": 1149,
    "start_time": "2022-03-02T18:44:18.135Z"
   },
   {
    "duration": 93,
    "start_time": "2022-03-02T18:44:19.287Z"
   },
   {
    "duration": 5,
    "start_time": "2022-03-02T18:44:19.390Z"
   },
   {
    "duration": 11,
    "start_time": "2022-03-02T18:44:19.398Z"
   },
   {
    "duration": 14,
    "start_time": "2022-03-02T18:44:19.411Z"
   },
   {
    "duration": 8,
    "start_time": "2022-03-02T18:44:19.426Z"
   },
   {
    "duration": 78,
    "start_time": "2022-03-02T18:44:19.436Z"
   },
   {
    "duration": 12,
    "start_time": "2022-03-02T18:44:19.516Z"
   },
   {
    "duration": 2575,
    "start_time": "2022-03-02T18:44:19.532Z"
   },
   {
    "duration": 538,
    "start_time": "2022-03-02T18:44:22.109Z"
   },
   {
    "duration": 1444,
    "start_time": "2022-03-02T18:44:22.649Z"
   },
   {
    "duration": 6,
    "start_time": "2022-03-02T18:44:24.095Z"
   },
   {
    "duration": 8,
    "start_time": "2022-03-02T18:44:24.102Z"
   },
   {
    "duration": 27,
    "start_time": "2022-03-02T18:44:24.112Z"
   },
   {
    "duration": 57,
    "start_time": "2022-03-02T18:44:24.141Z"
   },
   {
    "duration": 101,
    "start_time": "2022-03-02T18:44:24.282Z"
   },
   {
    "duration": 376,
    "start_time": "2022-03-02T18:44:24.385Z"
   },
   {
    "duration": 17,
    "start_time": "2022-03-02T18:44:24.763Z"
   },
   {
    "duration": 1201,
    "start_time": "2022-03-02T18:45:14.090Z"
   },
   {
    "duration": 224,
    "start_time": "2022-03-02T18:45:15.293Z"
   },
   {
    "duration": 6,
    "start_time": "2022-03-02T18:45:15.519Z"
   },
   {
    "duration": 10,
    "start_time": "2022-03-02T18:45:15.526Z"
   },
   {
    "duration": 14,
    "start_time": "2022-03-02T18:45:15.538Z"
   },
   {
    "duration": 9,
    "start_time": "2022-03-02T18:45:15.554Z"
   },
   {
    "duration": 62,
    "start_time": "2022-03-02T18:45:15.564Z"
   },
   {
    "duration": 11,
    "start_time": "2022-03-02T18:45:15.627Z"
   },
   {
    "duration": 2516,
    "start_time": "2022-03-02T18:45:15.640Z"
   },
   {
    "duration": 543,
    "start_time": "2022-03-02T18:45:18.158Z"
   },
   {
    "duration": 1398,
    "start_time": "2022-03-02T18:45:18.703Z"
   },
   {
    "duration": 3,
    "start_time": "2022-03-02T18:45:20.103Z"
   },
   {
    "duration": 12,
    "start_time": "2022-03-02T18:45:20.108Z"
   },
   {
    "duration": 27,
    "start_time": "2022-03-02T18:45:20.122Z"
   },
   {
    "duration": 130,
    "start_time": "2022-03-02T18:45:20.150Z"
   },
   {
    "duration": 109,
    "start_time": "2022-03-02T18:45:20.287Z"
   },
   {
    "duration": 398,
    "start_time": "2022-03-02T18:45:20.398Z"
   },
   {
    "duration": 11,
    "start_time": "2022-03-02T18:45:20.798Z"
   },
   {
    "duration": 1539,
    "start_time": "2022-03-03T15:21:39.344Z"
   },
   {
    "duration": 231,
    "start_time": "2022-03-03T15:21:40.885Z"
   },
   {
    "duration": 8,
    "start_time": "2022-03-03T15:21:41.119Z"
   },
   {
    "duration": 11,
    "start_time": "2022-03-03T15:21:41.130Z"
   },
   {
    "duration": 19,
    "start_time": "2022-03-03T15:21:41.143Z"
   },
   {
    "duration": 12,
    "start_time": "2022-03-03T15:21:41.164Z"
   },
   {
    "duration": 100,
    "start_time": "2022-03-03T15:21:41.179Z"
   },
   {
    "duration": 14,
    "start_time": "2022-03-03T15:21:41.281Z"
   },
   {
    "duration": 3437,
    "start_time": "2022-03-03T15:21:41.298Z"
   },
   {
    "duration": 745,
    "start_time": "2022-03-03T15:21:44.737Z"
   },
   {
    "duration": 1873,
    "start_time": "2022-03-03T15:21:45.484Z"
   },
   {
    "duration": 5,
    "start_time": "2022-03-03T15:21:47.359Z"
   },
   {
    "duration": 9,
    "start_time": "2022-03-03T15:21:47.367Z"
   },
   {
    "duration": 72,
    "start_time": "2022-03-03T15:21:47.378Z"
   },
   {
    "duration": 11,
    "start_time": "2022-03-03T15:21:47.453Z"
   },
   {
    "duration": 108,
    "start_time": "2022-03-03T15:21:47.535Z"
   },
   {
    "duration": 526,
    "start_time": "2022-03-03T15:21:47.646Z"
   },
   {
    "duration": 13,
    "start_time": "2022-03-03T15:21:48.175Z"
   },
   {
    "duration": 14,
    "start_time": "2022-03-03T15:21:55.810Z"
   },
   {
    "duration": 16,
    "start_time": "2022-03-03T15:22:34.393Z"
   },
   {
    "duration": 158,
    "start_time": "2022-03-03T15:22:55.289Z"
   },
   {
    "duration": 15,
    "start_time": "2022-03-03T15:22:56.494Z"
   },
   {
    "duration": 516,
    "start_time": "2022-03-03T15:22:59.678Z"
   },
   {
    "duration": 15,
    "start_time": "2022-03-03T15:23:00.197Z"
   },
   {
    "duration": 1524,
    "start_time": "2022-03-03T16:29:58.615Z"
   },
   {
    "duration": 19,
    "start_time": "2022-03-03T16:30:01.028Z"
   },
   {
    "duration": 3044,
    "start_time": "2022-03-03T16:30:11.050Z"
   },
   {
    "duration": 19,
    "start_time": "2022-03-03T16:30:16.075Z"
   },
   {
    "duration": 777,
    "start_time": "2022-03-03T16:30:22.563Z"
   },
   {
    "duration": 556,
    "start_time": "2022-03-03T17:03:25.127Z"
   },
   {
    "duration": 348,
    "start_time": "2022-03-03T17:03:35.647Z"
   },
   {
    "duration": 1593,
    "start_time": "2022-03-03T17:03:49.363Z"
   },
   {
    "duration": 218,
    "start_time": "2022-03-03T17:03:50.959Z"
   },
   {
    "duration": 8,
    "start_time": "2022-03-03T17:03:51.181Z"
   },
   {
    "duration": 11,
    "start_time": "2022-03-03T17:03:51.191Z"
   },
   {
    "duration": 19,
    "start_time": "2022-03-03T17:03:51.204Z"
   },
   {
    "duration": 11,
    "start_time": "2022-03-03T17:03:51.225Z"
   },
   {
    "duration": 79,
    "start_time": "2022-03-03T17:03:51.243Z"
   },
   {
    "duration": 29,
    "start_time": "2022-03-03T17:03:51.325Z"
   },
   {
    "duration": 3604,
    "start_time": "2022-03-03T17:03:51.358Z"
   },
   {
    "duration": 791,
    "start_time": "2022-03-03T17:03:54.966Z"
   },
   {
    "duration": 1915,
    "start_time": "2022-03-03T17:03:55.759Z"
   },
   {
    "duration": 7,
    "start_time": "2022-03-03T17:03:57.677Z"
   },
   {
    "duration": 9,
    "start_time": "2022-03-03T17:03:57.687Z"
   },
   {
    "duration": 81,
    "start_time": "2022-03-03T17:03:57.699Z"
   },
   {
    "duration": 91,
    "start_time": "2022-03-03T17:03:57.860Z"
   },
   {
    "duration": 530,
    "start_time": "2022-03-03T17:03:57.957Z"
   },
   {
    "duration": 14,
    "start_time": "2022-03-03T17:03:58.490Z"
   },
   {
    "duration": 471,
    "start_time": "2022-03-03T17:03:58.507Z"
   },
   {
    "duration": 41,
    "start_time": "2022-03-03T17:04:25.496Z"
   },
   {
    "duration": 331,
    "start_time": "2022-03-03T17:04:57.136Z"
   },
   {
    "duration": 13,
    "start_time": "2022-03-03T17:05:14.831Z"
   },
   {
    "duration": 358,
    "start_time": "2022-03-03T17:05:29.783Z"
   },
   {
    "duration": 311,
    "start_time": "2022-03-03T17:05:37.566Z"
   },
   {
    "duration": 112,
    "start_time": "2022-03-03T17:06:11.885Z"
   },
   {
    "duration": 6,
    "start_time": "2022-03-03T17:06:19.497Z"
   },
   {
    "duration": 116,
    "start_time": "2022-03-03T17:06:21.828Z"
   },
   {
    "duration": 6,
    "start_time": "2022-03-03T17:06:22.320Z"
   },
   {
    "duration": 11,
    "start_time": "2022-03-03T17:06:22.363Z"
   },
   {
    "duration": 20,
    "start_time": "2022-03-03T17:06:22.396Z"
   },
   {
    "duration": 11,
    "start_time": "2022-03-03T17:06:22.450Z"
   },
   {
    "duration": 75,
    "start_time": "2022-03-03T17:06:22.523Z"
   },
   {
    "duration": 15,
    "start_time": "2022-03-03T17:06:22.600Z"
   },
   {
    "duration": 3654,
    "start_time": "2022-03-03T17:06:22.634Z"
   },
   {
    "duration": 790,
    "start_time": "2022-03-03T17:06:26.291Z"
   },
   {
    "duration": 1885,
    "start_time": "2022-03-03T17:06:27.084Z"
   },
   {
    "duration": 5,
    "start_time": "2022-03-03T17:06:28.972Z"
   },
   {
    "duration": 10,
    "start_time": "2022-03-03T17:06:28.979Z"
   },
   {
    "duration": 154,
    "start_time": "2022-03-03T17:06:28.992Z"
   },
   {
    "duration": 98,
    "start_time": "2022-03-03T17:06:29.153Z"
   },
   {
    "duration": 562,
    "start_time": "2022-03-03T17:06:29.254Z"
   },
   {
    "duration": 30,
    "start_time": "2022-03-03T17:06:29.818Z"
   },
   {
    "duration": 28,
    "start_time": "2022-03-03T17:06:29.850Z"
   },
   {
    "duration": 11,
    "start_time": "2022-03-03T17:06:29.881Z"
   },
   {
    "duration": 854,
    "start_time": "2022-03-03T17:06:29.894Z"
   },
   {
    "duration": 151980,
    "start_time": "2022-03-03T17:07:00.234Z"
   },
   {
    "duration": 6,
    "start_time": "2022-03-03T17:10:15.962Z"
   },
   {
    "duration": 342,
    "start_time": "2022-03-03T17:10:20.770Z"
   },
   {
    "duration": 362,
    "start_time": "2022-03-03T17:10:32.201Z"
   },
   {
    "duration": 29,
    "start_time": "2022-03-03T17:11:16.432Z"
   },
   {
    "duration": 113,
    "start_time": "2022-03-03T17:11:16.728Z"
   },
   {
    "duration": 5,
    "start_time": "2022-03-03T17:11:17.214Z"
   },
   {
    "duration": 14,
    "start_time": "2022-03-03T17:11:17.245Z"
   },
   {
    "duration": 17,
    "start_time": "2022-03-03T17:11:17.283Z"
   },
   {
    "duration": 11,
    "start_time": "2022-03-03T17:11:17.313Z"
   },
   {
    "duration": 73,
    "start_time": "2022-03-03T17:11:17.383Z"
   },
   {
    "duration": 14,
    "start_time": "2022-03-03T17:11:17.459Z"
   },
   {
    "duration": 3841,
    "start_time": "2022-03-03T17:11:17.476Z"
   },
   {
    "duration": 777,
    "start_time": "2022-03-03T17:11:21.321Z"
   },
   {
    "duration": 1876,
    "start_time": "2022-03-03T17:11:22.100Z"
   },
   {
    "duration": 5,
    "start_time": "2022-03-03T17:11:23.978Z"
   },
   {
    "duration": 9,
    "start_time": "2022-03-03T17:11:23.986Z"
   },
   {
    "duration": 147,
    "start_time": "2022-03-03T17:11:23.998Z"
   },
   {
    "duration": 101,
    "start_time": "2022-03-03T17:11:24.148Z"
   },
   {
    "duration": 549,
    "start_time": "2022-03-03T17:11:24.252Z"
   },
   {
    "duration": 13,
    "start_time": "2022-03-03T17:11:24.804Z"
   },
   {
    "duration": 28,
    "start_time": "2022-03-03T17:11:24.834Z"
   },
   {
    "duration": 12,
    "start_time": "2022-03-03T17:11:24.865Z"
   },
   {
    "duration": 829,
    "start_time": "2022-03-03T17:11:24.880Z"
   },
   {
    "duration": 5,
    "start_time": "2022-03-03T17:11:25.711Z"
   },
   {
    "duration": 318,
    "start_time": "2022-03-03T17:11:25.733Z"
   },
   {
    "duration": 1694,
    "start_time": "2022-03-03T17:11:33.992Z"
   },
   {
    "duration": 19,
    "start_time": "2022-03-03T17:12:11.383Z"
   },
   {
    "duration": 4954,
    "start_time": "2022-03-03T17:21:17.513Z"
   },
   {
    "duration": 1524,
    "start_time": "2022-03-03T17:22:04.134Z"
   },
   {
    "duration": 327,
    "start_time": "2022-03-05T18:31:15.183Z"
   },
   {
    "duration": 1594,
    "start_time": "2022-03-05T18:34:53.760Z"
   },
   {
    "duration": 141,
    "start_time": "2022-03-05T18:34:55.357Z"
   },
   {
    "duration": 7,
    "start_time": "2022-03-05T18:34:55.504Z"
   },
   {
    "duration": 15,
    "start_time": "2022-03-05T18:34:55.513Z"
   },
   {
    "duration": 20,
    "start_time": "2022-03-05T18:34:55.530Z"
   },
   {
    "duration": 39,
    "start_time": "2022-03-05T18:34:55.552Z"
   },
   {
    "duration": 91,
    "start_time": "2022-03-05T18:34:55.593Z"
   },
   {
    "duration": 17,
    "start_time": "2022-03-05T18:34:55.688Z"
   },
   {
    "duration": 5439,
    "start_time": "2022-03-05T18:34:55.710Z"
   },
   {
    "duration": 914,
    "start_time": "2022-03-05T18:35:01.153Z"
   },
   {
    "duration": 1856,
    "start_time": "2022-03-05T18:35:02.070Z"
   },
   {
    "duration": 5,
    "start_time": "2022-03-05T18:35:03.928Z"
   },
   {
    "duration": 17,
    "start_time": "2022-03-05T18:35:03.936Z"
   },
   {
    "duration": 133,
    "start_time": "2022-03-05T18:35:03.956Z"
   },
   {
    "duration": 100,
    "start_time": "2022-03-05T18:35:04.093Z"
   },
   {
    "duration": 772,
    "start_time": "2022-03-05T18:35:04.196Z"
   },
   {
    "duration": 24,
    "start_time": "2022-03-05T18:35:04.971Z"
   },
   {
    "duration": 28,
    "start_time": "2022-03-05T18:35:04.997Z"
   },
   {
    "duration": 13,
    "start_time": "2022-03-05T18:35:05.027Z"
   },
   {
    "duration": 842,
    "start_time": "2022-03-05T18:35:05.043Z"
   },
   {
    "duration": 5,
    "start_time": "2022-03-05T18:35:05.888Z"
   },
   {
    "duration": 2004,
    "start_time": "2022-03-05T18:35:05.895Z"
   },
   {
    "duration": 18,
    "start_time": "2022-03-05T18:35:07.901Z"
   },
   {
    "duration": 4885,
    "start_time": "2022-03-05T18:35:07.922Z"
   },
   {
    "duration": 1012,
    "start_time": "2022-03-05T18:35:12.810Z"
   },
   {
    "duration": 8,
    "start_time": "2022-03-05T18:40:42.363Z"
   },
   {
    "duration": 77,
    "start_time": "2022-03-05T18:42:10.027Z"
   },
   {
    "duration": 4850,
    "start_time": "2022-03-05T19:15:52.757Z"
   },
   {
    "duration": 839,
    "start_time": "2022-03-05T19:31:16.800Z"
   },
   {
    "duration": 5130,
    "start_time": "2022-03-05T19:52:42.585Z"
   },
   {
    "duration": 1568,
    "start_time": "2022-03-05T20:08:09.008Z"
   },
   {
    "duration": 160,
    "start_time": "2022-03-05T20:08:10.579Z"
   },
   {
    "duration": 12,
    "start_time": "2022-03-05T20:08:10.747Z"
   },
   {
    "duration": 12,
    "start_time": "2022-03-05T20:08:10.761Z"
   },
   {
    "duration": 22,
    "start_time": "2022-03-05T20:08:10.776Z"
   },
   {
    "duration": 15,
    "start_time": "2022-03-05T20:08:10.801Z"
   },
   {
    "duration": 121,
    "start_time": "2022-03-05T20:08:10.823Z"
   },
   {
    "duration": 35,
    "start_time": "2022-03-05T20:08:10.949Z"
   },
   {
    "duration": 3622,
    "start_time": "2022-03-05T20:08:10.987Z"
   },
   {
    "duration": 761,
    "start_time": "2022-03-05T20:08:14.612Z"
   },
   {
    "duration": 1869,
    "start_time": "2022-03-05T20:08:15.383Z"
   },
   {
    "duration": 6,
    "start_time": "2022-03-05T20:08:17.254Z"
   },
   {
    "duration": 11,
    "start_time": "2022-03-05T20:08:17.282Z"
   },
   {
    "duration": 98,
    "start_time": "2022-03-05T20:08:17.296Z"
   },
   {
    "duration": 185,
    "start_time": "2022-03-05T20:08:17.398Z"
   },
   {
    "duration": 529,
    "start_time": "2022-03-05T20:08:17.586Z"
   },
   {
    "duration": 17,
    "start_time": "2022-03-05T20:08:18.118Z"
   },
   {
    "duration": 54,
    "start_time": "2022-03-05T20:08:18.138Z"
   },
   {
    "duration": 14,
    "start_time": "2022-03-05T20:08:18.194Z"
   },
   {
    "duration": 844,
    "start_time": "2022-03-05T20:08:18.211Z"
   },
   {
    "duration": 6,
    "start_time": "2022-03-05T20:08:19.058Z"
   },
   {
    "duration": 1715,
    "start_time": "2022-03-05T20:08:19.082Z"
   },
   {
    "duration": 20,
    "start_time": "2022-03-05T20:08:20.800Z"
   },
   {
    "duration": 5069,
    "start_time": "2022-03-05T20:08:20.823Z"
   },
   {
    "duration": 1024,
    "start_time": "2022-03-05T20:08:25.895Z"
   },
   {
    "duration": 1222,
    "start_time": "2022-03-06T10:21:30.133Z"
   },
   {
    "duration": 170,
    "start_time": "2022-03-06T10:21:31.357Z"
   },
   {
    "duration": 5,
    "start_time": "2022-03-06T10:21:31.530Z"
   },
   {
    "duration": 29,
    "start_time": "2022-03-06T10:21:31.537Z"
   },
   {
    "duration": 20,
    "start_time": "2022-03-06T10:21:31.568Z"
   },
   {
    "duration": 14,
    "start_time": "2022-03-06T10:21:31.589Z"
   },
   {
    "duration": 51,
    "start_time": "2022-03-06T10:21:31.605Z"
   },
   {
    "duration": 10,
    "start_time": "2022-03-06T10:21:31.658Z"
   },
   {
    "duration": 2041,
    "start_time": "2022-03-06T10:21:31.671Z"
   },
   {
    "duration": 449,
    "start_time": "2022-03-06T10:21:33.714Z"
   },
   {
    "duration": 1202,
    "start_time": "2022-03-06T10:21:34.165Z"
   },
   {
    "duration": 3,
    "start_time": "2022-03-06T10:21:35.369Z"
   },
   {
    "duration": 9,
    "start_time": "2022-03-06T10:21:35.374Z"
   },
   {
    "duration": 30,
    "start_time": "2022-03-06T10:21:35.384Z"
   },
   {
    "duration": 49,
    "start_time": "2022-03-06T10:21:35.416Z"
   },
   {
    "duration": 436,
    "start_time": "2022-03-06T10:21:35.467Z"
   },
   {
    "duration": 9,
    "start_time": "2022-03-06T10:21:35.905Z"
   },
   {
    "duration": 22,
    "start_time": "2022-03-06T10:21:35.916Z"
   },
   {
    "duration": 530,
    "start_time": "2022-03-06T10:21:35.940Z"
   },
   {
    "duration": 77907,
    "start_time": "2022-03-06T10:21:36.471Z"
   },
   {
    "duration": 1495,
    "start_time": "2022-03-06T10:22:54.380Z"
   },
   {
    "duration": 88,
    "start_time": "2022-03-06T10:22:55.877Z"
   },
   {
    "duration": 3012,
    "start_time": "2022-03-06T10:22:55.968Z"
   },
   {
    "duration": 561,
    "start_time": "2022-03-06T10:22:58.982Z"
   },
   {
    "duration": 20,
    "start_time": "2022-03-06T10:22:59.544Z"
   },
   {
    "duration": 79822,
    "start_time": "2022-03-06T10:24:39.694Z"
   },
   {
    "duration": 315,
    "start_time": "2022-03-06T10:27:24.527Z"
   },
   {
    "duration": 1012,
    "start_time": "2022-03-06T10:27:37.038Z"
   },
   {
    "duration": 1150,
    "start_time": "2022-03-06T10:27:56.662Z"
   },
   {
    "duration": 307,
    "start_time": "2022-03-06T10:29:27.612Z"
   },
   {
    "duration": 199,
    "start_time": "2022-03-06T10:29:47.946Z"
   },
   {
    "duration": 73,
    "start_time": "2022-03-06T10:30:50.455Z"
   },
   {
    "duration": 179,
    "start_time": "2022-03-06T10:31:03.606Z"
   },
   {
    "duration": 241,
    "start_time": "2022-03-06T10:31:14.311Z"
   },
   {
    "duration": 582,
    "start_time": "2022-03-06T11:21:51.190Z"
   },
   {
    "duration": 1174,
    "start_time": "2022-03-06T11:48:50.271Z"
   },
   {
    "duration": 125,
    "start_time": "2022-03-06T11:48:51.447Z"
   },
   {
    "duration": 5,
    "start_time": "2022-03-06T11:48:51.574Z"
   },
   {
    "duration": 9,
    "start_time": "2022-03-06T11:48:51.581Z"
   },
   {
    "duration": 13,
    "start_time": "2022-03-06T11:48:51.591Z"
   },
   {
    "duration": 8,
    "start_time": "2022-03-06T11:48:51.605Z"
   },
   {
    "duration": 76,
    "start_time": "2022-03-06T11:48:51.614Z"
   },
   {
    "duration": 10,
    "start_time": "2022-03-06T11:48:51.693Z"
   },
   {
    "duration": 2282,
    "start_time": "2022-03-06T11:48:51.705Z"
   },
   {
    "duration": 552,
    "start_time": "2022-03-06T11:48:53.989Z"
   },
   {
    "duration": 1447,
    "start_time": "2022-03-06T11:48:54.543Z"
   },
   {
    "duration": 5,
    "start_time": "2022-03-06T11:48:55.992Z"
   },
   {
    "duration": 21,
    "start_time": "2022-03-06T11:48:55.999Z"
   },
   {
    "duration": 958,
    "start_time": "2022-03-06T11:48:56.022Z"
   },
   {
    "duration": 91,
    "start_time": "2022-03-06T11:48:56.982Z"
   },
   {
    "duration": 366,
    "start_time": "2022-03-06T11:48:57.164Z"
   },
   {
    "duration": 12,
    "start_time": "2022-03-06T11:48:57.532Z"
   },
   {
    "duration": 23,
    "start_time": "2022-03-06T11:48:57.546Z"
   },
   {
    "duration": 664,
    "start_time": "2022-03-06T11:48:57.571Z"
   },
   {
    "duration": 79868,
    "start_time": "2022-03-06T11:48:58.237Z"
   },
   {
    "duration": 1561,
    "start_time": "2022-03-06T11:50:18.107Z"
   },
   {
    "duration": 13,
    "start_time": "2022-03-06T11:50:19.670Z"
   },
   {
    "duration": 253,
    "start_time": "2022-03-06T11:50:19.686Z"
   },
   {
    "duration": 3090,
    "start_time": "2022-03-06T11:50:19.941Z"
   },
   {
    "duration": 586,
    "start_time": "2022-03-06T11:50:23.033Z"
   },
   {
    "duration": 1588,
    "start_time": "2022-03-07T04:35:53.488Z"
   },
   {
    "duration": 215,
    "start_time": "2022-03-07T04:35:55.079Z"
   },
   {
    "duration": 7,
    "start_time": "2022-03-07T04:35:55.296Z"
   },
   {
    "duration": 12,
    "start_time": "2022-03-07T04:35:55.307Z"
   },
   {
    "duration": 23,
    "start_time": "2022-03-07T04:35:55.321Z"
   },
   {
    "duration": 36,
    "start_time": "2022-03-07T04:35:55.347Z"
   },
   {
    "duration": 141,
    "start_time": "2022-03-07T04:35:55.386Z"
   },
   {
    "duration": 64,
    "start_time": "2022-03-07T04:35:55.533Z"
   },
   {
    "duration": 3329,
    "start_time": "2022-03-07T04:35:55.601Z"
   },
   {
    "duration": 705,
    "start_time": "2022-03-07T04:35:58.933Z"
   },
   {
    "duration": 1791,
    "start_time": "2022-03-07T04:35:59.641Z"
   },
   {
    "duration": 7,
    "start_time": "2022-03-07T04:36:01.435Z"
   },
   {
    "duration": 16,
    "start_time": "2022-03-07T04:36:01.445Z"
   },
   {
    "duration": 119,
    "start_time": "2022-03-07T04:36:01.464Z"
   },
   {
    "duration": 106,
    "start_time": "2022-03-07T04:36:01.586Z"
   },
   {
    "duration": 492,
    "start_time": "2022-03-07T04:36:01.694Z"
   },
   {
    "duration": 14,
    "start_time": "2022-03-07T04:36:02.188Z"
   },
   {
    "duration": 26,
    "start_time": "2022-03-07T04:36:02.204Z"
   },
   {
    "duration": 808,
    "start_time": "2022-03-07T04:36:02.232Z"
   },
   {
    "duration": 132123,
    "start_time": "2022-03-07T04:36:03.042Z"
   },
   {
    "duration": 1720,
    "start_time": "2022-03-07T04:38:15.168Z"
   },
   {
    "duration": 21,
    "start_time": "2022-03-07T04:38:16.891Z"
   },
   {
    "duration": 411,
    "start_time": "2022-03-07T04:38:16.918Z"
   },
   {
    "duration": 4893,
    "start_time": "2022-03-07T04:38:17.332Z"
   },
   {
    "duration": 954,
    "start_time": "2022-03-07T04:38:22.228Z"
   },
   {
    "duration": 1471,
    "start_time": "2022-03-07T06:18:29.308Z"
   },
   {
    "duration": 144,
    "start_time": "2022-03-07T06:18:30.782Z"
   },
   {
    "duration": 8,
    "start_time": "2022-03-07T06:18:30.932Z"
   },
   {
    "duration": 30,
    "start_time": "2022-03-07T06:18:30.942Z"
   },
   {
    "duration": 39,
    "start_time": "2022-03-07T06:18:30.975Z"
   },
   {
    "duration": 20,
    "start_time": "2022-03-07T06:18:31.016Z"
   },
   {
    "duration": 68,
    "start_time": "2022-03-07T06:18:31.040Z"
   },
   {
    "duration": 15,
    "start_time": "2022-03-07T06:18:31.111Z"
   },
   {
    "duration": 3471,
    "start_time": "2022-03-07T06:18:31.128Z"
   },
   {
    "duration": 811,
    "start_time": "2022-03-07T06:18:34.601Z"
   },
   {
    "duration": 1864,
    "start_time": "2022-03-07T06:18:35.415Z"
   },
   {
    "duration": 12,
    "start_time": "2022-03-07T06:18:37.281Z"
   },
   {
    "duration": 9,
    "start_time": "2022-03-07T06:18:37.296Z"
   },
   {
    "duration": 81,
    "start_time": "2022-03-07T06:18:37.308Z"
   },
   {
    "duration": 198,
    "start_time": "2022-03-07T06:18:37.392Z"
   },
   {
    "duration": 532,
    "start_time": "2022-03-07T06:18:37.592Z"
   },
   {
    "duration": 13,
    "start_time": "2022-03-07T06:18:38.126Z"
   },
   {
    "duration": 10,
    "start_time": "2022-03-07T06:18:38.141Z"
   },
   {
    "duration": 808,
    "start_time": "2022-03-07T06:18:38.154Z"
   },
   {
    "duration": 379,
    "start_time": "2022-03-07T06:18:38.964Z"
   },
   {
    "duration": 829,
    "start_time": "2022-03-07T06:18:38.516Z"
   },
   {
    "duration": 815,
    "start_time": "2022-03-07T06:18:38.531Z"
   },
   {
    "duration": 815,
    "start_time": "2022-03-07T06:18:38.533Z"
   },
   {
    "duration": 814,
    "start_time": "2022-03-07T06:18:38.535Z"
   },
   {
    "duration": 813,
    "start_time": "2022-03-07T06:18:38.537Z"
   },
   {
    "duration": 236,
    "start_time": "2022-03-07T06:19:17.727Z"
   },
   {
    "duration": 267,
    "start_time": "2022-03-07T06:19:29.919Z"
   },
   {
    "duration": 1842,
    "start_time": "2022-03-07T06:19:43.398Z"
   },
   {
    "duration": 1482,
    "start_time": "2022-03-07T06:19:55.074Z"
   },
   {
    "duration": 71,
    "start_time": "2022-03-07T06:19:56.558Z"
   },
   {
    "duration": 7,
    "start_time": "2022-03-07T06:19:56.632Z"
   },
   {
    "duration": 13,
    "start_time": "2022-03-07T06:19:56.642Z"
   },
   {
    "duration": 19,
    "start_time": "2022-03-07T06:19:56.657Z"
   },
   {
    "duration": 13,
    "start_time": "2022-03-07T06:19:56.678Z"
   },
   {
    "duration": 71,
    "start_time": "2022-03-07T06:19:56.693Z"
   },
   {
    "duration": 16,
    "start_time": "2022-03-07T06:19:56.788Z"
   },
   {
    "duration": 3458,
    "start_time": "2022-03-07T06:19:56.808Z"
   },
   {
    "duration": 768,
    "start_time": "2022-03-07T06:20:00.269Z"
   },
   {
    "duration": 1914,
    "start_time": "2022-03-07T06:20:01.040Z"
   },
   {
    "duration": 7,
    "start_time": "2022-03-07T06:20:02.957Z"
   },
   {
    "duration": 31,
    "start_time": "2022-03-07T06:20:02.966Z"
   },
   {
    "duration": 96,
    "start_time": "2022-03-07T06:20:02.999Z"
   },
   {
    "duration": 13,
    "start_time": "2022-03-07T06:20:03.188Z"
   },
   {
    "duration": 613,
    "start_time": "2022-03-07T06:20:03.204Z"
   },
   {
    "duration": 13,
    "start_time": "2022-03-07T06:20:03.820Z"
   },
   {
    "duration": 16,
    "start_time": "2022-03-07T06:20:03.836Z"
   },
   {
    "duration": 812,
    "start_time": "2022-03-07T06:20:03.854Z"
   },
   {
    "duration": 398,
    "start_time": "2022-03-07T06:20:04.668Z"
   },
   {
    "duration": 820,
    "start_time": "2022-03-07T06:20:04.249Z"
   },
   {
    "duration": 817,
    "start_time": "2022-03-07T06:20:04.253Z"
   },
   {
    "duration": 816,
    "start_time": "2022-03-07T06:20:04.255Z"
   },
   {
    "duration": 813,
    "start_time": "2022-03-07T06:20:04.260Z"
   },
   {
    "duration": 812,
    "start_time": "2022-03-07T06:20:04.262Z"
   },
   {
    "duration": 1472,
    "start_time": "2022-03-07T06:23:39.537Z"
   },
   {
    "duration": 48,
    "start_time": "2022-03-07T06:23:41.012Z"
   },
   {
    "duration": 7,
    "start_time": "2022-03-07T06:23:41.063Z"
   },
   {
    "duration": 19,
    "start_time": "2022-03-07T06:23:41.073Z"
   },
   {
    "duration": 19,
    "start_time": "2022-03-07T06:23:41.094Z"
   },
   {
    "duration": 14,
    "start_time": "2022-03-07T06:23:41.115Z"
   },
   {
    "duration": 86,
    "start_time": "2022-03-07T06:23:41.131Z"
   },
   {
    "duration": 14,
    "start_time": "2022-03-07T06:23:41.221Z"
   },
   {
    "duration": 3465,
    "start_time": "2022-03-07T06:23:41.238Z"
   },
   {
    "duration": 773,
    "start_time": "2022-03-07T06:23:44.705Z"
   },
   {
    "duration": 1884,
    "start_time": "2022-03-07T06:23:45.481Z"
   },
   {
    "duration": 4,
    "start_time": "2022-03-07T06:23:47.367Z"
   },
   {
    "duration": 18,
    "start_time": "2022-03-07T06:23:47.374Z"
   },
   {
    "duration": 97,
    "start_time": "2022-03-07T06:23:47.394Z"
   },
   {
    "duration": 196,
    "start_time": "2022-03-07T06:23:47.494Z"
   },
   {
    "duration": 526,
    "start_time": "2022-03-07T06:23:47.693Z"
   },
   {
    "duration": 16,
    "start_time": "2022-03-07T06:23:48.221Z"
   },
   {
    "duration": 9,
    "start_time": "2022-03-07T06:23:48.240Z"
   },
   {
    "duration": 811,
    "start_time": "2022-03-07T06:23:48.252Z"
   },
   {
    "duration": 141280,
    "start_time": "2022-03-07T06:23:49.065Z"
   },
   {
    "duration": 1947,
    "start_time": "2022-03-07T06:26:10.347Z"
   },
   {
    "duration": 19,
    "start_time": "2022-03-07T06:26:12.296Z"
   },
   {
    "duration": 454,
    "start_time": "2022-03-07T06:26:12.320Z"
   },
   {
    "duration": 5390,
    "start_time": "2022-03-07T06:26:12.777Z"
   },
   {
    "duration": 1073,
    "start_time": "2022-03-07T06:26:18.170Z"
   },
   {
    "duration": 87,
    "start_time": "2022-03-07T06:44:18.812Z"
   },
   {
    "duration": 73,
    "start_time": "2022-03-07T06:45:55.232Z"
   },
   {
    "duration": 71,
    "start_time": "2022-03-07T06:46:16.488Z"
   },
   {
    "duration": 1490,
    "start_time": "2022-03-07T06:46:31.999Z"
   },
   {
    "duration": 62,
    "start_time": "2022-03-07T06:46:33.492Z"
   },
   {
    "duration": 8,
    "start_time": "2022-03-07T06:46:33.557Z"
   },
   {
    "duration": 24,
    "start_time": "2022-03-07T06:46:33.569Z"
   },
   {
    "duration": 26,
    "start_time": "2022-03-07T06:46:33.596Z"
   },
   {
    "duration": 15,
    "start_time": "2022-03-07T06:46:33.624Z"
   },
   {
    "duration": 100,
    "start_time": "2022-03-07T06:46:33.641Z"
   },
   {
    "duration": 15,
    "start_time": "2022-03-07T06:46:33.747Z"
   },
   {
    "duration": 3645,
    "start_time": "2022-03-07T06:46:33.787Z"
   },
   {
    "duration": 772,
    "start_time": "2022-03-07T06:46:37.435Z"
   },
   {
    "duration": 1947,
    "start_time": "2022-03-07T06:46:38.210Z"
   },
   {
    "duration": 7,
    "start_time": "2022-03-07T06:46:40.160Z"
   },
   {
    "duration": 10,
    "start_time": "2022-03-07T06:46:40.186Z"
   },
   {
    "duration": 94,
    "start_time": "2022-03-07T06:46:40.199Z"
   },
   {
    "duration": 102,
    "start_time": "2022-03-07T06:46:40.386Z"
   },
   {
    "duration": 540,
    "start_time": "2022-03-07T06:46:40.491Z"
   },
   {
    "duration": 13,
    "start_time": "2022-03-07T06:46:41.033Z"
   },
   {
    "duration": 11,
    "start_time": "2022-03-07T06:46:41.048Z"
   },
   {
    "duration": 802,
    "start_time": "2022-03-07T06:46:41.061Z"
   },
   {
    "duration": 137939,
    "start_time": "2022-03-07T06:46:41.866Z"
   },
   {
    "duration": 1784,
    "start_time": "2022-03-07T06:48:59.808Z"
   },
   {
    "duration": 18,
    "start_time": "2022-03-07T06:49:01.594Z"
   },
   {
    "duration": 423,
    "start_time": "2022-03-07T06:49:01.615Z"
   },
   {
    "duration": 5103,
    "start_time": "2022-03-07T06:49:02.040Z"
   },
   {
    "duration": 991,
    "start_time": "2022-03-07T06:49:07.146Z"
   },
   {
    "duration": 1137,
    "start_time": "2022-03-07T13:07:01.434Z"
   },
   {
    "duration": 199,
    "start_time": "2022-03-07T13:07:02.573Z"
   },
   {
    "duration": 5,
    "start_time": "2022-03-07T13:07:02.774Z"
   },
   {
    "duration": 8,
    "start_time": "2022-03-07T13:07:02.781Z"
   },
   {
    "duration": 12,
    "start_time": "2022-03-07T13:07:02.791Z"
   },
   {
    "duration": 7,
    "start_time": "2022-03-07T13:07:02.805Z"
   },
   {
    "duration": 40,
    "start_time": "2022-03-07T13:07:02.814Z"
   },
   {
    "duration": 10,
    "start_time": "2022-03-07T13:07:02.856Z"
   },
   {
    "duration": 2208,
    "start_time": "2022-03-07T13:07:02.868Z"
   },
   {
    "duration": 472,
    "start_time": "2022-03-07T13:07:05.078Z"
   },
   {
    "duration": 1512,
    "start_time": "2022-03-07T13:07:05.552Z"
   },
   {
    "duration": 5,
    "start_time": "2022-03-07T13:07:07.066Z"
   },
   {
    "duration": 9,
    "start_time": "2022-03-07T13:07:07.073Z"
   },
   {
    "duration": 44,
    "start_time": "2022-03-07T13:07:07.084Z"
   },
   {
    "duration": 85,
    "start_time": "2022-03-07T13:07:07.130Z"
   },
   {
    "duration": 434,
    "start_time": "2022-03-07T13:07:07.306Z"
   },
   {
    "duration": 8,
    "start_time": "2022-03-07T13:07:07.742Z"
   },
   {
    "duration": 8,
    "start_time": "2022-03-07T13:07:07.752Z"
   },
   {
    "duration": 512,
    "start_time": "2022-03-07T13:07:07.762Z"
   },
   {
    "duration": 81295,
    "start_time": "2022-03-07T13:07:08.276Z"
   },
   {
    "duration": 1534,
    "start_time": "2022-03-07T13:08:29.572Z"
   },
   {
    "duration": 12,
    "start_time": "2022-03-07T13:08:31.108Z"
   },
   {
    "duration": 242,
    "start_time": "2022-03-07T13:08:31.123Z"
   },
   {
    "duration": 2894,
    "start_time": "2022-03-07T13:08:31.366Z"
   },
   {
    "duration": 559,
    "start_time": "2022-03-07T13:08:34.262Z"
   }
  ],
  "kernelspec": {
   "display_name": "Python 3 (ipykernel)",
   "language": "python",
   "name": "python3"
  },
  "language_info": {
   "codemirror_mode": {
    "name": "ipython",
    "version": 3
   },
   "file_extension": ".py",
   "mimetype": "text/x-python",
   "name": "python",
   "nbconvert_exporter": "python",
   "pygments_lexer": "ipython3",
   "version": "3.9.7"
  },
  "toc": {
   "base_numbering": 1,
   "nav_menu": {},
   "number_sections": true,
   "sideBar": true,
   "skip_h1_title": true,
   "title_cell": "Table of Contents",
   "title_sidebar": "Contents",
   "toc_cell": false,
   "toc_position": {},
   "toc_section_display": true,
   "toc_window_display": false
  }
 },
 "nbformat": 4,
 "nbformat_minor": 2
}
